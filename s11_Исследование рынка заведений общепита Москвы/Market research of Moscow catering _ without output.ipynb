{
 "cells": [
  {
   "cell_type": "markdown",
   "metadata": {
    "toc": true
   },
   "source": [
    "<h1>Содержание<span class=\"tocSkip\"></span></h1>\n",
    "<div class=\"toc\"><ul class=\"toc-item\"><li><span><a href=\"#Загрузка-данных,-изучение-общей-информации\" data-toc-modified-id=\"Загрузка-данных,-изучение-общей-информации-1\"><span class=\"toc-item-num\">1&nbsp;&nbsp;</span>Загрузка данных, изучение общей информации</a></span><ul class=\"toc-item\"><li><span><a href=\"#Импорт-библиотек.--Предварительные-настройки\" data-toc-modified-id=\"Импорт-библиотек.--Предварительные-настройки-1.1\"><span class=\"toc-item-num\">1.1&nbsp;&nbsp;</span>Импорт библиотек.  Предварительные настройки</a></span></li><li><span><a href=\"#Считывание-данных-из-исходного-файла\" data-toc-modified-id=\"Считывание-данных-из-исходного-файла-1.2\"><span class=\"toc-item-num\">1.2&nbsp;&nbsp;</span>Считывание данных из исходного файла</a></span></li><li><span><a href=\"#Первичный-обзор-данных\" data-toc-modified-id=\"Первичный-обзор-данных-1.3\"><span class=\"toc-item-num\">1.3&nbsp;&nbsp;</span>Первичный обзор данных</a></span><ul class=\"toc-item\"><li><span><a href=\"#Обзор-датасета\" data-toc-modified-id=\"Обзор-датасета-1.3.1\"><span class=\"toc-item-num\">1.3.1&nbsp;&nbsp;</span>Обзор датасета</a></span></li><li><span><a href=\"#Описание-столбцов-датасета\" data-toc-modified-id=\"Описание-столбцов-датасета-1.3.2\"><span class=\"toc-item-num\">1.3.2&nbsp;&nbsp;</span>Описание столбцов датасета</a></span></li><li><span><a href=\"#Комментарии-к-обзору\" data-toc-modified-id=\"Комментарии-к-обзору-1.3.3\"><span class=\"toc-item-num\">1.3.3&nbsp;&nbsp;</span>Комментарии к обзору</a></span></li></ul></li></ul></li><li><span><a href=\"#Предобработка-данных\" data-toc-modified-id=\"Предобработка-данных-2\"><span class=\"toc-item-num\">2&nbsp;&nbsp;</span>Предобработка данных</a></span><ul class=\"toc-item\"><li><span><a href=\"#Обработка-пропусков\" data-toc-modified-id=\"Обработка-пропусков-2.1\"><span class=\"toc-item-num\">2.1&nbsp;&nbsp;</span>Обработка пропусков</a></span></li><li><span><a href=\"#Количество-дубликатов\" data-toc-modified-id=\"Количество-дубликатов-2.2\"><span class=\"toc-item-num\">2.2&nbsp;&nbsp;</span>Количество дубликатов</a></span></li><li><span><a href=\"#Представленные-данные\" data-toc-modified-id=\"Представленные-данные-2.3\"><span class=\"toc-item-num\">2.3&nbsp;&nbsp;</span>Представленные данные</a></span><ul class=\"toc-item\"><li><span><a href=\"#Название-заведения\" data-toc-modified-id=\"Название-заведения-2.3.1\"><span class=\"toc-item-num\">2.3.1&nbsp;&nbsp;</span>Название заведения</a></span></li><li><span><a href=\"#Категория-заведения\" data-toc-modified-id=\"Категория-заведения-2.3.2\"><span class=\"toc-item-num\">2.3.2&nbsp;&nbsp;</span>Категория заведения</a></span></li><li><span><a href=\"#Адрес-заведения\" data-toc-modified-id=\"Адрес-заведения-2.3.3\"><span class=\"toc-item-num\">2.3.3&nbsp;&nbsp;</span>Адрес заведения</a></span></li><li><span><a href=\"#Административный-район\" data-toc-modified-id=\"Административный-район-2.3.4\"><span class=\"toc-item-num\">2.3.4&nbsp;&nbsp;</span>Административный район</a></span></li><li><span><a href=\"#Режим-работы\" data-toc-modified-id=\"Режим-работы-2.3.5\"><span class=\"toc-item-num\">2.3.5&nbsp;&nbsp;</span>Режим работы</a></span></li><li><span><a href=\"#Географические-координаты\" data-toc-modified-id=\"Географические-координаты-2.3.6\"><span class=\"toc-item-num\">2.3.6&nbsp;&nbsp;</span>Географические координаты</a></span></li><li><span><a href=\"#Рейтинг-заведений\" data-toc-modified-id=\"Рейтинг-заведений-2.3.7\"><span class=\"toc-item-num\">2.3.7&nbsp;&nbsp;</span>Рейтинг заведений</a></span></li><li><span><a href=\"#Категория-цен\" data-toc-modified-id=\"Категория-цен-2.3.8\"><span class=\"toc-item-num\">2.3.8&nbsp;&nbsp;</span>Категория цен</a></span></li><li><span><a href=\"#Средняя-стоимость-заказа\" data-toc-modified-id=\"Средняя-стоимость-заказа-2.3.9\"><span class=\"toc-item-num\">2.3.9&nbsp;&nbsp;</span>Средняя стоимость заказа</a></span></li><li><span><a href=\"#Оценка-среднего-чека\" data-toc-modified-id=\"Оценка-среднего-чека-2.3.10\"><span class=\"toc-item-num\">2.3.10&nbsp;&nbsp;</span>Оценка среднего чека</a></span></li><li><span><a href=\"#Оценка-стоимости-чашки-капучино\" data-toc-modified-id=\"Оценка-стоимости-чашки-капучино-2.3.11\"><span class=\"toc-item-num\">2.3.11&nbsp;&nbsp;</span>Оценка стоимости чашки капучино</a></span></li><li><span><a href=\"#Признак-сетевого-заведения\" data-toc-modified-id=\"Признак-сетевого-заведения-2.3.12\"><span class=\"toc-item-num\">2.3.12&nbsp;&nbsp;</span>Признак сетевого заведения</a></span></li><li><span><a href=\"#Количество-посадочных-мест\" data-toc-modified-id=\"Количество-посадочных-мест-2.3.13\"><span class=\"toc-item-num\">2.3.13&nbsp;&nbsp;</span>Количество посадочных мест</a></span></li></ul></li><li><span><a href=\"#Выделение-названия-улицы-из--полного-адреса\" data-toc-modified-id=\"Выделение-названия-улицы-из--полного-адреса-2.4\"><span class=\"toc-item-num\">2.4&nbsp;&nbsp;</span>Выделение названия улицы из  полного адреса</a></span></li><li><span><a href=\"#Круглосуточные-(ежедневные)-заведения\" data-toc-modified-id=\"Круглосуточные-(ежедневные)-заведения-2.5\"><span class=\"toc-item-num\">2.5&nbsp;&nbsp;</span>Круглосуточные (ежедневные) заведения</a></span></li><li><span><a href=\"#Вывод-по-предобработке\" data-toc-modified-id=\"Вывод-по-предобработке-2.6\"><span class=\"toc-item-num\">2.6&nbsp;&nbsp;</span>Вывод по предобработке</a></span><ul class=\"toc-item\"><li><span><a href=\"#Дубликаты-и-пропуски-в-данных\" data-toc-modified-id=\"Дубликаты-и-пропуски-в-данных-2.6.1\"><span class=\"toc-item-num\">2.6.1&nbsp;&nbsp;</span>Дубликаты и пропуски в данных</a></span></li><li><span><a href=\"#Представленные-данные\" data-toc-modified-id=\"Представленные-данные-2.6.2\"><span class=\"toc-item-num\">2.6.2&nbsp;&nbsp;</span>Представленные данные</a></span></li></ul></li></ul></li><li><span><a href=\"#Анализ-данных\" data-toc-modified-id=\"Анализ-данных-3\"><span class=\"toc-item-num\">3&nbsp;&nbsp;</span>Анализ данных</a></span><ul class=\"toc-item\"><li><span><a href=\"#Категории-заведений,-количество-посадочных-мест\" data-toc-modified-id=\"Категории-заведений,-количество-посадочных-мест-3.1\"><span class=\"toc-item-num\">3.1&nbsp;&nbsp;</span>Категории заведений, количество посадочных мест</a></span><ul class=\"toc-item\"><li><span><a href=\"#Категории\" data-toc-modified-id=\"Категории-3.1.1\"><span class=\"toc-item-num\">3.1.1&nbsp;&nbsp;</span>Категории</a></span></li><li><span><a href=\"#Посадочные-места\" data-toc-modified-id=\"Посадочные-места-3.1.2\"><span class=\"toc-item-num\">3.1.2&nbsp;&nbsp;</span>Посадочные места</a></span></li><li><span><a href=\"#Вывод-по-пункту-&quot;Категории-заведений,-количество-посадочных-мест&quot;\" data-toc-modified-id=\"Вывод-по-пункту-&quot;Категории-заведений,-количество-посадочных-мест&quot;-3.1.3\"><span class=\"toc-item-num\">3.1.3&nbsp;&nbsp;</span>Вывод по пункту \"Категории заведений, количество посадочных мест\"</a></span></li></ul></li><li><span><a href=\"#Сетевые-заведения\" data-toc-modified-id=\"Сетевые-заведения-3.2\"><span class=\"toc-item-num\">3.2&nbsp;&nbsp;</span>Сетевые заведения</a></span><ul class=\"toc-item\"><li><span><a href=\"#Сетевые-и-несетевые-заведения\" data-toc-modified-id=\"Сетевые-и-несетевые-заведения-3.2.1\"><span class=\"toc-item-num\">3.2.1&nbsp;&nbsp;</span>Сетевые и несетевые заведения</a></span></li><li><span><a href=\"#Несетевые-заведения\" data-toc-modified-id=\"Несетевые-заведения-3.2.2\"><span class=\"toc-item-num\">3.2.2&nbsp;&nbsp;</span>Несетевые заведения</a></span></li><li><span><a href=\"#Cетевой-общепит\" data-toc-modified-id=\"Cетевой-общепит-3.2.3\"><span class=\"toc-item-num\">3.2.3&nbsp;&nbsp;</span>Cетевой общепит</a></span></li><li><span><a href=\"#Категориии--сетевых-заведений\" data-toc-modified-id=\"Категориии--сетевых-заведений-3.2.4\"><span class=\"toc-item-num\">3.2.4&nbsp;&nbsp;</span>Категориии  сетевых заведений</a></span></li><li><span><a href=\"#ТОП-15--сетей-по-количеству-заведений\" data-toc-modified-id=\"ТОП-15--сетей-по-количеству-заведений-3.2.5\"><span class=\"toc-item-num\">3.2.5&nbsp;&nbsp;</span>ТОП-15  сетей по количеству заведений</a></span></li><li><span><a href=\"#Распределение-сетей-по-районам\" data-toc-modified-id=\"Распределение-сетей-по-районам-3.2.6\"><span class=\"toc-item-num\">3.2.6&nbsp;&nbsp;</span>Распределение сетей по районам</a></span></li><li><span><a href=\"#Вывод-по-пункту-&quot;Сетевые-заведения&quot;\" data-toc-modified-id=\"Вывод-по-пункту-&quot;Сетевые-заведения&quot;-3.2.7\"><span class=\"toc-item-num\">3.2.7&nbsp;&nbsp;</span>Вывод по пункту \"Сетевые заведения\"</a></span></li></ul></li><li><span><a href=\"#Административные--округа-(районы)\" data-toc-modified-id=\"Административные--округа-(районы)-3.3\"><span class=\"toc-item-num\">3.3&nbsp;&nbsp;</span>Административные  округа (районы)</a></span></li><li><span><a href=\"#Рейтинги-пользователей\" data-toc-modified-id=\"Рейтинги-пользователей-3.4\"><span class=\"toc-item-num\">3.4&nbsp;&nbsp;</span>Рейтинги пользователей</a></span></li><li><span><a href=\"#Улицы-города\" data-toc-modified-id=\"Улицы-города-3.5\"><span class=\"toc-item-num\">3.5&nbsp;&nbsp;</span>Улицы города</a></span></li><li><span><a href=\"#Значения-средних-чеков-(middle_avg_bill)\" data-toc-modified-id=\"Значения-средних-чеков-(middle_avg_bill)-3.6\"><span class=\"toc-item-num\">3.6&nbsp;&nbsp;</span>Значения средних чеков (middle_avg_bill)</a></span></li><li><span><a href=\"#Общий-вывод-по-разделу-&quot;Анализ-данных&quot;\" data-toc-modified-id=\"Общий-вывод-по-разделу-&quot;Анализ-данных&quot;-3.7\"><span class=\"toc-item-num\">3.7&nbsp;&nbsp;</span>Общий вывод по разделу \"Анализ данных\"</a></span></li></ul></li><li><span><a href=\"#Детализируем-исследование:-открытие-кофейни\" data-toc-modified-id=\"Детализируем-исследование:-открытие-кофейни-4\"><span class=\"toc-item-num\">4&nbsp;&nbsp;</span>Детализируем исследование: открытие кофейни</a></span><ul class=\"toc-item\"><li><span><a href=\"#Что-мы-знаем-о-кафе-«Central-Perk»**\" data-toc-modified-id=\"Что-мы-знаем-о-кафе-«Central-Perk»**-4.1\"><span class=\"toc-item-num\">4.1&nbsp;&nbsp;</span>Что мы знаем о кафе «Central Perk»**</a></span></li><li><span><a href=\"#Срез-датасета-по-условиям\" data-toc-modified-id=\"Срез-датасета-по-условиям-4.2\"><span class=\"toc-item-num\">4.2&nbsp;&nbsp;</span>Срез датасета по условиям</a></span></li><li><span><a href=\"#Предварительный-анализ\" data-toc-modified-id=\"Предварительный-анализ-4.3\"><span class=\"toc-item-num\">4.3&nbsp;&nbsp;</span>Предварительный анализ</a></span><ul class=\"toc-item\"><li><span><a href=\"#Географическое-распределение\" data-toc-modified-id=\"Географическое-распределение-4.3.1\"><span class=\"toc-item-num\">4.3.1&nbsp;&nbsp;</span>Географическое распределение</a></span></li><li><span><a href=\"#Категории-заведений\" data-toc-modified-id=\"Категории-заведений-4.3.2\"><span class=\"toc-item-num\">4.3.2&nbsp;&nbsp;</span>Категории заведений</a></span></li><li><span><a href=\"#Сетевой-признак-заведения-общепита\" data-toc-modified-id=\"Сетевой-признак-заведения-общепита-4.3.3\"><span class=\"toc-item-num\">4.3.3&nbsp;&nbsp;</span>Сетевой признак заведения общепита</a></span></li><li><span><a href=\"#Административные-округа-(районы)\" data-toc-modified-id=\"Административные-округа-(районы)-4.3.4\"><span class=\"toc-item-num\">4.3.4&nbsp;&nbsp;</span>Административные округа (районы)</a></span></li><li><span><a href=\"#Рейтинги-пользователей\" data-toc-modified-id=\"Рейтинги-пользователей-4.3.5\"><span class=\"toc-item-num\">4.3.5&nbsp;&nbsp;</span>Рейтинги пользователей</a></span></li><li><span><a href=\"#Средние-чеки-и-средняя-цена-чашки-кофе.\" data-toc-modified-id=\"Средние-чеки-и-средняя-цена-чашки-кофе.-4.3.6\"><span class=\"toc-item-num\">4.3.6&nbsp;&nbsp;</span>Средние чеки и средняя цена чашки кофе.</a></span></li><li><span><a href=\"#Режим-работы\" data-toc-modified-id=\"Режим-работы-4.3.7\"><span class=\"toc-item-num\">4.3.7&nbsp;&nbsp;</span>Режим работы</a></span></li><li><span><a href=\"#Анализ-данных-по-точкам-общепита-в-ЦАО\" data-toc-modified-id=\"Анализ-данных-по-точкам-общепита-в-ЦАО-4.3.8\"><span class=\"toc-item-num\">4.3.8&nbsp;&nbsp;</span>Анализ данных по точкам общепита в ЦАО</a></span></li><li><span><a href=\"#Вывод-по-предварительному-исследованию\" data-toc-modified-id=\"Вывод-по-предварительному-исследованию-4.3.9\"><span class=\"toc-item-num\">4.3.9&nbsp;&nbsp;</span>Вывод по предварительному исследованию</a></span></li></ul></li><li><span><a href=\"#Резюме-по-детализированному-исследованию\" data-toc-modified-id=\"Резюме-по-детализированному-исследованию-4.4\"><span class=\"toc-item-num\">4.4&nbsp;&nbsp;</span>Резюме по детализированному исследованию</a></span></li></ul></li><li><span><a href=\"#Подготовка-презентации\" data-toc-modified-id=\"Подготовка-презентации-5\"><span class=\"toc-item-num\">5&nbsp;&nbsp;</span>Подготовка презентации</a></span></li></ul></div>"
   ]
  },
  {
   "cell_type": "markdown",
   "metadata": {},
   "source": [
    "# Take My Money"
   ]
  },
  {
   "cell_type": "markdown",
   "metadata": {},
   "source": [
    " "
   ]
  },
  {
   "cell_type": "markdown",
   "metadata": {},
   "source": [
    "**Описание проекта** "
   ]
  },
  {
   "cell_type": "markdown",
   "metadata": {},
   "source": [
    "\n",
    "\n",
    "Инвесторы из фонда «Shut Up and Take My Money» решили попробовать себя в новой области и открыть заведение общественного питания в Москве. Заказчики ещё не знают, что это будет за место: кафе, ресторан, пиццерия, паб или бар, — и какими будут расположение, меню и цены.\n",
    "\n",
    "**Задачи проекта** \n",
    "\n",
    "1. Подготовить исследование рынка Москвы.\n",
    "2. Найти интересные особенности рынка.\n",
    "3. Презентовать полученные результаты, которые в будущем помогут в выборе подходящего инвесторам места.\n",
    "\n",
    "**Данные проекта** \n",
    "1.  Доступен датасет с заведениями общественного питания Москвы, составленный на основе данных сервисов Яндекс Карты и Яндекс Бизнес на лето 2022 года. \n",
    "2. Информация, размещённая в сервисе Яндекс Бизнес, могла быть добавлена пользователями или найдена в общедоступных источниках. Она носит исключительно справочный характер."
   ]
  },
  {
   "cell_type": "markdown",
   "metadata": {},
   "source": [
    " "
   ]
  },
  {
   "cell_type": "markdown",
   "metadata": {},
   "source": [
    "##  Загрузка данных, изучение общей информации "
   ]
  },
  {
   "cell_type": "markdown",
   "metadata": {},
   "source": [
    "### Импорт библиотек.  Предварительные настройки"
   ]
  },
  {
   "cell_type": "markdown",
   "metadata": {},
   "source": [
    " **Импорт библиотек**"
   ]
  },
  {
   "cell_type": "code",
   "execution_count": null,
   "metadata": {},
   "outputs": [],
   "source": [
    "import pandas as pd              # Библиотека Pandas\n",
    "import matplotlib.pyplot as plt  # Библиотека для визуализации\n",
    "import numpy as np               # Библиотека для математических вычислений\n",
    "import seaborn as sns            # Библиотека для визуализации данных\n",
    "import plotly.express as px      # Библиотека для визуализации данных\n",
    "import datetime as dt            # Библиотека для преобразования к типу данных \"дата\"\n",
    "import math as mth               # Библиотека для математических вычислений\n",
    "from scipy import stats as st    # Библиотека для высокоуровневых математических вычислений\n",
    "from plotly import graph_objects as go # Библиотека для интерактивной визуализации\n",
    "                                 \n",
    "                                 # Библиотека для геоаналитики\n",
    "from folium import Map, Marker, Choropleth  # импортируем карту и маркер\n",
    "from folium.plugins import MarkerCluster   # импортируем кластер     \n",
    "import json                      # библиотека для работы с  json\n",
    "from geopy.distance import geodesic as GD  #библиотека для геодезических расчетов"
   ]
  },
  {
   "cell_type": "markdown",
   "metadata": {},
   "source": [
    " "
   ]
  },
  {
   "cell_type": "markdown",
   "metadata": {},
   "source": [
    " **Настройка цветовой палитры графиков**"
   ]
  },
  {
   "cell_type": "code",
   "execution_count": null,
   "metadata": {},
   "outputs": [],
   "source": [
    "sns.set_palette('deep') "
   ]
  },
  {
   "cell_type": "markdown",
   "metadata": {},
   "source": [
    " "
   ]
  },
  {
   "cell_type": "markdown",
   "metadata": {},
   "source": [
    "### Считывание данных из исходного файла"
   ]
  },
  {
   "cell_type": "markdown",
   "metadata": {},
   "source": [
    " "
   ]
  },
  {
   "cell_type": "code",
   "execution_count": null,
   "metadata": {},
   "outputs": [],
   "source": [
    "# считываем  данные и сохраняем в переменные\n",
    "\n",
    "try:\n",
    "    data = pd.read_csv('moscow_places.csv')\n",
    "except:\n",
    "    data = pd.read_csv('https://code.s3.yandex.net/datasets/moscow_places.csv')"
   ]
  },
  {
   "cell_type": "markdown",
   "metadata": {},
   "source": [
    " "
   ]
  },
  {
   "cell_type": "markdown",
   "metadata": {},
   "source": [
    " "
   ]
  },
  {
   "cell_type": "markdown",
   "metadata": {},
   "source": [
    " ### Первичный обзор данных"
   ]
  },
  {
   "cell_type": "code",
   "execution_count": null,
   "metadata": {},
   "outputs": [],
   "source": [
    " # Функция первичного обзора данных.\n",
    "\n",
    "def meet_dataset (dataset):\n",
    "    #print('Первые 5 строк датасета')\n",
    "    #print(dataset.head())\n",
    "    #print('\\n','\\n')\n",
    "    \n",
    "    print('Общая информация о датасете')\n",
    "    display(dataset.info())\n",
    "    print()\n",
    "    \n",
    "    print('Общие статистические данные')\n",
    "    display(dataset.describe())\n",
    "    print('\\n')\n",
    "          \n",
    "    print('Общие гистограммы для  столбцов датасета')\n",
    "    dataset.hist (figsize=(15,10))\n",
    "    plt.show()  \n",
    "    print('\\n','\\n')\n",
    "        \n",
    "    \n",
    "    print ('Количество дубликатов -', dataset.duplicated().sum()) \n",
    "    print ('Доля дубликатов в датасете, %:', round( 100*dataset.duplicated().sum()/dataset.shape[0], 2))\n",
    "    print()\n",
    "    \n",
    "    #print ('Количество пропусков -', dataset.isna().sum(),'\\n','\\n') \n",
    "       \n",
    "    #количество пропусков по столбцам\n",
    "    data_gap= pd.DataFrame(dataset.isna().sum()).reset_index(drop=False)\n",
    "    # обозначение имени столбца\n",
    "    data_gap.columns=['Столбец','Количество пропусков']\n",
    "    # относительное количество пропусков по столбцам в %\n",
    "    data_gap['Количество пропусков в %'] = round(data_gap['Количество пропусков']/ len(dataset) * 100, 2)\n",
    "    #display (data_gap.style.background_gradient('coolwarm'))\n",
    "    display (data_gap.style.background_gradient())\n",
    "\n",
    "    print() \n",
    "    \n",
    "    #Приведение названий столбцов к нижнему регистру\n",
    "    #dataset.columns = [x.lower().replace(' ', '_') for x in dataset.columns.values]\n",
    "    \n",
    "    print ('Датасет:','\\n')\n",
    "    \n",
    "    return display(dataset.head())"
   ]
  },
  {
   "cell_type": "markdown",
   "metadata": {},
   "source": [
    " "
   ]
  },
  {
   "cell_type": "markdown",
   "metadata": {},
   "source": [
    "#### Обзор датасета"
   ]
  },
  {
   "cell_type": "code",
   "execution_count": null,
   "metadata": {
    "scrolled": false
   },
   "outputs": [],
   "source": [
    "meet_dataset(data)"
   ]
  },
  {
   "cell_type": "markdown",
   "metadata": {},
   "source": [
    " "
   ]
  },
  {
   "cell_type": "markdown",
   "metadata": {},
   "source": [
    "**Количество уникальных названий заведений общепита**"
   ]
  },
  {
   "cell_type": "code",
   "execution_count": null,
   "metadata": {},
   "outputs": [],
   "source": [
    "print('Количество уникальных названий заведений общепита:', data['name'].nunique(), 'ед.' )"
   ]
  },
  {
   "cell_type": "markdown",
   "metadata": {},
   "source": [
    " "
   ]
  },
  {
   "cell_type": "markdown",
   "metadata": {},
   "source": [
    "#### Описание столбцов датасета"
   ]
  },
  {
   "cell_type": "markdown",
   "metadata": {},
   "source": [
    "- name — название заведения;\n",
    "- address — адрес заведения;\n",
    "- category — категория заведения, например «кафе», «пиццерия» или «кофейня»;\n",
    "- hours — информация о днях и часах работы;\n",
    "- lat — широта географической точки, в которой находится заведение;\n",
    "- lng — долгота географической точки, в которой находится заведение;\n",
    "- rating — рейтинг заведения по оценкам пользователей в Яндекс Картах (высшая оценка — 5.0);\n",
    "- price — категория цен в заведении, например «средние», «ниже среднего», «выше среднего» и так далее;\n",
    "- avg_bill — строка, которая хранит среднюю стоимость заказа в виде диапазона, например:\n",
    "    - «Средний счёт: 1000–1500 ₽»;\n",
    "    - «Цена чашки капучино: 130–220 ₽»;\n",
    "    - «Цена бокала пива: 400–600 ₽». и так далее;\n",
    "- middle_avg_bill — число с оценкой среднего чека, которое указано только для значений из столбца avg_bill, начинающихся с   подстроки «Средний счёт»:\n",
    "    - если в строке указан ценовой диапазон из двух значений, в столбец войдёт медиана этих двух значений.\n",
    "    - если в строке указано одно число — цена без диапазона, то в столбец войдёт это число.\n",
    "    - если значения нет или оно не начинается с подстроки «Средний счёт», то в столбец ничего не войдёт.\n",
    "- middle_coffee_cup — число с оценкой одной чашки капучино, которое указано только для значений из столбца avg_bill, начинающихся с подстроки «Цена одной чашки капучино»:\n",
    "    - если в строке указан ценовой диапазон из двух значений, в столбец войдёт медиана этих двух значений.\n",
    "    - если в строке указано одно число — цена без диапазона, то в столбец войдёт это число.\n",
    "    - если значения нет или оно не начинается с подстроки «Цена одной чашки капучино», то в столбец ничего не войдёт.\n",
    "- chain — число, выраженное 0 или 1, которое показывает, является ли заведение сетевым (для маленьких сетей могут встречаться ошибки);\n",
    "- district — административный район, в котором находится заведение, например Центральный административный округ;\n",
    "- seats — количество посадочных мест."
   ]
  },
  {
   "cell_type": "markdown",
   "metadata": {},
   "source": [
    " "
   ]
  },
  {
   "cell_type": "markdown",
   "metadata": {},
   "source": [
    " #### Комментарии к обзору\n",
    "\n",
    "1. В датасете имеется 8406 записей, дубликатов строк не  зафиксировано.  В датасете представлено 5614 различных названий, предварительно, без анализа неявных дубликатов.\n",
    "2. Названия столбцов в корректном формате.\n",
    "3. Типы данных корректные.   Возможно сменить тип данных столбца \"seats\"  (количество посадочных мест)  с float64 на int64, так как эти данные по определению целочисленные. Из-за обшего размера датасета можно опустить смену типа данных.\n",
    "4. Географические координаты.   Координаты объектов датасета относятся к Москве, включая Новую Москву.   Медианные значения кординат находится недалеко от Красной площади в Москве, р-н Арбат.  Диапазон данных охватывает географию от Королева на северо-востоке Москвы, до Коммунарки на юго-западе.\n",
    "5. Рейтинг.   Заведения представлены с рейтнгом от 1 до 5, основная масса  заведений имеет рейтинг 3.6-4.8, медианное значение -  4.2.\n",
    "6. Сетевые и независимые заведения.  Сетевых заведений общественного питания меньше, чем независимых.\n",
    "7. Количество посадочных мест.  В датасете представлены заведения с количеством посадочных мест до 1288, основная масса - до 290,  медианное занчение- 75.\n",
    "\n",
    "\n",
    "\n",
    "*Данные с пропусками*\n",
    "\n",
    "1. Столбец \"hours\"  (с часами работы заведений) содержит 6.38%  пропусков.\n",
    "2. Столбец \"price\"  (категория цен в заведении)  содержит 60.56%  пропусков.\n",
    "3. Столбец \"avg_bill\"  (средняя стоимость заказа ) содержит 54.6% пропусков.\n",
    "4. Столбец \"middle_avg_bill\"  (оценка среднего чека) содержит 62.54% пропусков.\n",
    "5. Столбец \"middle_coffee_cup\"  (оценка одной чашки капучино) содержит 93.64% пропусков.\n",
    "6. Столбец \"seats\"  (количество посадочных мест) содержит 62.54% пропусков.\n",
    "\n",
    "Пропущенных данных слишком много для простого удаления записей с данными. Изучение данных с пропусками и их возможное заполнение будет выполнено на следующем этапе проекта.\n"
   ]
  },
  {
   "cell_type": "markdown",
   "metadata": {},
   "source": [
    " "
   ]
  },
  {
   "cell_type": "markdown",
   "metadata": {},
   "source": [
    " "
   ]
  },
  {
   "cell_type": "markdown",
   "metadata": {},
   "source": [
    "## Предобработка данных"
   ]
  },
  {
   "cell_type": "markdown",
   "metadata": {},
   "source": [
    " "
   ]
  },
  {
   "cell_type": "markdown",
   "metadata": {},
   "source": [
    "### Обработка пропусков \n"
   ]
  },
  {
   "cell_type": "markdown",
   "metadata": {},
   "source": [
    "**Оценка количества пропусков в данных**"
   ]
  },
  {
   "cell_type": "code",
   "execution_count": null,
   "metadata": {},
   "outputs": [],
   "source": [
    "#количество пропусков по столбцам\n",
    "data_gap= pd.DataFrame(data.isna().sum()).reset_index(drop=False)\n",
    "# обозначение имени столбца\n",
    "data_gap.columns=['Столбец','Количество пропусков']\n",
    "# относительное количество пропусков по столбцам в %\n",
    "data_gap['Количество пропусков в %'] = round(data_gap['Количество пропусков']/ len(data) * 100, 2)\n",
    "display (data_gap[data_gap['Количество пропусков']>0].reset_index(drop=True).style.background_gradient())\n",
    "print() "
   ]
  },
  {
   "cell_type": "markdown",
   "metadata": {},
   "source": [
    "В датасете представлены 6 столбцов с ощутимым количеством пропусков"
   ]
  },
  {
   "cell_type": "markdown",
   "metadata": {},
   "source": [
    " "
   ]
  },
  {
   "cell_type": "markdown",
   "metadata": {},
   "source": [
    " **Визуализация пропусков в датафрейме**"
   ]
  },
  {
   "cell_type": "code",
   "execution_count": null,
   "metadata": {},
   "outputs": [],
   "source": [
    "# определяем цвета: синий - пропущенные данные, голубой - не пропущенные\n",
    "\n",
    "plt.figure(figsize=(15,20), dpi= 200)\n",
    "sns.heatmap(data.isna(), cmap=sns.color_palette(\"Blues\"))\n",
    "plt.show()"
   ]
  },
  {
   "cell_type": "markdown",
   "metadata": {},
   "source": [
    "Заметно, что для записей с пропусками в часах работы также имеются пропуски в данных с ценами и количеством посадочных мест. "
   ]
  },
  {
   "cell_type": "markdown",
   "metadata": {},
   "source": [
    " "
   ]
  },
  {
   "cell_type": "markdown",
   "metadata": {},
   "source": [
    "**Количество записей с пропусками минимум в одном столбце**"
   ]
  },
  {
   "cell_type": "code",
   "execution_count": null,
   "metadata": {},
   "outputs": [],
   "source": [
    "# расчет количества записей с пропусками минимум в одном столбце\n",
    "\n",
    "count_gap = (~ ((data['hours'].isna()==0) & (data['price'].isna()==0) & (data['avg_bill'].isna()==0) & \n",
    "               (data['middle_avg_bill'].isna()==0) & (data['middle_coffee_cup'].isna()==0))).sum()\n",
    "\n",
    "print('Количество записей в исходном датасете: ', data.shape[0])\n",
    "print('Количество записей с пропусками минимум в одном столбце: ', count_gap)\n",
    "print('Количество записей совсем без пропусков:', data.shape[0] -  count_gap )      "
   ]
  },
  {
   "cell_type": "markdown",
   "metadata": {},
   "source": [
    "Добро пожаловать в реальный мир неполных данных. Нет ни одной строчки без пропусков в тех или иных столбцах."
   ]
  },
  {
   "cell_type": "markdown",
   "metadata": {},
   "source": [
    " "
   ]
  },
  {
   "cell_type": "markdown",
   "metadata": {},
   "source": [
    "**Количество записей с пропусками во всех столбцах где встречаются пропусками**"
   ]
  },
  {
   "cell_type": "code",
   "execution_count": null,
   "metadata": {},
   "outputs": [],
   "source": [
    "# расчет количества записей с пропусками  во всех столбцах с пропусками\n",
    "\n",
    "count_gap_all = (((data['hours'].isna()==1) & (data['price'].isna()==1) & (data['avg_bill'].isna()==1) & \n",
    "               (data['middle_avg_bill'].isna()==1) & (data['middle_coffee_cup'].isna()==1))).sum()\n",
    "\n",
    "print('Количество записей в исходном датасете: ', data.shape[0])\n",
    "print('Количество записей с пропусками минимум в одном столбце: ', count_gap_all)\n",
    "print('Доля записей с полным набором пропусков,%: ', round(100*count_gap_all/data.shape[0] ,2) )      "
   ]
  },
  {
   "cell_type": "markdown",
   "metadata": {},
   "source": [
    " "
   ]
  },
  {
   "cell_type": "markdown",
   "metadata": {},
   "source": [
    "1. Так как количество записей с пропусками больше 1%, то удалять эти записи на данный момент не будем. При необходимости, решение об удалении таких записей будет принято позже.\n",
    "2. Заполнять пропуски данных типовыми значениями на данном этапе будет не вполне корректно. \n",
    "3. Добавим в датасет столбцы с данными о пропусках и попробуем найти корреляции, которые позволят заполнить хотя бы некоторые пропуски.\n"
   ]
  },
  {
   "cell_type": "code",
   "execution_count": null,
   "metadata": {},
   "outputs": [],
   "source": [
    "#добавим столбцы, категоририующие пропуски данных:\n",
    "\n",
    "data['hours_gap']=data['hours'].isna()\n",
    "data['price_gap']=data['price'].isna()\n",
    "data['avg_bill_gap']=data['avg_bill'].isna()\n",
    "data['middle_avg_bill_gap']=data['middle_avg_bill'].isna()\n",
    "data['middle_coffee_cup_gap']=data['middle_coffee_cup'].isna()\n",
    "data['seats_gap']=data['seats'].isna()\n",
    "data.head()"
   ]
  },
  {
   "cell_type": "markdown",
   "metadata": {},
   "source": [
    " "
   ]
  },
  {
   "cell_type": "markdown",
   "metadata": {},
   "source": [
    "**Корреляция географического расположения и пропусков в данных**"
   ]
  },
  {
   "cell_type": "code",
   "execution_count": null,
   "metadata": {
    "scrolled": false
   },
   "outputs": [],
   "source": [
    "gap_list = ['hours_gap','price_gap','avg_bill_gap', 'middle_avg_bill_gap','middle_coffee_cup_gap','seats_gap']\n",
    "base_name = 'Корреляция географического расположения и пропусков в данных по столбцу  '\n",
    "    \n",
    "for g in  gap_list:\n",
    "    plt.figure(figsize=(14,7))\n",
    "    title_name =  base_name + g\n",
    "    sns.scatterplot(data=data, x='lng', y='lat', hue=g)\n",
    "    plt.title(title_name) \n",
    "    plt.grid()\n",
    "    plt.show()"
   ]
  },
  {
   "cell_type": "markdown",
   "metadata": {},
   "source": [
    " "
   ]
  },
  {
   "cell_type": "markdown",
   "metadata": {},
   "source": [
    "1. В целом заметны более полные данные для заведений, расположенных ближе к центру города.\n",
    "2. Сведения о количестве посадочных мест примерно равномерно отсутствуют по все географии датасета.\n",
    "3. Не выявлено однозначных корреляций, позволяющих заполнить пропуски в данных."
   ]
  },
  {
   "cell_type": "markdown",
   "metadata": {},
   "source": [
    " "
   ]
  },
  {
   "cell_type": "markdown",
   "metadata": {},
   "source": [
    " "
   ]
  },
  {
   "cell_type": "markdown",
   "metadata": {},
   "source": [
    "### Количество дубликатов"
   ]
  },
  {
   "cell_type": "code",
   "execution_count": null,
   "metadata": {},
   "outputs": [],
   "source": [
    "print ('Количество дубликатов -', data.duplicated().sum()) \n",
    "print ('Доля дубликатов в датасете, %:', round( 100*data.duplicated().sum()/data.shape[0], 2))\n",
    "    "
   ]
  },
  {
   "cell_type": "markdown",
   "metadata": {},
   "source": [
    " Явных дубликатов строк нет. Попробуем определить неявные дубликаты."
   ]
  },
  {
   "cell_type": "markdown",
   "metadata": {},
   "source": [
    "Проверка по идентичным адресам"
   ]
  },
  {
   "cell_type": "code",
   "execution_count": null,
   "metadata": {},
   "outputs": [],
   "source": [
    "print('Количество дубликатов по столбцам  \"Название\", \"Адрес\" :',  (data.duplicated(subset = ['name','address'])).sum())"
   ]
  },
  {
   "cell_type": "markdown",
   "metadata": {},
   "source": [
    " "
   ]
  },
  {
   "cell_type": "markdown",
   "metadata": {},
   "source": [
    "Переведем названия заведений в нижний регистр и посмотрим на дубликаты в таком случае"
   ]
  },
  {
   "cell_type": "code",
   "execution_count": null,
   "metadata": {},
   "outputs": [],
   "source": [
    "def lower (ds):\n",
    "    dl = ds.lower()\n",
    "    return dl \n",
    "\n",
    "data['name_lower'] = data['name'].apply(lower)\n",
    "#data.head(2)\n",
    "\n",
    "display(data[data.duplicated(subset = ['name_lower','address'])])\n",
    "\n",
    "print('Количество дубликатов по столбцам  \"Название\", \"Адрес\" :',  (data.duplicated(subset = ['name_lower','address'])).sum())"
   ]
  },
  {
   "cell_type": "markdown",
   "metadata": {},
   "source": [
    " "
   ]
  },
  {
   "cell_type": "markdown",
   "metadata": {},
   "source": [
    " "
   ]
  },
  {
   "cell_type": "markdown",
   "metadata": {},
   "source": [
    " Посмотрим на эти заведения с названиями в разном написании.\n",
    " "
   ]
  },
  {
   "cell_type": "code",
   "execution_count": null,
   "metadata": {},
   "outputs": [],
   "source": [
    "name_lower_dubl = list(data.loc[data.duplicated(subset = ['name_lower','address']),'name_lower'])\n",
    "#name_lower_dubl\n",
    "\n",
    "data.query('name_lower in @name_lower_dubl')"
   ]
  },
  {
   "cell_type": "markdown",
   "metadata": {},
   "source": [
    " "
   ]
  },
  {
   "cell_type": "markdown",
   "metadata": {},
   "source": [
    " Удалим дубликаты и выполним проверку на удаление."
   ]
  },
  {
   "cell_type": "code",
   "execution_count": null,
   "metadata": {},
   "outputs": [],
   "source": [
    "data = data.drop_duplicates(subset = ['name_lower','address']).reset_index(drop= True)\n",
    "print('Количество дубликатов по столбцам  \"Название (нижний регистр)\", \"Адрес\" :',  (data.duplicated(subset = ['name_lower','address'])).sum())\n"
   ]
  },
  {
   "cell_type": "markdown",
   "metadata": {},
   "source": [
    " "
   ]
  },
  {
   "cell_type": "markdown",
   "metadata": {},
   "source": [
    " "
   ]
  },
  {
   "cell_type": "markdown",
   "metadata": {},
   "source": [
    "### Представленные данные"
   ]
  },
  {
   "cell_type": "markdown",
   "metadata": {},
   "source": [
    "#### Название заведения"
   ]
  },
  {
   "cell_type": "code",
   "execution_count": null,
   "metadata": {
    "scrolled": false
   },
   "outputs": [],
   "source": [
    "print('Количество уникальных названий заведений: ', data['name'].nunique() )\n",
    "print('Количество всех записей в датасете: ', data.shape[0])\n",
    "print('Усредненное количество заведений с одинаковым названием: ', round(data.shape[0]/ data['name'].nunique(),2))\n",
    "\n",
    "print()\n",
    "print('Перечень уникальных названий заведений (100 названий из',data['name'].nunique() , '):', '\\n')\n",
    "uniq_name = data['name'].unique() \n",
    "print(uniq_name[0:100])"
   ]
  },
  {
   "cell_type": "markdown",
   "metadata": {},
   "source": [
    "  Два из трех заведений носят одинаковые названия"
   ]
  },
  {
   "cell_type": "markdown",
   "metadata": {},
   "source": [
    " "
   ]
  },
  {
   "cell_type": "markdown",
   "metadata": {},
   "source": [
    "#### Категория заведения"
   ]
  },
  {
   "cell_type": "code",
   "execution_count": null,
   "metadata": {
    "scrolled": false
   },
   "outputs": [],
   "source": [
    "print('Количество уникальных категорий заведений: ', data['category'].nunique())\n",
    "print()\n",
    "print('Перечень уникальных категорий заведений:', '\\n')\n",
    "uniq_cat =data['category'].unique() \n",
    "print(uniq_cat)"
   ]
  },
  {
   "cell_type": "markdown",
   "metadata": {},
   "source": [
    " "
   ]
  },
  {
   "cell_type": "markdown",
   "metadata": {},
   "source": [
    "#### Адрес заведения"
   ]
  },
  {
   "cell_type": "code",
   "execution_count": null,
   "metadata": {
    "scrolled": false
   },
   "outputs": [],
   "source": [
    "print('Количество уникальных адресов заведений: ', data['address'].nunique())\n",
    "print()\n",
    "print('Перечень уникальных адресов заведений (50 названий из',data['address'].nunique() , '):', '\\n')\n",
    "uniq_adr =data['address'].unique() \n",
    "print(uniq_adr[0:50])"
   ]
  },
  {
   "cell_type": "markdown",
   "metadata": {},
   "source": [
    "1. На 8403 записей датасета приходится 5753 уникальных адресов  и 5614 уникальных названий.\n",
    "2. Предположим, что несколько одинаковых названий имеют заведения из одной сети.\n",
    "3. Предположим также, что по одному адресу может быть несколько точек общепита."
   ]
  },
  {
   "cell_type": "markdown",
   "metadata": {},
   "source": [
    "  "
   ]
  },
  {
   "cell_type": "markdown",
   "metadata": {},
   "source": [
    "#### Административный район"
   ]
  },
  {
   "cell_type": "code",
   "execution_count": null,
   "metadata": {
    "scrolled": false
   },
   "outputs": [],
   "source": [
    "print('Количество уникальных районов: ', data['district'].nunique())\n",
    "print()\n",
    "print('Перечень уникальных адресов заведений:', '\\n')\n",
    "uniq_distr =data['district'].unique() \n",
    "print(uniq_distr)"
   ]
  },
  {
   "cell_type": "markdown",
   "metadata": {},
   "source": [
    "  "
   ]
  },
  {
   "cell_type": "markdown",
   "metadata": {},
   "source": [
    " "
   ]
  },
  {
   "cell_type": "markdown",
   "metadata": {},
   "source": [
    "#### Режим работы"
   ]
  },
  {
   "cell_type": "code",
   "execution_count": null,
   "metadata": {
    "scrolled": true
   },
   "outputs": [],
   "source": [
    "print('Количество уникальных записей о режиме работы заведений: ', data['hours'].nunique())\n",
    "print()\n",
    "print('Количество  записей о режиме работы заведений: ', len(data)- data['hours'].isna().sum())\n",
    "isna_free =  round(100 -data['hours'].isna().sum()/ len(data) * 100, 2)\n",
    "print('Доля записей без пропусков в данных о режиме работы (от всего датасета), %: ', isna_free)\n",
    "print()"
   ]
  },
  {
   "cell_type": "markdown",
   "metadata": {},
   "source": [
    "**Топ-20  типов режимов работы заведений**"
   ]
  },
  {
   "cell_type": "code",
   "execution_count": null,
   "metadata": {},
   "outputs": [],
   "source": [
    "operating_mode = pd.DataFrame(data.groupby('hours')['address'].count().sort_values(ascending=False).reset_index())\n",
    "operating_mode.columns=['Тип режима работы', 'Количество заведений']\n",
    "operating_mode.head(20)"
   ]
  },
  {
   "cell_type": "code",
   "execution_count": null,
   "metadata": {},
   "outputs": [],
   "source": [
    "# заведения с ежедневным режимом работы\n",
    "cnt = 0\n",
    "ct=0\n",
    "for i in range(len(operating_mode)):\n",
    "    if str(operating_mode.loc[i,'Тип режима работы']).find('ежеднев')> -1:\n",
    "        ct+=1\n",
    "        cnt+= operating_mode.loc[i,'Количество заведений']\n",
    "        \n",
    "print('Количество типов режимов работы заведений, работающих ежедневно: ', ct)\n",
    "print('Сумарное количество заведений с ежедневным режимом работы: ', cnt)\n",
    "print('Доля заведений с ежедневным режимом работы (от записей без пропусков  в данных с режимом работы), % : ', round(100*cnt/(len(data)- data['hours'].isna().sum())    ,2))"
   ]
  },
  {
   "cell_type": "markdown",
   "metadata": {},
   "source": [
    "1. Большинство заведений общепита имеют данные о режиме работы.\n",
    "2. 1307 уникальных записей режимов работы. Данные очень неоднородны по формату записи, дням недели, часам работы.\n",
    "3. Данные представляют разнообразные режимы работы по часам в сутках, по дням недели, с перерывом и без, с выходными и без таковых.\n",
    "4. Первое место по количеству заведений занимает  тип режима работы \"ежедневно, 10:00–22:00\". С небольшим отрывом на втором месте - круглосуточные заведения, работающие каждый день.\n",
    "5. Из топ-20 режимов работы, 15 заведений работают ежедневно c различной продолжительностью рабочего дня.\n",
    "6. Из всего датасета ежедневно  работают 5020 заведений (~63.8%) с 238 вариантами продолжительности рабочего дня."
   ]
  },
  {
   "cell_type": "markdown",
   "metadata": {},
   "source": [
    "  "
   ]
  },
  {
   "cell_type": "markdown",
   "metadata": {},
   "source": [
    "####  Географические координаты"
   ]
  },
  {
   "cell_type": "code",
   "execution_count": null,
   "metadata": {},
   "outputs": [],
   "source": [
    "# moscow_lat - широта центра Москвы, moscow_lng - долгота центра Москвы\n",
    "moscow_lat, moscow_lng = 55.751244, 37.618423\n",
    "\n",
    "# создаём карту Москвы\n",
    "m = Map(location=[moscow_lat, moscow_lng], zoom_start=10)\n",
    "# создаём пустой кластер, добавляем его на карту\n",
    "marker_cluster = MarkerCluster().add_to(m)\n",
    "\n",
    "# пишем функцию, которая принимает строку датафрейма,\n",
    "# создаёт маркер в текущей точке и добавляем его в кластер marker_cluster\n",
    "def create_clusters(row):\n",
    "    Marker(\n",
    "        [row['lat'], row['lng']],\n",
    "        popup=f\"{row['name']} {row['category']} {row['seats']} {row['rating']}\" \n",
    "           ).add_to(marker_cluster)\n",
    "\n",
    "# применяем функцию create_clusters() к каждой строке датафрейма\n",
    "data.apply(create_clusters, axis=1)\n",
    "\n",
    "# выводим карту\n",
    "m"
   ]
  },
  {
   "cell_type": "markdown",
   "metadata": {},
   "source": [
    " Представленные в датасете заведения располагаются в различных районах города Москвы."
   ]
  },
  {
   "cell_type": "markdown",
   "metadata": {},
   "source": [
    " "
   ]
  },
  {
   "cell_type": "markdown",
   "metadata": {},
   "source": [
    "####  Рейтинг заведений"
   ]
  },
  {
   "cell_type": "markdown",
   "metadata": {},
   "source": [
    "Рейтинг заведения по оценкам пользователей в Яндекс Картах"
   ]
  },
  {
   "cell_type": "code",
   "execution_count": null,
   "metadata": {},
   "outputs": [],
   "source": [
    "fig = px.box(data, y=\"rating\", title='Рейтинг заведений общественного питания города Москвы')\n",
    "fig.show()"
   ]
  },
  {
   "cell_type": "markdown",
   "metadata": {},
   "source": [
    "1. Заведения представлены с рейтнгом от 1 до 5. \n",
    "2. Основная масса (Q1-1.5хIQR...Q3+1.5хIQR) заведений имеет рейтинг 3.7-4.8.\n",
    "3. Медианное значение -  4.2.\n",
    "4. Имеются выбросы как в большую сторону- до рейтинга 5.0, так и отдельные заведения с рейтнингом 1.0-3.6."
   ]
  },
  {
   "cell_type": "markdown",
   "metadata": {},
   "source": [
    " "
   ]
  },
  {
   "cell_type": "markdown",
   "metadata": {},
   "source": [
    " "
   ]
  },
  {
   "cell_type": "markdown",
   "metadata": {},
   "source": [
    " #### Категория цен"
   ]
  },
  {
   "cell_type": "code",
   "execution_count": null,
   "metadata": {
    "scrolled": true
   },
   "outputs": [],
   "source": [
    "print('Количество  записей без пропусков в данных о категориях цен: ', len(data)- data['price'].isna().sum())\n",
    "\n",
    "isna_free =  round(100 -data['price'].isna().sum()/ len(data) * 100, 2)\n",
    "print('Доля записей без пропусков в данных о категориях цен (от всего датасета), %: ', isna_free)\n",
    "print()"
   ]
  },
  {
   "cell_type": "markdown",
   "metadata": {},
   "source": [
    " "
   ]
  },
  {
   "cell_type": "code",
   "execution_count": null,
   "metadata": {},
   "outputs": [],
   "source": [
    "print('Количество уникальных ценовых категорий: ', data['price'].nunique())\n",
    "print()\n",
    "print('Перечень уникальных ценовых категорий:', '\\n')\n",
    "uniq_price =data['price'].unique() \n",
    "print(uniq_price)"
   ]
  },
  {
   "cell_type": "markdown",
   "metadata": {},
   "source": [
    " Для удобства анализа, заполним пропуски маркером \"без категории\""
   ]
  },
  {
   "cell_type": "code",
   "execution_count": null,
   "metadata": {},
   "outputs": [],
   "source": [
    "data['price'] =data['price'].fillna('без категории')"
   ]
  },
  {
   "cell_type": "markdown",
   "metadata": {},
   "source": [
    "Проверим обработку пропусков"
   ]
  },
  {
   "cell_type": "code",
   "execution_count": null,
   "metadata": {},
   "outputs": [],
   "source": [
    "print('Количество уникальных ценовых категорий: ', data['price'].nunique())\n",
    "print()\n",
    "print('Перечень уникальных ценовых категорий:', '\\n')\n",
    "uniq_price =data['price'].unique() \n",
    "print(uniq_price)"
   ]
  },
  {
   "cell_type": "markdown",
   "metadata": {},
   "source": [
    " "
   ]
  },
  {
   "cell_type": "markdown",
   "metadata": {},
   "source": [
    " Посмотрим на распределение категорий по датасету"
   ]
  },
  {
   "cell_type": "code",
   "execution_count": null,
   "metadata": {},
   "outputs": [],
   "source": [
    "price_cat = data.groupby('price')['name'].count().sort_values()\n",
    "price_cat"
   ]
  },
  {
   "cell_type": "code",
   "execution_count": null,
   "metadata": {},
   "outputs": [],
   "source": [
    "price_cat.plot(y=['name'] , kind='bar', figsize=(15,7), grid = True,\n",
    "               title ='Распределение количества заведений по  ценовым категориям')\n",
    "plt.show()"
   ]
  },
  {
   "cell_type": "markdown",
   "metadata": {},
   "source": [
    " "
   ]
  },
  {
   "cell_type": "markdown",
   "metadata": {},
   "source": [
    " ####  Средняя стоимость заказа"
   ]
  },
  {
   "cell_type": "markdown",
   "metadata": {},
   "source": [
    "Столбец \"avg_bill\" — строка, которая хранит среднюю стоимость заказа в виде диапазона"
   ]
  },
  {
   "cell_type": "code",
   "execution_count": null,
   "metadata": {},
   "outputs": [],
   "source": [
    "print('Количество  записей без пропусков в данных о средней стоимости заказа: ', len(data)- data['avg_bill'].isna().sum())\n",
    "\n",
    "isna_free =  round(100 -data['avg_bill'].isna().sum()/ len(data) * 100, 2)\n",
    "print('Доля записей без пропусков в данных о средней стоимости заказа (от всего датасета), %: ', isna_free)\n",
    "print()"
   ]
  },
  {
   "cell_type": "code",
   "execution_count": null,
   "metadata": {},
   "outputs": [],
   "source": [
    "print('Количество уникальных записей со средней ценой: ', data['avg_bill'].nunique())\n",
    "print()\n",
    "print('Перечень  уникальных записей со средней ценой (50 названий из',data['avg_bill'].nunique() , '):', '\\n')\n",
    "uniq_avg_bill =data['avg_bill'].unique() \n",
    "print(uniq_avg_bill[0:50])"
   ]
  },
  {
   "cell_type": "markdown",
   "metadata": {},
   "source": [
    " "
   ]
  },
  {
   "cell_type": "markdown",
   "metadata": {},
   "source": [
    "**Топ-20 ценовых диапазонов** "
   ]
  },
  {
   "cell_type": "markdown",
   "metadata": {},
   "source": [
    " Топ-20 ценовых диапазонов определим для данных без учета пропусков."
   ]
  },
  {
   "cell_type": "code",
   "execution_count": null,
   "metadata": {},
   "outputs": [],
   "source": [
    "average_bill = pd.DataFrame(data.groupby('avg_bill')['address'].count().sort_values(ascending=False).reset_index())\n",
    "average_bill.columns=['Ценовой диапазон', 'Количество заведений']\n",
    "average_bill.head(20)\n"
   ]
  },
  {
   "cell_type": "markdown",
   "metadata": {},
   "source": [
    " "
   ]
  },
  {
   "cell_type": "markdown",
   "metadata": {},
   "source": [
    "Заполним пропуски в данных плашкой 'диапазон не определен'"
   ]
  },
  {
   "cell_type": "code",
   "execution_count": null,
   "metadata": {},
   "outputs": [],
   "source": [
    "data['avg_bill'] = data['avg_bill'].fillna('диапазон не определен')"
   ]
  },
  {
   "cell_type": "code",
   "execution_count": null,
   "metadata": {},
   "outputs": [],
   "source": [
    "#проверка отсутствия пропусков\n",
    "#display(data['avg_bill'].isna().sum())"
   ]
  },
  {
   "cell_type": "markdown",
   "metadata": {},
   "source": [
    " "
   ]
  },
  {
   "cell_type": "markdown",
   "metadata": {},
   "source": [
    " "
   ]
  },
  {
   "cell_type": "markdown",
   "metadata": {},
   "source": [
    "Промаркируем ячейки по типам диапазонов"
   ]
  },
  {
   "cell_type": "code",
   "execution_count": null,
   "metadata": {},
   "outputs": [],
   "source": [
    "#определим функцию  для маркировки записей по типам диапазонов цены\n",
    "def price_ranges  (rang):\n",
    "    if  (str(rang).find('Средний счёт')> -1):\n",
    "        result = 'Средний счёт'\n",
    "    elif (str(rang).find('Цена чашки капучино')> -1):\n",
    "        result = 'Цена чашки капучино'\n",
    "    elif (str(rang).find('Цена бокала пива')> -1):\n",
    "        result = 'Цена бокала пива'    \n",
    "    else:  result = 'диапазон не определен'\n",
    "\n",
    "    return result"
   ]
  },
  {
   "cell_type": "code",
   "execution_count": null,
   "metadata": {},
   "outputs": [],
   "source": [
    "#маркируем записи по типам диапазонов цены\n",
    "data['price_ranges'] = data['avg_bill'].apply(price_ranges)\n",
    "#data.head()"
   ]
  },
  {
   "cell_type": "markdown",
   "metadata": {},
   "source": [
    " "
   ]
  },
  {
   "cell_type": "markdown",
   "metadata": {},
   "source": [
    "Посчитаем количество записей с  различными типами диапазонов цены."
   ]
  },
  {
   "cell_type": "code",
   "execution_count": null,
   "metadata": {},
   "outputs": [],
   "source": [
    "price_ranges_cnt = data.groupby('price_ranges')['name'].count()"
   ]
  },
  {
   "cell_type": "code",
   "execution_count": null,
   "metadata": {},
   "outputs": [],
   "source": [
    "price_ranges_cnt.plot(y=['name'] , kind='bar', figsize=(15,7), grid = True,\n",
    "               title ='Распределение количества заведений по типам диапазонов цены')\n",
    "plt.show()"
   ]
  },
  {
   "cell_type": "markdown",
   "metadata": {},
   "source": [
    " "
   ]
  },
  {
   "cell_type": "markdown",
   "metadata": {},
   "source": [
    " 1. На 8403 записей в датасете имеем 897 уникальных ценовых диапазонов. \n",
    " 2. Первое место по встречаемости - диапазон 1000-1500 р,  второе место - 1500-2000 р.\n",
    " 3. Диапазон средних счетов для ТОП-20:  250-2500р\n",
    " 4. Цена чашки капучино из Топ-20 : 239–274. Так как занчение стоимости некруглое, то предположим, что данный ценовой диапазон относится к одной сети.\n",
    " 5. Указанные оценки представлены для 45.4% записей от всего датасета.  Пропуски в данных закрыты плашкой 'диапазон не определен'.\n",
    " 6. Больше половины данных в исходном датасете не имеет информации о диапазоне цен. Из имеющихся данных - основная часть содержит информацию о среднем счете. Информация о чашке капучино встречается реже и еще меньше, как исключение- данные по стоимости бокала пива."
   ]
  },
  {
   "cell_type": "markdown",
   "metadata": {},
   "source": [
    " "
   ]
  },
  {
   "cell_type": "markdown",
   "metadata": {},
   "source": [
    " "
   ]
  },
  {
   "cell_type": "markdown",
   "metadata": {},
   "source": [
    " ####  Оценка среднего чека"
   ]
  },
  {
   "cell_type": "markdown",
   "metadata": {},
   "source": [
    "Столбец 'middle_avg_bill' : число с оценкой среднего чека, которое указано только для значений из столбца avg_bill, начинающихся с подстроки «Средний счёт»:\n"
   ]
  },
  {
   "cell_type": "code",
   "execution_count": null,
   "metadata": {},
   "outputs": [],
   "source": [
    "#Количество  записей, в которых в столбце avg_bill данные начинаются с подстроки «Средний счёт»\n",
    "middle_bill_cnt  = (data['price_ranges']=='Средний счёт').sum()\n",
    "#middle_bill_cnt"
   ]
  },
  {
   "cell_type": "markdown",
   "metadata": {},
   "source": [
    " "
   ]
  },
  {
   "cell_type": "code",
   "execution_count": null,
   "metadata": {},
   "outputs": [],
   "source": [
    "isna_free =   round(100 -data['middle_avg_bill'].isna().sum()/ len(data) * 100, 2)\n",
    "\n",
    "print('Количество  записей, в которых в столбце avg_bill данные начинаются с подстроки «Средний счёт»: ',middle_bill_cnt)\n",
    "print('Количество  записей в столбце middle_avg_bill  без пропусков в данных об оценке среднего чека: ',\n",
    "      len(data)- data['middle_avg_bill'].isna().sum())\n",
    "print()\n",
    "print('Доля записей без пропусков в данных об оценке среднего чека (от всего датасета), %: ', isna_free)\n",
    "print('Доля записей без пропусков в данных об оценке среднего чека', '\\n',\n",
    "      '(от данных, которые  в столбце avg_bill  начинаются с подстроки «Средний счёт»), %: ',\n",
    "              round( 100* (len(data)- data['middle_avg_bill'].isna().sum()) / middle_bill_cnt,2)  )\n",
    "print()"
   ]
  },
  {
   "cell_type": "markdown",
   "metadata": {},
   "source": [
    "По логике наполнения данными, для данного столбца пропусков нет, так как согласно условия по заполнению столбца данными (маркер 'средний счет' в столбце 'avg_bill') в столбце 'middle_avg_bill' данные имеются для всех случаев.  Оставшиеся пропуски заполнять чем-либо не следует, так как приведет к искажениям анализа данных."
   ]
  },
  {
   "cell_type": "code",
   "execution_count": null,
   "metadata": {},
   "outputs": [],
   "source": []
  },
  {
   "cell_type": "markdown",
   "metadata": {},
   "source": [
    " "
   ]
  },
  {
   "cell_type": "code",
   "execution_count": null,
   "metadata": {},
   "outputs": [],
   "source": [
    "print('Количество уникальных записей с оценкой среднего чека: ', data['middle_avg_bill'].nunique())\n",
    "print()\n",
    "print('Перечень  уникальных записей с оценкой среднего чека (100 оценок из',data['middle_avg_bill'].nunique() , '):', '\\n')\n",
    "uniq_middle_avg_bill =data['middle_avg_bill'].unique() \n",
    "print(uniq_middle_avg_bill[0:100])"
   ]
  },
  {
   "cell_type": "markdown",
   "metadata": {},
   "source": [
    " "
   ]
  },
  {
   "cell_type": "markdown",
   "metadata": {},
   "source": [
    "**Топ-20 оценок среднего чека**"
   ]
  },
  {
   "cell_type": "code",
   "execution_count": null,
   "metadata": {},
   "outputs": [],
   "source": [
    "middle_average_bill = pd.DataFrame(data.groupby('middle_avg_bill')['address'].count().sort_values(ascending=False).reset_index())\n",
    "middle_average_bill.columns=['Оценка среднего чека', 'Количество заведений']\n",
    "middle_average_bill.head(20)"
   ]
  },
  {
   "cell_type": "markdown",
   "metadata": {},
   "source": [
    "Статистическая информация по имеющимся данным с оценкой среднего чека"
   ]
  },
  {
   "cell_type": "code",
   "execution_count": null,
   "metadata": {},
   "outputs": [],
   "source": [
    "data['middle_avg_bill'].describe()"
   ]
  },
  {
   "cell_type": "markdown",
   "metadata": {},
   "source": [
    "Отсечем экстремальные выбросы с суммой чека до 10 000 и посмотрим на распределение оценок для основной массы имеющихся данных)"
   ]
  },
  {
   "cell_type": "code",
   "execution_count": null,
   "metadata": {},
   "outputs": [],
   "source": [
    "fig = px.box(data[data['middle_avg_bill']<10000], y=\"middle_avg_bill\", title='Оценка среднего чека')\n",
    "fig.show()"
   ]
  },
  {
   "cell_type": "markdown",
   "metadata": {},
   "source": [
    "1. Диапазон оценок средних чеков представлен от 0 до 35000 рублей. \n",
    "2. Основная масса чеков включает суммы до 2500 рублей, медианное значение- 750 руб.\n",
    "3. В топ-20 по частоте встречаемости заметны две группы заведений: с ценами 1000-2250 и  ценами 250-850 р.\n",
    "4. Самые популярные (топ-5 по встречаемости) : 1000-1250-1500 р. и 300-400 р\n",
    "5. Указанные оценки представлены для 37.46% записей от всего датасета и для 100% по условию заполнения столбца.\n",
    "6. Пропуски в данных оставляем без заполнения, чтобы не исказить дальнейший анализ."
   ]
  },
  {
   "cell_type": "markdown",
   "metadata": {},
   "source": [
    " "
   ]
  },
  {
   "cell_type": "markdown",
   "metadata": {},
   "source": [
    " "
   ]
  },
  {
   "cell_type": "markdown",
   "metadata": {},
   "source": [
    " ####  Оценка стоимости чашки капучино\n"
   ]
  },
  {
   "cell_type": "markdown",
   "metadata": {},
   "source": [
    "Столбец 'middle_coffee_cup' :  число с оценкой стоимости одной чашки капучино, которое указано только для значений из столбца avg_bill, начинающихся с подстроки «Цена одной чашки капучино»::\n"
   ]
  },
  {
   "cell_type": "code",
   "execution_count": null,
   "metadata": {},
   "outputs": [],
   "source": [
    "#Количество  записей, в которых в столбце avg_bill данные начинаются с подстроки «Цена чашки капучино»\n",
    "middle_coffee_cup_cnt  = (data['price_ranges']=='Цена чашки капучино').sum()\n",
    "#middle_coffee_cup_cnt"
   ]
  },
  {
   "cell_type": "code",
   "execution_count": null,
   "metadata": {},
   "outputs": [],
   "source": [
    "isna_free =   round(100 -data['middle_coffee_cup'].isna().sum()/ len(data) * 100, 2)\n",
    "\n",
    "print('Количество  записей, в которых в столбце avg_bill данные начинаются с подстроки «Средний счёт»: ',middle_coffee_cup_cnt)\n",
    "print('Количество  записей без пропусков в данных об оценке  стоимости чашки капучино: ',\n",
    "      len(data)- data['middle_coffee_cup'].isna().sum())\n",
    "\n",
    "print()\n",
    "print('Доля записей без пропусков в данных об оценке  стоимости чашки капучино (от всего датасета), %: ', isna_free)\n",
    "print('Доля записей без пропусков в данных об оценке стоимости чашки капучино', '\\n',\n",
    "      '(от данных, которые  в столбце avg_bill  начинаются с подстроки «Цена чашки капучино»), %: ',\n",
    "              round( 100* (len(data)- data['middle_coffee_cup'].isna().sum()) / middle_coffee_cup_cnt,2)  )\n"
   ]
  },
  {
   "cell_type": "markdown",
   "metadata": {},
   "source": [
    " "
   ]
  },
  {
   "cell_type": "markdown",
   "metadata": {},
   "source": [
    "\n"
   ]
  },
  {
   "cell_type": "markdown",
   "metadata": {},
   "source": [
    "По логике наполнения данными, для данного столбца пропусков нет, так как согласно условия по заполнению столбца данными (маркер 'Цена чашки капучино' в столбце 'avg_bill'), в столбце 'middle_coffee_cup' данные имеются для всех случаев.  Оставшиеся пропуски заполнять чем-либо не следует, так как приведет к искажениям анализа данных."
   ]
  },
  {
   "cell_type": "markdown",
   "metadata": {},
   "source": [
    " "
   ]
  },
  {
   "cell_type": "markdown",
   "metadata": {},
   "source": [
    " "
   ]
  },
  {
   "cell_type": "code",
   "execution_count": null,
   "metadata": {},
   "outputs": [],
   "source": [
    "print('Количество уникальных записей с оценкой стоимости одной чашки капучино: ', \n",
    "                                              data['middle_coffee_cup'].nunique())\n",
    "print()\n",
    "print('Перечень  уникальных записей с оценкой стоимости одной чашки капучино:', '\\n')\n",
    "uniq_middle_coffee_cup =data['middle_coffee_cup'].unique() \n",
    "print(uniq_middle_coffee_cup)"
   ]
  },
  {
   "cell_type": "markdown",
   "metadata": {},
   "source": [
    " "
   ]
  },
  {
   "cell_type": "markdown",
   "metadata": {},
   "source": [
    "**Топ-20 оценок стоимости чашки капучино**"
   ]
  },
  {
   "cell_type": "code",
   "execution_count": null,
   "metadata": {},
   "outputs": [],
   "source": [
    "middle_coffee_cup = pd.DataFrame(data.groupby('middle_coffee_cup')['address'].count().sort_values(ascending=False).reset_index())\n",
    "middle_coffee_cup.columns=['Оценка стоимости чашки капучино', 'Количество заведений']\n",
    "middle_coffee_cup.head(20)"
   ]
  },
  {
   "cell_type": "markdown",
   "metadata": {},
   "source": [
    "Статистическая информация по имеющимся данным с оценкой среднего чека"
   ]
  },
  {
   "cell_type": "code",
   "execution_count": null,
   "metadata": {},
   "outputs": [],
   "source": [
    "data['middle_coffee_cup'].describe()"
   ]
  },
  {
   "cell_type": "markdown",
   "metadata": {},
   "source": [
    "Отсечем экстремальные выбросы с суммой чека за одну чашку до 400 и посмотрим на распределение оценок для основной массы имеющихся данных."
   ]
  },
  {
   "cell_type": "code",
   "execution_count": null,
   "metadata": {},
   "outputs": [],
   "source": [
    "fig = px.box(data[data['middle_coffee_cup']<400], y=\"middle_coffee_cup\", title='Оценка стоимости чашки капучино')\n",
    "fig.show()"
   ]
  },
  {
   "cell_type": "markdown",
   "metadata": {},
   "source": [
    "1. Диапазон оценок средних чеков представлен от 60 до 1568 рублей. \n",
    "2. Основная масса оценок стоимости чашки капучино укладывается в диапазон  124-225р., медианное значение- 168 руб.\n",
    "3. Самые популярные (топ-5 по встречаемости) : 60 (минимальная цена)-256 р\n",
    "4. Указанные оценки представлены для 6.36% записей от всего датасета."
   ]
  },
  {
   "cell_type": "markdown",
   "metadata": {},
   "source": [
    " "
   ]
  },
  {
   "cell_type": "markdown",
   "metadata": {},
   "source": [
    " ####  Признак сетевого заведения\n"
   ]
  },
  {
   "cell_type": "markdown",
   "metadata": {},
   "source": [
    " Показатель сетевого заведения - столбец 'chain'. В комментариях к исходным данным указано, что для небольших сетей данные могут быть ошибочны. Учтем это замечание."
   ]
  },
  {
   "cell_type": "markdown",
   "metadata": {},
   "source": [
    "**Несетевые заведения**"
   ]
  },
  {
   "cell_type": "markdown",
   "metadata": {},
   "source": [
    "ТОП-20 несетевых заведений по количеству заведений на одно название"
   ]
  },
  {
   "cell_type": "code",
   "execution_count": null,
   "metadata": {},
   "outputs": [],
   "source": [
    "chain_mistake = pd.DataFrame(data[data['chain']==0].groupby('name')['address'].count().sort_values(ascending=False).reset_index())\n",
    "chain_mistake.columns=['Название', 'Количество заведений']\n",
    "chain_mistake.head(20)"
   ]
  },
  {
   "cell_type": "markdown",
   "metadata": {},
   "source": [
    " "
   ]
  },
  {
   "cell_type": "markdown",
   "metadata": {},
   "source": [
    " "
   ]
  },
  {
   "cell_type": "code",
   "execution_count": null,
   "metadata": {},
   "outputs": [],
   "source": [
    "no_chain_cnt = (data['chain']==0).sum()\n",
    "print('Количество записей датасета с признаком - несетевое заведение:', no_chain_cnt)\n",
    "print('Доля записей датасета с признаком - несетевое заведение, от всех записей датасета, %:', \n",
    "                                                       round( 100*no_chain_cnt/len(data),2))"
   ]
  },
  {
   "cell_type": "markdown",
   "metadata": {},
   "source": [
    "1. Действительно, для 16 наименований несетевых заведений количество заведений больше единицы. \n",
    "2. Учитывая неоригинальный нейминг, предположим что это, все же, заведения, не отсносящиеся к сетевому общепиту.\n",
    "3. Всего несетевых заведений в датасете - 5201, что составляет почти 62% от всех заведений. "
   ]
  },
  {
   "cell_type": "markdown",
   "metadata": {},
   "source": [
    " "
   ]
  },
  {
   "cell_type": "markdown",
   "metadata": {},
   "source": [
    "**Сетевые заведения**"
   ]
  },
  {
   "cell_type": "code",
   "execution_count": null,
   "metadata": {},
   "outputs": [],
   "source": [
    "chain_catering = pd.DataFrame(data[data['chain']==1].groupby('name')['address'].count().sort_values(ascending=False).reset_index())\n",
    "chain_catering.columns=['Название', 'Количество заведений']\n",
    "display(chain_catering.head())\n",
    "display(chain_catering.tail())"
   ]
  },
  {
   "cell_type": "code",
   "execution_count": null,
   "metadata": {},
   "outputs": [],
   "source": [
    "chain_cnt = data['chain'].sum()\n",
    "print('Количество сетей в датасете, всего: ',chain_catering.shape[0])\n",
    "print('Количество записей датасета с признаком - сетевое заведение', chain_cnt)\n",
    "print('Доля записей датасета с признаком - сетевое заведение, от всех записей датасета,% :', \n",
    "                                                       round( 100*chain_cnt/len(data),2))"
   ]
  },
  {
   "cell_type": "markdown",
   "metadata": {},
   "source": [
    " "
   ]
  },
  {
   "cell_type": "markdown",
   "metadata": {},
   "source": [
    "Статистическая информация по количеству заведений в сети"
   ]
  },
  {
   "cell_type": "code",
   "execution_count": null,
   "metadata": {},
   "outputs": [],
   "source": [
    "chain_catering['Количество заведений'].describe()"
   ]
  },
  {
   "cell_type": "markdown",
   "metadata": {},
   "source": [
    " "
   ]
  },
  {
   "cell_type": "code",
   "execution_count": null,
   "metadata": {},
   "outputs": [],
   "source": [
    "fig = px.box(chain_catering[chain_catering['Количество заведений']>0], y=\"Количество заведений\",\n",
    "             title='Распределение количества заведений по сетям общественного питания города Москвы')\n",
    "fig.show()"
   ]
  },
  {
   "cell_type": "markdown",
   "metadata": {},
   "source": [
    "- Наглядно представлена диспропорция по размеру сетей. \n",
    "- Разделим сети на типичные- от 1 до 4 заведений в сети и крупные сети с числом заведений больше 4."
   ]
  },
  {
   "cell_type": "markdown",
   "metadata": {},
   "source": [
    " "
   ]
  },
  {
   "cell_type": "code",
   "execution_count": null,
   "metadata": {},
   "outputs": [],
   "source": [
    "fig = px.box(chain_catering[chain_catering['Количество заведений']<=4], y=\"Количество заведений\", title='Распределение количества заведений по типичным сетям общественного питания города Москвы')\n",
    "fig.show()"
   ]
  },
  {
   "cell_type": "code",
   "execution_count": null,
   "metadata": {},
   "outputs": [],
   "source": [
    "fig = px.box(chain_catering[chain_catering['Количество заведений']>4], y=\"Количество заведений\", title='Распределение количества заведений по крупным сетям общественного питания города Москвы')\n",
    "fig.show()"
   ]
  },
  {
   "cell_type": "markdown",
   "metadata": {},
   "source": [
    "**Охват крупных и типичных сетей**"
   ]
  },
  {
   "cell_type": "code",
   "execution_count": null,
   "metadata": {},
   "outputs": [],
   "source": [
    "all_chain = chain_catering['Количество заведений'].sum()\n",
    "all_chain_numb = chain_catering['Название'].count()\n",
    "\n",
    "small_chain = chain_catering.loc[chain_catering['Количество заведений']<=4, 'Количество заведений'].sum()\n",
    "small_chain_numb = chain_catering.loc[chain_catering['Количество заведений']<=4, 'Название'].count()\n",
    "print('Количество заведений в типичных сетях (1-4 точки): ',small_chain, 'точек в',small_chain_numb ,'сетях' )\n",
    "print('Доля заведений типичных сетей от всех сетевых, % :', round(100 * small_chain/all_chain ,2))\n",
    "print('Доля типичных сетей от всех сетей, % :', round(100 * small_chain_numb/all_chain_numb ,2))\n",
    "print()\n",
    "\n",
    "big_chain = chain_catering.loc[chain_catering['Количество заведений']>4, 'Количество заведений'].sum()\n",
    "big_chain_numb = chain_catering.loc[chain_catering['Количество заведений']>4, 'Название'].count()\n",
    "print('Количество заведений в крупных сетях (>4 точек): ',big_chain, 'точек в',big_chain_numb ,'сетях' )\n",
    "print('Доля заведений крупных сетей от всех сетевых, % :', round(100 * big_chain/all_chain ,2))\n",
    "print('Доля крупных сетей от всех сетей, % :', round(100 * big_chain_numb/all_chain_numb ,2))\n"
   ]
  },
  {
   "cell_type": "markdown",
   "metadata": {},
   "source": [
    " "
   ]
  },
  {
   "cell_type": "markdown",
   "metadata": {},
   "source": [
    " "
   ]
  },
  {
   "cell_type": "markdown",
   "metadata": {},
   "source": [
    " Перечень сетевых заведений c количеством заведений, равным 1"
   ]
  },
  {
   "cell_type": "code",
   "execution_count": null,
   "metadata": {},
   "outputs": [],
   "source": [
    "chain_catering = pd.DataFrame(data[data['chain']==1].groupby('name')['address'].count().sort_values(ascending=False).reset_index())\n",
    "chain_catering.columns=['Название', 'Количество заведений']\n",
    "\n",
    "senmi_chain_catering = chain_catering[chain_catering['Количество заведений']==1].reset_index(drop=True)\n",
    "scc = len(senmi_chain_catering)\n",
    "scc_name = list(senmi_chain_catering['Название'])\n",
    "\n",
    "print('Количество сетей  с единственным заведением в сети: ', scc)\n",
    "display(senmi_chain_catering.head())\n",
    "display(senmi_chain_catering.tail())\n",
    "#print(scc_name)"
   ]
  },
  {
   "cell_type": "markdown",
   "metadata": {},
   "source": [
    "Возможно такие заведения получили сетевой статус по ошибке, а может быть  и \"на вырост\". На текущий момент не хватает информации для корректного определения статуса заведения."
   ]
  },
  {
   "cell_type": "markdown",
   "metadata": {},
   "source": [
    " "
   ]
  },
  {
   "cell_type": "markdown",
   "metadata": {},
   "source": [
    "**Графическое распределение сетевого признака**"
   ]
  },
  {
   "cell_type": "code",
   "execution_count": null,
   "metadata": {},
   "outputs": [],
   "source": [
    "base_name = 'Географическое распределение сетевого признака'\n",
    "    \n",
    "plt.figure(figsize=(14,7))\n",
    "title_name =  base_name \n",
    "sns.scatterplot(data=data, x='lng', y='lat', hue='chain')\n",
    "plt.title(title_name) \n",
    "plt.grid()\n",
    "plt.show()"
   ]
  },
  {
   "cell_type": "markdown",
   "metadata": {},
   "source": [
    "Сетевые и несетевые заведения распределены в основном однородно по городу."
   ]
  },
  {
   "cell_type": "markdown",
   "metadata": {},
   "source": [
    " "
   ]
  },
  {
   "cell_type": "markdown",
   "metadata": {},
   "source": [
    " Статистическая информация по количеству заведений в сети"
   ]
  },
  {
   "cell_type": "code",
   "execution_count": null,
   "metadata": {},
   "outputs": [],
   "source": [
    "chain_catering_all = pd.DataFrame(data.groupby('name')['address'].count().sort_values(ascending=False).reset_index())\n",
    "chain_catering_all.columns=['Название', 'Количество заведений']\n",
    "\n",
    "chain_catering_all['Количество заведений'].describe()"
   ]
  },
  {
   "cell_type": "markdown",
   "metadata": {},
   "source": [
    " "
   ]
  },
  {
   "cell_type": "markdown",
   "metadata": {},
   "source": [
    "Количество заведений в сети"
   ]
  },
  {
   "cell_type": "code",
   "execution_count": null,
   "metadata": {},
   "outputs": [],
   "source": [
    "chain_catering_all"
   ]
  },
  {
   "cell_type": "markdown",
   "metadata": {},
   "source": [
    " "
   ]
  },
  {
   "cell_type": "markdown",
   "metadata": {},
   "source": [
    "1. В исходном датасете  38.13%о т всех  - сетевые заведения, в которых на 762 сети приходится 3205 заведения.\n",
    "2. В исходном датасете  61.87 % от всех   представляют 5201 несетевых заведения.\n",
    "3. Топ-5 сетей по количеству заведений: Шоколадница\t(120), Домино'с Пицца (76), Додо Пицца(74), One Price Coffee (71), Яндекс Лавка (69).\n",
    "4. В исходном датасете представлены 5201 заведение- 61.87% от всего датасета. У некоторых заведений в данных имеется активный сетевой параметр, но заведений в сети одно. Возможно это ошибка системы сбора данных, возможно- некоторые заведения действительно сетевые, но в данный момент из сети действует только одна точка.\n",
    "5. Географическое распределение сетевых и не сетвых заведений относительно равномерно по всей исследуемой области.\n",
    "6. Для сетей заметно разделение на типичные (от 1 до 4 заведений) и крупные сети (больше 4 заведений).  Крупные сети (15% от всех сетей)  контролируют  54.29% всех сетевых заведений. \n",
    " "
   ]
  },
  {
   "cell_type": "markdown",
   "metadata": {},
   "source": [
    " "
   ]
  },
  {
   "cell_type": "markdown",
   "metadata": {},
   "source": [
    " #### Количество посадочных мест"
   ]
  },
  {
   "cell_type": "code",
   "execution_count": null,
   "metadata": {},
   "outputs": [],
   "source": [
    "print('Количество  записей без пропусков в данных о посадочных местах: ', len(data)- data['seats'].isna().sum())\n",
    "\n",
    "isna_free =   round(100 -data['seats'].isna().sum()/ len(data) * 100, 2)\n",
    "print('Доля записей без пропусков в данных о посадочных местах(от всего датасета), %: ', isna_free)\n",
    "print()"
   ]
  },
  {
   "cell_type": "markdown",
   "metadata": {},
   "source": [
    " "
   ]
  },
  {
   "cell_type": "code",
   "execution_count": null,
   "metadata": {},
   "outputs": [],
   "source": [
    "print('Количество уникальных записей с данными о посадочных местах: ', data['seats'].nunique())\n",
    "print()\n",
    "print('Перечень  уникальных записей с данными о посадочных местах (50 оценок из',data['seats'].nunique() , '):', '\\n')\n",
    "uniq_seats =data['seats'].sort_values().unique()\n",
    "print(uniq_seats[0:50])"
   ]
  },
  {
   "cell_type": "markdown",
   "metadata": {},
   "source": [
    " "
   ]
  },
  {
   "cell_type": "markdown",
   "metadata": {},
   "source": [
    " "
   ]
  },
  {
   "cell_type": "markdown",
   "metadata": {},
   "source": [
    "Статистическая информация по имеющимся данным  о посадочных местах"
   ]
  },
  {
   "cell_type": "code",
   "execution_count": null,
   "metadata": {},
   "outputs": [],
   "source": [
    "data['seats'].describe()"
   ]
  },
  {
   "cell_type": "code",
   "execution_count": null,
   "metadata": {},
   "outputs": [],
   "source": [
    "fig = px.box(data, y=\"seats\", title='Количество посадочных мест в  заведениях общественного питания города Москвы')\n",
    "fig.show()"
   ]
  },
  {
   "cell_type": "markdown",
   "metadata": {},
   "source": [
    " "
   ]
  },
  {
   "cell_type": "markdown",
   "metadata": {},
   "source": [
    " "
   ]
  },
  {
   "cell_type": "markdown",
   "metadata": {},
   "source": [
    "1. Основная масса заведений с имеющимися данными располагает залами  до 290 человек, медианное значение-75.\n",
    "2. Есть отдельные большие залы с количеством посадочных мест от 290 до 1288. \n",
    "3. Крупные залы характерны в основном для несетевых заведений.\n",
    "4. Пропуски в данных оставляем без заполнения, чтобы не исказить дальнейший анализ."
   ]
  },
  {
   "cell_type": "markdown",
   "metadata": {},
   "source": [
    " "
   ]
  },
  {
   "cell_type": "markdown",
   "metadata": {},
   "source": [
    " "
   ]
  },
  {
   "cell_type": "markdown",
   "metadata": {},
   "source": [
    "### Выделение названия улицы из  полного адреса"
   ]
  },
  {
   "cell_type": "markdown",
   "metadata": {},
   "source": [
    "Создаем столбец 'street' с названиями улиц из столбца с адресом. "
   ]
  },
  {
   "cell_type": "code",
   "execution_count": null,
   "metadata": {},
   "outputs": [],
   "source": [
    "#data.head(2)"
   ]
  },
  {
   "cell_type": "code",
   "execution_count": null,
   "metadata": {},
   "outputs": [],
   "source": [
    "#определим функцию-разделитель для адреса, на выходе которой получим тип и название улицы\n",
    "def splitter (full_adress):\n",
    "    split_adress= full_adress.split(',')\n",
    "    return split_adress[1]\n",
    "# выделение из полного адреса тип и название улицы\n",
    "data['street'] = data['address'].apply(splitter)"
   ]
  },
  {
   "cell_type": "code",
   "execution_count": null,
   "metadata": {},
   "outputs": [],
   "source": [
    "data.head(2)"
   ]
  },
  {
   "cell_type": "markdown",
   "metadata": {},
   "source": [
    " "
   ]
  },
  {
   "cell_type": "markdown",
   "metadata": {},
   "source": [
    " "
   ]
  },
  {
   "cell_type": "markdown",
   "metadata": {},
   "source": [
    "### Круглосуточные (ежедневные) заведения"
   ]
  },
  {
   "cell_type": "markdown",
   "metadata": {},
   "source": [
    "- Создаем столбец is_24/7 с обозначением, что заведение работает ежедневно и круглосуточно (24/7):\n",
    "     - логическое значение True — если заведение работает ежедневно и круглосуточно;\n",
    "     - логическое значение False — в противоположном случае."
   ]
  },
  {
   "cell_type": "code",
   "execution_count": null,
   "metadata": {},
   "outputs": [],
   "source": [
    "#data.head(2)"
   ]
  },
  {
   "cell_type": "markdown",
   "metadata": {},
   "source": [
    "Маркируем заведения, работающие 24/7"
   ]
  },
  {
   "cell_type": "code",
   "execution_count": null,
   "metadata": {},
   "outputs": [],
   "source": [
    "#определим функцию  для  маркировки заведений, работающих ежедневно и круглосуточно\n",
    "def full_day  (mode):\n",
    "    if  (str(mode).find('ежеднев')> -1) & (str(mode).find('сут')> -1) :\n",
    "        result = True\n",
    "    else:  result = False\n",
    "\n",
    "    return result\n",
    "\n",
    "\n",
    "# выделение из полного адреса тип и название улицы\n",
    "data['is_24/7'] = data['hours'].apply(full_day)"
   ]
  },
  {
   "cell_type": "markdown",
   "metadata": {},
   "source": [
    " "
   ]
  },
  {
   "cell_type": "markdown",
   "metadata": {},
   "source": [
    "**Количество заведений, работающих 24/7**"
   ]
  },
  {
   "cell_type": "code",
   "execution_count": null,
   "metadata": {},
   "outputs": [],
   "source": [
    "# расчет количества заведений, работающий 24/7\n",
    "\n",
    "count_full_day = data['is_24/7'].sum()\n",
    "\n",
    "print('Количество заведений в исходном датасете: ', data.shape[0])\n",
    "print('Количество заведений, работающих 24/7: ', count_full_day)\n",
    "print('Доля заведений, работающих 24/7 ко всем заведениям,%: ', round(100*count_full_day/data.shape[0] ,2) )  "
   ]
  },
  {
   "cell_type": "markdown",
   "metadata": {},
   "source": [
    " "
   ]
  },
  {
   "cell_type": "markdown",
   "metadata": {},
   "source": [
    "Пример маркированных заведений"
   ]
  },
  {
   "cell_type": "code",
   "execution_count": null,
   "metadata": {},
   "outputs": [],
   "source": [
    "data[data['is_24/7']==1].head(3)"
   ]
  },
  {
   "cell_type": "markdown",
   "metadata": {},
   "source": [
    " "
   ]
  },
  {
   "cell_type": "markdown",
   "metadata": {},
   "source": [
    " "
   ]
  },
  {
   "cell_type": "markdown",
   "metadata": {},
   "source": [
    " "
   ]
  },
  {
   "cell_type": "markdown",
   "metadata": {},
   "source": [
    "### Вывод по предобработке "
   ]
  },
  {
   "cell_type": "markdown",
   "metadata": {},
   "source": [
    "#### Дубликаты и пропуски в данных"
   ]
  },
  {
   "cell_type": "markdown",
   "metadata": {},
   "source": [
    "1. Явных дубликатов строк нет. Выявлено немного неявных дубликатов с именами в разных регистрах, дубликаты удалены.\n",
    "2. Пропуски в данных. Так как количество записей с пропусками больше 1%, то удалять эти записи не следут. \n",
    "3. Для  пропусков в столбце с категориями цен ('price') выполены замены на заглушку. Остальные пропуски оставлены как есть для коррректного последующего анализа данных.\n",
    "4. В целом наблюдается меньшее число пропусков  в данных объектов, расположенных ближе к центру города."
   ]
  },
  {
   "cell_type": "markdown",
   "metadata": {},
   "source": [
    " "
   ]
  },
  {
   "cell_type": "markdown",
   "metadata": {},
   "source": [
    "#### Представленные данные "
   ]
  },
  {
   "cell_type": "markdown",
   "metadata": {},
   "source": [
    "***Название***\n",
    "- В датасете представлено 5613  уникальных названий заведений для 8603 записей .  \n",
    "- Два из трех заведений носят одинаковые названия:  сетевые заведения и заведения с типовым названием \"Кафе\", \"Ресторан\" и т.п.\n",
    "\n",
    "***Категории заведений***  \n",
    "\n",
    "  В датасете представлены 8 уникальных категорий заведений: 'кафе', 'ресторан', 'кофейня', 'пиццерия', 'бар,паб', 'быстрое', 'питание', 'булочная', 'столовая'. \n",
    " \n",
    " \n",
    "***Географическое расположение***\n",
    "-  На 8403 записей датасета приходится 5753 уникальных адресов и 5614 уникальных названий. Предположим, что несколько одинаковых названий имеют заведения из одной сети. Предположим также, что по одному адресу может быть несколько точек общепита.\n",
    "- Заведения общепита расположены в 9 административных районах города Москвы: 'Северный административный округ', 'Северо-Восточный административный округ','Северо-Западный административный округ', 'Западный административный округ' 'Центральный административный округ',  'Восточный административный округ' 'Юго-Восточный административный округ', 'Южный административный округ', 'Юго-Западный административный округ'. \n",
    "\n",
    " \n",
    "***Режим работы***\n",
    "- В датасете представлены 1307 уникальных записей режимов работы. Данные представляют разнообразные режимы работы по часам в сутках, по дням недели, с перерывом и без, с выходными и без таковых.\n",
    "- Первое место по количеству заведений занимает тип режима работы \"ежедневно, 10:00–22:00\". \n",
    "- С небольшим отрывом на втором месте - круглосуточные заведения, работающие каждый день.\n",
    "- Из топ-20 режимов работы, 15 заведений работают ежедневно c различной продолжительностью рабочего дня.\n",
    "- Из всего датасета ежедневно работают 5020 заведений (~60% от всех) с 238 вариантами продолжительности рабочего дня.\n",
    "- Ежедневно и круглосуточно работают   730 заведений, что составляет  8.68% от всех заведений.  \n",
    "\n",
    "\n",
    "\n",
    "***Рейтинг***\n",
    "\n",
    "- Заведения представлены с рейтнгом от 1 до 5.\n",
    "- Основная масса (Q1-1.5IQR...Q3+1.5IQR) заведений имеет рейтинг 3.7-4.8. Медианное значение - 4.2.\n",
    "- Имеются выбросы как в большую сторону- до рейтинга 5.0, так и отдельные заведения с рейтнингом 1.0-3.6.\n",
    "\n",
    "\n",
    "\n",
    "***Ценовые категории***\n",
    "\n",
    "\n",
    "- В датасете данные по ценовым категориям, средним чекам, стоимости чашки кофе содержат значительное количество пропусков, больше 50%. На данный момент не выявлено закономерностей, позволяющих корректно заполнить пропуски.\n",
    "- В датасете представлены 4 уникальных ценовые категорий: 'высокие', 'выше среднего', 'средние', 'низкие'.\n",
    "- На 8403 записи в датасете имеем 897 уникальных ценовых диапазонов. Самые популярные (топ-5 по встречаемости): 1000-1250-1500 р. и 300-400 р\n",
    "- Цена чашки капучино из Топ-20 :  от 60 до 1568 рублей. Основная масса оценок стоимости чашки капучино укладывается в диапазон 124-225р., медианное значение- 168 руб.\n",
    "\n",
    "\n",
    "***Сетевой признак заведения***\n",
    "\n",
    "- В исходном датасете 38.13%о т всех - сетевые заведения, в которых на 762 сети приходится 3205 заведения.\n",
    "- В исходном датасете 61.87 % от всех представляют 5201 несетевых заведения.\n",
    "- Топ-5 сетей по количеству заведений: Шоколадница (120), Домино'с Пицца (76), Додо Пицца(74), One Price Coffee (71), Яндекс Лавка (69).\n",
    "- В исходном датасете представлены 5201 заведение- 61.87% от всего датасета. У некоторых заведений в данных имеется активный сетевой параметр, но заведений в сети одно. Возможно это ошибка системы сбора данных, возможно- некоторые заведения действительно сетевые, но в данный момент из сети действует только одна точка.\n",
    "- Географическое распределение сетевых и не сетвых заведений относительно равномерно по всей исследуемой области.\n",
    "- Для сетей заметно разделение на типичные (от 1 до 4 заведений) и крупные сети (больше 4 заведений). Крупные сети (15% от всех сетей) контролируют 54.29% всех сетевых заведений.\n",
    "\n",
    "\n",
    "\n",
    "***Количество посадочных мест***\n",
    "\n",
    "- Основная масса заведений с имеющимися данными располагает залами до 290 человек, медианное значение-75.\n",
    "- Есть отдельные большие залы с количеством посадочных мест от 290 до 1288. Крупные залы характерны в основном для несетевых заведений.\n",
    "- Заведения с крупными залами в основном располагаются вдоль крупных радиальных магистралей, в том числе: Волоколамское, Каширское, Дмтитровское и Ярославсвкое шоссе, Ленинский проспект.\n",
    "- Указанные оценки представлены для 57.04% записей от всего датасета.\n"
   ]
  },
  {
   "cell_type": "markdown",
   "metadata": {},
   "source": [
    " "
   ]
  },
  {
   "cell_type": "markdown",
   "metadata": {},
   "source": [
    " "
   ]
  },
  {
   "cell_type": "markdown",
   "metadata": {},
   "source": [
    " "
   ]
  },
  {
   "cell_type": "markdown",
   "metadata": {},
   "source": [
    "## Анализ данных"
   ]
  },
  {
   "cell_type": "markdown",
   "metadata": {},
   "source": [
    "*- Какие категории заведений представлены в данных? Исследуйте количество объектов общественного питания по категориям: рестораны, кофейни, пиццерии, бары и так далее. Постройте визуализации. Ответьте на вопрос о распределении заведений по категориям.  \n",
    "*- Исследуйте количество посадочных мест в местах по категориям: рестораны, кофейни, пиццерии, бары и так далее. Постройте визуализации. Проанализируйте результаты и сделайте выводы.\n",
    "\n",
    "\n",
    "*- Рассмотрите и изобразите соотношение сетевых и несетевых заведений в датасете. Каких заведений больше? Какие категории заведений чаще являются сетевыми? Исследуйте данные и ответьте на вопрос графиком.\n",
    "*- Сгруппируйте данные по названиям заведений и найдите топ-15 популярных сетей в Москве. Постройте подходящую для такой информации визуализацию. Знакомы ли вам эти сети? Есть ли какой-то признак, который их объединяет? К какой категории заведений они относятся? Отобразите общее количество заведений и количество заведений каждой категории по районам.* \n",
    "\n",
    "\n",
    "- Какие административные районы Москвы присутствуют в датасете? Отобразите общее количество заведений и количество заведений каждой категории по районам. Попробуйте проиллюстрировать эту информацию одним графиком.\n",
    "\n",
    "\n",
    "- Визуализируйте распределение средних рейтингов по категориям заведений. Сильно ли различаются усреднённые рейтинги в разных типах общепита?\n",
    "- Постройте фоновую картограмму (хороплет) со средним рейтингом заведений каждого района. Границы районов Москвы, которые встречаются в датасете, хранятся в файле admin_level_geomap.geojson (скачать файл для локальной работы).\n",
    "\n",
    "\n",
    "\n",
    "- Отобразите все заведения датасета на карте с помощью кластеров средствами библиотеки folium.\n",
    "- Найдите топ-15 улиц по количеству заведений. Постройте график распределения количества заведений и их категорий по этим улицам. Попробуйте проиллюстрировать эту информацию одним графиком.\n",
    "- Найдите улицы, на которых находится только один объект общепита. Что можно сказать об этих заведениях?\n",
    "\n",
    "\n",
    "\n",
    "- Значения средних чеков заведений хранятся в столбце middle_avg_bill. Эти числа показывают примерную стоимость заказа в рублях, которая чаще всего выражена диапазоном. Посчитайте медиану этого столбца для каждого района. Используйте это значение в качестве ценового индикатора района. Постройте фоновую картограмму (хороплет) с полученными значениями для каждого района. Проанализируйте цены в центральном административном округе и других. Как удалённость от центра влияет на цены в заведениях?\n",
    "\n",
    "\n",
    "\n",
    "- Необязательное задание: проиллюстрируйте другие взаимосвязи, которые вы нашли в данных. Например, по желанию исследуйте часы работы заведений и их зависимость от расположения и категории заведения. Также можно исследовать особенности заведений с плохими рейтингами, средние чеки в таких местах и распределение по категориям заведений.\n",
    "- Соберите наблюдения по вопросам выше в один общий вывод."
   ]
  },
  {
   "cell_type": "markdown",
   "metadata": {},
   "source": [
    "### Категории заведений, количество посадочных мест"
   ]
  },
  {
   "cell_type": "markdown",
   "metadata": {},
   "source": [
    "***Проектное задание***\n",
    "\n",
    "- Какие категории заведений представлены в данных? Исследуйте количество объектов общественного питания по категориям: рестораны, кофейни, пиццерии, бары и так далее. Постройте визуализации. Ответьте на вопрос о распределении заведений по категориям.  \n",
    "- Исследуйте количество посадочных мест в местах по категориям: рестораны, кофейни, пиццерии, бары и так далее. Постройте визуализации. Проанализируйте результаты и сделайте выводы."
   ]
  },
  {
   "cell_type": "markdown",
   "metadata": {},
   "source": [
    "#### Категории"
   ]
  },
  {
   "cell_type": "markdown",
   "metadata": {},
   "source": [
    "**Перечень категорий**"
   ]
  },
  {
   "cell_type": "code",
   "execution_count": null,
   "metadata": {},
   "outputs": [],
   "source": [
    "#data.head(2)"
   ]
  },
  {
   "cell_type": "code",
   "execution_count": null,
   "metadata": {},
   "outputs": [],
   "source": [
    "print('Количество уникальных категорий заведений: ', data['category'].nunique())\n",
    "print()\n",
    "print('Перечень уникальных категорий заведений:', '\\n')\n",
    "uniq_cat = list(data['category'].unique()) \n",
    "print(uniq_cat)"
   ]
  },
  {
   "cell_type": "markdown",
   "metadata": {},
   "source": [
    " "
   ]
  },
  {
   "cell_type": "markdown",
   "metadata": {},
   "source": [
    "**Количество заведений по категориям**"
   ]
  },
  {
   "cell_type": "markdown",
   "metadata": {},
   "source": [
    "Сгруппируем точки общепита по категориям и посмотрим на распределение по количеству заведений"
   ]
  },
  {
   "cell_type": "code",
   "execution_count": null,
   "metadata": {},
   "outputs": [],
   "source": [
    "category =  data.groupby('category')['name'].count().sort_values(ascending=False)\n",
    "category.plot(y='name' , kind='bar', figsize=(15,7), grid = True,\n",
    "               title ='Распределение количества заведений по  категориям')\n",
    "plt.show()\n",
    "\n",
    "category =  category.reset_index()\n",
    "category.columns=['Категория','Количество в категории']\n",
    "category['% от всех'] = round(100*category['Количество в категории']/category['Количество в категории'].sum() ,2) \n",
    "display(category)"
   ]
  },
  {
   "cell_type": "markdown",
   "metadata": {},
   "source": [
    " "
   ]
  },
  {
   "cell_type": "code",
   "execution_count": null,
   "metadata": {},
   "outputs": [],
   "source": [
    "fig = px.pie(category, values='Количество в категории', names='Категория', \n",
    "             title='Распределение количества заведений по  категориям')\n",
    "fig.show()"
   ]
  },
  {
   "cell_type": "markdown",
   "metadata": {},
   "source": [
    "1. Лидируют кафе (28.3%)  и рестораны (24.3%), вместе они составляют больше половины заведений общепита.\n",
    "2. Значительную долю рынка составляют кофейни и бары(пабы).\n",
    "3. Пиццерии и точки быстрого питания занимают по  7% рынка.\n",
    "4. Столовые и булочные составляют являются нишевым продуктом, не более 4 % на каждую из категорий."
   ]
  },
  {
   "cell_type": "markdown",
   "metadata": {},
   "source": [
    " "
   ]
  },
  {
   "cell_type": "markdown",
   "metadata": {},
   "source": [
    "**Географическое  распределение категорий** "
   ]
  },
  {
   "cell_type": "code",
   "execution_count": null,
   "metadata": {
    "scrolled": false
   },
   "outputs": [],
   "source": [
    "#uniq_cat\n",
    "base_name = 'Географическое распределение точек по категории   '\n",
    "    \n",
    "for g in  uniq_cat:\n",
    "    plt.figure(figsize=(14,7))\n",
    "    title_name =  base_name + g\n",
    "    sns.scatterplot(data= data[data['category']== g], x='lng', y='lat', hue='chain')\n",
    "    plt.title(title_name) \n",
    "    plt.grid()\n",
    "    plt.show()"
   ]
  },
  {
   "cell_type": "markdown",
   "metadata": {},
   "source": [
    "1. Кафе есть везде!  Сетевые и не сетвые кафе представлены по всему городу примерно равномерно.\n",
    "2. Рестораны и пабы/бары больше сконцентррированы в центре города, но рестораны достаточно представлены и в других частях города, что не скажешь про бары.\n",
    "3. Пиццерии, столовые и заведения быстрого питания представлены по всему городу примерно равномерно, но со значительно меньшей частотой, чем кафе.  Для столовых заметно преобладание независимых заведений.\n",
    "4. Для булочных интересна закономерность: на юго-востоке Москвы их меньше, тем более сетевых булочных."
   ]
  },
  {
   "cell_type": "markdown",
   "metadata": {},
   "source": [
    " "
   ]
  },
  {
   "cell_type": "markdown",
   "metadata": {},
   "source": [
    " "
   ]
  },
  {
   "cell_type": "markdown",
   "metadata": {},
   "source": [
    "#### Посадочные места "
   ]
  },
  {
   "cell_type": "markdown",
   "metadata": {},
   "source": [
    "**Посадочные места и категории**"
   ]
  },
  {
   "cell_type": "markdown",
   "metadata": {},
   "source": [
    "Количество посадочных мест в заведениях по каждой категории."
   ]
  },
  {
   "cell_type": "code",
   "execution_count": null,
   "metadata": {},
   "outputs": [],
   "source": [
    "fig = px.strip(data, y=\"seats\", x=\"category\", hover_data=data.columns)\n",
    "fig.show()"
   ]
  },
  {
   "cell_type": "markdown",
   "metadata": {},
   "source": [
    " Выделим цветом сетевой признак заведения."
   ]
  },
  {
   "cell_type": "code",
   "execution_count": null,
   "metadata": {
    "scrolled": false
   },
   "outputs": [],
   "source": [
    "fig = px.strip(data, y=\"seats\", x=\"category\", color=\"chain\", hover_data=data.columns)\n",
    "fig.show()"
   ]
  },
  {
   "cell_type": "markdown",
   "metadata": {},
   "source": [
    "Статистика по категориям по числу посадочных мест"
   ]
  },
  {
   "cell_type": "code",
   "execution_count": null,
   "metadata": {},
   "outputs": [],
   "source": [
    "category_stats = data.pivot_table( index = ['category'] ,\n",
    "                                  values= ['seats'], \n",
    "                                  aggfunc= {'max' ,'median', 'min', 'count'})\n",
    "category_stats = category_stats.reset_index()\n",
    "category_stats.columns = ['Категория', 'Количество','Максимум', 'Медиана', 'Минимум'] \n",
    "category_stats"
   ]
  },
  {
   "cell_type": "markdown",
   "metadata": {},
   "source": [
    " "
   ]
  },
  {
   "cell_type": "code",
   "execution_count": null,
   "metadata": {},
   "outputs": [],
   "source": [
    "category_stats.sort_values(by='Медиана', ascending= False).plot(x ='Категория' , y='Медиана' ,     kind='bar', figsize=(15,5), grid = True,\n",
    "               title ='Распределение медианного количества посадочных мест по  категориям ')\n",
    "plt.show()"
   ]
  },
  {
   "cell_type": "markdown",
   "metadata": {},
   "source": [
    " "
   ]
  },
  {
   "cell_type": "markdown",
   "metadata": {},
   "source": [
    " "
   ]
  },
  {
   "cell_type": "markdown",
   "metadata": {},
   "source": [
    " "
   ]
  },
  {
   "cell_type": "markdown",
   "metadata": {},
   "source": [
    "1. Заведения с нулевым количеством посадочных мест - это сбой системы сбора данных или \"заглушки\" для отсутствующих данных?\n",
    "2. Во всех категориях и с различным сетевым признаком есть точки с числом посадочных мест до 200.\n",
    "3. Отдельно следует посмотреть на крупные заведения с количеством посадочных мест более 400\n",
    "4. Не считая отдельных выбросов, для категорий \"быстрое питание\", \"столовая\" и \"булочная\" количество посадочных мест не превышает 400.\n",
    "5. Медианный размер зала для всех категорий находится в диапазоне 50-86 мест. Самый большой зал по медиане- у ресторанов, самый маленький занимают булочные.  Медианный размер зала кафе- 60 мест."
   ]
  },
  {
   "cell_type": "markdown",
   "metadata": {},
   "source": [
    " "
   ]
  },
  {
   "cell_type": "markdown",
   "metadata": {},
   "source": [
    " "
   ]
  },
  {
   "cell_type": "markdown",
   "metadata": {},
   "source": [
    "**Заведения с нулевым количеством посадочных мест**"
   ]
  },
  {
   "cell_type": "code",
   "execution_count": null,
   "metadata": {},
   "outputs": [],
   "source": [
    "display(data[data['seats']==0])"
   ]
  },
  {
   "cell_type": "markdown",
   "metadata": {},
   "source": [
    " "
   ]
  },
  {
   "cell_type": "markdown",
   "metadata": {},
   "source": [
    " "
   ]
  },
  {
   "cell_type": "markdown",
   "metadata": {},
   "source": [
    "Географическое распределение заведений с нулевым количеством посадочных мест"
   ]
  },
  {
   "cell_type": "code",
   "execution_count": null,
   "metadata": {},
   "outputs": [],
   "source": [
    "plt.figure(figsize=(14,7))\n",
    "\n",
    "sns.scatterplot(data= data[data['seats']== 0], x='lng', y='lat', hue='chain')\n",
    "plt.title('Географическое распределение заведений с нулевым количеством посадочных мест') \n",
    "plt.grid()\n",
    "plt.show()"
   ]
  },
  {
   "cell_type": "markdown",
   "metadata": {},
   "source": [
    "Распределение заведений с нулевым количеством по категориям"
   ]
  },
  {
   "cell_type": "code",
   "execution_count": null,
   "metadata": {},
   "outputs": [],
   "source": [
    "category =  data[data['seats']==0].groupby('category')['name'].count().sort_values(ascending=False)\n",
    "category.plot(y='name' , kind='bar', figsize=(15,7), grid = True,\n",
    "               title ='Распределение количества заведений c нулевым числом посадочных мест по  категориям')\n",
    "plt.show()\n",
    "\n",
    "category =  category.reset_index()\n",
    "category.columns=['Категория','Количество в категории']\n",
    "category['% от всех'] = round(100*category['Количество в категории']/category['Количество в категории'].sum() ,2) \n",
    "display(category)"
   ]
  },
  {
   "cell_type": "markdown",
   "metadata": {},
   "source": [
    "1. 136 заведений с нулевым количеством  посадочных мест и это явно не точки выдачи заказов. \n",
    "2. Явных корреляций как по географии, так и по категорям не выявлено. \n",
    "3. Нулевые значения выглядят как заглушки в пропусках при сборе данных. Эти данные оставляем как есть, они могут быть полезны для аналоиза по другим параметрам."
   ]
  },
  {
   "cell_type": "markdown",
   "metadata": {},
   "source": [
    " "
   ]
  },
  {
   "cell_type": "markdown",
   "metadata": {},
   "source": [
    " "
   ]
  },
  {
   "cell_type": "markdown",
   "metadata": {},
   "source": [
    "**Общепит с крупными залами**"
   ]
  },
  {
   "cell_type": "markdown",
   "metadata": {},
   "source": [
    "Расмотрим отдельно заведения общепита с крупными залами (более 290 посадочных мест)"
   ]
  },
  {
   "cell_type": "code",
   "execution_count": null,
   "metadata": {
    "scrolled": false
   },
   "outputs": [],
   "source": [
    "# отфильтруем датасет по числу посадочнцх мест\n",
    "data_big  = data[data['seats']>290]\n",
    "\n",
    "\n",
    "#отсортируем данные по адресу\n",
    "#display(data_big.sort_values(by ='address'))\n",
    "\n",
    "big_food = data_big.groupby('address')['name'].count().sort_values(ascending = False).reset_index()\n",
    "big_food.columns =['Адрес','Количество заведений по адресу']\n",
    "\n",
    "print('Количество всех заведений с большими залами:', data_big.shape[0])\n",
    "print()\n",
    "print('Количество адресов заведений с большими залами:', data_big['address'].nunique())\n",
    "print()\n",
    "print('Перечень (не полный) уникальных адресов заведений с большими залами и количеством заведений:')\n",
    "display(big_food[0:50])\n"
   ]
  },
  {
   "cell_type": "markdown",
   "metadata": {},
   "source": [
    "Посмотрим поближе на заведения с крупными залами, которые вдвоем и больше   ютятся по одному адресу."
   ]
  },
  {
   "cell_type": "code",
   "execution_count": null,
   "metadata": {
    "scrolled": false
   },
   "outputs": [],
   "source": [
    "mult_aggress = list(big_food.loc[big_food['Количество заведений по адресу']>1,'Адрес'])\n",
    "#mult_aggress\n",
    "\n",
    "display(data_big.loc[:, ['name','category','address','hours', 'seats']].query('address in @mult_aggress').sort_values(by='address').reset_index().head(20))"
   ]
  },
  {
   "cell_type": "markdown",
   "metadata": {},
   "source": [
    " "
   ]
  },
  {
   "cell_type": "markdown",
   "metadata": {},
   "source": [
    "**Географическое распределение заведений по количеству посадочных мест**"
   ]
  },
  {
   "cell_type": "code",
   "execution_count": null,
   "metadata": {},
   "outputs": [],
   "source": [
    "fig = px.scatter(data[~data['seats'].isna()],  x='lng', y='lat', size='seats', color='chain', hover_name = 'name',\n",
    "                 title='Географическое распределение заведений по количеству посадочных мест')\n",
    "fig.show()\n"
   ]
  },
  {
   "cell_type": "markdown",
   "metadata": {},
   "source": [
    " "
   ]
  },
  {
   "cell_type": "markdown",
   "metadata": {},
   "source": [
    "Выделим общепит с большими залами (больше 290 посадочных мест) в отдельную группу и посмотрим на картину распределения."
   ]
  },
  {
   "cell_type": "code",
   "execution_count": null,
   "metadata": {},
   "outputs": [],
   "source": [
    "fig = px.scatter(data[data['seats']>290],  x='lng', y='lat', size='seats', color='chain', hover_name = 'name',\n",
    "                 title='Географическое распределение заведений общепита с большими залами (больше 290 мест)')\n",
    "fig.show()\n"
   ]
  },
  {
   "cell_type": "markdown",
   "metadata": {},
   "source": [
    "Отдельную группу заведений с большими залами  вынесем на карту Москвы."
   ]
  },
  {
   "cell_type": "markdown",
   "metadata": {},
   "source": [
    " "
   ]
  },
  {
   "cell_type": "code",
   "execution_count": null,
   "metadata": {
    "scrolled": false
   },
   "outputs": [],
   "source": [
    "# moscow_lat - широта центра Москвы, moscow_lng - долгота центра Москвы\n",
    "moscow_lat, moscow_lng = 55.751244, 37.618423\n",
    "\n",
    "# создаём карту Москвы\n",
    "m = Map(location=[moscow_lat, moscow_lng], zoom_start=10)\n",
    "# создаём пустой кластер, добавляем его на карту\n",
    "marker_cluster = MarkerCluster().add_to(m)\n",
    "\n",
    "# пишем функцию, которая принимает строку датафрейма,\n",
    "# создаёт маркер в текущей точке и добавляем его в кластер marker_cluster\n",
    "def create_clusters(row):\n",
    "    Marker(\n",
    "        [row['lat'], row['lng']],\n",
    "    ).add_to(marker_cluster)\n",
    "\n",
    "# применяем функцию create_clusters() к каждой строке датафрейма\n",
    "data[data['seats']>290].apply(create_clusters, axis=1)\n",
    "\n",
    "# выводим карту\n",
    "m"
   ]
  },
  {
   "cell_type": "markdown",
   "metadata": {},
   "source": [
    " "
   ]
  },
  {
   "cell_type": "markdown",
   "metadata": {},
   "source": [
    " "
   ]
  },
  {
   "cell_type": "markdown",
   "metadata": {},
   "source": [
    " "
   ]
  },
  {
   "cell_type": "markdown",
   "metadata": {},
   "source": [
    "**Небольшие залы**"
   ]
  },
  {
   "cell_type": "markdown",
   "metadata": {},
   "source": [
    "Выделим группу точек общепита с количеством посадочных мест (от 1 до 20). "
   ]
  },
  {
   "cell_type": "markdown",
   "metadata": {},
   "source": [
    " "
   ]
  },
  {
   "cell_type": "code",
   "execution_count": null,
   "metadata": {},
   "outputs": [],
   "source": [
    "display(data[(data['seats']>0) & (data['seats']<21)].reset_index())"
   ]
  },
  {
   "cell_type": "markdown",
   "metadata": {},
   "source": [
    " "
   ]
  },
  {
   "cell_type": "markdown",
   "metadata": {},
   "source": [
    " "
   ]
  },
  {
   "cell_type": "markdown",
   "metadata": {},
   "source": [
    "Географическое распределение заведений с небольшими залами"
   ]
  },
  {
   "cell_type": "code",
   "execution_count": null,
   "metadata": {},
   "outputs": [],
   "source": [
    "plt.figure(figsize=(14,7))\n",
    "\n",
    "sns.scatterplot(data= data[(data['seats']>0) & (data['seats']<21)], x='lng', y='lat', hue='chain')\n",
    "plt.title('Географическое распределение заведений с небольшими залами') \n",
    "plt.grid()\n",
    "plt.show()"
   ]
  },
  {
   "cell_type": "markdown",
   "metadata": {},
   "source": [
    " Распределение в целом равномерное по городу."
   ]
  },
  {
   "cell_type": "markdown",
   "metadata": {},
   "source": [
    " "
   ]
  },
  {
   "cell_type": "markdown",
   "metadata": {},
   "source": [
    " "
   ]
  },
  {
   "cell_type": "markdown",
   "metadata": {},
   "source": [
    "Распределение заведений с небольшими залами по категориям ( в сравнении с основным датасетом)"
   ]
  },
  {
   "cell_type": "code",
   "execution_count": null,
   "metadata": {},
   "outputs": [],
   "source": [
    "category_min =  data[(data['seats']>0) & (data['seats']<21)].groupby('category')['name'].count().sort_values(ascending=False)\n",
    "category_min =  category_min.reset_index()\n",
    "category_min.columns=['Категория','Количество в категории']\n",
    "category_min['% от всех'] = round(100*category_min['Количество в категории']/category_min['Количество в категории'].sum() ,2) \n",
    "\n",
    "\n",
    "merge_cat = category.merge(category_min, on = 'Категория', how='left')\n",
    "merge_cat.columns =['Категория','Количество в категории','% от всех','Количество в категории (зал до20)','% от всех(зал до20)' ]\n",
    "\n",
    "\n",
    "merge_cat.plot(x='Категория' ,   y=['% от всех', '% от всех(зал до20)' ], kind='bar', figsize=(15,7), grid = True,\n",
    "               title ='Распределение количества заведений (все и c небольшими залами) по  категориям')\n",
    "plt.show()\n",
    "\n",
    "merge_cat"
   ]
  },
  {
   "cell_type": "markdown",
   "metadata": {},
   "source": [
    " Для небольших залов акценты сместились на кафе, кофейни, пиццерии и заведения быстрого питания."
   ]
  },
  {
   "cell_type": "markdown",
   "metadata": {},
   "source": [
    " "
   ]
  },
  {
   "cell_type": "markdown",
   "metadata": {},
   "source": [
    " "
   ]
  },
  {
   "cell_type": "markdown",
   "metadata": {},
   "source": [
    "#### Вывод по пункту \"Категории заведений, количество посадочных мест\""
   ]
  },
  {
   "cell_type": "markdown",
   "metadata": {},
   "source": [
    "1. В датасете имеется  8 уникальных категорий заведений: 'кафе', 'ресторан', 'кофейня', 'пиццерия', 'бар,паб', 'быстрое питание', 'булочная', 'столовая'.\n",
    "2. Лидируют кафе (28.3%)  и рестораны (24.3%), вместе они составляют больше половины заведений общепита. Значительную долю рынка составляют кофейни и бары(пабы).  Пиццерии и точки быстрого питания занимают по  7% рынка. Столовые и булочные составляют являются нишевым продуктом, не более 4 % на каждую из категорий.\n",
    "3. Кафе есть везде!  Сетевые и не сетвые кафе представлены по всему городу примерно равномерно.\n",
    "4. Рестораны и пабы/бары больше сконцентррированы в центре города, но рестораны достаточно представлены и в других частях города, что не скажешь про бары.\n",
    "5. Пиццерии, столовые и заведения быстрого питания представлены по всему городу примерно равномерно, но со значительно меньшей частотой, чем кафе.  Для столовых заметно преобладание независимых заведений.\n",
    "6. Для булочных интересна закономерность: на юго-востоке Москвы их меньше, тем более сетевых булочных.\n",
    "7. Основная масса заведений с имеющимися данными располагает залами  до 290 человек, медианное значение-75.\n",
    "8. Есть отдельные большие залы с количеством посадочных мест от 290 до 1288. \n",
    "9. Крупные залы характерны в основном для несетевых заведений.\n",
    "10. Часто большое количество посадочных мест для крупных залов является не сосбственным, а фудкорта, и заведение делит эти места с другими точками общепита  с одним адресом.\n",
    "11. Заведения с крупными залами (>290) в основном располагаются вдоль крупных радиальных магистралей, в том числе: Волоколамское, Каширское, Дмтитровское и Ярославсвкое шоссе, Ленинский проспект. На юго-западе Москвы наблюдается отдельный кластер крупых точек общепита.\n",
    "12. Небольшие залы более характерны для кафе и кофеен (из-за уютности),  пиццерий и точек быстрого питания -по определению там надолго не задерживаются, следовательно- много мест не нужно.  Наоборот, доля ресторанов, баров и  столовых с маленькими залами меньше, чем их доля в целом по датасету.  \n",
    "13. Указанные оценки и выводы относятся к 57.04%  от всего датасета для записей без пропусков в данных по исследуемым параметрам. \n",
    "\n"
   ]
  },
  {
   "cell_type": "markdown",
   "metadata": {},
   "source": [
    " "
   ]
  },
  {
   "cell_type": "markdown",
   "metadata": {},
   "source": [
    " "
   ]
  },
  {
   "cell_type": "markdown",
   "metadata": {},
   "source": [
    " "
   ]
  },
  {
   "cell_type": "markdown",
   "metadata": {},
   "source": [
    "### Сетевые заведения"
   ]
  },
  {
   "cell_type": "markdown",
   "metadata": {},
   "source": [
    "**Проектное задание**\n",
    "- Рассмотрите и изобразите соотношение сетевых и несетевых заведений в датасете. Каких заведений больше? Какие категории заведений чаще являются сетевыми? Исследуйте данные и ответьте на вопрос графиком.\n",
    "- Сгруппируйте данные по названиям заведений и найдите топ-15 популярных сетей в Москве. Постройте подходящую для такой информации визуализацию. Знакомы ли вам эти сети? Есть ли какой-то признак, который их объединяет? К какой категории заведений они относятся? \n",
    "- Отобразите общее количество заведений и количество заведений каждой категории по районам.\n"
   ]
  },
  {
   "cell_type": "markdown",
   "metadata": {},
   "source": [
    "#### Сетевые и несетевые заведения"
   ]
  },
  {
   "cell_type": "code",
   "execution_count": null,
   "metadata": {},
   "outputs": [],
   "source": [
    "no_chain_cnt = (data['chain']==0).sum()\n",
    "chain_cnt = data['chain'].sum()\n",
    "\n",
    "print(\"Общее количество заведений в датасете:\", len(data))\n",
    "print()\n",
    "print('Количество записей датасета с признаком - несетевое заведение:', no_chain_cnt)\n",
    "print('Доля записей датасета с признаком - несетевое заведение, от всех записей датасета, %:', \n",
    "                                                       round( 100*no_chain_cnt/len(data),2))\n",
    "print()\n",
    "print('Количество записей датасета с признаком - сетевое заведение', chain_cnt)\n",
    "print('Доля записей датасета с признаком - сетевое заведение, от всех записей датасета,% :', \n",
    "                                                       round( 100*chain_cnt/len(data),2))"
   ]
  },
  {
   "cell_type": "markdown",
   "metadata": {},
   "source": [
    " "
   ]
  },
  {
   "cell_type": "markdown",
   "metadata": {},
   "source": [
    " "
   ]
  },
  {
   "cell_type": "markdown",
   "metadata": {},
   "source": [
    "**Графическое распределение сетевого признака**"
   ]
  },
  {
   "cell_type": "code",
   "execution_count": null,
   "metadata": {},
   "outputs": [],
   "source": [
    "base_name = 'Географическое распределение сетевого признака'\n",
    "    \n",
    "plt.figure(figsize=(14,7))\n",
    "title_name =  base_name \n",
    "sns.scatterplot(data=data, x='lng', y='lat', hue='chain')\n",
    "plt.title(title_name) \n",
    "plt.grid()\n",
    "plt.show()"
   ]
  },
  {
   "cell_type": "markdown",
   "metadata": {},
   "source": [
    "Сетевые и не сетеые заведения в целом распределены равномерно по городу. Заметно, что несетевых больше."
   ]
  },
  {
   "cell_type": "markdown",
   "metadata": {},
   "source": [
    " "
   ]
  },
  {
   "cell_type": "markdown",
   "metadata": {},
   "source": [
    " "
   ]
  },
  {
   "cell_type": "markdown",
   "metadata": {},
   "source": [
    "#### Несетевые заведения"
   ]
  },
  {
   "cell_type": "markdown",
   "metadata": {},
   "source": [
    "ТОП-20 несетевых заведений по количеству заведений на одно название"
   ]
  },
  {
   "cell_type": "code",
   "execution_count": null,
   "metadata": {},
   "outputs": [],
   "source": [
    "no_chain_name = pd.DataFrame(data[data['chain']==0].groupby('name')['address'].count().sort_values(ascending=False).reset_index())\n",
    "no_chain_name.columns=['Название', 'Количество заведений']\n",
    "no_chain_name.head(20)"
   ]
  },
  {
   "cell_type": "code",
   "execution_count": null,
   "metadata": {},
   "outputs": [],
   "source": [
    "print('Всего различных наименований несетевых заведений:', len(no_chain_name) )"
   ]
  },
  {
   "cell_type": "markdown",
   "metadata": {},
   "source": [
    "Из 4851  наименований  для  16 наименований несетевых заведений количество заведений больше единицы. Учитывая неоригинальный нейминг, предположим что это, все же, заведения, не отсносящиеся к сетевому общепиту. Учитывая имеющиеся данные, сложно  однозначно и безошибочно категоризировать данные заведения по сетевому признаку."
   ]
  },
  {
   "cell_type": "markdown",
   "metadata": {},
   "source": [
    " "
   ]
  },
  {
   "cell_type": "markdown",
   "metadata": {},
   "source": [
    "####  Cетевой общепит"
   ]
  },
  {
   "cell_type": "markdown",
   "metadata": {},
   "source": [
    "Количество заведений в сети"
   ]
  },
  {
   "cell_type": "code",
   "execution_count": null,
   "metadata": {},
   "outputs": [],
   "source": [
    "chain_catering = pd.DataFrame(data[data['chain']==1].groupby('name')['address'].count().sort_values(ascending=False).reset_index())\n",
    "chain_catering.columns=['Название', 'Количество заведений']\n",
    "print()\n",
    "print('ТОП-15 сетей по количеству заведений в сети')\n",
    "display(chain_catering.head(15))\n",
    "print()\n",
    "print()\n",
    "print('Обратный ТОП-15 сетей по (минимальному) количеству заведений в сети ')\n",
    "display(chain_catering.tail(15))"
   ]
  },
  {
   "cell_type": "markdown",
   "metadata": {},
   "source": [
    " "
   ]
  },
  {
   "cell_type": "markdown",
   "metadata": {},
   "source": [
    "Статистическая информация по количеству заведений в сети"
   ]
  },
  {
   "cell_type": "code",
   "execution_count": null,
   "metadata": {},
   "outputs": [],
   "source": [
    "chain_catering['Количество заведений'].describe()"
   ]
  },
  {
   "cell_type": "markdown",
   "metadata": {},
   "source": [
    " "
   ]
  },
  {
   "cell_type": "code",
   "execution_count": null,
   "metadata": {},
   "outputs": [],
   "source": [
    "fig = px.box(chain_catering[chain_catering['Количество заведений']>0], y=\"Количество заведений\",\n",
    "             title='Распределение количества заведений по сетям общественного питания города Москвы')\n",
    "fig.show()"
   ]
  },
  {
   "cell_type": "markdown",
   "metadata": {},
   "source": [
    "- Наглядно представлена диспропорция по размеру сетей. \n",
    "- Разделим сети на типичные- от 1 до 4 заведений в сети и крупные сети с числом заведений больше 4."
   ]
  },
  {
   "cell_type": "markdown",
   "metadata": {},
   "source": [
    " "
   ]
  },
  {
   "cell_type": "code",
   "execution_count": null,
   "metadata": {},
   "outputs": [],
   "source": [
    "fig = px.box(chain_catering[chain_catering['Количество заведений']<=4], y=\"Количество заведений\", title='Распределение количества заведений по типичным сетям общественного питания города Москвы')\n",
    "fig.show()"
   ]
  },
  {
   "cell_type": "code",
   "execution_count": null,
   "metadata": {},
   "outputs": [],
   "source": [
    "fig = px.box(chain_catering[chain_catering['Количество заведений']>4], y=\"Количество заведений\", title='Распределение количества заведений по крупным сетям общественного питания города Москвы')\n",
    "fig.show()"
   ]
  },
  {
   "cell_type": "markdown",
   "metadata": {},
   "source": [
    "**Охват крупных и типичных сетей**"
   ]
  },
  {
   "cell_type": "code",
   "execution_count": null,
   "metadata": {},
   "outputs": [],
   "source": [
    "all_chain = chain_catering['Количество заведений'].sum()\n",
    "all_chain_numb = chain_catering['Название'].count()\n",
    "\n",
    "small_chain = chain_catering.loc[chain_catering['Количество заведений']<=4, 'Количество заведений'].sum()\n",
    "small_chain_numb = chain_catering.loc[chain_catering['Количество заведений']<=4, 'Название'].count()\n",
    "print('Количество заведений в типичных сетях (1-4 точки): ',small_chain, 'точек в',small_chain_numb ,'сетях' )\n",
    "print('Доля заведений типичных сетей от всех сетевых, % :', round(100 * small_chain/all_chain ,2))\n",
    "print('Доля типичных сетей от всех сетей, % :', round(100 * small_chain_numb/all_chain_numb ,2))\n",
    "print()\n",
    "\n",
    "big_chain = chain_catering.loc[chain_catering['Количество заведений']>4, 'Количество заведений'].sum()\n",
    "big_chain_numb = chain_catering.loc[chain_catering['Количество заведений']>4, 'Название'].count()\n",
    "print('Количество заведений в крупных сетях (>4 точек): ',big_chain, 'точек в',big_chain_numb ,'сетях' )\n",
    "print('Доля заведений крупных сетей от всех сетевых, % :', round(100 * big_chain/all_chain ,2))\n",
    "print('Доля крупных сетей от всех сетей, % :', round(100 * big_chain_numb/all_chain_numb ,2))\n"
   ]
  },
  {
   "cell_type": "markdown",
   "metadata": {},
   "source": [
    " "
   ]
  },
  {
   "cell_type": "markdown",
   "metadata": {},
   "source": [
    " Перечень сетевых заведений c количеством заведений, равным 1"
   ]
  },
  {
   "cell_type": "code",
   "execution_count": null,
   "metadata": {},
   "outputs": [],
   "source": [
    "chain_catering = pd.DataFrame(data[data['chain']==1].groupby('name')['address'].count().sort_values(ascending=False).reset_index())\n",
    "chain_catering.columns=['Название', 'Количество заведений']\n",
    "\n",
    "senmi_chain_catering = chain_catering[chain_catering['Количество заведений']==1].reset_index(drop=True)\n",
    "scc = len(senmi_chain_catering)\n",
    "scc_name = list(senmi_chain_catering['Название'])\n",
    "\n",
    "print('Количество сетей  с единственным заведением в сети: ', scc)\n",
    "display(senmi_chain_catering.head())\n",
    "display(senmi_chain_catering.tail())\n",
    "#print(scc_name)"
   ]
  },
  {
   "cell_type": "markdown",
   "metadata": {},
   "source": [
    "Возможно такие заведения получили сетевой статус по ошибке, а может быть  и \"на вырост\". На текущий момент не хватает информации для корректного определения статуса заведения."
   ]
  },
  {
   "cell_type": "markdown",
   "metadata": {},
   "source": [
    " "
   ]
  },
  {
   "cell_type": "markdown",
   "metadata": {},
   "source": [
    " "
   ]
  },
  {
   "cell_type": "markdown",
   "metadata": {},
   "source": [
    "#### Категориии  сетевых заведений"
   ]
  },
  {
   "cell_type": "markdown",
   "metadata": {},
   "source": [
    " "
   ]
  },
  {
   "cell_type": "code",
   "execution_count": null,
   "metadata": {},
   "outputs": [],
   "source": [
    "category_chain =  data[data['chain']==1].groupby('category')['name'].count().sort_values(ascending=False)\n",
    "category_chain =  category_chain.reset_index()\n",
    "category_chain.columns=['Категория','Количество в категории']\n",
    "category_chain['% от всех'] = round(100*category_chain['Количество в категории']/category_chain['Количество в категории'].sum() ,2) \n",
    "display(category_chain)\n",
    "\n",
    "category_chain.plot(x='Категория' ,   y='Количество в категории', kind='bar', figsize=(15,7), grid = True,\n",
    "               title ='Распределение количества сетевых заведений  по  категориям')\n",
    "plt.show()\n"
   ]
  },
  {
   "cell_type": "markdown",
   "metadata": {},
   "source": [
    " "
   ]
  },
  {
   "cell_type": "markdown",
   "metadata": {},
   "source": [
    "1. Сетевыее заведения представлены во всех категориях датасета. \n",
    "2. Лидируют по количеству сетевых заведений кафе, рестораны и кофейни.\n",
    "3. С большим отрывом следуют пиццерии и заведения быстрого питания.\n",
    "4. Примерно с одинаковой долей представлены бары и булочные.\n",
    "5. Столовые - самый непопулярный формат сетевого бизнеса в сфере общепита -2.75% от всех заведений."
   ]
  },
  {
   "cell_type": "markdown",
   "metadata": {},
   "source": [
    " "
   ]
  },
  {
   "cell_type": "markdown",
   "metadata": {},
   "source": [
    " "
   ]
  },
  {
   "cell_type": "markdown",
   "metadata": {},
   "source": [
    "#### ТОП-15  сетей по количеству заведений"
   ]
  },
  {
   "cell_type": "code",
   "execution_count": null,
   "metadata": {},
   "outputs": [],
   "source": [
    "chain_catering = pd.DataFrame(data[data['chain']==1].groupby('name')['address'].count().sort_values(ascending=False).reset_index())\n",
    "chain_catering.columns=['Название', 'Количество заведений']\n",
    "print()\n",
    "print('ТОП-15 сетей по количеству заведений в сети')\n",
    "display(chain_catering.head(15))\n",
    "print()\n",
    "\n",
    "top_chain = list(chain_catering['Название'].head(15))\n",
    "#top_chain\n",
    "\n",
    "top_chain_cnt = data.query('name == @top_chain')['name'].count()\n",
    "\n",
    "print('Количество заведений, контролируемых ТОП-15 сетями: ', top_chain_cnt)\n",
    "print('Доля заведений, контролируемых ТОП-15 сетями, от всех сетей, в %: ',\n",
    "    round( 100* top_chain_cnt /chain_cnt,2))\n",
    "\n",
    "print('Доля заведений, контролируемых ТОП-15 сетями, от всего датасета, в %: ',\n",
    "    round( 100* top_chain_cnt/len(data),2))\n",
    "\n",
    "\n"
   ]
  },
  {
   "cell_type": "markdown",
   "metadata": {},
   "source": [
    " "
   ]
  },
  {
   "cell_type": "markdown",
   "metadata": {},
   "source": [
    "Посмотрим на этот перечень в разрезе различных параметров"
   ]
  },
  {
   "cell_type": "markdown",
   "metadata": {},
   "source": [
    "**Категории**"
   ]
  },
  {
   "cell_type": "code",
   "execution_count": null,
   "metadata": {},
   "outputs": [],
   "source": [
    "top_chain_category = data.query('name == @top_chain').groupby('category')['name'].count().sort_values(ascending=False).reset_index()\n",
    "top_chain_category.columns=['Название', 'Количество заведений']\n",
    "\n",
    "print('\\n')\n",
    "display(top_chain_category)\n",
    "print('\\n','\\n')\n",
    "top_chain_category.sort_values(by='Количество заведений', ascending=True).plot(x='Название' ,   y='Количество заведений', kind='barh', figsize=(15,7), grid = True,\n",
    "               title ='Распределение количества заведений ТОП-15 сетей по  категориям')\n",
    "plt.show()\n",
    "print('\\n','\\n')\n",
    "\n",
    "fig = px.pie(top_chain_category, values='Количество заведений', names='Название', \n",
    "             title='Распределение количества заведений ТОП-15 сетей по  категориям')\n",
    "fig.show()\n"
   ]
  },
  {
   "cell_type": "markdown",
   "metadata": {},
   "source": [
    " "
   ]
  },
  {
   "cell_type": "markdown",
   "metadata": {},
   "source": [
    "**Графическое распределение заведений покатегорям**"
   ]
  },
  {
   "cell_type": "code",
   "execution_count": null,
   "metadata": {},
   "outputs": [],
   "source": [
    "base_name = 'Географическое распределение заведений по категорям'\n",
    "    \n",
    "fig = px.scatter(data.query('name == @top_chain'), x='lng', y='lat', color='category', title =base_name)\n",
    "fig.show()"
   ]
  },
  {
   "cell_type": "markdown",
   "metadata": {},
   "source": [
    "1. Как и в целом для сетевого общепита, ТОП сетей также представлены во всех категориях. Но распределение по категориям изменилось.\n",
    "2. Лидер с большим отрывом - кофейни, второе и третье место занимают   рестораны   и  пиццерии соответственно.\n",
    "3. Кафе находится на 4 месте с 12% заведений.\n",
    "4. Аустайдеры по количеству заведений в категории - булочные, заведения быстрого питания, бары и столовые. \n",
    "5. Интересно, а рестораны быстрого питания по какой категории проходят? Каким образом был сформирован исходный датасет?"
   ]
  },
  {
   "cell_type": "markdown",
   "metadata": {},
   "source": [
    " "
   ]
  },
  {
   "cell_type": "markdown",
   "metadata": {},
   "source": [
    "**Административные округа**"
   ]
  },
  {
   "cell_type": "code",
   "execution_count": null,
   "metadata": {},
   "outputs": [],
   "source": [
    "top_chain_district = data.query('name == @top_chain').groupby('district')['name'].count().sort_values(ascending=False).reset_index()\n",
    "top_chain_district.columns=['Название', 'Количество заведений']\n",
    "\n",
    "print('\\n')\n",
    "display(top_chain_district)\n",
    "print('\\n','\\n')\n",
    "top_chain_district.sort_values(by='Количество заведений', ascending=True).plot(x='Название' ,   y='Количество заведений', kind='barh', figsize=(15,7), grid = True,\n",
    "               title ='Распределение количества заведений ТОП-15 сетей по  административным округам')\n",
    "plt.show()\n",
    "print('\\n','\\n')\n",
    "\n",
    "fig = px.pie(top_chain_district, values='Количество заведений', names='Название', \n",
    "             title='Распределение количества заведений ТОП-15 сетей по  административым округам')\n",
    "fig.show()\n"
   ]
  },
  {
   "cell_type": "markdown",
   "metadata": {},
   "source": [
    " "
   ]
  },
  {
   "cell_type": "markdown",
   "metadata": {},
   "source": [
    "**Графическое распределение по административным районам**"
   ]
  },
  {
   "cell_type": "code",
   "execution_count": null,
   "metadata": {},
   "outputs": [],
   "source": [
    "base_name = 'Географическое распределение заведений по административным районам'\n",
    "    \n",
    "fig = px.scatter(data.query('name == @top_chain'), x='lng', y='lat', color='district', title =base_name)\n",
    "fig.show()"
   ]
  },
  {
   "cell_type": "markdown",
   "metadata": {},
   "source": [
    "1. Лидирующий район с больше, чем четвертью заведений, - Центральный АО.\n",
    "2. Больше  40%  заведений находятся почти поровну в  Южном, Западном, Северном и Северо-Восточном АО.\n",
    "3. Аустайдеры по количеству заведений - ЮВАО (6.86%), СЗАО (5.64%)"
   ]
  },
  {
   "cell_type": "markdown",
   "metadata": {},
   "source": [
    " "
   ]
  },
  {
   "cell_type": "markdown",
   "metadata": {},
   "source": [
    "**Режим работы (топ-10 режимов)**"
   ]
  },
  {
   "cell_type": "code",
   "execution_count": null,
   "metadata": {},
   "outputs": [],
   "source": [
    "top_chain_hours = data.query('name == @top_chain').groupby('hours')['name'].count().sort_values(ascending=False).reset_index()\n",
    "top_chain_hours.columns=['Название', 'Количество заведений']\n",
    "\n",
    "print('\\n')\n",
    "print('ТОП-10 режимов работы в  ТОП-15 сетях')\n",
    "\n",
    "display(top_chain_hours.head(10))\n",
    "print('\\n','\\n')\n",
    "top_chain_hours[0:10].sort_values(by='Количество заведений', ascending=True).plot(x='Название' ,   y='Количество заведений', kind='barh', figsize=(15,7), grid = True,\n",
    "               title ='Распределение количества заведений ТОП-15 сетей по режиму работы')\n",
    "plt.show()\n",
    "print('\\n','\\n')\n",
    "\n",
    "#fig = px.pie(top_chain_hours[0:10], values='Количество заведений', names='Название', \n",
    "#             title='Распределение количества заведений ТОП-15 сетей по режиму работы')\n",
    "#fig.show()\n"
   ]
  },
  {
   "cell_type": "markdown",
   "metadata": {},
   "source": [
    "1. Основная часть заведений работает ежедневно,  часть из них круглосуточно.\n",
    "2. Наиболее популярные часы работы:  с  10 до 22 часов. \n",
    "3. Есть группа заведений, не работающих в выходные."
   ]
  },
  {
   "cell_type": "markdown",
   "metadata": {},
   "source": [
    " "
   ]
  },
  {
   "cell_type": "markdown",
   "metadata": {},
   "source": [
    "**Ценовая категория  ('price')**"
   ]
  },
  {
   "cell_type": "code",
   "execution_count": null,
   "metadata": {},
   "outputs": [],
   "source": [
    "top_chain_price = data.query('name == @top_chain').groupby('price')['name'].count().sort_values(ascending=False).reset_index()\n",
    "top_chain_price.columns=['Название', 'Количество заведений']\n",
    "\n",
    "print('\\n')\n",
    "display(top_chain_price)\n",
    "print('\\n','\\n')\n",
    "top_chain_price.sort_values(by='Количество заведений', ascending=True).plot(x='Название' ,   y='Количество заведений', kind='barh', figsize=(15,7), grid = True,\n",
    "               title ='Распределение количества заведений ТОП-15 сетей по  ценовым категориям')\n",
    "plt.show()\n",
    "print('\\n','\\n')\n",
    "\n",
    "fig = px.pie(top_chain_price, values='Количество заведений', names='Название', \n",
    "             title='Распределение количества заведений ТОП-15 сетей по  ценовым категориям')\n",
    "fig.show()\n"
   ]
  },
  {
   "cell_type": "markdown",
   "metadata": {},
   "source": [
    " "
   ]
  },
  {
   "cell_type": "markdown",
   "metadata": {},
   "source": [
    "**Графическое распределение заведений по ценовым категориям**"
   ]
  },
  {
   "cell_type": "code",
   "execution_count": null,
   "metadata": {},
   "outputs": [],
   "source": [
    "top_chain"
   ]
  },
  {
   "cell_type": "code",
   "execution_count": null,
   "metadata": {},
   "outputs": [],
   "source": [
    "#base_name = 'Географическое распределение заведений по  ценовым категориям'\n",
    "#fig = px.scatter(data.query('name == @top_chain'), x='lng', y='lat', color='price', title =base_name)\n",
    "#fig.show()\n",
    "\n",
    "\n",
    "base_name = 'Географическое распределение заведений по административным районам'\n",
    "fig = px.scatter(data[~data['price'].isna()].query('name == @top_chain'), x='lng', y='lat', color='price', title =base_name)\n",
    "fig.show()"
   ]
  },
  {
   "cell_type": "markdown",
   "metadata": {},
   "source": [
    " 70.5 % заведений из ТОП-15 не имеют данных по категории.  Если их не учитывать, то для оставшихся получаются следующие результаты:\n",
    "- лидируют заведения со средним ценовым диапазоном (географически распределены равномерно, кроме  юго-востока города)\n",
    "- низкая ценовая категория, выше среднего и высокая занимают небольшую часть ТОПа,  географически распределены неравномерно, вне центра, стремление к окраинам.\n"
   ]
  },
  {
   "cell_type": "markdown",
   "metadata": {},
   "source": [
    " "
   ]
  },
  {
   "cell_type": "markdown",
   "metadata": {},
   "source": [
    " "
   ]
  },
  {
   "cell_type": "markdown",
   "metadata": {},
   "source": [
    "**Рейтинг пользователей**"
   ]
  },
  {
   "cell_type": "code",
   "execution_count": null,
   "metadata": {
    "scrolled": false
   },
   "outputs": [],
   "source": [
    "top_chain_rating = data.query('name == @top_chain').groupby('rating')['name'].count().sort_values(ascending=False).reset_index()\n",
    "top_chain_rating.columns=['Название', 'Количество заведений']\n",
    "\n",
    "print('\\n')\n",
    "\n",
    "display(top_chain_rating)\n",
    "print('\\n','\\n')\n",
    "\n",
    "#print('ТОП-5 рейтингов в  ТОП-15 сетях')\n",
    "top_chain_rating.sort_values(by='Количество заведений', ascending=True).plot(x='Название' ,   y='Количество заведений', kind='barh', figsize=(15,7), grid = True,\n",
    "               title ='Распределение количества заведений ТОП-15 сетей по  рейтингу пользователей')\n",
    "plt.show()\n",
    "print('\\n','\\n')\n",
    "\n",
    "#fig = px.pie(top_chain_rating, values='Количество заведений', names='Название', \n",
    "#             title='Распределение количества заведений ТОП-15 сетей по  рейтингу пользователей')\n",
    "#fig.show()\n"
   ]
  },
  {
   "cell_type": "markdown",
   "metadata": {},
   "source": [
    "**Графическое распределение заведений по рейтингу пользователей (от 1 до 3.4)**"
   ]
  },
  {
   "cell_type": "code",
   "execution_count": null,
   "metadata": {
    "scrolled": false
   },
   "outputs": [],
   "source": [
    "base_name = 'Географическое распределение заведений по  рейтингу пользователей (от 1 до 3.5)'\n",
    "fig = px.scatter(data[(data['rating']>=1) & (data['rating']<=3.5)].query('name == @top_chain'), x='lng', y='lat', color='rating', title =base_name)\n",
    "fig.show()"
   ]
  },
  {
   "cell_type": "markdown",
   "metadata": {},
   "source": [
    " "
   ]
  },
  {
   "cell_type": "markdown",
   "metadata": {},
   "source": [
    "**Графическое распределение заведений по рейтингу пользователей (от 3.5 до 5)**"
   ]
  },
  {
   "cell_type": "code",
   "execution_count": null,
   "metadata": {},
   "outputs": [],
   "source": [
    "base_name = 'Географическое распределение заведений по  рейтингу пользователей (от 3.5 до 5)'\n",
    "fig = px.scatter(data[(data['rating']>3.5) & (data['rating']<=5)].query('name == @top_chain'), x='lng', y='lat', color='rating', title =base_name)\n",
    "fig.show()"
   ]
  },
  {
   "cell_type": "markdown",
   "metadata": {},
   "source": [
    "1. В целом для Топ-15 сетей присутствуют оценки от 1.7 до 4.9. \n",
    "2. Топ-5 рейтингов по количеству заведений топ-15 сетей находится в диапазоне 4.0-4.4.   \n",
    "3. Интересно географическое распределение заведений  по рейтингам пользователей:  в центре мало как и очень высоких оценок (4.8-4.9), так и низких (меньше 4.0).  Для Центрального АО характерны \"твердые хорошисты\" - уверенно держащие рейтинг выше 4.0  \n"
   ]
  },
  {
   "cell_type": "markdown",
   "metadata": {},
   "source": [
    " "
   ]
  },
  {
   "cell_type": "markdown",
   "metadata": {},
   "source": [
    " "
   ]
  },
  {
   "cell_type": "markdown",
   "metadata": {},
   "source": [
    "**Посадочные места**"
   ]
  },
  {
   "cell_type": "code",
   "execution_count": null,
   "metadata": {
    "scrolled": false
   },
   "outputs": [],
   "source": [
    "top_chain_seats = data.query('name == @top_chain').groupby('seats')['name'].count().sort_values(ascending=False).reset_index()\n",
    "top_chain_seats.columns=['Название', 'Количество заведений']\n",
    "\n",
    "print('\\n')\n",
    "\n",
    "display(top_chain_seats)\n",
    "print('\\n','\\n')\n",
    "\n",
    "print('Возьмем Топ-15 из ТОП-15 и посмотрим на распределение')\n",
    "#print('ТОП-5 рейтингов в  ТОП-15 сетях')\n",
    "top_chain_seats[0:15].sort_values(by='Количество заведений', ascending=True).plot(x='Название' ,   y='Количество заведений', kind='barh', figsize=(15,7), grid = True,\n",
    "               title ='Распределение количества заведений ТОП-15 сетей по  количеству посадочных мест (топ-15 позиций)')\n",
    "plt.show()\n",
    "print('\\n','\\n')\n",
    "\n",
    "#fig = px.pie(top_chain_rating, values='Количество заведений', names='Название', \n",
    "#             title='Распределение количества заведений ТОП-15 сетей по  рейтингу пользователей')\n",
    "#fig.show()\n"
   ]
  },
  {
   "cell_type": "code",
   "execution_count": null,
   "metadata": {},
   "outputs": [],
   "source": [
    "fig = px.box(data.query('name == @top_chain'), y='seats',\n",
    "             title='Распределение количества заведений ТОП-15 сетей по количеству посадочных мест')\n",
    "fig.show()"
   ]
  },
  {
   "cell_type": "markdown",
   "metadata": {},
   "source": [
    "1. Топ-15 сетей повторяют распределение посадочных мест для всего датасета.\n",
    "2. Минимальный размер зала - 1 место, максимальный - 1288 мест (фудкорт), основная масса заведений располашает залами до 290 мест.\n",
    "3. Есть группа заведений с нулевым количеством мест, реальные данные по ним неизвестны.\n",
    "4. Медианное количество мест- 75.\n",
    "5. Топ-3 размеров зала по количеству заведений: 40, 100, 60 мест."
   ]
  },
  {
   "cell_type": "markdown",
   "metadata": {},
   "source": [
    " "
   ]
  },
  {
   "cell_type": "markdown",
   "metadata": {},
   "source": [
    " "
   ]
  },
  {
   "cell_type": "markdown",
   "metadata": {},
   "source": [
    " "
   ]
  },
  {
   "cell_type": "markdown",
   "metadata": {},
   "source": [
    "#### Распределение сетей по районам"
   ]
  },
  {
   "cell_type": "code",
   "execution_count": null,
   "metadata": {},
   "outputs": [],
   "source": [
    "chain_district = data[data['chain']==1].groupby('district')['name'].count().sort_values(ascending=False).reset_index()\n",
    "chain_district.columns=['Название', 'Количество заведений']\n",
    "\n",
    "print('\\n')\n",
    "display(chain_district)\n",
    "print('\\n','\\n')\n",
    "chain_district.sort_values(by='Количество заведений', ascending=True).plot(x='Название' ,   y='Количество заведений', kind='barh', figsize=(15,7), grid = True,\n",
    "               title ='Распределение количества сетевых заведений  по  административным округам')\n",
    "plt.show()\n",
    "print('\\n','\\n')\n",
    "\n",
    "fig = px.pie(chain_district, values='Количество заведений', names='Название', \n",
    "             title='Распределение количества сетевых заведений  по  административым округам')\n",
    "fig.show()\n"
   ]
  },
  {
   "cell_type": "markdown",
   "metadata": {},
   "source": [
    " "
   ]
  },
  {
   "cell_type": "markdown",
   "metadata": {},
   "source": [
    "**Графическое распределение по административным районам**"
   ]
  },
  {
   "cell_type": "code",
   "execution_count": null,
   "metadata": {},
   "outputs": [],
   "source": [
    "base_name = 'Географическое распределение сетевых заведений по административным районам'\n",
    "    \n",
    "fig = px.scatter(data, x='lng', y='lat', color='district', title =base_name)\n",
    "fig.show()"
   ]
  },
  {
   "cell_type": "markdown",
   "metadata": {},
   "source": [
    "1. Картина распределения сетевых заведений похожа на такое же распределение  для ТОП-15 сетей. Но, учитывая размер ЦАО и что распределение выводится  для заведений из всего датасета, плотность точек общепита в ЦАО заметно выше, чем в остальных районах. \n",
    "2. Лидирующий район с больше, чем четвертью заведений, - Центральный АО.\n",
    "3. Больше  40%  заведений находятся почти поровну в  Южном, Западном, Северном и Северо-Восточном АО.\n",
    "4. Аустайдеры по количеству заведений - ЮВАО, ЮЗАО и СЗАО."
   ]
  },
  {
   "cell_type": "markdown",
   "metadata": {},
   "source": [
    " "
   ]
  },
  {
   "cell_type": "markdown",
   "metadata": {},
   "source": [
    "#### Вывод по пункту \"Сетевые заведения\""
   ]
  },
  {
   "cell_type": "markdown",
   "metadata": {},
   "source": [
    "1. Общее количество несетевых заведений: 5200  (61.88%).  Общее количество сетевых  заведений - 3203 (38.12%). Сетевые и не сетеые заведения в целом распределены равномерно по городу. Заметно, что несетевых больше.\n",
    "2. В датасете присутствуют несетевые заведения, для одинаковых наименований которых есть более 1 заведения и  есть сетевые заведения, в которых в сети есть только 1 заведение. Однозначно определить реальную сетевую принадлежность для таких заведений по имеющимся данным не представляется возможным.   Есть группа заведений с нулевым количеством мест, реальные данные по ним неизвестны.\n",
    "3. Картина распределения сетевых заведений похожа на такое же распределение для ТОП-15 сетей. Лидирующий район с больше, чем четвертью заведений, - Центральный АО (26%). Больше 40% заведений находятся почти поровну в Южном, Западном, Северном и Северо-Восточном АО. Аустайдеры по количеству заведений - ЮВАО, ЮЗАО и СЗАО.\n",
    "4. Сетевые заведения представлены во всех категориях датасета.  Лидируют по количеству сетевых заведений кафе, рестораны и кофейни. С большим отрывом следуют пиццерии и заведения быстрого питания. Примерно с одинаковой долей представлены бары и булочные. толовые - самый непопулярный формат сетевого бизнеса в сфере общепита -2.75% от всех заведений.\n",
    "5. ТОП-15 сетей общепита:\n",
    "   -  'Шоколадница', \"Домино'с Пицца\", 'Додо Пицца', 'One Price Coffee',  'Яндекс Лавка', 'Cofix',  'Prime', 'Хинкальная', 'КОФЕПОРТ', 'Кулинарная лавка братьев Караваевых', 'Теремок',  'Чайхана', 'CofeFest',  'Буханка', 'Му-Му'.\n",
    "   - Основная часть заведений работает ежедневно, часть из них круглосуточно. Наиболее популярные часы работы: с 10 до 22 часов. Есть группа заведений, не работающих в выходные.\n",
    "   - 70.5 % заведений из ТОП-15 не имеют данных по категории. Если их не учитывать, то для оставшихся получаются следующие результаты: лидируют заведения со средним ценовым диапазоном (географически распределены равномерно, кроме юго-востока города). Низкая ценовая категория, выше среднего и высокая занимают небольшую часть ТОПа, географически распределены неравномерно- вне центра, стремление к окраинам.\n",
    "   - В целом для Топ-15 сетей присутствуют оценки от 1.7 до 4.9.  Топ-5 рейтингов по количеству заведений топ-15 сетей находится в диапазоне 4.0-4.4.  Для Центрального АО характерны \"твердые хорошисты\" - уверенно держащие рейтинг выше 4.0.   Оценки как  очень высокие  (4.8-4.9), так и низкие (меньше 4.0) более характерны для нецентральных районов.\n",
    "   - Топ-15 сетей повторяют распределение посадочных мест для всего датасета.  Минимальный размер зала - 1 место, максимальный - 1288 мест (фудкорт), основная масса заведений располагает залами до 290 мест.  Медианное количество мест- 75.  Топ-3 размеров зала по количеству заведений: 40, 100, 60 мест."
   ]
  },
  {
   "cell_type": "markdown",
   "metadata": {},
   "source": [
    " "
   ]
  },
  {
   "cell_type": "markdown",
   "metadata": {},
   "source": [
    "### Административные  округа (районы)"
   ]
  },
  {
   "cell_type": "markdown",
   "metadata": {},
   "source": [
    "**Проектное задание**\n",
    "- Какие административные районы Москвы присутствуют в датасете? Отобразите общее количество заведений и количество заведений каждой категории по районам. Попробуйте проиллюстрировать эту информацию одним графиком."
   ]
  },
  {
   "cell_type": "code",
   "execution_count": null,
   "metadata": {
    "scrolled": false
   },
   "outputs": [],
   "source": [
    "district = data.groupby('district')['name'].count().sort_values(ascending=False).reset_index()\n",
    "district.columns=['Название', 'Количество заведений']\n",
    "\n",
    "print('\\n')\n",
    "display(district)\n",
    "print('\\n')\n",
    "\n",
    "fig = px.bar(district.sort_values(by='Количество заведений', ascending=True), x='Количество заведений', y='Название', text = 'Количество заведений', title ='Распределение количества заведений  по  административным округам')\n",
    "fig.show()\n",
    "\n",
    "fig = px.pie(district, values='Количество заведений', names='Название', \n",
    "             title='Распределение количества  заведений  по  административым округам')\n",
    "fig.show()\n"
   ]
  },
  {
   "cell_type": "markdown",
   "metadata": {},
   "source": [
    "1. В датасете представлены 9 администативных округов города Москвы.\n",
    "2. Лидирующий по количеству заведений - ЦАО (26.7%). \n",
    "3. Наменьшее количество заведений в СЗАО (4.87%).\n",
    "4. Остальные округа занимают долю от 8.44 до 10.6%  по количеству заведений."
   ]
  },
  {
   "cell_type": "markdown",
   "metadata": {},
   "source": [
    " "
   ]
  },
  {
   "cell_type": "markdown",
   "metadata": {},
   "source": [
    "**Графическое распределение по административным округам**"
   ]
  },
  {
   "cell_type": "code",
   "execution_count": null,
   "metadata": {},
   "outputs": [],
   "source": [
    "base_name = 'Географическое распределение заведений по административным округам'\n",
    "    \n",
    "fig = px.scatter(data, x='lng', y='lat', color='district', title =base_name)\n",
    "fig.show()"
   ]
  },
  {
   "cell_type": "markdown",
   "metadata": {},
   "source": [
    "1. Картина распределения заведений похожа на такое же распределение  для  сетевого общепита.\n",
    "2. Лидирующий район с больше, чем четвертью заведений, - Центральный АО.\n",
    "3. Больше  40%  заведений находятся почти поровну в  Южном, Западном, Северном и Северо-Восточном АО.\n",
    "4. Аутсайдеры по количеству заведений - ЮВАО, ЮЗАО и СЗАО."
   ]
  },
  {
   "cell_type": "markdown",
   "metadata": {},
   "source": [
    " "
   ]
  },
  {
   "cell_type": "markdown",
   "metadata": {},
   "source": [
    "### Рейтинги пользователей"
   ]
  },
  {
   "cell_type": "markdown",
   "metadata": {},
   "source": [
    "**Проектное задание**\n",
    "- Визуализируйте распределение средних рейтингов по категориям заведений. Сильно ли различаются усреднённые рейтинги в разных типах общепита?\n",
    "- Постройте фоновую картограмму (хороплет) со средним рейтингом заведений каждого района. Границы районов Москвы, которые встречаются в датасете, хранятся в файле admin_level_geomap.geojson (скачать файл для локальной работы).\n",
    "- Также можно исследовать особенности заведений с плохими рейтингами, средние чеки в таких местах и распределение по категориям заведений."
   ]
  },
  {
   "cell_type": "markdown",
   "metadata": {},
   "source": [
    " "
   ]
  },
  {
   "cell_type": "markdown",
   "metadata": {},
   "source": [
    "**Распределение средних рейтингов по категориям** "
   ]
  },
  {
   "cell_type": "code",
   "execution_count": null,
   "metadata": {},
   "outputs": [],
   "source": [
    "cat_rating = data.pivot_table(index=['category'], values= ['rating'], aggfunc = ['count', 'mean'] ).reset_index()\n",
    "cat_rating.columns=['Категория', 'Количество в категории', 'Средний рейтинг']\n",
    "cat_rating = cat_rating.sort_values(by = 'Средний рейтинг', ascending=False).reset_index(drop=True)\n",
    "\n",
    "print('\\n')\n",
    "display(cat_rating)\n",
    "\n",
    "print('\\n','\\n')\n",
    "cat_rating.sort_values(by='Средний рейтинг', ascending=True).plot(x='Категория' ,   y='Средний рейтинг', kind='barh', figsize=(15,7), grid = True,\n",
    "               title ='Распределение средних рейтингов по категориям')\n",
    "plt.show()\n",
    "\n",
    "fig = px.pie(cat_rating, values='Количество в категории', names='Категория', \n",
    "             title='Распределение количества  заведений  по  категориям')\n",
    "fig.show()\n"
   ]
  },
  {
   "cell_type": "markdown",
   "metadata": {},
   "source": [
    "1. Как можем наблюдать, средние рейтинги по категориям отличаются не сильно.  Первое место с небольшим отрывом за барами, далее примерно на одном уровне следуют пиццерии, рестораны, кофейни, булочные. Аутсайдеры, с небольшим отрывом- столовые, кафе, быстрое питание. \n",
    "2. Основную долю по количеству заведений в категории занимают кафе,рестораны и кофейни и бары- вместе- более 3/4 от всех."
   ]
  },
  {
   "cell_type": "markdown",
   "metadata": {},
   "source": [
    " "
   ]
  },
  {
   "cell_type": "markdown",
   "metadata": {},
   "source": [
    " "
   ]
  },
  {
   "cell_type": "markdown",
   "metadata": {},
   "source": [
    "**Высокие рейтинги** "
   ]
  },
  {
   "cell_type": "markdown",
   "metadata": {},
   "source": [
    "Отфильтруем заведения с высокими рейтингами ( 4.0-5.0) и посмотрим на распределение по категориям "
   ]
  },
  {
   "cell_type": "code",
   "execution_count": null,
   "metadata": {},
   "outputs": [],
   "source": [
    "top_cat_rating = data[data['rating']>=4.0].pivot_table(index=['category'], values= ['rating'], aggfunc = ['count', 'mean'] ).reset_index()\n",
    "top_cat_rating.columns=['Категория', 'Количество в категории', 'Средний рейтинг']\n",
    "top_cat_rating = top_cat_rating.sort_values(by = 'Средний рейтинг', ascending=False).reset_index(drop=True)\n",
    "\n",
    "print('\\n')\n",
    "display(top_cat_rating)\n",
    "\n",
    "print('\\n','\\n')\n",
    "top_cat_rating.sort_values(by='Средний рейтинг', ascending=True).plot(x='Категория' ,   y='Средний рейтинг', kind='barh', figsize=(15,7), grid = True,\n",
    "               title ='Распределение средних рейтингов по категориям')\n",
    "plt.show()\n",
    "\n",
    "fig = px.pie(top_cat_rating, values='Количество в категории', names='Категория', \n",
    "             title='Распределение количества  заведений  по  категориям')\n",
    "fig.show()\n",
    "\n"
   ]
  },
  {
   "cell_type": "markdown",
   "metadata": {},
   "source": [
    " "
   ]
  },
  {
   "cell_type": "markdown",
   "metadata": {},
   "source": [
    "1. Как можем наблюдать, средние рейтинги по категориям отличаются  так же не сильно.  Первое место с небольшим отрывом за барами - 4.45. Остальные категории плавно снижаются к 4.3\n",
    "2. Распределение заведений по количеству в категории немного изменилось в порядке категорий, но онсновная картина похожая: первые места занимают рестораны, кафе и кофейни и бары- вместе- более 3/4 от всех. Остальные в меньшинстве."
   ]
  },
  {
   "cell_type": "markdown",
   "metadata": {},
   "source": [
    " "
   ]
  },
  {
   "cell_type": "markdown",
   "metadata": {},
   "source": [
    " "
   ]
  },
  {
   "cell_type": "markdown",
   "metadata": {},
   "source": [
    "**Низкие рейтинги (на \"троечку\")** "
   ]
  },
  {
   "cell_type": "markdown",
   "metadata": {},
   "source": [
    "Отфильтруем заведения с рейтингами ( 3.0- 4.0) и посмотрим на распределение по категориям "
   ]
  },
  {
   "cell_type": "code",
   "execution_count": null,
   "metadata": {},
   "outputs": [],
   "source": [
    "low_cat_rating = data[ (data['rating']>=3.0) &  (data['rating']<4.0) ].pivot_table(index=['category'], values= ['rating'], aggfunc = ['count', 'mean'] ).reset_index()\n",
    "low_cat_rating.columns=['Категория', 'Количество в категории', 'Средний рейтинг']\n",
    "low_cat_rating = low_cat_rating.sort_values(by = 'Средний рейтинг', ascending=False).reset_index(drop=True)\n",
    "\n",
    "print('\\n')\n",
    "display(low_cat_rating)\n",
    "\n",
    "print('\\n','\\n')\n",
    "low_cat_rating.sort_values(by='Средний рейтинг', ascending=True).plot(x='Категория' ,   y='Средний рейтинг', kind='barh', figsize=(15,7), grid = True,\n",
    "               title ='Распределение средних рейтингов по категориям')\n",
    "plt.show()\n",
    "\n",
    "fig = px.pie(low_cat_rating, values='Количество в категории', names='Категория', \n",
    "             title='Распределение количества  заведений  по  категориям')\n",
    "fig.show()\n",
    "\n"
   ]
  },
  {
   "cell_type": "markdown",
   "metadata": {},
   "source": [
    " "
   ]
  },
  {
   "cell_type": "markdown",
   "metadata": {},
   "source": [
    "1. Как можем наблюдать,  рейтинги на \"троечку\" по категориям почти не  отличаются.  Немного лучше дела у пиццерий, остальные примерно одинаковые. \n",
    "2. Распределение заведений по количеству в категории сильно изменилось: \n",
    "    - Первое место с почти половиной занимают кафе.\n",
    "    - второе, третье и четвертое места у ресторанов, точек быстрого питания и кофеен.  \n",
    "    - остальные категории на фоне всего датасета почти не заметны.\n"
   ]
  },
  {
   "cell_type": "markdown",
   "metadata": {},
   "source": [
    " "
   ]
  },
  {
   "cell_type": "markdown",
   "metadata": {},
   "source": [
    " "
   ]
  },
  {
   "cell_type": "markdown",
   "metadata": {},
   "source": [
    "**Очень низкие рейтинги (меньше  \"тройки\")** "
   ]
  },
  {
   "cell_type": "markdown",
   "metadata": {},
   "source": [
    "Отфильтруем заведения с рейтингами ( меньше 3.0) и посмотрим на распределение по категориям "
   ]
  },
  {
   "cell_type": "code",
   "execution_count": null,
   "metadata": {},
   "outputs": [],
   "source": [
    "low_cat_rating = data[ (data['rating']<3.0) ].pivot_table(index=['category'], values= ['rating'], aggfunc = ['count', 'mean'] ).reset_index()\n",
    "low_cat_rating.columns=['Категория', 'Количество в категории', 'Средний рейтинг']\n",
    "low_cat_rating = low_cat_rating.sort_values(by = 'Средний рейтинг', ascending=False).reset_index(drop=True)\n",
    "\n",
    "print('\\n')\n",
    "display(low_cat_rating)\n",
    "\n",
    "print('\\n','\\n')\n",
    "low_cat_rating.sort_values(by='Средний рейтинг', ascending=True).plot(x='Категория' ,   y='Средний рейтинг', kind='barh', figsize=(15,7), grid = True,\n",
    "               title ='Распределение средних рейтингов по категориям')\n",
    "plt.show()\n",
    "\n",
    "fig = px.pie(low_cat_rating, values='Количество в категории', names='Категория', \n",
    "             title='Распределение количества  заведений  по  категориям')\n",
    "fig.show()\n",
    "\n"
   ]
  },
  {
   "cell_type": "markdown",
   "metadata": {},
   "source": [
    " "
   ]
  },
  {
   "cell_type": "markdown",
   "metadata": {},
   "source": [
    "1. Лучшие из худших - пиццерии, худшие из худших - булочные. Но в количественном выражении - они представляют незначительную долю.\n",
    "2. Занимающие 51% кафе находятся в середине антирейтинга.  Если смотрерть на динамику распределения оценок по категориям, то кафе с ресторанами обладают не только большим количеством заведений, но также и большим спектром оценок от высщих до низших.\n"
   ]
  },
  {
   "cell_type": "markdown",
   "metadata": {},
   "source": [
    " "
   ]
  },
  {
   "cell_type": "markdown",
   "metadata": {},
   "source": [
    "**Медианные рейтинги по районам (административным округам)**"
   ]
  },
  {
   "cell_type": "code",
   "execution_count": null,
   "metadata": {},
   "outputs": [],
   "source": [
    "district_rating = data.pivot_table(index=['district'], values= ['rating'], aggfunc = ['count', 'median'] ).reset_index()\n",
    "district_rating.columns=['Административный округ', 'Количество заведений', 'Медианный рейтинг']\n",
    "district_rating = district_rating.sort_values(by = 'Медианный рейтинг', ascending=False).reset_index(drop=True)\n",
    "\n",
    "print('\\n')\n",
    "display(district_rating)\n",
    "\n",
    "print('\\n','\\n')\n",
    "district_rating.sort_values(by='Медианный рейтинг', ascending=True).plot(x='Административный округ' ,   y='Медианный рейтинг', kind='barh', figsize=(15,7), grid = True,\n",
    "               title ='Распределение медианных рейтингов по районам (административным округам)')\n",
    "plt.show()"
   ]
  },
  {
   "cell_type": "markdown",
   "metadata": {},
   "source": [
    " Медианные рейтинги по округам (районам) отличаются незначительно.\n",
    " 1. Максимальный  медианный рейтинг у ЦАО - 4.4\n",
    " 2. Минимальный рейтинг -4.2 у СВАО и ЮВАО.\n",
    " 3. Остальные округа с рейтингом 4.3"
   ]
  },
  {
   "cell_type": "markdown",
   "metadata": {},
   "source": [
    " "
   ]
  },
  {
   "cell_type": "markdown",
   "metadata": {},
   "source": [
    " "
   ]
  },
  {
   "cell_type": "markdown",
   "metadata": {},
   "source": [
    " "
   ]
  },
  {
   "cell_type": "markdown",
   "metadata": {},
   "source": [
    "**Географическое распределение среднего рейтинга по районам**"
   ]
  },
  {
   "cell_type": "code",
   "execution_count": null,
   "metadata": {
    "scrolled": true
   },
   "outputs": [],
   "source": [
    "# считываем  файл и сохраняем в переменной\n",
    "with open('admin_level_geomap.geojson', 'r',encoding='utf-8') as f:\n",
    "    state_geo = json.load(f)\n",
    "    \n",
    "#print(json.dumps(geo_json, indent=2, ensure_ascii=False, sort_keys=True))"
   ]
  },
  {
   "cell_type": "code",
   "execution_count": null,
   "metadata": {},
   "outputs": [],
   "source": [
    "# загружаем JSON-файл с границами округов Москвы\n",
    "#state_geo = 'admin_level_geomap.geojson'\n",
    "# moscow_lat - широта центра Москвы, moscow_lng - долгота центра Москвы\n",
    "moscow_lat, moscow_lng = 55.751244, 37.618423\n",
    "\n",
    "\n",
    "# создаём карту Москвы\n",
    "m = Map(location=[moscow_lat, moscow_lng], zoom_start=10)\n",
    "\n",
    "# создаём хороплет с помощью конструктора Choropleth и добавляем его на карту\n",
    "Choropleth(\n",
    "    geo_data=state_geo,\n",
    "    data=district_rating,\n",
    "    columns=['Административный округ', 'Медианный рейтинг'],\n",
    "    key_on='feature.name',\n",
    "#    fill_color='YlGn',\n",
    "    fill_color='PuBu',\n",
    "    fill_opacity=0.8,\n",
    "    legend_name='Медианный рейтинг заведений по районам',\n",
    ").add_to(m)\n",
    "# выводим карту\n",
    "m\n"
   ]
  },
  {
   "cell_type": "markdown",
   "metadata": {},
   "source": [
    " "
   ]
  },
  {
   "cell_type": "markdown",
   "metadata": {},
   "source": [
    " 1. Центральный АО лидирует не только по количеству заведений, но и по их качеству - медианные рейтинги здесь выше.\n",
    " 2. Северо- и Юго-Восточные АО включают заведения с наименьшим  медианным рейтингом. Остальные округа - середнячки."
   ]
  },
  {
   "cell_type": "markdown",
   "metadata": {},
   "source": [
    " "
   ]
  },
  {
   "cell_type": "markdown",
   "metadata": {},
   "source": [
    " "
   ]
  },
  {
   "cell_type": "markdown",
   "metadata": {},
   "source": [
    "**Вывод по разделу \"Рейтинги пользователей\"**"
   ]
  },
  {
   "cell_type": "markdown",
   "metadata": {},
   "source": [
    "**Средние рейтинги пользователей** \n",
    "\n",
    "- Как можем наблюдать, средние рейтинги по категориям отличаются не сильно. \n",
    "- Первое место с небольшим отрывом за барами (4.38), далее примерно на одном уровне следуют пиццерии (4.3), рестораны (4.29), кофейни (4.28), булочные(4.27). \n",
    "- Аутсайдеры, с небольшим отрывом- столовые (4.21), кафе (4.12), быстрое питание (4.05). \n",
    "- Основную долю по количеству заведений в категории занимают кафе,рестораны и кофейни и бары- вместе- более 3/4 от всех.\n",
    "\n",
    "\n",
    "\n",
    "**\"Высокие\"  средние рейтинги (4.0-5.0)**\n",
    "\n",
    "- Распределение высоких  рейтингов по категориям отличается так же не сильно. \n",
    "- Первое место с небольшим отрывом за барами - 4.45. Остальные категории плавно снижаются к 4.3\n",
    "- Распределение заведений по количеству в категории немного изменилось в порядке категорий, но онсновная картина похожая: первые места занимают рестораны, кафе и кофейни и бары- вместе- более 3/4 от всех. Остальные в меньшинстве.\n",
    "\n",
    "\n",
    "**Низкие рейтинги (на \"троечку\")\n",
    "- Рейтинги на \"троечку\" по категориям почти не  отличаются.  Немного лучше дела у пиццерий, остальные примерно одинаковые. \n",
    "- Распределение заведений по количеству в категории сильно изменилось: \n",
    "    - Первое место с почти половиной занимают кафе.\n",
    "    - второе, третье и четвертое места у ресторанов, точек быстрого питания и кофеен.  \n",
    "    - остальные категории на фоне всего датасета почти не заметны.\n",
    "\n",
    "**Очень низкие рейтинги (меньше \"тройки\")**\n",
    "- Лучшие из худших - пиццерии, худшие из худших - булочные. Но в количественном выражении - они представляют незначительную долю.\n",
    "- Занимающие 51% кафе находятся в середине антирейтинга.  Если смотрерть на динамику распределения оценок по категориям, то кафе с ресторанами обладают не только большим количеством заведений, но также и большим спектром оценок от высщих до низших.\n",
    "\n",
    "\n",
    "**Медианные рейтинги по округам (районам) отличаются незначительно**\n",
    "- Максимальный  медианный рейтинг у ЦАО - 4.4\n",
    "- Минимальный рейтинг -4.2 у СВАО и ЮВАО.\n",
    "- Остальные округа с рейтингом 4.3\n",
    "\n",
    " \n",
    "**Распределение рейтингов по округам** \n",
    "- Центральный АО лидирует не только по количеству заведений, но и по их качеству - медианные рейтинги здесь выше.\n",
    "- Северо- и Юго-Восточные АО включают заведения с наименьшим  медианным рейтингом. Остальные округа - середнячки."
   ]
  },
  {
   "cell_type": "markdown",
   "metadata": {},
   "source": [
    " "
   ]
  },
  {
   "cell_type": "markdown",
   "metadata": {},
   "source": [
    " "
   ]
  },
  {
   "cell_type": "markdown",
   "metadata": {},
   "source": [
    " "
   ]
  },
  {
   "cell_type": "markdown",
   "metadata": {},
   "source": [
    "### Улицы города"
   ]
  },
  {
   "cell_type": "markdown",
   "metadata": {},
   "source": [
    "**Проектное задание**\n",
    "- Отобразите все заведения датасета на карте с помощью кластеров средствами библиотеки folium.\n",
    "- Найдите топ-15 улиц по количеству заведений. Постройте график распределения количества заведений и их категорий по этим улицам. Попробуйте проиллюстрировать эту информацию одним графиком.\n",
    "- Найдите улицы, на которых находится только один объект общепита. Что можно сказать об этих заведениях?"
   ]
  },
  {
   "cell_type": "markdown",
   "metadata": {},
   "source": [
    " "
   ]
  },
  {
   "cell_type": "markdown",
   "metadata": {},
   "source": [
    "**Кластерное отображение заведений общепита на карте Москвы**"
   ]
  },
  {
   "cell_type": "code",
   "execution_count": null,
   "metadata": {},
   "outputs": [],
   "source": [
    "# применяем функцию create_clusters() к каждой строке датафрейма\n",
    "data.apply(create_clusters, axis=1)\n",
    "\n",
    "# выводим карту\n",
    "m"
   ]
  },
  {
   "cell_type": "markdown",
   "metadata": {},
   "source": [
    " "
   ]
  },
  {
   "cell_type": "markdown",
   "metadata": {},
   "source": [
    " "
   ]
  },
  {
   "cell_type": "markdown",
   "metadata": {},
   "source": [
    "**ТОП-15 улиц по количеству заведений** "
   ]
  },
  {
   "cell_type": "code",
   "execution_count": null,
   "metadata": {},
   "outputs": [],
   "source": [
    "street_cnt = pd.DataFrame(data.groupby('street')['address'].count().sort_values(ascending=False).reset_index())\n",
    "street_cnt.columns=['Название', 'Количество заведений']\n",
    "print()\n",
    "print('ТОП-15 улиц по количеству заведений')\n",
    "display(street_cnt.head(15))\n",
    "print()\n",
    "\n",
    "top_street = list(street_cnt['Название'].head(15))\n",
    "#top_street\n",
    "\n",
    "top_street_cnt = data.query('street == @top_street')['name'].count()\n",
    "\n",
    "print('Количество заведений, расположенных на ТОП-15 улиц: ', top_street_cnt)\n",
    "\n",
    "print('Доля заведений, расположенных на ТОП-15 улиц, от всего датасета, в %: ',\n",
    "    round( 100* top_street_cnt/len(data),2))\n",
    "\n"
   ]
  },
  {
   "cell_type": "markdown",
   "metadata": {},
   "source": [
    " "
   ]
  },
  {
   "cell_type": "markdown",
   "metadata": {},
   "source": [
    "**Распределение количества заведений по категориям и улицам**"
   ]
  },
  {
   "cell_type": "markdown",
   "metadata": {},
   "source": [
    "Категории заведений на ТОП-15 улиц"
   ]
  },
  {
   "cell_type": "code",
   "execution_count": null,
   "metadata": {},
   "outputs": [],
   "source": [
    "category_top =  data.query('street ==@top_street').groupby('category')['name'].count().sort_values(ascending=False)\n",
    "category_top =  category_top.reset_index()\n",
    "category_top.columns=['Категория','Количество в категории']\n",
    "category_top['% от всех'] = round(100*category_top['Количество в категории']/category_top['Количество в категории'].sum() ,2) \n",
    "display(category_top)\n",
    "\n",
    "category_top.plot(x='Категория' ,   y='Количество в категории', kind='bar', figsize=(15,7), grid = True,\n",
    "               title ='Распределение количества сетевых заведений  по  категориям для ТОП-15 улиц')\n",
    "plt.show()\n"
   ]
  },
  {
   "cell_type": "markdown",
   "metadata": {},
   "source": [
    "В целом распределение повторяет распределение заведений по категориям для всего датасета."
   ]
  },
  {
   "cell_type": "markdown",
   "metadata": {},
   "source": [
    " "
   ]
  },
  {
   "cell_type": "markdown",
   "metadata": {},
   "source": [
    " "
   ]
  },
  {
   "cell_type": "markdown",
   "metadata": {},
   "source": [
    " Посмотрим на распределение по отдельным улицам и категориям"
   ]
  },
  {
   "cell_type": "code",
   "execution_count": null,
   "metadata": {},
   "outputs": [],
   "source": [
    "cat_street_cnt = data.query('street == @top_street').pivot_table(index=['category'], \n",
    "                             columns =['street'], values= ['name'], aggfunc = ['count']).reset_index()\n",
    "\n",
    "cat_street_cnt.columns=['Категория','Варшавское шоссе','Дмитровское шоссе','Каширское шоссе','Кутузовский проспект','Ленинградский проспект','Ленинградское шоссе','Ленинский проспект','Люблинская улица','МКАД','Профсоюзная улица','Пятницкая улица','проспект Вернадского','проспект Мира','улица Вавилова','улица Миклухо-Маклая']\n",
    "\n",
    "cat_street_cnt = cat_street_cnt.fillna(0)\n",
    "cat_street_cnt"
   ]
  },
  {
   "cell_type": "markdown",
   "metadata": {},
   "source": [
    " "
   ]
  },
  {
   "cell_type": "code",
   "execution_count": null,
   "metadata": {},
   "outputs": [],
   "source": [
    "#перечень топ-улиц\n",
    "street_list = ['Варшавское шоссе','Дмитровское шоссе','Каширское шоссе','Кутузовский проспект',\n",
    "               'Ленинградский проспект','Ленинградское шоссе','Ленинский проспект','Люблинская улица',\n",
    "               'МКАД','Профсоюзная улица','Пятницкая улица','проспект Вернадского','проспект Мира',\n",
    "               'улица Вавилова','улица Миклухо-Маклая']"
   ]
  },
  {
   "cell_type": "code",
   "execution_count": null,
   "metadata": {},
   "outputs": [],
   "source": [
    "fig = px.line(cat_street_cnt,x='Категория', \n",
    "                    y=street_list, title='Распределение количества заведений по категориям и улицам (ТОП-15)')\n",
    "fig.show()"
   ]
  },
  {
   "cell_type": "markdown",
   "metadata": {},
   "source": [
    "1. Заметно, что все улицы отлично \"заворачивают\" в сторону кафе и ресторанов.\n",
    "2. Ленинградский и Ленинский проспекты, проспект Мира насыщены кофейнями и барами больше остальных.\n",
    "3. Проспекты Мира и Вернадского, улица Профсоюзная - в топе по пиццериями и заведениям быстрого питания.\n",
    "4. В аутсайдерах булочные и столовые- их мало на всех улицах."
   ]
  },
  {
   "cell_type": "markdown",
   "metadata": {},
   "source": [
    " "
   ]
  },
  {
   "cell_type": "markdown",
   "metadata": {},
   "source": [
    "Посмотрим на географическое распределение заведений по категориям на ТОП-15 улицах."
   ]
  },
  {
   "cell_type": "code",
   "execution_count": null,
   "metadata": {},
   "outputs": [],
   "source": [
    "fig = px.scatter(data.query('street ==@top_street'),  x='lng', y='lat', \n",
    "                 color='category', hover_data=  ['name', 'street'],\n",
    "                 title='Географическое распределение заведений по категориям на ТОП-15 улицах')\n",
    "fig.show()"
   ]
  },
  {
   "cell_type": "markdown",
   "metadata": {},
   "source": [
    "1. Очень хорошо заметны радиальные городские магистрали и МКАД. Логично, что на длинных улицах с насыщенным автомобильным движением будет расположено много заведений общепита.\n",
    "2. Удивляет, что на МКАД мало точек общепита, особенно в северо-восточной части.\n"
   ]
  },
  {
   "cell_type": "markdown",
   "metadata": {},
   "source": [
    " "
   ]
  },
  {
   "cell_type": "markdown",
   "metadata": {},
   "source": [
    " "
   ]
  },
  {
   "cell_type": "markdown",
   "metadata": {},
   "source": [
    "**Моноулицы (на которых только один объект общепита)**"
   ]
  },
  {
   "cell_type": "code",
   "execution_count": null,
   "metadata": {},
   "outputs": [],
   "source": [
    "street_cnt = pd.DataFrame(data.groupby('street')['name'].count().sort_values(ascending=False).reset_index())\n",
    "street_cnt.columns=['Название', 'Количество заведений']\n",
    "\n",
    "print()\n",
    "print('Моноулицы, на которых только один объект общепита')\n",
    "display(street_cnt[street_cnt['Количество заведений']==1].reset_index(drop=True))\n",
    "print()\n",
    "\n",
    "mono_street = list(street_cnt.loc[street_cnt['Количество заведений']==1, 'Название'])\n",
    "mono_street_cnt = data.query('street == @mono_street')['name'].count()\n",
    "\n",
    "print('Количество заведений, расположенных по одному на улице: ', mono_street_cnt)\n",
    "\n",
    "print('Доля заведений, расположенных по одному на улице, от всего датасета, в %: ',\n",
    "    round( 100*mono_street_cnt/len(data),2))\n",
    "\n"
   ]
  },
  {
   "cell_type": "markdown",
   "metadata": {},
   "source": [
    " "
   ]
  },
  {
   "cell_type": "markdown",
   "metadata": {},
   "source": [
    "Категории заведений на моноулицах"
   ]
  },
  {
   "cell_type": "code",
   "execution_count": null,
   "metadata": {},
   "outputs": [],
   "source": [
    "category_mono =  data.query('street ==@mono_street').groupby('category')['name'].count().sort_values(ascending=False)\n",
    "category_mono =  category_mono.reset_index()\n",
    "category_mono.columns=['Категория','Количество в категории']\n",
    "category_mono['% от всех'] = round(100*category_mono['Количество в категории']/category_mono['Количество в категории'].sum() ,2) \n",
    "display(category_mono)\n",
    "\n",
    "category_mono.plot(x='Категория' ,   y='Количество в категории', kind='bar', figsize=(15,7), grid = True,\n",
    "               title ='Распределение количества сетевых заведений  по  категориям')\n",
    "plt.show()\n"
   ]
  },
  {
   "cell_type": "markdown",
   "metadata": {},
   "source": [
    "В целом распределение повторяет распределение заведений по категориям для всего датасета."
   ]
  },
  {
   "cell_type": "markdown",
   "metadata": {},
   "source": [
    "Посмотрим на географическое распределение заведений по категориям на  моноулицах."
   ]
  },
  {
   "cell_type": "code",
   "execution_count": null,
   "metadata": {},
   "outputs": [],
   "source": [
    "fig = px.scatter(data.query('street ==@mono_street'),  x='lng', y='lat',  color='category', hover_data=  ['name', 'street'],\n",
    "                 title='Географическое распределение заведений по категориям на моноулицах')\n",
    "fig.show()"
   ]
  },
  {
   "cell_type": "markdown",
   "metadata": {},
   "source": [
    " "
   ]
  },
  {
   "cell_type": "markdown",
   "metadata": {},
   "source": [
    "В основном распределение равномерное, но заметны следующие особенности:\n",
    "   - несколько снижена плотность в ЮЗАО, ЮАО и ЮВАО,\n",
    "   - в центре плостность точек несколько выше, чем в нецентральных районах\n",
    "   - пиццерий практически нет на юге,\n",
    "   - булочных мало в юго-восточной и западной частях города,\n",
    "   - кофейни, бары и рестораны мало представлены в юго-западной части города\n",
    "   - кафе больше представлены как по численности, так и по географическому распространению, но их тоже меньше на юго-востоке города"
   ]
  },
  {
   "cell_type": "markdown",
   "metadata": {},
   "source": [
    " "
   ]
  },
  {
   "cell_type": "markdown",
   "metadata": {},
   "source": [
    " "
   ]
  },
  {
   "cell_type": "markdown",
   "metadata": {},
   "source": [
    "**Вывод по \"Улицам города\"**"
   ]
  },
  {
   "cell_type": "markdown",
   "metadata": {},
   "source": [
    "1. Для топовых улиц и для моноулиц распределение по категориям в основном повторяет распределение, характерное для всего датасета.\n",
    "2. Заметны особенности рапсределения на более крупном масштабе_ районов или округов, это характерно как для крупных улиц с большим количеством заведений, так и улиц, на которых точка общепита всего одна.\n",
    "3. Топовые улицы: 'Варшавское шоссе','Дмитровское шоссе','Каширское шоссе','Кутузовский проспект','Ленинградский проспект','Ленинградское шоссе','Ленинский проспект','Люблинская улица', 'МКАД','Профсоюзная улица','Пятницкая улица','проспект Вернадского','проспект Мира', 'улица Вавилова','улица Миклухо-Маклая' \n",
    "   - Заметно, что все топовые улицы отлично \"заворачивают\" в сторону кафе и ресторанов.\n",
    "   - Ленинградский и Ленинский проспекты, проспект Мира насыщены кофейнями и барами больше остальных.\n",
    "   - Проспекты Мира и Вернадского, улица Профсоюзная - в топе по пиццериями и заведениям быстрого питания.\n",
    "   - В аутсайдерах булочные и столовые- их мало на всех улицах.  \n",
    "\n",
    "4. Моноулицы - их больше 450- обладают в основном равномерным распределением по городу для заведений всех категорий, но заметны следующие особенности:\n",
    "   - несколько снижена плотность в ЮЗАО, ЮАО и ЮВАО,\n",
    "   - в центре плостность точек несколько выше, чем в нецентральных районах\n",
    "   - пиццерий практически нет на юге,\n",
    "   - булочных мало в юго-восточной и западной частях города,\n",
    "   - кофейни, бары и рестораны мало представлены в юго-западной части города\n",
    "   - кафе шире представлены как по численности, так и по географическому распространению, но их тоже меньше на юго-востоке города."
   ]
  },
  {
   "cell_type": "markdown",
   "metadata": {},
   "source": [
    " "
   ]
  },
  {
   "cell_type": "markdown",
   "metadata": {},
   "source": [
    "### Значения средних чеков (middle_avg_bill)"
   ]
  },
  {
   "cell_type": "markdown",
   "metadata": {},
   "source": [
    "**Проектное задание**\n",
    "- Значения средних чеков заведений хранятся в столбце middle_avg_bill. Эти числа показывают примерную стоимость заказа в рублях, которая чаще всего выражена диапазоном. \n",
    "- Посчитайте медиану этого столбца для каждого района. Используйте это значение в качестве ценового индикатора района. \n",
    "- Постройте фоновую картограмму (хороплет) с полученными значениями для каждого района. \n",
    "- Проанализируйте цены в центральном административном округе и других. \n",
    "- Как удалённость от центра влияет на цены в заведениях?"
   ]
  },
  {
   "cell_type": "markdown",
   "metadata": {},
   "source": [
    "**Медианный чек по району (административному округу)**"
   ]
  },
  {
   "cell_type": "code",
   "execution_count": null,
   "metadata": {},
   "outputs": [],
   "source": [
    "avg_bill_district = data[~data['middle_avg_bill'].isna()].groupby('district')['middle_avg_bill'].median().reset_index()\n",
    "avg_bill_district.columns=['Административный округ', 'Медианный чек']\n",
    "avg_bill_district = avg_bill_district.sort_values(by = 'Медианный чек', ascending=False).reset_index(drop=True)\n",
    "\n",
    "print('\\n')\n",
    "display(avg_bill_district)"
   ]
  },
  {
   "cell_type": "markdown",
   "metadata": {},
   "source": [
    "1. Двукратная разница между самым дорогим (1000, ЦАО, ЗАО) и самым дешевым медианным чеком (450 ЮВАО).\n",
    "2. Медиана от медианы - 600 р.- Юго-Западный АО.\n"
   ]
  },
  {
   "cell_type": "markdown",
   "metadata": {},
   "source": [
    " "
   ]
  },
  {
   "cell_type": "markdown",
   "metadata": {},
   "source": [
    "**Географическое распределение медианного чека по районам**"
   ]
  },
  {
   "cell_type": "code",
   "execution_count": null,
   "metadata": {},
   "outputs": [],
   "source": [
    "# загружаем JSON-файл с границами округов Москвы\n",
    "#state_geo = 'admin_level_geomap.geojson'\n",
    "# moscow_lat - широта центра Москвы, moscow_lng - долгота центра Москвы\n",
    "moscow_lat, moscow_lng = 55.751244, 37.618423\n",
    "\n",
    "\n",
    "# создаём карту Москвы\n",
    "m = Map(location=[moscow_lat, moscow_lng], zoom_start=10)\n",
    "\n",
    "# создаём хороплет с помощью конструктора Choropleth и добавляем его на карту\n",
    "Choropleth(\n",
    "    geo_data=state_geo,\n",
    "    data=avg_bill_district,\n",
    "    columns=['Административный округ', 'Медианный чек'],\n",
    "    key_on='feature.name',\n",
    "#    fill_color='YlGn',\n",
    "    fill_color='PuBu',\n",
    "    fill_opacity=0.8,\n",
    "    legend_name='Медианный чек заведений по районам',\n",
    ").add_to(m)\n",
    "# выводим карту\n",
    "m\n"
   ]
  },
  {
   "cell_type": "markdown",
   "metadata": {},
   "source": [
    "1. Самые дорогие заведения - центр и от центра на запад , в сторону Новой Москвы.\n",
    "2. ЮВАО, ЮАО и СВАО  -самые недорогие. \n",
    "2. Остальные- середнячки."
   ]
  },
  {
   "cell_type": "markdown",
   "metadata": {},
   "source": [
    "  "
   ]
  },
  {
   "cell_type": "markdown",
   "metadata": {},
   "source": [
    "  "
   ]
  },
  {
   "cell_type": "markdown",
   "metadata": {},
   "source": [
    "**Распределение цен по районам**"
   ]
  },
  {
   "cell_type": "markdown",
   "metadata": {},
   "source": [
    "**Чеки до 2500**"
   ]
  },
  {
   "cell_type": "markdown",
   "metadata": {},
   "source": [
    "В пункте 2.3.10 \"Оценка среднего чека\" было определено, что для основной массы заведений (для которых есть данные) средний чек не более 2500.  Определим эту сумму как границу, по которой отфильтруем данные для формирования корректной картины географического распределения. "
   ]
  },
  {
   "cell_type": "code",
   "execution_count": null,
   "metadata": {},
   "outputs": [],
   "source": [
    "fig = px.scatter(data[(~data['middle_avg_bill'].isna()) & (data['middle_avg_bill']<=2500) ],  x='lng', y='lat',  color='district', size ='middle_avg_bill' , hover_data=  ['name', 'street'],\n",
    "                 title='Географическое распределение суммы чека до 2500 по районам')\n",
    "fig.show()"
   ]
  },
  {
   "cell_type": "markdown",
   "metadata": {},
   "source": [
    "1. Заметно, что даже в нецентральных районах (округах)  распределение заведений с высокими ценами стремится к центру города.\n",
    "2. Для всех районов наблюдаются заведения и с высокими ценами, и с низкими. Но в ЦАО плотность и количество дорогих заведений выше."
   ]
  },
  {
   "cell_type": "markdown",
   "metadata": {},
   "source": [
    " "
   ]
  },
  {
   "cell_type": "markdown",
   "metadata": {},
   "source": [
    "**Чеки от 2500**"
   ]
  },
  {
   "cell_type": "markdown",
   "metadata": {},
   "source": [
    "Посмотрим на распределение заведений с высокими средними чеками, от 2500."
   ]
  },
  {
   "cell_type": "code",
   "execution_count": null,
   "metadata": {},
   "outputs": [],
   "source": [
    "fig = px.scatter(data[(~data['middle_avg_bill'].isna()) & (data['middle_avg_bill']>2500) ],  x='lng', y='lat',  color='district', size ='middle_avg_bill' , hover_data=  ['name', 'street'],\n",
    "                 title='Географическое распределение суммы чека от 2500  по районам')\n",
    "fig.show()"
   ]
  },
  {
   "cell_type": "markdown",
   "metadata": {},
   "source": [
    "1. Плотность заведений с чеками от 2500 выше в Центральном АО, САО и ЗАО.\n",
    "2. Но сверхдорогое заведение  располагается \"Кафе\" в Южном АО с суммой чека 35 000.  \n",
    "3. На втором месте - Чойхона в САО (11000) , на третьем - Гости в ВАО (10000). Дорогие гости, однако."
   ]
  },
  {
   "cell_type": "markdown",
   "metadata": {},
   "source": [
    " "
   ]
  },
  {
   "cell_type": "markdown",
   "metadata": {},
   "source": [
    "**Минимальный, медианный, средний и максимальный чеки в разбивке по районам (округам)  для основной массы заведений (чек до 2500)**"
   ]
  },
  {
   "cell_type": "code",
   "execution_count": null,
   "metadata": {},
   "outputs": [],
   "source": [
    "bill_district =  data[(~data['middle_avg_bill'].isna()) & (data['middle_avg_bill']<=2500)&(data['middle_avg_bill']>0) ].pivot_table(index=['district'], \n",
    "                             values= ['middle_avg_bill'], aggfunc = ['count', 'min', 'median', 'mean','max']).reset_index()\n",
    "\n",
    "bill_district.columns=['Административный округ','Количество заведений','Минимальный чек',\n",
    "                        'Медианный чек', 'Средний чек','Максимальный чек']\n",
    "bill_district['Средний чек'] = round(bill_district['Средний чек'], 2 )\n",
    "bill_district= bill_district. sort_values(by='Количество заведений', ascending = False)\n",
    "bill_district"
   ]
  },
  {
   "cell_type": "markdown",
   "metadata": {},
   "source": [
    " "
   ]
  },
  {
   "cell_type": "code",
   "execution_count": null,
   "metadata": {},
   "outputs": [],
   "source": [
    "fig = px.line(bill_district.sort_values(by='Медианный чек', ascending = False) ,\n",
    "                    x='Административный округ', \n",
    "                    y=['Минимальный чек','Медианный чек', 'Средний чек','Максимальный чек'], \n",
    "                    title='Cтатитстические показатели средних чеков  для датасета без выбросов (разбивка по районам)')\n",
    "fig.show()"
   ]
  },
  {
   "cell_type": "markdown",
   "metadata": {},
   "source": [
    "1. Максимальная сумма чека. Мы ее искусственно ограничили, но даже с фильтром ЮВАО показывает меньший чек из всех максимальных -2000.\n",
    "2. Медиана в целом ниже средней величины чека- количественно распределение значений средних чеков смещено  в сторону небольших величин, но есть заведения с высокими средними чеками, которые изменяют картину.\n",
    "3. По ЦАО медиана и среднее практически равны - 1000,  на втором месте по медиане- ЗАО (850). Третье и четвертое места у СЗАО (675) и САО (600). Далее происходит снижение суммы медианного чека по району и самый минимум у ЮВАО - 434р.\n",
    "4. Минимальные значения минимальных  чеков, кроме ожидаемого ЮВАО (30), неожиданно показывают ЦАО(67), ЗАО (50) и ВАО(50). Самый высокий из минимальных чеков у САО (130)."
   ]
  },
  {
   "cell_type": "markdown",
   "metadata": {},
   "source": [
    " "
   ]
  },
  {
   "cell_type": "markdown",
   "metadata": {},
   "source": [
    "**Сумма чека  и расстояние заведения от центра**"
   ]
  },
  {
   "cell_type": "markdown",
   "metadata": {},
   "source": [
    "Для всех заведений рассчитаем геодезическое расстояние от заведения до центра города. "
   ]
  },
  {
   "cell_type": "code",
   "execution_count": null,
   "metadata": {},
   "outputs": [],
   "source": [
    "#определим функцию расчета  расстояния от центра города\n",
    "\n",
    "def distant (ds):\n",
    "    #координаты центра Москвы\n",
    "    moscow_center = (55.751244, 37.618423)\n",
    "    \n",
    "    point = (ds['lat'], ds['lng'])\n",
    "    dist =  round( GD(moscow_center, point).km, 3)\n",
    "    return dist\n"
   ]
  },
  {
   "cell_type": "code",
   "execution_count": null,
   "metadata": {},
   "outputs": [],
   "source": [
    "#рассчитаем расстояния\n",
    "data['distance, km'] = data.apply(distant, axis = 1)\n"
   ]
  },
  {
   "cell_type": "code",
   "execution_count": null,
   "metadata": {},
   "outputs": [],
   "source": [
    "display(data.head(3))\n",
    "print('Минимальное расстояние от центра Москвы, км:',data['distance, km'].min())\n",
    "print('Максимальное расстояние от центра Москвы, км:',data['distance, km'].max())"
   ]
  },
  {
   "cell_type": "markdown",
   "metadata": {},
   "source": [
    " Распределение суммы чека (до 10 000) в зависимости от расстояния от центра города"
   ]
  },
  {
   "cell_type": "code",
   "execution_count": null,
   "metadata": {},
   "outputs": [],
   "source": [
    "fig = px.scatter(data[(~data['middle_avg_bill'].isna()) & (data['middle_avg_bill']<=10000) ],  x='distance, km', y='middle_avg_bill',  color='district' , hover_data=  ['name', 'street'],\n",
    "                 title='Географическое распределение суммы чека в зависимости от расстояния от центра города')\n",
    "fig.show()"
   ]
  },
  {
   "cell_type": "markdown",
   "metadata": {},
   "source": [
    "Заметно, что в центре чеки выше и в целом происходит общее снижение суммы чеков по мере удаления от центра.\n",
    "Посмотрим на это же распределение в трехмерном виде. Для удобства чтения графика преобразуем названия округов в аббревиатуры"
   ]
  },
  {
   "cell_type": "markdown",
   "metadata": {},
   "source": [
    " "
   ]
  },
  {
   "cell_type": "code",
   "execution_count": null,
   "metadata": {},
   "outputs": [],
   "source": [
    "#data['district'].unique()"
   ]
  },
  {
   "cell_type": "code",
   "execution_count": null,
   "metadata": {},
   "outputs": [],
   "source": [
    "#определение функции для переимнеования округов\n",
    "def re_name (ds):\n",
    "    if ds['district'] == 'Северный административный округ':\n",
    "        distr = 'САО'\n",
    "    elif  ds['district'] == 'Северо-Восточный административный округ':\n",
    "        distr = 'СВАО'\n",
    "    elif  ds['district'] == 'Северо-Западный административный округ':\n",
    "        distr = 'СЗАО'\n",
    "    elif  ds['district'] == 'Западный административный округ':\n",
    "        distr = 'ЗАО'\n",
    "    elif  ds['district'] == 'Центральный административный округ':\n",
    "        distr = 'ЦАО'\n",
    "    elif  ds['district'] == 'Восточный административный округ':\n",
    "        distr = 'ВАО'\n",
    "    elif  ds['district'] == 'Юго-Восточный административный округ':\n",
    "        distr = 'ЮВАО'\n",
    "    elif  ds['district'] == 'Южный административный округ':\n",
    "        distr = 'ЮАО'\n",
    "    elif  ds['district'] == 'Юго-Западный административный округ':\n",
    "        distr = 'ЮЗАО'\n",
    "    \n",
    "    return  distr\n",
    "    "
   ]
  },
  {
   "cell_type": "code",
   "execution_count": null,
   "metadata": {},
   "outputs": [],
   "source": [
    "#применение функции для переимнеования округов\n",
    "data['district_short'] = data.apply(re_name, axis = 1)"
   ]
  },
  {
   "cell_type": "code",
   "execution_count": null,
   "metadata": {},
   "outputs": [],
   "source": [
    "#data.head()"
   ]
  },
  {
   "cell_type": "markdown",
   "metadata": {},
   "source": [
    " "
   ]
  },
  {
   "cell_type": "code",
   "execution_count": null,
   "metadata": {},
   "outputs": [],
   "source": [
    "fig = px.scatter_3d(data[(~data['middle_avg_bill'].isna()) & (data['middle_avg_bill']<=10000) ], \n",
    "                 y='distance, km', z='middle_avg_bill', x= 'district_short',  color='district_short' , hover_data=  ['name'],\n",
    "                 title='Географическое распределение суммы чека в зависимости от расстояния от центра города',\n",
    "                 width=1000, height=1000)\n",
    "fig.show()\n"
   ]
  },
  {
   "cell_type": "markdown",
   "metadata": {},
   "source": [
    "1. В ЦАО выше плотность заведений с высокими чеками.  \n",
    "2. В других  округах, даже с таким же расстоянием от центра города, заметно меньше заведений с высокой стоимостью посещения.\n",
    "3. На расстоянии 12-13 км есть полоса заведений с высокими чеками."
   ]
  },
  {
   "cell_type": "markdown",
   "metadata": {},
   "source": [
    " "
   ]
  },
  {
   "cell_type": "markdown",
   "metadata": {},
   "source": [
    " "
   ]
  },
  {
   "cell_type": "markdown",
   "metadata": {},
   "source": [
    "Учитывая, что в plotly можно включать и выключать категории,  а  в 3D можно вращать, то добавим выделением цветом категорий заведений. \n",
    "*Исключительно из любви к исследованиям, для ответа на вопрос: \"а что будет если?\"  -:)*"
   ]
  },
  {
   "cell_type": "code",
   "execution_count": null,
   "metadata": {},
   "outputs": [],
   "source": [
    "fig = px.scatter_3d(data[(~data['middle_avg_bill'].isna()) & (data['middle_avg_bill']<=10000) ], \n",
    "                 y='distance, km', z='middle_avg_bill', x= 'district_short',  color='category' , hover_data=  ['name'],\n",
    "                 title='Распределение суммы чека, округа, расстояния от центра, категории заведения',\n",
    "                 width=1000, height=1000)\n",
    "fig.show()\n"
   ]
  },
  {
   "cell_type": "markdown",
   "metadata": {},
   "source": [
    "1. Для заведений с чеками на крупные суммы заметно преобладание ресторанов, независимо он района (округа) и удаления от центра.\n",
    "2. Следующими по стоимости посещения идут бары и пабы.\n",
    "3. Остальные категории заведений находятся в менее дорогом сегменте, хотя отдельные кафе оставляют далеко позади рестораны и бары по стоимости обслуживания."
   ]
  },
  {
   "cell_type": "markdown",
   "metadata": {},
   "source": [
    " "
   ]
  },
  {
   "cell_type": "markdown",
   "metadata": {},
   "source": [
    "**Вывод по пункту \"Значения средних чеков\"**"
   ]
  },
  {
   "cell_type": "markdown",
   "metadata": {},
   "source": [
    "1. Двукратная разница между самым дорогим (1000- ЦАО, ЗАО) и самым дешевым медианным чеком (450 ЮВАО). Медиана от медианы - 600 р.- Юго-Западный АО.\n",
    "2.  Самые дорогие заведения - центр и от центра на запад , в сторону Новой Москвы. ЮВАО, ЮАО и СВАО  -самые дешевые. Остальные- середнячки.\n",
    "3. Заметно, что даже в нецентральных районах (округах) распределение заведений с высокими ценами стремится к центру города.  Для всех районов наблюдаются заведения и с высокими ценами, и с низкими. Но в ЦАО плотность и количество дорогих заведений выше.\n",
    "4. Плотность заведений с чеками от 2500 выше в Центральном АО, САО и ЗАО. Но сверхдорогое заведение  \"Кафе\"  располагается в Южном АО с суммой чека 35 000. На втором месте - \"Чойхона\" в САО (11000) , на третьем - \"Гости\" в ВАО (10000). Дорогие гости, однако.\n",
    "5.  Основная масса заведений (чек до 2500). Максимальная сумма чека. Мы ее искусственно ограничили,но, даже с фильтром, ЮВАО показывает меньший чек из всех максимальных -2000.  Медиана в целом ниже средней величины чека- количественно распределение значений средних чеков смещено в сторону небольших величин, но есть заведения с высокими средними чеками, которые изменяют картину.  По ЦАО медиана и среднее практически равны - 1000, на втором месте по медиане- ЗАО (850). Третье и четвертое места у СЗАО (675) и САО (600). Далее происходит снижение суммы медианного чека по району и самый минимум у ЮВАО - 434р. Минимальные значения минимальных чеков, кроме ожидаемого ЮВАО (30), неожиданно показывают ЦАО(67), ЗАО (50) и ВАО(50). Самый высокий из минимальных чеков у САО (130).\n",
    "6. Расстояние заведения от цент (сумма чека до 10 000). Заметно, что в центре чеки выше и в целом происходит общее снижение суммы чеков по мере удаления от центра.  В ЦАО выше плотность заведений с высокими чеками. В других  округах, даже с таким же расстоянием от центра города, заметно меньше заведений с высокой стоимостью посещения. На расстоянии 12-13 км от центра есть полоса заведений в разных окргуах  с высокими чеками.\n",
    "7. Для заведений с чеками на крупные суммы заметно преобладание ресторанов, независимо он района (округа) и удаления от центра. Следующими в сторону уменьшения размера чека  идут бары и пабы. Остальные категории заведений находятся в менее дорогом сегменте, хотя отдельные кафе оставляют далеко позади и рестораны, и бары по стоимости обслуживания."
   ]
  },
  {
   "cell_type": "markdown",
   "metadata": {},
   "source": [
    " "
   ]
  },
  {
   "cell_type": "markdown",
   "metadata": {},
   "source": [
    " "
   ]
  },
  {
   "cell_type": "markdown",
   "metadata": {},
   "source": [
    "### Общий вывод по разделу \"Анализ данных\""
   ]
  },
  {
   "cell_type": "markdown",
   "metadata": {},
   "source": [
    " **Категории заведений, количество посадочных мест**\n",
    "\n",
    "1. В датасете имеется  8 уникальных категорий заведений: 'кафе', 'ресторан', 'кофейня', 'пиццерия', 'бар,паб', 'быстрое питание', 'булочная', 'столовая'.\n",
    "2. Лидируют кафе (28.3%)  и рестораны (24.3%), вместе они составляют больше половины заведений общепита. Значительную долю рынка составляют кофейни и бары(пабы).  Пиццерии и точки быстрого питания занимают по  7% рынка. Столовые и булочные составляют являются нишевым продуктом, не более 4 % на каждую из категорий.\n",
    "3. Сетевые и не сетвые кафе представлены по всему городу примерно равномерно. Рестораны и пабы/бары больше сконцентррированы в центре города, но рестораны достаточно представлены и в других частях города, что не скажешь про бары. Пиццерии, столовые и заведения быстрого питания представлены по всему городу примерно равномерно, но со значительно меньшей частотой, чем кафе.  Для столовых заметно преобладание независимых заведений.  Для булочных интересна закономерность: на юго-востоке Москвы их меньше, тем более сетевых булочных.\n",
    "4. Основная масса заведений с имеющимися данными располагает залами  до 290 человек, медианное значение-75.  Есть отдельные большие залы с количеством посадочных мест от 290 до 1288.   Крупные залы характерны в основном для несетевых заведений.\n",
    "5. Часто большое количество посадочных мест для крупных залов является не сосбственным, а фудкорта, и заведение делит эти места с другими точками общепита  с одним адресом.\n",
    "6. Заведения с крупными залами (>290) в основном располагаются вдоль крупных радиальных магистралей, в том числе: Волоколамское, Каширское, Дмтитровское и Ярославсвкое шоссе, Ленинский проспект. На юго-западе Москвы наблюдается отдельный кластер крупых точек общепита.\n",
    "7. Небольшие залы более характерны для кафе и кофеен (из-за уютности),  пиццерий и точек быстрого питания -по определению там надолго не задерживаются, следовательно- много мест не нужно.  Наоборот, доля ресторанов, баров и  столовых с маленькими залами меньше, чем их доля в целом по датасету.  \n",
    "8. Указанные оценки и выводы относятся к 57.04%  от всего датасета для записей без пропусков в данных по исследуемым параметрам."
   ]
  },
  {
   "cell_type": "markdown",
   "metadata": {},
   "source": [
    "**Сетевые заведения**\n",
    "1. Общее количество несетевых заведений: 5200  (61.88%).  Общее количество сетевых  заведений - 3203 (38.12%). Сетевые и не сетеые заведения в целом распределены равномерно по городу. Заметно, что несетевых больше.\n",
    "2. В датасете присутствуют несетевые заведения, для одинаковых наименований которых есть более 1 заведения и  есть сетевые заведения, в которых в сети есть только 1 заведение. Однозначно определить реальную сетевую принадлежность для таких заведений по имеющимся данным не представляется возможным.   Есть группа заведений с нулевым количеством мест, реальные данные по ним неизвестны.\n",
    "3. Картина распределения всех сетевых заведений похожа на такое же распределение для ТОП-15 сетей. Лидирующий район с больше, чем четвертью заведений, - Центральный АО (26%). Больше 40% заведений находятся почти поровну в Южном, Западном, Северном и Северо-Восточном АО. Аустайдеры по количеству заведений - ЮВАО, ЮЗАО и СЗАО.\n",
    "4. Сетевые заведения представлены во всех категориях датасета.  Лидируют по количеству сетевых заведений кафе, рестораны и кофейни. С большим отрывом следуют пиццерии и заведения быстрого питания. Примерно с одинаковой долей представлены бары и булочные. толовые - самый непопулярный формат сетевого бизнеса в сфере общепита -2.75% от всех заведений.\n",
    "5. ТОП-15 сетей общепита:\n",
    "   -  'Шоколадница', \"Домино'с Пицца\", 'Додо Пицца', 'One Price Coffee',  'Яндекс Лавка', 'Cofix',  'Prime', 'Хинкальная', 'КОФЕПОРТ', 'Кулинарная лавка братьев Караваевых', 'Теремок',  'Чайхана', 'CofeFest',  'Буханка', 'Му-Му'.\n",
    "   - Основная часть заведений работает ежедневно, часть из них круглосуточно. Наиболее популярные часы работы: с 10 до 22 часов. Есть группа заведений, не работающих в выходные.\n",
    "   - 70.5 % заведений из ТОП-15 не имеют данных по категории. Если их не учитывать, то для оставшихся получаются следующие результаты: лидируют заведения со средним ценовым диапазоном (географически распределены равномерно, кроме юго-востока города). Низкая ценовая категория, выше среднего и высокая занимают небольшую часть ТОПа, географически распределены неравномерно- вне центра, стремление к окраинам.\n",
    "   - В целом для Топ-15 сетей присутствуют оценки от 1.7 до 4.9.  Топ-5 рейтингов по количеству заведений топ-15 сетей находится в диапазоне 4.0-4.4.  Для Центрального АО характерны \"твердые хорошисты\" - уверенно держащие рейтинг выше 4.0.   Оценки как  очень высокие  (4.8-4.9), так и низкие (меньше 4.0) более характерны для нецентральных районов.\n",
    "   - Топ-15 сетей повторяют распределение посадочных мест для всего датасета.  Минимальный размер зала - 1 место, максимальный - 1288 мест (фудкорт), основная масса заведений располагает залами до 290 мест.  Медианное количество мест- 75.  Топ-3 размеров зала по количеству заведений: 40, 100, 60 мест."
   ]
  },
  {
   "cell_type": "markdown",
   "metadata": {},
   "source": [
    "**Административные районы**  \n",
    "\n",
    "1. В датасете представлены 9 администативных округов города Москвы.\n",
    "2. Лидирующий по количеству заведений - ЦАО (26.7%). \n",
    "3. Наменьшее количество заведений в СЗАО (4.87%).\n",
    "4. Остальные округа занимают долю от 8.44 до 10.6%  по количеству заведений.\n",
    "5. Лидирующий район с больше, чем четвертью заведений, - Центральный АО. Больше  40%  заведений находятся почти поровну в  Южном, Западном, Северном и Северо-Восточном АО. Аутсайдеры по количеству заведений - ЮВАО, ЮЗАО и СЗАО.\n"
   ]
  },
  {
   "cell_type": "markdown",
   "metadata": {},
   "source": [
    "**Рейтинги пользователей** \n",
    "\n",
    "- Средние рейтинги по категориям отличаются не сильно. \n",
    "- Первое место с небольшим отрывом за барами, далее примерно на одном уровне следуют пиццерии, рестораны, кофейни, булочные. \n",
    "- Аутсайдеры, с небольшим отрывом- столовые, кафе, быстрое питание. \n",
    "- Основную долю по количеству заведений в категории занимают кафе,рестораны и кофейни и бары- вместе- более 3/4 от всех.\n",
    "- Примерно такое же распределение показывают заведения с рейтингами 4.0-5.0.\n",
    "\n",
    "Низкие рейтинги (на \"троечку\")\n",
    "- Рейтинги на \"троечку\" по категориям почти не  отличаются: немного лучше дела у пиццерий, остальные примерно одинаковые. \n",
    "- Распределение заведений по количеству в категории сильно изменилось: \n",
    "    - Первое место с почти половиной занимают кафе.\n",
    "    - второе, третье и четвертое места у ресторанов, точек быстрого питания и кофеен.  \n",
    "    - остальные категории на фоне всего датасета почти не заметны.\n",
    "\n",
    "Очень низкие рейтинги (<3.0)\n",
    "- Лучшие из худших - пиццерии, худшие из худших - булочные. Но в количественном выражении - они представляют незначительную долю.\n",
    "- Занимающие 51% кафе находятся в середине антирейтинга.  Если смотреть на динамику распределения оценок по категориям, то кафе с ресторанами обладают не только большим количеством заведений, но также и большим спектром оценок от высших до низших.\n",
    "\n",
    "\n",
    "Медианные рейтинги по округам (районам) отличаются незначительно\n",
    "- Максимальный  медианный рейтинг у ЦАО - 4.4\n",
    "- Минимальный рейтинг -4.2 у СВАО и ЮВАО.\n",
    "- Остальные округа с рейтингом 4.3\n",
    "\n",
    " \n",
    "Распределение рейтингов по округам \n",
    "- Центральный АО лидирует не только по количеству заведений, но и по их качеству - медианные рейтинги здесь выше.\n",
    "- Северо- и Юго-Восточные АО включают заведения с наименьшим  медианным рейтингом. Остальные округа - середнячки.\n"
   ]
  },
  {
   "cell_type": "markdown",
   "metadata": {},
   "source": [
    "**Улицы города**\n",
    "\n",
    "1. Для топовых улиц и для моноулиц распределение по категориям в основном повторяет распределение, характерное для всего датасета.  Заметны особенности распределения на более крупном масштабе:  районов или округов, это характерно как для крупных улиц с большим количеством заведений, так и улиц, на которых точка общепита всего одна.\n",
    "3. Топовые улицы: 'Варшавское шоссе','Дмитровское шоссе','Каширское шоссе','Кутузовский проспект','Ленинградский проспект','Ленинградское шоссе','Ленинский проспект','Люблинская улица', 'МКАД','Профсоюзная улица','Пятницкая улица','проспект Вернадского','проспект Мира', 'улица Вавилова','улица Миклухо-Маклая' \n",
    "   - Заметно, что все топовые улицы отлично \"заворачивают\" в сторону кафе и ресторанов.\n",
    "   - Ленинградский и Ленинский проспекты, проспект Мира насыщены кофейнями и барами больше остальных.\n",
    "   - Проспекты Мира и Вернадского, улица Профсоюзная - в топе по пиццериями и заведениям быстрого питания.\n",
    "   - В аутсайдерах булочные и столовые- их мало на всех улицах.  \n",
    "4. Моноулицы - их больше 450- обладают в основном равномерным распределением по городу для заведений всех категорий, но заметны следующие особенности:\n",
    "   - несколько снижена плотность в ЮЗАО, ЮАО и ЮВАО,\n",
    "   - в центре плостность точек несколько выше, чем в нецентральных районах\n",
    "   - пиццерий практически нет на юге,\n",
    "   - булочных мало в юго-восточной и западной частях города,\n",
    "   - кофейни, бары и рестораны мало представлены в юго-западной части города\n",
    "   - кафе шире представлены как по численности, так и по географическому распространению, но их тоже меньше на юго-востоке города."
   ]
  },
  {
   "cell_type": "markdown",
   "metadata": {},
   "source": [
    "**Значения средних чеков**\n",
    "1. Двукратная разница между самым дорогим (1000- ЦАО, ЗАО) и самым дешевым медианным чеком (450 ЮВАО). Медиана от медианы - 600 р.- Юго-Западный АО.\n",
    "2.  Самые дорогие заведения - центр и от центра на запад , в сторону Новой Москвы. ЮВАО, ЮАО и СВАО  -самые дешевые. Остальные- середнячки.\n",
    "3. Заметно, что даже в нецентральных районах (округах) распределение заведений с высокими ценами стремится к центру города.  Для всех районов наблюдаются заведения и с высокими ценами, и с низкими. Но в ЦАО плотность и количество дорогих заведений выше.\n",
    "4. Плотность заведений с чеками от 2500 выше в Центральном АО, САО и ЗАО. Но сверхдорогое заведение  \"Кафе\"  располагается в Южном АО с суммой чека 35 000. На втором месте - \"Чойхона\" в САО (11000) , на третьем - \"Гости\" в ВАО (10000).\n",
    "5.  Основная масса заведений (чек до 2500). Максимальная сумма чека. Мы ее искусственно ограничили,но, даже с фильтром, ЮВАО показывает меньший чек из всех максимальных -2000.  Медиана в целом ниже средней величины чека- количественно распределение значений средних чеков смещено в сторону небольших величин, но есть заведения с высокими средними чеками, которые изменяют картину.  По ЦАО медиана и среднее практически равны - 1000, на втором месте по медиане- ЗАО (850). Третье и четвертое места у СЗАО (675) и САО (600). Далее происходит снижение суммы медианного чека по району и самый минимум у ЮВАО - 434р. Минимальные значения минимальных чеков, кроме ожидаемого ЮВАО (30), неожиданно показывают ЦАО(67), ЗАО (50) и ВАО(50). Самый высокий из минимальных чеков у САО (130).\n",
    "6. Расстояние заведения от центра (для заведений с суммой чека до 10 000). Заметно, что в центре чеки выше и в целом происходит общее снижение суммы чеков по мере удаления от центра.  В ЦАО выше плотность заведений с высокими чеками. В других  округах, даже с таким же расстоянием от центра города, заметно меньше заведений с высокой стоимостью посещения. На расстоянии 12-13 км от центра есть полоса заведений в разных окргуах  с высокими чеками.\n",
    "7. Для заведений с чеками на крупные суммы заметно преобладание ресторанов, независимо от района (округа) и удаления от центра. Следующими в сторону уменьшения размера чека  идут бары и пабы. Остальные категории заведений находятся в менее дорогом сегменте, хотя отдельные кафе оставляют далеко позади и рестораны, и бары по стоимости обслуживания."
   ]
  },
  {
   "cell_type": "markdown",
   "metadata": {},
   "source": [
    " "
   ]
  },
  {
   "cell_type": "markdown",
   "metadata": {},
   "source": [
    " "
   ]
  },
  {
   "cell_type": "markdown",
   "metadata": {},
   "source": [
    " "
   ]
  },
  {
   "cell_type": "markdown",
   "metadata": {},
   "source": [
    "## Детализируем исследование: открытие кофейни"
   ]
  },
  {
   "cell_type": "markdown",
   "metadata": {},
   "source": [
    "**Проектное задание**\n",
    "Основателям фонда «Shut Up and Take My Money» не даёт покоя успех сериала «Друзья». Их мечта — открыть такую же крутую и доступную, как «Central Perk», кофейню в Москве. Будем считать, что заказчики не боятся конкуренции в этой сфере, ведь кофеен в больших городах уже достаточно. Попробуйте определить, осуществима ли мечта клиентов.  \n",
    "\n",
    "Ответьте на следующие вопросы:\n",
    "- Сколько всего кофеен в датасете? В каких районах их больше всего, каковы особенности их расположения?\n",
    "- Есть ли круглосуточные кофейни?\n",
    "- Какие у кофеен рейтинги? Как они распределяются по районам?\n",
    "- На какую стоимость чашки капучино стоит ориентироваться при открытии и почему?\n",
    "- По желанию вы можете расширить список вопросов для исследования, добавив собственные.\n",
    "- Постройте визуализации. \n",
    "- Попробуйте дать рекомендацию для открытия нового заведения. Это творческое задание: здесь нет правильного или неправильного ответа, но ваше решение должно быть чем-то обосновано. Объяснить свою рекомендацию можно текстом с описанием или маркерами на географической карте. "
   ]
  },
  {
   "cell_type": "markdown",
   "metadata": {},
   "source": [
    "### Что мы знаем о кафе «Central Perk»**"
   ]
  },
  {
   "cell_type": "markdown",
   "metadata": {},
   "source": [
    "**Ссылки по теме**\n",
    " *(список не полный)*\n",
    "- https://www.google.com\n",
    "- https://friends.fandom.com/wiki/Central_Perk\n",
    "- https://elenalantis.ru/coffee-shop-friends/\n",
    "- https://en.wikipedia.org/wiki/Friends#Premise\n",
    "- https://askentire.net/q/suschestvuet-li-kafe-tsentralnaya-kofeynya-25788280763\n",
    "- https://ew.com/tv/2019/09/03/friends-central-perk-couch-landmarks-worldwide/"
   ]
  },
  {
   "cell_type": "markdown",
   "metadata": {},
   "source": [
    "**Резюмирующие характеристики**"
   ]
  },
  {
   "cell_type": "markdown",
   "metadata": {},
   "source": [
    "1. Название. В самом названии обыгрывается локация (Центральный Парк, Нью-Йорк), место, где можно взбодриться и где есть разные \"плюшки\", привилегии.\n",
    "2. Расположение. Рядом с парком, в центральной части города, в местах рядом с оживленным трафиком.\n",
    "3. Назначение. Для встреч и  общения преимущественно молодежи с невысокими доходами.\n",
    "4. Тип и размер. Ориентировочный размер зала: 20-25 посадочных мест.\n",
    "5. Оригинальное кафе.  В реальности существовало только в виде павильона для съемок.\n",
    "6. Реплики. В мире, в т.ч. в Нью-Йорке открыто несколько десятков кафе копирующих или подражающих оригинальному кафе.\n",
    "7. Эпоха.  Сериал выходил с 1994 по 2004 год."
   ]
  },
  {
   "cell_type": "markdown",
   "metadata": {},
   "source": [
    " "
   ]
  },
  {
   "cell_type": "markdown",
   "metadata": {},
   "source": [
    "**Сложности полной реплики кафе**\n",
    "\n",
    "1. Интерьер. Возникнут существенные сложности в наполнении интерьера кафе оригинальными  предметами или их репликами.\n",
    "2. Сочетание расположения (центральная часть города- высокая аренда), доступных цен  и небольшого размера зала в котором посетители проводят время много времени за общением - на блюдах или алкоголе в таком случае не заработать достаточно.\n",
    "3. Совершенно другая эпоха сериала и настоящего времени. Изменилось общество, характер проведения совместного времени, модели бизнеса в общепите.\n",
    "4. ...\n"
   ]
  },
  {
   "cell_type": "markdown",
   "metadata": {},
   "source": [
    " "
   ]
  },
  {
   "cell_type": "markdown",
   "metadata": {},
   "source": [
    "*Поэтому предлагаю следующие* \n",
    "\n",
    "**Свойства кафе:**  \n",
    "\n",
    "1. Расположение\n",
    "  - рядом с метро (удобная локация) - не более 1.5 км (15 мин пешком).\n",
    "  - расширить географию, включать не только центральный район города, возможно- спальные районы города - кафе должно быть локационно доступным \n",
    "  - попробовать учесть расположение парков (или иных рекреаций) поблизости.   \n",
    "2. Категория. Сочетание свойства кафе и кофейни (близкие понятия). Уютное кафе у дома или в пешей доступности. Ключевые слова - уютное и доступное.   \n",
    "3. Зал\n",
    " - небольшой зал в диапазоне 20-35 посадочных мест\n",
    " - интерьер удобный для длительного времяпрепровождения\n",
    " - интерьер не повторяет оригинальное кафе, но может использовать отдельные предметы интерьера (оригинальные или реплики) как отсылки к оригиналу.  \n",
    "3. Ценовая политика\n",
    "  - чек средний или ниже среднего по району.\n",
    "  - кафе должно быть доступно для молодежи (не золотой)  \n",
    "4. Perk. Привилегии, \"плюшки\"\n",
    "  - расширить ассортимент до пиццерии (увеличит трафик, обеспечит заказами кухню)\n",
    "  - добавить  в предложение доставку готовых блюд (повысит лояльность клиентов, узнаваемость бренда и также обеспечит заказами кухню)\n",
    "  - разработать гибкую программу лояльности для постоянных посетителей- друзей кафе\n",
    "  - проработать бизнес-модель сочетания кафе и анти-кафе, где посетители платят за время, а не за еду.\n",
    "5. Время работы.  Уточнить при анализе среза датасета. Предположительно - ежедневно, с 9 до 23 часов."
   ]
  },
  {
   "cell_type": "markdown",
   "metadata": {},
   "source": [
    " "
   ]
  },
  {
   "cell_type": "markdown",
   "metadata": {},
   "source": [
    " "
   ]
  },
  {
   "cell_type": "markdown",
   "metadata": {},
   "source": [
    "### Срез датасета по условиям"
   ]
  },
  {
   "cell_type": "markdown",
   "metadata": {},
   "source": [
    "Для удобства работы сделаем срез данных по категориям и количеству посадочных мест"
   ]
  },
  {
   "cell_type": "code",
   "execution_count": null,
   "metadata": {},
   "outputs": [],
   "source": [
    "category_invest = ['кафе', 'кофейня', 'пиццерия']\n",
    "\n",
    "data_invest = data[(data['seats']>=20) & (data['seats']<=40)].query('category == @category_invest')\n",
    "display(data_invest.head())\n",
    "print()\n",
    "print('Количество заведений, подходящих под предварительные условия по категориям и размерам зала:', data_invest.shape[0])\n",
    "print('Доля заведений, подходящих под предварительные условия по категориям и размерам зала, от всего датасета, %:',\n",
    "                                      round(100 * data_invest.shape[0]/data.shape[0]  , 2 ) )\n"
   ]
  },
  {
   "cell_type": "markdown",
   "metadata": {},
   "source": [
    "5.52 % от всего датасета, но в абсолютных цифрах - 464 точка, не так и мало. Посмотрим на них поближе."
   ]
  },
  {
   "cell_type": "markdown",
   "metadata": {},
   "source": [
    " "
   ]
  },
  {
   "cell_type": "markdown",
   "metadata": {},
   "source": [
    " "
   ]
  },
  {
   "cell_type": "markdown",
   "metadata": {},
   "source": [
    "### Предварительный анализ"
   ]
  },
  {
   "cell_type": "markdown",
   "metadata": {},
   "source": [
    "#### Географическое распределение"
   ]
  },
  {
   "cell_type": "code",
   "execution_count": null,
   "metadata": {},
   "outputs": [],
   "source": [
    "fig = px.scatter(data_invest,  x='lng', y='lat',  color='district' ,hover_data=  ['name', 'category', 'seats', 'street'],\n",
    "                 title='Географическое распределение среза заведений')\n",
    "fig.show()"
   ]
  },
  {
   "cell_type": "markdown",
   "metadata": {},
   "source": [
    "1. Визуально заведения представлены примерно равномерно во всех округах города. \n",
    "2. В основном точки общепита с небольшими залами в интересующих нас категориях расположены на небольших улицах, вне радиальных городских магистралей. "
   ]
  },
  {
   "cell_type": "markdown",
   "metadata": {},
   "source": [
    " "
   ]
  },
  {
   "cell_type": "code",
   "execution_count": null,
   "metadata": {},
   "outputs": [],
   "source": [
    "street_points_inv_cnt  =  data_invest.query('street == @top_street')['name'].count()\n",
    "street_inv =  data_invest.query('street == @top_street')['street'].unique()\n",
    "street_inv_cnt = data_invest.query('street == @top_street')['street'].nunique()\n",
    "\n",
    "print('Количество заведений  на улицах из ТОП-15 улиц:', street_points_inv_cnt )\n",
    "print('Доля заведений  на улицах из ТОП-15 улиц (от всех заведений среза), %:', \n",
    "                              round(100 * street_points_inv_cnt/len( data_invest) ,2) )\n",
    "print()\n",
    "print('Количество улиц из ТОП-15 улиц, на которых расположены заведения из среза данных: ', street_inv_cnt)\n",
    "print('Улицы из ТОП-15 улиц, на которых расположены заведения из среза данных:')\n",
    "print()\n",
    "print(street_inv)"
   ]
  },
  {
   "cell_type": "markdown",
   "metadata": {},
   "source": [
    " "
   ]
  },
  {
   "cell_type": "code",
   "execution_count": null,
   "metadata": {},
   "outputs": [],
   "source": [
    "mono_street_points_inv_cnt  =  data_invest.query('street == @mono_street')['name'].count()\n",
    "mono_street_inv =  data_invest.query('street == @mono_street')['street'].unique()\n",
    "mono_street_inv_cnt = data_invest.query('street == @mono_street')['street'].nunique()\n",
    "\n",
    "print('Количество заведений  на улицах из перечня моно-улиц:', mono_street_points_inv_cnt )\n",
    "print('Доля заведений  на улицах из перечня моно-улиц (от всех заведений среза), %:', \n",
    "                              round(100 * mono_street_points_inv_cnt/len( data_invest) ,2) )\n",
    "print()\n",
    "print('Количество улиц из перечня моно-улиц, на которых расположены заведения из среза данных: ', mono_street_inv_cnt)\n",
    "print('Улицы из перечня моно-улиц, на которых расположены заведения из среза данных:')\n",
    "print()\n",
    "print(mono_street_inv)"
   ]
  },
  {
   "cell_type": "markdown",
   "metadata": {},
   "source": [
    "  "
   ]
  },
  {
   "cell_type": "markdown",
   "metadata": {},
   "source": [
    "1. Визуально заведения представлены примерно равномерно во всех округах города. \n",
    "2. Количественно тоже заметно, что нет преобладания ни моно-улиц, ни насыщенных общепитом и транспортом  городских магистральных проспектов."
   ]
  },
  {
   "cell_type": "markdown",
   "metadata": {},
   "source": [
    "  "
   ]
  },
  {
   "cell_type": "markdown",
   "metadata": {},
   "source": [
    "  "
   ]
  },
  {
   "cell_type": "markdown",
   "metadata": {},
   "source": [
    "#### Категории заведений"
   ]
  },
  {
   "cell_type": "code",
   "execution_count": null,
   "metadata": {},
   "outputs": [],
   "source": [
    "cat_inv = data_invest.groupby('category')['name'].count().sort_values(ascending=False).reset_index()\n",
    "cat_inv.columns=['Категория', 'Количество заведений']\n",
    "\n",
    "print('\\n')\n",
    "display(cat_inv)\n",
    "print('\\n')\n",
    "\n",
    "fig = px.pie(cat_inv, values='Количество заведений', names='Категория', \n",
    "             title='Распределение количества  заведений  по  категориям')\n",
    "fig.show()"
   ]
  },
  {
   "cell_type": "markdown",
   "metadata": {},
   "source": [
    "Немногим больше половины всех заведений - кафе, немногим меньше четверти приходится на кофейни и пиццерии."
   ]
  },
  {
   "cell_type": "markdown",
   "metadata": {},
   "source": [
    " "
   ]
  },
  {
   "cell_type": "markdown",
   "metadata": {},
   "source": [
    "#### Сетевой признак заведения общепита  "
   ]
  },
  {
   "cell_type": "markdown",
   "metadata": {},
   "source": [
    "  "
   ]
  },
  {
   "cell_type": "code",
   "execution_count": null,
   "metadata": {},
   "outputs": [],
   "source": [
    "no_chain_cnt_invest = (data_invest['chain']==0).sum()\n",
    "chain_cnt_invest = data_invest['chain'].sum()\n",
    "\n",
    "print(\"Общее количество заведений в срезе датасета:\", len(data_invest))\n",
    "print()\n",
    "print('Количество записей датасета с признаком - несетевое заведение:', no_chain_cnt_invest)\n",
    "print('Доля записей датасета с признаком - несетевое заведение, от всех записей в срезе датасета, %:', \n",
    "                                                       round( 100*no_chain_cnt_invest/len(data_invest),2))\n",
    "print()\n",
    "print('Количество записей датасета с признаком - сетевое заведение', chain_cnt_invest)\n",
    "print('Доля записей датасета с признаком - сетевое заведение, от всех записей в срезе датасета,% :', \n",
    "                                                       round( 100*chain_cnt_invest/len(data_invest),2))\n",
    "\n",
    "\n",
    "\n",
    "chain_catering_inv = pd.DataFrame(data_invest[data_invest['chain']==1].groupby(['name', 'category'])['address'].count().sort_values(ascending=False).reset_index())\n",
    "chain_catering_inv.columns=['Название','Категория', 'Количество заведений']\n",
    "print()\n",
    "print('ТОП-15 сетей по количеству заведений в сети (для среза датасета)')\n",
    "display(chain_catering_inv.head(15))\n"
   ]
  },
  {
   "cell_type": "markdown",
   "metadata": {},
   "source": [
    "1.  По сетевому признаку заведения разделились в соотношении 60/40, сетевых меньше. \n",
    "2.  Интересно, что в топ-15 сетей из среза попали всего 3 сети кофеен, 5 сетей кафе и 7  сетей пиццерий. По размеру зала пиццерия подходит больше под условия инвест-проекта."
   ]
  },
  {
   "cell_type": "markdown",
   "metadata": {},
   "source": [
    " "
   ]
  },
  {
   "cell_type": "markdown",
   "metadata": {},
   "source": [
    " "
   ]
  },
  {
   "cell_type": "markdown",
   "metadata": {},
   "source": [
    "*Графическое распределение сетевого признака*"
   ]
  },
  {
   "cell_type": "code",
   "execution_count": null,
   "metadata": {},
   "outputs": [],
   "source": [
    "base_name = 'Географическое распределение сетевого признака (1-сетевое, 0- несетевое)'\n",
    "    \n",
    "fig = px.scatter(data_invest, x='lng', y='lat', color='chain', title =base_name)\n",
    "fig.show()"
   ]
  },
  {
   "cell_type": "markdown",
   "metadata": {},
   "source": [
    "Сетевые и не сетевые заведения в целом распределены равномерно по городу, заметно, что несетевых больше."
   ]
  },
  {
   "cell_type": "markdown",
   "metadata": {},
   "source": [
    "  "
   ]
  },
  {
   "cell_type": "markdown",
   "metadata": {},
   "source": [
    "  "
   ]
  },
  {
   "cell_type": "markdown",
   "metadata": {},
   "source": [
    "#### Административные округа (районы)"
   ]
  },
  {
   "cell_type": "markdown",
   "metadata": {},
   "source": [
    " "
   ]
  },
  {
   "cell_type": "code",
   "execution_count": null,
   "metadata": {
    "scrolled": false
   },
   "outputs": [],
   "source": [
    "district_invest = data_invest.groupby('district')['name'].count().sort_values(ascending=False).reset_index()\n",
    "district_invest.columns=['Название', 'Количество заведений']\n",
    "\n",
    "print('\\n')\n",
    "display(district_invest)\n",
    "print('\\n')\n",
    "\n",
    "fig = px.bar(district_invest.sort_values(by='Количество заведений', ascending=True), \n",
    "             x='Количество заведений', y='Название', text = 'Количество заведений', \n",
    "             title ='Распределение количества заведений  по  административным округам')\n",
    "fig.show()\n",
    "\n",
    "fig = px.pie(district_invest, values='Количество заведений', names='Название', \n",
    "             title='Распределение количества  заведений  по  административым округам')\n",
    "fig.show()\n"
   ]
  },
  {
   "cell_type": "markdown",
   "metadata": {},
   "source": [
    "**Географическое распределение по административным районам**"
   ]
  },
  {
   "cell_type": "code",
   "execution_count": null,
   "metadata": {},
   "outputs": [],
   "source": [
    "base_name = 'Географическое распределение заведений по административным районам'\n",
    "    \n",
    "fig = px.scatter(data_invest, x='lng', y='lat', color='district', title =base_name)\n",
    "fig.show()"
   ]
  },
  {
   "cell_type": "markdown",
   "metadata": {},
   "source": [
    "1. В срезе датасета представлены все  9 административных округов города Москвы.\n",
    "2. Лидирующие по количеству заведений - ЦАО (18.8%)  и САО (15.1%). \n",
    "3. Больше 10% у ЮАО, ЮЗАО.\n",
    "4. У остальных округов меньше 10% заведений на округ."
   ]
  },
  {
   "cell_type": "markdown",
   "metadata": {},
   "source": [
    "#### Рейтинги пользователей"
   ]
  },
  {
   "cell_type": "code",
   "execution_count": null,
   "metadata": {},
   "outputs": [],
   "source": [
    "fig = px.box(data_invest, y=\"rating\", \n",
    "             title='Рейтинг заведений общественного питания (срез датасета)',\n",
    "             hover_data=  ['name', 'category', 'seats', 'street'])\n",
    "fig.show()"
   ]
  },
  {
   "cell_type": "markdown",
   "metadata": {},
   "source": [
    "1. Основная масса заведений из среза датасета имеет пользовательские рейтинги от 3.7 до 4.8. Медианное значение - 4.3\n",
    "2. Есть выбросы вверх- 4.9-5.0,  есть выбросы вниз- 3.6-2.4 и  экстремальные выбросы с рейтингом 1-1.3 -кому-то сильно не понравилось обслуживание в кафе."
   ]
  },
  {
   "cell_type": "markdown",
   "metadata": {},
   "source": [
    "**Медианные рейтинги по районам (административным округам)**"
   ]
  },
  {
   "cell_type": "code",
   "execution_count": null,
   "metadata": {},
   "outputs": [],
   "source": [
    "district_rating_invest = data_invest.pivot_table(index=['district'], values= ['rating'], aggfunc = ['count', 'median'] ).reset_index()\n",
    "district_rating_invest.columns=['Административный округ', 'Количество заведений', 'Медианный рейтинг']\n",
    "district_rating_invest = district_rating_invest.sort_values(by = 'Медианный рейтинг', ascending=False).reset_index(drop=True)\n",
    "\n",
    "print('\\n')\n",
    "display(district_rating_invest)\n",
    "\n",
    "print('\\n','\\n')\n",
    "district_rating_invest.sort_values(by='Медианный рейтинг', ascending=True).plot(x='Административный округ' ,   y='Медианный рейтинг', kind='barh', figsize=(15,7), grid = True,\n",
    "               title ='Распределение медианных рейтингов по районам (административным округам)')\n",
    "plt.show()"
   ]
  },
  {
   "cell_type": "markdown",
   "metadata": {},
   "source": [
    " Медианные рейтинги по округам (районам) отличаются незначительно.\n",
    " 1. Максимальный  медианный рейтинг у ЦАО - 4.4\n",
    " 2. Минимальный рейтинг -4.2 у ЮАО.\n",
    " 3. Остальные округа с рейтингом 4.3"
   ]
  },
  {
   "cell_type": "markdown",
   "metadata": {},
   "source": [
    " "
   ]
  },
  {
   "cell_type": "markdown",
   "metadata": {},
   "source": [
    "#### Средние чеки и средняя цена чашки кофе."
   ]
  },
  {
   "cell_type": "markdown",
   "metadata": {},
   "source": [
    "**Средний чек**"
   ]
  },
  {
   "cell_type": "code",
   "execution_count": null,
   "metadata": {},
   "outputs": [],
   "source": [
    "bill_invest_cnt=  data_invest[~data_invest['middle_avg_bill'].isna()]['name'].count()\n",
    "\n",
    "print('Количество заведений среза датасета с имеющимися данными по средним чекам:', bill_invest_cnt)\n",
    "print('Доля заведений среза датасета с имеющимися данными по средним чекам, от всех записей в срезе датасета, %:', \n",
    "                                                       round( 100*bill_invest_cnt/len(data_invest),2))"
   ]
  },
  {
   "cell_type": "markdown",
   "metadata": {},
   "source": [
    " "
   ]
  },
  {
   "cell_type": "code",
   "execution_count": null,
   "metadata": {},
   "outputs": [],
   "source": [
    "fig = px.box(data_invest[~data_invest['middle_avg_bill'].isna()], y=\"middle_avg_bill\", \n",
    "             title='Средний чек для заведений с имеющимися данными (срез датасета)',\n",
    "             hover_data=  ['name', 'category', 'seats', 'street'])\n",
    "fig.show()"
   ]
  },
  {
   "cell_type": "markdown",
   "metadata": {},
   "source": [
    "1. Для основной массы заведений из среза датасета ( с имеющимися данными) средний чек находится в диапазоне 125-1500 с медианой 500 р.\n",
    "2. Есть выбросы вверх до 3750 р.\n",
    "3. Данные представлены для   177  заведений ( 38.15% от всего среза датасета)"
   ]
  },
  {
   "cell_type": "markdown",
   "metadata": {},
   "source": [
    " "
   ]
  },
  {
   "cell_type": "markdown",
   "metadata": {},
   "source": [
    " "
   ]
  },
  {
   "cell_type": "markdown",
   "metadata": {},
   "source": [
    "**Средняя цена чашки кофе**"
   ]
  },
  {
   "cell_type": "code",
   "execution_count": null,
   "metadata": {},
   "outputs": [],
   "source": [
    "cup_invest_cnt=  data_invest[~data_invest['middle_coffee_cup'].isna()]['name'].count()\n",
    "\n",
    "print('Количество заведений среза датасета с имеющимися данными по средней цене чашки кофе:', cup_invest_cnt)\n",
    "print('Доля заведений среза датасета с имеющимися данными по средней цене чашки кофе, от всех записей в срезе датасета, %:', \n",
    "                                                       round( 100*cup_invest_cnt/len(data_invest),2))"
   ]
  },
  {
   "cell_type": "markdown",
   "metadata": {},
   "source": [
    " "
   ]
  },
  {
   "cell_type": "code",
   "execution_count": null,
   "metadata": {},
   "outputs": [],
   "source": [
    "fig = px.box(data_invest[~data_invest['middle_coffee_cup'].isna()], y=\"middle_coffee_cup\", \n",
    "             title='Средняя цена чашки кофе для заведений из среза датасета (с имеющимися данными)',\n",
    "             hover_data=  ['name', 'category', 'seats', 'street'])\n",
    "fig.show()"
   ]
  },
  {
   "cell_type": "markdown",
   "metadata": {},
   "source": [
    "1. Данных немного, всего 7.8 % от среза датасета, поэтому ориентироваться на них следует с осторожностью.\n",
    "2. Стоимость средней чашки кофе в заведениях датасета находится в диапазоне 60-328 рублей с медианой 175. "
   ]
  },
  {
   "cell_type": "markdown",
   "metadata": {},
   "source": [
    " "
   ]
  },
  {
   "cell_type": "markdown",
   "metadata": {},
   "source": [
    "**Шоколадница**"
   ]
  },
  {
   "cell_type": "markdown",
   "metadata": {},
   "source": [
    "Так как данных для анализа мало, то посмотрим на точки сети \"Шоколадница\", которая широко представлена по районам города."
   ]
  },
  {
   "cell_type": "code",
   "execution_count": null,
   "metadata": {},
   "outputs": [],
   "source": [
    "fig = px.box(data[(~data['middle_coffee_cup'].isna()) & (data['name']== 'Шоколадница')   ], y=\"middle_coffee_cup\", \n",
    "             title='Средняя цена чашки кофе в \"Шоколаднице\"',\n",
    "             hover_data=  ['name', 'category', 'seats', 'street'])\n",
    "fig.show()"
   ]
  },
  {
   "cell_type": "markdown",
   "metadata": {},
   "source": [
    "Очень интересный график. Есть отдельные выбросы как вниз ( 90 р), так и вверх (1568),  но основная масса соответствует медиане в 256 р. за чашку кофе.  Посмотрим в каких залах размещаются кофейни сети."
   ]
  },
  {
   "cell_type": "code",
   "execution_count": null,
   "metadata": {},
   "outputs": [],
   "source": [
    "fig = px.box(data[(~data['middle_coffee_cup'].isna()) & (data['name']== 'Шоколадница')   ], y=\"seats\", \n",
    "             title='Количество посадочных мест в кофейнях сети \"Шоколадница\"',\n",
    "             hover_data=  ['name', 'category', 'seats', 'street'])\n",
    "fig.show()"
   ]
  },
  {
   "cell_type": "markdown",
   "metadata": {},
   "source": [
    "Размер кофеен сети начинается с 25 мест, медианный зал - 80 мест. В то время как по условиям среза датасета, размер зала должен быть в диапазоне "
   ]
  },
  {
   "cell_type": "markdown",
   "metadata": {},
   "source": [
    " "
   ]
  },
  {
   "cell_type": "markdown",
   "metadata": {},
   "source": [
    "**Медианная цена чашки кофе для всего датасета**"
   ]
  },
  {
   "cell_type": "code",
   "execution_count": null,
   "metadata": {},
   "outputs": [],
   "source": [
    "fig = px.box(data[(~data['middle_coffee_cup'].isna())], y='middle_coffee_cup', \n",
    "             title='Медианная цена чашки кофе для всего датасета',\n",
    "             hover_data=  ['middle_coffee_cup', 'name', 'category', 'seats', 'street'])\n",
    "fig.show()"
   ]
  },
  {
   "cell_type": "code",
   "execution_count": null,
   "metadata": {},
   "outputs": [],
   "source": [
    "print('Медианная цена чашки кофе для всего датасета: ', data['middle_coffee_cup'].median())\n",
    "print('Количество заведений c имеющимися данными: ', data['middle_coffee_cup'].count())"
   ]
  },
  {
   "cell_type": "markdown",
   "metadata": {},
   "source": [
    "Это значительно ниже медианной цены для 'Шоколадницы' и для заведений среза датасета.  \n",
    "Посмотрим на размер залов датасета для заведений с ценой чашки не более медианы от по всему датасету.\n"
   ]
  },
  {
   "cell_type": "markdown",
   "metadata": {},
   "source": [
    " "
   ]
  },
  {
   "cell_type": "code",
   "execution_count": null,
   "metadata": {},
   "outputs": [],
   "source": [
    "fig = px.box(data[(~data['middle_coffee_cup'].isna()) & (data['middle_coffee_cup']<= data['middle_coffee_cup'].median())  & (data['seats']>0)],\n",
    "             y='seats', \n",
    "             title='Количество посадочных мест для заведений с ценой чашки не более медианы от по всему датасету',\n",
    "             hover_data=  ['middle_coffee_cup', 'name', 'category', 'seats', 'street'])\n",
    "fig.show()"
   ]
  },
  {
   "cell_type": "markdown",
   "metadata": {},
   "source": [
    "В таком случае низкая цена чашки вполне объяснима - заведения с ценой не более медианы по датасету размещаются в залах с количеством посадочных мест  (медиана -80) кратно больше, чем задано по условиям среза датасета (20-35).\n"
   ]
  },
  {
   "cell_type": "markdown",
   "metadata": {},
   "source": [
    "  "
   ]
  },
  {
   "cell_type": "markdown",
   "metadata": {},
   "source": [
    "#### Режим работы"
   ]
  },
  {
   "cell_type": "markdown",
   "metadata": {},
   "source": [
    "  "
   ]
  },
  {
   "cell_type": "code",
   "execution_count": null,
   "metadata": {
    "scrolled": true
   },
   "outputs": [],
   "source": [
    "print('Количество уникальных записей о режиме работы заведений: ', data_invest['hours'].nunique())\n",
    "print()\n",
    "print('Количество  записей о режиме работы заведений: ', len(data_invest)- data_invest['hours'].isna().sum())\n",
    "isna_free_invest =  round(100 -data_invest['hours'].isna().sum()/ len(data_invest) * 100, 2)\n",
    "print('Доля записей без пропусков в данных о режиме работы (от всего датасета), %: ', isna_free_invest)\n",
    "print()"
   ]
  },
  {
   "cell_type": "markdown",
   "metadata": {},
   "source": [
    "**Топ-20  типов режимов работы заведений**"
   ]
  },
  {
   "cell_type": "code",
   "execution_count": null,
   "metadata": {},
   "outputs": [],
   "source": [
    "operating_mode_invest = pd.DataFrame(data_invest.groupby('hours')['address'].count().sort_values(ascending=False).reset_index())\n",
    "operating_mode_invest.columns=['Тип режима работы', 'Количество заведений']\n",
    "operating_mode_invest.head(20)"
   ]
  },
  {
   "cell_type": "code",
   "execution_count": null,
   "metadata": {},
   "outputs": [],
   "source": [
    "# заведения с ежедневным режимом работы\n",
    "cnt = 0\n",
    "ct=0\n",
    "for i in range(len(operating_mode_invest)):\n",
    "    if str(operating_mode_invest.loc[i,'Тип режима работы']).find('ежеднев')> -1:\n",
    "        ct+=1\n",
    "        cnt+= operating_mode_invest.loc[i,'Количество заведений']\n",
    "        \n",
    "print('Количество типов режимов работы заведений, работающих однотипно ежедневно: ', ct)\n",
    "print('Сумарное количество заведений с однотипно ежедневным режимом работы: ', cnt)\n",
    "print('Доля заведений с однотипно ежедневным режимом работы (от записей без пропусков  в данных с режимом работы), % : ', round(100*cnt/(len(data_invest)- data_invest['hours'].isna().sum())    ,2))"
   ]
  },
  {
   "cell_type": "markdown",
   "metadata": {},
   "source": [
    "  "
   ]
  },
  {
   "cell_type": "markdown",
   "metadata": {},
   "source": [
    "**Количество заведений, работающих 24/7**"
   ]
  },
  {
   "cell_type": "code",
   "execution_count": null,
   "metadata": {},
   "outputs": [],
   "source": [
    "# расчет количества заведений, работающий 24/7\n",
    "\n",
    "count_full_day_invest = data_invest['is_24/7'].sum()\n",
    "\n",
    "print('Количество заведений в срезе датасета: ', data_invest.shape[0])\n",
    "print('Количество заведений, работающих 24/7: ', count_full_day_invest)\n",
    "print('Доля заведений, работающих 24/7 ко всем заведениям среза датасета,%: ', round(100*count_full_day_invest/data_invest.shape[0] ,2) )  "
   ]
  },
  {
   "cell_type": "markdown",
   "metadata": {},
   "source": [
    "  "
   ]
  },
  {
   "cell_type": "markdown",
   "metadata": {},
   "source": [
    "1. Данные о режимах работы имеются для 93% заведений в срезе датасета.\n",
    "2. В целом все заведения из ТОП-20 режимов работы открыты ежедневно, 16 из них работают ежедневно с типичным, одинаковым режимом и 4 типа имеют разный режим работы в будни и в выходные.\n",
    "3. Почти 9 процентов заведений от всего среза работают ежедневно и круглосуточно.\n",
    "4. Основная часть заведений начинает работу с 8-10 утра и заканчивает в 22-23 часа вечера."
   ]
  },
  {
   "cell_type": "markdown",
   "metadata": {},
   "source": [
    "  "
   ]
  },
  {
   "cell_type": "markdown",
   "metadata": {},
   "source": [
    "  "
   ]
  },
  {
   "cell_type": "markdown",
   "metadata": {},
   "source": [
    "#### Анализ данных по точкам общепита в ЦАО"
   ]
  },
  {
   "cell_type": "markdown",
   "metadata": {},
   "source": [
    "Так как прототип кафе для инвест-проекта носит название \"Central Perk\" и предполагает размещение в центральной части города, то посмотрим отдельно на заведения с необходимым размером зала и категорией, находящихся в центральной части города."
   ]
  },
  {
   "cell_type": "code",
   "execution_count": null,
   "metadata": {},
   "outputs": [],
   "source": [
    "#срез по ЦАО от инвест-среза\n",
    "\n",
    "data_invest_cao =data_invest[data_invest['district']=='Центральный административный округ'] "
   ]
  },
  {
   "cell_type": "markdown",
   "metadata": {},
   "source": [
    "**Географическое расположение**"
   ]
  },
  {
   "cell_type": "code",
   "execution_count": null,
   "metadata": {
    "scrolled": false
   },
   "outputs": [],
   "source": [
    "# moscow_lat - широта центра Москвы, moscow_lng - долгота центра Москвы\n",
    "moscow_lat, moscow_lng = 55.751244, 37.618423\n",
    "\n",
    "# создаём карту Москвы\n",
    "m = Map(location=[moscow_lat, moscow_lng], zoom_start=10)\n",
    "# создаём пустой кластер, добавляем его на карту\n",
    "marker_cluster = MarkerCluster().add_to(m)\n",
    "\n",
    "# пишем функцию, которая принимает строку датафрейма,\n",
    "# создаёт маркер в текущей точке и добавляем его в кластер marker_cluster\n",
    "def create_clusters(row):\n",
    "    Marker(\n",
    "        [row['lat'], row['lng']],\n",
    "        popup=f\"{row['name']} {row['category']} {row['seats']} {row['rating']} {row['middle_avg_bill']} {row['middle_coffee_cup']}\" \n",
    "    ).add_to(marker_cluster)\n",
    "\n",
    "# применяем функцию create_clusters() к каждой строке датафрейма\n",
    "data_invest_cao.apply(create_clusters, axis=1)\n",
    "\n",
    "# выводим карту\n",
    "m"
   ]
  },
  {
   "cell_type": "markdown",
   "metadata": {},
   "source": [
    "1. Наблюдается много точек без данных по среднему чеку или стоимости чашки кофе.\n",
    "2. Часто встречаются точки, находящиеся вблизи или даже в одном здании, с сильно отличающимися средними ценами.\n",
    "3. В самом центре города, в пешей доступности от Кремля есть кафе и кофейни как с высокими, так и с низкими ценами.\n",
    "4. В Москве нет прямого аналога Центрального парка Нью-Йорка (парк \"Зарядье\" не является прямой аналогией, хотя и находится в самом центре).  Но в городе много различных парков и скверов, где поблизости можно разместить небольшое кафе в пешей доступности и с невысокими ценами. "
   ]
  },
  {
   "cell_type": "markdown",
   "metadata": {},
   "source": [
    " "
   ]
  },
  {
   "cell_type": "markdown",
   "metadata": {},
   "source": [
    "**Сетевой признак**"
   ]
  },
  {
   "cell_type": "code",
   "execution_count": null,
   "metadata": {},
   "outputs": [],
   "source": [
    "no_chain_cnt_invest_cao = (data_invest_cao['chain']==0).sum()\n",
    "chain_cnt_invest_cao = data_invest_cao['chain'].sum()\n",
    "\n",
    "print(\"Общее количество заведений по ЦАО  в срезе датасета:\", len(data_invest_cao))\n",
    "print()\n",
    "print('Количество записей датасета по ЦАО  с признаком - несетевое заведение:', no_chain_cnt_invest_cao)\n",
    "print('Доля записей датасета по ЦАО  с признаком - несетевое заведение, от всех записей в срезе датасета, %:', \n",
    "                                                       round( 100*no_chain_cnt_invest_cao/len(data_invest_cao),2))\n",
    "print()\n",
    "print('Количество записей датасета по ЦАО  с признаком - сетевое заведение', chain_cnt_invest_cao)\n",
    "print('Доля записей датасета  по ЦАО  с признаком - сетевое заведение, от всех записей в срезе датасета,% :', \n",
    "                                                       round( 100*chain_cnt_invest_cao/len(data_invest_cao),2))\n",
    "\n",
    "\n",
    "\n",
    "chain_catering_inv_cao = pd.DataFrame(data_invest_cao[data_invest_cao['chain']==1].groupby(['name', 'category'])['address'].count().sort_values(ascending=False).reset_index())\n",
    "chain_catering_inv_cao.columns=['Название','Категория', 'Количество заведений']\n",
    "print()\n",
    "print('ТОП-15 сетей по количеству заведений в сети  по ЦАО (для среза датасета)')\n",
    "display(chain_catering_inv_cao.head(15))\n"
   ]
  },
  {
   "cell_type": "markdown",
   "metadata": {},
   "source": [
    "1. Соотношение примерно такое же как по всему срезу датасета - 65/35, сетевых меньше.\n",
    "2. В основном сети представлены по одному заведению, исключение- Кулинарная лавка братьев Караваевых.\n",
    "3. Среди сетевых заведений преобладают кафе и кофейни,  пиццерий всего одна."
   ]
  },
  {
   "cell_type": "markdown",
   "metadata": {},
   "source": [
    "**Рейтинги заведений**"
   ]
  },
  {
   "cell_type": "code",
   "execution_count": null,
   "metadata": {},
   "outputs": [],
   "source": [
    "fig = px.box(data_invest_cao, y=\"rating\", \n",
    "             title='Рейтинг заведений общественного питания по ЦАО  (срез датасета)',\n",
    "             hover_data=  ['name', 'category', 'seats', 'street'])\n",
    "fig.show()"
   ]
  },
  {
   "cell_type": "markdown",
   "metadata": {},
   "source": [
    "1. Основная масса заведений по ЦАО из среза датасета имеет пользовательские рейтинги от 4.1 до 4.7. Медианное значение - 4.4 - немного выше, чем в целом по всем округам из среза датасета.\n",
    "2. Есть выбросы вверх- 4.8-5.0,  есть выбросы вниз- 3.5-4.0."
   ]
  },
  {
   "cell_type": "markdown",
   "metadata": {},
   "source": [
    "**Средний чек и средняя цена чашки кофе**"
   ]
  },
  {
   "cell_type": "markdown",
   "metadata": {},
   "source": [
    "**Средний чек**"
   ]
  },
  {
   "cell_type": "code",
   "execution_count": null,
   "metadata": {},
   "outputs": [],
   "source": [
    "bill_invest_cnt_cao=  data_invest_cao[~data_invest_cao['middle_avg_bill'].isna()]['name'].count()\n",
    "\n",
    "print('Количество заведений по ЦАО среза датасета  с имеющимися данными по средним чекам:', bill_invest_cnt_cao)\n",
    "print('Доля заведений по ЦАО  среза датасета с имеющимися данными по средним чекам, от всех записей в срезе датасета, %:', \n",
    "                                                       round( 100*bill_invest_cnt_cao/len(data_invest_cao),2))"
   ]
  },
  {
   "cell_type": "markdown",
   "metadata": {},
   "source": [
    " "
   ]
  },
  {
   "cell_type": "code",
   "execution_count": null,
   "metadata": {},
   "outputs": [],
   "source": [
    "fig = px.box(data_invest_cao[~data_invest_cao['middle_avg_bill'].isna()], y=\"middle_avg_bill\", \n",
    "             title='Средний чек для заведений по ЦАО  с имеющимися данными (срез датасета)',\n",
    "             hover_data=  ['name', 'category', 'seats', 'street'])\n",
    "fig.show()"
   ]
  },
  {
   "cell_type": "markdown",
   "metadata": {},
   "source": [
    "1. Для основной массы заведений из среза датасета ( с имеющимися данными) средний чек находится в диапазоне 275-910 с медианой 562 р.\n",
    "2. Есть выбросы вверх до  1500 р.\n",
    "3. Данные представлены для   42  заведений ( 48.28% от всего среза датасета)"
   ]
  },
  {
   "cell_type": "markdown",
   "metadata": {},
   "source": [
    " "
   ]
  },
  {
   "cell_type": "markdown",
   "metadata": {},
   "source": [
    " "
   ]
  },
  {
   "cell_type": "markdown",
   "metadata": {},
   "source": [
    "**Средняя цена чашки кофе**"
   ]
  },
  {
   "cell_type": "code",
   "execution_count": null,
   "metadata": {},
   "outputs": [],
   "source": [
    "cup_invest_cnt_cao=  data_invest_cao[~data_invest_cao['middle_coffee_cup'].isna()]['name'].count()\n",
    "\n",
    "print('Количество заведений по ЦАО среза датасета с имеющимися данными по средней цене чашки кофе:', cup_invest_cnt_cao)\n",
    "print('Доля заведений по ЦАО  среза датасета с имеющимися данными по средней цене чашки кофе, от всех записей в срезе датасета, %:', \n",
    "                                                       round( 100*cup_invest_cnt_cao/len(data_invest_cao),2))"
   ]
  },
  {
   "cell_type": "markdown",
   "metadata": {},
   "source": [
    " "
   ]
  },
  {
   "cell_type": "code",
   "execution_count": null,
   "metadata": {},
   "outputs": [],
   "source": [
    "fig = px.box(data_invest_cao[~data_invest_cao['middle_coffee_cup'].isna()], y=\"middle_coffee_cup\", \n",
    "             title='Средняя цена чашки кофе для заведений по ЦАО  из среза датасета (с имеющимися данными)',\n",
    "             hover_data=  ['name', 'category', 'seats', 'street'])\n",
    "fig.show()"
   ]
  },
  {
   "cell_type": "markdown",
   "metadata": {},
   "source": [
    "1. Данных немного, всего 15 записей - 17 % от среза датасета, поэтому ориентироваться на них следует с осторожностью.\n",
    "2. Стоимость средней чашки кофе в заведениях датасета находится в диапазоне 60-328 рублей с медианой 210.\n",
    "3. Медиана по ЦАО выше медианы по всем округам среза, что ожидаемо и, в целом, соотносится с распределением по всему датасету."
   ]
  },
  {
   "cell_type": "markdown",
   "metadata": {},
   "source": [
    " "
   ]
  },
  {
   "cell_type": "markdown",
   "metadata": {},
   "source": [
    "#### Вывод по предварительному исследованию"
   ]
  },
  {
   "cell_type": "markdown",
   "metadata": {},
   "source": [
    "**Общие характеристики среза** \n",
    "\n",
    "В срез датасета попали 464 (5.52 % от всего датасета) заведения общепита из категорий \"кафе\", \"кофейни\" и \"пиццерия\".\n",
    "\n",
    "**География, административные округа (районы)**    \n",
    "1. В срезе датасета представлены все  9 административных округов города Москвы. \n",
    "2. Лидирующие по количеству заведений - ЦАО (18.8%)  и САО (15.1%). Больше 10% у ЮАО, ЮЗАО.  У остальных округов меньше 10% заведений на округ.\n",
    "2. Визуально заведения представлены примерно равномерно во всех округах города. \n",
    "3. Количественно тоже заметно, что нет преобладания ни моно-улиц, ни насыщенных общепитом и транспортом  городских магистральных проспектов.\n",
    "\n",
    "**Категория**\n",
    "Немногим больше половины всех заведений - кафе, немногим меньше четверти приходится на кофейни и пиццерии.\n",
    "\n",
    "**Сетевой признак**\n",
    "1.  По сетевому признаку заведения разделились в соотношении 60/40, сетевых меньше. \n",
    "2.  В топ-15 сетей из среза попали всего 3 сети кофеен, 5 сетей кафе и 7  сетей пиццерий. По размеру зала пиццерия подходит больше под условия инвест-проекта.\n",
    "3. Сетевые и не сетевые заведения в целом распределены равномерно по городу, визуально на диаграмме заметно, что несетевых больше\n",
    "\n",
    "**Рейтинги пользователей** \n",
    "1. Основная масса заведений из среза датасета имеет пользовательские рейтинги от 3.7 до 4.8. Медианное значение - 4.3\n",
    "2. Есть выбросы вверх- 4.9-5.0,  есть выбросы вниз- 3.6-2.4 и  экстремальные выбросы с рейтингом 1-1.3\n",
    "3.  Медианные рейтинги по округам (районам) отличаются незначительно.\n",
    " -  Максимальный  медианный рейтинг у ЦАО - 4.4\n",
    " -  Минимальный рейтинг -4.2 у ЮАО.\n",
    " -  Остальные округа с рейтингом 4.3\n",
    "\n",
    "\n",
    "**Средние чеки**  \n",
    "1. Для основной массы заведений из среза датасета ( с имеющимися данными) средний чек находится в диапазоне 125-1500 с медианой 500 р.\n",
    "2. Есть выбросы вверх до 3750 р.\n",
    "3. Данные представлены для   177  заведений ( 38.15% от всего среза датасета)\n",
    "\n",
    "\n",
    "\n",
    "**Средняя цена чашки кофе**\n",
    "1. Данных немного, всего 7.8 % от среза датасета, поэтому ориентироваться на них следует с осторожностью.\n",
    "2. Стоимость средней чашки кофе в заведениях датасета находится в диапазоне 60-328 рублей с медианой 175. \n",
    "3. В сети \"Шоколаднцица\" (наиболее распространенная по городу сеть)  медианная -  256 р. за чашку кофе.\n",
    "4. Медианная цена чашки кофе для всего датасета:  169.0\n",
    "5. При этом медианный размер залов сети \"Шоколадница\" - 80 мест, медианный размер залов точек общепита с ценой не выше медианы по всему датасету - тоже 80 мест,  а инфест-проектный размер зала составляет 20-40 мест.\n",
    "\n",
    "\n",
    "**Режим работы**\n",
    "\n",
    "1. Данные о режимах работы имеются для 93% заведений в срезе датасета.\n",
    "2. В целом все заведения из ТОП-20 режимов работы открыты ежедневно, 16 из них работают ежедневно с однотипным по будням и выходным режимом и 4 типа имеют разный режим работы в будни и в выходные.\n",
    "3. Почти 9 процентов заведений от всего среза работают ежедневно и круглосуточно.\n",
    "4. Основная часть заведений начинает работу с 8-10 утра и заканчивает в 22-23 часа вечера.\n",
    "\n",
    "**Анализ данных по точкам общепита в ЦАО**\n",
    "1. Наблюдается много точек без данных по среднему чеку или стоимости чашки кофе.\n",
    "2. Часто встречаются точки, находящиеся вблизи или даже в одном здании, с сильно отличающимися средними ценами.\n",
    "3. В самом центре города, в пешей доступности от Кремля есть кафе и кофейни как с высокими, так и с низкими ценами.\n",
    "4. В Москве нет прямого аналога Центрального парка Нью-Йорка (парк \"Зарядье\" не является прямой аналогией, хотя и находится в самом центре).  Но в городе много различных парков и скверов, где поблизости можно разместить небольшое кафе в пешей доступности и с невысокими ценами. \n",
    "5. Соотношение по сетевому признаку примерно такое же как по всему срезу датасета - 65/35, сетевых меньше. В основном сети представлены по одному заведению, исключение- Кулинарная лавка братьев Караваевых. Среди сетевых заведений преобладают кафе и кофейни,  пиццерий всего одна.\n",
    "6.  Основная масса заведений по ЦАО из среза датасета имеет пользовательские рейтинги от 4.1 до 4.7. Медианное значение - 4.4 - немного выше, чем в целом по всем округам из среза датасета. Есть выбросы вверх- 4.8-5.0,  есть выбросы вниз- 3.5-4.0.\n",
    "7. Для основной массы заведений из среза датасета ( с имеющимися данными) средний чек находится в диапазоне 275-910 с медианой 562 р. Данные представлены для   42  заведений ( 48.28% от всего среза датасета)\n",
    "8. По средней цене чашки кофе данных немного, всего 15 записей - 17 % от среза датасета, поэтому ориентироваться на них следует с осторожностью.  Стоимость средней чашки кофе в заведениях датасета находится в диапазоне 60-328 рублей с медианой 210. Медиана по ЦАО выше медианы по всем округам среза, что ожидаемо и, в целом, соотносится с распределением по всему датасету.\n"
   ]
  },
  {
   "cell_type": "markdown",
   "metadata": {},
   "source": [
    "  "
   ]
  },
  {
   "cell_type": "markdown",
   "metadata": {},
   "source": [
    "### Резюме по детализированному исследованию   "
   ]
  },
  {
   "cell_type": "markdown",
   "metadata": {},
   "source": [
    "1. \"Когда не знаешь куда идешь, то очень удивишься, придя не туда\".   Необходимо понимать детальное видение инвесторов о цели инвест-проекта: создание полной реплики оригинальной кофейни или создание кафе (кофейни) по мотивам и в стиле \"Central Perk\"? Какие характерные черты оригинальной кофейни важны, а какие нет? Что именно вызывает ностальгию у инвесторов и что именно инвесторы намерены воссоздать  Это принципиально влияет на отбор критериев по выбору места, формата, ценовой политики и политики лояльности для нового заведения.\n",
    "2. Мечта-мечтой, но есть реальность. Эпоха прошла, сменились поколения и текущий момент сильно отличается от времени сериала. Изменились форматы общественного питания, появились новые, ушли некоторые прежние. Насколько готовы инвесторы адаптировать оригинальный формат к текущим реалиям? Вполне возможно, что полная реплика не станет бизнес-проектом, приносящим доход, а останется хобби, которое приносит удовольствие, но требует расходов.\n",
    "3. С учетом размера кафе и некоторых прочих параметров в срез датасета попали заведения с размером зала в 20-40 мест.  Таким заведениям сложно конкурировать по цене с  распространенными кофейнями, в которых медианный размер зала - 80 мест.  \n",
    "4. Так же возникает сложность с размещением у парка в центре города - в Москве нет прямой аналогии Центрального парка Нью-Йорка (парк \"Зарядье\" не совсем подходит), поэтому и здесь необходимо уточнять пожелания инвесторов и намерение в стремлении точно реплицировать кафе мечты.\n",
    "5. Учитывая проведенное исследование и обозначенные выше вопросы предлагаю следующие рекомендации:\n",
    " - уточнить инвест-стратегию открытия кафе-мечты из сериала\n",
    " - привлечь экспертов из сферы общепита для формулирования требований и ограничений к заведению\n",
    " - рассмотреть рсположение кафе рядом с метро (удобная локация) - не более 1.5 км (15 мин пешком), расширить географию, включать не только центральный район города, возможно- спальные районы города - кафе должно быть локационно доступным,  попробовать учесть расположение парков (или иных рекреаций) поблизости\n",
    "  - если инвест-стратегия не ограничится открытием одного кафе с полной репликой оригинального, то предлагаю рассмотреть открытие сети кафе/кофеен  \"Больше, чем \"Друзья\" с заведениями в разных частях города в пешей доступности\n",
    " - в качестве точки отсчета рассматривать не только кофейни, но и кафе с  пиццериями, так как они тоже подходят под определение доступных точек общепита с небольшими залами в диапазоне 20-35 посадочных мест\n",
    " - интерьер удобный для длительного времяпрепровождения,  не повторяет оригинальное кафе, но может использовать отдельные предметы интерьера (оригинальные или реплики) как отсылки к оригиналу \n",
    " - кафе должно быть доступно для молодежи (не золотой), средний чек не более 500р, средняя цена кружки кофе не более 200 р. \n",
    " - продумать гибкую политику лояльности, разнообразить кафе привилегиями для постоянных клиентов\n",
    " - добавить в предложение доставку готовых блюд, что повысит лояльность клиентов, узнаваемость бренда и также обеспечит заказами кухню  (как и расширение ассортимента до пиццерии)\n",
    " - проработать бизнес-модель сочетания кафе и анти-кафе, где посетители платят за время посещения, а не за еду.\n",
    " - время работы кафе - ежедневно, с 9 до 23 часов\n",
    " "
   ]
  },
  {
   "cell_type": "markdown",
   "metadata": {},
   "source": [
    "  "
   ]
  },
  {
   "cell_type": "markdown",
   "metadata": {},
   "source": [
    "## Подготовка презентации"
   ]
  },
  {
   "cell_type": "markdown",
   "metadata": {},
   "source": [
    "Подготовьте презентацию исследования для инвесторов. Отвечая на вопросы о московском общепите, вы уже построили много диаграмм, и помещать каждую из них в презентацию не нужно. Выберите важные тезисы и наблюдения, которые могут заинтересовать заказчиков. \n",
    "\n",
    "Для создания презентации используйте любой удобный инструмент, но отправить презентацию нужно обязательно в формате PDF. Приложите ссылку на презентацию в markdown-ячейке в формате:\n"
   ]
  },
  {
   "cell_type": "markdown",
   "metadata": {},
   "source": [
    "Презентация в PDF: <https://drive.google.com/file/d/1SoenaV-r6FETnwleL96xyxaVkn2_YCYG/view?usp=sharing>\n",
    "\n",
    "Презентация Google Doc: <https://docs.google.com/presentation/d/1BLD_Aqiemc80V4ggwjSq0DI5gFB6zJFDFLjYSoKlCUM/edit?usp=sharing>"
   ]
  },
  {
   "cell_type": "markdown",
   "metadata": {},
   "source": [
    " "
   ]
  }
 ],
 "metadata": {
  "ExecuteTimeLog": [
   {
    "duration": 1253,
    "start_time": "2022-11-17T12:17:27.123Z"
   },
   {
    "duration": 106,
    "start_time": "2022-11-17T12:18:09.879Z"
   },
   {
    "duration": 6,
    "start_time": "2022-11-17T12:18:50.520Z"
   },
   {
    "duration": 107,
    "start_time": "2022-11-17T12:19:34.700Z"
   },
   {
    "duration": 809,
    "start_time": "2022-11-17T12:20:30.232Z"
   },
   {
    "duration": 6,
    "start_time": "2022-11-17T12:22:14.386Z"
   },
   {
    "duration": 782,
    "start_time": "2022-11-17T12:22:16.533Z"
   },
   {
    "duration": 5,
    "start_time": "2022-11-17T12:24:02.017Z"
   },
   {
    "duration": 676,
    "start_time": "2022-11-17T12:24:05.094Z"
   },
   {
    "duration": 6,
    "start_time": "2022-11-17T12:24:34.444Z"
   },
   {
    "duration": 852,
    "start_time": "2022-11-17T12:24:36.850Z"
   },
   {
    "duration": 6,
    "start_time": "2022-11-17T12:25:14.641Z"
   },
   {
    "duration": 848,
    "start_time": "2022-11-17T12:25:16.444Z"
   },
   {
    "duration": 5,
    "start_time": "2022-11-17T12:39:26.322Z"
   },
   {
    "duration": 765,
    "start_time": "2022-11-17T12:39:28.418Z"
   },
   {
    "duration": 5,
    "start_time": "2022-11-17T12:40:45.040Z"
   },
   {
    "duration": 784,
    "start_time": "2022-11-17T12:40:45.842Z"
   },
   {
    "duration": 5,
    "start_time": "2022-11-17T12:40:59.042Z"
   },
   {
    "duration": 863,
    "start_time": "2022-11-17T12:41:02.734Z"
   },
   {
    "duration": 6,
    "start_time": "2022-11-17T12:42:05.284Z"
   },
   {
    "duration": 1100,
    "start_time": "2022-11-17T12:42:09.231Z"
   },
   {
    "duration": 6,
    "start_time": "2022-11-17T12:42:32.525Z"
   },
   {
    "duration": 6,
    "start_time": "2022-11-17T12:42:34.403Z"
   },
   {
    "duration": 782,
    "start_time": "2022-11-17T12:42:36.602Z"
   },
   {
    "duration": 191,
    "start_time": "2022-11-17T13:02:43.524Z"
   },
   {
    "duration": 10,
    "start_time": "2022-11-17T14:24:18.994Z"
   },
   {
    "duration": 90,
    "start_time": "2022-11-17T14:24:54.016Z"
   },
   {
    "duration": 17,
    "start_time": "2022-11-17T14:26:03.193Z"
   },
   {
    "duration": 70,
    "start_time": "2022-11-17T14:26:17.945Z"
   },
   {
    "duration": 15,
    "start_time": "2022-11-17T14:26:23.830Z"
   },
   {
    "duration": 18,
    "start_time": "2022-11-17T14:26:35.862Z"
   },
   {
    "duration": 113,
    "start_time": "2022-11-17T14:26:40.360Z"
   },
   {
    "duration": 68,
    "start_time": "2022-11-17T14:26:49.482Z"
   },
   {
    "duration": 13,
    "start_time": "2022-11-17T14:26:59.504Z"
   },
   {
    "duration": 6,
    "start_time": "2022-11-17T18:43:06.876Z"
   },
   {
    "duration": 800,
    "start_time": "2022-11-17T18:43:10.082Z"
   },
   {
    "duration": 57,
    "start_time": "2022-11-18T03:39:47.928Z"
   },
   {
    "duration": 1401,
    "start_time": "2022-11-18T03:39:59.128Z"
   },
   {
    "duration": 251,
    "start_time": "2022-11-18T03:40:00.531Z"
   },
   {
    "duration": 1286,
    "start_time": "2022-11-18T03:40:13.724Z"
   },
   {
    "duration": 64,
    "start_time": "2022-11-18T03:40:16.232Z"
   },
   {
    "duration": 6,
    "start_time": "2022-11-18T03:40:17.644Z"
   },
   {
    "duration": 900,
    "start_time": "2022-11-18T03:40:19.765Z"
   },
   {
    "duration": 6,
    "start_time": "2022-11-18T03:40:26.484Z"
   },
   {
    "duration": 6,
    "start_time": "2022-11-18T03:40:44.796Z"
   },
   {
    "duration": 5,
    "start_time": "2022-11-18T03:40:48.124Z"
   },
   {
    "duration": 6,
    "start_time": "2022-11-18T04:09:16.554Z"
   },
   {
    "duration": 1231,
    "start_time": "2022-11-18T04:09:19.445Z"
   },
   {
    "duration": 6,
    "start_time": "2022-11-18T04:11:04.184Z"
   },
   {
    "duration": 989,
    "start_time": "2022-11-18T04:11:05.839Z"
   },
   {
    "duration": 26,
    "start_time": "2022-11-18T04:19:01.674Z"
   },
   {
    "duration": 25,
    "start_time": "2022-11-18T04:19:09.430Z"
   },
   {
    "duration": 6,
    "start_time": "2022-11-18T04:19:22.735Z"
   },
   {
    "duration": 1063,
    "start_time": "2022-11-18T04:19:27.615Z"
   },
   {
    "duration": 5,
    "start_time": "2022-11-18T04:19:51.864Z"
   },
   {
    "duration": 47,
    "start_time": "2022-11-18T04:20:26.024Z"
   },
   {
    "duration": 21,
    "start_time": "2022-11-18T04:21:14.433Z"
   },
   {
    "duration": 41,
    "start_time": "2022-11-18T04:24:06.934Z"
   },
   {
    "duration": 14,
    "start_time": "2022-11-18T04:24:55.155Z"
   },
   {
    "duration": 16,
    "start_time": "2022-11-18T04:25:18.515Z"
   },
   {
    "duration": 53,
    "start_time": "2022-11-18T04:27:24.935Z"
   },
   {
    "duration": 116,
    "start_time": "2022-11-18T04:27:51.976Z"
   },
   {
    "duration": 2537,
    "start_time": "2022-11-18T04:29:11.793Z"
   },
   {
    "duration": 3,
    "start_time": "2022-11-18T04:34:42.093Z"
   },
   {
    "duration": 4,
    "start_time": "2022-11-18T04:34:44.354Z"
   },
   {
    "duration": 939,
    "start_time": "2022-11-18T04:34:49.206Z"
   },
   {
    "duration": 3,
    "start_time": "2022-11-18T04:35:23.506Z"
   },
   {
    "duration": 998,
    "start_time": "2022-11-18T04:35:27.234Z"
   },
   {
    "duration": 4,
    "start_time": "2022-11-18T04:35:48.553Z"
   },
   {
    "duration": 1030,
    "start_time": "2022-11-18T04:35:51.849Z"
   },
   {
    "duration": 26,
    "start_time": "2022-11-18T04:40:46.152Z"
   },
   {
    "duration": 6,
    "start_time": "2022-11-18T04:41:34.575Z"
   },
   {
    "duration": 915,
    "start_time": "2022-11-18T04:41:36.514Z"
   },
   {
    "duration": 7,
    "start_time": "2022-11-18T04:43:22.055Z"
   },
   {
    "duration": 1022,
    "start_time": "2022-11-18T04:43:24.154Z"
   },
   {
    "duration": 23,
    "start_time": "2022-11-18T04:43:48.834Z"
   },
   {
    "duration": 2394,
    "start_time": "2022-11-18T04:44:10.793Z"
   },
   {
    "duration": 2684,
    "start_time": "2022-11-18T04:44:20.874Z"
   },
   {
    "duration": 11,
    "start_time": "2022-11-18T04:45:59.433Z"
   },
   {
    "duration": 3,
    "start_time": "2022-11-18T04:49:01.749Z"
   },
   {
    "duration": 3,
    "start_time": "2022-11-18T04:49:07.093Z"
   },
   {
    "duration": 2517,
    "start_time": "2022-11-18T04:49:51.151Z"
   },
   {
    "duration": 2654,
    "start_time": "2022-11-18T04:52:54.254Z"
   },
   {
    "duration": 2410,
    "start_time": "2022-11-18T04:53:10.776Z"
   },
   {
    "duration": 2362,
    "start_time": "2022-11-18T04:54:11.314Z"
   },
   {
    "duration": 2478,
    "start_time": "2022-11-18T04:55:19.393Z"
   },
   {
    "duration": 17,
    "start_time": "2022-11-18T04:57:10.174Z"
   },
   {
    "duration": 2617,
    "start_time": "2022-11-18T04:57:16.813Z"
   },
   {
    "duration": 2468,
    "start_time": "2022-11-18T04:57:59.673Z"
   },
   {
    "duration": 3482,
    "start_time": "2022-11-18T06:04:45.384Z"
   },
   {
    "duration": 90,
    "start_time": "2022-11-18T06:07:29.480Z"
   },
   {
    "duration": 73,
    "start_time": "2022-11-18T06:09:31.652Z"
   },
   {
    "duration": 1058,
    "start_time": "2022-11-18T06:10:06.467Z"
   },
   {
    "duration": 10,
    "start_time": "2022-11-18T06:11:55.832Z"
   },
   {
    "duration": 6,
    "start_time": "2022-11-18T06:12:14.600Z"
   },
   {
    "duration": 3455,
    "start_time": "2022-11-18T06:12:16.082Z"
   },
   {
    "duration": 3144,
    "start_time": "2022-11-18T06:12:27.592Z"
   },
   {
    "duration": 13,
    "start_time": "2022-11-18T06:14:29.612Z"
   },
   {
    "duration": 15,
    "start_time": "2022-11-18T06:15:04.033Z"
   },
   {
    "duration": 16,
    "start_time": "2022-11-18T06:17:53.912Z"
   },
   {
    "duration": 12,
    "start_time": "2022-11-18T06:18:03.452Z"
   },
   {
    "duration": 13,
    "start_time": "2022-11-18T06:19:22.772Z"
   },
   {
    "duration": 7,
    "start_time": "2022-11-18T06:19:30.152Z"
   },
   {
    "duration": 5,
    "start_time": "2022-11-18T06:19:36.873Z"
   },
   {
    "duration": 3276,
    "start_time": "2022-11-18T06:19:38.982Z"
   },
   {
    "duration": 13,
    "start_time": "2022-11-18T06:20:58.919Z"
   },
   {
    "duration": 6,
    "start_time": "2022-11-18T06:23:18.786Z"
   },
   {
    "duration": 3547,
    "start_time": "2022-11-18T06:23:23.232Z"
   },
   {
    "duration": 24,
    "start_time": "2022-11-18T06:23:36.952Z"
   },
   {
    "duration": 6,
    "start_time": "2022-11-18T06:24:10.196Z"
   },
   {
    "duration": 3157,
    "start_time": "2022-11-18T06:24:12.478Z"
   },
   {
    "duration": 1039,
    "start_time": "2022-11-18T06:25:02.912Z"
   },
   {
    "duration": 9,
    "start_time": "2022-11-18T06:28:13.992Z"
   },
   {
    "duration": 3350,
    "start_time": "2022-11-18T06:28:17.506Z"
   },
   {
    "duration": 880,
    "start_time": "2022-11-18T06:28:20.859Z"
   },
   {
    "duration": 9,
    "start_time": "2022-11-18T06:29:36.853Z"
   },
   {
    "duration": 3198,
    "start_time": "2022-11-18T06:29:38.404Z"
   },
   {
    "duration": 675,
    "start_time": "2022-11-18T06:30:40.932Z"
   },
   {
    "duration": 825,
    "start_time": "2022-11-18T06:31:09.356Z"
   },
   {
    "duration": 8,
    "start_time": "2022-11-18T06:40:31.792Z"
   },
   {
    "duration": 71,
    "start_time": "2022-11-18T06:40:32.925Z"
   },
   {
    "duration": 13,
    "start_time": "2022-11-18T06:41:01.512Z"
   },
   {
    "duration": 3485,
    "start_time": "2022-11-18T06:41:03.072Z"
   },
   {
    "duration": 977,
    "start_time": "2022-11-18T06:41:15.544Z"
   },
   {
    "duration": 17,
    "start_time": "2022-11-18T06:48:24.272Z"
   },
   {
    "duration": 16,
    "start_time": "2022-11-18T06:48:42.010Z"
   },
   {
    "duration": 9,
    "start_time": "2022-11-18T06:48:56.951Z"
   },
   {
    "duration": 27,
    "start_time": "2022-11-18T06:49:06.893Z"
   },
   {
    "duration": 18,
    "start_time": "2022-11-18T06:49:19.525Z"
   },
   {
    "duration": 27,
    "start_time": "2022-11-18T06:49:38.201Z"
   },
   {
    "duration": 18,
    "start_time": "2022-11-18T06:50:04.192Z"
   },
   {
    "duration": 24,
    "start_time": "2022-11-18T06:50:13.035Z"
   },
   {
    "duration": 13,
    "start_time": "2022-11-18T06:51:44.626Z"
   },
   {
    "duration": 9,
    "start_time": "2022-11-18T06:51:46.692Z"
   },
   {
    "duration": 12,
    "start_time": "2022-11-18T06:53:09.992Z"
   },
   {
    "duration": 46,
    "start_time": "2022-11-18T06:55:56.333Z"
   },
   {
    "duration": 12,
    "start_time": "2022-11-18T06:56:40.112Z"
   },
   {
    "duration": 12,
    "start_time": "2022-11-18T06:56:49.092Z"
   },
   {
    "duration": 10,
    "start_time": "2022-11-18T07:17:52.246Z"
   },
   {
    "duration": 67,
    "start_time": "2022-11-18T07:20:47.589Z"
   },
   {
    "duration": 13,
    "start_time": "2022-11-18T07:22:27.711Z"
   },
   {
    "duration": 18,
    "start_time": "2022-11-18T07:39:49.929Z"
   },
   {
    "duration": 22,
    "start_time": "2022-11-18T07:39:54.796Z"
   },
   {
    "duration": 22,
    "start_time": "2022-11-18T07:39:58.111Z"
   },
   {
    "duration": 23,
    "start_time": "2022-11-18T07:41:59.849Z"
   },
   {
    "duration": 164,
    "start_time": "2022-11-18T07:43:30.432Z"
   },
   {
    "duration": 1299,
    "start_time": "2022-11-18T07:46:02.097Z"
   },
   {
    "duration": 4,
    "start_time": "2022-11-18T07:46:03.398Z"
   },
   {
    "duration": 83,
    "start_time": "2022-11-18T07:46:03.403Z"
   },
   {
    "duration": 2,
    "start_time": "2022-11-18T07:46:03.488Z"
   },
   {
    "duration": 12,
    "start_time": "2022-11-18T07:46:03.493Z"
   },
   {
    "duration": 1056,
    "start_time": "2022-11-18T07:46:03.506Z"
   },
   {
    "duration": 7,
    "start_time": "2022-11-18T07:46:04.564Z"
   },
   {
    "duration": 56,
    "start_time": "2022-11-18T07:46:04.573Z"
   },
   {
    "duration": 21,
    "start_time": "2022-11-18T07:46:04.631Z"
   },
   {
    "duration": 3670,
    "start_time": "2022-11-18T07:46:04.653Z"
   },
   {
    "duration": 12,
    "start_time": "2022-11-18T07:46:08.326Z"
   },
   {
    "duration": 40,
    "start_time": "2022-11-18T07:46:08.340Z"
   },
   {
    "duration": 41,
    "start_time": "2022-11-18T07:46:08.382Z"
   },
   {
    "duration": 35,
    "start_time": "2022-11-18T07:46:08.426Z"
   },
   {
    "duration": 1353,
    "start_time": "2022-11-18T07:50:39.893Z"
   },
   {
    "duration": 3,
    "start_time": "2022-11-18T07:50:41.249Z"
   },
   {
    "duration": 88,
    "start_time": "2022-11-18T07:50:41.255Z"
   },
   {
    "duration": 3,
    "start_time": "2022-11-18T07:50:41.346Z"
   },
   {
    "duration": 7,
    "start_time": "2022-11-18T07:50:41.351Z"
   },
   {
    "duration": 1045,
    "start_time": "2022-11-18T07:50:41.360Z"
   },
   {
    "duration": 8,
    "start_time": "2022-11-18T07:50:42.418Z"
   },
   {
    "duration": 36,
    "start_time": "2022-11-18T07:50:42.428Z"
   },
   {
    "duration": 22,
    "start_time": "2022-11-18T07:50:42.466Z"
   },
   {
    "duration": 3384,
    "start_time": "2022-11-18T07:50:42.491Z"
   },
   {
    "duration": 10,
    "start_time": "2022-11-18T07:50:45.877Z"
   },
   {
    "duration": 59,
    "start_time": "2022-11-18T07:50:45.889Z"
   },
   {
    "duration": 53,
    "start_time": "2022-11-18T07:50:45.949Z"
   },
   {
    "duration": 88,
    "start_time": "2022-11-18T07:50:46.004Z"
   },
   {
    "duration": 233,
    "start_time": "2022-11-18T07:51:38.694Z"
   },
   {
    "duration": 311,
    "start_time": "2022-11-18T07:52:02.653Z"
   },
   {
    "duration": 17192,
    "start_time": "2022-11-18T07:53:05.040Z"
   },
   {
    "duration": 65,
    "start_time": "2022-11-18T08:02:24.473Z"
   },
   {
    "duration": 14,
    "start_time": "2022-11-18T08:02:28.312Z"
   },
   {
    "duration": 340,
    "start_time": "2022-11-18T08:02:39.135Z"
   },
   {
    "duration": 21,
    "start_time": "2022-11-18T08:02:52.128Z"
   },
   {
    "duration": 169,
    "start_time": "2022-11-18T08:03:18.936Z"
   },
   {
    "duration": 151,
    "start_time": "2022-11-18T08:03:29.663Z"
   },
   {
    "duration": 138,
    "start_time": "2022-11-18T08:03:33.295Z"
   },
   {
    "duration": 429,
    "start_time": "2022-11-18T08:03:42.840Z"
   },
   {
    "duration": 20,
    "start_time": "2022-11-18T08:04:49.890Z"
   },
   {
    "duration": 469,
    "start_time": "2022-11-18T08:07:00.993Z"
   },
   {
    "duration": 426,
    "start_time": "2022-11-18T08:07:12.372Z"
   },
   {
    "duration": 410,
    "start_time": "2022-11-18T08:07:25.397Z"
   },
   {
    "duration": 422,
    "start_time": "2022-11-18T08:07:33.292Z"
   },
   {
    "duration": 546,
    "start_time": "2022-11-18T08:10:37.233Z"
   },
   {
    "duration": 499,
    "start_time": "2022-11-18T08:10:56.759Z"
   },
   {
    "duration": 9,
    "start_time": "2022-11-18T08:11:44.522Z"
   },
   {
    "duration": 775,
    "start_time": "2022-11-18T08:13:55.292Z"
   },
   {
    "duration": 3148,
    "start_time": "2022-11-18T08:19:49.331Z"
   },
   {
    "duration": 1556,
    "start_time": "2022-11-18T08:20:38.512Z"
   },
   {
    "duration": 41,
    "start_time": "2022-11-18T08:21:19.152Z"
   },
   {
    "duration": 4,
    "start_time": "2022-11-18T08:21:26.494Z"
   },
   {
    "duration": 13,
    "start_time": "2022-11-18T08:21:26.501Z"
   },
   {
    "duration": 99,
    "start_time": "2022-11-18T08:21:26.516Z"
   },
   {
    "duration": 4,
    "start_time": "2022-11-18T08:21:26.616Z"
   },
   {
    "duration": 24,
    "start_time": "2022-11-18T08:21:26.623Z"
   },
   {
    "duration": 1029,
    "start_time": "2022-11-18T08:21:26.649Z"
   },
   {
    "duration": 6,
    "start_time": "2022-11-18T08:21:27.680Z"
   },
   {
    "duration": 58,
    "start_time": "2022-11-18T08:21:27.688Z"
   },
   {
    "duration": 28,
    "start_time": "2022-11-18T08:21:27.748Z"
   },
   {
    "duration": 3726,
    "start_time": "2022-11-18T08:21:27.778Z"
   },
   {
    "duration": 24,
    "start_time": "2022-11-18T08:21:31.506Z"
   },
   {
    "duration": 11,
    "start_time": "2022-11-18T08:21:31.535Z"
   },
   {
    "duration": 40,
    "start_time": "2022-11-18T08:21:49.585Z"
   },
   {
    "duration": 3131,
    "start_time": "2022-11-18T08:21:55.173Z"
   },
   {
    "duration": 49,
    "start_time": "2022-11-18T08:26:49.407Z"
   },
   {
    "duration": 6,
    "start_time": "2022-11-18T08:31:37.238Z"
   },
   {
    "duration": 7,
    "start_time": "2022-11-18T08:32:32.850Z"
   },
   {
    "duration": 10,
    "start_time": "2022-11-18T08:33:07.178Z"
   },
   {
    "duration": 8,
    "start_time": "2022-11-18T08:33:12.793Z"
   },
   {
    "duration": 7,
    "start_time": "2022-11-18T08:33:19.584Z"
   },
   {
    "duration": 12,
    "start_time": "2022-11-18T08:33:58.372Z"
   },
   {
    "duration": 7,
    "start_time": "2022-11-18T08:34:06.534Z"
   },
   {
    "duration": 6,
    "start_time": "2022-11-18T08:34:17.533Z"
   },
   {
    "duration": 13,
    "start_time": "2022-11-18T08:35:07.991Z"
   },
   {
    "duration": 6,
    "start_time": "2022-11-18T08:36:23.064Z"
   },
   {
    "duration": 5,
    "start_time": "2022-11-18T08:36:40.052Z"
   },
   {
    "duration": 5,
    "start_time": "2022-11-18T08:38:08.192Z"
   },
   {
    "duration": 5,
    "start_time": "2022-11-18T08:38:38.237Z"
   },
   {
    "duration": 16,
    "start_time": "2022-11-18T08:39:56.172Z"
   },
   {
    "duration": 13,
    "start_time": "2022-11-18T08:40:53.756Z"
   },
   {
    "duration": 11,
    "start_time": "2022-11-18T08:40:57.021Z"
   },
   {
    "duration": 6,
    "start_time": "2022-11-18T08:41:58.672Z"
   },
   {
    "duration": 7,
    "start_time": "2022-11-18T08:42:07.077Z"
   },
   {
    "duration": 6,
    "start_time": "2022-11-18T08:42:16.493Z"
   },
   {
    "duration": 8,
    "start_time": "2022-11-18T08:42:21.172Z"
   },
   {
    "duration": 8,
    "start_time": "2022-11-18T08:42:40.574Z"
   },
   {
    "duration": 6,
    "start_time": "2022-11-18T08:43:01.131Z"
   },
   {
    "duration": 15,
    "start_time": "2022-11-18T08:44:18.551Z"
   },
   {
    "duration": 10,
    "start_time": "2022-11-18T08:44:41.463Z"
   },
   {
    "duration": 10,
    "start_time": "2022-11-18T08:44:50.568Z"
   },
   {
    "duration": 13,
    "start_time": "2022-11-18T08:49:58.962Z"
   },
   {
    "duration": 11,
    "start_time": "2022-11-18T09:03:57.593Z"
   },
   {
    "duration": 11,
    "start_time": "2022-11-18T09:04:23.333Z"
   },
   {
    "duration": 13,
    "start_time": "2022-11-18T09:05:19.233Z"
   },
   {
    "duration": 740,
    "start_time": "2022-11-18T09:11:51.816Z"
   },
   {
    "duration": 8,
    "start_time": "2022-11-18T09:12:05.612Z"
   },
   {
    "duration": 11,
    "start_time": "2022-11-18T09:16:43.606Z"
   },
   {
    "duration": 10,
    "start_time": "2022-11-18T09:17:48.314Z"
   },
   {
    "duration": 8,
    "start_time": "2022-11-18T09:18:03.335Z"
   },
   {
    "duration": 8,
    "start_time": "2022-11-18T09:18:11.734Z"
   },
   {
    "duration": 8,
    "start_time": "2022-11-18T09:21:32.393Z"
   },
   {
    "duration": 10,
    "start_time": "2022-11-18T09:21:38.677Z"
   },
   {
    "duration": 24,
    "start_time": "2022-11-18T09:29:53.302Z"
   },
   {
    "duration": 14,
    "start_time": "2022-11-18T09:30:18.895Z"
   },
   {
    "duration": 21,
    "start_time": "2022-11-18T09:31:01.771Z"
   },
   {
    "duration": 9,
    "start_time": "2022-11-18T09:31:17.572Z"
   },
   {
    "duration": 10,
    "start_time": "2022-11-18T09:31:33.131Z"
   },
   {
    "duration": 12,
    "start_time": "2022-11-18T09:32:02.171Z"
   },
   {
    "duration": 10,
    "start_time": "2022-11-18T09:32:24.033Z"
   },
   {
    "duration": 10,
    "start_time": "2022-11-18T09:32:32.224Z"
   },
   {
    "duration": 13,
    "start_time": "2022-11-18T09:33:27.152Z"
   },
   {
    "duration": 18,
    "start_time": "2022-11-18T09:33:42.531Z"
   },
   {
    "duration": 28,
    "start_time": "2022-11-18T09:34:01.109Z"
   },
   {
    "duration": 12,
    "start_time": "2022-11-18T09:36:18.015Z"
   },
   {
    "duration": 22,
    "start_time": "2022-11-18T09:36:24.375Z"
   },
   {
    "duration": 64,
    "start_time": "2022-11-18T09:36:42.673Z"
   },
   {
    "duration": 23,
    "start_time": "2022-11-18T09:37:18.694Z"
   },
   {
    "duration": 23,
    "start_time": "2022-11-18T09:37:33.128Z"
   },
   {
    "duration": 18,
    "start_time": "2022-11-18T09:38:26.909Z"
   },
   {
    "duration": 12,
    "start_time": "2022-11-18T09:38:34.493Z"
   },
   {
    "duration": 11,
    "start_time": "2022-11-18T09:38:47.162Z"
   },
   {
    "duration": 23,
    "start_time": "2022-11-18T09:38:55.093Z"
   },
   {
    "duration": 59,
    "start_time": "2022-11-18T09:39:15.192Z"
   },
   {
    "duration": 45,
    "start_time": "2022-11-18T09:39:39.973Z"
   },
   {
    "duration": 57,
    "start_time": "2022-11-18T09:40:11.132Z"
   },
   {
    "duration": 24,
    "start_time": "2022-11-18T09:40:28.454Z"
   },
   {
    "duration": 25,
    "start_time": "2022-11-18T09:40:37.931Z"
   },
   {
    "duration": 25,
    "start_time": "2022-11-18T09:41:04.377Z"
   },
   {
    "duration": 24,
    "start_time": "2022-11-18T09:41:14.493Z"
   },
   {
    "duration": 25,
    "start_time": "2022-11-18T09:41:19.033Z"
   },
   {
    "duration": 28,
    "start_time": "2022-11-18T09:41:40.926Z"
   },
   {
    "duration": 24,
    "start_time": "2022-11-18T09:42:06.831Z"
   },
   {
    "duration": 27,
    "start_time": "2022-11-18T09:42:15.855Z"
   },
   {
    "duration": 18,
    "start_time": "2022-11-18T09:44:04.572Z"
   },
   {
    "duration": 9,
    "start_time": "2022-11-18T09:44:12.019Z"
   },
   {
    "duration": 11,
    "start_time": "2022-11-18T09:44:30.639Z"
   },
   {
    "duration": 13,
    "start_time": "2022-11-18T09:44:52.154Z"
   },
   {
    "duration": 21,
    "start_time": "2022-11-18T09:45:53.953Z"
   },
   {
    "duration": 254,
    "start_time": "2022-11-18T09:46:50.056Z"
   },
   {
    "duration": 13,
    "start_time": "2022-11-18T09:47:33.813Z"
   },
   {
    "duration": 17,
    "start_time": "2022-11-18T09:47:59.800Z"
   },
   {
    "duration": 17,
    "start_time": "2022-11-18T09:48:05.155Z"
   },
   {
    "duration": 18,
    "start_time": "2022-11-18T09:48:14.072Z"
   },
   {
    "duration": 13,
    "start_time": "2022-11-18T09:48:18.012Z"
   },
   {
    "duration": 19,
    "start_time": "2022-11-18T09:48:38.372Z"
   },
   {
    "duration": 14,
    "start_time": "2022-11-18T09:49:04.196Z"
   },
   {
    "duration": 16,
    "start_time": "2022-11-18T09:49:12.479Z"
   },
   {
    "duration": 12,
    "start_time": "2022-11-18T09:49:29.060Z"
   },
   {
    "duration": 15,
    "start_time": "2022-11-18T09:49:37.414Z"
   },
   {
    "duration": 13,
    "start_time": "2022-11-18T09:49:41.274Z"
   },
   {
    "duration": 13,
    "start_time": "2022-11-18T09:49:55.455Z"
   },
   {
    "duration": 16,
    "start_time": "2022-11-18T09:50:07.876Z"
   },
   {
    "duration": 14,
    "start_time": "2022-11-18T09:50:23.873Z"
   },
   {
    "duration": 16,
    "start_time": "2022-11-18T09:50:34.472Z"
   },
   {
    "duration": 18,
    "start_time": "2022-11-18T09:50:48.773Z"
   },
   {
    "duration": 7,
    "start_time": "2022-11-18T09:51:20.474Z"
   },
   {
    "duration": 5,
    "start_time": "2022-11-18T09:51:23.835Z"
   },
   {
    "duration": 9,
    "start_time": "2022-11-18T09:53:16.496Z"
   },
   {
    "duration": 8,
    "start_time": "2022-11-18T09:53:19.466Z"
   },
   {
    "duration": 14,
    "start_time": "2022-11-18T09:53:55.218Z"
   },
   {
    "duration": 1137,
    "start_time": "2022-11-18T10:05:02.778Z"
   },
   {
    "duration": 15,
    "start_time": "2022-11-18T10:09:02.834Z"
   },
   {
    "duration": 12,
    "start_time": "2022-11-18T10:10:58.217Z"
   },
   {
    "duration": 10,
    "start_time": "2022-11-18T10:11:15.276Z"
   },
   {
    "duration": 10,
    "start_time": "2022-11-18T10:13:13.475Z"
   },
   {
    "duration": 11,
    "start_time": "2022-11-18T10:18:33.681Z"
   },
   {
    "duration": 8,
    "start_time": "2022-11-18T10:18:56.294Z"
   },
   {
    "duration": 12,
    "start_time": "2022-11-18T10:19:15.458Z"
   },
   {
    "duration": 11,
    "start_time": "2022-11-18T10:19:50.056Z"
   },
   {
    "duration": 8,
    "start_time": "2022-11-18T10:20:04.474Z"
   },
   {
    "duration": 882,
    "start_time": "2022-11-18T10:22:25.434Z"
   },
   {
    "duration": 749,
    "start_time": "2022-11-18T10:22:54.696Z"
   },
   {
    "duration": 728,
    "start_time": "2022-11-18T10:24:08.336Z"
   },
   {
    "duration": 3,
    "start_time": "2022-11-18T10:24:59.093Z"
   },
   {
    "duration": 19,
    "start_time": "2022-11-18T10:25:04.893Z"
   },
   {
    "duration": 6,
    "start_time": "2022-11-18T10:25:20.833Z"
   },
   {
    "duration": 6,
    "start_time": "2022-11-18T10:25:32.895Z"
   },
   {
    "duration": 4,
    "start_time": "2022-11-18T10:25:53.007Z"
   },
   {
    "duration": 3,
    "start_time": "2022-11-18T10:26:07.553Z"
   },
   {
    "duration": 759,
    "start_time": "2022-11-18T10:26:51.783Z"
   },
   {
    "duration": 5,
    "start_time": "2022-11-18T10:27:00.803Z"
   },
   {
    "duration": 5,
    "start_time": "2022-11-18T10:27:10.214Z"
   },
   {
    "duration": 4,
    "start_time": "2022-11-18T10:27:29.903Z"
   },
   {
    "duration": 4,
    "start_time": "2022-11-18T10:27:41.774Z"
   },
   {
    "duration": 4,
    "start_time": "2022-11-18T10:27:59.034Z"
   },
   {
    "duration": 4,
    "start_time": "2022-11-18T10:40:15.390Z"
   },
   {
    "duration": 5,
    "start_time": "2022-11-18T10:53:14.306Z"
   },
   {
    "duration": 761,
    "start_time": "2022-11-18T10:53:28.006Z"
   },
   {
    "duration": 808,
    "start_time": "2022-11-18T10:53:44.442Z"
   },
   {
    "duration": 7,
    "start_time": "2022-11-18T10:53:56.455Z"
   },
   {
    "duration": 5,
    "start_time": "2022-11-18T10:54:18.537Z"
   },
   {
    "duration": 7,
    "start_time": "2022-11-18T10:54:30.486Z"
   },
   {
    "duration": 20,
    "start_time": "2022-11-18T10:55:21.153Z"
   },
   {
    "duration": 5,
    "start_time": "2022-11-18T10:55:33.484Z"
   },
   {
    "duration": 5,
    "start_time": "2022-11-18T10:55:45.133Z"
   },
   {
    "duration": 6,
    "start_time": "2022-11-18T10:56:32.503Z"
   },
   {
    "duration": 6,
    "start_time": "2022-11-18T10:56:46.818Z"
   },
   {
    "duration": 5,
    "start_time": "2022-11-18T10:57:13.083Z"
   },
   {
    "duration": 6,
    "start_time": "2022-11-18T10:57:20.055Z"
   },
   {
    "duration": 6,
    "start_time": "2022-11-18T10:57:39.398Z"
   },
   {
    "duration": 6,
    "start_time": "2022-11-18T10:57:48.875Z"
   },
   {
    "duration": 6,
    "start_time": "2022-11-18T10:58:03.182Z"
   },
   {
    "duration": 6,
    "start_time": "2022-11-18T10:58:19.214Z"
   },
   {
    "duration": 6,
    "start_time": "2022-11-18T10:59:05.151Z"
   },
   {
    "duration": 8,
    "start_time": "2022-11-18T11:01:24.933Z"
   },
   {
    "duration": 8,
    "start_time": "2022-11-18T11:03:01.834Z"
   },
   {
    "duration": 17,
    "start_time": "2022-11-18T11:03:49.653Z"
   },
   {
    "duration": 18,
    "start_time": "2022-11-18T11:06:44.781Z"
   },
   {
    "duration": 176,
    "start_time": "2022-11-18T12:12:39.600Z"
   },
   {
    "duration": 3,
    "start_time": "2022-11-18T12:13:19.040Z"
   },
   {
    "duration": 11,
    "start_time": "2022-11-18T12:13:41.032Z"
   },
   {
    "duration": 12,
    "start_time": "2022-11-18T12:13:48.100Z"
   },
   {
    "duration": 10,
    "start_time": "2022-11-18T12:13:52.339Z"
   },
   {
    "duration": 10,
    "start_time": "2022-11-18T12:13:57.760Z"
   },
   {
    "duration": 83,
    "start_time": "2022-11-18T12:20:40.641Z"
   },
   {
    "duration": 24,
    "start_time": "2022-11-18T12:21:38.401Z"
   },
   {
    "duration": 7,
    "start_time": "2022-11-18T12:21:50.212Z"
   },
   {
    "duration": 15,
    "start_time": "2022-11-18T12:21:50.221Z"
   },
   {
    "duration": 76,
    "start_time": "2022-11-18T12:21:50.237Z"
   },
   {
    "duration": 3,
    "start_time": "2022-11-18T12:21:50.315Z"
   },
   {
    "duration": 8,
    "start_time": "2022-11-18T12:21:50.320Z"
   },
   {
    "duration": 955,
    "start_time": "2022-11-18T12:21:50.330Z"
   },
   {
    "duration": 26,
    "start_time": "2022-11-18T12:21:51.287Z"
   },
   {
    "duration": 15,
    "start_time": "2022-11-18T12:21:51.315Z"
   },
   {
    "duration": 12,
    "start_time": "2022-11-18T12:21:51.332Z"
   },
   {
    "duration": 8,
    "start_time": "2022-11-18T12:21:51.346Z"
   },
   {
    "duration": 55,
    "start_time": "2022-11-18T12:21:51.357Z"
   },
   {
    "duration": 19,
    "start_time": "2022-11-18T12:21:51.415Z"
   },
   {
    "duration": 27,
    "start_time": "2022-11-18T12:21:51.436Z"
   },
   {
    "duration": 1532,
    "start_time": "2022-11-18T12:22:14.548Z"
   },
   {
    "duration": 3,
    "start_time": "2022-11-18T12:22:16.082Z"
   },
   {
    "duration": 92,
    "start_time": "2022-11-18T12:22:16.086Z"
   },
   {
    "duration": 3,
    "start_time": "2022-11-18T12:22:16.180Z"
   },
   {
    "duration": 18,
    "start_time": "2022-11-18T12:22:16.185Z"
   },
   {
    "duration": 1107,
    "start_time": "2022-11-18T12:22:16.205Z"
   },
   {
    "duration": 5,
    "start_time": "2022-11-18T12:22:17.314Z"
   },
   {
    "duration": 13,
    "start_time": "2022-11-18T12:22:17.321Z"
   },
   {
    "duration": 12,
    "start_time": "2022-11-18T12:22:17.336Z"
   },
   {
    "duration": 6,
    "start_time": "2022-11-18T12:22:17.350Z"
   },
   {
    "duration": 9,
    "start_time": "2022-11-18T12:22:17.357Z"
   },
   {
    "duration": 56,
    "start_time": "2022-11-18T12:22:17.367Z"
   },
   {
    "duration": 17,
    "start_time": "2022-11-18T12:22:17.425Z"
   },
   {
    "duration": 119,
    "start_time": "2022-11-18T12:22:53.865Z"
   },
   {
    "duration": 42,
    "start_time": "2022-11-18T12:23:10.145Z"
   },
   {
    "duration": 9,
    "start_time": "2022-11-18T12:25:24.560Z"
   },
   {
    "duration": 16,
    "start_time": "2022-11-18T12:27:34.658Z"
   },
   {
    "duration": 30,
    "start_time": "2022-11-18T12:28:17.039Z"
   },
   {
    "duration": 22,
    "start_time": "2022-11-18T12:31:02.238Z"
   },
   {
    "duration": 19,
    "start_time": "2022-11-18T12:34:31.666Z"
   },
   {
    "duration": 15,
    "start_time": "2022-11-18T12:34:48.532Z"
   },
   {
    "duration": 17,
    "start_time": "2022-11-18T12:35:08.671Z"
   },
   {
    "duration": 1597,
    "start_time": "2022-11-18T12:35:46.080Z"
   },
   {
    "duration": 3,
    "start_time": "2022-11-18T12:35:47.680Z"
   },
   {
    "duration": 92,
    "start_time": "2022-11-18T12:35:47.684Z"
   },
   {
    "duration": 3,
    "start_time": "2022-11-18T12:35:47.777Z"
   },
   {
    "duration": 18,
    "start_time": "2022-11-18T12:35:47.783Z"
   },
   {
    "duration": 1029,
    "start_time": "2022-11-18T12:35:47.803Z"
   },
   {
    "duration": 7,
    "start_time": "2022-11-18T12:35:48.834Z"
   },
   {
    "duration": 16,
    "start_time": "2022-11-18T12:35:48.844Z"
   },
   {
    "duration": 21,
    "start_time": "2022-11-18T12:35:48.863Z"
   },
   {
    "duration": 9,
    "start_time": "2022-11-18T12:35:48.912Z"
   },
   {
    "duration": 18,
    "start_time": "2022-11-18T12:35:48.923Z"
   },
   {
    "duration": 38,
    "start_time": "2022-11-18T12:35:48.943Z"
   },
   {
    "duration": 32,
    "start_time": "2022-11-18T12:35:48.983Z"
   },
   {
    "duration": 22,
    "start_time": "2022-11-18T12:35:52.732Z"
   },
   {
    "duration": 5,
    "start_time": "2022-11-18T12:35:54.359Z"
   },
   {
    "duration": 144,
    "start_time": "2022-11-18T12:35:56.721Z"
   },
   {
    "duration": 3,
    "start_time": "2022-11-18T12:41:45.303Z"
   },
   {
    "duration": 4030,
    "start_time": "2022-11-18T12:42:27.670Z"
   },
   {
    "duration": 59,
    "start_time": "2022-11-18T12:44:36.020Z"
   },
   {
    "duration": 1554,
    "start_time": "2022-11-18T12:44:53.541Z"
   },
   {
    "duration": 3,
    "start_time": "2022-11-18T12:44:55.097Z"
   },
   {
    "duration": 74,
    "start_time": "2022-11-18T12:44:55.102Z"
   },
   {
    "duration": 3,
    "start_time": "2022-11-18T12:44:55.179Z"
   },
   {
    "duration": 9,
    "start_time": "2022-11-18T12:44:55.183Z"
   },
   {
    "duration": 1091,
    "start_time": "2022-11-18T12:44:55.194Z"
   },
   {
    "duration": 26,
    "start_time": "2022-11-18T12:44:56.287Z"
   },
   {
    "duration": 10,
    "start_time": "2022-11-18T12:44:56.315Z"
   },
   {
    "duration": 14,
    "start_time": "2022-11-18T12:44:56.326Z"
   },
   {
    "duration": 7,
    "start_time": "2022-11-18T12:44:56.343Z"
   },
   {
    "duration": 8,
    "start_time": "2022-11-18T12:44:56.351Z"
   },
   {
    "duration": 59,
    "start_time": "2022-11-18T12:44:56.361Z"
   },
   {
    "duration": 27,
    "start_time": "2022-11-18T12:44:56.422Z"
   },
   {
    "duration": 8,
    "start_time": "2022-11-18T12:44:56.452Z"
   },
   {
    "duration": 9,
    "start_time": "2022-11-18T12:44:56.462Z"
   },
   {
    "duration": 4232,
    "start_time": "2022-11-18T12:44:58.836Z"
   },
   {
    "duration": 86,
    "start_time": "2022-11-18T12:52:02.935Z"
   },
   {
    "duration": 397,
    "start_time": "2022-11-18T12:52:56.663Z"
   },
   {
    "duration": 83,
    "start_time": "2022-11-18T12:54:39.380Z"
   },
   {
    "duration": 9,
    "start_time": "2022-11-18T12:59:34.325Z"
   },
   {
    "duration": 6,
    "start_time": "2022-11-18T13:20:10.637Z"
   },
   {
    "duration": 6,
    "start_time": "2022-11-18T13:20:35.476Z"
   },
   {
    "duration": 7,
    "start_time": "2022-11-18T13:20:41.856Z"
   },
   {
    "duration": 10,
    "start_time": "2022-11-18T13:24:24.852Z"
   },
   {
    "duration": 14,
    "start_time": "2022-11-18T13:28:13.170Z"
   },
   {
    "duration": 7,
    "start_time": "2022-11-18T13:32:28.091Z"
   },
   {
    "duration": 6,
    "start_time": "2022-11-18T13:32:33.452Z"
   },
   {
    "duration": 8,
    "start_time": "2022-11-18T13:32:43.451Z"
   },
   {
    "duration": 7,
    "start_time": "2022-11-18T13:32:48.062Z"
   },
   {
    "duration": 7,
    "start_time": "2022-11-18T13:39:33.021Z"
   },
   {
    "duration": 9,
    "start_time": "2022-11-18T13:39:37.562Z"
   },
   {
    "duration": 10,
    "start_time": "2022-11-18T13:39:41.184Z"
   },
   {
    "duration": 11,
    "start_time": "2022-11-18T13:39:44.811Z"
   },
   {
    "duration": 935,
    "start_time": "2022-11-18T14:00:21.792Z"
   },
   {
    "duration": 7,
    "start_time": "2022-11-18T14:00:55.712Z"
   },
   {
    "duration": 68,
    "start_time": "2022-11-18T14:01:58.071Z"
   },
   {
    "duration": 9,
    "start_time": "2022-11-18T14:02:16.311Z"
   },
   {
    "duration": 8,
    "start_time": "2022-11-18T14:02:42.830Z"
   },
   {
    "duration": 10,
    "start_time": "2022-11-18T14:02:50.710Z"
   },
   {
    "duration": 8,
    "start_time": "2022-11-18T14:03:02.092Z"
   },
   {
    "duration": 9,
    "start_time": "2022-11-18T14:03:49.559Z"
   },
   {
    "duration": 15,
    "start_time": "2022-11-18T14:05:19.451Z"
   },
   {
    "duration": 13,
    "start_time": "2022-11-18T14:05:30.971Z"
   },
   {
    "duration": 10,
    "start_time": "2022-11-18T14:10:42.632Z"
   },
   {
    "duration": 11,
    "start_time": "2022-11-18T14:10:53.311Z"
   },
   {
    "duration": 14,
    "start_time": "2022-11-18T14:12:11.571Z"
   },
   {
    "duration": 14,
    "start_time": "2022-11-18T14:12:18.011Z"
   },
   {
    "duration": 14,
    "start_time": "2022-11-18T14:12:25.339Z"
   },
   {
    "duration": 13,
    "start_time": "2022-11-18T14:16:08.703Z"
   },
   {
    "duration": 45,
    "start_time": "2022-11-18T14:16:15.974Z"
   },
   {
    "duration": 6,
    "start_time": "2022-11-18T14:16:18.652Z"
   },
   {
    "duration": 16,
    "start_time": "2022-11-18T14:21:05.453Z"
   },
   {
    "duration": 79,
    "start_time": "2022-11-18T14:21:18.592Z"
   },
   {
    "duration": 65,
    "start_time": "2022-11-18T14:22:12.503Z"
   },
   {
    "duration": 9,
    "start_time": "2022-11-18T14:22:56.063Z"
   },
   {
    "duration": 11,
    "start_time": "2022-11-18T14:24:16.713Z"
   },
   {
    "duration": 56,
    "start_time": "2022-11-18T14:27:03.826Z"
   },
   {
    "duration": 17,
    "start_time": "2022-11-18T14:29:57.573Z"
   },
   {
    "duration": 7,
    "start_time": "2022-11-18T14:30:32.353Z"
   },
   {
    "duration": 7,
    "start_time": "2022-11-18T14:30:51.672Z"
   },
   {
    "duration": 13,
    "start_time": "2022-11-18T14:31:39.772Z"
   },
   {
    "duration": 770,
    "start_time": "2022-11-18T14:31:50.852Z"
   },
   {
    "duration": 10,
    "start_time": "2022-11-18T14:31:58.852Z"
   },
   {
    "duration": 46,
    "start_time": "2022-11-18T14:32:12.235Z"
   },
   {
    "duration": 45,
    "start_time": "2022-11-18T14:32:31.324Z"
   },
   {
    "duration": 13,
    "start_time": "2022-11-18T14:33:13.565Z"
   },
   {
    "duration": 46,
    "start_time": "2022-11-18T14:33:29.972Z"
   },
   {
    "duration": 7,
    "start_time": "2022-11-18T15:41:41.214Z"
   },
   {
    "duration": 7,
    "start_time": "2022-11-18T15:42:56.176Z"
   },
   {
    "duration": 6,
    "start_time": "2022-11-18T15:44:36.209Z"
   },
   {
    "duration": 6,
    "start_time": "2022-11-18T15:44:47.999Z"
   },
   {
    "duration": 7,
    "start_time": "2022-11-18T15:45:03.712Z"
   },
   {
    "duration": 7,
    "start_time": "2022-11-18T15:45:11.276Z"
   },
   {
    "duration": 7,
    "start_time": "2022-11-18T15:47:15.856Z"
   },
   {
    "duration": 7,
    "start_time": "2022-11-18T15:47:16.942Z"
   },
   {
    "duration": 8,
    "start_time": "2022-11-18T15:48:21.223Z"
   },
   {
    "duration": 8,
    "start_time": "2022-11-18T15:48:59.249Z"
   },
   {
    "duration": 10,
    "start_time": "2022-11-18T15:49:13.602Z"
   },
   {
    "duration": 6,
    "start_time": "2022-11-18T15:49:37.917Z"
   },
   {
    "duration": 5,
    "start_time": "2022-11-18T15:51:23.709Z"
   },
   {
    "duration": 6,
    "start_time": "2022-11-18T15:53:14.101Z"
   },
   {
    "duration": 6,
    "start_time": "2022-11-18T15:56:09.454Z"
   },
   {
    "duration": 7,
    "start_time": "2022-11-18T15:56:30.181Z"
   },
   {
    "duration": 8,
    "start_time": "2022-11-18T15:56:42.116Z"
   },
   {
    "duration": 6,
    "start_time": "2022-11-18T15:57:00.200Z"
   },
   {
    "duration": 12,
    "start_time": "2022-11-18T15:57:06.870Z"
   },
   {
    "duration": 4,
    "start_time": "2022-11-18T16:04:07.211Z"
   },
   {
    "duration": 4,
    "start_time": "2022-11-18T16:04:14.287Z"
   },
   {
    "duration": 69,
    "start_time": "2022-11-18T16:06:38.456Z"
   },
   {
    "duration": 5,
    "start_time": "2022-11-18T16:06:47.896Z"
   },
   {
    "duration": 40,
    "start_time": "2022-11-18T16:09:17.174Z"
   },
   {
    "duration": 17,
    "start_time": "2022-11-18T16:10:46.656Z"
   },
   {
    "duration": 14,
    "start_time": "2022-11-18T16:10:56.034Z"
   },
   {
    "duration": 18,
    "start_time": "2022-11-18T16:11:05.173Z"
   },
   {
    "duration": 18,
    "start_time": "2022-11-18T16:12:27.725Z"
   },
   {
    "duration": 5,
    "start_time": "2022-11-18T16:16:55.510Z"
   },
   {
    "duration": 5,
    "start_time": "2022-11-18T16:17:28.121Z"
   },
   {
    "duration": 5,
    "start_time": "2022-11-18T16:18:24.359Z"
   },
   {
    "duration": 5,
    "start_time": "2022-11-18T16:30:28.992Z"
   },
   {
    "duration": 5,
    "start_time": "2022-11-18T16:30:45.494Z"
   },
   {
    "duration": 150,
    "start_time": "2022-11-18T16:31:17.615Z"
   },
   {
    "duration": 13,
    "start_time": "2022-11-18T16:32:36.989Z"
   },
   {
    "duration": 14,
    "start_time": "2022-11-18T16:32:58.993Z"
   },
   {
    "duration": 14,
    "start_time": "2022-11-18T16:33:12.130Z"
   },
   {
    "duration": 48,
    "start_time": "2022-11-18T16:35:50.925Z"
   },
   {
    "duration": 65,
    "start_time": "2022-11-18T16:35:54.512Z"
   },
   {
    "duration": 3,
    "start_time": "2022-11-18T16:36:01.284Z"
   },
   {
    "duration": 11,
    "start_time": "2022-11-18T16:37:28.290Z"
   },
   {
    "duration": 13,
    "start_time": "2022-11-18T16:38:38.369Z"
   },
   {
    "duration": 14,
    "start_time": "2022-11-18T16:39:23.795Z"
   },
   {
    "duration": 11,
    "start_time": "2022-11-18T16:39:41.446Z"
   },
   {
    "duration": 17,
    "start_time": "2022-11-18T16:39:46.368Z"
   },
   {
    "duration": 15,
    "start_time": "2022-11-18T16:39:57.509Z"
   },
   {
    "duration": 13,
    "start_time": "2022-11-18T16:40:08.061Z"
   },
   {
    "duration": 13,
    "start_time": "2022-11-18T16:40:13.251Z"
   },
   {
    "duration": 9,
    "start_time": "2022-11-18T16:40:27.748Z"
   },
   {
    "duration": 12,
    "start_time": "2022-11-18T16:40:36.293Z"
   },
   {
    "duration": 10,
    "start_time": "2022-11-18T16:40:41.231Z"
   },
   {
    "duration": 14,
    "start_time": "2022-11-18T16:43:52.768Z"
   },
   {
    "duration": 16,
    "start_time": "2022-11-18T16:44:36.609Z"
   },
   {
    "duration": 11,
    "start_time": "2022-11-18T16:48:00.471Z"
   },
   {
    "duration": 13,
    "start_time": "2022-11-18T16:48:12.969Z"
   },
   {
    "duration": 11,
    "start_time": "2022-11-18T16:48:27.460Z"
   },
   {
    "duration": 14,
    "start_time": "2022-11-18T16:48:42.123Z"
   },
   {
    "duration": 25,
    "start_time": "2022-11-18T16:51:53.864Z"
   },
   {
    "duration": 23,
    "start_time": "2022-11-18T16:52:45.311Z"
   },
   {
    "duration": 19,
    "start_time": "2022-11-18T16:52:53.168Z"
   },
   {
    "duration": 15,
    "start_time": "2022-11-18T16:53:58.887Z"
   },
   {
    "duration": 14,
    "start_time": "2022-11-18T16:57:50.431Z"
   },
   {
    "duration": 4,
    "start_time": "2022-11-18T16:58:01.691Z"
   },
   {
    "duration": 41,
    "start_time": "2022-11-18T16:58:54.576Z"
   },
   {
    "duration": 54,
    "start_time": "2022-11-18T17:06:30.747Z"
   },
   {
    "duration": 15,
    "start_time": "2022-11-18T17:06:37.408Z"
   },
   {
    "duration": 13,
    "start_time": "2022-11-18T17:07:12.128Z"
   },
   {
    "duration": 811,
    "start_time": "2022-11-18T17:07:46.632Z"
   },
   {
    "duration": 732,
    "start_time": "2022-11-18T17:08:13.987Z"
   },
   {
    "duration": 4,
    "start_time": "2022-11-18T17:08:36.647Z"
   },
   {
    "duration": 31,
    "start_time": "2022-11-18T17:08:44.848Z"
   },
   {
    "duration": 461,
    "start_time": "2022-11-18T17:09:15.207Z"
   },
   {
    "duration": 8,
    "start_time": "2022-11-18T17:09:34.447Z"
   },
   {
    "duration": 8,
    "start_time": "2022-11-18T17:09:40.467Z"
   },
   {
    "duration": 10,
    "start_time": "2022-11-18T17:09:52.899Z"
   },
   {
    "duration": 26,
    "start_time": "2022-11-18T17:09:56.047Z"
   },
   {
    "duration": 10,
    "start_time": "2022-11-18T17:10:41.368Z"
   },
   {
    "duration": 1510,
    "start_time": "2022-11-18T17:11:53.972Z"
   },
   {
    "duration": 3,
    "start_time": "2022-11-18T17:11:55.484Z"
   },
   {
    "duration": 68,
    "start_time": "2022-11-18T17:11:55.489Z"
   },
   {
    "duration": 6,
    "start_time": "2022-11-18T17:11:55.559Z"
   },
   {
    "duration": 1031,
    "start_time": "2022-11-18T17:11:55.567Z"
   },
   {
    "duration": 6,
    "start_time": "2022-11-18T17:11:56.612Z"
   },
   {
    "duration": 12,
    "start_time": "2022-11-18T17:11:56.621Z"
   },
   {
    "duration": 10,
    "start_time": "2022-11-18T17:11:56.635Z"
   },
   {
    "duration": 6,
    "start_time": "2022-11-18T17:11:56.647Z"
   },
   {
    "duration": 10,
    "start_time": "2022-11-18T17:11:56.654Z"
   },
   {
    "duration": 58,
    "start_time": "2022-11-18T17:11:56.666Z"
   },
   {
    "duration": 17,
    "start_time": "2022-11-18T17:11:56.726Z"
   },
   {
    "duration": 4054,
    "start_time": "2022-11-18T17:11:56.745Z"
   },
   {
    "duration": 48,
    "start_time": "2022-11-18T17:12:01.266Z"
   },
   {
    "duration": 29,
    "start_time": "2022-11-18T17:12:01.316Z"
   },
   {
    "duration": 10,
    "start_time": "2022-11-18T17:12:01.347Z"
   },
   {
    "duration": 8,
    "start_time": "2022-11-18T17:12:01.359Z"
   },
   {
    "duration": 56,
    "start_time": "2022-11-18T17:12:01.369Z"
   },
   {
    "duration": 6,
    "start_time": "2022-11-18T17:12:01.427Z"
   },
   {
    "duration": 16,
    "start_time": "2022-11-18T17:12:01.435Z"
   },
   {
    "duration": 63,
    "start_time": "2022-11-18T17:12:01.453Z"
   },
   {
    "duration": 9,
    "start_time": "2022-11-18T17:12:01.518Z"
   },
   {
    "duration": 93,
    "start_time": "2022-11-18T17:12:01.528Z"
   },
   {
    "duration": 6,
    "start_time": "2022-11-18T17:12:01.623Z"
   },
   {
    "duration": 10,
    "start_time": "2022-11-18T17:12:01.630Z"
   },
   {
    "duration": 18,
    "start_time": "2022-11-18T17:12:01.642Z"
   },
   {
    "duration": 8,
    "start_time": "2022-11-18T17:12:01.661Z"
   },
   {
    "duration": 80,
    "start_time": "2022-11-18T17:12:01.671Z"
   },
   {
    "duration": 16,
    "start_time": "2022-11-18T17:12:01.753Z"
   },
   {
    "duration": 72,
    "start_time": "2022-11-18T17:12:30.733Z"
   },
   {
    "duration": 20,
    "start_time": "2022-11-18T17:13:20.671Z"
   },
   {
    "duration": 4,
    "start_time": "2022-11-18T17:13:24.312Z"
   },
   {
    "duration": 28,
    "start_time": "2022-11-18T17:13:27.131Z"
   },
   {
    "duration": 33,
    "start_time": "2022-11-18T17:13:42.467Z"
   },
   {
    "duration": 27,
    "start_time": "2022-11-18T17:14:16.267Z"
   },
   {
    "duration": 5,
    "start_time": "2022-11-18T17:14:29.347Z"
   },
   {
    "duration": 5,
    "start_time": "2022-11-18T17:14:29.353Z"
   },
   {
    "duration": 72,
    "start_time": "2022-11-18T17:14:29.360Z"
   },
   {
    "duration": 7,
    "start_time": "2022-11-18T17:14:29.434Z"
   },
   {
    "duration": 1070,
    "start_time": "2022-11-18T17:14:29.442Z"
   },
   {
    "duration": 6,
    "start_time": "2022-11-18T17:14:30.514Z"
   },
   {
    "duration": 42,
    "start_time": "2022-11-18T17:14:30.521Z"
   },
   {
    "duration": 30,
    "start_time": "2022-11-18T17:14:30.566Z"
   },
   {
    "duration": 6,
    "start_time": "2022-11-18T17:14:30.598Z"
   },
   {
    "duration": 28,
    "start_time": "2022-11-18T17:14:30.606Z"
   },
   {
    "duration": 31,
    "start_time": "2022-11-18T17:14:30.636Z"
   },
   {
    "duration": 30,
    "start_time": "2022-11-18T17:14:30.669Z"
   },
   {
    "duration": 3919,
    "start_time": "2022-11-18T17:14:30.701Z"
   },
   {
    "duration": 128,
    "start_time": "2022-11-18T17:14:34.623Z"
   },
   {
    "duration": 6,
    "start_time": "2022-11-18T17:14:34.753Z"
   },
   {
    "duration": 9,
    "start_time": "2022-11-18T17:14:34.761Z"
   },
   {
    "duration": 43,
    "start_time": "2022-11-18T17:14:34.772Z"
   },
   {
    "duration": 10,
    "start_time": "2022-11-18T17:14:34.817Z"
   },
   {
    "duration": 15,
    "start_time": "2022-11-18T17:14:34.829Z"
   },
   {
    "duration": 6,
    "start_time": "2022-11-18T17:14:34.848Z"
   },
   {
    "duration": 26,
    "start_time": "2022-11-18T17:14:34.855Z"
   },
   {
    "duration": 41,
    "start_time": "2022-11-18T17:14:34.883Z"
   },
   {
    "duration": 11,
    "start_time": "2022-11-18T17:14:34.926Z"
   },
   {
    "duration": 79,
    "start_time": "2022-11-18T17:14:34.941Z"
   },
   {
    "duration": 6,
    "start_time": "2022-11-18T17:14:35.022Z"
   },
   {
    "duration": 11,
    "start_time": "2022-11-18T17:14:35.029Z"
   },
   {
    "duration": 14,
    "start_time": "2022-11-18T17:14:35.043Z"
   },
   {
    "duration": 14,
    "start_time": "2022-11-18T17:14:35.061Z"
   },
   {
    "duration": 83,
    "start_time": "2022-11-18T17:14:35.077Z"
   },
   {
    "duration": 16,
    "start_time": "2022-11-18T17:14:35.162Z"
   },
   {
    "duration": 46,
    "start_time": "2022-11-18T17:14:35.180Z"
   },
   {
    "duration": 4,
    "start_time": "2022-11-18T17:14:35.228Z"
   },
   {
    "duration": 21,
    "start_time": "2022-11-18T17:17:26.206Z"
   },
   {
    "duration": 2,
    "start_time": "2022-11-18T17:17:39.229Z"
   },
   {
    "duration": 26,
    "start_time": "2022-11-18T17:17:56.964Z"
   },
   {
    "duration": 26,
    "start_time": "2022-11-18T17:18:26.603Z"
   },
   {
    "duration": 177,
    "start_time": "2022-11-18T17:21:18.093Z"
   },
   {
    "duration": 28,
    "start_time": "2022-11-18T17:21:41.463Z"
   },
   {
    "duration": 29,
    "start_time": "2022-11-18T17:21:56.043Z"
   },
   {
    "duration": 27,
    "start_time": "2022-11-18T17:22:37.152Z"
   },
   {
    "duration": 28,
    "start_time": "2022-11-18T17:23:12.260Z"
   },
   {
    "duration": 4,
    "start_time": "2022-11-18T17:23:30.301Z"
   },
   {
    "duration": 15,
    "start_time": "2022-11-18T17:23:50.459Z"
   },
   {
    "duration": 5,
    "start_time": "2022-11-18T17:25:00.643Z"
   },
   {
    "duration": 15,
    "start_time": "2022-11-18T17:54:18.499Z"
   },
   {
    "duration": 35,
    "start_time": "2022-11-18T17:55:47.196Z"
   },
   {
    "duration": 51,
    "start_time": "2022-11-18T17:56:00.711Z"
   },
   {
    "duration": 19,
    "start_time": "2022-11-18T17:56:33.847Z"
   },
   {
    "duration": 19,
    "start_time": "2022-11-18T17:57:00.972Z"
   },
   {
    "duration": 37,
    "start_time": "2022-11-18T17:57:10.311Z"
   },
   {
    "duration": 20,
    "start_time": "2022-11-18T17:57:14.500Z"
   },
   {
    "duration": 57,
    "start_time": "2022-11-18T17:57:41.511Z"
   },
   {
    "duration": 14,
    "start_time": "2022-11-18T17:57:58.090Z"
   },
   {
    "duration": 12,
    "start_time": "2022-11-18T17:58:14.891Z"
   },
   {
    "duration": 1554,
    "start_time": "2022-11-18T17:58:32.133Z"
   },
   {
    "duration": 4,
    "start_time": "2022-11-18T17:58:33.689Z"
   },
   {
    "duration": 74,
    "start_time": "2022-11-18T17:58:33.694Z"
   },
   {
    "duration": 6,
    "start_time": "2022-11-18T17:58:33.770Z"
   },
   {
    "duration": 1038,
    "start_time": "2022-11-18T17:58:33.779Z"
   },
   {
    "duration": 5,
    "start_time": "2022-11-18T17:58:34.819Z"
   },
   {
    "duration": 15,
    "start_time": "2022-11-18T17:58:34.826Z"
   },
   {
    "duration": 15,
    "start_time": "2022-11-18T17:58:34.843Z"
   },
   {
    "duration": 8,
    "start_time": "2022-11-18T17:58:34.860Z"
   },
   {
    "duration": 47,
    "start_time": "2022-11-18T17:58:34.869Z"
   },
   {
    "duration": 15,
    "start_time": "2022-11-18T17:58:34.918Z"
   },
   {
    "duration": 17,
    "start_time": "2022-11-18T17:58:34.936Z"
   },
   {
    "duration": 1748,
    "start_time": "2022-11-18T17:58:34.954Z"
   },
   {
    "duration": 0,
    "start_time": "2022-11-18T17:58:36.706Z"
   },
   {
    "duration": 0,
    "start_time": "2022-11-18T17:58:36.708Z"
   },
   {
    "duration": 0,
    "start_time": "2022-11-18T17:58:36.710Z"
   },
   {
    "duration": 0,
    "start_time": "2022-11-18T17:58:36.711Z"
   },
   {
    "duration": 0,
    "start_time": "2022-11-18T17:58:36.712Z"
   },
   {
    "duration": 0,
    "start_time": "2022-11-18T17:58:36.714Z"
   },
   {
    "duration": 0,
    "start_time": "2022-11-18T17:58:36.715Z"
   },
   {
    "duration": 0,
    "start_time": "2022-11-18T17:58:36.717Z"
   },
   {
    "duration": 0,
    "start_time": "2022-11-18T17:58:36.718Z"
   },
   {
    "duration": 0,
    "start_time": "2022-11-18T17:58:36.720Z"
   },
   {
    "duration": 0,
    "start_time": "2022-11-18T17:58:36.722Z"
   },
   {
    "duration": 0,
    "start_time": "2022-11-18T17:58:36.723Z"
   },
   {
    "duration": 0,
    "start_time": "2022-11-18T17:58:36.725Z"
   },
   {
    "duration": 0,
    "start_time": "2022-11-18T17:58:36.726Z"
   },
   {
    "duration": 0,
    "start_time": "2022-11-18T17:58:36.728Z"
   },
   {
    "duration": 0,
    "start_time": "2022-11-18T17:58:36.728Z"
   },
   {
    "duration": 0,
    "start_time": "2022-11-18T17:58:36.729Z"
   },
   {
    "duration": 0,
    "start_time": "2022-11-18T17:58:36.730Z"
   },
   {
    "duration": 0,
    "start_time": "2022-11-18T17:58:36.731Z"
   },
   {
    "duration": 0,
    "start_time": "2022-11-18T17:58:36.732Z"
   },
   {
    "duration": 0,
    "start_time": "2022-11-18T17:58:36.734Z"
   },
   {
    "duration": 0,
    "start_time": "2022-11-18T17:58:36.736Z"
   },
   {
    "duration": 0,
    "start_time": "2022-11-18T17:58:36.737Z"
   },
   {
    "duration": 0,
    "start_time": "2022-11-18T17:58:36.738Z"
   },
   {
    "duration": 0,
    "start_time": "2022-11-18T17:58:36.739Z"
   },
   {
    "duration": 0,
    "start_time": "2022-11-18T17:58:36.740Z"
   },
   {
    "duration": 0,
    "start_time": "2022-11-18T17:58:36.741Z"
   },
   {
    "duration": 0,
    "start_time": "2022-11-18T17:58:36.742Z"
   },
   {
    "duration": 0,
    "start_time": "2022-11-18T17:58:36.743Z"
   },
   {
    "duration": 0,
    "start_time": "2022-11-18T17:58:36.745Z"
   },
   {
    "duration": 0,
    "start_time": "2022-11-18T17:58:36.746Z"
   },
   {
    "duration": 0,
    "start_time": "2022-11-18T17:58:36.747Z"
   },
   {
    "duration": 0,
    "start_time": "2022-11-18T17:58:36.748Z"
   },
   {
    "duration": 4,
    "start_time": "2022-11-18T17:58:53.134Z"
   },
   {
    "duration": 10,
    "start_time": "2022-11-18T17:58:53.140Z"
   },
   {
    "duration": 75,
    "start_time": "2022-11-18T17:58:53.152Z"
   },
   {
    "duration": 7,
    "start_time": "2022-11-18T17:58:53.228Z"
   },
   {
    "duration": 892,
    "start_time": "2022-11-18T17:58:53.237Z"
   },
   {
    "duration": 6,
    "start_time": "2022-11-18T17:58:54.132Z"
   },
   {
    "duration": 13,
    "start_time": "2022-11-18T17:58:54.139Z"
   },
   {
    "duration": 14,
    "start_time": "2022-11-18T17:58:54.154Z"
   },
   {
    "duration": 7,
    "start_time": "2022-11-18T17:58:54.169Z"
   },
   {
    "duration": 11,
    "start_time": "2022-11-18T17:58:54.218Z"
   },
   {
    "duration": 14,
    "start_time": "2022-11-18T17:58:54.231Z"
   },
   {
    "duration": 16,
    "start_time": "2022-11-18T17:58:54.246Z"
   },
   {
    "duration": 4298,
    "start_time": "2022-11-18T17:58:54.263Z"
   },
   {
    "duration": 458,
    "start_time": "2022-11-18T17:58:58.565Z"
   },
   {
    "duration": 9,
    "start_time": "2022-11-18T17:58:59.025Z"
   },
   {
    "duration": 14,
    "start_time": "2022-11-18T17:58:59.036Z"
   },
   {
    "duration": 61,
    "start_time": "2022-11-18T17:58:59.052Z"
   },
   {
    "duration": 12,
    "start_time": "2022-11-18T17:58:59.115Z"
   },
   {
    "duration": 19,
    "start_time": "2022-11-18T17:58:59.129Z"
   },
   {
    "duration": 64,
    "start_time": "2022-11-18T17:58:59.150Z"
   },
   {
    "duration": 9,
    "start_time": "2022-11-18T17:58:59.217Z"
   },
   {
    "duration": 13,
    "start_time": "2022-11-18T17:58:59.228Z"
   },
   {
    "duration": 10,
    "start_time": "2022-11-18T17:58:59.243Z"
   },
   {
    "duration": 106,
    "start_time": "2022-11-18T17:58:59.255Z"
   },
   {
    "duration": 8,
    "start_time": "2022-11-18T17:58:59.363Z"
   },
   {
    "duration": 9,
    "start_time": "2022-11-18T17:58:59.372Z"
   },
   {
    "duration": 39,
    "start_time": "2022-11-18T17:58:59.383Z"
   },
   {
    "duration": 9,
    "start_time": "2022-11-18T17:58:59.424Z"
   },
   {
    "duration": 45,
    "start_time": "2022-11-18T17:58:59.435Z"
   },
   {
    "duration": 17,
    "start_time": "2022-11-18T18:00:19.669Z"
   },
   {
    "duration": 20,
    "start_time": "2022-11-18T18:00:22.398Z"
   },
   {
    "duration": 17,
    "start_time": "2022-11-18T18:00:26.603Z"
   },
   {
    "duration": 922,
    "start_time": "2022-11-18T18:00:31.575Z"
   },
   {
    "duration": 5,
    "start_time": "2022-11-18T18:00:47.802Z"
   },
   {
    "duration": 6,
    "start_time": "2022-11-18T18:01:01.439Z"
   },
   {
    "duration": 8,
    "start_time": "2022-11-18T18:01:11.376Z"
   },
   {
    "duration": 7,
    "start_time": "2022-11-18T18:01:30.415Z"
   },
   {
    "duration": 7,
    "start_time": "2022-11-18T18:01:42.196Z"
   },
   {
    "duration": 5,
    "start_time": "2022-11-18T18:06:21.619Z"
   },
   {
    "duration": 5,
    "start_time": "2022-11-18T18:06:25.519Z"
   },
   {
    "duration": 17,
    "start_time": "2022-11-18T18:06:27.556Z"
   },
   {
    "duration": 11,
    "start_time": "2022-11-18T18:06:33.877Z"
   },
   {
    "duration": 4,
    "start_time": "2022-11-18T18:08:01.615Z"
   },
   {
    "duration": 6,
    "start_time": "2022-11-18T18:08:43.338Z"
   },
   {
    "duration": 18,
    "start_time": "2022-11-18T18:09:13.517Z"
   },
   {
    "duration": 1576,
    "start_time": "2022-11-18T18:09:38.201Z"
   },
   {
    "duration": 3,
    "start_time": "2022-11-18T18:09:39.779Z"
   },
   {
    "duration": 85,
    "start_time": "2022-11-18T18:09:39.783Z"
   },
   {
    "duration": 6,
    "start_time": "2022-11-18T18:09:39.870Z"
   },
   {
    "duration": 1015,
    "start_time": "2022-11-18T18:09:39.878Z"
   },
   {
    "duration": 22,
    "start_time": "2022-11-18T18:09:40.894Z"
   },
   {
    "duration": 16,
    "start_time": "2022-11-18T18:09:40.917Z"
   },
   {
    "duration": 12,
    "start_time": "2022-11-18T18:09:40.935Z"
   },
   {
    "duration": 7,
    "start_time": "2022-11-18T18:09:40.949Z"
   },
   {
    "duration": 57,
    "start_time": "2022-11-18T18:09:40.959Z"
   },
   {
    "duration": 15,
    "start_time": "2022-11-18T18:09:41.018Z"
   },
   {
    "duration": 17,
    "start_time": "2022-11-18T18:09:41.034Z"
   },
   {
    "duration": 4113,
    "start_time": "2022-11-18T18:09:41.052Z"
   },
   {
    "duration": 445,
    "start_time": "2022-11-18T18:09:45.170Z"
   },
   {
    "duration": 5,
    "start_time": "2022-11-18T18:09:45.617Z"
   },
   {
    "duration": 11,
    "start_time": "2022-11-18T18:09:45.624Z"
   },
   {
    "duration": 6,
    "start_time": "2022-11-18T18:09:45.637Z"
   },
   {
    "duration": 8,
    "start_time": "2022-11-18T18:09:45.644Z"
   },
   {
    "duration": 68,
    "start_time": "2022-11-18T18:09:45.653Z"
   },
   {
    "duration": 6,
    "start_time": "2022-11-18T18:09:45.723Z"
   },
   {
    "duration": 18,
    "start_time": "2022-11-18T18:09:45.731Z"
   },
   {
    "duration": 61,
    "start_time": "2022-11-18T18:09:45.751Z"
   },
   {
    "duration": 9,
    "start_time": "2022-11-18T18:09:45.814Z"
   },
   {
    "duration": 102,
    "start_time": "2022-11-18T18:09:45.825Z"
   },
   {
    "duration": 5,
    "start_time": "2022-11-18T18:09:45.929Z"
   },
   {
    "duration": 6,
    "start_time": "2022-11-18T18:09:45.937Z"
   },
   {
    "duration": 14,
    "start_time": "2022-11-18T18:09:45.944Z"
   },
   {
    "duration": 7,
    "start_time": "2022-11-18T18:09:45.959Z"
   },
   {
    "duration": 86,
    "start_time": "2022-11-18T18:09:45.968Z"
   },
   {
    "duration": 18,
    "start_time": "2022-11-18T18:09:46.055Z"
   },
   {
    "duration": 5,
    "start_time": "2022-11-18T18:09:46.074Z"
   },
   {
    "duration": 18,
    "start_time": "2022-11-18T18:10:19.692Z"
   },
   {
    "duration": 4,
    "start_time": "2022-11-18T18:10:21.821Z"
   },
   {
    "duration": 21,
    "start_time": "2022-11-18T18:10:23.479Z"
   },
   {
    "duration": 8,
    "start_time": "2022-11-18T18:14:31.510Z"
   },
   {
    "duration": 7,
    "start_time": "2022-11-18T18:14:57.678Z"
   },
   {
    "duration": 6,
    "start_time": "2022-11-18T18:17:48.737Z"
   },
   {
    "duration": 8,
    "start_time": "2022-11-18T18:18:27.058Z"
   },
   {
    "duration": 8,
    "start_time": "2022-11-18T18:18:53.218Z"
   },
   {
    "duration": 8,
    "start_time": "2022-11-18T18:19:03.017Z"
   },
   {
    "duration": 74,
    "start_time": "2022-11-18T18:20:21.401Z"
   },
   {
    "duration": 9,
    "start_time": "2022-11-18T18:21:45.878Z"
   },
   {
    "duration": 9,
    "start_time": "2022-11-18T18:22:13.268Z"
   },
   {
    "duration": 45,
    "start_time": "2022-11-18T18:23:11.799Z"
   },
   {
    "duration": 44,
    "start_time": "2022-11-18T18:23:28.657Z"
   },
   {
    "duration": 62,
    "start_time": "2022-11-18T18:23:39.368Z"
   },
   {
    "duration": 56,
    "start_time": "2022-11-18T18:24:05.177Z"
   },
   {
    "duration": 69,
    "start_time": "2022-11-18T18:24:17.336Z"
   },
   {
    "duration": 21,
    "start_time": "2022-11-18T18:28:17.518Z"
   },
   {
    "duration": 22,
    "start_time": "2022-11-18T18:28:22.077Z"
   },
   {
    "duration": 3235,
    "start_time": "2022-11-18T18:28:24.377Z"
   },
   {
    "duration": 9,
    "start_time": "2022-11-18T18:28:34.513Z"
   },
   {
    "duration": 10,
    "start_time": "2022-11-18T18:28:36.277Z"
   },
   {
    "duration": 25,
    "start_time": "2022-11-18T18:28:37.897Z"
   },
   {
    "duration": 2848,
    "start_time": "2022-11-18T18:28:53.190Z"
   },
   {
    "duration": 431,
    "start_time": "2022-11-18T18:31:45.437Z"
   },
   {
    "duration": 235,
    "start_time": "2022-11-18T18:34:01.958Z"
   },
   {
    "duration": 200,
    "start_time": "2022-11-18T18:37:36.089Z"
   },
   {
    "duration": 209,
    "start_time": "2022-11-18T18:37:39.521Z"
   },
   {
    "duration": 43,
    "start_time": "2022-11-18T18:37:56.609Z"
   },
   {
    "duration": 46,
    "start_time": "2022-11-18T18:38:02.082Z"
   },
   {
    "duration": 12,
    "start_time": "2022-11-18T18:39:20.789Z"
   },
   {
    "duration": 222,
    "start_time": "2022-11-18T18:39:32.968Z"
   },
   {
    "duration": 148,
    "start_time": "2022-11-18T18:41:03.489Z"
   },
   {
    "duration": 121,
    "start_time": "2022-11-18T18:41:14.689Z"
   },
   {
    "duration": 16,
    "start_time": "2022-11-18T18:41:31.056Z"
   },
   {
    "duration": 100,
    "start_time": "2022-11-18T18:41:45.249Z"
   },
   {
    "duration": 157,
    "start_time": "2022-11-18T18:54:56.671Z"
   },
   {
    "duration": 72,
    "start_time": "2022-11-18T18:55:13.551Z"
   },
   {
    "duration": 160,
    "start_time": "2022-11-18T18:58:07.070Z"
   },
   {
    "duration": 3,
    "start_time": "2022-11-18T19:01:20.731Z"
   },
   {
    "duration": 71,
    "start_time": "2022-11-18T19:06:47.118Z"
   },
   {
    "duration": 66,
    "start_time": "2022-11-18T19:07:06.769Z"
   },
   {
    "duration": 1611,
    "start_time": "2022-11-19T04:49:31.031Z"
   },
   {
    "duration": 3,
    "start_time": "2022-11-19T04:49:32.644Z"
   },
   {
    "duration": 112,
    "start_time": "2022-11-19T04:49:32.649Z"
   },
   {
    "duration": 6,
    "start_time": "2022-11-19T04:49:32.763Z"
   },
   {
    "duration": 902,
    "start_time": "2022-11-19T04:49:32.772Z"
   },
   {
    "duration": 5,
    "start_time": "2022-11-19T04:49:33.675Z"
   },
   {
    "duration": 30,
    "start_time": "2022-11-19T04:49:33.682Z"
   },
   {
    "duration": 7,
    "start_time": "2022-11-19T04:49:33.714Z"
   },
   {
    "duration": 12,
    "start_time": "2022-11-19T04:49:33.722Z"
   },
   {
    "duration": 6,
    "start_time": "2022-11-19T04:49:33.735Z"
   },
   {
    "duration": 12,
    "start_time": "2022-11-19T04:49:33.742Z"
   },
   {
    "duration": 14,
    "start_time": "2022-11-19T04:49:33.755Z"
   },
   {
    "duration": 50,
    "start_time": "2022-11-19T04:49:33.770Z"
   },
   {
    "duration": 3880,
    "start_time": "2022-11-19T04:49:33.823Z"
   },
   {
    "duration": 375,
    "start_time": "2022-11-19T04:49:37.706Z"
   },
   {
    "duration": 6,
    "start_time": "2022-11-19T04:49:38.113Z"
   },
   {
    "duration": 8,
    "start_time": "2022-11-19T04:49:38.120Z"
   },
   {
    "duration": 6,
    "start_time": "2022-11-19T04:49:38.130Z"
   },
   {
    "duration": 9,
    "start_time": "2022-11-19T04:49:38.137Z"
   },
   {
    "duration": 68,
    "start_time": "2022-11-19T04:49:38.148Z"
   },
   {
    "duration": 5,
    "start_time": "2022-11-19T04:49:38.218Z"
   },
   {
    "duration": 12,
    "start_time": "2022-11-19T04:49:38.225Z"
   },
   {
    "duration": 12,
    "start_time": "2022-11-19T04:49:38.239Z"
   },
   {
    "duration": 8,
    "start_time": "2022-11-19T04:49:38.253Z"
   },
   {
    "duration": 83,
    "start_time": "2022-11-19T04:49:38.263Z"
   },
   {
    "duration": 5,
    "start_time": "2022-11-19T04:49:38.347Z"
   },
   {
    "duration": 7,
    "start_time": "2022-11-19T04:49:38.354Z"
   },
   {
    "duration": 12,
    "start_time": "2022-11-19T04:49:38.363Z"
   },
   {
    "duration": 38,
    "start_time": "2022-11-19T04:49:38.377Z"
   },
   {
    "duration": 41,
    "start_time": "2022-11-19T04:49:38.416Z"
   },
   {
    "duration": 17,
    "start_time": "2022-11-19T04:49:38.459Z"
   },
   {
    "duration": 5,
    "start_time": "2022-11-19T04:49:38.478Z"
   },
   {
    "duration": 16,
    "start_time": "2022-11-19T04:49:38.511Z"
   },
   {
    "duration": 4,
    "start_time": "2022-11-19T04:49:38.529Z"
   },
   {
    "duration": 20,
    "start_time": "2022-11-19T04:49:38.535Z"
   },
   {
    "duration": 682,
    "start_time": "2022-11-19T04:49:38.556Z"
   },
   {
    "duration": 6,
    "start_time": "2022-11-19T04:49:39.239Z"
   },
   {
    "duration": 9,
    "start_time": "2022-11-19T04:49:39.246Z"
   },
   {
    "duration": 8,
    "start_time": "2022-11-19T04:49:39.312Z"
   },
   {
    "duration": 128,
    "start_time": "2022-11-19T04:49:39.321Z"
   },
   {
    "duration": 260,
    "start_time": "2022-11-19T04:49:39.452Z"
   },
   {
    "duration": 305,
    "start_time": "2022-11-19T04:49:39.714Z"
   },
   {
    "duration": 22,
    "start_time": "2022-11-19T04:49:40.021Z"
   },
   {
    "duration": 71,
    "start_time": "2022-11-19T04:49:40.045Z"
   },
   {
    "duration": 3397,
    "start_time": "2022-11-19T04:49:40.118Z"
   },
   {
    "duration": 9,
    "start_time": "2022-11-19T04:49:43.516Z"
   },
   {
    "duration": 10,
    "start_time": "2022-11-19T04:49:43.527Z"
   },
   {
    "duration": 24,
    "start_time": "2022-11-19T04:49:43.539Z"
   },
   {
    "duration": 2612,
    "start_time": "2022-11-19T04:49:43.564Z"
   },
   {
    "duration": 21,
    "start_time": "2022-11-19T04:53:10.570Z"
   },
   {
    "duration": 447,
    "start_time": "2022-11-19T05:00:45.510Z"
   },
   {
    "duration": 8,
    "start_time": "2022-11-19T05:01:57.370Z"
   },
   {
    "duration": 61,
    "start_time": "2022-11-19T05:02:24.630Z"
   },
   {
    "duration": 15,
    "start_time": "2022-11-19T05:04:50.551Z"
   },
   {
    "duration": 10,
    "start_time": "2022-11-19T05:05:11.410Z"
   },
   {
    "duration": 13,
    "start_time": "2022-11-19T05:07:25.899Z"
   },
   {
    "duration": 12,
    "start_time": "2022-11-19T05:08:37.910Z"
   },
   {
    "duration": 42,
    "start_time": "2022-11-19T05:10:10.280Z"
   },
   {
    "duration": 39,
    "start_time": "2022-11-19T05:11:34.320Z"
   },
   {
    "duration": 45,
    "start_time": "2022-11-19T05:12:01.593Z"
   },
   {
    "duration": 48,
    "start_time": "2022-11-19T05:12:16.032Z"
   },
   {
    "duration": 63,
    "start_time": "2022-11-19T05:23:29.760Z"
   },
   {
    "duration": 760,
    "start_time": "2022-11-19T05:23:49.981Z"
   },
   {
    "duration": 417,
    "start_time": "2022-11-19T05:24:03.461Z"
   },
   {
    "duration": 365,
    "start_time": "2022-11-19T05:24:38.402Z"
   },
   {
    "duration": 7,
    "start_time": "2022-11-19T05:24:57.421Z"
   },
   {
    "duration": 7,
    "start_time": "2022-11-19T05:25:59.961Z"
   },
   {
    "duration": 9,
    "start_time": "2022-11-19T05:26:51.321Z"
   },
   {
    "duration": 9,
    "start_time": "2022-11-19T05:28:07.701Z"
   },
   {
    "duration": 10,
    "start_time": "2022-11-19T05:28:39.322Z"
   },
   {
    "duration": 10,
    "start_time": "2022-11-19T05:28:45.762Z"
   },
   {
    "duration": 13,
    "start_time": "2022-11-19T05:30:19.940Z"
   },
   {
    "duration": 11,
    "start_time": "2022-11-19T05:30:45.821Z"
   },
   {
    "duration": 41,
    "start_time": "2022-11-19T05:31:33.521Z"
   },
   {
    "duration": 19,
    "start_time": "2022-11-19T05:32:26.446Z"
   },
   {
    "duration": 8,
    "start_time": "2022-11-19T05:32:36.552Z"
   },
   {
    "duration": 49,
    "start_time": "2022-11-19T05:33:34.799Z"
   },
   {
    "duration": 57,
    "start_time": "2022-11-19T05:33:46.401Z"
   },
   {
    "duration": 42,
    "start_time": "2022-11-19T05:34:40.281Z"
   },
   {
    "duration": 46,
    "start_time": "2022-11-19T05:49:26.650Z"
   },
   {
    "duration": 14,
    "start_time": "2022-11-19T05:49:32.217Z"
   },
   {
    "duration": 119,
    "start_time": "2022-11-19T05:49:50.835Z"
   },
   {
    "duration": 19,
    "start_time": "2022-11-19T06:53:14.493Z"
   },
   {
    "duration": 19,
    "start_time": "2022-11-19T06:53:20.133Z"
   },
   {
    "duration": 5,
    "start_time": "2022-11-19T06:54:29.992Z"
   },
   {
    "duration": 13,
    "start_time": "2022-11-19T07:25:15.519Z"
   },
   {
    "duration": 5,
    "start_time": "2022-11-19T07:25:38.034Z"
   },
   {
    "duration": 10,
    "start_time": "2022-11-19T07:25:40.317Z"
   },
   {
    "duration": 5,
    "start_time": "2022-11-19T07:25:48.104Z"
   },
   {
    "duration": 4,
    "start_time": "2022-11-19T07:25:59.065Z"
   },
   {
    "duration": 5,
    "start_time": "2022-11-19T07:26:02.304Z"
   },
   {
    "duration": 4,
    "start_time": "2022-11-19T07:26:05.431Z"
   },
   {
    "duration": 4,
    "start_time": "2022-11-19T07:26:22.983Z"
   },
   {
    "duration": 96,
    "start_time": "2022-11-19T07:28:50.022Z"
   },
   {
    "duration": 12,
    "start_time": "2022-11-19T07:28:53.572Z"
   },
   {
    "duration": 16,
    "start_time": "2022-11-19T07:29:28.860Z"
   },
   {
    "duration": 13,
    "start_time": "2022-11-19T07:30:19.195Z"
   },
   {
    "duration": 15,
    "start_time": "2022-11-19T07:30:46.402Z"
   },
   {
    "duration": 11,
    "start_time": "2022-11-19T07:43:57.672Z"
   },
   {
    "duration": 24,
    "start_time": "2022-11-19T07:44:03.266Z"
   },
   {
    "duration": 24,
    "start_time": "2022-11-19T07:44:15.502Z"
   },
   {
    "duration": 7,
    "start_time": "2022-11-19T07:44:34.578Z"
   },
   {
    "duration": 6,
    "start_time": "2022-11-19T07:44:52.328Z"
   },
   {
    "duration": 13,
    "start_time": "2022-11-19T07:45:19.685Z"
   },
   {
    "duration": 13,
    "start_time": "2022-11-19T07:45:23.719Z"
   },
   {
    "duration": 5,
    "start_time": "2022-11-19T08:10:10.555Z"
   },
   {
    "duration": 11,
    "start_time": "2022-11-19T08:11:06.862Z"
   },
   {
    "duration": 5,
    "start_time": "2022-11-19T08:11:24.810Z"
   },
   {
    "duration": 5,
    "start_time": "2022-11-19T08:11:28.613Z"
   },
   {
    "duration": 11,
    "start_time": "2022-11-19T08:11:47.216Z"
   },
   {
    "duration": 3,
    "start_time": "2022-11-19T08:18:13.947Z"
   },
   {
    "duration": 8,
    "start_time": "2022-11-19T08:19:03.045Z"
   },
   {
    "duration": 24,
    "start_time": "2022-11-19T08:19:17.326Z"
   },
   {
    "duration": 5,
    "start_time": "2022-11-19T08:27:26.179Z"
   },
   {
    "duration": 5,
    "start_time": "2022-11-19T08:28:15.213Z"
   },
   {
    "duration": 8,
    "start_time": "2022-11-19T08:28:30.184Z"
   },
   {
    "duration": 12,
    "start_time": "2022-11-19T08:29:02.146Z"
   },
   {
    "duration": 7,
    "start_time": "2022-11-19T08:29:11.110Z"
   },
   {
    "duration": 6,
    "start_time": "2022-11-19T08:31:38.804Z"
   },
   {
    "duration": 6,
    "start_time": "2022-11-19T08:31:57.778Z"
   },
   {
    "duration": 5,
    "start_time": "2022-11-19T08:32:05.151Z"
   },
   {
    "duration": 2,
    "start_time": "2022-11-19T08:33:03.509Z"
   },
   {
    "duration": 9,
    "start_time": "2022-11-19T08:34:44.939Z"
   },
   {
    "duration": 26,
    "start_time": "2022-11-19T08:34:53.304Z"
   },
   {
    "duration": 1522,
    "start_time": "2022-11-19T08:37:31.037Z"
   },
   {
    "duration": 3,
    "start_time": "2022-11-19T08:37:32.561Z"
   },
   {
    "duration": 70,
    "start_time": "2022-11-19T08:37:32.566Z"
   },
   {
    "duration": 6,
    "start_time": "2022-11-19T08:37:32.638Z"
   },
   {
    "duration": 973,
    "start_time": "2022-11-19T08:37:32.645Z"
   },
   {
    "duration": 5,
    "start_time": "2022-11-19T08:37:33.620Z"
   },
   {
    "duration": 51,
    "start_time": "2022-11-19T08:37:33.627Z"
   },
   {
    "duration": 15,
    "start_time": "2022-11-19T08:37:33.679Z"
   },
   {
    "duration": 19,
    "start_time": "2022-11-19T08:37:33.695Z"
   },
   {
    "duration": 7,
    "start_time": "2022-11-19T08:37:33.716Z"
   },
   {
    "duration": 25,
    "start_time": "2022-11-19T08:37:33.724Z"
   },
   {
    "duration": 37,
    "start_time": "2022-11-19T08:37:33.750Z"
   },
   {
    "duration": 39,
    "start_time": "2022-11-19T08:37:33.788Z"
   },
   {
    "duration": 4072,
    "start_time": "2022-11-19T08:37:33.828Z"
   },
   {
    "duration": 446,
    "start_time": "2022-11-19T08:37:37.903Z"
   },
   {
    "duration": 7,
    "start_time": "2022-11-19T08:37:38.350Z"
   },
   {
    "duration": 67,
    "start_time": "2022-11-19T08:37:38.359Z"
   },
   {
    "duration": 20,
    "start_time": "2022-11-19T08:37:38.427Z"
   },
   {
    "duration": 10,
    "start_time": "2022-11-19T08:37:38.448Z"
   },
   {
    "duration": 62,
    "start_time": "2022-11-19T08:37:38.460Z"
   },
   {
    "duration": 5,
    "start_time": "2022-11-19T08:37:38.523Z"
   },
   {
    "duration": 57,
    "start_time": "2022-11-19T08:37:38.530Z"
   },
   {
    "duration": 55,
    "start_time": "2022-11-19T08:37:38.588Z"
   },
   {
    "duration": 8,
    "start_time": "2022-11-19T08:37:38.645Z"
   },
   {
    "duration": 69,
    "start_time": "2022-11-19T08:37:38.655Z"
   },
   {
    "duration": 5,
    "start_time": "2022-11-19T08:37:38.726Z"
   },
   {
    "duration": 37,
    "start_time": "2022-11-19T08:37:38.733Z"
   },
   {
    "duration": 23,
    "start_time": "2022-11-19T08:37:38.773Z"
   },
   {
    "duration": 25,
    "start_time": "2022-11-19T08:37:38.798Z"
   },
   {
    "duration": 53,
    "start_time": "2022-11-19T08:37:38.825Z"
   },
   {
    "duration": 18,
    "start_time": "2022-11-19T08:37:38.880Z"
   },
   {
    "duration": 12,
    "start_time": "2022-11-19T08:37:38.900Z"
   },
   {
    "duration": 19,
    "start_time": "2022-11-19T08:37:38.914Z"
   },
   {
    "duration": 5,
    "start_time": "2022-11-19T08:37:38.934Z"
   },
   {
    "duration": 16,
    "start_time": "2022-11-19T08:37:38.941Z"
   },
   {
    "duration": 69,
    "start_time": "2022-11-19T08:37:38.958Z"
   },
   {
    "duration": 40,
    "start_time": "2022-11-19T08:37:39.029Z"
   },
   {
    "duration": 59,
    "start_time": "2022-11-19T08:37:39.071Z"
   },
   {
    "duration": 11,
    "start_time": "2022-11-19T08:37:39.131Z"
   },
   {
    "duration": 23,
    "start_time": "2022-11-19T08:37:39.144Z"
   },
   {
    "duration": 476,
    "start_time": "2022-11-19T08:37:39.169Z"
   },
   {
    "duration": 17,
    "start_time": "2022-11-19T08:37:39.646Z"
   },
   {
    "duration": 10,
    "start_time": "2022-11-19T08:37:39.664Z"
   },
   {
    "duration": 38,
    "start_time": "2022-11-19T08:37:39.676Z"
   },
   {
    "duration": 8,
    "start_time": "2022-11-19T08:37:39.716Z"
   },
   {
    "duration": 9,
    "start_time": "2022-11-19T08:37:39.726Z"
   },
   {
    "duration": 106,
    "start_time": "2022-11-19T08:37:39.737Z"
   },
   {
    "duration": 147,
    "start_time": "2022-11-19T08:37:39.845Z"
   },
   {
    "duration": 227,
    "start_time": "2022-11-19T08:37:39.994Z"
   },
   {
    "duration": 26,
    "start_time": "2022-11-19T08:37:40.223Z"
   },
   {
    "duration": 22,
    "start_time": "2022-11-19T08:37:40.251Z"
   },
   {
    "duration": 3266,
    "start_time": "2022-11-19T08:37:40.275Z"
   },
   {
    "duration": 11,
    "start_time": "2022-11-19T08:37:43.543Z"
   },
   {
    "duration": 82,
    "start_time": "2022-11-19T08:37:43.556Z"
   },
   {
    "duration": 48,
    "start_time": "2022-11-19T08:37:43.640Z"
   },
   {
    "duration": 2918,
    "start_time": "2022-11-19T08:37:43.690Z"
   },
   {
    "duration": 9,
    "start_time": "2022-11-19T08:38:28.073Z"
   },
   {
    "duration": 26,
    "start_time": "2022-11-19T08:38:37.674Z"
   },
   {
    "duration": 21,
    "start_time": "2022-11-19T10:39:27.699Z"
   },
   {
    "duration": 23,
    "start_time": "2022-11-19T10:40:53.481Z"
   },
   {
    "duration": 10,
    "start_time": "2022-11-19T10:41:21.584Z"
   },
   {
    "duration": 866,
    "start_time": "2022-11-19T10:42:56.885Z"
   },
   {
    "duration": 57,
    "start_time": "2022-11-19T11:48:21.056Z"
   },
   {
    "duration": 4,
    "start_time": "2022-11-19T11:48:45.800Z"
   },
   {
    "duration": 48,
    "start_time": "2022-11-19T11:48:54.399Z"
   },
   {
    "duration": 3,
    "start_time": "2022-11-19T11:49:03.291Z"
   },
   {
    "duration": 222,
    "start_time": "2022-11-19T11:50:40.923Z"
   },
   {
    "duration": 194,
    "start_time": "2022-11-19T11:51:07.724Z"
   },
   {
    "duration": 194,
    "start_time": "2022-11-19T11:51:40.179Z"
   },
   {
    "duration": 12,
    "start_time": "2022-11-19T11:54:02.281Z"
   },
   {
    "duration": 24,
    "start_time": "2022-11-19T11:54:16.240Z"
   },
   {
    "duration": 25,
    "start_time": "2022-11-19T11:55:03.601Z"
   },
   {
    "duration": 26,
    "start_time": "2022-11-19T11:55:19.042Z"
   },
   {
    "duration": 11,
    "start_time": "2022-11-19T11:55:36.800Z"
   },
   {
    "duration": 24,
    "start_time": "2022-11-19T11:56:13.652Z"
   },
   {
    "duration": 2,
    "start_time": "2022-11-19T11:56:28.976Z"
   },
   {
    "duration": 10,
    "start_time": "2022-11-19T11:57:04.494Z"
   },
   {
    "duration": 38,
    "start_time": "2022-11-19T11:57:35.942Z"
   },
   {
    "duration": 11,
    "start_time": "2022-11-19T12:01:33.777Z"
   },
   {
    "duration": 41,
    "start_time": "2022-11-19T12:02:09.376Z"
   },
   {
    "duration": 5,
    "start_time": "2022-11-19T12:02:33.283Z"
   },
   {
    "duration": 2,
    "start_time": "2022-11-19T12:26:21.798Z"
   }
  ],
  "kernelspec": {
   "display_name": "Python 3 (ipykernel)",
   "language": "python",
   "name": "python3"
  },
  "language_info": {
   "codemirror_mode": {
    "name": "ipython",
    "version": 3
   },
   "file_extension": ".py",
   "mimetype": "text/x-python",
   "name": "python",
   "nbconvert_exporter": "python",
   "pygments_lexer": "ipython3",
   "version": "3.9.12"
  },
  "toc": {
   "base_numbering": 1,
   "nav_menu": {
    "height": "190.98px",
    "width": "473.988px"
   },
   "number_sections": true,
   "sideBar": true,
   "skip_h1_title": true,
   "title_cell": "Содержание",
   "title_sidebar": "Contents",
   "toc_cell": true,
   "toc_position": {
    "height": "calc(100% - 180px)",
    "left": "10px",
    "top": "150px",
    "width": "277.23px"
   },
   "toc_section_display": true,
   "toc_window_display": true
  }
 },
 "nbformat": 4,
 "nbformat_minor": 2
}
