{
 "cells": [
  {
   "cell_type": "markdown",
   "metadata": {
    "toc": true
   },
   "source": [
    "<h1>Содержание<span class=\"tocSkip\"></span></h1>\n",
    "<div class=\"toc\"><ul class=\"toc-item\"><li><span><a href=\"#Описание-проекта\" data-toc-modified-id=\"Описание-проекта-1\"><span class=\"toc-item-num\">1&nbsp;&nbsp;</span>Описание проекта</a></span></li><li><span><a href=\"#Данные\" data-toc-modified-id=\"Данные-2\"><span class=\"toc-item-num\">2&nbsp;&nbsp;</span>Данные</a></span><ul class=\"toc-item\"><li><span><a href=\"#Подключение-к-базе-данных.-Загрузка-датасета\" data-toc-modified-id=\"Подключение-к-базе-данных.-Загрузка-датасета-2.1\"><span class=\"toc-item-num\">2.1&nbsp;&nbsp;</span>Подключение к базе данных. Загрузка датасета</a></span></li><li><span><a href=\"#Обзор-датасета\" data-toc-modified-id=\"Обзор-датасета-2.2\"><span class=\"toc-item-num\">2.2&nbsp;&nbsp;</span>Обзор датасета</a></span></li></ul></li><li><span><a href=\"#Выгрузка-данных\" data-toc-modified-id=\"Выгрузка-данных-3\"><span class=\"toc-item-num\">3&nbsp;&nbsp;</span>Выгрузка данных</a></span></li><li><span><a href=\"#Результат-работы\" data-toc-modified-id=\"Результат-работы-4\"><span class=\"toc-item-num\">4&nbsp;&nbsp;</span>Результат работы</a></span></li></ul></div>"
   ]
  },
  {
   "cell_type": "markdown",
   "metadata": {},
   "source": [
    "# Анализ взаимодействия пользователей с карточками Яндекс.Дзен"
   ]
  },
  {
   "cell_type": "markdown",
   "metadata": {},
   "source": [
    "## Описание проекта"
   ]
  },
  {
   "cell_type": "markdown",
   "metadata": {},
   "source": [
    "1. Бизнес-задача: анализ взаимодействия пользователей с карточками Яндекс.Дзен;\n",
    "2. Предполагаемая чатсота пользования дашбордом: не реже, чем раз в неделю;\n",
    "3. Оновные пользователи дашборда: менеджеры по анализу контента;\n",
    "4. Состав данных для дашборда:\n",
    "   - История событий по темам карточек (два графика - абсолютные числа и процентное соотношение);\n",
    "   - Разбивка событий по темам источников;\n",
    "   - Таблица соответствия тем источников темам карточек;\n",
    "5. По каким параметрам данные должны группироваться:\n",
    "   - Дата и время;\n",
    "   - Тема карточки;\n",
    "   - Тема источника;\n",
    "   - Возрастная группа;\n",
    "   - Характер данных:\n",
    "6. История событий по темам карточек — абсолютные величины с разбивкой по минутам;\n",
    "7. Разбивка событий по темам источников — относительные величины (% событий);\n",
    "8. Соответствия тем источников темам карточек - абсолютные величины;\n",
    "9. Важность: все графики имеют равную важность;\n",
    "10. Источники данных для дашборда: дата-инженеры обещали подготовить для вас агрегирующую таблицу dash_visits. Вот её структура:\n",
    "    - record_id — первичный ключ,\n",
    "    - item_topic — тема карточки,\n",
    "    - source_topic — тема источника,\n",
    "    - age_segment — возрастной сегмент,\n",
    "    - dt — дата и время,\n",
    "    - visits — количество событий.\n",
    "11. Таблица хранится в специально подготовленной для вас базе данных zen;\n",
    "12. Частота обновления данных: один раз в сутки, в полночь по UTC; "
   ]
  },
  {
   "cell_type": "markdown",
   "metadata": {},
   "source": [
    " "
   ]
  },
  {
   "cell_type": "markdown",
   "metadata": {},
   "source": [
    "## Данные"
   ]
  },
  {
   "cell_type": "markdown",
   "metadata": {},
   "source": [
    " ### Подключение к базе данных. Загрузка датасета"
   ]
  },
  {
   "cell_type": "code",
   "execution_count": null,
   "metadata": {},
   "outputs": [],
   "source": [
    "pip install psycopg2-binary "
   ]
  },
  {
   "cell_type": "code",
   "execution_count": 1,
   "metadata": {},
   "outputs": [],
   "source": [
    "# импортируем библиотеки\n",
    "import pandas as pd\n",
    "from sqlalchemy import create_engine\n",
    "import matplotlib.pyplot as plt  # Библиотека для визуализации\n"
   ]
  },
  {
   "cell_type": "code",
   "execution_count": 2,
   "metadata": {},
   "outputs": [],
   "source": [
    "# подготовка данных для подключения к базе данных\n",
    "db_config = {'user': 'praktikum_student', # имя пользователя\n",
    "            'pwd': 'Sdf4$2;d-d30pp', # пароль\n",
    "            'host': 'rc1b-wcoijxj3yxfsf3fs.mdb.yandexcloud.net',\n",
    "            'port': 6432, # порт подключения\n",
    "            'db': 'data-analyst-zen-project-db'} # название базы данных\n",
    "\n",
    "connection_string = 'postgresql://{}:{}@{}:{}/{}'.format(db_config['user'],\n",
    "                                                db_config['pwd'],\n",
    "                                                db_config['host'],\n",
    "                                                db_config['port'],\n",
    "                                                db_config['db'])\n",
    "\n",
    "engine = create_engine(connection_string)"
   ]
  },
  {
   "cell_type": "code",
   "execution_count": 3,
   "metadata": {},
   "outputs": [],
   "source": [
    "# SQL запрос к базе данных\n",
    "query = '''\n",
    "            SELECT * \n",
    "            FROM dash_visits\n",
    "        '''"
   ]
  },
  {
   "cell_type": "code",
   "execution_count": 4,
   "metadata": {},
   "outputs": [],
   "source": [
    "# выгрузка данных из базы\n",
    "data  =  pd.io.sql.read_sql(query, con = engine)"
   ]
  },
  {
   "cell_type": "markdown",
   "metadata": {},
   "source": [
    " "
   ]
  },
  {
   "cell_type": "markdown",
   "metadata": {},
   "source": [
    "### Обзор датасета"
   ]
  },
  {
   "cell_type": "code",
   "execution_count": 5,
   "metadata": {},
   "outputs": [],
   "source": [
    " # Функция первичного обзора данных.\n",
    "\n",
    "def meet_dataset (dataset):\n",
    "    #print('Первые 5 строк датасета')\n",
    "    #print(dataset.head())\n",
    "    #print('\\n','\\n')\n",
    "    \n",
    "    print('Общая информация о датасете')\n",
    "    display(dataset.info())\n",
    "    print()\n",
    "    \n",
    "    print('Общие статистические данные')\n",
    "    display(dataset.describe())\n",
    "    print('\\n')\n",
    "          \n",
    "    print('Общие гистограммы для  столбцов датасета')\n",
    "    dataset.hist (figsize=(15,10))\n",
    "    plt.show()  \n",
    "    print('\\n','\\n')\n",
    "        \n",
    "    \n",
    "    print ('Количество дубликатов -', dataset.duplicated().sum()) \n",
    "    print ('Доля дубликатов в датасете, %:', round( 100*dataset.duplicated().sum()/dataset.shape[0], 2))\n",
    "    print()\n",
    "    \n",
    "    #print ('Количество пропусков -', dataset.isna().sum(),'\\n','\\n') \n",
    "       \n",
    "    #количество пропусков по столбцам\n",
    "    data_gap= pd.DataFrame(dataset.isna().sum()).reset_index(drop=False)\n",
    "    # обозначение имени столбца\n",
    "    data_gap.columns=['Столбец','Количество пропусков']\n",
    "    # относительное количество пропусков по столбцам в %\n",
    "    data_gap['Количество пропусков в %'] = round(data_gap['Количество пропусков']/ len(dataset) * 100, 2)\n",
    "    #display (data_gap.style.background_gradient('coolwarm'))\n",
    "    display (data_gap.style.background_gradient())\n",
    "\n",
    "    print() \n",
    "    \n",
    "    #Приведение названий столбцов к нижнему регистру\n",
    "    #dataset.columns = [x.lower().replace(' ', '_') for x in dataset.columns.values]\n",
    "    \n",
    "    print ('Датасет:','\\n')\n",
    "    \n",
    "    return display(dataset.head())"
   ]
  },
  {
   "cell_type": "markdown",
   "metadata": {},
   "source": [
    "  "
   ]
  },
  {
   "cell_type": "code",
   "execution_count": 6,
   "metadata": {
    "scrolled": false
   },
   "outputs": [
    {
     "name": "stdout",
     "output_type": "stream",
     "text": [
      "Общая информация о датасете\n",
      "<class 'pandas.core.frame.DataFrame'>\n",
      "RangeIndex: 30745 entries, 0 to 30744\n",
      "Data columns (total 6 columns):\n",
      " #   Column        Non-Null Count  Dtype         \n",
      "---  ------        --------------  -----         \n",
      " 0   record_id     30745 non-null  int64         \n",
      " 1   item_topic    30745 non-null  object        \n",
      " 2   source_topic  30745 non-null  object        \n",
      " 3   age_segment   30745 non-null  object        \n",
      " 4   dt            30745 non-null  datetime64[ns]\n",
      " 5   visits        30745 non-null  int64         \n",
      "dtypes: datetime64[ns](1), int64(2), object(3)\n",
      "memory usage: 1.4+ MB\n"
     ]
    },
    {
     "data": {
      "text/plain": [
       "None"
      ]
     },
     "metadata": {},
     "output_type": "display_data"
    },
    {
     "name": "stdout",
     "output_type": "stream",
     "text": [
      "\n",
      "Общие статистические данные\n"
     ]
    },
    {
     "data": {
      "text/html": [
       "<div>\n",
       "<style scoped>\n",
       "    .dataframe tbody tr th:only-of-type {\n",
       "        vertical-align: middle;\n",
       "    }\n",
       "\n",
       "    .dataframe tbody tr th {\n",
       "        vertical-align: top;\n",
       "    }\n",
       "\n",
       "    .dataframe thead th {\n",
       "        text-align: right;\n",
       "    }\n",
       "</style>\n",
       "<table border=\"1\" class=\"dataframe\">\n",
       "  <thead>\n",
       "    <tr style=\"text-align: right;\">\n",
       "      <th></th>\n",
       "      <th>record_id</th>\n",
       "      <th>visits</th>\n",
       "    </tr>\n",
       "  </thead>\n",
       "  <tbody>\n",
       "    <tr>\n",
       "      <th>count</th>\n",
       "      <td>3.074500e+04</td>\n",
       "      <td>30745.000000</td>\n",
       "    </tr>\n",
       "    <tr>\n",
       "      <th>mean</th>\n",
       "      <td>1.055969e+06</td>\n",
       "      <td>10.089673</td>\n",
       "    </tr>\n",
       "    <tr>\n",
       "      <th>std</th>\n",
       "      <td>8.875461e+03</td>\n",
       "      <td>19.727601</td>\n",
       "    </tr>\n",
       "    <tr>\n",
       "      <th>min</th>\n",
       "      <td>1.040597e+06</td>\n",
       "      <td>1.000000</td>\n",
       "    </tr>\n",
       "    <tr>\n",
       "      <th>25%</th>\n",
       "      <td>1.048283e+06</td>\n",
       "      <td>1.000000</td>\n",
       "    </tr>\n",
       "    <tr>\n",
       "      <th>50%</th>\n",
       "      <td>1.055969e+06</td>\n",
       "      <td>3.000000</td>\n",
       "    </tr>\n",
       "    <tr>\n",
       "      <th>75%</th>\n",
       "      <td>1.063655e+06</td>\n",
       "      <td>10.000000</td>\n",
       "    </tr>\n",
       "    <tr>\n",
       "      <th>max</th>\n",
       "      <td>1.071341e+06</td>\n",
       "      <td>371.000000</td>\n",
       "    </tr>\n",
       "  </tbody>\n",
       "</table>\n",
       "</div>"
      ],
      "text/plain": [
       "          record_id        visits\n",
       "count  3.074500e+04  30745.000000\n",
       "mean   1.055969e+06     10.089673\n",
       "std    8.875461e+03     19.727601\n",
       "min    1.040597e+06      1.000000\n",
       "25%    1.048283e+06      1.000000\n",
       "50%    1.055969e+06      3.000000\n",
       "75%    1.063655e+06     10.000000\n",
       "max    1.071341e+06    371.000000"
      ]
     },
     "metadata": {},
     "output_type": "display_data"
    },
    {
     "name": "stdout",
     "output_type": "stream",
     "text": [
      "\n",
      "\n",
      "Общие гистограммы для  столбцов датасета\n"
     ]
    },
    {
     "data": {
      "image/png": "[encoded data removed]",
      "text/plain": [
       "<Figure size 1080x720 with 4 Axes>"
      ]
     },
     "metadata": {
      "needs_background": "light"
     },
     "output_type": "display_data"
    },
    {
     "name": "stdout",
     "output_type": "stream",
     "text": [
      "\n",
      " \n",
      "\n",
      "Количество дубликатов - 0\n",
      "Доля дубликатов в датасете, %: 0.0\n",
      "\n"
     ]
    },
    {
     "data": {
      "text/html": [
       "<style type=\"text/css\">\n",
       "#T_4fe98_row0_col1, #T_4fe98_row0_col2, #T_4fe98_row1_col1, #T_4fe98_row1_col2, #T_4fe98_row2_col1, #T_4fe98_row2_col2, #T_4fe98_row3_col1, #T_4fe98_row3_col2, #T_4fe98_row4_col1, #T_4fe98_row4_col2, #T_4fe98_row5_col1, #T_4fe98_row5_col2 {\n",
       "  background-color: #fff7fb;\n",
       "  color: #000000;\n",
       "}\n",
       "</style>\n",
       "<table id=\"T_4fe98\">\n",
       "  <thead>\n",
       "    <tr>\n",
       "      <th class=\"blank level0\" >&nbsp;</th>\n",
       "      <th id=\"T_4fe98_level0_col0\" class=\"col_heading level0 col0\" >Столбец</th>\n",
       "      <th id=\"T_4fe98_level0_col1\" class=\"col_heading level0 col1\" >Количество пропусков</th>\n",
       "      <th id=\"T_4fe98_level0_col2\" class=\"col_heading level0 col2\" >Количество пропусков в %</th>\n",
       "    </tr>\n",
       "  </thead>\n",
       "  <tbody>\n",
       "    <tr>\n",
       "      <th id=\"T_4fe98_level0_row0\" class=\"row_heading level0 row0\" >0</th>\n",
       "      <td id=\"T_4fe98_row0_col0\" class=\"data row0 col0\" >record_id</td>\n",
       "      <td id=\"T_4fe98_row0_col1\" class=\"data row0 col1\" >0</td>\n",
       "      <td id=\"T_4fe98_row0_col2\" class=\"data row0 col2\" >0.000000</td>\n",
       "    </tr>\n",
       "    <tr>\n",
       "      <th id=\"T_4fe98_level0_row1\" class=\"row_heading level0 row1\" >1</th>\n",
       "      <td id=\"T_4fe98_row1_col0\" class=\"data row1 col0\" >item_topic</td>\n",
       "      <td id=\"T_4fe98_row1_col1\" class=\"data row1 col1\" >0</td>\n",
       "      <td id=\"T_4fe98_row1_col2\" class=\"data row1 col2\" >0.000000</td>\n",
       "    </tr>\n",
       "    <tr>\n",
       "      <th id=\"T_4fe98_level0_row2\" class=\"row_heading level0 row2\" >2</th>\n",
       "      <td id=\"T_4fe98_row2_col0\" class=\"data row2 col0\" >source_topic</td>\n",
       "      <td id=\"T_4fe98_row2_col1\" class=\"data row2 col1\" >0</td>\n",
       "      <td id=\"T_4fe98_row2_col2\" class=\"data row2 col2\" >0.000000</td>\n",
       "    </tr>\n",
       "    <tr>\n",
       "      <th id=\"T_4fe98_level0_row3\" class=\"row_heading level0 row3\" >3</th>\n",
       "      <td id=\"T_4fe98_row3_col0\" class=\"data row3 col0\" >age_segment</td>\n",
       "      <td id=\"T_4fe98_row3_col1\" class=\"data row3 col1\" >0</td>\n",
       "      <td id=\"T_4fe98_row3_col2\" class=\"data row3 col2\" >0.000000</td>\n",
       "    </tr>\n",
       "    <tr>\n",
       "      <th id=\"T_4fe98_level0_row4\" class=\"row_heading level0 row4\" >4</th>\n",
       "      <td id=\"T_4fe98_row4_col0\" class=\"data row4 col0\" >dt</td>\n",
       "      <td id=\"T_4fe98_row4_col1\" class=\"data row4 col1\" >0</td>\n",
       "      <td id=\"T_4fe98_row4_col2\" class=\"data row4 col2\" >0.000000</td>\n",
       "    </tr>\n",
       "    <tr>\n",
       "      <th id=\"T_4fe98_level0_row5\" class=\"row_heading level0 row5\" >5</th>\n",
       "      <td id=\"T_4fe98_row5_col0\" class=\"data row5 col0\" >visits</td>\n",
       "      <td id=\"T_4fe98_row5_col1\" class=\"data row5 col1\" >0</td>\n",
       "      <td id=\"T_4fe98_row5_col2\" class=\"data row5 col2\" >0.000000</td>\n",
       "    </tr>\n",
       "  </tbody>\n",
       "</table>\n"
      ],
      "text/plain": [
       "<pandas.io.formats.style.Styler at 0x1b00a496c40>"
      ]
     },
     "metadata": {},
     "output_type": "display_data"
    },
    {
     "name": "stdout",
     "output_type": "stream",
     "text": [
      "\n",
      "Датасет: \n",
      "\n"
     ]
    },
    {
     "data": {
      "text/html": [
       "<div>\n",
       "<style scoped>\n",
       "    .dataframe tbody tr th:only-of-type {\n",
       "        vertical-align: middle;\n",
       "    }\n",
       "\n",
       "    .dataframe tbody tr th {\n",
       "        vertical-align: top;\n",
       "    }\n",
       "\n",
       "    .dataframe thead th {\n",
       "        text-align: right;\n",
       "    }\n",
       "</style>\n",
       "<table border=\"1\" class=\"dataframe\">\n",
       "  <thead>\n",
       "    <tr style=\"text-align: right;\">\n",
       "      <th></th>\n",
       "      <th>record_id</th>\n",
       "      <th>item_topic</th>\n",
       "      <th>source_topic</th>\n",
       "      <th>age_segment</th>\n",
       "      <th>dt</th>\n",
       "      <th>visits</th>\n",
       "    </tr>\n",
       "  </thead>\n",
       "  <tbody>\n",
       "    <tr>\n",
       "      <th>0</th>\n",
       "      <td>1040597</td>\n",
       "      <td>Деньги</td>\n",
       "      <td>Авто</td>\n",
       "      <td>18-25</td>\n",
       "      <td>2019-09-24 18:32:00</td>\n",
       "      <td>3</td>\n",
       "    </tr>\n",
       "    <tr>\n",
       "      <th>1</th>\n",
       "      <td>1040598</td>\n",
       "      <td>Деньги</td>\n",
       "      <td>Авто</td>\n",
       "      <td>18-25</td>\n",
       "      <td>2019-09-24 18:35:00</td>\n",
       "      <td>1</td>\n",
       "    </tr>\n",
       "    <tr>\n",
       "      <th>2</th>\n",
       "      <td>1040599</td>\n",
       "      <td>Деньги</td>\n",
       "      <td>Авто</td>\n",
       "      <td>18-25</td>\n",
       "      <td>2019-09-24 18:54:00</td>\n",
       "      <td>4</td>\n",
       "    </tr>\n",
       "    <tr>\n",
       "      <th>3</th>\n",
       "      <td>1040600</td>\n",
       "      <td>Деньги</td>\n",
       "      <td>Авто</td>\n",
       "      <td>18-25</td>\n",
       "      <td>2019-09-24 18:55:00</td>\n",
       "      <td>17</td>\n",
       "    </tr>\n",
       "    <tr>\n",
       "      <th>4</th>\n",
       "      <td>1040601</td>\n",
       "      <td>Деньги</td>\n",
       "      <td>Авто</td>\n",
       "      <td>18-25</td>\n",
       "      <td>2019-09-24 18:56:00</td>\n",
       "      <td>27</td>\n",
       "    </tr>\n",
       "  </tbody>\n",
       "</table>\n",
       "</div>"
      ],
      "text/plain": [
       "   record_id item_topic source_topic age_segment                  dt  visits\n",
       "0    1040597     Деньги         Авто       18-25 2019-09-24 18:32:00       3\n",
       "1    1040598     Деньги         Авто       18-25 2019-09-24 18:35:00       1\n",
       "2    1040599     Деньги         Авто       18-25 2019-09-24 18:54:00       4\n",
       "3    1040600     Деньги         Авто       18-25 2019-09-24 18:55:00      17\n",
       "4    1040601     Деньги         Авто       18-25 2019-09-24 18:56:00      27"
      ]
     },
     "metadata": {},
     "output_type": "display_data"
    }
   ],
   "source": [
    "meet_dataset(data)"
   ]
  },
  {
   "cell_type": "markdown",
   "metadata": {},
   "source": [
    " "
   ]
  },
  {
   "cell_type": "markdown",
   "metadata": {},
   "source": [
    " "
   ]
  },
  {
   "cell_type": "markdown",
   "metadata": {},
   "source": [
    "## Выгрузка данных"
   ]
  },
  {
   "cell_type": "code",
   "execution_count": 7,
   "metadata": {},
   "outputs": [],
   "source": [
    "data.to_csv('dash_visits.csv', index=False)"
   ]
  },
  {
   "cell_type": "markdown",
   "metadata": {},
   "source": [
    " "
   ]
  },
  {
   "cell_type": "markdown",
   "metadata": {},
   "source": [
    "## Результат работы"
   ]
  },
  {
   "cell_type": "markdown",
   "metadata": {},
   "source": [
    "- Дашборд сформирован на основании ТЗ и макета. Дашборд доступен по ссылке <https://public.tableau.com/app/profile/maxim.rakovets/viz/Project_12_16706059867540/Dashboard1?publish=yes>.\n",
    "- Настоящая презентация в Google Docs доступна по ссылке  <https://docs.google.com/presentation/d/15A4ybBwH_0mMt1j9Ma8Cp_Hy19SGgZkjt_c6X7LBSn8/edit#slide=id.gc6f73a04f_0_0>.\n",
    "- Настоящая презентация в PDF доступна по ссылке  <https://drive.google.com/file/d/1JFjWGmFlxOmeQ3l-KKem2Eb5J7ocYdVX/view?usp=sharing> "
   ]
  }
 ],
 "metadata": {
  "ExecuteTimeLog": [
   {
    "duration": 1253,
    "start_time": "2022-11-17T12:17:27.123Z"
   },
   {
    "duration": 106,
    "start_time": "2022-11-17T12:18:09.879Z"
   },
   {
    "duration": 6,
    "start_time": "2022-11-17T12:18:50.520Z"
   },
   {
    "duration": 107,
    "start_time": "2022-11-17T12:19:34.700Z"
   },
   {
    "duration": 809,
    "start_time": "2022-11-17T12:20:30.232Z"
   },
   {
    "duration": 6,
    "start_time": "2022-11-17T12:22:14.386Z"
   },
   {
    "duration": 782,
    "start_time": "2022-11-17T12:22:16.533Z"
   },
   {
    "duration": 5,
    "start_time": "2022-11-17T12:24:02.017Z"
   },
   {
    "duration": 676,
    "start_time": "2022-11-17T12:24:05.094Z"
   },
   {
    "duration": 6,
    "start_time": "2022-11-17T12:24:34.444Z"
   },
   {
    "duration": 852,
    "start_time": "2022-11-17T12:24:36.850Z"
   },
   {
    "duration": 6,
    "start_time": "2022-11-17T12:25:14.641Z"
   },
   {
    "duration": 848,
    "start_time": "2022-11-17T12:25:16.444Z"
   },
   {
    "duration": 5,
    "start_time": "2022-11-17T12:39:26.322Z"
   },
   {
    "duration": 765,
    "start_time": "2022-11-17T12:39:28.418Z"
   },
   {
    "duration": 5,
    "start_time": "2022-11-17T12:40:45.040Z"
   },
   {
    "duration": 784,
    "start_time": "2022-11-17T12:40:45.842Z"
   },
   {
    "duration": 5,
    "start_time": "2022-11-17T12:40:59.042Z"
   },
   {
    "duration": 863,
    "start_time": "2022-11-17T12:41:02.734Z"
   },
   {
    "duration": 6,
    "start_time": "2022-11-17T12:42:05.284Z"
   },
   {
    "duration": 1100,
    "start_time": "2022-11-17T12:42:09.231Z"
   },
   {
    "duration": 6,
    "start_time": "2022-11-17T12:42:32.525Z"
   },
   {
    "duration": 6,
    "start_time": "2022-11-17T12:42:34.403Z"
   },
   {
    "duration": 782,
    "start_time": "2022-11-17T12:42:36.602Z"
   },
   {
    "duration": 191,
    "start_time": "2022-11-17T13:02:43.524Z"
   },
   {
    "duration": 10,
    "start_time": "2022-11-17T14:24:18.994Z"
   },
   {
    "duration": 90,
    "start_time": "2022-11-17T14:24:54.016Z"
   },
   {
    "duration": 17,
    "start_time": "2022-11-17T14:26:03.193Z"
   },
   {
    "duration": 70,
    "start_time": "2022-11-17T14:26:17.945Z"
   },
   {
    "duration": 15,
    "start_time": "2022-11-17T14:26:23.830Z"
   },
   {
    "duration": 18,
    "start_time": "2022-11-17T14:26:35.862Z"
   },
   {
    "duration": 113,
    "start_time": "2022-11-17T14:26:40.360Z"
   },
   {
    "duration": 68,
    "start_time": "2022-11-17T14:26:49.482Z"
   },
   {
    "duration": 13,
    "start_time": "2022-11-17T14:26:59.504Z"
   },
   {
    "duration": 6,
    "start_time": "2022-11-17T18:43:06.876Z"
   },
   {
    "duration": 800,
    "start_time": "2022-11-17T18:43:10.082Z"
   },
   {
    "duration": 57,
    "start_time": "2022-11-18T03:39:47.928Z"
   },
   {
    "duration": 1401,
    "start_time": "2022-11-18T03:39:59.128Z"
   },
   {
    "duration": 251,
    "start_time": "2022-11-18T03:40:00.531Z"
   },
   {
    "duration": 1286,
    "start_time": "2022-11-18T03:40:13.724Z"
   },
   {
    "duration": 64,
    "start_time": "2022-11-18T03:40:16.232Z"
   },
   {
    "duration": 6,
    "start_time": "2022-11-18T03:40:17.644Z"
   },
   {
    "duration": 900,
    "start_time": "2022-11-18T03:40:19.765Z"
   },
   {
    "duration": 6,
    "start_time": "2022-11-18T03:40:26.484Z"
   },
   {
    "duration": 6,
    "start_time": "2022-11-18T03:40:44.796Z"
   },
   {
    "duration": 5,
    "start_time": "2022-11-18T03:40:48.124Z"
   },
   {
    "duration": 6,
    "start_time": "2022-11-18T04:09:16.554Z"
   },
   {
    "duration": 1231,
    "start_time": "2022-11-18T04:09:19.445Z"
   },
   {
    "duration": 6,
    "start_time": "2022-11-18T04:11:04.184Z"
   },
   {
    "duration": 989,
    "start_time": "2022-11-18T04:11:05.839Z"
   },
   {
    "duration": 26,
    "start_time": "2022-11-18T04:19:01.674Z"
   },
   {
    "duration": 25,
    "start_time": "2022-11-18T04:19:09.430Z"
   },
   {
    "duration": 6,
    "start_time": "2022-11-18T04:19:22.735Z"
   },
   {
    "duration": 1063,
    "start_time": "2022-11-18T04:19:27.615Z"
   },
   {
    "duration": 5,
    "start_time": "2022-11-18T04:19:51.864Z"
   },
   {
    "duration": 47,
    "start_time": "2022-11-18T04:20:26.024Z"
   },
   {
    "duration": 21,
    "start_time": "2022-11-18T04:21:14.433Z"
   },
   {
    "duration": 41,
    "start_time": "2022-11-18T04:24:06.934Z"
   },
   {
    "duration": 14,
    "start_time": "2022-11-18T04:24:55.155Z"
   },
   {
    "duration": 16,
    "start_time": "2022-11-18T04:25:18.515Z"
   },
   {
    "duration": 53,
    "start_time": "2022-11-18T04:27:24.935Z"
   },
   {
    "duration": 116,
    "start_time": "2022-11-18T04:27:51.976Z"
   },
   {
    "duration": 2537,
    "start_time": "2022-11-18T04:29:11.793Z"
   },
   {
    "duration": 3,
    "start_time": "2022-11-18T04:34:42.093Z"
   },
   {
    "duration": 4,
    "start_time": "2022-11-18T04:34:44.354Z"
   },
   {
    "duration": 939,
    "start_time": "2022-11-18T04:34:49.206Z"
   },
   {
    "duration": 3,
    "start_time": "2022-11-18T04:35:23.506Z"
   },
   {
    "duration": 998,
    "start_time": "2022-11-18T04:35:27.234Z"
   },
   {
    "duration": 4,
    "start_time": "2022-11-18T04:35:48.553Z"
   },
   {
    "duration": 1030,
    "start_time": "2022-11-18T04:35:51.849Z"
   },
   {
    "duration": 26,
    "start_time": "2022-11-18T04:40:46.152Z"
   },
   {
    "duration": 6,
    "start_time": "2022-11-18T04:41:34.575Z"
   },
   {
    "duration": 915,
    "start_time": "2022-11-18T04:41:36.514Z"
   },
   {
    "duration": 7,
    "start_time": "2022-11-18T04:43:22.055Z"
   },
   {
    "duration": 1022,
    "start_time": "2022-11-18T04:43:24.154Z"
   },
   {
    "duration": 23,
    "start_time": "2022-11-18T04:43:48.834Z"
   },
   {
    "duration": 2394,
    "start_time": "2022-11-18T04:44:10.793Z"
   },
   {
    "duration": 2684,
    "start_time": "2022-11-18T04:44:20.874Z"
   },
   {
    "duration": 11,
    "start_time": "2022-11-18T04:45:59.433Z"
   },
   {
    "duration": 3,
    "start_time": "2022-11-18T04:49:01.749Z"
   },
   {
    "duration": 3,
    "start_time": "2022-11-18T04:49:07.093Z"
   },
   {
    "duration": 2517,
    "start_time": "2022-11-18T04:49:51.151Z"
   },
   {
    "duration": 2654,
    "start_time": "2022-11-18T04:52:54.254Z"
   },
   {
    "duration": 2410,
    "start_time": "2022-11-18T04:53:10.776Z"
   },
   {
    "duration": 2362,
    "start_time": "2022-11-18T04:54:11.314Z"
   },
   {
    "duration": 2478,
    "start_time": "2022-11-18T04:55:19.393Z"
   },
   {
    "duration": 17,
    "start_time": "2022-11-18T04:57:10.174Z"
   },
   {
    "duration": 2617,
    "start_time": "2022-11-18T04:57:16.813Z"
   },
   {
    "duration": 2468,
    "start_time": "2022-11-18T04:57:59.673Z"
   },
   {
    "duration": 3482,
    "start_time": "2022-11-18T06:04:45.384Z"
   },
   {
    "duration": 90,
    "start_time": "2022-11-18T06:07:29.480Z"
   },
   {
    "duration": 73,
    "start_time": "2022-11-18T06:09:31.652Z"
   },
   {
    "duration": 1058,
    "start_time": "2022-11-18T06:10:06.467Z"
   },
   {
    "duration": 10,
    "start_time": "2022-11-18T06:11:55.832Z"
   },
   {
    "duration": 6,
    "start_time": "2022-11-18T06:12:14.600Z"
   },
   {
    "duration": 3455,
    "start_time": "2022-11-18T06:12:16.082Z"
   },
   {
    "duration": 3144,
    "start_time": "2022-11-18T06:12:27.592Z"
   },
   {
    "duration": 13,
    "start_time": "2022-11-18T06:14:29.612Z"
   },
   {
    "duration": 15,
    "start_time": "2022-11-18T06:15:04.033Z"
   },
   {
    "duration": 16,
    "start_time": "2022-11-18T06:17:53.912Z"
   },
   {
    "duration": 12,
    "start_time": "2022-11-18T06:18:03.452Z"
   },
   {
    "duration": 13,
    "start_time": "2022-11-18T06:19:22.772Z"
   },
   {
    "duration": 7,
    "start_time": "2022-11-18T06:19:30.152Z"
   },
   {
    "duration": 5,
    "start_time": "2022-11-18T06:19:36.873Z"
   },
   {
    "duration": 3276,
    "start_time": "2022-11-18T06:19:38.982Z"
   },
   {
    "duration": 13,
    "start_time": "2022-11-18T06:20:58.919Z"
   },
   {
    "duration": 6,
    "start_time": "2022-11-18T06:23:18.786Z"
   },
   {
    "duration": 3547,
    "start_time": "2022-11-18T06:23:23.232Z"
   },
   {
    "duration": 24,
    "start_time": "2022-11-18T06:23:36.952Z"
   },
   {
    "duration": 6,
    "start_time": "2022-11-18T06:24:10.196Z"
   },
   {
    "duration": 3157,
    "start_time": "2022-11-18T06:24:12.478Z"
   },
   {
    "duration": 1039,
    "start_time": "2022-11-18T06:25:02.912Z"
   },
   {
    "duration": 9,
    "start_time": "2022-11-18T06:28:13.992Z"
   },
   {
    "duration": 3350,
    "start_time": "2022-11-18T06:28:17.506Z"
   },
   {
    "duration": 880,
    "start_time": "2022-11-18T06:28:20.859Z"
   },
   {
    "duration": 9,
    "start_time": "2022-11-18T06:29:36.853Z"
   },
   {
    "duration": 3198,
    "start_time": "2022-11-18T06:29:38.404Z"
   },
   {
    "duration": 675,
    "start_time": "2022-11-18T06:30:40.932Z"
   },
   {
    "duration": 825,
    "start_time": "2022-11-18T06:31:09.356Z"
   },
   {
    "duration": 8,
    "start_time": "2022-11-18T06:40:31.792Z"
   },
   {
    "duration": 71,
    "start_time": "2022-11-18T06:40:32.925Z"
   },
   {
    "duration": 13,
    "start_time": "2022-11-18T06:41:01.512Z"
   },
   {
    "duration": 3485,
    "start_time": "2022-11-18T06:41:03.072Z"
   },
   {
    "duration": 977,
    "start_time": "2022-11-18T06:41:15.544Z"
   },
   {
    "duration": 17,
    "start_time": "2022-11-18T06:48:24.272Z"
   },
   {
    "duration": 16,
    "start_time": "2022-11-18T06:48:42.010Z"
   },
   {
    "duration": 9,
    "start_time": "2022-11-18T06:48:56.951Z"
   },
   {
    "duration": 27,
    "start_time": "2022-11-18T06:49:06.893Z"
   },
   {
    "duration": 18,
    "start_time": "2022-11-18T06:49:19.525Z"
   },
   {
    "duration": 27,
    "start_time": "2022-11-18T06:49:38.201Z"
   },
   {
    "duration": 18,
    "start_time": "2022-11-18T06:50:04.192Z"
   },
   {
    "duration": 24,
    "start_time": "2022-11-18T06:50:13.035Z"
   },
   {
    "duration": 13,
    "start_time": "2022-11-18T06:51:44.626Z"
   },
   {
    "duration": 9,
    "start_time": "2022-11-18T06:51:46.692Z"
   },
   {
    "duration": 12,
    "start_time": "2022-11-18T06:53:09.992Z"
   },
   {
    "duration": 46,
    "start_time": "2022-11-18T06:55:56.333Z"
   },
   {
    "duration": 12,
    "start_time": "2022-11-18T06:56:40.112Z"
   },
   {
    "duration": 12,
    "start_time": "2022-11-18T06:56:49.092Z"
   },
   {
    "duration": 10,
    "start_time": "2022-11-18T07:17:52.246Z"
   },
   {
    "duration": 67,
    "start_time": "2022-11-18T07:20:47.589Z"
   },
   {
    "duration": 13,
    "start_time": "2022-11-18T07:22:27.711Z"
   },
   {
    "duration": 18,
    "start_time": "2022-11-18T07:39:49.929Z"
   },
   {
    "duration": 22,
    "start_time": "2022-11-18T07:39:54.796Z"
   },
   {
    "duration": 22,
    "start_time": "2022-11-18T07:39:58.111Z"
   },
   {
    "duration": 23,
    "start_time": "2022-11-18T07:41:59.849Z"
   },
   {
    "duration": 164,
    "start_time": "2022-11-18T07:43:30.432Z"
   },
   {
    "duration": 1299,
    "start_time": "2022-11-18T07:46:02.097Z"
   },
   {
    "duration": 4,
    "start_time": "2022-11-18T07:46:03.398Z"
   },
   {
    "duration": 83,
    "start_time": "2022-11-18T07:46:03.403Z"
   },
   {
    "duration": 2,
    "start_time": "2022-11-18T07:46:03.488Z"
   },
   {
    "duration": 12,
    "start_time": "2022-11-18T07:46:03.493Z"
   },
   {
    "duration": 1056,
    "start_time": "2022-11-18T07:46:03.506Z"
   },
   {
    "duration": 7,
    "start_time": "2022-11-18T07:46:04.564Z"
   },
   {
    "duration": 56,
    "start_time": "2022-11-18T07:46:04.573Z"
   },
   {
    "duration": 21,
    "start_time": "2022-11-18T07:46:04.631Z"
   },
   {
    "duration": 3670,
    "start_time": "2022-11-18T07:46:04.653Z"
   },
   {
    "duration": 12,
    "start_time": "2022-11-18T07:46:08.326Z"
   },
   {
    "duration": 40,
    "start_time": "2022-11-18T07:46:08.340Z"
   },
   {
    "duration": 41,
    "start_time": "2022-11-18T07:46:08.382Z"
   },
   {
    "duration": 35,
    "start_time": "2022-11-18T07:46:08.426Z"
   },
   {
    "duration": 1353,
    "start_time": "2022-11-18T07:50:39.893Z"
   },
   {
    "duration": 3,
    "start_time": "2022-11-18T07:50:41.249Z"
   },
   {
    "duration": 88,
    "start_time": "2022-11-18T07:50:41.255Z"
   },
   {
    "duration": 3,
    "start_time": "2022-11-18T07:50:41.346Z"
   },
   {
    "duration": 7,
    "start_time": "2022-11-18T07:50:41.351Z"
   },
   {
    "duration": 1045,
    "start_time": "2022-11-18T07:50:41.360Z"
   },
   {
    "duration": 8,
    "start_time": "2022-11-18T07:50:42.418Z"
   },
   {
    "duration": 36,
    "start_time": "2022-11-18T07:50:42.428Z"
   },
   {
    "duration": 22,
    "start_time": "2022-11-18T07:50:42.466Z"
   },
   {
    "duration": 3384,
    "start_time": "2022-11-18T07:50:42.491Z"
   },
   {
    "duration": 10,
    "start_time": "2022-11-18T07:50:45.877Z"
   },
   {
    "duration": 59,
    "start_time": "2022-11-18T07:50:45.889Z"
   },
   {
    "duration": 53,
    "start_time": "2022-11-18T07:50:45.949Z"
   },
   {
    "duration": 88,
    "start_time": "2022-11-18T07:50:46.004Z"
   },
   {
    "duration": 233,
    "start_time": "2022-11-18T07:51:38.694Z"
   },
   {
    "duration": 311,
    "start_time": "2022-11-18T07:52:02.653Z"
   },
   {
    "duration": 17192,
    "start_time": "2022-11-18T07:53:05.040Z"
   },
   {
    "duration": 65,
    "start_time": "2022-11-18T08:02:24.473Z"
   },
   {
    "duration": 14,
    "start_time": "2022-11-18T08:02:28.312Z"
   },
   {
    "duration": 340,
    "start_time": "2022-11-18T08:02:39.135Z"
   },
   {
    "duration": 21,
    "start_time": "2022-11-18T08:02:52.128Z"
   },
   {
    "duration": 169,
    "start_time": "2022-11-18T08:03:18.936Z"
   },
   {
    "duration": 151,
    "start_time": "2022-11-18T08:03:29.663Z"
   },
   {
    "duration": 138,
    "start_time": "2022-11-18T08:03:33.295Z"
   },
   {
    "duration": 429,
    "start_time": "2022-11-18T08:03:42.840Z"
   },
   {
    "duration": 20,
    "start_time": "2022-11-18T08:04:49.890Z"
   },
   {
    "duration": 469,
    "start_time": "2022-11-18T08:07:00.993Z"
   },
   {
    "duration": 426,
    "start_time": "2022-11-18T08:07:12.372Z"
   },
   {
    "duration": 410,
    "start_time": "2022-11-18T08:07:25.397Z"
   },
   {
    "duration": 422,
    "start_time": "2022-11-18T08:07:33.292Z"
   },
   {
    "duration": 546,
    "start_time": "2022-11-18T08:10:37.233Z"
   },
   {
    "duration": 499,
    "start_time": "2022-11-18T08:10:56.759Z"
   },
   {
    "duration": 9,
    "start_time": "2022-11-18T08:11:44.522Z"
   },
   {
    "duration": 775,
    "start_time": "2022-11-18T08:13:55.292Z"
   },
   {
    "duration": 3148,
    "start_time": "2022-11-18T08:19:49.331Z"
   },
   {
    "duration": 1556,
    "start_time": "2022-11-18T08:20:38.512Z"
   },
   {
    "duration": 41,
    "start_time": "2022-11-18T08:21:19.152Z"
   },
   {
    "duration": 4,
    "start_time": "2022-11-18T08:21:26.494Z"
   },
   {
    "duration": 13,
    "start_time": "2022-11-18T08:21:26.501Z"
   },
   {
    "duration": 99,
    "start_time": "2022-11-18T08:21:26.516Z"
   },
   {
    "duration": 4,
    "start_time": "2022-11-18T08:21:26.616Z"
   },
   {
    "duration": 24,
    "start_time": "2022-11-18T08:21:26.623Z"
   },
   {
    "duration": 1029,
    "start_time": "2022-11-18T08:21:26.649Z"
   },
   {
    "duration": 6,
    "start_time": "2022-11-18T08:21:27.680Z"
   },
   {
    "duration": 58,
    "start_time": "2022-11-18T08:21:27.688Z"
   },
   {
    "duration": 28,
    "start_time": "2022-11-18T08:21:27.748Z"
   },
   {
    "duration": 3726,
    "start_time": "2022-11-18T08:21:27.778Z"
   },
   {
    "duration": 24,
    "start_time": "2022-11-18T08:21:31.506Z"
   },
   {
    "duration": 11,
    "start_time": "2022-11-18T08:21:31.535Z"
   },
   {
    "duration": 40,
    "start_time": "2022-11-18T08:21:49.585Z"
   },
   {
    "duration": 3131,
    "start_time": "2022-11-18T08:21:55.173Z"
   },
   {
    "duration": 49,
    "start_time": "2022-11-18T08:26:49.407Z"
   },
   {
    "duration": 6,
    "start_time": "2022-11-18T08:31:37.238Z"
   },
   {
    "duration": 7,
    "start_time": "2022-11-18T08:32:32.850Z"
   },
   {
    "duration": 10,
    "start_time": "2022-11-18T08:33:07.178Z"
   },
   {
    "duration": 8,
    "start_time": "2022-11-18T08:33:12.793Z"
   },
   {
    "duration": 7,
    "start_time": "2022-11-18T08:33:19.584Z"
   },
   {
    "duration": 12,
    "start_time": "2022-11-18T08:33:58.372Z"
   },
   {
    "duration": 7,
    "start_time": "2022-11-18T08:34:06.534Z"
   },
   {
    "duration": 6,
    "start_time": "2022-11-18T08:34:17.533Z"
   },
   {
    "duration": 13,
    "start_time": "2022-11-18T08:35:07.991Z"
   },
   {
    "duration": 6,
    "start_time": "2022-11-18T08:36:23.064Z"
   },
   {
    "duration": 5,
    "start_time": "2022-11-18T08:36:40.052Z"
   },
   {
    "duration": 5,
    "start_time": "2022-11-18T08:38:08.192Z"
   },
   {
    "duration": 5,
    "start_time": "2022-11-18T08:38:38.237Z"
   },
   {
    "duration": 16,
    "start_time": "2022-11-18T08:39:56.172Z"
   },
   {
    "duration": 13,
    "start_time": "2022-11-18T08:40:53.756Z"
   },
   {
    "duration": 11,
    "start_time": "2022-11-18T08:40:57.021Z"
   },
   {
    "duration": 6,
    "start_time": "2022-11-18T08:41:58.672Z"
   },
   {
    "duration": 7,
    "start_time": "2022-11-18T08:42:07.077Z"
   },
   {
    "duration": 6,
    "start_time": "2022-11-18T08:42:16.493Z"
   },
   {
    "duration": 8,
    "start_time": "2022-11-18T08:42:21.172Z"
   },
   {
    "duration": 8,
    "start_time": "2022-11-18T08:42:40.574Z"
   },
   {
    "duration": 6,
    "start_time": "2022-11-18T08:43:01.131Z"
   },
   {
    "duration": 15,
    "start_time": "2022-11-18T08:44:18.551Z"
   },
   {
    "duration": 10,
    "start_time": "2022-11-18T08:44:41.463Z"
   },
   {
    "duration": 10,
    "start_time": "2022-11-18T08:44:50.568Z"
   },
   {
    "duration": 13,
    "start_time": "2022-11-18T08:49:58.962Z"
   },
   {
    "duration": 11,
    "start_time": "2022-11-18T09:03:57.593Z"
   },
   {
    "duration": 11,
    "start_time": "2022-11-18T09:04:23.333Z"
   },
   {
    "duration": 13,
    "start_time": "2022-11-18T09:05:19.233Z"
   },
   {
    "duration": 740,
    "start_time": "2022-11-18T09:11:51.816Z"
   },
   {
    "duration": 8,
    "start_time": "2022-11-18T09:12:05.612Z"
   },
   {
    "duration": 11,
    "start_time": "2022-11-18T09:16:43.606Z"
   },
   {
    "duration": 10,
    "start_time": "2022-11-18T09:17:48.314Z"
   },
   {
    "duration": 8,
    "start_time": "2022-11-18T09:18:03.335Z"
   },
   {
    "duration": 8,
    "start_time": "2022-11-18T09:18:11.734Z"
   },
   {
    "duration": 8,
    "start_time": "2022-11-18T09:21:32.393Z"
   },
   {
    "duration": 10,
    "start_time": "2022-11-18T09:21:38.677Z"
   },
   {
    "duration": 24,
    "start_time": "2022-11-18T09:29:53.302Z"
   },
   {
    "duration": 14,
    "start_time": "2022-11-18T09:30:18.895Z"
   },
   {
    "duration": 21,
    "start_time": "2022-11-18T09:31:01.771Z"
   },
   {
    "duration": 9,
    "start_time": "2022-11-18T09:31:17.572Z"
   },
   {
    "duration": 10,
    "start_time": "2022-11-18T09:31:33.131Z"
   },
   {
    "duration": 12,
    "start_time": "2022-11-18T09:32:02.171Z"
   },
   {
    "duration": 10,
    "start_time": "2022-11-18T09:32:24.033Z"
   },
   {
    "duration": 10,
    "start_time": "2022-11-18T09:32:32.224Z"
   },
   {
    "duration": 13,
    "start_time": "2022-11-18T09:33:27.152Z"
   },
   {
    "duration": 18,
    "start_time": "2022-11-18T09:33:42.531Z"
   },
   {
    "duration": 28,
    "start_time": "2022-11-18T09:34:01.109Z"
   },
   {
    "duration": 12,
    "start_time": "2022-11-18T09:36:18.015Z"
   },
   {
    "duration": 22,
    "start_time": "2022-11-18T09:36:24.375Z"
   },
   {
    "duration": 64,
    "start_time": "2022-11-18T09:36:42.673Z"
   },
   {
    "duration": 23,
    "start_time": "2022-11-18T09:37:18.694Z"
   },
   {
    "duration": 23,
    "start_time": "2022-11-18T09:37:33.128Z"
   },
   {
    "duration": 18,
    "start_time": "2022-11-18T09:38:26.909Z"
   },
   {
    "duration": 12,
    "start_time": "2022-11-18T09:38:34.493Z"
   },
   {
    "duration": 11,
    "start_time": "2022-11-18T09:38:47.162Z"
   },
   {
    "duration": 23,
    "start_time": "2022-11-18T09:38:55.093Z"
   },
   {
    "duration": 59,
    "start_time": "2022-11-18T09:39:15.192Z"
   },
   {
    "duration": 45,
    "start_time": "2022-11-18T09:39:39.973Z"
   },
   {
    "duration": 57,
    "start_time": "2022-11-18T09:40:11.132Z"
   },
   {
    "duration": 24,
    "start_time": "2022-11-18T09:40:28.454Z"
   },
   {
    "duration": 25,
    "start_time": "2022-11-18T09:40:37.931Z"
   },
   {
    "duration": 25,
    "start_time": "2022-11-18T09:41:04.377Z"
   },
   {
    "duration": 24,
    "start_time": "2022-11-18T09:41:14.493Z"
   },
   {
    "duration": 25,
    "start_time": "2022-11-18T09:41:19.033Z"
   },
   {
    "duration": 28,
    "start_time": "2022-11-18T09:41:40.926Z"
   },
   {
    "duration": 24,
    "start_time": "2022-11-18T09:42:06.831Z"
   },
   {
    "duration": 27,
    "start_time": "2022-11-18T09:42:15.855Z"
   },
   {
    "duration": 18,
    "start_time": "2022-11-18T09:44:04.572Z"
   },
   {
    "duration": 9,
    "start_time": "2022-11-18T09:44:12.019Z"
   },
   {
    "duration": 11,
    "start_time": "2022-11-18T09:44:30.639Z"
   },
   {
    "duration": 13,
    "start_time": "2022-11-18T09:44:52.154Z"
   },
   {
    "duration": 21,
    "start_time": "2022-11-18T09:45:53.953Z"
   },
   {
    "duration": 254,
    "start_time": "2022-11-18T09:46:50.056Z"
   },
   {
    "duration": 13,
    "start_time": "2022-11-18T09:47:33.813Z"
   },
   {
    "duration": 17,
    "start_time": "2022-11-18T09:47:59.800Z"
   },
   {
    "duration": 17,
    "start_time": "2022-11-18T09:48:05.155Z"
   },
   {
    "duration": 18,
    "start_time": "2022-11-18T09:48:14.072Z"
   },
   {
    "duration": 13,
    "start_time": "2022-11-18T09:48:18.012Z"
   },
   {
    "duration": 19,
    "start_time": "2022-11-18T09:48:38.372Z"
   },
   {
    "duration": 14,
    "start_time": "2022-11-18T09:49:04.196Z"
   },
   {
    "duration": 16,
    "start_time": "2022-11-18T09:49:12.479Z"
   },
   {
    "duration": 12,
    "start_time": "2022-11-18T09:49:29.060Z"
   },
   {
    "duration": 15,
    "start_time": "2022-11-18T09:49:37.414Z"
   },
   {
    "duration": 13,
    "start_time": "2022-11-18T09:49:41.274Z"
   },
   {
    "duration": 13,
    "start_time": "2022-11-18T09:49:55.455Z"
   },
   {
    "duration": 16,
    "start_time": "2022-11-18T09:50:07.876Z"
   },
   {
    "duration": 14,
    "start_time": "2022-11-18T09:50:23.873Z"
   },
   {
    "duration": 16,
    "start_time": "2022-11-18T09:50:34.472Z"
   },
   {
    "duration": 18,
    "start_time": "2022-11-18T09:50:48.773Z"
   },
   {
    "duration": 7,
    "start_time": "2022-11-18T09:51:20.474Z"
   },
   {
    "duration": 5,
    "start_time": "2022-11-18T09:51:23.835Z"
   },
   {
    "duration": 9,
    "start_time": "2022-11-18T09:53:16.496Z"
   },
   {
    "duration": 8,
    "start_time": "2022-11-18T09:53:19.466Z"
   },
   {
    "duration": 14,
    "start_time": "2022-11-18T09:53:55.218Z"
   },
   {
    "duration": 1137,
    "start_time": "2022-11-18T10:05:02.778Z"
   },
   {
    "duration": 15,
    "start_time": "2022-11-18T10:09:02.834Z"
   },
   {
    "duration": 12,
    "start_time": "2022-11-18T10:10:58.217Z"
   },
   {
    "duration": 10,
    "start_time": "2022-11-18T10:11:15.276Z"
   },
   {
    "duration": 10,
    "start_time": "2022-11-18T10:13:13.475Z"
   },
   {
    "duration": 11,
    "start_time": "2022-11-18T10:18:33.681Z"
   },
   {
    "duration": 8,
    "start_time": "2022-11-18T10:18:56.294Z"
   },
   {
    "duration": 12,
    "start_time": "2022-11-18T10:19:15.458Z"
   },
   {
    "duration": 11,
    "start_time": "2022-11-18T10:19:50.056Z"
   },
   {
    "duration": 8,
    "start_time": "2022-11-18T10:20:04.474Z"
   },
   {
    "duration": 882,
    "start_time": "2022-11-18T10:22:25.434Z"
   },
   {
    "duration": 749,
    "start_time": "2022-11-18T10:22:54.696Z"
   },
   {
    "duration": 728,
    "start_time": "2022-11-18T10:24:08.336Z"
   },
   {
    "duration": 3,
    "start_time": "2022-11-18T10:24:59.093Z"
   },
   {
    "duration": 19,
    "start_time": "2022-11-18T10:25:04.893Z"
   },
   {
    "duration": 6,
    "start_time": "2022-11-18T10:25:20.833Z"
   },
   {
    "duration": 6,
    "start_time": "2022-11-18T10:25:32.895Z"
   },
   {
    "duration": 4,
    "start_time": "2022-11-18T10:25:53.007Z"
   },
   {
    "duration": 3,
    "start_time": "2022-11-18T10:26:07.553Z"
   },
   {
    "duration": 759,
    "start_time": "2022-11-18T10:26:51.783Z"
   },
   {
    "duration": 5,
    "start_time": "2022-11-18T10:27:00.803Z"
   },
   {
    "duration": 5,
    "start_time": "2022-11-18T10:27:10.214Z"
   },
   {
    "duration": 4,
    "start_time": "2022-11-18T10:27:29.903Z"
   },
   {
    "duration": 4,
    "start_time": "2022-11-18T10:27:41.774Z"
   },
   {
    "duration": 4,
    "start_time": "2022-11-18T10:27:59.034Z"
   },
   {
    "duration": 4,
    "start_time": "2022-11-18T10:40:15.390Z"
   },
   {
    "duration": 5,
    "start_time": "2022-11-18T10:53:14.306Z"
   },
   {
    "duration": 761,
    "start_time": "2022-11-18T10:53:28.006Z"
   },
   {
    "duration": 808,
    "start_time": "2022-11-18T10:53:44.442Z"
   },
   {
    "duration": 7,
    "start_time": "2022-11-18T10:53:56.455Z"
   },
   {
    "duration": 5,
    "start_time": "2022-11-18T10:54:18.537Z"
   },
   {
    "duration": 7,
    "start_time": "2022-11-18T10:54:30.486Z"
   },
   {
    "duration": 20,
    "start_time": "2022-11-18T10:55:21.153Z"
   },
   {
    "duration": 5,
    "start_time": "2022-11-18T10:55:33.484Z"
   },
   {
    "duration": 5,
    "start_time": "2022-11-18T10:55:45.133Z"
   },
   {
    "duration": 6,
    "start_time": "2022-11-18T10:56:32.503Z"
   },
   {
    "duration": 6,
    "start_time": "2022-11-18T10:56:46.818Z"
   },
   {
    "duration": 5,
    "start_time": "2022-11-18T10:57:13.083Z"
   },
   {
    "duration": 6,
    "start_time": "2022-11-18T10:57:20.055Z"
   },
   {
    "duration": 6,
    "start_time": "2022-11-18T10:57:39.398Z"
   },
   {
    "duration": 6,
    "start_time": "2022-11-18T10:57:48.875Z"
   },
   {
    "duration": 6,
    "start_time": "2022-11-18T10:58:03.182Z"
   },
   {
    "duration": 6,
    "start_time": "2022-11-18T10:58:19.214Z"
   },
   {
    "duration": 6,
    "start_time": "2022-11-18T10:59:05.151Z"
   },
   {
    "duration": 8,
    "start_time": "2022-11-18T11:01:24.933Z"
   },
   {
    "duration": 8,
    "start_time": "2022-11-18T11:03:01.834Z"
   },
   {
    "duration": 17,
    "start_time": "2022-11-18T11:03:49.653Z"
   },
   {
    "duration": 18,
    "start_time": "2022-11-18T11:06:44.781Z"
   },
   {
    "duration": 176,
    "start_time": "2022-11-18T12:12:39.600Z"
   },
   {
    "duration": 3,
    "start_time": "2022-11-18T12:13:19.040Z"
   },
   {
    "duration": 11,
    "start_time": "2022-11-18T12:13:41.032Z"
   },
   {
    "duration": 12,
    "start_time": "2022-11-18T12:13:48.100Z"
   },
   {
    "duration": 10,
    "start_time": "2022-11-18T12:13:52.339Z"
   },
   {
    "duration": 10,
    "start_time": "2022-11-18T12:13:57.760Z"
   },
   {
    "duration": 83,
    "start_time": "2022-11-18T12:20:40.641Z"
   },
   {
    "duration": 24,
    "start_time": "2022-11-18T12:21:38.401Z"
   },
   {
    "duration": 7,
    "start_time": "2022-11-18T12:21:50.212Z"
   },
   {
    "duration": 15,
    "start_time": "2022-11-18T12:21:50.221Z"
   },
   {
    "duration": 76,
    "start_time": "2022-11-18T12:21:50.237Z"
   },
   {
    "duration": 3,
    "start_time": "2022-11-18T12:21:50.315Z"
   },
   {
    "duration": 8,
    "start_time": "2022-11-18T12:21:50.320Z"
   },
   {
    "duration": 955,
    "start_time": "2022-11-18T12:21:50.330Z"
   },
   {
    "duration": 26,
    "start_time": "2022-11-18T12:21:51.287Z"
   },
   {
    "duration": 15,
    "start_time": "2022-11-18T12:21:51.315Z"
   },
   {
    "duration": 12,
    "start_time": "2022-11-18T12:21:51.332Z"
   },
   {
    "duration": 8,
    "start_time": "2022-11-18T12:21:51.346Z"
   },
   {
    "duration": 55,
    "start_time": "2022-11-18T12:21:51.357Z"
   },
   {
    "duration": 19,
    "start_time": "2022-11-18T12:21:51.415Z"
   },
   {
    "duration": 27,
    "start_time": "2022-11-18T12:21:51.436Z"
   },
   {
    "duration": 1532,
    "start_time": "2022-11-18T12:22:14.548Z"
   },
   {
    "duration": 3,
    "start_time": "2022-11-18T12:22:16.082Z"
   },
   {
    "duration": 92,
    "start_time": "2022-11-18T12:22:16.086Z"
   },
   {
    "duration": 3,
    "start_time": "2022-11-18T12:22:16.180Z"
   },
   {
    "duration": 18,
    "start_time": "2022-11-18T12:22:16.185Z"
   },
   {
    "duration": 1107,
    "start_time": "2022-11-18T12:22:16.205Z"
   },
   {
    "duration": 5,
    "start_time": "2022-11-18T12:22:17.314Z"
   },
   {
    "duration": 13,
    "start_time": "2022-11-18T12:22:17.321Z"
   },
   {
    "duration": 12,
    "start_time": "2022-11-18T12:22:17.336Z"
   },
   {
    "duration": 6,
    "start_time": "2022-11-18T12:22:17.350Z"
   },
   {
    "duration": 9,
    "start_time": "2022-11-18T12:22:17.357Z"
   },
   {
    "duration": 56,
    "start_time": "2022-11-18T12:22:17.367Z"
   },
   {
    "duration": 17,
    "start_time": "2022-11-18T12:22:17.425Z"
   },
   {
    "duration": 119,
    "start_time": "2022-11-18T12:22:53.865Z"
   },
   {
    "duration": 42,
    "start_time": "2022-11-18T12:23:10.145Z"
   },
   {
    "duration": 9,
    "start_time": "2022-11-18T12:25:24.560Z"
   },
   {
    "duration": 16,
    "start_time": "2022-11-18T12:27:34.658Z"
   },
   {
    "duration": 30,
    "start_time": "2022-11-18T12:28:17.039Z"
   },
   {
    "duration": 22,
    "start_time": "2022-11-18T12:31:02.238Z"
   },
   {
    "duration": 19,
    "start_time": "2022-11-18T12:34:31.666Z"
   },
   {
    "duration": 15,
    "start_time": "2022-11-18T12:34:48.532Z"
   },
   {
    "duration": 17,
    "start_time": "2022-11-18T12:35:08.671Z"
   },
   {
    "duration": 1597,
    "start_time": "2022-11-18T12:35:46.080Z"
   },
   {
    "duration": 3,
    "start_time": "2022-11-18T12:35:47.680Z"
   },
   {
    "duration": 92,
    "start_time": "2022-11-18T12:35:47.684Z"
   },
   {
    "duration": 3,
    "start_time": "2022-11-18T12:35:47.777Z"
   },
   {
    "duration": 18,
    "start_time": "2022-11-18T12:35:47.783Z"
   },
   {
    "duration": 1029,
    "start_time": "2022-11-18T12:35:47.803Z"
   },
   {
    "duration": 7,
    "start_time": "2022-11-18T12:35:48.834Z"
   },
   {
    "duration": 16,
    "start_time": "2022-11-18T12:35:48.844Z"
   },
   {
    "duration": 21,
    "start_time": "2022-11-18T12:35:48.863Z"
   },
   {
    "duration": 9,
    "start_time": "2022-11-18T12:35:48.912Z"
   },
   {
    "duration": 18,
    "start_time": "2022-11-18T12:35:48.923Z"
   },
   {
    "duration": 38,
    "start_time": "2022-11-18T12:35:48.943Z"
   },
   {
    "duration": 32,
    "start_time": "2022-11-18T12:35:48.983Z"
   },
   {
    "duration": 22,
    "start_time": "2022-11-18T12:35:52.732Z"
   },
   {
    "duration": 5,
    "start_time": "2022-11-18T12:35:54.359Z"
   },
   {
    "duration": 144,
    "start_time": "2022-11-18T12:35:56.721Z"
   },
   {
    "duration": 3,
    "start_time": "2022-11-18T12:41:45.303Z"
   },
   {
    "duration": 4030,
    "start_time": "2022-11-18T12:42:27.670Z"
   },
   {
    "duration": 59,
    "start_time": "2022-11-18T12:44:36.020Z"
   },
   {
    "duration": 1554,
    "start_time": "2022-11-18T12:44:53.541Z"
   },
   {
    "duration": 3,
    "start_time": "2022-11-18T12:44:55.097Z"
   },
   {
    "duration": 74,
    "start_time": "2022-11-18T12:44:55.102Z"
   },
   {
    "duration": 3,
    "start_time": "2022-11-18T12:44:55.179Z"
   },
   {
    "duration": 9,
    "start_time": "2022-11-18T12:44:55.183Z"
   },
   {
    "duration": 1091,
    "start_time": "2022-11-18T12:44:55.194Z"
   },
   {
    "duration": 26,
    "start_time": "2022-11-18T12:44:56.287Z"
   },
   {
    "duration": 10,
    "start_time": "2022-11-18T12:44:56.315Z"
   },
   {
    "duration": 14,
    "start_time": "2022-11-18T12:44:56.326Z"
   },
   {
    "duration": 7,
    "start_time": "2022-11-18T12:44:56.343Z"
   },
   {
    "duration": 8,
    "start_time": "2022-11-18T12:44:56.351Z"
   },
   {
    "duration": 59,
    "start_time": "2022-11-18T12:44:56.361Z"
   },
   {
    "duration": 27,
    "start_time": "2022-11-18T12:44:56.422Z"
   },
   {
    "duration": 8,
    "start_time": "2022-11-18T12:44:56.452Z"
   },
   {
    "duration": 9,
    "start_time": "2022-11-18T12:44:56.462Z"
   },
   {
    "duration": 4232,
    "start_time": "2022-11-18T12:44:58.836Z"
   },
   {
    "duration": 86,
    "start_time": "2022-11-18T12:52:02.935Z"
   },
   {
    "duration": 397,
    "start_time": "2022-11-18T12:52:56.663Z"
   },
   {
    "duration": 83,
    "start_time": "2022-11-18T12:54:39.380Z"
   },
   {
    "duration": 9,
    "start_time": "2022-11-18T12:59:34.325Z"
   },
   {
    "duration": 6,
    "start_time": "2022-11-18T13:20:10.637Z"
   },
   {
    "duration": 6,
    "start_time": "2022-11-18T13:20:35.476Z"
   },
   {
    "duration": 7,
    "start_time": "2022-11-18T13:20:41.856Z"
   },
   {
    "duration": 10,
    "start_time": "2022-11-18T13:24:24.852Z"
   },
   {
    "duration": 14,
    "start_time": "2022-11-18T13:28:13.170Z"
   },
   {
    "duration": 7,
    "start_time": "2022-11-18T13:32:28.091Z"
   },
   {
    "duration": 6,
    "start_time": "2022-11-18T13:32:33.452Z"
   },
   {
    "duration": 8,
    "start_time": "2022-11-18T13:32:43.451Z"
   },
   {
    "duration": 7,
    "start_time": "2022-11-18T13:32:48.062Z"
   },
   {
    "duration": 7,
    "start_time": "2022-11-18T13:39:33.021Z"
   },
   {
    "duration": 9,
    "start_time": "2022-11-18T13:39:37.562Z"
   },
   {
    "duration": 10,
    "start_time": "2022-11-18T13:39:41.184Z"
   },
   {
    "duration": 11,
    "start_time": "2022-11-18T13:39:44.811Z"
   },
   {
    "duration": 935,
    "start_time": "2022-11-18T14:00:21.792Z"
   },
   {
    "duration": 7,
    "start_time": "2022-11-18T14:00:55.712Z"
   },
   {
    "duration": 68,
    "start_time": "2022-11-18T14:01:58.071Z"
   },
   {
    "duration": 9,
    "start_time": "2022-11-18T14:02:16.311Z"
   },
   {
    "duration": 8,
    "start_time": "2022-11-18T14:02:42.830Z"
   },
   {
    "duration": 10,
    "start_time": "2022-11-18T14:02:50.710Z"
   },
   {
    "duration": 8,
    "start_time": "2022-11-18T14:03:02.092Z"
   },
   {
    "duration": 9,
    "start_time": "2022-11-18T14:03:49.559Z"
   },
   {
    "duration": 15,
    "start_time": "2022-11-18T14:05:19.451Z"
   },
   {
    "duration": 13,
    "start_time": "2022-11-18T14:05:30.971Z"
   },
   {
    "duration": 10,
    "start_time": "2022-11-18T14:10:42.632Z"
   },
   {
    "duration": 11,
    "start_time": "2022-11-18T14:10:53.311Z"
   },
   {
    "duration": 14,
    "start_time": "2022-11-18T14:12:11.571Z"
   },
   {
    "duration": 14,
    "start_time": "2022-11-18T14:12:18.011Z"
   },
   {
    "duration": 14,
    "start_time": "2022-11-18T14:12:25.339Z"
   },
   {
    "duration": 13,
    "start_time": "2022-11-18T14:16:08.703Z"
   },
   {
    "duration": 45,
    "start_time": "2022-11-18T14:16:15.974Z"
   },
   {
    "duration": 6,
    "start_time": "2022-11-18T14:16:18.652Z"
   },
   {
    "duration": 16,
    "start_time": "2022-11-18T14:21:05.453Z"
   },
   {
    "duration": 79,
    "start_time": "2022-11-18T14:21:18.592Z"
   },
   {
    "duration": 65,
    "start_time": "2022-11-18T14:22:12.503Z"
   },
   {
    "duration": 9,
    "start_time": "2022-11-18T14:22:56.063Z"
   },
   {
    "duration": 11,
    "start_time": "2022-11-18T14:24:16.713Z"
   },
   {
    "duration": 56,
    "start_time": "2022-11-18T14:27:03.826Z"
   },
   {
    "duration": 17,
    "start_time": "2022-11-18T14:29:57.573Z"
   },
   {
    "duration": 7,
    "start_time": "2022-11-18T14:30:32.353Z"
   },
   {
    "duration": 7,
    "start_time": "2022-11-18T14:30:51.672Z"
   },
   {
    "duration": 13,
    "start_time": "2022-11-18T14:31:39.772Z"
   },
   {
    "duration": 770,
    "start_time": "2022-11-18T14:31:50.852Z"
   },
   {
    "duration": 10,
    "start_time": "2022-11-18T14:31:58.852Z"
   },
   {
    "duration": 46,
    "start_time": "2022-11-18T14:32:12.235Z"
   },
   {
    "duration": 45,
    "start_time": "2022-11-18T14:32:31.324Z"
   },
   {
    "duration": 13,
    "start_time": "2022-11-18T14:33:13.565Z"
   },
   {
    "duration": 46,
    "start_time": "2022-11-18T14:33:29.972Z"
   },
   {
    "duration": 7,
    "start_time": "2022-11-18T15:41:41.214Z"
   },
   {
    "duration": 7,
    "start_time": "2022-11-18T15:42:56.176Z"
   },
   {
    "duration": 6,
    "start_time": "2022-11-18T15:44:36.209Z"
   },
   {
    "duration": 6,
    "start_time": "2022-11-18T15:44:47.999Z"
   },
   {
    "duration": 7,
    "start_time": "2022-11-18T15:45:03.712Z"
   },
   {
    "duration": 7,
    "start_time": "2022-11-18T15:45:11.276Z"
   },
   {
    "duration": 7,
    "start_time": "2022-11-18T15:47:15.856Z"
   },
   {
    "duration": 7,
    "start_time": "2022-11-18T15:47:16.942Z"
   },
   {
    "duration": 8,
    "start_time": "2022-11-18T15:48:21.223Z"
   },
   {
    "duration": 8,
    "start_time": "2022-11-18T15:48:59.249Z"
   },
   {
    "duration": 10,
    "start_time": "2022-11-18T15:49:13.602Z"
   },
   {
    "duration": 6,
    "start_time": "2022-11-18T15:49:37.917Z"
   },
   {
    "duration": 5,
    "start_time": "2022-11-18T15:51:23.709Z"
   },
   {
    "duration": 6,
    "start_time": "2022-11-18T15:53:14.101Z"
   },
   {
    "duration": 6,
    "start_time": "2022-11-18T15:56:09.454Z"
   },
   {
    "duration": 7,
    "start_time": "2022-11-18T15:56:30.181Z"
   },
   {
    "duration": 8,
    "start_time": "2022-11-18T15:56:42.116Z"
   },
   {
    "duration": 6,
    "start_time": "2022-11-18T15:57:00.200Z"
   },
   {
    "duration": 12,
    "start_time": "2022-11-18T15:57:06.870Z"
   },
   {
    "duration": 4,
    "start_time": "2022-11-18T16:04:07.211Z"
   },
   {
    "duration": 4,
    "start_time": "2022-11-18T16:04:14.287Z"
   },
   {
    "duration": 69,
    "start_time": "2022-11-18T16:06:38.456Z"
   },
   {
    "duration": 5,
    "start_time": "2022-11-18T16:06:47.896Z"
   },
   {
    "duration": 40,
    "start_time": "2022-11-18T16:09:17.174Z"
   },
   {
    "duration": 17,
    "start_time": "2022-11-18T16:10:46.656Z"
   },
   {
    "duration": 14,
    "start_time": "2022-11-18T16:10:56.034Z"
   },
   {
    "duration": 18,
    "start_time": "2022-11-18T16:11:05.173Z"
   },
   {
    "duration": 18,
    "start_time": "2022-11-18T16:12:27.725Z"
   },
   {
    "duration": 5,
    "start_time": "2022-11-18T16:16:55.510Z"
   },
   {
    "duration": 5,
    "start_time": "2022-11-18T16:17:28.121Z"
   },
   {
    "duration": 5,
    "start_time": "2022-11-18T16:18:24.359Z"
   },
   {
    "duration": 5,
    "start_time": "2022-11-18T16:30:28.992Z"
   },
   {
    "duration": 5,
    "start_time": "2022-11-18T16:30:45.494Z"
   },
   {
    "duration": 150,
    "start_time": "2022-11-18T16:31:17.615Z"
   },
   {
    "duration": 13,
    "start_time": "2022-11-18T16:32:36.989Z"
   },
   {
    "duration": 14,
    "start_time": "2022-11-18T16:32:58.993Z"
   },
   {
    "duration": 14,
    "start_time": "2022-11-18T16:33:12.130Z"
   },
   {
    "duration": 48,
    "start_time": "2022-11-18T16:35:50.925Z"
   },
   {
    "duration": 65,
    "start_time": "2022-11-18T16:35:54.512Z"
   },
   {
    "duration": 3,
    "start_time": "2022-11-18T16:36:01.284Z"
   },
   {
    "duration": 11,
    "start_time": "2022-11-18T16:37:28.290Z"
   },
   {
    "duration": 13,
    "start_time": "2022-11-18T16:38:38.369Z"
   },
   {
    "duration": 14,
    "start_time": "2022-11-18T16:39:23.795Z"
   },
   {
    "duration": 11,
    "start_time": "2022-11-18T16:39:41.446Z"
   },
   {
    "duration": 17,
    "start_time": "2022-11-18T16:39:46.368Z"
   },
   {
    "duration": 15,
    "start_time": "2022-11-18T16:39:57.509Z"
   },
   {
    "duration": 13,
    "start_time": "2022-11-18T16:40:08.061Z"
   },
   {
    "duration": 13,
    "start_time": "2022-11-18T16:40:13.251Z"
   },
   {
    "duration": 9,
    "start_time": "2022-11-18T16:40:27.748Z"
   },
   {
    "duration": 12,
    "start_time": "2022-11-18T16:40:36.293Z"
   },
   {
    "duration": 10,
    "start_time": "2022-11-18T16:40:41.231Z"
   },
   {
    "duration": 14,
    "start_time": "2022-11-18T16:43:52.768Z"
   },
   {
    "duration": 16,
    "start_time": "2022-11-18T16:44:36.609Z"
   },
   {
    "duration": 11,
    "start_time": "2022-11-18T16:48:00.471Z"
   },
   {
    "duration": 13,
    "start_time": "2022-11-18T16:48:12.969Z"
   },
   {
    "duration": 11,
    "start_time": "2022-11-18T16:48:27.460Z"
   },
   {
    "duration": 14,
    "start_time": "2022-11-18T16:48:42.123Z"
   },
   {
    "duration": 25,
    "start_time": "2022-11-18T16:51:53.864Z"
   },
   {
    "duration": 23,
    "start_time": "2022-11-18T16:52:45.311Z"
   },
   {
    "duration": 19,
    "start_time": "2022-11-18T16:52:53.168Z"
   },
   {
    "duration": 15,
    "start_time": "2022-11-18T16:53:58.887Z"
   },
   {
    "duration": 14,
    "start_time": "2022-11-18T16:57:50.431Z"
   },
   {
    "duration": 4,
    "start_time": "2022-11-18T16:58:01.691Z"
   },
   {
    "duration": 41,
    "start_time": "2022-11-18T16:58:54.576Z"
   },
   {
    "duration": 54,
    "start_time": "2022-11-18T17:06:30.747Z"
   },
   {
    "duration": 15,
    "start_time": "2022-11-18T17:06:37.408Z"
   },
   {
    "duration": 13,
    "start_time": "2022-11-18T17:07:12.128Z"
   },
   {
    "duration": 811,
    "start_time": "2022-11-18T17:07:46.632Z"
   },
   {
    "duration": 732,
    "start_time": "2022-11-18T17:08:13.987Z"
   },
   {
    "duration": 4,
    "start_time": "2022-11-18T17:08:36.647Z"
   },
   {
    "duration": 31,
    "start_time": "2022-11-18T17:08:44.848Z"
   },
   {
    "duration": 461,
    "start_time": "2022-11-18T17:09:15.207Z"
   },
   {
    "duration": 8,
    "start_time": "2022-11-18T17:09:34.447Z"
   },
   {
    "duration": 8,
    "start_time": "2022-11-18T17:09:40.467Z"
   },
   {
    "duration": 10,
    "start_time": "2022-11-18T17:09:52.899Z"
   },
   {
    "duration": 26,
    "start_time": "2022-11-18T17:09:56.047Z"
   },
   {
    "duration": 10,
    "start_time": "2022-11-18T17:10:41.368Z"
   },
   {
    "duration": 1510,
    "start_time": "2022-11-18T17:11:53.972Z"
   },
   {
    "duration": 3,
    "start_time": "2022-11-18T17:11:55.484Z"
   },
   {
    "duration": 68,
    "start_time": "2022-11-18T17:11:55.489Z"
   },
   {
    "duration": 6,
    "start_time": "2022-11-18T17:11:55.559Z"
   },
   {
    "duration": 1031,
    "start_time": "2022-11-18T17:11:55.567Z"
   },
   {
    "duration": 6,
    "start_time": "2022-11-18T17:11:56.612Z"
   },
   {
    "duration": 12,
    "start_time": "2022-11-18T17:11:56.621Z"
   },
   {
    "duration": 10,
    "start_time": "2022-11-18T17:11:56.635Z"
   },
   {
    "duration": 6,
    "start_time": "2022-11-18T17:11:56.647Z"
   },
   {
    "duration": 10,
    "start_time": "2022-11-18T17:11:56.654Z"
   },
   {
    "duration": 58,
    "start_time": "2022-11-18T17:11:56.666Z"
   },
   {
    "duration": 17,
    "start_time": "2022-11-18T17:11:56.726Z"
   },
   {
    "duration": 4054,
    "start_time": "2022-11-18T17:11:56.745Z"
   },
   {
    "duration": 48,
    "start_time": "2022-11-18T17:12:01.266Z"
   },
   {
    "duration": 29,
    "start_time": "2022-11-18T17:12:01.316Z"
   },
   {
    "duration": 10,
    "start_time": "2022-11-18T17:12:01.347Z"
   },
   {
    "duration": 8,
    "start_time": "2022-11-18T17:12:01.359Z"
   },
   {
    "duration": 56,
    "start_time": "2022-11-18T17:12:01.369Z"
   },
   {
    "duration": 6,
    "start_time": "2022-11-18T17:12:01.427Z"
   },
   {
    "duration": 16,
    "start_time": "2022-11-18T17:12:01.435Z"
   },
   {
    "duration": 63,
    "start_time": "2022-11-18T17:12:01.453Z"
   },
   {
    "duration": 9,
    "start_time": "2022-11-18T17:12:01.518Z"
   },
   {
    "duration": 93,
    "start_time": "2022-11-18T17:12:01.528Z"
   },
   {
    "duration": 6,
    "start_time": "2022-11-18T17:12:01.623Z"
   },
   {
    "duration": 10,
    "start_time": "2022-11-18T17:12:01.630Z"
   },
   {
    "duration": 18,
    "start_time": "2022-11-18T17:12:01.642Z"
   },
   {
    "duration": 8,
    "start_time": "2022-11-18T17:12:01.661Z"
   },
   {
    "duration": 80,
    "start_time": "2022-11-18T17:12:01.671Z"
   },
   {
    "duration": 16,
    "start_time": "2022-11-18T17:12:01.753Z"
   },
   {
    "duration": 72,
    "start_time": "2022-11-18T17:12:30.733Z"
   },
   {
    "duration": 20,
    "start_time": "2022-11-18T17:13:20.671Z"
   },
   {
    "duration": 4,
    "start_time": "2022-11-18T17:13:24.312Z"
   },
   {
    "duration": 28,
    "start_time": "2022-11-18T17:13:27.131Z"
   },
   {
    "duration": 33,
    "start_time": "2022-11-18T17:13:42.467Z"
   },
   {
    "duration": 27,
    "start_time": "2022-11-18T17:14:16.267Z"
   },
   {
    "duration": 5,
    "start_time": "2022-11-18T17:14:29.347Z"
   },
   {
    "duration": 5,
    "start_time": "2022-11-18T17:14:29.353Z"
   },
   {
    "duration": 72,
    "start_time": "2022-11-18T17:14:29.360Z"
   },
   {
    "duration": 7,
    "start_time": "2022-11-18T17:14:29.434Z"
   },
   {
    "duration": 1070,
    "start_time": "2022-11-18T17:14:29.442Z"
   },
   {
    "duration": 6,
    "start_time": "2022-11-18T17:14:30.514Z"
   },
   {
    "duration": 42,
    "start_time": "2022-11-18T17:14:30.521Z"
   },
   {
    "duration": 30,
    "start_time": "2022-11-18T17:14:30.566Z"
   },
   {
    "duration": 6,
    "start_time": "2022-11-18T17:14:30.598Z"
   },
   {
    "duration": 28,
    "start_time": "2022-11-18T17:14:30.606Z"
   },
   {
    "duration": 31,
    "start_time": "2022-11-18T17:14:30.636Z"
   },
   {
    "duration": 30,
    "start_time": "2022-11-18T17:14:30.669Z"
   },
   {
    "duration": 3919,
    "start_time": "2022-11-18T17:14:30.701Z"
   },
   {
    "duration": 128,
    "start_time": "2022-11-18T17:14:34.623Z"
   },
   {
    "duration": 6,
    "start_time": "2022-11-18T17:14:34.753Z"
   },
   {
    "duration": 9,
    "start_time": "2022-11-18T17:14:34.761Z"
   },
   {
    "duration": 43,
    "start_time": "2022-11-18T17:14:34.772Z"
   },
   {
    "duration": 10,
    "start_time": "2022-11-18T17:14:34.817Z"
   },
   {
    "duration": 15,
    "start_time": "2022-11-18T17:14:34.829Z"
   },
   {
    "duration": 6,
    "start_time": "2022-11-18T17:14:34.848Z"
   },
   {
    "duration": 26,
    "start_time": "2022-11-18T17:14:34.855Z"
   },
   {
    "duration": 41,
    "start_time": "2022-11-18T17:14:34.883Z"
   },
   {
    "duration": 11,
    "start_time": "2022-11-18T17:14:34.926Z"
   },
   {
    "duration": 79,
    "start_time": "2022-11-18T17:14:34.941Z"
   },
   {
    "duration": 6,
    "start_time": "2022-11-18T17:14:35.022Z"
   },
   {
    "duration": 11,
    "start_time": "2022-11-18T17:14:35.029Z"
   },
   {
    "duration": 14,
    "start_time": "2022-11-18T17:14:35.043Z"
   },
   {
    "duration": 14,
    "start_time": "2022-11-18T17:14:35.061Z"
   },
   {
    "duration": 83,
    "start_time": "2022-11-18T17:14:35.077Z"
   },
   {
    "duration": 16,
    "start_time": "2022-11-18T17:14:35.162Z"
   },
   {
    "duration": 46,
    "start_time": "2022-11-18T17:14:35.180Z"
   },
   {
    "duration": 4,
    "start_time": "2022-11-18T17:14:35.228Z"
   },
   {
    "duration": 21,
    "start_time": "2022-11-18T17:17:26.206Z"
   },
   {
    "duration": 2,
    "start_time": "2022-11-18T17:17:39.229Z"
   },
   {
    "duration": 26,
    "start_time": "2022-11-18T17:17:56.964Z"
   },
   {
    "duration": 26,
    "start_time": "2022-11-18T17:18:26.603Z"
   },
   {
    "duration": 177,
    "start_time": "2022-11-18T17:21:18.093Z"
   },
   {
    "duration": 28,
    "start_time": "2022-11-18T17:21:41.463Z"
   },
   {
    "duration": 29,
    "start_time": "2022-11-18T17:21:56.043Z"
   },
   {
    "duration": 27,
    "start_time": "2022-11-18T17:22:37.152Z"
   },
   {
    "duration": 28,
    "start_time": "2022-11-18T17:23:12.260Z"
   },
   {
    "duration": 4,
    "start_time": "2022-11-18T17:23:30.301Z"
   },
   {
    "duration": 15,
    "start_time": "2022-11-18T17:23:50.459Z"
   },
   {
    "duration": 5,
    "start_time": "2022-11-18T17:25:00.643Z"
   },
   {
    "duration": 15,
    "start_time": "2022-11-18T17:54:18.499Z"
   },
   {
    "duration": 35,
    "start_time": "2022-11-18T17:55:47.196Z"
   },
   {
    "duration": 51,
    "start_time": "2022-11-18T17:56:00.711Z"
   },
   {
    "duration": 19,
    "start_time": "2022-11-18T17:56:33.847Z"
   },
   {
    "duration": 19,
    "start_time": "2022-11-18T17:57:00.972Z"
   },
   {
    "duration": 37,
    "start_time": "2022-11-18T17:57:10.311Z"
   },
   {
    "duration": 20,
    "start_time": "2022-11-18T17:57:14.500Z"
   },
   {
    "duration": 57,
    "start_time": "2022-11-18T17:57:41.511Z"
   },
   {
    "duration": 14,
    "start_time": "2022-11-18T17:57:58.090Z"
   },
   {
    "duration": 12,
    "start_time": "2022-11-18T17:58:14.891Z"
   },
   {
    "duration": 1554,
    "start_time": "2022-11-18T17:58:32.133Z"
   },
   {
    "duration": 4,
    "start_time": "2022-11-18T17:58:33.689Z"
   },
   {
    "duration": 74,
    "start_time": "2022-11-18T17:58:33.694Z"
   },
   {
    "duration": 6,
    "start_time": "2022-11-18T17:58:33.770Z"
   },
   {
    "duration": 1038,
    "start_time": "2022-11-18T17:58:33.779Z"
   },
   {
    "duration": 5,
    "start_time": "2022-11-18T17:58:34.819Z"
   },
   {
    "duration": 15,
    "start_time": "2022-11-18T17:58:34.826Z"
   },
   {
    "duration": 15,
    "start_time": "2022-11-18T17:58:34.843Z"
   },
   {
    "duration": 8,
    "start_time": "2022-11-18T17:58:34.860Z"
   },
   {
    "duration": 47,
    "start_time": "2022-11-18T17:58:34.869Z"
   },
   {
    "duration": 15,
    "start_time": "2022-11-18T17:58:34.918Z"
   },
   {
    "duration": 17,
    "start_time": "2022-11-18T17:58:34.936Z"
   },
   {
    "duration": 1748,
    "start_time": "2022-11-18T17:58:34.954Z"
   },
   {
    "duration": 0,
    "start_time": "2022-11-18T17:58:36.706Z"
   },
   {
    "duration": 0,
    "start_time": "2022-11-18T17:58:36.708Z"
   },
   {
    "duration": 0,
    "start_time": "2022-11-18T17:58:36.710Z"
   },
   {
    "duration": 0,
    "start_time": "2022-11-18T17:58:36.711Z"
   },
   {
    "duration": 0,
    "start_time": "2022-11-18T17:58:36.712Z"
   },
   {
    "duration": 0,
    "start_time": "2022-11-18T17:58:36.714Z"
   },
   {
    "duration": 0,
    "start_time": "2022-11-18T17:58:36.715Z"
   },
   {
    "duration": 0,
    "start_time": "2022-11-18T17:58:36.717Z"
   },
   {
    "duration": 0,
    "start_time": "2022-11-18T17:58:36.718Z"
   },
   {
    "duration": 0,
    "start_time": "2022-11-18T17:58:36.720Z"
   },
   {
    "duration": 0,
    "start_time": "2022-11-18T17:58:36.722Z"
   },
   {
    "duration": 0,
    "start_time": "2022-11-18T17:58:36.723Z"
   },
   {
    "duration": 0,
    "start_time": "2022-11-18T17:58:36.725Z"
   },
   {
    "duration": 0,
    "start_time": "2022-11-18T17:58:36.726Z"
   },
   {
    "duration": 0,
    "start_time": "2022-11-18T17:58:36.728Z"
   },
   {
    "duration": 0,
    "start_time": "2022-11-18T17:58:36.728Z"
   },
   {
    "duration": 0,
    "start_time": "2022-11-18T17:58:36.729Z"
   },
   {
    "duration": 0,
    "start_time": "2022-11-18T17:58:36.730Z"
   },
   {
    "duration": 0,
    "start_time": "2022-11-18T17:58:36.731Z"
   },
   {
    "duration": 0,
    "start_time": "2022-11-18T17:58:36.732Z"
   },
   {
    "duration": 0,
    "start_time": "2022-11-18T17:58:36.734Z"
   },
   {
    "duration": 0,
    "start_time": "2022-11-18T17:58:36.736Z"
   },
   {
    "duration": 0,
    "start_time": "2022-11-18T17:58:36.737Z"
   },
   {
    "duration": 0,
    "start_time": "2022-11-18T17:58:36.738Z"
   },
   {
    "duration": 0,
    "start_time": "2022-11-18T17:58:36.739Z"
   },
   {
    "duration": 0,
    "start_time": "2022-11-18T17:58:36.740Z"
   },
   {
    "duration": 0,
    "start_time": "2022-11-18T17:58:36.741Z"
   },
   {
    "duration": 0,
    "start_time": "2022-11-18T17:58:36.742Z"
   },
   {
    "duration": 0,
    "start_time": "2022-11-18T17:58:36.743Z"
   },
   {
    "duration": 0,
    "start_time": "2022-11-18T17:58:36.745Z"
   },
   {
    "duration": 0,
    "start_time": "2022-11-18T17:58:36.746Z"
   },
   {
    "duration": 0,
    "start_time": "2022-11-18T17:58:36.747Z"
   },
   {
    "duration": 0,
    "start_time": "2022-11-18T17:58:36.748Z"
   },
   {
    "duration": 4,
    "start_time": "2022-11-18T17:58:53.134Z"
   },
   {
    "duration": 10,
    "start_time": "2022-11-18T17:58:53.140Z"
   },
   {
    "duration": 75,
    "start_time": "2022-11-18T17:58:53.152Z"
   },
   {
    "duration": 7,
    "start_time": "2022-11-18T17:58:53.228Z"
   },
   {
    "duration": 892,
    "start_time": "2022-11-18T17:58:53.237Z"
   },
   {
    "duration": 6,
    "start_time": "2022-11-18T17:58:54.132Z"
   },
   {
    "duration": 13,
    "start_time": "2022-11-18T17:58:54.139Z"
   },
   {
    "duration": 14,
    "start_time": "2022-11-18T17:58:54.154Z"
   },
   {
    "duration": 7,
    "start_time": "2022-11-18T17:58:54.169Z"
   },
   {
    "duration": 11,
    "start_time": "2022-11-18T17:58:54.218Z"
   },
   {
    "duration": 14,
    "start_time": "2022-11-18T17:58:54.231Z"
   },
   {
    "duration": 16,
    "start_time": "2022-11-18T17:58:54.246Z"
   },
   {
    "duration": 4298,
    "start_time": "2022-11-18T17:58:54.263Z"
   },
   {
    "duration": 458,
    "start_time": "2022-11-18T17:58:58.565Z"
   },
   {
    "duration": 9,
    "start_time": "2022-11-18T17:58:59.025Z"
   },
   {
    "duration": 14,
    "start_time": "2022-11-18T17:58:59.036Z"
   },
   {
    "duration": 61,
    "start_time": "2022-11-18T17:58:59.052Z"
   },
   {
    "duration": 12,
    "start_time": "2022-11-18T17:58:59.115Z"
   },
   {
    "duration": 19,
    "start_time": "2022-11-18T17:58:59.129Z"
   },
   {
    "duration": 64,
    "start_time": "2022-11-18T17:58:59.150Z"
   },
   {
    "duration": 9,
    "start_time": "2022-11-18T17:58:59.217Z"
   },
   {
    "duration": 13,
    "start_time": "2022-11-18T17:58:59.228Z"
   },
   {
    "duration": 10,
    "start_time": "2022-11-18T17:58:59.243Z"
   },
   {
    "duration": 106,
    "start_time": "2022-11-18T17:58:59.255Z"
   },
   {
    "duration": 8,
    "start_time": "2022-11-18T17:58:59.363Z"
   },
   {
    "duration": 9,
    "start_time": "2022-11-18T17:58:59.372Z"
   },
   {
    "duration": 39,
    "start_time": "2022-11-18T17:58:59.383Z"
   },
   {
    "duration": 9,
    "start_time": "2022-11-18T17:58:59.424Z"
   },
   {
    "duration": 45,
    "start_time": "2022-11-18T17:58:59.435Z"
   },
   {
    "duration": 17,
    "start_time": "2022-11-18T18:00:19.669Z"
   },
   {
    "duration": 20,
    "start_time": "2022-11-18T18:00:22.398Z"
   },
   {
    "duration": 17,
    "start_time": "2022-11-18T18:00:26.603Z"
   },
   {
    "duration": 922,
    "start_time": "2022-11-18T18:00:31.575Z"
   },
   {
    "duration": 5,
    "start_time": "2022-11-18T18:00:47.802Z"
   },
   {
    "duration": 6,
    "start_time": "2022-11-18T18:01:01.439Z"
   },
   {
    "duration": 8,
    "start_time": "2022-11-18T18:01:11.376Z"
   },
   {
    "duration": 7,
    "start_time": "2022-11-18T18:01:30.415Z"
   },
   {
    "duration": 7,
    "start_time": "2022-11-18T18:01:42.196Z"
   },
   {
    "duration": 5,
    "start_time": "2022-11-18T18:06:21.619Z"
   },
   {
    "duration": 5,
    "start_time": "2022-11-18T18:06:25.519Z"
   },
   {
    "duration": 17,
    "start_time": "2022-11-18T18:06:27.556Z"
   },
   {
    "duration": 11,
    "start_time": "2022-11-18T18:06:33.877Z"
   },
   {
    "duration": 4,
    "start_time": "2022-11-18T18:08:01.615Z"
   },
   {
    "duration": 6,
    "start_time": "2022-11-18T18:08:43.338Z"
   },
   {
    "duration": 18,
    "start_time": "2022-11-18T18:09:13.517Z"
   },
   {
    "duration": 1576,
    "start_time": "2022-11-18T18:09:38.201Z"
   },
   {
    "duration": 3,
    "start_time": "2022-11-18T18:09:39.779Z"
   },
   {
    "duration": 85,
    "start_time": "2022-11-18T18:09:39.783Z"
   },
   {
    "duration": 6,
    "start_time": "2022-11-18T18:09:39.870Z"
   },
   {
    "duration": 1015,
    "start_time": "2022-11-18T18:09:39.878Z"
   },
   {
    "duration": 22,
    "start_time": "2022-11-18T18:09:40.894Z"
   },
   {
    "duration": 16,
    "start_time": "2022-11-18T18:09:40.917Z"
   },
   {
    "duration": 12,
    "start_time": "2022-11-18T18:09:40.935Z"
   },
   {
    "duration": 7,
    "start_time": "2022-11-18T18:09:40.949Z"
   },
   {
    "duration": 57,
    "start_time": "2022-11-18T18:09:40.959Z"
   },
   {
    "duration": 15,
    "start_time": "2022-11-18T18:09:41.018Z"
   },
   {
    "duration": 17,
    "start_time": "2022-11-18T18:09:41.034Z"
   },
   {
    "duration": 4113,
    "start_time": "2022-11-18T18:09:41.052Z"
   },
   {
    "duration": 445,
    "start_time": "2022-11-18T18:09:45.170Z"
   },
   {
    "duration": 5,
    "start_time": "2022-11-18T18:09:45.617Z"
   },
   {
    "duration": 11,
    "start_time": "2022-11-18T18:09:45.624Z"
   },
   {
    "duration": 6,
    "start_time": "2022-11-18T18:09:45.637Z"
   },
   {
    "duration": 8,
    "start_time": "2022-11-18T18:09:45.644Z"
   },
   {
    "duration": 68,
    "start_time": "2022-11-18T18:09:45.653Z"
   },
   {
    "duration": 6,
    "start_time": "2022-11-18T18:09:45.723Z"
   },
   {
    "duration": 18,
    "start_time": "2022-11-18T18:09:45.731Z"
   },
   {
    "duration": 61,
    "start_time": "2022-11-18T18:09:45.751Z"
   },
   {
    "duration": 9,
    "start_time": "2022-11-18T18:09:45.814Z"
   },
   {
    "duration": 102,
    "start_time": "2022-11-18T18:09:45.825Z"
   },
   {
    "duration": 5,
    "start_time": "2022-11-18T18:09:45.929Z"
   },
   {
    "duration": 6,
    "start_time": "2022-11-18T18:09:45.937Z"
   },
   {
    "duration": 14,
    "start_time": "2022-11-18T18:09:45.944Z"
   },
   {
    "duration": 7,
    "start_time": "2022-11-18T18:09:45.959Z"
   },
   {
    "duration": 86,
    "start_time": "2022-11-18T18:09:45.968Z"
   },
   {
    "duration": 18,
    "start_time": "2022-11-18T18:09:46.055Z"
   },
   {
    "duration": 5,
    "start_time": "2022-11-18T18:09:46.074Z"
   },
   {
    "duration": 18,
    "start_time": "2022-11-18T18:10:19.692Z"
   },
   {
    "duration": 4,
    "start_time": "2022-11-18T18:10:21.821Z"
   },
   {
    "duration": 21,
    "start_time": "2022-11-18T18:10:23.479Z"
   },
   {
    "duration": 8,
    "start_time": "2022-11-18T18:14:31.510Z"
   },
   {
    "duration": 7,
    "start_time": "2022-11-18T18:14:57.678Z"
   },
   {
    "duration": 6,
    "start_time": "2022-11-18T18:17:48.737Z"
   },
   {
    "duration": 8,
    "start_time": "2022-11-18T18:18:27.058Z"
   },
   {
    "duration": 8,
    "start_time": "2022-11-18T18:18:53.218Z"
   },
   {
    "duration": 8,
    "start_time": "2022-11-18T18:19:03.017Z"
   },
   {
    "duration": 74,
    "start_time": "2022-11-18T18:20:21.401Z"
   },
   {
    "duration": 9,
    "start_time": "2022-11-18T18:21:45.878Z"
   },
   {
    "duration": 9,
    "start_time": "2022-11-18T18:22:13.268Z"
   },
   {
    "duration": 45,
    "start_time": "2022-11-18T18:23:11.799Z"
   },
   {
    "duration": 44,
    "start_time": "2022-11-18T18:23:28.657Z"
   },
   {
    "duration": 62,
    "start_time": "2022-11-18T18:23:39.368Z"
   },
   {
    "duration": 56,
    "start_time": "2022-11-18T18:24:05.177Z"
   },
   {
    "duration": 69,
    "start_time": "2022-11-18T18:24:17.336Z"
   },
   {
    "duration": 21,
    "start_time": "2022-11-18T18:28:17.518Z"
   },
   {
    "duration": 22,
    "start_time": "2022-11-18T18:28:22.077Z"
   },
   {
    "duration": 3235,
    "start_time": "2022-11-18T18:28:24.377Z"
   },
   {
    "duration": 9,
    "start_time": "2022-11-18T18:28:34.513Z"
   },
   {
    "duration": 10,
    "start_time": "2022-11-18T18:28:36.277Z"
   },
   {
    "duration": 25,
    "start_time": "2022-11-18T18:28:37.897Z"
   },
   {
    "duration": 2848,
    "start_time": "2022-11-18T18:28:53.190Z"
   },
   {
    "duration": 431,
    "start_time": "2022-11-18T18:31:45.437Z"
   },
   {
    "duration": 235,
    "start_time": "2022-11-18T18:34:01.958Z"
   },
   {
    "duration": 200,
    "start_time": "2022-11-18T18:37:36.089Z"
   },
   {
    "duration": 209,
    "start_time": "2022-11-18T18:37:39.521Z"
   },
   {
    "duration": 43,
    "start_time": "2022-11-18T18:37:56.609Z"
   },
   {
    "duration": 46,
    "start_time": "2022-11-18T18:38:02.082Z"
   },
   {
    "duration": 12,
    "start_time": "2022-11-18T18:39:20.789Z"
   },
   {
    "duration": 222,
    "start_time": "2022-11-18T18:39:32.968Z"
   },
   {
    "duration": 148,
    "start_time": "2022-11-18T18:41:03.489Z"
   },
   {
    "duration": 121,
    "start_time": "2022-11-18T18:41:14.689Z"
   },
   {
    "duration": 16,
    "start_time": "2022-11-18T18:41:31.056Z"
   },
   {
    "duration": 100,
    "start_time": "2022-11-18T18:41:45.249Z"
   },
   {
    "duration": 157,
    "start_time": "2022-11-18T18:54:56.671Z"
   },
   {
    "duration": 72,
    "start_time": "2022-11-18T18:55:13.551Z"
   },
   {
    "duration": 160,
    "start_time": "2022-11-18T18:58:07.070Z"
   },
   {
    "duration": 3,
    "start_time": "2022-11-18T19:01:20.731Z"
   },
   {
    "duration": 71,
    "start_time": "2022-11-18T19:06:47.118Z"
   },
   {
    "duration": 66,
    "start_time": "2022-11-18T19:07:06.769Z"
   },
   {
    "duration": 1611,
    "start_time": "2022-11-19T04:49:31.031Z"
   },
   {
    "duration": 3,
    "start_time": "2022-11-19T04:49:32.644Z"
   },
   {
    "duration": 112,
    "start_time": "2022-11-19T04:49:32.649Z"
   },
   {
    "duration": 6,
    "start_time": "2022-11-19T04:49:32.763Z"
   },
   {
    "duration": 902,
    "start_time": "2022-11-19T04:49:32.772Z"
   },
   {
    "duration": 5,
    "start_time": "2022-11-19T04:49:33.675Z"
   },
   {
    "duration": 30,
    "start_time": "2022-11-19T04:49:33.682Z"
   },
   {
    "duration": 7,
    "start_time": "2022-11-19T04:49:33.714Z"
   },
   {
    "duration": 12,
    "start_time": "2022-11-19T04:49:33.722Z"
   },
   {
    "duration": 6,
    "start_time": "2022-11-19T04:49:33.735Z"
   },
   {
    "duration": 12,
    "start_time": "2022-11-19T04:49:33.742Z"
   },
   {
    "duration": 14,
    "start_time": "2022-11-19T04:49:33.755Z"
   },
   {
    "duration": 50,
    "start_time": "2022-11-19T04:49:33.770Z"
   },
   {
    "duration": 3880,
    "start_time": "2022-11-19T04:49:33.823Z"
   },
   {
    "duration": 375,
    "start_time": "2022-11-19T04:49:37.706Z"
   },
   {
    "duration": 6,
    "start_time": "2022-11-19T04:49:38.113Z"
   },
   {
    "duration": 8,
    "start_time": "2022-11-19T04:49:38.120Z"
   },
   {
    "duration": 6,
    "start_time": "2022-11-19T04:49:38.130Z"
   },
   {
    "duration": 9,
    "start_time": "2022-11-19T04:49:38.137Z"
   },
   {
    "duration": 68,
    "start_time": "2022-11-19T04:49:38.148Z"
   },
   {
    "duration": 5,
    "start_time": "2022-11-19T04:49:38.218Z"
   },
   {
    "duration": 12,
    "start_time": "2022-11-19T04:49:38.225Z"
   },
   {
    "duration": 12,
    "start_time": "2022-11-19T04:49:38.239Z"
   },
   {
    "duration": 8,
    "start_time": "2022-11-19T04:49:38.253Z"
   },
   {
    "duration": 83,
    "start_time": "2022-11-19T04:49:38.263Z"
   },
   {
    "duration": 5,
    "start_time": "2022-11-19T04:49:38.347Z"
   },
   {
    "duration": 7,
    "start_time": "2022-11-19T04:49:38.354Z"
   },
   {
    "duration": 12,
    "start_time": "2022-11-19T04:49:38.363Z"
   },
   {
    "duration": 38,
    "start_time": "2022-11-19T04:49:38.377Z"
   },
   {
    "duration": 41,
    "start_time": "2022-11-19T04:49:38.416Z"
   },
   {
    "duration": 17,
    "start_time": "2022-11-19T04:49:38.459Z"
   },
   {
    "duration": 5,
    "start_time": "2022-11-19T04:49:38.478Z"
   },
   {
    "duration": 16,
    "start_time": "2022-11-19T04:49:38.511Z"
   },
   {
    "duration": 4,
    "start_time": "2022-11-19T04:49:38.529Z"
   },
   {
    "duration": 20,
    "start_time": "2022-11-19T04:49:38.535Z"
   },
   {
    "duration": 682,
    "start_time": "2022-11-19T04:49:38.556Z"
   },
   {
    "duration": 6,
    "start_time": "2022-11-19T04:49:39.239Z"
   },
   {
    "duration": 9,
    "start_time": "2022-11-19T04:49:39.246Z"
   },
   {
    "duration": 8,
    "start_time": "2022-11-19T04:49:39.312Z"
   },
   {
    "duration": 128,
    "start_time": "2022-11-19T04:49:39.321Z"
   },
   {
    "duration": 260,
    "start_time": "2022-11-19T04:49:39.452Z"
   },
   {
    "duration": 305,
    "start_time": "2022-11-19T04:49:39.714Z"
   },
   {
    "duration": 22,
    "start_time": "2022-11-19T04:49:40.021Z"
   },
   {
    "duration": 71,
    "start_time": "2022-11-19T04:49:40.045Z"
   },
   {
    "duration": 3397,
    "start_time": "2022-11-19T04:49:40.118Z"
   },
   {
    "duration": 9,
    "start_time": "2022-11-19T04:49:43.516Z"
   },
   {
    "duration": 10,
    "start_time": "2022-11-19T04:49:43.527Z"
   },
   {
    "duration": 24,
    "start_time": "2022-11-19T04:49:43.539Z"
   },
   {
    "duration": 2612,
    "start_time": "2022-11-19T04:49:43.564Z"
   },
   {
    "duration": 21,
    "start_time": "2022-11-19T04:53:10.570Z"
   },
   {
    "duration": 447,
    "start_time": "2022-11-19T05:00:45.510Z"
   },
   {
    "duration": 8,
    "start_time": "2022-11-19T05:01:57.370Z"
   },
   {
    "duration": 61,
    "start_time": "2022-11-19T05:02:24.630Z"
   },
   {
    "duration": 15,
    "start_time": "2022-11-19T05:04:50.551Z"
   },
   {
    "duration": 10,
    "start_time": "2022-11-19T05:05:11.410Z"
   },
   {
    "duration": 13,
    "start_time": "2022-11-19T05:07:25.899Z"
   },
   {
    "duration": 12,
    "start_time": "2022-11-19T05:08:37.910Z"
   },
   {
    "duration": 42,
    "start_time": "2022-11-19T05:10:10.280Z"
   },
   {
    "duration": 39,
    "start_time": "2022-11-19T05:11:34.320Z"
   },
   {
    "duration": 45,
    "start_time": "2022-11-19T05:12:01.593Z"
   },
   {
    "duration": 48,
    "start_time": "2022-11-19T05:12:16.032Z"
   },
   {
    "duration": 63,
    "start_time": "2022-11-19T05:23:29.760Z"
   },
   {
    "duration": 760,
    "start_time": "2022-11-19T05:23:49.981Z"
   },
   {
    "duration": 417,
    "start_time": "2022-11-19T05:24:03.461Z"
   },
   {
    "duration": 365,
    "start_time": "2022-11-19T05:24:38.402Z"
   },
   {
    "duration": 7,
    "start_time": "2022-11-19T05:24:57.421Z"
   },
   {
    "duration": 7,
    "start_time": "2022-11-19T05:25:59.961Z"
   },
   {
    "duration": 9,
    "start_time": "2022-11-19T05:26:51.321Z"
   },
   {
    "duration": 9,
    "start_time": "2022-11-19T05:28:07.701Z"
   },
   {
    "duration": 10,
    "start_time": "2022-11-19T05:28:39.322Z"
   },
   {
    "duration": 10,
    "start_time": "2022-11-19T05:28:45.762Z"
   },
   {
    "duration": 13,
    "start_time": "2022-11-19T05:30:19.940Z"
   },
   {
    "duration": 11,
    "start_time": "2022-11-19T05:30:45.821Z"
   },
   {
    "duration": 41,
    "start_time": "2022-11-19T05:31:33.521Z"
   },
   {
    "duration": 19,
    "start_time": "2022-11-19T05:32:26.446Z"
   },
   {
    "duration": 8,
    "start_time": "2022-11-19T05:32:36.552Z"
   },
   {
    "duration": 49,
    "start_time": "2022-11-19T05:33:34.799Z"
   },
   {
    "duration": 57,
    "start_time": "2022-11-19T05:33:46.401Z"
   },
   {
    "duration": 42,
    "start_time": "2022-11-19T05:34:40.281Z"
   },
   {
    "duration": 46,
    "start_time": "2022-11-19T05:49:26.650Z"
   },
   {
    "duration": 14,
    "start_time": "2022-11-19T05:49:32.217Z"
   },
   {
    "duration": 119,
    "start_time": "2022-11-19T05:49:50.835Z"
   },
   {
    "duration": 19,
    "start_time": "2022-11-19T06:53:14.493Z"
   },
   {
    "duration": 19,
    "start_time": "2022-11-19T06:53:20.133Z"
   },
   {
    "duration": 5,
    "start_time": "2022-11-19T06:54:29.992Z"
   },
   {
    "duration": 13,
    "start_time": "2022-11-19T07:25:15.519Z"
   },
   {
    "duration": 5,
    "start_time": "2022-11-19T07:25:38.034Z"
   },
   {
    "duration": 10,
    "start_time": "2022-11-19T07:25:40.317Z"
   },
   {
    "duration": 5,
    "start_time": "2022-11-19T07:25:48.104Z"
   },
   {
    "duration": 4,
    "start_time": "2022-11-19T07:25:59.065Z"
   },
   {
    "duration": 5,
    "start_time": "2022-11-19T07:26:02.304Z"
   },
   {
    "duration": 4,
    "start_time": "2022-11-19T07:26:05.431Z"
   },
   {
    "duration": 4,
    "start_time": "2022-11-19T07:26:22.983Z"
   },
   {
    "duration": 96,
    "start_time": "2022-11-19T07:28:50.022Z"
   },
   {
    "duration": 12,
    "start_time": "2022-11-19T07:28:53.572Z"
   },
   {
    "duration": 16,
    "start_time": "2022-11-19T07:29:28.860Z"
   },
   {
    "duration": 13,
    "start_time": "2022-11-19T07:30:19.195Z"
   },
   {
    "duration": 15,
    "start_time": "2022-11-19T07:30:46.402Z"
   },
   {
    "duration": 11,
    "start_time": "2022-11-19T07:43:57.672Z"
   },
   {
    "duration": 24,
    "start_time": "2022-11-19T07:44:03.266Z"
   },
   {
    "duration": 24,
    "start_time": "2022-11-19T07:44:15.502Z"
   },
   {
    "duration": 7,
    "start_time": "2022-11-19T07:44:34.578Z"
   },
   {
    "duration": 6,
    "start_time": "2022-11-19T07:44:52.328Z"
   },
   {
    "duration": 13,
    "start_time": "2022-11-19T07:45:19.685Z"
   },
   {
    "duration": 13,
    "start_time": "2022-11-19T07:45:23.719Z"
   },
   {
    "duration": 5,
    "start_time": "2022-11-19T08:10:10.555Z"
   },
   {
    "duration": 11,
    "start_time": "2022-11-19T08:11:06.862Z"
   },
   {
    "duration": 5,
    "start_time": "2022-11-19T08:11:24.810Z"
   },
   {
    "duration": 5,
    "start_time": "2022-11-19T08:11:28.613Z"
   },
   {
    "duration": 11,
    "start_time": "2022-11-19T08:11:47.216Z"
   },
   {
    "duration": 3,
    "start_time": "2022-11-19T08:18:13.947Z"
   },
   {
    "duration": 8,
    "start_time": "2022-11-19T08:19:03.045Z"
   },
   {
    "duration": 24,
    "start_time": "2022-11-19T08:19:17.326Z"
   },
   {
    "duration": 5,
    "start_time": "2022-11-19T08:27:26.179Z"
   },
   {
    "duration": 5,
    "start_time": "2022-11-19T08:28:15.213Z"
   },
   {
    "duration": 8,
    "start_time": "2022-11-19T08:28:30.184Z"
   },
   {
    "duration": 12,
    "start_time": "2022-11-19T08:29:02.146Z"
   },
   {
    "duration": 7,
    "start_time": "2022-11-19T08:29:11.110Z"
   },
   {
    "duration": 6,
    "start_time": "2022-11-19T08:31:38.804Z"
   },
   {
    "duration": 6,
    "start_time": "2022-11-19T08:31:57.778Z"
   },
   {
    "duration": 5,
    "start_time": "2022-11-19T08:32:05.151Z"
   },
   {
    "duration": 2,
    "start_time": "2022-11-19T08:33:03.509Z"
   },
   {
    "duration": 9,
    "start_time": "2022-11-19T08:34:44.939Z"
   },
   {
    "duration": 26,
    "start_time": "2022-11-19T08:34:53.304Z"
   },
   {
    "duration": 1522,
    "start_time": "2022-11-19T08:37:31.037Z"
   },
   {
    "duration": 3,
    "start_time": "2022-11-19T08:37:32.561Z"
   },
   {
    "duration": 70,
    "start_time": "2022-11-19T08:37:32.566Z"
   },
   {
    "duration": 6,
    "start_time": "2022-11-19T08:37:32.638Z"
   },
   {
    "duration": 973,
    "start_time": "2022-11-19T08:37:32.645Z"
   },
   {
    "duration": 5,
    "start_time": "2022-11-19T08:37:33.620Z"
   },
   {
    "duration": 51,
    "start_time": "2022-11-19T08:37:33.627Z"
   },
   {
    "duration": 15,
    "start_time": "2022-11-19T08:37:33.679Z"
   },
   {
    "duration": 19,
    "start_time": "2022-11-19T08:37:33.695Z"
   },
   {
    "duration": 7,
    "start_time": "2022-11-19T08:37:33.716Z"
   },
   {
    "duration": 25,
    "start_time": "2022-11-19T08:37:33.724Z"
   },
   {
    "duration": 37,
    "start_time": "2022-11-19T08:37:33.750Z"
   },
   {
    "duration": 39,
    "start_time": "2022-11-19T08:37:33.788Z"
   },
   {
    "duration": 4072,
    "start_time": "2022-11-19T08:37:33.828Z"
   },
   {
    "duration": 446,
    "start_time": "2022-11-19T08:37:37.903Z"
   },
   {
    "duration": 7,
    "start_time": "2022-11-19T08:37:38.350Z"
   },
   {
    "duration": 67,
    "start_time": "2022-11-19T08:37:38.359Z"
   },
   {
    "duration": 20,
    "start_time": "2022-11-19T08:37:38.427Z"
   },
   {
    "duration": 10,
    "start_time": "2022-11-19T08:37:38.448Z"
   },
   {
    "duration": 62,
    "start_time": "2022-11-19T08:37:38.460Z"
   },
   {
    "duration": 5,
    "start_time": "2022-11-19T08:37:38.523Z"
   },
   {
    "duration": 57,
    "start_time": "2022-11-19T08:37:38.530Z"
   },
   {
    "duration": 55,
    "start_time": "2022-11-19T08:37:38.588Z"
   },
   {
    "duration": 8,
    "start_time": "2022-11-19T08:37:38.645Z"
   },
   {
    "duration": 69,
    "start_time": "2022-11-19T08:37:38.655Z"
   },
   {
    "duration": 5,
    "start_time": "2022-11-19T08:37:38.726Z"
   },
   {
    "duration": 37,
    "start_time": "2022-11-19T08:37:38.733Z"
   },
   {
    "duration": 23,
    "start_time": "2022-11-19T08:37:38.773Z"
   },
   {
    "duration": 25,
    "start_time": "2022-11-19T08:37:38.798Z"
   },
   {
    "duration": 53,
    "start_time": "2022-11-19T08:37:38.825Z"
   },
   {
    "duration": 18,
    "start_time": "2022-11-19T08:37:38.880Z"
   },
   {
    "duration": 12,
    "start_time": "2022-11-19T08:37:38.900Z"
   },
   {
    "duration": 19,
    "start_time": "2022-11-19T08:37:38.914Z"
   },
   {
    "duration": 5,
    "start_time": "2022-11-19T08:37:38.934Z"
   },
   {
    "duration": 16,
    "start_time": "2022-11-19T08:37:38.941Z"
   },
   {
    "duration": 69,
    "start_time": "2022-11-19T08:37:38.958Z"
   },
   {
    "duration": 40,
    "start_time": "2022-11-19T08:37:39.029Z"
   },
   {
    "duration": 59,
    "start_time": "2022-11-19T08:37:39.071Z"
   },
   {
    "duration": 11,
    "start_time": "2022-11-19T08:37:39.131Z"
   },
   {
    "duration": 23,
    "start_time": "2022-11-19T08:37:39.144Z"
   },
   {
    "duration": 476,
    "start_time": "2022-11-19T08:37:39.169Z"
   },
   {
    "duration": 17,
    "start_time": "2022-11-19T08:37:39.646Z"
   },
   {
    "duration": 10,
    "start_time": "2022-11-19T08:37:39.664Z"
   },
   {
    "duration": 38,
    "start_time": "2022-11-19T08:37:39.676Z"
   },
   {
    "duration": 8,
    "start_time": "2022-11-19T08:37:39.716Z"
   },
   {
    "duration": 9,
    "start_time": "2022-11-19T08:37:39.726Z"
   },
   {
    "duration": 106,
    "start_time": "2022-11-19T08:37:39.737Z"
   },
   {
    "duration": 147,
    "start_time": "2022-11-19T08:37:39.845Z"
   },
   {
    "duration": 227,
    "start_time": "2022-11-19T08:37:39.994Z"
   },
   {
    "duration": 26,
    "start_time": "2022-11-19T08:37:40.223Z"
   },
   {
    "duration": 22,
    "start_time": "2022-11-19T08:37:40.251Z"
   },
   {
    "duration": 3266,
    "start_time": "2022-11-19T08:37:40.275Z"
   },
   {
    "duration": 11,
    "start_time": "2022-11-19T08:37:43.543Z"
   },
   {
    "duration": 82,
    "start_time": "2022-11-19T08:37:43.556Z"
   },
   {
    "duration": 48,
    "start_time": "2022-11-19T08:37:43.640Z"
   },
   {
    "duration": 2918,
    "start_time": "2022-11-19T08:37:43.690Z"
   },
   {
    "duration": 9,
    "start_time": "2022-11-19T08:38:28.073Z"
   },
   {
    "duration": 26,
    "start_time": "2022-11-19T08:38:37.674Z"
   },
   {
    "duration": 21,
    "start_time": "2022-11-19T10:39:27.699Z"
   },
   {
    "duration": 23,
    "start_time": "2022-11-19T10:40:53.481Z"
   },
   {
    "duration": 10,
    "start_time": "2022-11-19T10:41:21.584Z"
   },
   {
    "duration": 866,
    "start_time": "2022-11-19T10:42:56.885Z"
   },
   {
    "duration": 57,
    "start_time": "2022-11-19T11:48:21.056Z"
   },
   {
    "duration": 4,
    "start_time": "2022-11-19T11:48:45.800Z"
   },
   {
    "duration": 48,
    "start_time": "2022-11-19T11:48:54.399Z"
   },
   {
    "duration": 3,
    "start_time": "2022-11-19T11:49:03.291Z"
   },
   {
    "duration": 222,
    "start_time": "2022-11-19T11:50:40.923Z"
   },
   {
    "duration": 194,
    "start_time": "2022-11-19T11:51:07.724Z"
   },
   {
    "duration": 194,
    "start_time": "2022-11-19T11:51:40.179Z"
   },
   {
    "duration": 12,
    "start_time": "2022-11-19T11:54:02.281Z"
   },
   {
    "duration": 24,
    "start_time": "2022-11-19T11:54:16.240Z"
   },
   {
    "duration": 25,
    "start_time": "2022-11-19T11:55:03.601Z"
   },
   {
    "duration": 26,
    "start_time": "2022-11-19T11:55:19.042Z"
   },
   {
    "duration": 11,
    "start_time": "2022-11-19T11:55:36.800Z"
   },
   {
    "duration": 24,
    "start_time": "2022-11-19T11:56:13.652Z"
   },
   {
    "duration": 2,
    "start_time": "2022-11-19T11:56:28.976Z"
   },
   {
    "duration": 10,
    "start_time": "2022-11-19T11:57:04.494Z"
   },
   {
    "duration": 38,
    "start_time": "2022-11-19T11:57:35.942Z"
   },
   {
    "duration": 11,
    "start_time": "2022-11-19T12:01:33.777Z"
   },
   {
    "duration": 41,
    "start_time": "2022-11-19T12:02:09.376Z"
   },
   {
    "duration": 5,
    "start_time": "2022-11-19T12:02:33.283Z"
   },
   {
    "duration": 2,
    "start_time": "2022-11-19T12:26:21.798Z"
   },
   {
    "duration": 1927,
    "start_time": "2022-12-01T15:35:50.560Z"
   },
   {
    "duration": 0,
    "start_time": "2022-12-01T15:35:52.495Z"
   },
   {
    "duration": 0,
    "start_time": "2022-12-01T15:35:52.497Z"
   },
   {
    "duration": 0,
    "start_time": "2022-12-01T15:35:52.515Z"
   },
   {
    "duration": 0,
    "start_time": "2022-12-01T15:35:52.516Z"
   },
   {
    "duration": 0,
    "start_time": "2022-12-01T15:35:52.518Z"
   },
   {
    "duration": 0,
    "start_time": "2022-12-01T15:35:52.521Z"
   },
   {
    "duration": 0,
    "start_time": "2022-12-01T15:35:52.523Z"
   },
   {
    "duration": 0,
    "start_time": "2022-12-01T15:35:52.525Z"
   },
   {
    "duration": 0,
    "start_time": "2022-12-01T15:35:52.527Z"
   },
   {
    "duration": 0,
    "start_time": "2022-12-01T15:35:52.528Z"
   },
   {
    "duration": 0,
    "start_time": "2022-12-01T15:35:52.530Z"
   },
   {
    "duration": 0,
    "start_time": "2022-12-01T15:35:52.532Z"
   },
   {
    "duration": 0,
    "start_time": "2022-12-01T15:35:52.533Z"
   },
   {
    "duration": 0,
    "start_time": "2022-12-01T15:35:52.534Z"
   },
   {
    "duration": 0,
    "start_time": "2022-12-01T15:35:52.537Z"
   },
   {
    "duration": 0,
    "start_time": "2022-12-01T15:35:52.538Z"
   },
   {
    "duration": 0,
    "start_time": "2022-12-01T15:35:52.540Z"
   },
   {
    "duration": 0,
    "start_time": "2022-12-01T15:35:52.541Z"
   },
   {
    "duration": 0,
    "start_time": "2022-12-01T15:35:52.543Z"
   },
   {
    "duration": 0,
    "start_time": "2022-12-01T15:35:52.544Z"
   },
   {
    "duration": 0,
    "start_time": "2022-12-01T15:35:52.545Z"
   },
   {
    "duration": 0,
    "start_time": "2022-12-01T15:35:52.547Z"
   },
   {
    "duration": 0,
    "start_time": "2022-12-01T15:35:52.548Z"
   },
   {
    "duration": 0,
    "start_time": "2022-12-01T15:35:52.549Z"
   },
   {
    "duration": 0,
    "start_time": "2022-12-01T15:35:52.550Z"
   },
   {
    "duration": 0,
    "start_time": "2022-12-01T15:35:52.552Z"
   },
   {
    "duration": 0,
    "start_time": "2022-12-01T15:35:52.554Z"
   },
   {
    "duration": 0,
    "start_time": "2022-12-01T15:35:52.555Z"
   },
   {
    "duration": 0,
    "start_time": "2022-12-01T15:35:52.616Z"
   },
   {
    "duration": 0,
    "start_time": "2022-12-01T15:35:52.618Z"
   },
   {
    "duration": 0,
    "start_time": "2022-12-01T15:35:52.620Z"
   },
   {
    "duration": 1,
    "start_time": "2022-12-01T15:35:52.621Z"
   },
   {
    "duration": 0,
    "start_time": "2022-12-01T15:35:52.623Z"
   },
   {
    "duration": 0,
    "start_time": "2022-12-01T15:35:52.624Z"
   },
   {
    "duration": 0,
    "start_time": "2022-12-01T15:35:52.626Z"
   },
   {
    "duration": 0,
    "start_time": "2022-12-01T15:35:52.627Z"
   },
   {
    "duration": 0,
    "start_time": "2022-12-01T15:35:52.628Z"
   },
   {
    "duration": 0,
    "start_time": "2022-12-01T15:35:52.629Z"
   },
   {
    "duration": 0,
    "start_time": "2022-12-01T15:35:52.631Z"
   },
   {
    "duration": 0,
    "start_time": "2022-12-01T15:35:52.632Z"
   },
   {
    "duration": 0,
    "start_time": "2022-12-01T15:35:52.634Z"
   },
   {
    "duration": 0,
    "start_time": "2022-12-01T15:35:52.636Z"
   },
   {
    "duration": 0,
    "start_time": "2022-12-01T15:35:52.637Z"
   },
   {
    "duration": 0,
    "start_time": "2022-12-01T15:35:52.639Z"
   },
   {
    "duration": 0,
    "start_time": "2022-12-01T15:35:52.640Z"
   },
   {
    "duration": 0,
    "start_time": "2022-12-01T15:35:52.642Z"
   },
   {
    "duration": 0,
    "start_time": "2022-12-01T15:35:52.643Z"
   },
   {
    "duration": 0,
    "start_time": "2022-12-01T15:35:52.644Z"
   },
   {
    "duration": 0,
    "start_time": "2022-12-01T15:35:52.645Z"
   },
   {
    "duration": 0,
    "start_time": "2022-12-01T15:35:52.646Z"
   },
   {
    "duration": 0,
    "start_time": "2022-12-01T15:35:52.647Z"
   },
   {
    "duration": 0,
    "start_time": "2022-12-01T15:35:52.649Z"
   },
   {
    "duration": 0,
    "start_time": "2022-12-01T15:35:52.650Z"
   },
   {
    "duration": 0,
    "start_time": "2022-12-01T15:35:52.651Z"
   },
   {
    "duration": 1,
    "start_time": "2022-12-01T15:35:52.652Z"
   },
   {
    "duration": 0,
    "start_time": "2022-12-01T15:35:52.654Z"
   },
   {
    "duration": 0,
    "start_time": "2022-12-01T15:35:52.656Z"
   },
   {
    "duration": 0,
    "start_time": "2022-12-01T15:35:52.716Z"
   },
   {
    "duration": 0,
    "start_time": "2022-12-01T15:35:52.718Z"
   },
   {
    "duration": 0,
    "start_time": "2022-12-01T15:35:52.720Z"
   },
   {
    "duration": 0,
    "start_time": "2022-12-01T15:35:52.722Z"
   },
   {
    "duration": 0,
    "start_time": "2022-12-01T15:35:52.723Z"
   },
   {
    "duration": 0,
    "start_time": "2022-12-01T15:35:52.725Z"
   },
   {
    "duration": 0,
    "start_time": "2022-12-01T15:35:52.726Z"
   },
   {
    "duration": 0,
    "start_time": "2022-12-01T15:35:52.728Z"
   },
   {
    "duration": 0,
    "start_time": "2022-12-01T15:35:52.730Z"
   },
   {
    "duration": 0,
    "start_time": "2022-12-01T15:35:52.733Z"
   },
   {
    "duration": 0,
    "start_time": "2022-12-01T15:35:52.734Z"
   },
   {
    "duration": 0,
    "start_time": "2022-12-01T15:35:52.735Z"
   },
   {
    "duration": 0,
    "start_time": "2022-12-01T15:35:52.740Z"
   },
   {
    "duration": 1,
    "start_time": "2022-12-01T15:35:52.741Z"
   },
   {
    "duration": 0,
    "start_time": "2022-12-01T15:35:52.743Z"
   },
   {
    "duration": 0,
    "start_time": "2022-12-01T15:35:52.744Z"
   },
   {
    "duration": 0,
    "start_time": "2022-12-01T15:35:52.746Z"
   },
   {
    "duration": 0,
    "start_time": "2022-12-01T15:35:52.748Z"
   },
   {
    "duration": 0,
    "start_time": "2022-12-01T15:35:52.749Z"
   },
   {
    "duration": 0,
    "start_time": "2022-12-01T15:35:52.750Z"
   },
   {
    "duration": 0,
    "start_time": "2022-12-01T15:35:52.752Z"
   },
   {
    "duration": 0,
    "start_time": "2022-12-01T15:35:52.753Z"
   },
   {
    "duration": 0,
    "start_time": "2022-12-01T15:35:52.755Z"
   },
   {
    "duration": 0,
    "start_time": "2022-12-01T15:35:52.756Z"
   },
   {
    "duration": 0,
    "start_time": "2022-12-01T15:35:52.815Z"
   },
   {
    "duration": 0,
    "start_time": "2022-12-01T15:35:52.817Z"
   },
   {
    "duration": 0,
    "start_time": "2022-12-01T15:35:52.819Z"
   },
   {
    "duration": 0,
    "start_time": "2022-12-01T15:35:52.821Z"
   },
   {
    "duration": 0,
    "start_time": "2022-12-01T15:35:52.822Z"
   },
   {
    "duration": 0,
    "start_time": "2022-12-01T15:35:52.824Z"
   },
   {
    "duration": 0,
    "start_time": "2022-12-01T15:35:52.826Z"
   },
   {
    "duration": 0,
    "start_time": "2022-12-01T15:35:52.827Z"
   },
   {
    "duration": 0,
    "start_time": "2022-12-01T15:35:52.829Z"
   },
   {
    "duration": 0,
    "start_time": "2022-12-01T15:35:52.831Z"
   },
   {
    "duration": 0,
    "start_time": "2022-12-01T15:35:52.832Z"
   },
   {
    "duration": 0,
    "start_time": "2022-12-01T15:35:52.834Z"
   },
   {
    "duration": 0,
    "start_time": "2022-12-01T15:35:52.835Z"
   },
   {
    "duration": 0,
    "start_time": "2022-12-01T15:35:52.837Z"
   },
   {
    "duration": 0,
    "start_time": "2022-12-01T15:35:52.838Z"
   },
   {
    "duration": 0,
    "start_time": "2022-12-01T15:35:52.839Z"
   },
   {
    "duration": 0,
    "start_time": "2022-12-01T15:35:52.840Z"
   },
   {
    "duration": 0,
    "start_time": "2022-12-01T15:35:52.841Z"
   },
   {
    "duration": 0,
    "start_time": "2022-12-01T15:35:52.842Z"
   },
   {
    "duration": 0,
    "start_time": "2022-12-01T15:35:52.843Z"
   },
   {
    "duration": 0,
    "start_time": "2022-12-01T15:35:52.844Z"
   },
   {
    "duration": 0,
    "start_time": "2022-12-01T15:35:52.846Z"
   },
   {
    "duration": 0,
    "start_time": "2022-12-01T15:35:52.847Z"
   },
   {
    "duration": 0,
    "start_time": "2022-12-01T15:35:52.848Z"
   },
   {
    "duration": 0,
    "start_time": "2022-12-01T15:35:52.849Z"
   },
   {
    "duration": 0,
    "start_time": "2022-12-01T15:35:52.852Z"
   },
   {
    "duration": 0,
    "start_time": "2022-12-01T15:35:52.853Z"
   },
   {
    "duration": 0,
    "start_time": "2022-12-01T15:35:52.915Z"
   },
   {
    "duration": 0,
    "start_time": "2022-12-01T15:35:52.917Z"
   },
   {
    "duration": 0,
    "start_time": "2022-12-01T15:35:52.918Z"
   },
   {
    "duration": 0,
    "start_time": "2022-12-01T15:35:52.920Z"
   },
   {
    "duration": 0,
    "start_time": "2022-12-01T15:35:52.921Z"
   },
   {
    "duration": 0,
    "start_time": "2022-12-01T15:35:52.923Z"
   },
   {
    "duration": 0,
    "start_time": "2022-12-01T15:35:52.924Z"
   },
   {
    "duration": 0,
    "start_time": "2022-12-01T15:35:52.926Z"
   },
   {
    "duration": 0,
    "start_time": "2022-12-01T15:35:52.928Z"
   },
   {
    "duration": 0,
    "start_time": "2022-12-01T15:35:52.929Z"
   },
   {
    "duration": 0,
    "start_time": "2022-12-01T15:35:52.931Z"
   },
   {
    "duration": 0,
    "start_time": "2022-12-01T15:35:52.932Z"
   },
   {
    "duration": 0,
    "start_time": "2022-12-01T15:35:52.934Z"
   },
   {
    "duration": 0,
    "start_time": "2022-12-01T15:35:52.935Z"
   },
   {
    "duration": 0,
    "start_time": "2022-12-01T15:35:52.937Z"
   },
   {
    "duration": 0,
    "start_time": "2022-12-01T15:35:52.938Z"
   },
   {
    "duration": 0,
    "start_time": "2022-12-01T15:35:52.939Z"
   },
   {
    "duration": 0,
    "start_time": "2022-12-01T15:35:52.941Z"
   },
   {
    "duration": 0,
    "start_time": "2022-12-01T15:35:52.942Z"
   },
   {
    "duration": 0,
    "start_time": "2022-12-01T15:35:52.944Z"
   },
   {
    "duration": 0,
    "start_time": "2022-12-01T15:35:52.946Z"
   },
   {
    "duration": 0,
    "start_time": "2022-12-01T15:35:52.947Z"
   },
   {
    "duration": 0,
    "start_time": "2022-12-01T15:35:52.948Z"
   },
   {
    "duration": 0,
    "start_time": "2022-12-01T15:35:52.950Z"
   },
   {
    "duration": 0,
    "start_time": "2022-12-01T15:35:52.951Z"
   },
   {
    "duration": 0,
    "start_time": "2022-12-01T15:35:52.953Z"
   },
   {
    "duration": 3,
    "start_time": "2022-12-01T15:36:01.554Z"
   },
   {
    "duration": 226,
    "start_time": "2022-12-01T15:36:01.559Z"
   },
   {
    "duration": 6,
    "start_time": "2022-12-01T15:36:01.787Z"
   },
   {
    "duration": 1167,
    "start_time": "2022-12-01T15:36:01.794Z"
   },
   {
    "duration": 6,
    "start_time": "2022-12-01T15:36:02.963Z"
   },
   {
    "duration": 40,
    "start_time": "2022-12-01T15:36:02.970Z"
   },
   {
    "duration": 3091,
    "start_time": "2022-12-01T15:36:03.016Z"
   },
   {
    "duration": 9,
    "start_time": "2022-12-01T15:36:06.109Z"
   },
   {
    "duration": 25,
    "start_time": "2022-12-01T15:36:06.120Z"
   },
   {
    "duration": 30,
    "start_time": "2022-12-01T15:36:06.147Z"
   },
   {
    "duration": 2704,
    "start_time": "2022-12-01T15:36:06.179Z"
   },
   {
    "duration": 30,
    "start_time": "2022-12-01T15:36:08.885Z"
   },
   {
    "duration": 7,
    "start_time": "2022-12-01T15:36:08.917Z"
   },
   {
    "duration": 34,
    "start_time": "2022-12-01T15:36:08.925Z"
   },
   {
    "duration": 154,
    "start_time": "2022-12-01T15:36:08.961Z"
   },
   {
    "duration": 17,
    "start_time": "2022-12-01T15:36:09.117Z"
   },
   {
    "duration": 14,
    "start_time": "2022-12-01T15:36:09.136Z"
   },
   {
    "duration": 13,
    "start_time": "2022-12-01T15:36:09.153Z"
   },
   {
    "duration": 15,
    "start_time": "2022-12-01T15:36:09.168Z"
   },
   {
    "duration": 33,
    "start_time": "2022-12-01T15:36:09.185Z"
   },
   {
    "duration": 7,
    "start_time": "2022-12-01T15:36:09.220Z"
   },
   {
    "duration": 14,
    "start_time": "2022-12-01T15:36:09.229Z"
   },
   {
    "duration": 19,
    "start_time": "2022-12-01T15:36:09.245Z"
   },
   {
    "duration": 10333,
    "start_time": "2022-12-01T15:36:09.266Z"
   },
   {
    "duration": 842,
    "start_time": "2022-12-01T15:36:19.601Z"
   },
   {
    "duration": 8,
    "start_time": "2022-12-01T15:36:20.446Z"
   },
   {
    "duration": 70,
    "start_time": "2022-12-01T15:36:20.462Z"
   },
   {
    "duration": 23,
    "start_time": "2022-12-01T15:36:20.534Z"
   },
   {
    "duration": 7,
    "start_time": "2022-12-01T15:36:20.564Z"
   },
   {
    "duration": 22,
    "start_time": "2022-12-01T15:36:20.574Z"
   },
   {
    "duration": 247,
    "start_time": "2022-12-01T15:36:20.597Z"
   },
   {
    "duration": 8,
    "start_time": "2022-12-01T15:36:20.847Z"
   },
   {
    "duration": 15,
    "start_time": "2022-12-01T15:36:20.857Z"
   },
   {
    "duration": 14,
    "start_time": "2022-12-01T15:36:20.874Z"
   },
   {
    "duration": 4,
    "start_time": "2022-12-01T15:36:20.890Z"
   },
   {
    "duration": 6,
    "start_time": "2022-12-01T15:36:20.920Z"
   },
   {
    "duration": 23,
    "start_time": "2022-12-01T15:36:20.928Z"
   },
   {
    "duration": 19,
    "start_time": "2022-12-01T15:36:20.953Z"
   },
   {
    "duration": 21,
    "start_time": "2022-12-01T15:36:20.974Z"
   },
   {
    "duration": 189,
    "start_time": "2022-12-01T15:36:20.997Z"
   },
   {
    "duration": 4,
    "start_time": "2022-12-01T15:36:21.188Z"
   },
   {
    "duration": 41,
    "start_time": "2022-12-01T15:36:21.194Z"
   },
   {
    "duration": 33,
    "start_time": "2022-12-01T15:36:21.237Z"
   },
   {
    "duration": 18,
    "start_time": "2022-12-01T15:36:21.272Z"
   },
   {
    "duration": 10,
    "start_time": "2022-12-01T15:36:21.292Z"
   },
   {
    "duration": 85,
    "start_time": "2022-12-01T15:36:21.304Z"
   },
   {
    "duration": 5,
    "start_time": "2022-12-01T15:36:21.392Z"
   },
   {
    "duration": 24,
    "start_time": "2022-12-01T15:36:21.399Z"
   },
   {
    "duration": 22,
    "start_time": "2022-12-01T15:36:21.424Z"
   },
   {
    "duration": 35,
    "start_time": "2022-12-01T15:36:21.451Z"
   },
   {
    "duration": 17,
    "start_time": "2022-12-01T15:36:21.489Z"
   },
   {
    "duration": 63,
    "start_time": "2022-12-01T15:36:21.508Z"
   },
   {
    "duration": 54,
    "start_time": "2022-12-01T15:36:21.573Z"
   },
   {
    "duration": 22,
    "start_time": "2022-12-01T15:36:21.630Z"
   },
   {
    "duration": 27,
    "start_time": "2022-12-01T15:36:21.654Z"
   },
   {
    "duration": 20,
    "start_time": "2022-12-01T15:36:21.683Z"
   },
   {
    "duration": 57,
    "start_time": "2022-12-01T15:36:21.707Z"
   },
   {
    "duration": 63,
    "start_time": "2022-12-01T15:36:21.766Z"
   },
   {
    "duration": 57,
    "start_time": "2022-12-01T15:36:21.831Z"
   },
   {
    "duration": 73,
    "start_time": "2022-12-01T15:36:21.890Z"
   },
   {
    "duration": 22,
    "start_time": "2022-12-01T15:36:21.966Z"
   },
   {
    "duration": 27,
    "start_time": "2022-12-01T15:36:21.990Z"
   },
   {
    "duration": 16,
    "start_time": "2022-12-01T15:52:18.119Z"
   },
   {
    "duration": 9,
    "start_time": "2022-12-01T15:52:52.205Z"
   },
   {
    "duration": 15,
    "start_time": "2022-12-01T15:55:13.651Z"
   },
   {
    "duration": 15,
    "start_time": "2022-12-01T16:00:28.180Z"
   },
   {
    "duration": 9,
    "start_time": "2022-12-01T16:00:29.576Z"
   },
   {
    "duration": 7,
    "start_time": "2022-12-01T16:00:31.516Z"
   },
   {
    "duration": 5,
    "start_time": "2022-12-01T16:06:24.443Z"
   },
   {
    "duration": 13,
    "start_time": "2022-12-01T16:06:35.448Z"
   },
   {
    "duration": 1969,
    "start_time": "2022-12-01T16:07:58.558Z"
   },
   {
    "duration": 1131,
    "start_time": "2022-12-01T16:08:12.587Z"
   },
   {
    "duration": 435,
    "start_time": "2022-12-01T16:08:49.831Z"
   },
   {
    "duration": 7,
    "start_time": "2022-12-01T16:09:01.584Z"
   },
   {
    "duration": 206,
    "start_time": "2022-12-01T16:10:10.308Z"
   }
  ],
  "kernelspec": {
   "display_name": "Python 3 (ipykernel)",
   "language": "python",
   "name": "python3"
  },
  "language_info": {
   "codemirror_mode": {
    "name": "ipython",
    "version": 3
   },
   "file_extension": ".py",
   "mimetype": "text/x-python",
   "name": "python",
   "nbconvert_exporter": "python",
   "pygments_lexer": "ipython3",
   "version": "3.9.12"
  },
  "toc": {
   "base_numbering": 1,
   "nav_menu": {
    "height": "190.98px",
    "width": "473.988px"
   },
   "number_sections": true,
   "sideBar": true,
   "skip_h1_title": true,
   "title_cell": "Содержание",
   "title_sidebar": "Contents",
   "toc_cell": true,
   "toc_position": {
    "height": "calc(100% - 180px)",
    "left": "10px",
    "top": "150px",
    "width": "277.227px"
   },
   "toc_section_display": true,
   "toc_window_display": true
  }
 },
 "nbformat": 4,
 "nbformat_minor": 2
}
