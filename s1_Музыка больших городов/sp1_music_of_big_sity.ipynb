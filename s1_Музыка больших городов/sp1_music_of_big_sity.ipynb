{
 "cells": [
  {
   "cell_type": "markdown",
   "metadata": {
    "deletable": false,
    "editable": false,
    "id": "E0vqbgi9ay0H"
   },
   "source": [
    "# Яндекс Музыка"
   ]
  },
  {
   "cell_type": "markdown",
   "metadata": {
    "deletable": false,
    "editable": false,
    "id": "VUC88oWjTJw2"
   },
   "source": [
    "Сравнение Москвы и Петербурга окружено мифами. Например:\n",
    " * Москва — мегаполис, подчинённый жёсткому ритму рабочей недели;\n",
    " * Петербург — культурная столица, со своими вкусами.\n",
    "\n",
    "На данных Яндекс Музыки вы сравните поведение пользователей двух столиц.\n",
    "\n",
    "**Цель исследования** — проверьте три гипотезы:\n",
    "1. Активность пользователей зависит от дня недели. Причём в Москве и Петербурге это проявляется по-разному.\n",
    "2. В понедельник утром в Москве преобладают одни жанры, а в Петербурге — другие. Так же и вечером пятницы преобладают разные жанры — в зависимости от города. \n",
    "3. Москва и Петербург предпочитают разные жанры музыки. В Москве чаще слушают поп-музыку, в Петербурге — русский рэп.\n",
    "\n",
    "**Ход исследования**\n",
    "\n",
    "Данные о поведении пользователей вы получите из файла `yandex_music_project.csv`. О качестве данных ничего не известно. Поэтому перед проверкой гипотез понадобится обзор данных. \n",
    "\n",
    "Вы проверите данные на ошибки и оцените их влияние на исследование. Затем, на этапе предобработки вы поищете возможность исправить самые критичные ошибки данных.\n",
    " \n",
    "Таким образом, исследование пройдёт в три этапа:\n",
    " 1. Обзор данных.\n",
    " 2. Предобработка данных.\n",
    " 3. Проверка гипотез.\n",
    "\n"
   ]
  },
  {
   "cell_type": "markdown",
   "metadata": {
    "deletable": false,
    "editable": false,
    "id": "Ml1hmfXC_Zcs"
   },
   "source": [
    "## Обзор данных\n",
    "\n",
    "Составьте первое представление о данных Яндекс Музыки.\n",
    "\n",
    "\n"
   ]
  },
  {
   "cell_type": "markdown",
   "metadata": {
    "deletable": false,
    "editable": false,
    "id": "57eAOGIz_Zcs",
    "tags": [
     "start_task"
    ]
   },
   "source": [
    "**Задание 1**\n",
    "\n",
    "Основной инструмент аналитика — `pandas`. Импортируйте эту библиотеку."
   ]
  },
  {
   "cell_type": "code",
   "execution_count": 1,
   "metadata": {
    "deletable": false,
    "id": "AXN7PHPN_Zcs"
   },
   "outputs": [],
   "source": [
    "# импорт библиотеки pandas\n",
    "import pandas as pd"
   ]
  },
  {
   "cell_type": "markdown",
   "metadata": {
    "deletable": false,
    "editable": false,
    "id": "SG23P8tt_Zcs",
    "tags": [
     "start_task"
    ]
   },
   "source": [
    "**Задание 2**\n",
    "\n",
    "Прочитайте файл `yandex_music_project.csv` из папки `/datasets` и сохраните его в переменной `df`:"
   ]
  },
  {
   "cell_type": "code",
   "execution_count": 2,
   "metadata": {
    "deletable": false,
    "id": "fFVu7vqh_Zct"
   },
   "outputs": [],
   "source": [
    "# чтение файла с данными и сохранение в df\n",
    "df=pd.read_csv('/datasets/yandex_music_project.csv') "
   ]
  },
  {
   "cell_type": "markdown",
   "metadata": {
    "deletable": false,
    "editable": false,
    "id": "rDoOMd3uTqnZ",
    "tags": [
     "start_task"
    ]
   },
   "source": [
    "**Задание 3**\n",
    "\n",
    "\n",
    "Выведите на экран первые десять строк таблицы:"
   ]
  },
  {
   "cell_type": "code",
   "execution_count": 5,
   "metadata": {
    "deletable": false,
    "id": "oWTVX3gW_Zct"
   },
   "outputs": [
    {
     "name": "stdout",
     "output_type": "stream",
     "text": [
      "     userID                        Track            artist   genre  \\\n",
      "0  FFB692EC            Kamigata To Boots  The Mass Missile    rock   \n",
      "1  55204538  Delayed Because of Accident  Andreas Rönnberg    rock   \n",
      "2    20EC38            Funiculì funiculà       Mario Lanza     pop   \n",
      "3  A3DD03C9        Dragons in the Sunset        Fire + Ice    folk   \n",
      "4  E2DC1FAE                  Soul People        Space Echo   dance   \n",
      "5  842029A1                    Преданная         IMPERVTOR  rusrap   \n",
      "6  4CB90AA5                         True      Roman Messer   dance   \n",
      "7  F03E1C1F             Feeling This Way   Polina Griffith   dance   \n",
      "8  8FA1D3BE     И вновь продолжается бой               NaN  ruspop   \n",
      "9  E772D5C0                    Pessimist               NaN   dance   \n",
      "\n",
      "             City        time        Day  \n",
      "0  Saint-Petersburg  20:28:33  Wednesday  \n",
      "1            Moscow  14:07:09     Friday  \n",
      "2  Saint-Petersburg  20:58:07  Wednesday  \n",
      "3  Saint-Petersburg  08:37:09     Monday  \n",
      "4            Moscow  08:34:34     Monday  \n",
      "5  Saint-Petersburg  13:09:41     Friday  \n",
      "6            Moscow  13:00:07  Wednesday  \n",
      "7            Moscow  20:47:49  Wednesday  \n",
      "8            Moscow  09:17:40     Friday  \n",
      "9  Saint-Petersburg  21:20:49  Wednesday  \n"
     ]
    }
   ],
   "source": [
    "# получение первых 10 строк таблицы df\n",
    "print(df.head(10))"
   ]
  },
  {
   "cell_type": "markdown",
   "metadata": {
    "deletable": false,
    "editable": false,
    "id": "EO73Kwic_Zct",
    "tags": [
     "start_task"
    ]
   },
   "source": [
    "**Задание 4**\n",
    "\n",
    "\n",
    "Одной командой получить общую информацию о таблице c помощью метода `info()`:"
   ]
  },
  {
   "cell_type": "code",
   "execution_count": 6,
   "metadata": {
    "deletable": false,
    "id": "DSf2kIb-_Zct"
   },
   "outputs": [
    {
     "name": "stdout",
     "output_type": "stream",
     "text": [
      "<class 'pandas.core.frame.DataFrame'>\n",
      "RangeIndex: 65079 entries, 0 to 65078\n",
      "Data columns (total 7 columns):\n",
      " #   Column    Non-Null Count  Dtype \n",
      "---  ------    --------------  ----- \n",
      " 0     userID  65079 non-null  object\n",
      " 1   Track     63848 non-null  object\n",
      " 2   artist    57876 non-null  object\n",
      " 3   genre     63881 non-null  object\n",
      " 4     City    65079 non-null  object\n",
      " 5   time      65079 non-null  object\n",
      " 6   Day       65079 non-null  object\n",
      "dtypes: object(7)\n",
      "memory usage: 3.5+ MB\n"
     ]
    }
   ],
   "source": [
    "# получение общей информации о данных в таблице df\n",
    "df.info()"
   ]
  },
  {
   "cell_type": "markdown",
   "metadata": {
    "deletable": false,
    "editable": false,
    "id": "TaQ2Iwbr_Zct"
   },
   "source": [
    "Итак, в таблице семь столбцов. Тип данных во всех столбцах — `object`.\n",
    "\n",
    "Согласно документации к данным:\n",
    "* `userID` — идентификатор пользователя;\n",
    "* `Track` — название трека;  \n",
    "* `artist` — имя исполнителя;\n",
    "* `genre` — название жанра;\n",
    "* `City` — город пользователя;\n",
    "* `time` — время начала прослушивания;\n",
    "* `Day` — день недели.\n",
    "\n",
    "Количество значений в столбцах различается. Значит, в данных есть пропущенные значения."
   ]
  },
  {
   "cell_type": "markdown",
   "metadata": {
    "deletable": false,
    "editable": false,
    "id": "rAfziTBDmf2h",
    "tags": [
     "start_task"
    ]
   },
   "source": [
    "**Задание 5**\n",
    "\n",
    "**Вопрос со свободной формой ответа**\n",
    "\n",
    "В названиях колонок видны нарушения стиля:\n",
    "* Строчные буквы сочетаются с прописными.\n",
    "* Встречаются пробелы.\n",
    "\n",
    "Какое третье нарушение?"
   ]
  },
  {
   "cell_type": "code",
   "execution_count": 236,
   "metadata": {
    "id": "jD8EXEIvmf2h"
   },
   "outputs": [],
   "source": [
    "# Напишите ваш ответ здесь комментарием. Не удаляйте символ #. Не меняйте тип этой ячейки на Markdown.\n",
    "# не говорящее название переменных 'time' и 'Day'- без легенды непонятно какое время и день имеется в виду. "
   ]
  },
  {
   "cell_type": "markdown",
   "metadata": {
    "deletable": false,
    "editable": false,
    "id": "MCB6-dXG_Zct"
   },
   "source": [
    "**Выводы**\n",
    "\n",
    "В каждой строке таблицы — данные о прослушанном треке. Часть колонок описывает саму композицию: название, исполнителя и жанр. Остальные данные рассказывают о пользователе: из какого он города, когда он слушал музыку. \n",
    "\n",
    "Предварительно можно утверждать, что данных достаточно для проверки гипотез. Но встречаются пропуски в данных, а в названиях колонок — расхождения с хорошим стилем.\n",
    "\n",
    "Чтобы двигаться дальше, нужно устранить проблемы в данных."
   ]
  },
  {
   "cell_type": "markdown",
   "metadata": {
    "deletable": false,
    "editable": false,
    "id": "SjYF6Ub9_Zct"
   },
   "source": [
    "## Предобработка данных\n",
    "Исправьте стиль в заголовках столбцов, исключите пропуски. Затем проверьте данные на дубликаты."
   ]
  },
  {
   "cell_type": "markdown",
   "metadata": {
    "deletable": false,
    "editable": false,
    "id": "dIaKXr29_Zct",
    "tags": [
     "start_task"
    ]
   },
   "source": [
    "### Стиль заголовков\n",
    "\n",
    "**Задание 6**\n",
    "\n",
    "Выведите на экран названия столбцов:"
   ]
  },
  {
   "cell_type": "code",
   "execution_count": 237,
   "metadata": {
    "deletable": false,
    "id": "oKOTdF_Q_Zct"
   },
   "outputs": [
    {
     "data": {
      "text/plain": [
       "Index(['  userID', 'Track', 'artist', 'genre', '  City  ', 'time', 'Day'], dtype='object')"
      ]
     },
     "execution_count": 237,
     "metadata": {},
     "output_type": "execute_result"
    }
   ],
   "source": [
    "# перечень названий столбцов таблицы df\n",
    "df.columns"
   ]
  },
  {
   "cell_type": "markdown",
   "metadata": {
    "deletable": false,
    "editable": false,
    "id": "zj5534cv_Zct",
    "tags": [
     "start_task"
    ]
   },
   "source": [
    "**Задание 7**\n",
    "\n",
    "\n",
    "Приведите названия в соответствие с хорошим стилем:\n",
    "* несколько слов в названии запишите в «змеином_регистре»,\n",
    "* все символы сделайте строчными,\n",
    "* устраните пробелы.\n",
    "\n",
    "Для этого переименуйте колонки так:\n",
    "* `'  userID'` → `'user_id'`;\n",
    "* `'Track'` → `'track'`;\n",
    "* `'  City  '` → `'city'`;\n",
    "* `'Day'` → `'day'`."
   ]
  },
  {
   "cell_type": "code",
   "execution_count": 238,
   "metadata": {
    "deletable": false,
    "id": "ISlFqs5y_Zct"
   },
   "outputs": [],
   "source": [
    "# переименование столбцов\n",
    "df = df.rename(\n",
    "    columns={\n",
    "    '  userID': 'user_id',\n",
    "    'Track': 'track',\n",
    "    '  City  ': 'city',\n",
    "    'Day': 'day',   \n",
    "    }\n",
    ")"
   ]
  },
  {
   "cell_type": "markdown",
   "metadata": {
    "deletable": false,
    "editable": false,
    "id": "1dqbh00J_Zct",
    "tags": [
     "start_task"
    ]
   },
   "source": [
    "**Задание 8**\n",
    "\n",
    "\n",
    "Проверьте результат. Для этого ещё раз выведите на экран названия столбцов:"
   ]
  },
  {
   "cell_type": "code",
   "execution_count": 239,
   "metadata": {
    "deletable": false,
    "id": "d4NOAmTW_Zct"
   },
   "outputs": [
    {
     "data": {
      "text/plain": [
       "Index(['user_id', 'track', 'artist', 'genre', 'city', 'time', 'day'], dtype='object')"
      ]
     },
     "execution_count": 239,
     "metadata": {},
     "output_type": "execute_result"
    }
   ],
   "source": [
    "# проверка результатов - перечень названий столбцов\n",
    "df.columns"
   ]
  },
  {
   "cell_type": "markdown",
   "metadata": {
    "deletable": false,
    "editable": false,
    "id": "5ISfbcfY_Zct",
    "tags": [
     "start_task"
    ]
   },
   "source": [
    "### Пропуски значений\n",
    "\n",
    "**Задание 9**\n",
    "\n",
    "Сначала посчитайте, сколько в таблице пропущенных значений. Для этого достаточно двух методов `pandas`:"
   ]
  },
  {
   "cell_type": "code",
   "execution_count": 240,
   "metadata": {
    "deletable": false,
    "id": "RskX29qr_Zct"
   },
   "outputs": [
    {
     "name": "stdout",
     "output_type": "stream",
     "text": [
      "user_id       0\n",
      "track      1231\n",
      "artist     7203\n",
      "genre      1198\n",
      "city          0\n",
      "time          0\n",
      "day           0\n",
      "dtype: int64\n"
     ]
    }
   ],
   "source": [
    "# поиск и подсчёт пропусков\n",
    "print(df.isna().sum())"
   ]
  },
  {
   "cell_type": "markdown",
   "metadata": {
    "deletable": false,
    "editable": false,
    "id": "qubhgnlO_Zct"
   },
   "source": [
    "Не все пропущенные значения влияют на исследование. Так в `track` и `artist` пропуски не важны для вашей работы. Достаточно заменить их явными обозначениями.\n",
    "\n",
    "Но пропуски в `genre` могут помешать сравнению музыкальных вкусов в Москве и Санкт-Петербурге. На практике было бы правильно установить причину пропусков и восстановить данные. Такой возможности нет в учебном проекте. Придётся:\n",
    "* заполнить и эти пропуски явными обозначениями;\n",
    "* оценить, насколько они повредят расчётам. "
   ]
  },
  {
   "cell_type": "markdown",
   "metadata": {
    "deletable": false,
    "editable": false,
    "id": "fSv2laPA_Zct",
    "tags": [
     "start_task"
    ]
   },
   "source": [
    "**Задание 10**\n",
    "\n",
    "Замените пропущенные значения в столбцах `track`, `artist` и `genre` на строку `'unknown'`. Для этого создайте список `columns_to_replace`, переберите его элементы циклом `for` и для каждого столбца выполните замену пропущенных значений:"
   ]
  },
  {
   "cell_type": "code",
   "execution_count": 241,
   "metadata": {
    "deletable": false,
    "id": "KplB5qWs_Zct"
   },
   "outputs": [],
   "source": [
    "# перебор названий столбцов в цикле и замена пропущенных значений на 'unknown'\n",
    "\n",
    "columns_to_replace=['track','artist','genre']\n",
    "\n",
    "for column in columns_to_replace:\n",
    "    df[column]=df[column].fillna('unknown')"
   ]
  },
  {
   "cell_type": "markdown",
   "metadata": {
    "deletable": false,
    "editable": false,
    "id": "Ilsm-MZo_Zct",
    "tags": [
     "start_task"
    ]
   },
   "source": [
    "**Задание 11**\n",
    "\n",
    "Убедитесь, что в таблице не осталось пропусков. Для этого ещё раз посчитайте пропущенные значения."
   ]
  },
  {
   "cell_type": "code",
   "execution_count": 242,
   "metadata": {
    "deletable": false,
    "id": "Tq4nYRX4_Zct"
   },
   "outputs": [
    {
     "data": {
      "text/plain": [
       "user_id    0\n",
       "track      0\n",
       "artist     0\n",
       "genre      0\n",
       "city       0\n",
       "time       0\n",
       "day        0\n",
       "dtype: int64"
      ]
     },
     "execution_count": 242,
     "metadata": {},
     "output_type": "execute_result"
    }
   ],
   "source": [
    "# поиск и подсчёт пропусков\n",
    "df.isna().sum()"
   ]
  },
  {
   "cell_type": "markdown",
   "metadata": {
    "deletable": false,
    "editable": false,
    "id": "BWKRtBJ3_Zct",
    "tags": [
     "start_task"
    ]
   },
   "source": [
    "### Дубликаты\n",
    "\n",
    "**Задание 12**\n",
    "\n",
    "Посчитайте явные дубликаты в таблице одной командой:"
   ]
  },
  {
   "cell_type": "code",
   "execution_count": 243,
   "metadata": {
    "deletable": false,
    "id": "36eES_S0_Zct"
   },
   "outputs": [
    {
     "data": {
      "text/plain": [
       "3826"
      ]
     },
     "execution_count": 243,
     "metadata": {},
     "output_type": "execute_result"
    }
   ],
   "source": [
    "# подсчёт явных дубликатов\n",
    "df.duplicated().sum()"
   ]
  },
  {
   "cell_type": "markdown",
   "metadata": {
    "deletable": false,
    "editable": false,
    "id": "Ot25h6XR_Zct",
    "tags": [
     "start_task"
    ]
   },
   "source": [
    "**Задание 13**\n",
    "\n",
    "Вызовите специальный метод `pandas`, чтобы удалить явные дубликаты:"
   ]
  },
  {
   "cell_type": "code",
   "execution_count": 244,
   "metadata": {
    "deletable": false,
    "id": "exFHq6tt_Zct"
   },
   "outputs": [],
   "source": [
    "# удаление явных дубликатов\n",
    "df = df.drop_duplicates().reset_index(drop=True)"
   ]
  },
  {
   "cell_type": "markdown",
   "metadata": {
    "deletable": false,
    "editable": false,
    "id": "Im2YwBEG_Zct",
    "tags": [
     "start_task"
    ]
   },
   "source": [
    "**Задание 14**\n",
    "\n",
    "Ещё раз посчитайте явные дубликаты в таблице — убедитесь, что полностью от них избавились:"
   ]
  },
  {
   "cell_type": "code",
   "execution_count": 245,
   "metadata": {
    "deletable": false,
    "id": "-8PuNWQ0_Zct"
   },
   "outputs": [
    {
     "data": {
      "text/plain": [
       "0"
      ]
     },
     "execution_count": 245,
     "metadata": {},
     "output_type": "execute_result"
    }
   ],
   "source": [
    "# проверка на отсутствие дубликатов\n",
    "df.duplicated().sum()"
   ]
  },
  {
   "cell_type": "markdown",
   "metadata": {
    "deletable": false,
    "editable": false,
    "id": "QlFBsxAr_Zct"
   },
   "source": [
    "Теперь избавьтесь от неявных дубликатов в колонке `genre`. Например, название одного и того же жанра может быть записано немного по-разному. Такие ошибки тоже повлияют на результат исследования."
   ]
  },
  {
   "cell_type": "markdown",
   "metadata": {
    "deletable": false,
    "editable": false,
    "id": "eSjWwsOh_Zct",
    "tags": [
     "start_task"
    ]
   },
   "source": [
    "**Задание 15**\n",
    "\n",
    "Выведите на экран список уникальных названий жанров, отсортированный в алфавитном порядке. Для этого:\n",
    "1. извлеките нужный столбец датафрейма; \n",
    "2. примените к нему метод сортировки;\n",
    "3. для отсортированного столбца вызовите метод, который вернёт уникальные значения из столбца."
   ]
  },
  {
   "cell_type": "code",
   "execution_count": 246,
   "metadata": {
    "deletable": false,
    "id": "JIUcqzZN_Zct"
   },
   "outputs": [
    {
     "data": {
      "text/plain": [
       "array(['acid', 'acoustic', 'action', 'adult', 'africa', 'afrikaans',\n",
       "       'alternative', 'alternativepunk', 'ambient', 'americana',\n",
       "       'animated', 'anime', 'arabesk', 'arabic', 'arena',\n",
       "       'argentinetango', 'art', 'audiobook', 'author', 'avantgarde',\n",
       "       'axé', 'baile', 'balkan', 'beats', 'bigroom', 'black', 'bluegrass',\n",
       "       'blues', 'bollywood', 'bossa', 'brazilian', 'breakbeat', 'breaks',\n",
       "       'broadway', 'cantautori', 'cantopop', 'canzone', 'caribbean',\n",
       "       'caucasian', 'celtic', 'chamber', 'chanson', 'children', 'chill',\n",
       "       'chinese', 'choral', 'christian', 'christmas', 'classical',\n",
       "       'classicmetal', 'club', 'colombian', 'comedy', 'conjazz',\n",
       "       'contemporary', 'country', 'cuban', 'dance', 'dancehall',\n",
       "       'dancepop', 'dark', 'death', 'deep', 'deutschrock', 'deutschspr',\n",
       "       'dirty', 'disco', 'dnb', 'documentary', 'downbeat', 'downtempo',\n",
       "       'drum', 'dub', 'dubstep', 'eastern', 'easy', 'electronic',\n",
       "       'electropop', 'emo', 'entehno', 'epicmetal', 'estrada', 'ethnic',\n",
       "       'eurofolk', 'european', 'experimental', 'extrememetal', 'fado',\n",
       "       'fairytail', 'film', 'fitness', 'flamenco', 'folk', 'folklore',\n",
       "       'folkmetal', 'folkrock', 'folktronica', 'forró', 'frankreich',\n",
       "       'französisch', 'french', 'funk', 'future', 'gangsta', 'garage',\n",
       "       'german', 'ghazal', 'gitarre', 'glitch', 'gospel', 'gothic',\n",
       "       'grime', 'grunge', 'gypsy', 'handsup', \"hard'n'heavy\", 'hardcore',\n",
       "       'hardstyle', 'hardtechno', 'hip', 'hip-hop', 'hiphop',\n",
       "       'historisch', 'holiday', 'hop', 'horror', 'house', 'hymn', 'idm',\n",
       "       'independent', 'indian', 'indie', 'indipop', 'industrial',\n",
       "       'inspirational', 'instrumental', 'international', 'irish', 'jam',\n",
       "       'japanese', 'jazz', 'jewish', 'jpop', 'jungle', 'k-pop',\n",
       "       'karadeniz', 'karaoke', 'kayokyoku', 'korean', 'laiko', 'latin',\n",
       "       'latino', 'leftfield', 'local', 'lounge', 'loungeelectronic',\n",
       "       'lovers', 'malaysian', 'mandopop', 'marschmusik', 'meditative',\n",
       "       'mediterranean', 'melodic', 'metal', 'metalcore', 'mexican',\n",
       "       'middle', 'minimal', 'miscellaneous', 'modern', 'mood', 'mpb',\n",
       "       'muslim', 'native', 'neoklassik', 'neue', 'new', 'newage',\n",
       "       'newwave', 'nu', 'nujazz', 'numetal', 'oceania', 'old', 'opera',\n",
       "       'orchestral', 'other', 'piano', 'podcasts', 'pop', 'popdance',\n",
       "       'popelectronic', 'popeurodance', 'poprussian', 'post',\n",
       "       'posthardcore', 'postrock', 'power', 'progmetal', 'progressive',\n",
       "       'psychedelic', 'punjabi', 'punk', 'quebecois', 'ragga', 'ram',\n",
       "       'rancheras', 'rap', 'rave', 'reggae', 'reggaeton', 'regional',\n",
       "       'relax', 'religious', 'retro', 'rhythm', 'rnb', 'rnr', 'rock',\n",
       "       'rockabilly', 'rockalternative', 'rockindie', 'rockother',\n",
       "       'romance', 'roots', 'ruspop', 'rusrap', 'rusrock', 'russian',\n",
       "       'salsa', 'samba', 'scenic', 'schlager', 'self', 'sertanejo',\n",
       "       'shanson', 'shoegazing', 'showtunes', 'singer', 'ska', 'skarock',\n",
       "       'slow', 'smooth', 'soft', 'soul', 'soulful', 'sound', 'soundtrack',\n",
       "       'southern', 'specialty', 'speech', 'spiritual', 'sport',\n",
       "       'stonerrock', 'surf', 'swing', 'synthpop', 'synthrock',\n",
       "       'sängerportrait', 'tango', 'tanzorchester', 'taraftar', 'tatar',\n",
       "       'tech', 'techno', 'teen', 'thrash', 'top', 'traditional',\n",
       "       'tradjazz', 'trance', 'tribal', 'trip', 'triphop', 'tropical',\n",
       "       'türk', 'türkçe', 'ukrrock', 'unknown', 'urban', 'uzbek',\n",
       "       'variété', 'vi', 'videogame', 'vocal', 'western', 'world',\n",
       "       'worldbeat', 'ïîï', 'электроника'], dtype=object)"
      ]
     },
     "execution_count": 246,
     "metadata": {},
     "output_type": "execute_result"
    }
   ],
   "source": [
    "# Просмотр уникальных названий жанров\n",
    "\n",
    "sorted_df = df['genre'].sort_values()\n",
    "sorted_df.unique()"
   ]
  },
  {
   "cell_type": "markdown",
   "metadata": {
    "deletable": false,
    "editable": false,
    "id": "qej-Qmuo_Zct",
    "tags": [
     "start_task"
    ]
   },
   "source": [
    "**Задание 16**\n",
    "\n",
    "Просмотрите список и найдите неявные дубликаты названия `hiphop`. Это могут быть названия с ошибками или альтернативные названия того же жанра.\n",
    "\n",
    "Вы увидите следующие неявные дубликаты:\n",
    "* *hip*,\n",
    "* *hop*,\n",
    "* *hip-hop*.\n",
    "\n",
    "Чтобы очистить от них таблицу используйте метод `replace()` с двумя аргументами: списком строк-дубликатов (включащий *hip*, *hop* и *hip-hop*) и строкой с правильным значением. Вам нужно исправить колонку `genre` в таблице `df`: заменить каждое значение из списка дубликатов на верное. Вместо `hip`, `hop` и `hip-hop` в таблице должно быть значение `hiphop`:"
   ]
  },
  {
   "cell_type": "code",
   "execution_count": 247,
   "metadata": {
    "deletable": false,
    "id": "ErNDkmns_Zct"
   },
   "outputs": [],
   "source": [
    "# Устранение неявных дубликатов 'hiphop' \n",
    "old_value_hiphop = ['hip','hop','hip-hop']\n",
    "new_value_hiphop = 'hiphop'\n",
    "df = df.replace(old_value_hiphop, new_value_hiphop)\n",
    "\n",
    "# Устранение неявных дубликатов 'electronic'\n",
    "#df = df.replace('электроника', 'electronic')\n"
   ]
  },
  {
   "cell_type": "markdown",
   "metadata": {
    "deletable": false,
    "editable": false,
    "id": "zQKF16_RG15m",
    "tags": [
     "start_task"
    ]
   },
   "source": [
    "**Задание 17**\n",
    "\n",
    "Проверьте, что заменили неправильные названия:\n",
    "\n",
    "*   hip,\n",
    "*   hop,\n",
    "*   hip-hop.\n",
    "\n",
    "Выведите отсортированный список уникальных значений столбца `genre`:"
   ]
  },
  {
   "cell_type": "code",
   "execution_count": 248,
   "metadata": {
    "deletable": false,
    "id": "wvixALnFG15m"
   },
   "outputs": [
    {
     "data": {
      "text/plain": [
       "array(['acid', 'acoustic', 'action', 'adult', 'africa', 'afrikaans',\n",
       "       'alternative', 'alternativepunk', 'ambient', 'americana',\n",
       "       'animated', 'anime', 'arabesk', 'arabic', 'arena',\n",
       "       'argentinetango', 'art', 'audiobook', 'author', 'avantgarde',\n",
       "       'axé', 'baile', 'balkan', 'beats', 'bigroom', 'black', 'bluegrass',\n",
       "       'blues', 'bollywood', 'bossa', 'brazilian', 'breakbeat', 'breaks',\n",
       "       'broadway', 'cantautori', 'cantopop', 'canzone', 'caribbean',\n",
       "       'caucasian', 'celtic', 'chamber', 'chanson', 'children', 'chill',\n",
       "       'chinese', 'choral', 'christian', 'christmas', 'classical',\n",
       "       'classicmetal', 'club', 'colombian', 'comedy', 'conjazz',\n",
       "       'contemporary', 'country', 'cuban', 'dance', 'dancehall',\n",
       "       'dancepop', 'dark', 'death', 'deep', 'deutschrock', 'deutschspr',\n",
       "       'dirty', 'disco', 'dnb', 'documentary', 'downbeat', 'downtempo',\n",
       "       'drum', 'dub', 'dubstep', 'eastern', 'easy', 'electronic',\n",
       "       'electropop', 'emo', 'entehno', 'epicmetal', 'estrada', 'ethnic',\n",
       "       'eurofolk', 'european', 'experimental', 'extrememetal', 'fado',\n",
       "       'fairytail', 'film', 'fitness', 'flamenco', 'folk', 'folklore',\n",
       "       'folkmetal', 'folkrock', 'folktronica', 'forró', 'frankreich',\n",
       "       'französisch', 'french', 'funk', 'future', 'gangsta', 'garage',\n",
       "       'german', 'ghazal', 'gitarre', 'glitch', 'gospel', 'gothic',\n",
       "       'grime', 'grunge', 'gypsy', 'handsup', \"hard'n'heavy\", 'hardcore',\n",
       "       'hardstyle', 'hardtechno', 'hiphop', 'historisch', 'holiday',\n",
       "       'horror', 'house', 'hymn', 'idm', 'independent', 'indian', 'indie',\n",
       "       'indipop', 'industrial', 'inspirational', 'instrumental',\n",
       "       'international', 'irish', 'jam', 'japanese', 'jazz', 'jewish',\n",
       "       'jpop', 'jungle', 'k-pop', 'karadeniz', 'karaoke', 'kayokyoku',\n",
       "       'korean', 'laiko', 'latin', 'latino', 'leftfield', 'local',\n",
       "       'lounge', 'loungeelectronic', 'lovers', 'malaysian', 'mandopop',\n",
       "       'marschmusik', 'meditative', 'mediterranean', 'melodic', 'metal',\n",
       "       'metalcore', 'mexican', 'middle', 'minimal', 'miscellaneous',\n",
       "       'modern', 'mood', 'mpb', 'muslim', 'native', 'neoklassik', 'neue',\n",
       "       'new', 'newage', 'newwave', 'nu', 'nujazz', 'numetal', 'oceania',\n",
       "       'old', 'opera', 'orchestral', 'other', 'piano', 'podcasts', 'pop',\n",
       "       'popdance', 'popelectronic', 'popeurodance', 'poprussian', 'post',\n",
       "       'posthardcore', 'postrock', 'power', 'progmetal', 'progressive',\n",
       "       'psychedelic', 'punjabi', 'punk', 'quebecois', 'ragga', 'ram',\n",
       "       'rancheras', 'rap', 'rave', 'reggae', 'reggaeton', 'regional',\n",
       "       'relax', 'religious', 'retro', 'rhythm', 'rnb', 'rnr', 'rock',\n",
       "       'rockabilly', 'rockalternative', 'rockindie', 'rockother',\n",
       "       'romance', 'roots', 'ruspop', 'rusrap', 'rusrock', 'russian',\n",
       "       'salsa', 'samba', 'scenic', 'schlager', 'self', 'sertanejo',\n",
       "       'shanson', 'shoegazing', 'showtunes', 'singer', 'ska', 'skarock',\n",
       "       'slow', 'smooth', 'soft', 'soul', 'soulful', 'sound', 'soundtrack',\n",
       "       'southern', 'specialty', 'speech', 'spiritual', 'sport',\n",
       "       'stonerrock', 'surf', 'swing', 'synthpop', 'synthrock',\n",
       "       'sängerportrait', 'tango', 'tanzorchester', 'taraftar', 'tatar',\n",
       "       'tech', 'techno', 'teen', 'thrash', 'top', 'traditional',\n",
       "       'tradjazz', 'trance', 'tribal', 'trip', 'triphop', 'tropical',\n",
       "       'türk', 'türkçe', 'ukrrock', 'unknown', 'urban', 'uzbek',\n",
       "       'variété', 'vi', 'videogame', 'vocal', 'western', 'world',\n",
       "       'worldbeat', 'ïîï', 'электроника'], dtype=object)"
      ]
     },
     "execution_count": 248,
     "metadata": {},
     "output_type": "execute_result"
    }
   ],
   "source": [
    "# Проверка на неявные дубликаты\n",
    "sorted_df = df['genre'].sort_values()\n",
    "sorted_df.unique()"
   ]
  },
  {
   "cell_type": "markdown",
   "metadata": {
    "deletable": false,
    "editable": false,
    "id": "jz6a9-7HQUDd"
   },
   "source": [
    "**Выводы**\n",
    "\n",
    "Предобработка обнаружила три проблемы в данных:\n",
    "\n",
    "- нарушения в стиле заголовков,\n",
    "- пропущенные значения,\n",
    "- дубликаты — явные и неявные.\n",
    "\n",
    "Вы исправили заголовки, чтобы упростить работу с таблицей. Без дубликатов исследование станет более точным.\n",
    "\n",
    "Пропущенные значения вы заменили на `'unknown'`. Ещё предстоит увидеть, не повредят ли исследованию пропуски в колонке `genre`.\n",
    "\n",
    "Теперь можно перейти к проверке гипотез. "
   ]
  },
  {
   "cell_type": "markdown",
   "metadata": {
    "deletable": false,
    "editable": false,
    "id": "WttZHXH0SqKk"
   },
   "source": [
    "## Проверка гипотез"
   ]
  },
  {
   "cell_type": "markdown",
   "metadata": {
    "deletable": false,
    "editable": false,
    "id": "Im936VVi_Zcu"
   },
   "source": [
    "### Сравнение поведения пользователей двух столиц"
   ]
  },
  {
   "cell_type": "markdown",
   "metadata": {
    "deletable": false,
    "editable": false,
    "id": "nwt_MuaL_Zcu"
   },
   "source": [
    "Первая гипотеза утверждает, что пользователи по-разному слушают музыку в Москве и Санкт-Петербурге. Проверьте это предположение по данным о трёх днях недели — понедельнике, среде и пятнице. Для этого:\n",
    "\n",
    "* Разделите пользователей Москвы и Санкт-Петербурга.\n",
    "* Сравните, сколько треков послушала каждая группа пользователей в понедельник, среду и пятницу.\n"
   ]
  },
  {
   "cell_type": "markdown",
   "metadata": {
    "deletable": false,
    "editable": false,
    "id": "8Dw_YMmT_Zcu",
    "tags": [
     "start_task"
    ]
   },
   "source": [
    "**Задание 18**\n",
    "\n",
    "Для тренировки сначала выполните каждый из расчётов по отдельности. \n",
    "\n",
    "Оцените активность пользователей в каждом городе. Сгруппируйте данные по городу и посчитайте прослушивания в каждой группе.\n",
    "\n"
   ]
  },
  {
   "cell_type": "code",
   "execution_count": 249,
   "metadata": {
    "deletable": false,
    "id": "0_Qs96oh_Zcu"
   },
   "outputs": [
    {
     "data": {
      "text/plain": [
       "city\n",
       "Moscow              42741\n",
       "Saint-Petersburg    18512\n",
       "Name: user_id, dtype: int64"
      ]
     },
     "execution_count": 249,
     "metadata": {},
     "output_type": "execute_result"
    }
   ],
   "source": [
    "# Подсчёт прослушиваний в каждом городе\n",
    "#display(df.groupby('city')['user_id'].count())\n",
    "df.groupby('city')['user_id'].count()\n",
    "# можно и так:\n",
    "#(табличка красивее, но данные повторяются и информативности не добавляют)\n",
    "#display(df.groupby('city').count())"
   ]
  },
  {
   "cell_type": "markdown",
   "metadata": {
    "deletable": false,
    "editable": false,
    "id": "dzli3w8o_Zcu",
    "tags": [
     "start_task"
    ]
   },
   "source": [
    "В Москве прослушиваний больше, чем в Петербурге. Из этого не следует, что московские пользователи чаще слушают музыку. Просто самих пользователей в Москве больше.\n",
    "\n",
    "**Задание 19**\n",
    "\n",
    "Теперь сгруппируйте данные по дню недели и посчитайте прослушивания в понедельник, среду и пятницу. Учтите, что в данных есть информация о прослушиваниях только за эти дни.\n"
   ]
  },
  {
   "cell_type": "code",
   "execution_count": 250,
   "metadata": {
    "deletable": false,
    "id": "uZMKjiJz_Zcu"
   },
   "outputs": [
    {
     "data": {
      "text/plain": [
       "day\n",
       "Friday       21840\n",
       "Monday       21354\n",
       "Wednesday    18059\n",
       "Name: user_id, dtype: int64"
      ]
     },
     "execution_count": 250,
     "metadata": {},
     "output_type": "execute_result"
    }
   ],
   "source": [
    "# Подсчёт прослушиваний в каждый из трёх дней\n",
    "df.groupby('day')['user_id'].count()"
   ]
  },
  {
   "cell_type": "markdown",
   "metadata": {
    "deletable": false,
    "editable": false,
    "id": "cC2tNrlL_Zcu"
   },
   "source": [
    "В среднем пользователи из двух городов менее активны по средам. Но картина может измениться, если рассмотреть каждый город в отдельности."
   ]
  },
  {
   "cell_type": "markdown",
   "metadata": {
    "deletable": false,
    "editable": false,
    "id": "POzs8bGa_Zcu",
    "tags": [
     "start_task"
    ]
   },
   "source": [
    "**Задание 20**\n",
    "\n",
    "\n",
    "Вы видели, как работает группировка по городу и по дням недели. Теперь напишите функцию, которая объединит два эти расчёта.\n",
    "\n",
    "Создайте функцию `number_tracks()`, которая посчитает прослушивания для заданного дня и города. Ей понадобятся два параметра:\n",
    "* день недели,\n",
    "* название города.\n",
    "\n",
    "В функции сохраните в переменную строки исходной таблицы, у которых значение:\n",
    "  * в колонке `day` равно параметру `day`,\n",
    "  * в колонке `city` равно параметру `city`.\n",
    "\n",
    "Для этого примените последовательную фильтрацию с логической индексацией (или сложные логические выражения в одну строку, если вы уже знакомы с ними).\n",
    "\n",
    "Затем посчитайте значения в столбце `user_id` получившейся таблицы. Результат сохраните в новую переменную. Верните эту переменную из функции."
   ]
  },
  {
   "cell_type": "code",
   "execution_count": 251,
   "metadata": {
    "deletable": false,
    "id": "Nz3GdQB1_Zcu"
   },
   "outputs": [],
   "source": [
    "# <создание функции number_tracks()>\n",
    "# Объявляется функция с двумя параметрами: day, city.\n",
    "# В переменной track_list сохраняются те строки таблицы df, для которых \n",
    "# значение в столбце 'day' равно параметру day и одновременно значение\n",
    "# в столбце 'city' равно параметру city (используйте последовательную фильтрацию\n",
    "# с помощью логической индексации или сложные логические выражения в одну строку, если вы уже знакомы с ними).\n",
    "# В переменной track_list_count сохраняется число значений столбца 'user_id',\n",
    "# рассчитанное методом count() для таблицы track_list.\n",
    "# Функция возвращает число - значение track_list_count.\n",
    "\n",
    "# Функция для подсчёта прослушиваний для конкретного города и дня.\n",
    "# С помощью последовательной фильтрации с логической индексацией она \n",
    "# сначала получит из исходной таблицы строки с нужным днём,\n",
    "# затем из результата отфильтрует строки с нужным городом,\n",
    "# методом count() посчитает количество значений в колонке user_id. \n",
    "# Это количество функция вернёт в качестве результата\n",
    "\n",
    "def number_tracks(day,city):\n",
    "    track_list = df[df['day']==day]\n",
    "    track_list = track_list[track_list['city']==city]\n",
    "    track_list_count = track_list['user_id'].count()\n",
    "    return track_list_count\n"
   ]
  },
  {
   "cell_type": "markdown",
   "metadata": {
    "deletable": false,
    "editable": false,
    "id": "ytf7xFrFJQ2r",
    "tags": [
     "start_task"
    ]
   },
   "source": [
    "**Задание 21**\n",
    "\n",
    "Вызовите `number_tracks()` шесть раз, меняя значение параметров — так, чтобы получить данные для каждого города в каждый из трёх дней."
   ]
  },
  {
   "cell_type": "code",
   "execution_count": 252,
   "metadata": {
    "deletable": false,
    "id": "rJcRATNQ_Zcu"
   },
   "outputs": [
    {
     "data": {
      "text/plain": [
       "15740"
      ]
     },
     "execution_count": 252,
     "metadata": {},
     "output_type": "execute_result"
    }
   ],
   "source": [
    "# количество прослушиваний в Москве по понедельникам\n",
    "number_tracks('Monday','Moscow')"
   ]
  },
  {
   "cell_type": "code",
   "execution_count": 253,
   "metadata": {
    "deletable": false,
    "id": "hq_ncZ5T_Zcu"
   },
   "outputs": [
    {
     "data": {
      "text/plain": [
       "5614"
      ]
     },
     "execution_count": 253,
     "metadata": {},
     "output_type": "execute_result"
    }
   ],
   "source": [
    "# количество прослушиваний в Санкт-Петербурге по понедельникам\n",
    "number_tracks('Monday','Saint-Petersburg')"
   ]
  },
  {
   "cell_type": "code",
   "execution_count": 254,
   "metadata": {
    "deletable": false,
    "id": "_NTy2VPU_Zcu"
   },
   "outputs": [
    {
     "data": {
      "text/plain": [
       "11056"
      ]
     },
     "execution_count": 254,
     "metadata": {},
     "output_type": "execute_result"
    }
   ],
   "source": [
    "# количество прослушиваний в Москве по средам\n",
    "number_tracks('Wednesday','Moscow')"
   ]
  },
  {
   "cell_type": "code",
   "execution_count": 255,
   "metadata": {
    "deletable": false,
    "id": "j2y3TAwo_Zcu"
   },
   "outputs": [
    {
     "data": {
      "text/plain": [
       "7003"
      ]
     },
     "execution_count": 255,
     "metadata": {},
     "output_type": "execute_result"
    }
   ],
   "source": [
    "# количество прослушиваний в Санкт-Петербурге по средам\n",
    "number_tracks('Wednesday','Saint-Petersburg')"
   ]
  },
  {
   "cell_type": "code",
   "execution_count": 256,
   "metadata": {
    "deletable": false,
    "id": "vYDw5u_K_Zcu"
   },
   "outputs": [
    {
     "data": {
      "text/plain": [
       "15945"
      ]
     },
     "execution_count": 256,
     "metadata": {},
     "output_type": "execute_result"
    }
   ],
   "source": [
    "# количество прослушиваний в Москве по пятницам\n",
    "number_tracks('Friday','Moscow')"
   ]
  },
  {
   "cell_type": "code",
   "execution_count": 257,
   "metadata": {
    "deletable": false,
    "id": "8_yzFtW3_Zcu"
   },
   "outputs": [
    {
     "data": {
      "text/plain": [
       "5895"
      ]
     },
     "execution_count": 257,
     "metadata": {},
     "output_type": "execute_result"
    }
   ],
   "source": [
    "# количество прослушиваний в Санкт-Петербурге по пятницам\n",
    "number_tracks('Friday','Saint-Petersburg')"
   ]
  },
  {
   "cell_type": "markdown",
   "metadata": {
    "deletable": false,
    "editable": false,
    "id": "7QXffbO-_Zcu",
    "tags": [
     "start_task"
    ]
   },
   "source": [
    "**Задание 22**\n",
    "\n",
    "Создайте c помощью конструктора `pd.DataFrame` таблицу, где\n",
    "* названия колонок — `['city', 'monday', 'wednesday', 'friday']`;\n",
    "* данные — результаты, которые вы получили с помощью `number_tracks`."
   ]
  },
  {
   "cell_type": "code",
   "execution_count": 258,
   "metadata": {
    "deletable": false,
    "id": "APAcLpOr_Zcu"
   },
   "outputs": [
    {
     "data": {
      "text/html": [
       "<div>\n",
       "<style scoped>\n",
       "    .dataframe tbody tr th:only-of-type {\n",
       "        vertical-align: middle;\n",
       "    }\n",
       "\n",
       "    .dataframe tbody tr th {\n",
       "        vertical-align: top;\n",
       "    }\n",
       "\n",
       "    .dataframe thead th {\n",
       "        text-align: right;\n",
       "    }\n",
       "</style>\n",
       "<table border=\"1\" class=\"dataframe\">\n",
       "  <thead>\n",
       "    <tr style=\"text-align: right;\">\n",
       "      <th></th>\n",
       "      <th>city</th>\n",
       "      <th>monday</th>\n",
       "      <th>wednesday</th>\n",
       "      <th>friday</th>\n",
       "    </tr>\n",
       "  </thead>\n",
       "  <tbody>\n",
       "    <tr>\n",
       "      <th>0</th>\n",
       "      <td>Moscow</td>\n",
       "      <td>15740</td>\n",
       "      <td>11056</td>\n",
       "      <td>15945</td>\n",
       "    </tr>\n",
       "    <tr>\n",
       "      <th>1</th>\n",
       "      <td>Saint-Petersburg</td>\n",
       "      <td>5614</td>\n",
       "      <td>7003</td>\n",
       "      <td>5895</td>\n",
       "    </tr>\n",
       "  </tbody>\n",
       "</table>\n",
       "</div>"
      ],
      "text/plain": [
       "               city  monday  wednesday  friday\n",
       "0            Moscow   15740      11056   15945\n",
       "1  Saint-Petersburg    5614       7003    5895"
      ]
     },
     "execution_count": 258,
     "metadata": {},
     "output_type": "execute_result"
    }
   ],
   "source": [
    "# Таблица с результатами  \n",
    "#(через ручное составление списка по данным из прошлого пункта-\n",
    "# для небольшого объема данных)\n",
    "\n",
    "data=[\n",
    "    ['Moscow',15740,11056,15945],\n",
    "    ['Saint-Petersburg',5614,7003,5895]\n",
    "]\n",
    "columns=['city', 'monday', 'wednesday', 'friday']\n",
    "df_result = pd.DataFrame(data=data, columns=columns)\n",
    "df_result\n",
    "\n",
    "\n",
    "# Таблица с результатами  \n",
    "#(автоматическое формирование списка- \n",
    "#  отлично отработает, если городов и дней будет много)\n",
    "\n",
    "# задание условий выборки\n",
    "#ccity=['Moscow','Saint-Petersburg']\n",
    "#dday=['Monday', 'Wednesday', 'Friday']\n",
    "\n",
    "# формирование выборки по предзаданным условиям\n",
    "#data=[]\n",
    "#for c in ccity:\n",
    "#    tempopary=[c]\n",
    "#    for d in dday:\n",
    "#        tempopary.append(number_tracks(d,c))\n",
    "#    data.append(tempopary)  \n",
    "    \n",
    "#формирование датафрейма результатов    \n",
    "#columns=['city', 'monday', 'wednesday', 'friday']\n",
    "#df_result = pd.DataFrame(data=data, columns=columns)\n",
    "#display(df_result)\n",
    "\n",
    "\n"
   ]
  },
  {
   "cell_type": "markdown",
   "metadata": {
    "deletable": false,
    "editable": false,
    "id": "-EgPIHYu_Zcu"
   },
   "source": [
    "**Выводы**\n",
    "\n",
    "Данные показывают разницу поведения пользователей:\n",
    "\n",
    "- В Москве пик прослушиваний приходится на понедельник и пятницу, а в среду заметен спад.\n",
    "- В Петербурге, наоборот, больше слушают музыку по средам. Активность в понедельник и пятницу здесь почти в равной мере уступает среде.\n",
    "\n",
    "Значит, данные говорят в пользу первой гипотезы."
   ]
  },
  {
   "cell_type": "markdown",
   "metadata": {
    "deletable": false,
    "editable": false,
    "id": "atZAxtq4_Zcu"
   },
   "source": [
    "### Музыка в начале и в конце недели"
   ]
  },
  {
   "cell_type": "markdown",
   "metadata": {
    "deletable": false,
    "editable": false,
    "id": "eXrQqXFH_Zcu"
   },
   "source": [
    "Согласно второй гипотезе, утром в понедельник в Москве преобладают одни жанры, а в Петербурге — другие. Так же и вечером пятницы преобладают разные жанры — в зависимости от города."
   ]
  },
  {
   "cell_type": "markdown",
   "metadata": {
    "deletable": false,
    "editable": false,
    "id": "S8UcW6Hw_Zcu",
    "tags": [
     "start_task"
    ]
   },
   "source": [
    "**Задание 23**\n",
    "\n",
    "Сохраните таблицы с данными в две переменные:\n",
    "* по Москве — в `moscow_general`;\n",
    "* по Санкт-Петербургу — в `spb_general`."
   ]
  },
  {
   "cell_type": "code",
   "execution_count": 259,
   "metadata": {
    "deletable": false,
    "id": "qeaFfM_P_Zcu"
   },
   "outputs": [],
   "source": [
    "# получение таблицы moscow_general из тех строк таблицы df, \n",
    "# для которых значение в столбце 'city' равно 'Moscow'\n",
    "moscow_general= df[df['city']=='Moscow']\n",
    "#display(moscow_general.head(10))\n"
   ]
  },
  {
   "cell_type": "code",
   "execution_count": 260,
   "metadata": {
    "deletable": false,
    "id": "ORaVRKto_Zcu"
   },
   "outputs": [],
   "source": [
    "# получение таблицы spb_general из тех строк таблицы df,\n",
    "# для которых значение в столбце 'city' равно 'Saint-Petersburg'\n",
    "spb_general= df[df['city']=='Saint-Petersburg']\n"
   ]
  },
  {
   "cell_type": "markdown",
   "metadata": {
    "deletable": false,
    "id": "MEJV-CX2_Zcu",
    "tags": [
     "start_task"
    ]
   },
   "source": [
    "**Задание 24**\n",
    "\n",
    "Создайте функцию `genre_weekday()` с четырьмя параметрами:\n",
    "* таблица (датафрейм) с данными,\n",
    "* день недели,\n",
    "* начальная временная метка в формате 'hh:mm', \n",
    "* последняя временная метка в формате 'hh:mm'.\n",
    "\n",
    "Функция должна вернуть информацию о топ-10 жанров тех треков, которые прослушивали в указанный день, в промежутке между двумя отметками времени."
   ]
  },
  {
   "cell_type": "code",
   "execution_count": 261,
   "metadata": {
    "deletable": false,
    "id": "laJT9BYl_Zcu"
   },
   "outputs": [],
   "source": [
    "# Объявление функции genre_weekday() с параметрами table, day, time1, time2,\n",
    "# которая возвращает информацию о самых популярных жанрах в указанный день в\n",
    "# заданное время:\n",
    "# 1) в переменную genre_df сохраняются те строки переданного датафрейма table, для\n",
    "#    которых одновременно:\n",
    "#    - значение в столбце day равно значению аргумента day\n",
    "#    - значение в столбце time больше значения аргумента time1\n",
    "#    - значение в столбце time меньше значения аргумента time2\n",
    "#    Используйте последовательную фильтрацию с помощью логической индексации.\n",
    "# 2) сгруппировать датафрейм genre_df по столбцу genre, взять один из его\n",
    "#    столбцов и посчитать методом count() количество записей для каждого из\n",
    "#    присутствующих жанров, получившийся Series записать в переменную\n",
    "#    genre_df_count\n",
    "# 3) отсортировать genre_df_count по убыванию встречаемости и сохранить\n",
    "#    в переменную genre_df_sorted\n",
    "# 4) вернуть Series из 10 первых значений genre_df_sorted, это будут топ-10\n",
    "#    популярных жанров (в указанный день, в заданное время)\n",
    "\n",
    "def genre_weekday(table, day, time1, time2):\n",
    "    # последовательная фильтрация\n",
    "    # оставляем в genre_df только те строки table, у которых день равен day\n",
    "    # ваш код здесь\n",
    "    genre_df = table[table['day']==day]\n",
    "    \n",
    "    # оставляем в genre_df только те строки genre_df, у которых время меньше time2\n",
    "    # ваш код здесь\n",
    "    genre_df = genre_df[genre_df['time'] < time2]\n",
    "    # оставляем в genre_df только те строки genre_df, у которых время больше time1\n",
    "    # ваш код здесь\n",
    "    genre_df = genre_df[genre_df['time'] > time1]\n",
    "    \n",
    "    # сгруппируем отфильтрованный датафрейм по столбцу с названиями жанров, \n",
    "    # возьмём столбец genre и посчитаем кол-во строк для каждого жанра  методом count()\n",
    "    # ваш код здесь\n",
    "    genre_df_count = genre_df.groupby('genre')['genre'].count()\n",
    "    \n",
    "    # отсортируем результат по убыванию (чтобы в начале Series оказались самые популярные жанры)\n",
    "    # ваш код здесь\n",
    "    genre_df_sorted = genre_df_count.sort_values(ascending=False)\n",
    "    \n",
    "    # вернём Series с 10 самыми популярными жанрами в указанный отрезок времени заданного дня\n",
    "    \n",
    "    \n",
    "    return genre_df_sorted[:10]\n",
    "        \n",
    "#user_id    \n",
    "#track\n",
    "#artist\n",
    "#genre\n",
    "#city\n",
    "#time\n",
    "#day\n",
    "\n",
    "    \n",
    "    \n",
    "    "
   ]
  },
  {
   "cell_type": "markdown",
   "metadata": {
    "deletable": false,
    "editable": false,
    "id": "la2s2_PF_Zcu",
    "tags": [
     "start_task"
    ]
   },
   "source": [
    "**Задание 25**\n",
    "\n",
    "\n",
    "Cравните результаты функции `genre_weekday()` для Москвы и Санкт-Петербурга в понедельник утром (с 7:00 до 11:00) и в пятницу вечером (с 17:00 до 23:00):"
   ]
  },
  {
   "cell_type": "code",
   "execution_count": 262,
   "metadata": {
    "deletable": false,
    "id": "yz7itPUQ_Zcu"
   },
   "outputs": [
    {
     "data": {
      "text/plain": [
       "genre\n",
       "pop            781\n",
       "dance          549\n",
       "electronic     480\n",
       "rock           474\n",
       "hiphop         286\n",
       "ruspop         186\n",
       "world          181\n",
       "rusrap         175\n",
       "alternative    164\n",
       "unknown        161\n",
       "Name: genre, dtype: int64"
      ]
     },
     "execution_count": 262,
     "metadata": {},
     "output_type": "execute_result"
    }
   ],
   "source": [
    "# вызов функции для утра понедельника в Москве (вместо df — таблица moscow_general)\n",
    "# объекты, хранящие время, являются строками и сравниваются как строки\n",
    "# пример вызова: genre_weekday(moscow_general, 'Monday', '07:00', '11:00')\n",
    "\n",
    "genre_weekday(moscow_general, 'Monday', '07:00', '11:00')\n",
    "\n"
   ]
  },
  {
   "cell_type": "code",
   "execution_count": 263,
   "metadata": {
    "deletable": false,
    "id": "kwUcHPdy_Zcu"
   },
   "outputs": [
    {
     "data": {
      "text/plain": [
       "genre\n",
       "pop            218\n",
       "dance          182\n",
       "rock           162\n",
       "electronic     147\n",
       "hiphop          80\n",
       "ruspop          64\n",
       "alternative     58\n",
       "rusrap          55\n",
       "jazz            44\n",
       "classical       40\n",
       "Name: genre, dtype: int64"
      ]
     },
     "execution_count": 263,
     "metadata": {},
     "output_type": "execute_result"
    }
   ],
   "source": [
    "# вызов функции для утра понедельника в Петербурге (вместо df — таблица spb_general)\n",
    "genre_weekday(spb_general, 'Monday', '07:00', '11:00')"
   ]
  },
  {
   "cell_type": "code",
   "execution_count": 264,
   "metadata": {
    "deletable": false,
    "id": "EzXVRE1o_Zcu"
   },
   "outputs": [
    {
     "data": {
      "text/plain": [
       "genre\n",
       "pop            713\n",
       "rock           517\n",
       "dance          495\n",
       "electronic     482\n",
       "hiphop         273\n",
       "world          208\n",
       "ruspop         170\n",
       "alternative    163\n",
       "classical      163\n",
       "rusrap         142\n",
       "Name: genre, dtype: int64"
      ]
     },
     "execution_count": 264,
     "metadata": {},
     "output_type": "execute_result"
    }
   ],
   "source": [
    "# вызов функции для вечера пятницы в Москве\n",
    "genre_weekday(moscow_general, 'Friday', '17:00', '23:00')"
   ]
  },
  {
   "cell_type": "code",
   "execution_count": 265,
   "metadata": {
    "deletable": false,
    "id": "JZaEKu5v_Zcu"
   },
   "outputs": [
    {
     "data": {
      "text/plain": [
       "genre\n",
       "pop            256\n",
       "electronic     216\n",
       "rock           216\n",
       "dance          210\n",
       "hiphop          97\n",
       "alternative     63\n",
       "jazz            61\n",
       "classical       60\n",
       "rusrap          59\n",
       "world           54\n",
       "Name: genre, dtype: int64"
      ]
     },
     "execution_count": 265,
     "metadata": {},
     "output_type": "execute_result"
    }
   ],
   "source": [
    "# вызов функции для вечера пятницы в Петербурге\n",
    "genre_weekday(spb_general, 'Friday', '17:00', '23:00')"
   ]
  },
  {
   "cell_type": "markdown",
   "metadata": {
    "deletable": false,
    "editable": false,
    "id": "wrCe4MNX_Zcu"
   },
   "source": [
    "**Выводы**\n",
    "\n",
    "Если сравнить топ-10 жанров в понедельник утром, можно сделать такие выводы:\n",
    "\n",
    "1. В Москве и Петербурге слушают похожую музыку. Единственное отличие — в московский рейтинг вошёл жанр “world”, а в петербургский — джаз и классика.\n",
    "\n",
    "2. В Москве пропущенных значений оказалось так много, что значение `'unknown'` заняло десятое место среди самых популярных жанров. Значит, пропущенные значения занимают существенную долю в данных и угрожают достоверности исследования.\n",
    "\n",
    "Вечер пятницы не меняет эту картину. Некоторые жанры поднимаются немного выше, другие спускаются, но в целом топ-10 остаётся тем же самым.\n",
    "\n",
    "Таким образом, вторая гипотеза подтвердилась лишь частично:\n",
    "* Пользователи слушают похожую музыку в начале недели и в конце.\n",
    "* Разница между Москвой и Петербургом не слишком выражена. В Москве чаще слушают русскую популярную музыку, в Петербурге — джаз.\n",
    "\n",
    "Однако пропуски в данных ставят под сомнение этот результат. В Москве их так много, что рейтинг топ-10 мог бы выглядеть иначе, если бы не утерянные  данные о жанрах."
   ]
  },
  {
   "cell_type": "markdown",
   "metadata": {
    "deletable": false,
    "editable": false,
    "id": "JolODAqr_Zcu"
   },
   "source": [
    "### Жанровые предпочтения в Москве и Петербурге\n",
    "\n",
    "Гипотеза: Петербург — столица рэпа, музыку этого жанра там слушают чаще, чем в Москве.  А Москва — город контрастов, в котором, тем не менее, преобладает поп-музыка."
   ]
  },
  {
   "cell_type": "markdown",
   "metadata": {
    "deletable": false,
    "editable": false,
    "id": "DlegSvaT_Zcu",
    "tags": [
     "start_task"
    ]
   },
   "source": [
    "**Задание 26**\n",
    "\n",
    "Сгруппируйте таблицу `moscow_general` по жанру и посчитайте прослушивания треков каждого жанра методом `count()`. Затем отсортируйте результат в порядке убывания и сохраните его в таблице `moscow_genres`."
   ]
  },
  {
   "cell_type": "code",
   "execution_count": 266,
   "metadata": {
    "deletable": false,
    "id": "r19lIPke_Zcu"
   },
   "outputs": [],
   "source": [
    "# одной строкой: группировка таблицы moscow_general по столбцу 'genre', \n",
    "# подсчёт числа значений 'genre' в этой группировке методом count(), \n",
    "moscow_genres = moscow_general.groupby('genre')['genre'].count().sort_values(ascending=False)\n",
    "\n",
    "# сортировка получившегося Series в порядке убывания и сохранение в moscow_genres"
   ]
  },
  {
   "cell_type": "markdown",
   "metadata": {
    "deletable": false,
    "editable": false,
    "id": "6kMuomxTiIr8",
    "tags": [
     "start_task"
    ]
   },
   "source": [
    "**Задание 27**\n",
    "\n",
    "Выведите на экран первые десять строк `moscow_genres`:"
   ]
  },
  {
   "cell_type": "code",
   "execution_count": 267,
   "metadata": {
    "deletable": false,
    "id": "WhCSooF8_Zcv"
   },
   "outputs": [
    {
     "data": {
      "text/plain": [
       "genre\n",
       "pop            5892\n",
       "dance          4435\n",
       "rock           3965\n",
       "electronic     3786\n",
       "hiphop         2096\n",
       "classical      1616\n",
       "world          1432\n",
       "alternative    1379\n",
       "ruspop         1372\n",
       "rusrap         1161\n",
       "Name: genre, dtype: int64"
      ]
     },
     "execution_count": 267,
     "metadata": {},
     "output_type": "execute_result"
    }
   ],
   "source": [
    "# просмотр первых 10 строк moscow_genres\n",
    "moscow_genres[0:10]"
   ]
  },
  {
   "cell_type": "markdown",
   "metadata": {
    "deletable": false,
    "editable": false,
    "id": "cnPG2vnN_Zcv",
    "tags": [
     "start_task"
    ]
   },
   "source": [
    "**Задание 28**\n",
    "\n",
    "\n",
    "Теперь повторите то же и для Петербурга.\n",
    "\n",
    "Сгруппируйте таблицу `spb_general` по жанру. Посчитайте прослушивания треков каждого жанра. Результат отсортируйте в порядке убывания и сохраните в таблице `spb_genres`:\n"
   ]
  },
  {
   "cell_type": "code",
   "execution_count": 268,
   "metadata": {
    "deletable": false,
    "id": "gluLIpE7_Zcv"
   },
   "outputs": [],
   "source": [
    "# одной строкой: группировка таблицы spb_general по столбцу 'genre', \n",
    "# подсчёт числа значений 'genre' в этой группировке методом count(), \n",
    "# сортировка получившегося Series в порядке убывания и сохранение в spb_genres\n",
    "spb_genres = spb_general.groupby('genre')['genre'].count().sort_values(ascending=False)"
   ]
  },
  {
   "cell_type": "markdown",
   "metadata": {
    "deletable": false,
    "editable": false,
    "id": "5Doha_ODgyQ8",
    "tags": [
     "start_task"
    ]
   },
   "source": [
    "**Задание 29**\n",
    "\n",
    "Выведите на экран первые десять строк `spb_genres`:"
   ]
  },
  {
   "cell_type": "code",
   "execution_count": 269,
   "metadata": {
    "deletable": false,
    "id": "uaGJHjVU_Zcv"
   },
   "outputs": [
    {
     "data": {
      "text/plain": [
       "genre\n",
       "pop            2431\n",
       "dance          1932\n",
       "rock           1879\n",
       "electronic     1736\n",
       "hiphop          960\n",
       "alternative     649\n",
       "classical       646\n",
       "rusrap          564\n",
       "ruspop          538\n",
       "world           515\n",
       "Name: genre, dtype: int64"
      ]
     },
     "execution_count": 269,
     "metadata": {},
     "output_type": "execute_result"
    }
   ],
   "source": [
    "# просмотр первых 10 строк spb_genres\n",
    "spb_genres[0:10]"
   ]
  },
  {
   "cell_type": "markdown",
   "metadata": {
    "deletable": false,
    "editable": false,
    "id": "RY51YJYu_Zcv"
   },
   "source": [
    "**Выводы**"
   ]
  },
  {
   "cell_type": "markdown",
   "metadata": {
    "deletable": false,
    "editable": false,
    "id": "nVhnJEm__Zcv"
   },
   "source": [
    "Гипотеза частично подтвердилась:\n",
    "* Поп-музыка — самый популярный жанр в Москве, как и предполагала гипотеза. Более того, в топ-10 жанров встречается близкий жанр — русская популярная музыка.\n",
    "* Вопреки ожиданиям, рэп одинаково популярен в Москве и Петербурге. \n"
   ]
  },
  {
   "cell_type": "markdown",
   "metadata": {
    "deletable": false,
    "editable": false,
    "id": "ykKQ0N65_Zcv"
   },
   "source": [
    "## Итоги исследования"
   ]
  },
  {
   "cell_type": "markdown",
   "metadata": {
    "deletable": false,
    "editable": false,
    "id": "tjUwbHb3_Zcv"
   },
   "source": [
    "Вы проверили три гипотезы и установили:\n",
    "\n",
    "1. День недели по-разному влияет на активность пользователей в Москве и Петербурге. \n",
    "\n",
    "Первая гипотеза полностью подтвердилась.\n",
    "\n",
    "2. Музыкальные предпочтения не сильно меняются в течение недели — будь то Москва или Петербург. Небольшие различия заметны в начале недели, по понедельникам:\n",
    "* в Москве слушают музыку жанра “world”,\n",
    "* в Петербурге — джаз и классику.\n",
    "\n",
    "Таким образом, вторая гипотеза подтвердилась лишь отчасти. Этот результат мог оказаться иным, если бы не пропуски в данных.\n",
    "\n",
    "3. Во вкусах пользователей Москвы и Петербурга больше общего чем различий. Вопреки ожиданиям, предпочтения жанров в Петербурге напоминают московские.\n",
    "\n",
    "Третья гипотеза не подтвердилась. Если различия в предпочтениях и существуют, на основной массе пользователей они незаметны.\n",
    "\n",
    "**На практике исследования содержат проверки статистических гипотез.**\n",
    "Из данных одного сервиса не всегда можно сделать вывод о всех жителях города.\n",
    "Проверки статистических гипотез покажут, насколько они достоверны, исходя из имеющихся данных. \n",
    "С методами проверок гипотез вы ещё познакомитесь в следующих темах."
   ]
  }
 ],
 "metadata": {
  "ExecuteTimeLog": [
   {
    "duration": 48,
    "start_time": "2022-06-30T07:32:29.850Z"
   },
   {
    "duration": 6,
    "start_time": "2022-06-30T07:33:40.090Z"
   },
   {
    "duration": 7,
    "start_time": "2022-06-30T07:33:52.074Z"
   },
   {
    "duration": 355,
    "start_time": "2022-06-30T07:33:58.797Z"
   },
   {
    "duration": 464,
    "start_time": "2022-06-30T07:34:05.696Z"
   },
   {
    "duration": 9,
    "start_time": "2022-06-30T07:34:10.794Z"
   },
   {
    "duration": 31,
    "start_time": "2022-06-30T07:34:24.647Z"
   },
   {
    "duration": 9,
    "start_time": "2022-06-30T07:49:25.918Z"
   },
   {
    "duration": 14,
    "start_time": "2022-06-30T07:52:23.358Z"
   },
   {
    "duration": 5,
    "start_time": "2022-06-30T07:52:26.507Z"
   },
   {
    "duration": 22,
    "start_time": "2022-06-30T07:53:22.584Z"
   },
   {
    "duration": 38,
    "start_time": "2022-06-30T07:56:15.074Z"
   },
   {
    "duration": 10,
    "start_time": "2022-06-30T07:58:14.771Z"
   },
   {
    "duration": 11,
    "start_time": "2022-06-30T08:01:21.262Z"
   },
   {
    "duration": 2,
    "start_time": "2022-06-30T08:02:00.204Z"
   },
   {
    "duration": 12,
    "start_time": "2022-06-30T08:05:13.373Z"
   },
   {
    "duration": 90,
    "start_time": "2022-06-30T08:05:46.872Z"
   },
   {
    "duration": 8,
    "start_time": "2022-06-30T08:05:54.570Z"
   },
   {
    "duration": 3,
    "start_time": "2022-06-30T08:06:21.763Z"
   },
   {
    "duration": 180,
    "start_time": "2022-06-30T08:06:24.408Z"
   },
   {
    "duration": 8,
    "start_time": "2022-06-30T08:06:31.478Z"
   },
   {
    "duration": 34,
    "start_time": "2022-06-30T08:06:34.828Z"
   },
   {
    "duration": 2,
    "start_time": "2022-06-30T08:06:39.128Z"
   },
   {
    "duration": 4,
    "start_time": "2022-06-30T08:06:42.298Z"
   },
   {
    "duration": 10,
    "start_time": "2022-06-30T08:06:46.388Z"
   },
   {
    "duration": 4,
    "start_time": "2022-06-30T08:06:49.867Z"
   },
   {
    "duration": 22,
    "start_time": "2022-06-30T08:07:37.198Z"
   },
   {
    "duration": 12,
    "start_time": "2022-06-30T08:07:43.718Z"
   },
   {
    "duration": 18,
    "start_time": "2022-06-30T08:08:13.321Z"
   },
   {
    "duration": 25,
    "start_time": "2022-06-30T08:08:21.919Z"
   },
   {
    "duration": 47,
    "start_time": "2022-06-30T08:08:34.691Z"
   },
   {
    "duration": 29,
    "start_time": "2022-06-30T08:08:53.939Z"
   },
   {
    "duration": 24,
    "start_time": "2022-06-30T08:08:57.858Z"
   },
   {
    "duration": 74,
    "start_time": "2022-06-30T08:11:18.790Z"
   },
   {
    "duration": 92,
    "start_time": "2022-06-30T08:17:26.911Z"
   },
   {
    "duration": 54,
    "start_time": "2022-06-30T08:17:31.671Z"
   },
   {
    "duration": 8,
    "start_time": "2022-06-30T08:18:18.189Z"
   },
   {
    "duration": 10,
    "start_time": "2022-06-30T08:21:37.414Z"
   },
   {
    "duration": 41,
    "start_time": "2022-06-30T08:21:52.213Z"
   },
   {
    "duration": 104,
    "start_time": "2022-06-30T08:40:29.687Z"
   },
   {
    "duration": 106,
    "start_time": "2022-06-30T08:41:07.851Z"
   },
   {
    "duration": 42,
    "start_time": "2022-06-30T08:41:30.637Z"
   },
   {
    "duration": 5,
    "start_time": "2022-06-30T09:22:20.519Z"
   },
   {
    "duration": 3,
    "start_time": "2022-06-30T09:22:33.298Z"
   },
   {
    "duration": 3,
    "start_time": "2022-06-30T09:22:45.809Z"
   },
   {
    "duration": 4,
    "start_time": "2022-06-30T09:22:50.109Z"
   },
   {
    "duration": 5,
    "start_time": "2022-06-30T09:23:28.089Z"
   },
   {
    "duration": 10,
    "start_time": "2022-06-30T09:24:44.949Z"
   },
   {
    "duration": 10,
    "start_time": "2022-06-30T09:24:57.299Z"
   },
   {
    "duration": 3,
    "start_time": "2022-06-30T09:26:30.821Z"
   },
   {
    "duration": 179,
    "start_time": "2022-06-30T09:26:32.981Z"
   },
   {
    "duration": 8,
    "start_time": "2022-06-30T09:26:35.474Z"
   },
   {
    "duration": 30,
    "start_time": "2022-06-30T09:26:39.912Z"
   },
   {
    "duration": 2,
    "start_time": "2022-06-30T09:26:44.009Z"
   },
   {
    "duration": 4,
    "start_time": "2022-06-30T09:26:47.128Z"
   },
   {
    "duration": 10,
    "start_time": "2022-06-30T09:26:50.478Z"
   },
   {
    "duration": 5,
    "start_time": "2022-06-30T09:26:53.679Z"
   },
   {
    "duration": 38,
    "start_time": "2022-06-30T09:26:57.573Z"
   },
   {
    "duration": 21,
    "start_time": "2022-06-30T09:27:01.529Z"
   },
   {
    "duration": 25,
    "start_time": "2022-06-30T09:27:04.816Z"
   },
   {
    "duration": 70,
    "start_time": "2022-06-30T09:27:07.729Z"
   },
   {
    "duration": 86,
    "start_time": "2022-06-30T09:27:11.298Z"
   },
   {
    "duration": 65,
    "start_time": "2022-06-30T09:27:13.070Z"
   },
   {
    "duration": 49,
    "start_time": "2022-06-30T09:27:16.006Z"
   },
   {
    "duration": 99,
    "start_time": "2022-06-30T09:27:22.699Z"
   },
   {
    "duration": 45,
    "start_time": "2022-06-30T09:27:25.289Z"
   },
   {
    "duration": 10,
    "start_time": "2022-06-30T09:27:31.508Z"
   },
   {
    "duration": 4,
    "start_time": "2022-06-30T09:27:43.463Z"
   },
   {
    "duration": 44,
    "start_time": "2022-06-30T09:28:29.701Z"
   },
   {
    "duration": 40,
    "start_time": "2022-06-30T09:30:03.018Z"
   },
   {
    "duration": 19,
    "start_time": "2022-06-30T09:32:07.961Z"
   },
   {
    "duration": 51,
    "start_time": "2022-06-30T09:34:37.503Z"
   },
   {
    "duration": 13,
    "start_time": "2022-06-30T09:34:49.358Z"
   },
   {
    "duration": 39,
    "start_time": "2022-06-30T09:36:52.921Z"
   },
   {
    "duration": 17,
    "start_time": "2022-06-30T09:37:36.822Z"
   },
   {
    "duration": 63,
    "start_time": "2022-06-30T09:38:30.437Z"
   },
   {
    "duration": 27,
    "start_time": "2022-06-30T09:38:44.229Z"
   },
   {
    "duration": 102,
    "start_time": "2022-06-30T09:43:44.557Z"
   },
   {
    "duration": 4,
    "start_time": "2022-06-30T09:43:50.559Z"
   },
   {
    "duration": 8,
    "start_time": "2022-06-30T09:48:58.829Z"
   },
   {
    "duration": 20,
    "start_time": "2022-06-30T09:49:54.782Z"
   },
   {
    "duration": 17,
    "start_time": "2022-06-30T09:51:31.899Z"
   },
   {
    "duration": 20,
    "start_time": "2022-06-30T09:51:34.160Z"
   },
   {
    "duration": 22,
    "start_time": "2022-06-30T09:51:36.609Z"
   },
   {
    "duration": 16,
    "start_time": "2022-06-30T09:51:38.802Z"
   },
   {
    "duration": 17,
    "start_time": "2022-06-30T09:51:40.663Z"
   },
   {
    "duration": 21,
    "start_time": "2022-06-30T09:59:19.045Z"
   },
   {
    "duration": 9,
    "start_time": "2022-06-30T10:08:25.411Z"
   },
   {
    "duration": 64,
    "start_time": "2022-06-30T10:08:35.465Z"
   },
   {
    "duration": 6,
    "start_time": "2022-06-30T10:09:17.104Z"
   },
   {
    "duration": 30,
    "start_time": "2022-06-30T10:09:20.234Z"
   },
   {
    "duration": 46,
    "start_time": "2022-06-30T10:09:30.485Z"
   },
   {
    "duration": 57,
    "start_time": "2022-06-30T10:10:40.624Z"
   },
   {
    "duration": 51,
    "start_time": "2022-06-30T10:11:25.702Z"
   },
   {
    "duration": 102,
    "start_time": "2022-06-30T10:12:15.298Z"
   },
   {
    "duration": 79,
    "start_time": "2022-06-30T10:16:07.983Z"
   },
   {
    "duration": 12,
    "start_time": "2022-06-30T10:18:43.482Z"
   },
   {
    "duration": 12,
    "start_time": "2022-06-30T10:21:05.809Z"
   },
   {
    "duration": 18,
    "start_time": "2022-06-30T10:21:35.538Z"
   },
   {
    "duration": 74,
    "start_time": "2022-06-30T11:44:41.463Z"
   },
   {
    "duration": 48,
    "start_time": "2022-06-30T11:44:45.723Z"
   },
   {
    "duration": 8,
    "start_time": "2022-06-30T11:45:03.342Z"
   },
   {
    "duration": 188,
    "start_time": "2022-06-30T11:45:05.196Z"
   },
   {
    "duration": 8,
    "start_time": "2022-06-30T11:45:07.507Z"
   },
   {
    "duration": 36,
    "start_time": "2022-06-30T11:45:10.024Z"
   },
   {
    "duration": 2,
    "start_time": "2022-06-30T11:45:14.403Z"
   },
   {
    "duration": 6,
    "start_time": "2022-06-30T11:45:18.097Z"
   },
   {
    "duration": 13,
    "start_time": "2022-06-30T11:45:21.023Z"
   },
   {
    "duration": 4,
    "start_time": "2022-06-30T11:45:23.532Z"
   },
   {
    "duration": 34,
    "start_time": "2022-06-30T11:45:25.743Z"
   },
   {
    "duration": 18,
    "start_time": "2022-06-30T11:45:29.006Z"
   },
   {
    "duration": 24,
    "start_time": "2022-06-30T11:45:31.883Z"
   },
   {
    "duration": 73,
    "start_time": "2022-06-30T11:45:34.303Z"
   },
   {
    "duration": 77,
    "start_time": "2022-06-30T11:45:36.083Z"
   },
   {
    "duration": 64,
    "start_time": "2022-06-30T11:45:37.892Z"
   },
   {
    "duration": 37,
    "start_time": "2022-06-30T11:45:40.173Z"
   },
   {
    "duration": 38,
    "start_time": "2022-06-30T11:45:51.193Z"
   },
   {
    "duration": 14,
    "start_time": "2022-06-30T11:46:02.292Z"
   },
   {
    "duration": 14,
    "start_time": "2022-06-30T11:46:11.416Z"
   },
   {
    "duration": 6,
    "start_time": "2022-06-30T11:46:21.776Z"
   },
   {
    "duration": 18,
    "start_time": "2022-06-30T11:46:25.616Z"
   },
   {
    "duration": 15,
    "start_time": "2022-06-30T11:46:28.069Z"
   },
   {
    "duration": 21,
    "start_time": "2022-06-30T11:46:30.625Z"
   },
   {
    "duration": 18,
    "start_time": "2022-06-30T11:46:32.966Z"
   },
   {
    "duration": 17,
    "start_time": "2022-06-30T11:46:35.190Z"
   },
   {
    "duration": 18,
    "start_time": "2022-06-30T11:46:37.223Z"
   },
   {
    "duration": 15,
    "start_time": "2022-06-30T11:46:39.837Z"
   },
   {
    "duration": 15,
    "start_time": "2022-06-30T11:46:56.617Z"
   },
   {
    "duration": 13,
    "start_time": "2022-06-30T11:46:58.386Z"
   },
   {
    "duration": 94,
    "start_time": "2022-06-30T11:55:23.281Z"
   },
   {
    "duration": 3,
    "start_time": "2022-06-30T11:55:54.201Z"
   },
   {
    "duration": 5,
    "start_time": "2022-06-30T11:56:45.799Z"
   },
   {
    "duration": 30,
    "start_time": "2022-06-30T11:59:24.598Z"
   },
   {
    "duration": 6,
    "start_time": "2022-06-30T12:01:38.219Z"
   },
   {
    "duration": 5,
    "start_time": "2022-06-30T12:01:54.955Z"
   },
   {
    "duration": 1547,
    "start_time": "2022-06-30T12:01:58.869Z"
   },
   {
    "duration": 6,
    "start_time": "2022-06-30T12:02:39.031Z"
   },
   {
    "duration": 1376,
    "start_time": "2022-06-30T12:03:39.898Z"
   },
   {
    "duration": 12,
    "start_time": "2022-06-30T12:03:56.318Z"
   },
   {
    "duration": 13,
    "start_time": "2022-06-30T12:03:59.106Z"
   },
   {
    "duration": 35,
    "start_time": "2022-06-30T12:04:22.540Z"
   },
   {
    "duration": 12,
    "start_time": "2022-06-30T12:04:40.660Z"
   },
   {
    "duration": 5,
    "start_time": "2022-06-30T12:05:45.084Z"
   },
   {
    "duration": 1322,
    "start_time": "2022-06-30T12:09:22.244Z"
   },
   {
    "duration": 24,
    "start_time": "2022-06-30T12:13:14.281Z"
   },
   {
    "duration": 19,
    "start_time": "2022-06-30T12:13:39.454Z"
   },
   {
    "duration": 32,
    "start_time": "2022-06-30T12:15:39.422Z"
   },
   {
    "duration": 22,
    "start_time": "2022-06-30T12:16:15.554Z"
   },
   {
    "duration": 12,
    "start_time": "2022-06-30T12:16:38.111Z"
   },
   {
    "duration": 14,
    "start_time": "2022-06-30T12:17:00.334Z"
   },
   {
    "duration": 32,
    "start_time": "2022-06-30T12:18:36.861Z"
   },
   {
    "duration": 15,
    "start_time": "2022-06-30T12:19:02.954Z"
   },
   {
    "duration": 22,
    "start_time": "2022-06-30T12:19:19.839Z"
   },
   {
    "duration": 21,
    "start_time": "2022-06-30T12:19:38.113Z"
   },
   {
    "duration": 46,
    "start_time": "2022-06-30T12:20:40.620Z"
   },
   {
    "duration": 1425,
    "start_time": "2022-06-30T12:21:38.341Z"
   },
   {
    "duration": 1336,
    "start_time": "2022-06-30T12:22:57.226Z"
   },
   {
    "duration": 10,
    "start_time": "2022-06-30T12:23:48.038Z"
   },
   {
    "duration": 200,
    "start_time": "2022-06-30T12:23:50.009Z"
   },
   {
    "duration": 6,
    "start_time": "2022-06-30T12:23:51.608Z"
   },
   {
    "duration": 38,
    "start_time": "2022-06-30T12:23:54.915Z"
   },
   {
    "duration": 3,
    "start_time": "2022-06-30T12:23:59.039Z"
   },
   {
    "duration": 5,
    "start_time": "2022-06-30T12:24:02.068Z"
   },
   {
    "duration": 9,
    "start_time": "2022-06-30T12:24:04.428Z"
   },
   {
    "duration": 4,
    "start_time": "2022-06-30T12:24:07.448Z"
   },
   {
    "duration": 24,
    "start_time": "2022-06-30T12:24:09.370Z"
   },
   {
    "duration": 19,
    "start_time": "2022-06-30T12:24:11.858Z"
   },
   {
    "duration": 33,
    "start_time": "2022-06-30T12:24:13.971Z"
   },
   {
    "duration": 69,
    "start_time": "2022-06-30T12:24:16.170Z"
   },
   {
    "duration": 78,
    "start_time": "2022-06-30T12:24:18.497Z"
   },
   {
    "duration": 67,
    "start_time": "2022-06-30T12:24:20.299Z"
   },
   {
    "duration": 40,
    "start_time": "2022-06-30T12:24:22.910Z"
   },
   {
    "duration": 89,
    "start_time": "2022-06-30T12:24:28.051Z"
   },
   {
    "duration": 51,
    "start_time": "2022-06-30T12:24:30.030Z"
   },
   {
    "duration": 15,
    "start_time": "2022-06-30T12:24:33.706Z"
   },
   {
    "duration": 15,
    "start_time": "2022-06-30T12:24:40.047Z"
   },
   {
    "duration": 4,
    "start_time": "2022-06-30T12:24:43.591Z"
   },
   {
    "duration": 24,
    "start_time": "2022-06-30T12:24:46.018Z"
   },
   {
    "duration": 18,
    "start_time": "2022-06-30T12:24:47.358Z"
   },
   {
    "duration": 19,
    "start_time": "2022-06-30T12:24:48.927Z"
   },
   {
    "duration": 17,
    "start_time": "2022-06-30T12:24:51.327Z"
   },
   {
    "duration": 19,
    "start_time": "2022-06-30T12:24:52.830Z"
   },
   {
    "duration": 18,
    "start_time": "2022-06-30T12:24:54.211Z"
   },
   {
    "duration": 9,
    "start_time": "2022-06-30T12:24:56.489Z"
   },
   {
    "duration": 21,
    "start_time": "2022-06-30T12:25:00.428Z"
   },
   {
    "duration": 19,
    "start_time": "2022-06-30T12:25:02.040Z"
   },
   {
    "duration": 5,
    "start_time": "2022-06-30T12:25:04.741Z"
   },
   {
    "duration": 1617,
    "start_time": "2022-06-30T12:25:10.589Z"
   },
   {
    "duration": 2,
    "start_time": "2022-06-30T12:28:57.494Z"
   },
   {
    "duration": 178,
    "start_time": "2022-06-30T12:28:57.508Z"
   },
   {
    "duration": 8,
    "start_time": "2022-06-30T12:28:57.688Z"
   },
   {
    "duration": 52,
    "start_time": "2022-06-30T12:28:57.698Z"
   },
   {
    "duration": 3,
    "start_time": "2022-06-30T12:28:57.752Z"
   },
   {
    "duration": 7,
    "start_time": "2022-06-30T12:28:57.758Z"
   },
   {
    "duration": 17,
    "start_time": "2022-06-30T12:28:57.767Z"
   },
   {
    "duration": 4,
    "start_time": "2022-06-30T12:28:57.786Z"
   },
   {
    "duration": 50,
    "start_time": "2022-06-30T12:28:57.792Z"
   },
   {
    "duration": 20,
    "start_time": "2022-06-30T12:28:57.844Z"
   },
   {
    "duration": 27,
    "start_time": "2022-06-30T12:28:57.866Z"
   },
   {
    "duration": 101,
    "start_time": "2022-06-30T12:28:57.894Z"
   },
   {
    "duration": 116,
    "start_time": "2022-06-30T12:28:57.997Z"
   },
   {
    "duration": 115,
    "start_time": "2022-06-30T12:28:58.115Z"
   },
   {
    "duration": 43,
    "start_time": "2022-06-30T12:28:58.233Z"
   },
   {
    "duration": 121,
    "start_time": "2022-06-30T12:28:58.278Z"
   },
   {
    "duration": 46,
    "start_time": "2022-06-30T12:28:58.400Z"
   },
   {
    "duration": 16,
    "start_time": "2022-06-30T12:28:58.448Z"
   },
   {
    "duration": 19,
    "start_time": "2022-06-30T12:28:58.466Z"
   },
   {
    "duration": 3,
    "start_time": "2022-06-30T12:28:58.487Z"
   },
   {
    "duration": 54,
    "start_time": "2022-06-30T12:28:58.492Z"
   },
   {
    "duration": 16,
    "start_time": "2022-06-30T12:28:58.548Z"
   },
   {
    "duration": 16,
    "start_time": "2022-06-30T12:28:58.566Z"
   },
   {
    "duration": 17,
    "start_time": "2022-06-30T12:28:58.584Z"
   },
   {
    "duration": 48,
    "start_time": "2022-06-30T12:28:58.603Z"
   },
   {
    "duration": 17,
    "start_time": "2022-06-30T12:28:58.653Z"
   },
   {
    "duration": 10,
    "start_time": "2022-06-30T12:28:58.671Z"
   },
   {
    "duration": 20,
    "start_time": "2022-06-30T12:28:58.682Z"
   },
   {
    "duration": 45,
    "start_time": "2022-06-30T12:28:58.704Z"
   },
   {
    "duration": 5,
    "start_time": "2022-06-30T12:28:58.751Z"
   },
   {
    "duration": 1229,
    "start_time": "2022-06-30T12:28:58.758Z"
   },
   {
    "duration": 0,
    "start_time": "2022-06-30T12:28:59.989Z"
   },
   {
    "duration": 0,
    "start_time": "2022-06-30T12:28:59.990Z"
   },
   {
    "duration": 0,
    "start_time": "2022-06-30T12:28:59.991Z"
   },
   {
    "duration": 0,
    "start_time": "2022-06-30T12:28:59.993Z"
   },
   {
    "duration": 0,
    "start_time": "2022-06-30T12:28:59.993Z"
   },
   {
    "duration": 0,
    "start_time": "2022-06-30T12:28:59.995Z"
   },
   {
    "duration": 0,
    "start_time": "2022-06-30T12:28:59.996Z"
   },
   {
    "duration": 41,
    "start_time": "2022-06-30T12:33:40.927Z"
   },
   {
    "duration": 0,
    "start_time": "2022-06-30T12:35:37.604Z"
   },
   {
    "duration": 0,
    "start_time": "2022-06-30T12:35:37.606Z"
   },
   {
    "duration": 5446,
    "start_time": "2022-06-30T12:35:38.970Z"
   },
   {
    "duration": 7,
    "start_time": "2022-06-30T12:37:52.311Z"
   },
   {
    "duration": 26,
    "start_time": "2022-06-30T12:37:56.213Z"
   },
   {
    "duration": 13,
    "start_time": "2022-06-30T12:38:17.083Z"
   },
   {
    "duration": 10,
    "start_time": "2022-06-30T12:38:18.683Z"
   },
   {
    "duration": 5,
    "start_time": "2022-06-30T12:38:21.562Z"
   },
   {
    "duration": 25,
    "start_time": "2022-06-30T12:40:00.863Z"
   },
   {
    "duration": 7,
    "start_time": "2022-06-30T12:42:24.291Z"
   },
   {
    "duration": 7,
    "start_time": "2022-06-30T12:42:46.099Z"
   },
   {
    "duration": 5,
    "start_time": "2022-06-30T12:43:14.869Z"
   },
   {
    "duration": 6,
    "start_time": "2022-06-30T12:43:19.639Z"
   },
   {
    "duration": 7,
    "start_time": "2022-06-30T12:43:27.070Z"
   },
   {
    "duration": 8,
    "start_time": "2022-06-30T12:45:07.209Z"
   },
   {
    "duration": 5,
    "start_time": "2022-06-30T12:45:52.251Z"
   },
   {
    "duration": 3,
    "start_time": "2022-06-30T12:45:55.938Z"
   },
   {
    "duration": 1359,
    "start_time": "2022-06-30T12:45:57.641Z"
   },
   {
    "duration": 10,
    "start_time": "2022-06-30T12:46:32.399Z"
   },
   {
    "duration": 6,
    "start_time": "2022-06-30T12:46:40.569Z"
   },
   {
    "duration": 4,
    "start_time": "2022-06-30T12:46:44.009Z"
   },
   {
    "duration": 199,
    "start_time": "2022-06-30T12:46:44.015Z"
   },
   {
    "duration": 8,
    "start_time": "2022-06-30T12:46:44.216Z"
   },
   {
    "duration": 42,
    "start_time": "2022-06-30T12:46:44.226Z"
   },
   {
    "duration": 3,
    "start_time": "2022-06-30T12:46:44.270Z"
   },
   {
    "duration": 17,
    "start_time": "2022-06-30T12:46:44.275Z"
   },
   {
    "duration": 25,
    "start_time": "2022-06-30T12:46:44.295Z"
   },
   {
    "duration": 6,
    "start_time": "2022-06-30T12:46:44.322Z"
   },
   {
    "duration": 40,
    "start_time": "2022-06-30T12:46:44.343Z"
   },
   {
    "duration": 21,
    "start_time": "2022-06-30T12:46:44.385Z"
   },
   {
    "duration": 39,
    "start_time": "2022-06-30T12:46:44.408Z"
   },
   {
    "duration": 69,
    "start_time": "2022-06-30T12:46:44.449Z"
   },
   {
    "duration": 102,
    "start_time": "2022-06-30T12:46:44.519Z"
   },
   {
    "duration": 85,
    "start_time": "2022-06-30T12:46:44.623Z"
   },
   {
    "duration": 55,
    "start_time": "2022-06-30T12:46:44.709Z"
   },
   {
    "duration": 117,
    "start_time": "2022-06-30T12:46:44.765Z"
   },
   {
    "duration": 37,
    "start_time": "2022-06-30T12:46:44.884Z"
   },
   {
    "duration": 24,
    "start_time": "2022-06-30T12:46:44.923Z"
   },
   {
    "duration": 21,
    "start_time": "2022-06-30T12:46:44.949Z"
   },
   {
    "duration": 5,
    "start_time": "2022-06-30T12:46:44.972Z"
   },
   {
    "duration": 31,
    "start_time": "2022-06-30T12:46:44.980Z"
   },
   {
    "duration": 47,
    "start_time": "2022-06-30T12:46:45.013Z"
   },
   {
    "duration": 27,
    "start_time": "2022-06-30T12:46:45.062Z"
   },
   {
    "duration": 23,
    "start_time": "2022-06-30T12:46:45.093Z"
   },
   {
    "duration": 29,
    "start_time": "2022-06-30T12:46:45.142Z"
   },
   {
    "duration": 20,
    "start_time": "2022-06-30T12:46:45.174Z"
   },
   {
    "duration": 10,
    "start_time": "2022-06-30T12:46:45.196Z"
   },
   {
    "duration": 47,
    "start_time": "2022-06-30T12:46:45.208Z"
   },
   {
    "duration": 10,
    "start_time": "2022-06-30T12:46:45.257Z"
   },
   {
    "duration": 6,
    "start_time": "2022-06-30T12:46:45.269Z"
   },
   {
    "duration": 13,
    "start_time": "2022-06-30T12:46:45.278Z"
   },
   {
    "duration": 17,
    "start_time": "2022-06-30T12:46:45.293Z"
   },
   {
    "duration": 6,
    "start_time": "2022-06-30T12:46:45.313Z"
   },
   {
    "duration": 13,
    "start_time": "2022-06-30T12:46:45.322Z"
   },
   {
    "duration": 10,
    "start_time": "2022-06-30T12:46:45.338Z"
   },
   {
    "duration": 7,
    "start_time": "2022-06-30T12:46:45.351Z"
   },
   {
    "duration": 4,
    "start_time": "2022-06-30T12:46:45.361Z"
   },
   {
    "duration": 6,
    "start_time": "2022-06-30T12:46:45.367Z"
   },
   {
    "duration": 7,
    "start_time": "2022-06-30T12:49:03.040Z"
   },
   {
    "duration": 5,
    "start_time": "2022-06-30T12:49:10.572Z"
   },
   {
    "duration": 6,
    "start_time": "2022-06-30T12:49:13.738Z"
   },
   {
    "duration": 6,
    "start_time": "2022-06-30T12:49:17.169Z"
   },
   {
    "duration": 5,
    "start_time": "2022-06-30T12:49:20.841Z"
   },
   {
    "duration": 6,
    "start_time": "2022-06-30T12:49:23.922Z"
   },
   {
    "duration": 5,
    "start_time": "2022-06-30T12:49:26.218Z"
   },
   {
    "duration": 3,
    "start_time": "2022-06-30T12:49:39.967Z"
   },
   {
    "duration": 180,
    "start_time": "2022-06-30T12:49:39.972Z"
   },
   {
    "duration": 6,
    "start_time": "2022-06-30T12:49:40.154Z"
   },
   {
    "duration": 38,
    "start_time": "2022-06-30T12:49:40.162Z"
   },
   {
    "duration": 3,
    "start_time": "2022-06-30T12:49:40.202Z"
   },
   {
    "duration": 17,
    "start_time": "2022-06-30T12:49:40.206Z"
   },
   {
    "duration": 29,
    "start_time": "2022-06-30T12:49:40.225Z"
   },
   {
    "duration": 8,
    "start_time": "2022-06-30T12:49:40.256Z"
   },
   {
    "duration": 31,
    "start_time": "2022-06-30T12:49:40.265Z"
   },
   {
    "duration": 44,
    "start_time": "2022-06-30T12:49:40.298Z"
   },
   {
    "duration": 30,
    "start_time": "2022-06-30T12:49:40.343Z"
   },
   {
    "duration": 100,
    "start_time": "2022-06-30T12:49:40.375Z"
   },
   {
    "duration": 105,
    "start_time": "2022-06-30T12:49:40.477Z"
   },
   {
    "duration": 80,
    "start_time": "2022-06-30T12:49:40.585Z"
   },
   {
    "duration": 35,
    "start_time": "2022-06-30T12:49:40.667Z"
   },
   {
    "duration": 122,
    "start_time": "2022-06-30T12:49:40.704Z"
   },
   {
    "duration": 47,
    "start_time": "2022-06-30T12:49:40.828Z"
   },
   {
    "duration": 14,
    "start_time": "2022-06-30T12:49:40.878Z"
   },
   {
    "duration": 13,
    "start_time": "2022-06-30T12:49:40.894Z"
   },
   {
    "duration": 3,
    "start_time": "2022-06-30T12:49:40.909Z"
   },
   {
    "duration": 23,
    "start_time": "2022-06-30T12:49:40.943Z"
   },
   {
    "duration": 17,
    "start_time": "2022-06-30T12:49:40.969Z"
   },
   {
    "duration": 17,
    "start_time": "2022-06-30T12:49:40.988Z"
   },
   {
    "duration": 46,
    "start_time": "2022-06-30T12:49:41.007Z"
   },
   {
    "duration": 21,
    "start_time": "2022-06-30T12:49:41.055Z"
   },
   {
    "duration": 21,
    "start_time": "2022-06-30T12:49:41.077Z"
   },
   {
    "duration": 10,
    "start_time": "2022-06-30T12:49:41.100Z"
   },
   {
    "duration": 39,
    "start_time": "2022-06-30T12:49:41.112Z"
   },
   {
    "duration": 17,
    "start_time": "2022-06-30T12:49:41.153Z"
   },
   {
    "duration": 5,
    "start_time": "2022-06-30T12:49:41.172Z"
   },
   {
    "duration": 11,
    "start_time": "2022-06-30T12:49:41.179Z"
   },
   {
    "duration": 7,
    "start_time": "2022-06-30T12:49:41.192Z"
   },
   {
    "duration": 7,
    "start_time": "2022-06-30T12:49:41.201Z"
   },
   {
    "duration": 4,
    "start_time": "2022-06-30T12:49:41.210Z"
   },
   {
    "duration": 26,
    "start_time": "2022-06-30T12:49:41.216Z"
   },
   {
    "duration": 5,
    "start_time": "2022-06-30T12:49:41.244Z"
   },
   {
    "duration": 6,
    "start_time": "2022-06-30T12:49:41.251Z"
   },
   {
    "duration": 6,
    "start_time": "2022-06-30T12:49:41.260Z"
   },
   {
    "duration": 72,
    "start_time": "2022-06-30T12:55:01.223Z"
   },
   {
    "duration": 8,
    "start_time": "2022-06-30T12:55:12.643Z"
   },
   {
    "duration": 8,
    "start_time": "2022-06-30T12:55:32.543Z"
   },
   {
    "duration": 6,
    "start_time": "2022-06-30T12:55:52.025Z"
   },
   {
    "duration": 6,
    "start_time": "2022-06-30T12:56:09.413Z"
   },
   {
    "duration": 9,
    "start_time": "2022-06-30T12:56:54.508Z"
   },
   {
    "duration": 435,
    "start_time": "2022-06-30T12:57:01.116Z"
   },
   {
    "duration": 173,
    "start_time": "2022-06-30T12:57:01.553Z"
   },
   {
    "duration": 14,
    "start_time": "2022-06-30T12:57:01.727Z"
   },
   {
    "duration": 30,
    "start_time": "2022-06-30T12:57:01.743Z"
   },
   {
    "duration": 2,
    "start_time": "2022-06-30T12:57:01.776Z"
   },
   {
    "duration": 15,
    "start_time": "2022-06-30T12:57:01.780Z"
   },
   {
    "duration": 15,
    "start_time": "2022-06-30T12:57:01.797Z"
   },
   {
    "duration": 29,
    "start_time": "2022-06-30T12:57:01.814Z"
   },
   {
    "duration": 46,
    "start_time": "2022-06-30T12:57:01.845Z"
   },
   {
    "duration": 20,
    "start_time": "2022-06-30T12:57:01.893Z"
   },
   {
    "duration": 47,
    "start_time": "2022-06-30T12:57:01.915Z"
   },
   {
    "duration": 96,
    "start_time": "2022-06-30T12:57:01.964Z"
   },
   {
    "duration": 114,
    "start_time": "2022-06-30T12:57:02.062Z"
   },
   {
    "duration": 65,
    "start_time": "2022-06-30T12:57:02.180Z"
   },
   {
    "duration": 42,
    "start_time": "2022-06-30T12:57:02.246Z"
   },
   {
    "duration": 110,
    "start_time": "2022-06-30T12:57:02.291Z"
   },
   {
    "duration": 54,
    "start_time": "2022-06-30T12:57:02.403Z"
   },
   {
    "duration": 16,
    "start_time": "2022-06-30T12:57:02.460Z"
   },
   {
    "duration": 25,
    "start_time": "2022-06-30T12:57:02.479Z"
   },
   {
    "duration": 4,
    "start_time": "2022-06-30T12:57:02.506Z"
   },
   {
    "duration": 39,
    "start_time": "2022-06-30T12:57:02.512Z"
   },
   {
    "duration": 18,
    "start_time": "2022-06-30T12:57:02.553Z"
   },
   {
    "duration": 23,
    "start_time": "2022-06-30T12:57:02.573Z"
   },
   {
    "duration": 16,
    "start_time": "2022-06-30T12:57:02.598Z"
   },
   {
    "duration": 42,
    "start_time": "2022-06-30T12:57:02.616Z"
   },
   {
    "duration": 16,
    "start_time": "2022-06-30T12:57:02.659Z"
   },
   {
    "duration": 10,
    "start_time": "2022-06-30T12:57:02.677Z"
   },
   {
    "duration": 11,
    "start_time": "2022-06-30T12:57:02.691Z"
   },
   {
    "duration": 41,
    "start_time": "2022-06-30T12:57:02.704Z"
   },
   {
    "duration": 6,
    "start_time": "2022-06-30T12:57:02.747Z"
   },
   {
    "duration": 11,
    "start_time": "2022-06-30T12:57:02.754Z"
   },
   {
    "duration": 5,
    "start_time": "2022-06-30T12:57:02.767Z"
   },
   {
    "duration": 7,
    "start_time": "2022-06-30T12:57:02.773Z"
   },
   {
    "duration": 9,
    "start_time": "2022-06-30T12:57:02.781Z"
   },
   {
    "duration": 10,
    "start_time": "2022-06-30T12:57:02.792Z"
   },
   {
    "duration": 6,
    "start_time": "2022-06-30T12:57:02.804Z"
   },
   {
    "duration": 5,
    "start_time": "2022-06-30T12:57:02.812Z"
   },
   {
    "duration": 6,
    "start_time": "2022-06-30T12:57:02.818Z"
   },
   {
    "duration": 12,
    "start_time": "2022-06-30T12:57:25.917Z"
   },
   {
    "duration": 12,
    "start_time": "2022-06-30T12:57:34.339Z"
   },
   {
    "duration": 4,
    "start_time": "2022-06-30T12:57:52.917Z"
   },
   {
    "duration": 25,
    "start_time": "2022-06-30T12:58:06.105Z"
   },
   {
    "duration": 22,
    "start_time": "2022-06-30T12:58:28.317Z"
   },
   {
    "duration": 24,
    "start_time": "2022-06-30T12:58:32.239Z"
   },
   {
    "duration": 21,
    "start_time": "2022-06-30T12:58:56.013Z"
   },
   {
    "duration": 3,
    "start_time": "2022-06-30T12:58:58.222Z"
   },
   {
    "duration": 179,
    "start_time": "2022-06-30T12:58:58.227Z"
   },
   {
    "duration": 7,
    "start_time": "2022-06-30T12:58:58.408Z"
   },
   {
    "duration": 36,
    "start_time": "2022-06-30T12:58:58.417Z"
   },
   {
    "duration": 3,
    "start_time": "2022-06-30T12:58:58.456Z"
   },
   {
    "duration": 7,
    "start_time": "2022-06-30T12:58:58.461Z"
   },
   {
    "duration": 13,
    "start_time": "2022-06-30T12:58:58.470Z"
   },
   {
    "duration": 4,
    "start_time": "2022-06-30T12:58:58.486Z"
   },
   {
    "duration": 29,
    "start_time": "2022-06-30T12:58:58.491Z"
   },
   {
    "duration": 18,
    "start_time": "2022-06-30T12:58:58.542Z"
   },
   {
    "duration": 26,
    "start_time": "2022-06-30T12:58:58.561Z"
   },
   {
    "duration": 91,
    "start_time": "2022-06-30T12:58:58.589Z"
   },
   {
    "duration": 77,
    "start_time": "2022-06-30T12:58:58.682Z"
   },
   {
    "duration": 65,
    "start_time": "2022-06-30T12:58:58.762Z"
   },
   {
    "duration": 38,
    "start_time": "2022-06-30T12:58:58.842Z"
   },
   {
    "duration": 91,
    "start_time": "2022-06-30T12:58:58.882Z"
   },
   {
    "duration": 39,
    "start_time": "2022-06-30T12:58:58.974Z"
   },
   {
    "duration": 29,
    "start_time": "2022-06-30T12:58:59.014Z"
   },
   {
    "duration": 14,
    "start_time": "2022-06-30T12:58:59.045Z"
   },
   {
    "duration": 3,
    "start_time": "2022-06-30T12:58:59.061Z"
   },
   {
    "duration": 24,
    "start_time": "2022-06-30T12:58:59.066Z"
   },
   {
    "duration": 16,
    "start_time": "2022-06-30T12:58:59.092Z"
   },
   {
    "duration": 45,
    "start_time": "2022-06-30T12:58:59.110Z"
   },
   {
    "duration": 15,
    "start_time": "2022-06-30T12:58:59.157Z"
   },
   {
    "duration": 28,
    "start_time": "2022-06-30T12:58:59.173Z"
   },
   {
    "duration": 52,
    "start_time": "2022-06-30T12:58:59.204Z"
   },
   {
    "duration": 15,
    "start_time": "2022-06-30T12:58:59.258Z"
   },
   {
    "duration": 18,
    "start_time": "2022-06-30T12:58:59.275Z"
   },
   {
    "duration": 13,
    "start_time": "2022-06-30T12:58:59.294Z"
   },
   {
    "duration": 33,
    "start_time": "2022-06-30T12:58:59.309Z"
   },
   {
    "duration": 9,
    "start_time": "2022-06-30T12:58:59.344Z"
   },
   {
    "duration": 6,
    "start_time": "2022-06-30T12:58:59.354Z"
   },
   {
    "duration": 6,
    "start_time": "2022-06-30T12:58:59.362Z"
   },
   {
    "duration": 4,
    "start_time": "2022-06-30T12:58:59.370Z"
   },
   {
    "duration": 4,
    "start_time": "2022-06-30T12:58:59.376Z"
   },
   {
    "duration": 7,
    "start_time": "2022-06-30T12:58:59.382Z"
   },
   {
    "duration": 6,
    "start_time": "2022-06-30T12:58:59.391Z"
   },
   {
    "duration": 6,
    "start_time": "2022-06-30T12:58:59.399Z"
   },
   {
    "duration": 18,
    "start_time": "2022-06-30T12:59:56.328Z"
   },
   {
    "duration": 13,
    "start_time": "2022-06-30T13:06:08.629Z"
   },
   {
    "duration": 12,
    "start_time": "2022-06-30T13:06:10.775Z"
   },
   {
    "duration": 3,
    "start_time": "2022-06-30T13:07:21.220Z"
   },
   {
    "duration": 184,
    "start_time": "2022-06-30T13:07:21.225Z"
   },
   {
    "duration": 7,
    "start_time": "2022-06-30T13:07:21.411Z"
   },
   {
    "duration": 38,
    "start_time": "2022-06-30T13:07:21.420Z"
   },
   {
    "duration": 3,
    "start_time": "2022-06-30T13:07:21.460Z"
   },
   {
    "duration": 11,
    "start_time": "2022-06-30T13:07:21.465Z"
   },
   {
    "duration": 14,
    "start_time": "2022-06-30T13:07:21.478Z"
   },
   {
    "duration": 5,
    "start_time": "2022-06-30T13:07:21.494Z"
   },
   {
    "duration": 49,
    "start_time": "2022-06-30T13:07:21.501Z"
   },
   {
    "duration": 20,
    "start_time": "2022-06-30T13:07:21.551Z"
   },
   {
    "duration": 24,
    "start_time": "2022-06-30T13:07:21.573Z"
   },
   {
    "duration": 92,
    "start_time": "2022-06-30T13:07:21.599Z"
   },
   {
    "duration": 96,
    "start_time": "2022-06-30T13:07:21.694Z"
   },
   {
    "duration": 67,
    "start_time": "2022-06-30T13:07:21.792Z"
   },
   {
    "duration": 41,
    "start_time": "2022-06-30T13:07:21.861Z"
   },
   {
    "duration": 106,
    "start_time": "2022-06-30T13:07:21.904Z"
   },
   {
    "duration": 52,
    "start_time": "2022-06-30T13:07:22.012Z"
   },
   {
    "duration": 13,
    "start_time": "2022-06-30T13:07:22.065Z"
   },
   {
    "duration": 13,
    "start_time": "2022-06-30T13:07:22.080Z"
   },
   {
    "duration": 8,
    "start_time": "2022-06-30T13:07:22.094Z"
   },
   {
    "duration": 40,
    "start_time": "2022-06-30T13:07:22.103Z"
   },
   {
    "duration": 16,
    "start_time": "2022-06-30T13:07:22.145Z"
   },
   {
    "duration": 16,
    "start_time": "2022-06-30T13:07:22.163Z"
   },
   {
    "duration": 15,
    "start_time": "2022-06-30T13:07:22.182Z"
   },
   {
    "duration": 47,
    "start_time": "2022-06-30T13:07:22.199Z"
   },
   {
    "duration": 17,
    "start_time": "2022-06-30T13:07:22.247Z"
   },
   {
    "duration": 9,
    "start_time": "2022-06-30T13:07:22.266Z"
   },
   {
    "duration": 18,
    "start_time": "2022-06-30T13:07:22.277Z"
   },
   {
    "duration": 13,
    "start_time": "2022-06-30T13:07:22.297Z"
   },
   {
    "duration": 31,
    "start_time": "2022-06-30T13:07:22.312Z"
   },
   {
    "duration": 11,
    "start_time": "2022-06-30T13:07:22.345Z"
   },
   {
    "duration": 12,
    "start_time": "2022-06-30T13:07:22.358Z"
   },
   {
    "duration": 10,
    "start_time": "2022-06-30T13:07:22.371Z"
   },
   {
    "duration": 5,
    "start_time": "2022-06-30T13:07:22.383Z"
   },
   {
    "duration": 9,
    "start_time": "2022-06-30T13:07:22.389Z"
   },
   {
    "duration": 8,
    "start_time": "2022-06-30T13:07:22.400Z"
   },
   {
    "duration": 6,
    "start_time": "2022-06-30T13:07:22.411Z"
   },
   {
    "duration": 9,
    "start_time": "2022-06-30T13:07:22.419Z"
   },
   {
    "duration": 40,
    "start_time": "2022-06-30T13:10:17.373Z"
   },
   {
    "duration": 14,
    "start_time": "2022-06-30T13:11:09.554Z"
   },
   {
    "duration": 14,
    "start_time": "2022-06-30T13:12:07.995Z"
   },
   {
    "duration": 5,
    "start_time": "2022-06-30T13:37:26.548Z"
   },
   {
    "duration": 5,
    "start_time": "2022-06-30T13:38:38.168Z"
   },
   {
    "duration": 38,
    "start_time": "2022-06-30T13:50:57.713Z"
   },
   {
    "duration": 22,
    "start_time": "2022-06-30T13:51:24.985Z"
   },
   {
    "duration": 76,
    "start_time": "2022-06-30T13:53:01.704Z"
   },
   {
    "duration": 21,
    "start_time": "2022-06-30T13:53:07.805Z"
   },
   {
    "duration": 17,
    "start_time": "2022-06-30T13:53:25.624Z"
   },
   {
    "duration": 3,
    "start_time": "2022-06-30T13:53:29.314Z"
   },
   {
    "duration": 190,
    "start_time": "2022-06-30T13:53:29.319Z"
   },
   {
    "duration": 7,
    "start_time": "2022-06-30T13:53:29.511Z"
   },
   {
    "duration": 46,
    "start_time": "2022-06-30T13:53:29.521Z"
   },
   {
    "duration": 3,
    "start_time": "2022-06-30T13:53:29.568Z"
   },
   {
    "duration": 6,
    "start_time": "2022-06-30T13:53:29.574Z"
   },
   {
    "duration": 10,
    "start_time": "2022-06-30T13:53:29.582Z"
   },
   {
    "duration": 5,
    "start_time": "2022-06-30T13:53:29.594Z"
   },
   {
    "duration": 54,
    "start_time": "2022-06-30T13:53:29.603Z"
   },
   {
    "duration": 27,
    "start_time": "2022-06-30T13:53:29.659Z"
   },
   {
    "duration": 25,
    "start_time": "2022-06-30T13:53:29.687Z"
   },
   {
    "duration": 84,
    "start_time": "2022-06-30T13:53:29.714Z"
   },
   {
    "duration": 95,
    "start_time": "2022-06-30T13:53:29.800Z"
   },
   {
    "duration": 77,
    "start_time": "2022-06-30T13:53:29.897Z"
   },
   {
    "duration": 40,
    "start_time": "2022-06-30T13:53:29.976Z"
   },
   {
    "duration": 127,
    "start_time": "2022-06-30T13:53:30.018Z"
   },
   {
    "duration": 37,
    "start_time": "2022-06-30T13:53:30.147Z"
   },
   {
    "duration": 13,
    "start_time": "2022-06-30T13:53:30.186Z"
   },
   {
    "duration": 25,
    "start_time": "2022-06-30T13:53:30.201Z"
   },
   {
    "duration": 18,
    "start_time": "2022-06-30T13:53:30.227Z"
   },
   {
    "duration": 49,
    "start_time": "2022-06-30T13:53:30.247Z"
   },
   {
    "duration": 23,
    "start_time": "2022-06-30T13:53:30.297Z"
   },
   {
    "duration": 16,
    "start_time": "2022-06-30T13:53:30.322Z"
   },
   {
    "duration": 17,
    "start_time": "2022-06-30T13:53:30.341Z"
   },
   {
    "duration": 26,
    "start_time": "2022-06-30T13:53:30.360Z"
   },
   {
    "duration": 27,
    "start_time": "2022-06-30T13:53:30.388Z"
   },
   {
    "duration": 11,
    "start_time": "2022-06-30T13:53:30.417Z"
   },
   {
    "duration": 30,
    "start_time": "2022-06-30T13:53:30.429Z"
   },
   {
    "duration": 10,
    "start_time": "2022-06-30T13:53:30.461Z"
   },
   {
    "duration": 7,
    "start_time": "2022-06-30T13:53:30.474Z"
   },
   {
    "duration": 29,
    "start_time": "2022-06-30T13:53:30.482Z"
   },
   {
    "duration": 13,
    "start_time": "2022-06-30T13:53:30.512Z"
   },
   {
    "duration": 34,
    "start_time": "2022-06-30T13:53:30.526Z"
   },
   {
    "duration": 13,
    "start_time": "2022-06-30T13:53:30.561Z"
   },
   {
    "duration": 29,
    "start_time": "2022-06-30T13:53:30.576Z"
   },
   {
    "duration": 8,
    "start_time": "2022-06-30T13:53:30.607Z"
   },
   {
    "duration": 8,
    "start_time": "2022-06-30T13:53:30.616Z"
   },
   {
    "duration": 9,
    "start_time": "2022-06-30T13:53:30.626Z"
   },
   {
    "duration": 5,
    "start_time": "2022-06-30T13:58:36.100Z"
   },
   {
    "duration": 19,
    "start_time": "2022-06-30T13:58:39.610Z"
   },
   {
    "duration": 13,
    "start_time": "2022-06-30T13:58:48.371Z"
   },
   {
    "duration": 22,
    "start_time": "2022-06-30T13:58:51.099Z"
   },
   {
    "duration": 14,
    "start_time": "2022-06-30T13:58:54.851Z"
   },
   {
    "duration": 6,
    "start_time": "2022-06-30T13:59:43.209Z"
   },
   {
    "duration": 3,
    "start_time": "2022-06-30T13:59:47.420Z"
   },
   {
    "duration": 186,
    "start_time": "2022-06-30T13:59:47.424Z"
   },
   {
    "duration": 7,
    "start_time": "2022-06-30T13:59:47.612Z"
   },
   {
    "duration": 46,
    "start_time": "2022-06-30T13:59:47.621Z"
   },
   {
    "duration": 2,
    "start_time": "2022-06-30T13:59:47.669Z"
   },
   {
    "duration": 9,
    "start_time": "2022-06-30T13:59:47.673Z"
   },
   {
    "duration": 11,
    "start_time": "2022-06-30T13:59:47.684Z"
   },
   {
    "duration": 5,
    "start_time": "2022-06-30T13:59:47.697Z"
   },
   {
    "duration": 59,
    "start_time": "2022-06-30T13:59:47.705Z"
   },
   {
    "duration": 22,
    "start_time": "2022-06-30T13:59:47.766Z"
   },
   {
    "duration": 30,
    "start_time": "2022-06-30T13:59:47.790Z"
   },
   {
    "duration": 100,
    "start_time": "2022-06-30T13:59:47.842Z"
   },
   {
    "duration": 104,
    "start_time": "2022-06-30T13:59:47.943Z"
   },
   {
    "duration": 85,
    "start_time": "2022-06-30T13:59:48.049Z"
   },
   {
    "duration": 45,
    "start_time": "2022-06-30T13:59:48.136Z"
   },
   {
    "duration": 135,
    "start_time": "2022-06-30T13:59:48.183Z"
   },
   {
    "duration": 45,
    "start_time": "2022-06-30T13:59:48.320Z"
   },
   {
    "duration": 15,
    "start_time": "2022-06-30T13:59:48.367Z"
   },
   {
    "duration": 14,
    "start_time": "2022-06-30T13:59:48.384Z"
   },
   {
    "duration": 5,
    "start_time": "2022-06-30T13:59:48.400Z"
   },
   {
    "duration": 55,
    "start_time": "2022-06-30T13:59:48.407Z"
   },
   {
    "duration": 18,
    "start_time": "2022-06-30T13:59:48.464Z"
   },
   {
    "duration": 18,
    "start_time": "2022-06-30T13:59:48.484Z"
   },
   {
    "duration": 41,
    "start_time": "2022-06-30T13:59:48.505Z"
   },
   {
    "duration": 22,
    "start_time": "2022-06-30T13:59:48.548Z"
   },
   {
    "duration": 19,
    "start_time": "2022-06-30T13:59:48.572Z"
   },
   {
    "duration": 10,
    "start_time": "2022-06-30T13:59:48.594Z"
   },
   {
    "duration": 51,
    "start_time": "2022-06-30T13:59:48.606Z"
   },
   {
    "duration": 15,
    "start_time": "2022-06-30T13:59:48.659Z"
   },
   {
    "duration": 6,
    "start_time": "2022-06-30T13:59:48.677Z"
   },
   {
    "duration": 26,
    "start_time": "2022-06-30T13:59:48.685Z"
   },
   {
    "duration": 36,
    "start_time": "2022-06-30T13:59:48.713Z"
   },
   {
    "duration": 28,
    "start_time": "2022-06-30T13:59:48.751Z"
   },
   {
    "duration": 20,
    "start_time": "2022-06-30T13:59:48.781Z"
   },
   {
    "duration": 3,
    "start_time": "2022-06-30T13:59:48.803Z"
   },
   {
    "duration": 34,
    "start_time": "2022-06-30T13:59:48.808Z"
   },
   {
    "duration": 6,
    "start_time": "2022-06-30T13:59:48.845Z"
   },
   {
    "duration": 4,
    "start_time": "2022-06-30T13:59:48.853Z"
   },
   {
    "duration": 6,
    "start_time": "2022-06-30T14:00:24.290Z"
   },
   {
    "duration": 19,
    "start_time": "2022-06-30T14:00:30.430Z"
   },
   {
    "duration": 33,
    "start_time": "2022-06-30T14:28:42.299Z"
   },
   {
    "duration": 10,
    "start_time": "2022-06-30T14:30:02.490Z"
   },
   {
    "duration": 5,
    "start_time": "2022-06-30T14:30:51.079Z"
   },
   {
    "duration": 8,
    "start_time": "2022-06-30T14:32:27.900Z"
   },
   {
    "duration": 8,
    "start_time": "2022-06-30T14:32:43.660Z"
   },
   {
    "duration": 8,
    "start_time": "2022-06-30T14:33:07.259Z"
   },
   {
    "duration": 3,
    "start_time": "2022-06-30T14:33:14.908Z"
   },
   {
    "duration": 193,
    "start_time": "2022-06-30T14:33:14.918Z"
   },
   {
    "duration": 8,
    "start_time": "2022-06-30T14:33:15.113Z"
   },
   {
    "duration": 47,
    "start_time": "2022-06-30T14:33:15.122Z"
   },
   {
    "duration": 3,
    "start_time": "2022-06-30T14:33:15.171Z"
   },
   {
    "duration": 6,
    "start_time": "2022-06-30T14:33:15.176Z"
   },
   {
    "duration": 14,
    "start_time": "2022-06-30T14:33:15.184Z"
   },
   {
    "duration": 5,
    "start_time": "2022-06-30T14:33:15.200Z"
   },
   {
    "duration": 56,
    "start_time": "2022-06-30T14:33:15.207Z"
   },
   {
    "duration": 22,
    "start_time": "2022-06-30T14:33:15.266Z"
   },
   {
    "duration": 27,
    "start_time": "2022-06-30T14:33:15.290Z"
   },
   {
    "duration": 96,
    "start_time": "2022-06-30T14:33:15.319Z"
   },
   {
    "duration": 86,
    "start_time": "2022-06-30T14:33:15.417Z"
   },
   {
    "duration": 77,
    "start_time": "2022-06-30T14:33:15.505Z"
   },
   {
    "duration": 69,
    "start_time": "2022-06-30T14:33:15.585Z"
   },
   {
    "duration": 96,
    "start_time": "2022-06-30T14:33:15.657Z"
   },
   {
    "duration": 40,
    "start_time": "2022-06-30T14:33:15.755Z"
   },
   {
    "duration": 13,
    "start_time": "2022-06-30T14:33:15.797Z"
   },
   {
    "duration": 39,
    "start_time": "2022-06-30T14:33:15.812Z"
   },
   {
    "duration": 5,
    "start_time": "2022-06-30T14:33:15.854Z"
   },
   {
    "duration": 22,
    "start_time": "2022-06-30T14:33:15.860Z"
   },
   {
    "duration": 15,
    "start_time": "2022-06-30T14:33:15.884Z"
   },
   {
    "duration": 50,
    "start_time": "2022-06-30T14:33:15.901Z"
   },
   {
    "duration": 25,
    "start_time": "2022-06-30T14:33:15.954Z"
   },
   {
    "duration": 18,
    "start_time": "2022-06-30T14:33:15.981Z"
   },
   {
    "duration": 41,
    "start_time": "2022-06-30T14:33:16.001Z"
   },
   {
    "duration": 11,
    "start_time": "2022-06-30T14:33:16.044Z"
   },
   {
    "duration": 28,
    "start_time": "2022-06-30T14:33:16.057Z"
   },
   {
    "duration": 19,
    "start_time": "2022-06-30T14:33:16.087Z"
   },
   {
    "duration": 7,
    "start_time": "2022-06-30T14:33:16.110Z"
   },
   {
    "duration": 54,
    "start_time": "2022-06-30T14:33:16.119Z"
   },
   {
    "duration": 14,
    "start_time": "2022-06-30T14:33:16.174Z"
   },
   {
    "duration": 27,
    "start_time": "2022-06-30T14:33:16.190Z"
   },
   {
    "duration": 32,
    "start_time": "2022-06-30T14:33:16.219Z"
   },
   {
    "duration": 13,
    "start_time": "2022-06-30T14:33:16.253Z"
   },
   {
    "duration": 7,
    "start_time": "2022-06-30T14:33:16.268Z"
   },
   {
    "duration": 12,
    "start_time": "2022-06-30T14:33:16.277Z"
   },
   {
    "duration": 5,
    "start_time": "2022-06-30T14:33:16.291Z"
   },
   {
    "duration": 408,
    "start_time": "2022-07-09T21:42:21.369Z"
   },
   {
    "duration": 248,
    "start_time": "2022-07-09T21:42:30.750Z"
   },
   {
    "duration": 9,
    "start_time": "2022-07-09T21:42:32.769Z"
   },
   {
    "duration": 7,
    "start_time": "2022-07-09T21:42:49.069Z"
   },
   {
    "duration": 9,
    "start_time": "2022-07-09T21:43:17.237Z"
   },
   {
    "duration": 30,
    "start_time": "2022-07-09T21:43:33.989Z"
   }
  ],
  "colab": {
   "collapsed_sections": [
    "E0vqbgi9ay0H",
    "VUC88oWjTJw2"
   ],
   "name": "automatization_template_upd4.ipynb",
   "provenance": []
  },
  "kernelspec": {
   "display_name": "Python 3 (ipykernel)",
   "language": "python",
   "name": "python3"
  },
  "language_info": {
   "codemirror_mode": {
    "name": "ipython",
    "version": 3
   },
   "file_extension": ".py",
   "mimetype": "text/x-python",
   "name": "python",
   "nbconvert_exporter": "python",
   "pygments_lexer": "ipython3",
   "version": "3.9.12"
  },
  "toc": {
   "base_numbering": 1,
   "nav_menu": {
    "height": "215px",
    "width": "403px"
   },
   "number_sections": true,
   "sideBar": true,
   "skip_h1_title": true,
   "title_cell": "Table of Contents",
   "title_sidebar": "Contents",
   "toc_cell": false,
   "toc_position": {
    "height": "calc(100% - 180px)",
    "left": "10px",
    "top": "150px",
    "width": "285.825px"
   },
   "toc_section_display": true,
   "toc_window_display": false
  }
 },
 "nbformat": 4,
 "nbformat_minor": 1
}
