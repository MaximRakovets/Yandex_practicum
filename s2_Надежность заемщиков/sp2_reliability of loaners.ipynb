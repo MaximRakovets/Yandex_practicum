{
 "cells": [
  {
   "cell_type": "markdown",
   "id": "d79d47d0",
   "metadata": {
    "toc": true
   },
   "source": [
    "<h1>Оглавление<span class=\"tocSkip\"></span></h1>\n",
    "<div class=\"toc\"><ul class=\"toc-item\"><li><span><a href=\"#Откройте-таблицу-и-изучите-общую-информацию-о-данных\" data-toc-modified-id=\"Откройте-таблицу-и-изучите-общую-информацию-о-данных-4\"><span class=\"toc-item-num\">4&nbsp;&nbsp;</span>Откройте таблицу и изучите общую информацию о данных</a></span></li><li><span><a href=\"#Предобработка-данных\" data-toc-modified-id=\"Предобработка-данных-5\"><span class=\"toc-item-num\">5&nbsp;&nbsp;</span>Предобработка данных</a></span><ul class=\"toc-item\"><li><span><a href=\"#Удаление-пропусков\" data-toc-modified-id=\"Удаление-пропусков-5.1\"><span class=\"toc-item-num\">5.1&nbsp;&nbsp;</span>Удаление пропусков</a></span></li><li><span><a href=\"#Обработка-аномальных-значений\" data-toc-modified-id=\"Обработка-аномальных-значений-5.2\"><span class=\"toc-item-num\">5.2&nbsp;&nbsp;</span>Обработка аномальных значений</a></span></li><li><span><a href=\"#Удаление-пропусков-(продолжение)\" data-toc-modified-id=\"Удаление-пропусков-(продолжение)-5.3\"><span class=\"toc-item-num\">5.3&nbsp;&nbsp;</span>Удаление пропусков (продолжение)</a></span></li><li><span><a href=\"#Изменение-типов-данных\" data-toc-modified-id=\"Изменение-типов-данных-5.4\"><span class=\"toc-item-num\">5.4&nbsp;&nbsp;</span>Изменение типов данных</a></span></li><li><span><a href=\"#Обработка-дубликатов\" data-toc-modified-id=\"Обработка-дубликатов-5.5\"><span class=\"toc-item-num\">5.5&nbsp;&nbsp;</span>Обработка дубликатов</a></span></li><li><span><a href=\"#Категоризация-данных\" data-toc-modified-id=\"Категоризация-данных-5.6\"><span class=\"toc-item-num\">5.6&nbsp;&nbsp;</span>Категоризация данных</a></span></li></ul></li><li><span><a href=\"#Исследуйте-данные-и-ответьте-на-вопросы\" data-toc-modified-id=\"Исследуйте-данные-и-ответьте-на-вопросы-6\"><span class=\"toc-item-num\">6&nbsp;&nbsp;</span>Исследуйте данные и ответьте на вопросы</a></span></li><li><span><a href=\"#Общий-вывод.\" data-toc-modified-id=\"Общий-вывод.-7\"><span class=\"toc-item-num\">7&nbsp;&nbsp;</span>Общий вывод.</a></span></li></ul></div>"
   ]
  },
  {
   "cell_type": "markdown",
   "id": "c81daeeb",
   "metadata": {
    "deletable": false,
    "id": "c81daeeb"
   },
   "source": [
    "# Исследование надежности заемщиков\n"
   ]
  },
  {
   "cell_type": "markdown",
   "id": "827c20bf",
   "metadata": {
    "id": "827c20bf"
   },
   "source": [
    "Во второй части проекта вы выполните шаги 3 и 4. Их вручную проверит ревьюер.\n",
    "Чтобы вам не пришлось писать код заново для шагов 1 и 2, мы добавили авторские решения в ячейки с кодом. \n",
    "\n"
   ]
  },
  {
   "cell_type": "markdown",
   "id": "744d7639",
   "metadata": {
    "deletable": false,
    "id": "744d7639"
   },
   "source": [
    "## Откройте таблицу и изучите общую информацию о данных"
   ]
  },
  {
   "cell_type": "markdown",
   "id": "e7a14c31",
   "metadata": {
    "deletable": false,
    "id": "e7a14c31"
   },
   "source": [
    "**Задание 1. Импортируйте библиотеку pandas. Считайте данные из csv-файла в датафрейм и сохраните в переменную `data`. Путь к файлу:**\n",
    "\n",
    "`/datasets/data.csv`"
   ]
  },
  {
   "cell_type": "code",
   "execution_count": 1,
   "id": "7bcf75c9",
   "metadata": {
    "deletable": false,
    "id": "7bcf75c9"
   },
   "outputs": [],
   "source": [
    "import pandas as pd\n",
    "\n",
    "try:\n",
    "    data = pd.read_csv('/data.csv')\n",
    "except:\n",
    "    data = pd.read_csv('https://code.s3.yandex.net/datasets/data.csv')"
   ]
  },
  {
   "cell_type": "code",
   "execution_count": null,
   "id": "2c979859",
   "metadata": {},
   "outputs": [],
   "source": []
  },
  {
   "cell_type": "markdown",
   "id": "b8038fe3",
   "metadata": {
    "deletable": false,
    "id": "b8038fe3"
   },
   "source": [
    "**Задание 2. Выведите первые 20 строчек датафрейма `data` на экран.**"
   ]
  },
  {
   "cell_type": "code",
   "execution_count": 2,
   "id": "2a7cab99",
   "metadata": {
    "deletable": false,
    "id": "2a7cab99",
    "outputId": "1a8f3ef2-d323-4ec2-ddf7-89670b5944c4"
   },
   "outputs": [
    {
     "data": {
      "text/html": [
       "<div>\n",
       "<style scoped>\n",
       "    .dataframe tbody tr th:only-of-type {\n",
       "        vertical-align: middle;\n",
       "    }\n",
       "\n",
       "    .dataframe tbody tr th {\n",
       "        vertical-align: top;\n",
       "    }\n",
       "\n",
       "    .dataframe thead th {\n",
       "        text-align: right;\n",
       "    }\n",
       "</style>\n",
       "<table border=\"1\" class=\"dataframe\">\n",
       "  <thead>\n",
       "    <tr style=\"text-align: right;\">\n",
       "      <th></th>\n",
       "      <th>children</th>\n",
       "      <th>days_employed</th>\n",
       "      <th>dob_years</th>\n",
       "      <th>education</th>\n",
       "      <th>education_id</th>\n",
       "      <th>family_status</th>\n",
       "      <th>family_status_id</th>\n",
       "      <th>gender</th>\n",
       "      <th>income_type</th>\n",
       "      <th>debt</th>\n",
       "      <th>total_income</th>\n",
       "      <th>purpose</th>\n",
       "    </tr>\n",
       "  </thead>\n",
       "  <tbody>\n",
       "    <tr>\n",
       "      <th>0</th>\n",
       "      <td>1</td>\n",
       "      <td>-8437.673028</td>\n",
       "      <td>42</td>\n",
       "      <td>высшее</td>\n",
       "      <td>0</td>\n",
       "      <td>женат / замужем</td>\n",
       "      <td>0</td>\n",
       "      <td>F</td>\n",
       "      <td>сотрудник</td>\n",
       "      <td>0</td>\n",
       "      <td>253875.639453</td>\n",
       "      <td>покупка жилья</td>\n",
       "    </tr>\n",
       "    <tr>\n",
       "      <th>1</th>\n",
       "      <td>1</td>\n",
       "      <td>-4024.803754</td>\n",
       "      <td>36</td>\n",
       "      <td>среднее</td>\n",
       "      <td>1</td>\n",
       "      <td>женат / замужем</td>\n",
       "      <td>0</td>\n",
       "      <td>F</td>\n",
       "      <td>сотрудник</td>\n",
       "      <td>0</td>\n",
       "      <td>112080.014102</td>\n",
       "      <td>приобретение автомобиля</td>\n",
       "    </tr>\n",
       "    <tr>\n",
       "      <th>2</th>\n",
       "      <td>0</td>\n",
       "      <td>-5623.422610</td>\n",
       "      <td>33</td>\n",
       "      <td>Среднее</td>\n",
       "      <td>1</td>\n",
       "      <td>женат / замужем</td>\n",
       "      <td>0</td>\n",
       "      <td>M</td>\n",
       "      <td>сотрудник</td>\n",
       "      <td>0</td>\n",
       "      <td>145885.952297</td>\n",
       "      <td>покупка жилья</td>\n",
       "    </tr>\n",
       "    <tr>\n",
       "      <th>3</th>\n",
       "      <td>3</td>\n",
       "      <td>-4124.747207</td>\n",
       "      <td>32</td>\n",
       "      <td>среднее</td>\n",
       "      <td>1</td>\n",
       "      <td>женат / замужем</td>\n",
       "      <td>0</td>\n",
       "      <td>M</td>\n",
       "      <td>сотрудник</td>\n",
       "      <td>0</td>\n",
       "      <td>267628.550329</td>\n",
       "      <td>дополнительное образование</td>\n",
       "    </tr>\n",
       "    <tr>\n",
       "      <th>4</th>\n",
       "      <td>0</td>\n",
       "      <td>340266.072047</td>\n",
       "      <td>53</td>\n",
       "      <td>среднее</td>\n",
       "      <td>1</td>\n",
       "      <td>гражданский брак</td>\n",
       "      <td>1</td>\n",
       "      <td>F</td>\n",
       "      <td>пенсионер</td>\n",
       "      <td>0</td>\n",
       "      <td>158616.077870</td>\n",
       "      <td>сыграть свадьбу</td>\n",
       "    </tr>\n",
       "    <tr>\n",
       "      <th>5</th>\n",
       "      <td>0</td>\n",
       "      <td>-926.185831</td>\n",
       "      <td>27</td>\n",
       "      <td>высшее</td>\n",
       "      <td>0</td>\n",
       "      <td>гражданский брак</td>\n",
       "      <td>1</td>\n",
       "      <td>M</td>\n",
       "      <td>компаньон</td>\n",
       "      <td>0</td>\n",
       "      <td>255763.565419</td>\n",
       "      <td>покупка жилья</td>\n",
       "    </tr>\n",
       "    <tr>\n",
       "      <th>6</th>\n",
       "      <td>0</td>\n",
       "      <td>-2879.202052</td>\n",
       "      <td>43</td>\n",
       "      <td>высшее</td>\n",
       "      <td>0</td>\n",
       "      <td>женат / замужем</td>\n",
       "      <td>0</td>\n",
       "      <td>F</td>\n",
       "      <td>компаньон</td>\n",
       "      <td>0</td>\n",
       "      <td>240525.971920</td>\n",
       "      <td>операции с жильем</td>\n",
       "    </tr>\n",
       "    <tr>\n",
       "      <th>7</th>\n",
       "      <td>0</td>\n",
       "      <td>-152.779569</td>\n",
       "      <td>50</td>\n",
       "      <td>СРЕДНЕЕ</td>\n",
       "      <td>1</td>\n",
       "      <td>женат / замужем</td>\n",
       "      <td>0</td>\n",
       "      <td>M</td>\n",
       "      <td>сотрудник</td>\n",
       "      <td>0</td>\n",
       "      <td>135823.934197</td>\n",
       "      <td>образование</td>\n",
       "    </tr>\n",
       "    <tr>\n",
       "      <th>8</th>\n",
       "      <td>2</td>\n",
       "      <td>-6929.865299</td>\n",
       "      <td>35</td>\n",
       "      <td>ВЫСШЕЕ</td>\n",
       "      <td>0</td>\n",
       "      <td>гражданский брак</td>\n",
       "      <td>1</td>\n",
       "      <td>F</td>\n",
       "      <td>сотрудник</td>\n",
       "      <td>0</td>\n",
       "      <td>95856.832424</td>\n",
       "      <td>на проведение свадьбы</td>\n",
       "    </tr>\n",
       "    <tr>\n",
       "      <th>9</th>\n",
       "      <td>0</td>\n",
       "      <td>-2188.756445</td>\n",
       "      <td>41</td>\n",
       "      <td>среднее</td>\n",
       "      <td>1</td>\n",
       "      <td>женат / замужем</td>\n",
       "      <td>0</td>\n",
       "      <td>M</td>\n",
       "      <td>сотрудник</td>\n",
       "      <td>0</td>\n",
       "      <td>144425.938277</td>\n",
       "      <td>покупка жилья для семьи</td>\n",
       "    </tr>\n",
       "    <tr>\n",
       "      <th>10</th>\n",
       "      <td>2</td>\n",
       "      <td>-4171.483647</td>\n",
       "      <td>36</td>\n",
       "      <td>высшее</td>\n",
       "      <td>0</td>\n",
       "      <td>женат / замужем</td>\n",
       "      <td>0</td>\n",
       "      <td>M</td>\n",
       "      <td>компаньон</td>\n",
       "      <td>0</td>\n",
       "      <td>113943.491460</td>\n",
       "      <td>покупка недвижимости</td>\n",
       "    </tr>\n",
       "    <tr>\n",
       "      <th>11</th>\n",
       "      <td>0</td>\n",
       "      <td>-792.701887</td>\n",
       "      <td>40</td>\n",
       "      <td>среднее</td>\n",
       "      <td>1</td>\n",
       "      <td>женат / замужем</td>\n",
       "      <td>0</td>\n",
       "      <td>F</td>\n",
       "      <td>сотрудник</td>\n",
       "      <td>0</td>\n",
       "      <td>77069.234271</td>\n",
       "      <td>покупка коммерческой недвижимости</td>\n",
       "    </tr>\n",
       "    <tr>\n",
       "      <th>12</th>\n",
       "      <td>0</td>\n",
       "      <td>NaN</td>\n",
       "      <td>65</td>\n",
       "      <td>среднее</td>\n",
       "      <td>1</td>\n",
       "      <td>гражданский брак</td>\n",
       "      <td>1</td>\n",
       "      <td>M</td>\n",
       "      <td>пенсионер</td>\n",
       "      <td>0</td>\n",
       "      <td>NaN</td>\n",
       "      <td>сыграть свадьбу</td>\n",
       "    </tr>\n",
       "    <tr>\n",
       "      <th>13</th>\n",
       "      <td>0</td>\n",
       "      <td>-1846.641941</td>\n",
       "      <td>54</td>\n",
       "      <td>неоконченное высшее</td>\n",
       "      <td>2</td>\n",
       "      <td>женат / замужем</td>\n",
       "      <td>0</td>\n",
       "      <td>F</td>\n",
       "      <td>сотрудник</td>\n",
       "      <td>0</td>\n",
       "      <td>130458.228857</td>\n",
       "      <td>приобретение автомобиля</td>\n",
       "    </tr>\n",
       "    <tr>\n",
       "      <th>14</th>\n",
       "      <td>0</td>\n",
       "      <td>-1844.956182</td>\n",
       "      <td>56</td>\n",
       "      <td>высшее</td>\n",
       "      <td>0</td>\n",
       "      <td>гражданский брак</td>\n",
       "      <td>1</td>\n",
       "      <td>F</td>\n",
       "      <td>компаньон</td>\n",
       "      <td>1</td>\n",
       "      <td>165127.911772</td>\n",
       "      <td>покупка жилой недвижимости</td>\n",
       "    </tr>\n",
       "    <tr>\n",
       "      <th>15</th>\n",
       "      <td>1</td>\n",
       "      <td>-972.364419</td>\n",
       "      <td>26</td>\n",
       "      <td>среднее</td>\n",
       "      <td>1</td>\n",
       "      <td>женат / замужем</td>\n",
       "      <td>0</td>\n",
       "      <td>F</td>\n",
       "      <td>сотрудник</td>\n",
       "      <td>0</td>\n",
       "      <td>116820.904450</td>\n",
       "      <td>строительство собственной недвижимости</td>\n",
       "    </tr>\n",
       "    <tr>\n",
       "      <th>16</th>\n",
       "      <td>0</td>\n",
       "      <td>-1719.934226</td>\n",
       "      <td>35</td>\n",
       "      <td>среднее</td>\n",
       "      <td>1</td>\n",
       "      <td>женат / замужем</td>\n",
       "      <td>0</td>\n",
       "      <td>F</td>\n",
       "      <td>сотрудник</td>\n",
       "      <td>0</td>\n",
       "      <td>289202.704229</td>\n",
       "      <td>недвижимость</td>\n",
       "    </tr>\n",
       "    <tr>\n",
       "      <th>17</th>\n",
       "      <td>0</td>\n",
       "      <td>-2369.999720</td>\n",
       "      <td>33</td>\n",
       "      <td>высшее</td>\n",
       "      <td>0</td>\n",
       "      <td>гражданский брак</td>\n",
       "      <td>1</td>\n",
       "      <td>M</td>\n",
       "      <td>сотрудник</td>\n",
       "      <td>0</td>\n",
       "      <td>90410.586745</td>\n",
       "      <td>строительство недвижимости</td>\n",
       "    </tr>\n",
       "    <tr>\n",
       "      <th>18</th>\n",
       "      <td>0</td>\n",
       "      <td>400281.136913</td>\n",
       "      <td>53</td>\n",
       "      <td>среднее</td>\n",
       "      <td>1</td>\n",
       "      <td>вдовец / вдова</td>\n",
       "      <td>2</td>\n",
       "      <td>F</td>\n",
       "      <td>пенсионер</td>\n",
       "      <td>0</td>\n",
       "      <td>56823.777243</td>\n",
       "      <td>на покупку подержанного автомобиля</td>\n",
       "    </tr>\n",
       "    <tr>\n",
       "      <th>19</th>\n",
       "      <td>0</td>\n",
       "      <td>-10038.818549</td>\n",
       "      <td>48</td>\n",
       "      <td>СРЕДНЕЕ</td>\n",
       "      <td>1</td>\n",
       "      <td>в разводе</td>\n",
       "      <td>3</td>\n",
       "      <td>F</td>\n",
       "      <td>сотрудник</td>\n",
       "      <td>0</td>\n",
       "      <td>242831.107982</td>\n",
       "      <td>на покупку своего автомобиля</td>\n",
       "    </tr>\n",
       "  </tbody>\n",
       "</table>\n",
       "</div>"
      ],
      "text/plain": [
       "    children  days_employed  dob_years            education  education_id  \\\n",
       "0          1   -8437.673028         42               высшее             0   \n",
       "1          1   -4024.803754         36              среднее             1   \n",
       "2          0   -5623.422610         33              Среднее             1   \n",
       "3          3   -4124.747207         32              среднее             1   \n",
       "4          0  340266.072047         53              среднее             1   \n",
       "5          0    -926.185831         27               высшее             0   \n",
       "6          0   -2879.202052         43               высшее             0   \n",
       "7          0    -152.779569         50              СРЕДНЕЕ             1   \n",
       "8          2   -6929.865299         35               ВЫСШЕЕ             0   \n",
       "9          0   -2188.756445         41              среднее             1   \n",
       "10         2   -4171.483647         36               высшее             0   \n",
       "11         0    -792.701887         40              среднее             1   \n",
       "12         0            NaN         65              среднее             1   \n",
       "13         0   -1846.641941         54  неоконченное высшее             2   \n",
       "14         0   -1844.956182         56               высшее             0   \n",
       "15         1    -972.364419         26              среднее             1   \n",
       "16         0   -1719.934226         35              среднее             1   \n",
       "17         0   -2369.999720         33               высшее             0   \n",
       "18         0  400281.136913         53              среднее             1   \n",
       "19         0  -10038.818549         48              СРЕДНЕЕ             1   \n",
       "\n",
       "       family_status  family_status_id gender income_type  debt  \\\n",
       "0    женат / замужем                 0      F   сотрудник     0   \n",
       "1    женат / замужем                 0      F   сотрудник     0   \n",
       "2    женат / замужем                 0      M   сотрудник     0   \n",
       "3    женат / замужем                 0      M   сотрудник     0   \n",
       "4   гражданский брак                 1      F   пенсионер     0   \n",
       "5   гражданский брак                 1      M   компаньон     0   \n",
       "6    женат / замужем                 0      F   компаньон     0   \n",
       "7    женат / замужем                 0      M   сотрудник     0   \n",
       "8   гражданский брак                 1      F   сотрудник     0   \n",
       "9    женат / замужем                 0      M   сотрудник     0   \n",
       "10   женат / замужем                 0      M   компаньон     0   \n",
       "11   женат / замужем                 0      F   сотрудник     0   \n",
       "12  гражданский брак                 1      M   пенсионер     0   \n",
       "13   женат / замужем                 0      F   сотрудник     0   \n",
       "14  гражданский брак                 1      F   компаньон     1   \n",
       "15   женат / замужем                 0      F   сотрудник     0   \n",
       "16   женат / замужем                 0      F   сотрудник     0   \n",
       "17  гражданский брак                 1      M   сотрудник     0   \n",
       "18    вдовец / вдова                 2      F   пенсионер     0   \n",
       "19         в разводе                 3      F   сотрудник     0   \n",
       "\n",
       "     total_income                                 purpose  \n",
       "0   253875.639453                           покупка жилья  \n",
       "1   112080.014102                 приобретение автомобиля  \n",
       "2   145885.952297                           покупка жилья  \n",
       "3   267628.550329              дополнительное образование  \n",
       "4   158616.077870                         сыграть свадьбу  \n",
       "5   255763.565419                           покупка жилья  \n",
       "6   240525.971920                       операции с жильем  \n",
       "7   135823.934197                             образование  \n",
       "8    95856.832424                   на проведение свадьбы  \n",
       "9   144425.938277                 покупка жилья для семьи  \n",
       "10  113943.491460                    покупка недвижимости  \n",
       "11   77069.234271       покупка коммерческой недвижимости  \n",
       "12            NaN                         сыграть свадьбу  \n",
       "13  130458.228857                 приобретение автомобиля  \n",
       "14  165127.911772              покупка жилой недвижимости  \n",
       "15  116820.904450  строительство собственной недвижимости  \n",
       "16  289202.704229                            недвижимость  \n",
       "17   90410.586745              строительство недвижимости  \n",
       "18   56823.777243      на покупку подержанного автомобиля  \n",
       "19  242831.107982            на покупку своего автомобиля  "
      ]
     },
     "execution_count": 2,
     "metadata": {},
     "output_type": "execute_result"
    }
   ],
   "source": [
    "data.head(20)"
   ]
  },
  {
   "cell_type": "markdown",
   "id": "1c12e233",
   "metadata": {
    "deletable": false,
    "id": "1c12e233"
   },
   "source": [
    "**Задание 3. Выведите основную информацию о датафрейме с помощью метода `info()`.**"
   ]
  },
  {
   "cell_type": "code",
   "execution_count": 3,
   "id": "2b757bca",
   "metadata": {
    "deletable": false,
    "id": "2b757bca",
    "outputId": "15376089-8dad-46c9-b520-c05248d43158"
   },
   "outputs": [
    {
     "name": "stdout",
     "output_type": "stream",
     "text": [
      "<class 'pandas.core.frame.DataFrame'>\n",
      "RangeIndex: 21525 entries, 0 to 21524\n",
      "Data columns (total 12 columns):\n",
      " #   Column            Non-Null Count  Dtype  \n",
      "---  ------            --------------  -----  \n",
      " 0   children          21525 non-null  int64  \n",
      " 1   days_employed     19351 non-null  float64\n",
      " 2   dob_years         21525 non-null  int64  \n",
      " 3   education         21525 non-null  object \n",
      " 4   education_id      21525 non-null  int64  \n",
      " 5   family_status     21525 non-null  object \n",
      " 6   family_status_id  21525 non-null  int64  \n",
      " 7   gender            21525 non-null  object \n",
      " 8   income_type       21525 non-null  object \n",
      " 9   debt              21525 non-null  int64  \n",
      " 10  total_income      19351 non-null  float64\n",
      " 11  purpose           21525 non-null  object \n",
      "dtypes: float64(2), int64(5), object(5)\n",
      "memory usage: 2.0+ MB\n"
     ]
    }
   ],
   "source": [
    "data.info()"
   ]
  },
  {
   "cell_type": "markdown",
   "id": "333ec665",
   "metadata": {
    "deletable": false,
    "id": "333ec665"
   },
   "source": [
    "## Предобработка данных"
   ]
  },
  {
   "cell_type": "markdown",
   "id": "02d92d53",
   "metadata": {
    "deletable": false,
    "id": "02d92d53"
   },
   "source": [
    "### Удаление пропусков"
   ]
  },
  {
   "cell_type": "markdown",
   "id": "cd84967c",
   "metadata": {
    "deletable": false,
    "id": "cd84967c"
   },
   "source": [
    "**Задание 4. Выведите количество пропущенных значений для каждого столбца. Используйте комбинацию двух методов.**"
   ]
  },
  {
   "cell_type": "code",
   "execution_count": 4,
   "id": "7f9b2309",
   "metadata": {
    "deletable": false,
    "id": "7f9b2309",
    "outputId": "81f4d817-781c-465c-ed15-91ce4446810d"
   },
   "outputs": [
    {
     "data": {
      "text/plain": [
       "children               0\n",
       "days_employed       2174\n",
       "dob_years              0\n",
       "education              0\n",
       "education_id           0\n",
       "family_status          0\n",
       "family_status_id       0\n",
       "gender                 0\n",
       "income_type            0\n",
       "debt                   0\n",
       "total_income        2174\n",
       "purpose                0\n",
       "dtype: int64"
      ]
     },
     "execution_count": 4,
     "metadata": {},
     "output_type": "execute_result"
    }
   ],
   "source": [
    "data.isna().sum()"
   ]
  },
  {
   "cell_type": "markdown",
   "id": "db86e27b",
   "metadata": {
    "deletable": false,
    "id": "db86e27b"
   },
   "source": [
    "**Задание 5. В двух столбцах есть пропущенные значения. Один из них — `days_employed`. Пропуски в этом столбце вы обработаете на следующем этапе. Другой столбец с пропущенными значениями — `total_income` — хранит данные о доходах. На сумму дохода сильнее всего влияет тип занятости, поэтому заполнить пропуски в этом столбце нужно медианным значением по каждому типу из столбца `income_type`. Например, у человека с типом занятости `сотрудник` пропуск в столбце `total_income` должен быть заполнен медианным доходом среди всех записей с тем же типом.**"
   ]
  },
  {
   "cell_type": "code",
   "execution_count": 5,
   "id": "42006a93",
   "metadata": {
    "deletable": false,
    "id": "42006a93"
   },
   "outputs": [],
   "source": [
    "for t in data['income_type'].unique():\n",
    "    data.loc[(data['income_type'] == t) & (data['total_income'].isna()), 'total_income'] = \\\n",
    "    data.loc[(data['income_type'] == t), 'total_income'].median()"
   ]
  },
  {
   "cell_type": "markdown",
   "id": "89da5ece",
   "metadata": {
    "deletable": false,
    "id": "89da5ece"
   },
   "source": [
    "### Обработка аномальных значений"
   ]
  },
  {
   "cell_type": "markdown",
   "id": "57964554",
   "metadata": {
    "deletable": false,
    "id": "57964554"
   },
   "source": [
    "**Задание 6. В данных могут встречаться артефакты (аномалии) — значения, которые не отражают действительность и появились по какой-то ошибке. таким артефактом будет отрицательное количество дней трудового стажа в столбце `days_employed`. Для реальных данных это нормально. Обработайте значения в этом столбце: замените все отрицательные значения положительными с помощью метода `abs()`.**"
   ]
  },
  {
   "cell_type": "code",
   "execution_count": 6,
   "id": "f6f055bf",
   "metadata": {
    "deletable": false,
    "id": "f6f055bf"
   },
   "outputs": [],
   "source": [
    "data['days_employed'] = data['days_employed'].abs()"
   ]
  },
  {
   "cell_type": "markdown",
   "id": "6107dd2f",
   "metadata": {
    "deletable": false,
    "id": "6107dd2f"
   },
   "source": [
    "**Задание 7. Для каждого типа занятости выведите медианное значение трудового стажа `days_employed` в днях.**"
   ]
  },
  {
   "cell_type": "code",
   "execution_count": 7,
   "id": "85a5faf6",
   "metadata": {
    "deletable": false,
    "id": "85a5faf6",
    "outputId": "801ef80e-522b-4668-f34e-565af7432bcf"
   },
   "outputs": [
    {
     "data": {
      "text/plain": [
       "income_type\n",
       "безработный        366413.652744\n",
       "в декрете            3296.759962\n",
       "госслужащий          2689.368353\n",
       "компаньон            1547.382223\n",
       "пенсионер          365213.306266\n",
       "предприниматель       520.848083\n",
       "сотрудник            1574.202821\n",
       "студент               578.751554\n",
       "Name: days_employed, dtype: float64"
      ]
     },
     "execution_count": 7,
     "metadata": {},
     "output_type": "execute_result"
    }
   ],
   "source": [
    "data.groupby('income_type')['days_employed'].agg('median')"
   ]
  },
  {
   "cell_type": "markdown",
   "id": "38d1a030",
   "metadata": {
    "deletable": false,
    "id": "38d1a030"
   },
   "source": [
    "У двух типов (безработные и пенсионеры) получатся аномально большие значения. Исправить такие значения сложно, поэтому оставьте их как есть. Тем более этот столбец не понадобится вам для исследования."
   ]
  },
  {
   "cell_type": "markdown",
   "id": "d8a9f147",
   "metadata": {
    "deletable": false,
    "id": "d8a9f147"
   },
   "source": [
    "**Задание 8. Выведите перечень уникальных значений столбца `children`.**"
   ]
  },
  {
   "cell_type": "code",
   "execution_count": 8,
   "id": "ef5056eb",
   "metadata": {
    "deletable": false,
    "id": "ef5056eb",
    "outputId": "6975b15c-7f95-4697-d16d-a0c79b657b03"
   },
   "outputs": [
    {
     "data": {
      "text/plain": [
       "array([ 1,  0,  3,  2, -1,  4, 20,  5], dtype=int64)"
      ]
     },
     "execution_count": 8,
     "metadata": {},
     "output_type": "execute_result"
    }
   ],
   "source": [
    "data['children'].unique()"
   ]
  },
  {
   "cell_type": "markdown",
   "id": "40b9ebf2",
   "metadata": {
    "deletable": false,
    "id": "40b9ebf2"
   },
   "source": [
    "**Задание 9. В столбце `children` есть два аномальных значения. Удалите строки, в которых встречаются такие аномальные значения из датафрейма `data`.**"
   ]
  },
  {
   "cell_type": "code",
   "execution_count": 9,
   "id": "3ff9801d",
   "metadata": {
    "deletable": false,
    "id": "3ff9801d"
   },
   "outputs": [],
   "source": [
    "data = data[(data['children'] != -1) & (data['children'] != 20)]"
   ]
  },
  {
   "cell_type": "markdown",
   "id": "bbc4d0ce",
   "metadata": {
    "deletable": false,
    "id": "bbc4d0ce"
   },
   "source": [
    "**Задание 10. Ещё раз выведите перечень уникальных значений столбца `children`, чтобы убедиться, что артефакты удалены.**"
   ]
  },
  {
   "cell_type": "code",
   "execution_count": 10,
   "id": "ad4fa8b7",
   "metadata": {
    "deletable": false,
    "id": "ad4fa8b7",
    "outputId": "b2097101-d49d-44d9-901b-32a65c9463d1"
   },
   "outputs": [
    {
     "data": {
      "text/plain": [
       "array([1, 0, 3, 2, 4, 5], dtype=int64)"
      ]
     },
     "execution_count": 10,
     "metadata": {},
     "output_type": "execute_result"
    }
   ],
   "source": [
    "data['children'].unique()"
   ]
  },
  {
   "cell_type": "markdown",
   "id": "75440b63",
   "metadata": {
    "deletable": false,
    "id": "75440b63"
   },
   "source": [
    "### Удаление пропусков (продолжение)"
   ]
  },
  {
   "cell_type": "markdown",
   "id": "f4ea573f",
   "metadata": {
    "deletable": false,
    "id": "f4ea573f"
   },
   "source": [
    "**Задание 11. Заполните пропуски в столбце `days_employed` медианными значениями по каждого типа занятости `income_type`.**"
   ]
  },
  {
   "cell_type": "code",
   "execution_count": 11,
   "id": "af6b1a7e",
   "metadata": {
    "deletable": false,
    "id": "af6b1a7e"
   },
   "outputs": [],
   "source": [
    "for t in data['income_type'].unique():\n",
    "    data.loc[(data['income_type'] == t) & (data['days_employed'].isna()), 'days_employed'] = \\\n",
    "    data.loc[(data['income_type'] == t), 'days_employed'].median()"
   ]
  },
  {
   "cell_type": "markdown",
   "id": "2753f40d",
   "metadata": {
    "deletable": false,
    "id": "2753f40d"
   },
   "source": [
    "**Задание 12. Убедитесь, что все пропуски заполнены. Проверьте себя и ещё раз выведите количество пропущенных значений для каждого столбца с помощью двух методов.**"
   ]
  },
  {
   "cell_type": "code",
   "execution_count": 12,
   "id": "55f78bc2",
   "metadata": {
    "deletable": false,
    "id": "55f78bc2",
    "outputId": "8da1e4e1-358e-4e87-98c9-f261bce0a7b2"
   },
   "outputs": [
    {
     "data": {
      "text/plain": [
       "children            0\n",
       "days_employed       0\n",
       "dob_years           0\n",
       "education           0\n",
       "education_id        0\n",
       "family_status       0\n",
       "family_status_id    0\n",
       "gender              0\n",
       "income_type         0\n",
       "debt                0\n",
       "total_income        0\n",
       "purpose             0\n",
       "dtype: int64"
      ]
     },
     "execution_count": 12,
     "metadata": {},
     "output_type": "execute_result"
    }
   ],
   "source": [
    "data.isna().sum()"
   ]
  },
  {
   "cell_type": "markdown",
   "id": "ddc81e43",
   "metadata": {
    "deletable": false,
    "id": "ddc81e43"
   },
   "source": [
    "### Изменение типов данных"
   ]
  },
  {
   "cell_type": "markdown",
   "id": "42d19d24",
   "metadata": {
    "deletable": false,
    "id": "42d19d24"
   },
   "source": [
    "**Задание 13. Замените вещественный тип данных в столбце `total_income` на целочисленный с помощью метода `astype()`.**"
   ]
  },
  {
   "cell_type": "code",
   "execution_count": 13,
   "id": "920b65ad",
   "metadata": {
    "deletable": false,
    "id": "920b65ad"
   },
   "outputs": [],
   "source": [
    "data['total_income'] = data['total_income'].astype(int)"
   ]
  },
  {
   "cell_type": "markdown",
   "id": "80c420ba",
   "metadata": {
    "deletable": false,
    "id": "80c420ba"
   },
   "source": [
    "### Обработка дубликатов"
   ]
  },
  {
   "cell_type": "markdown",
   "id": "dc587695",
   "metadata": {
    "deletable": false,
    "id": "dc587695"
   },
   "source": [
    "**Задание 14. Выведите на экран количество строк-дубликатов в данных. Если такие строки присутствуют, удалите их.**"
   ]
  },
  {
   "cell_type": "code",
   "execution_count": 14,
   "id": "3ee445e4",
   "metadata": {
    "deletable": false,
    "id": "3ee445e4",
    "outputId": "9684deba-1934-42d1-99e1-cda61740f822"
   },
   "outputs": [
    {
     "data": {
      "text/plain": [
       "54"
      ]
     },
     "execution_count": 14,
     "metadata": {},
     "output_type": "execute_result"
    }
   ],
   "source": [
    "data.duplicated().sum()"
   ]
  },
  {
   "cell_type": "code",
   "execution_count": 15,
   "id": "8575fe05",
   "metadata": {
    "deletable": false,
    "id": "8575fe05"
   },
   "outputs": [],
   "source": [
    "data = data.drop_duplicates()"
   ]
  },
  {
   "cell_type": "markdown",
   "id": "9771a76c",
   "metadata": {
    "deletable": false,
    "id": "9771a76c"
   },
   "source": [
    "**Задание 15. Обработайте неявные дубликаты в столбце `education`. В этом столбце есть одни и те же значения, но записанные по-разному: с использованием заглавных и строчных букв. Приведите их к нижнему регистру. Проверьте остальные столбцы.**"
   ]
  },
  {
   "cell_type": "code",
   "execution_count": 16,
   "id": "a9f8e2bf",
   "metadata": {
    "deletable": false,
    "id": "a9f8e2bf"
   },
   "outputs": [],
   "source": [
    "data['education'] = data['education'].str.lower()"
   ]
  },
  {
   "cell_type": "markdown",
   "id": "9904cf55",
   "metadata": {
    "deletable": false,
    "id": "9904cf55"
   },
   "source": [
    "### Категоризация данных"
   ]
  },
  {
   "cell_type": "markdown",
   "id": "72fcc8a2",
   "metadata": {
    "deletable": false,
    "id": "72fcc8a2"
   },
   "source": [
    "**Задание 16. На основании диапазонов, указанных ниже, создайте в датафрейме `data` столбец `total_income_category` с категориями:**\n",
    "\n",
    "- 0–30000 — `'E'`;\n",
    "- 30001–50000 — `'D'`;\n",
    "- 50001–200000 — `'C'`;\n",
    "- 200001–1000000 — `'B'`;\n",
    "- 1000001 и выше — `'A'`.\n",
    "\n",
    "\n",
    "**Например, кредитополучателю с доходом 25000 нужно назначить категорию `'E'`, а клиенту, получающему 235000, — `'B'`. Используйте собственную функцию с именем `categorize_income()` и метод `apply()`.**"
   ]
  },
  {
   "cell_type": "code",
   "execution_count": 17,
   "id": "e1771346",
   "metadata": {
    "deletable": false,
    "id": "e1771346"
   },
   "outputs": [],
   "source": [
    "def categorize_income(income):\n",
    "    try:\n",
    "        if 0 <= income <= 30000:\n",
    "            return 'E'\n",
    "        elif 30001 <= income <= 50000:\n",
    "            return 'D'\n",
    "        elif 50001 <= income <= 200000:\n",
    "            return 'C'\n",
    "        elif 200001 <= income <= 1000000:\n",
    "            return 'B'\n",
    "        elif income >= 1000001:\n",
    "            return 'A'\n",
    "    except:\n",
    "        pass"
   ]
  },
  {
   "cell_type": "code",
   "execution_count": 18,
   "id": "d5f3586d",
   "metadata": {
    "deletable": false,
    "id": "d5f3586d"
   },
   "outputs": [],
   "source": [
    "data['total_income_category'] = data['total_income'].apply(categorize_income)"
   ]
  },
  {
   "cell_type": "markdown",
   "id": "dde49b5c",
   "metadata": {
    "deletable": false,
    "id": "dde49b5c"
   },
   "source": [
    "**Задание 17. Выведите на экран перечень уникальных целей взятия кредита из столбца `purpose`.**"
   ]
  },
  {
   "cell_type": "code",
   "execution_count": 19,
   "id": "f67ce9b3",
   "metadata": {
    "deletable": false,
    "id": "f67ce9b3",
    "outputId": "673c12d9-7d7e-4ae0-9812-c622c89dd244"
   },
   "outputs": [
    {
     "data": {
      "text/plain": [
       "array(['покупка жилья', 'приобретение автомобиля',\n",
       "       'дополнительное образование', 'сыграть свадьбу',\n",
       "       'операции с жильем', 'образование', 'на проведение свадьбы',\n",
       "       'покупка жилья для семьи', 'покупка недвижимости',\n",
       "       'покупка коммерческой недвижимости', 'покупка жилой недвижимости',\n",
       "       'строительство собственной недвижимости', 'недвижимость',\n",
       "       'строительство недвижимости', 'на покупку подержанного автомобиля',\n",
       "       'на покупку своего автомобиля',\n",
       "       'операции с коммерческой недвижимостью',\n",
       "       'строительство жилой недвижимости', 'жилье',\n",
       "       'операции со своей недвижимостью', 'автомобили',\n",
       "       'заняться образованием', 'сделка с подержанным автомобилем',\n",
       "       'получение образования', 'автомобиль', 'свадьба',\n",
       "       'получение дополнительного образования', 'покупка своего жилья',\n",
       "       'операции с недвижимостью', 'получение высшего образования',\n",
       "       'свой автомобиль', 'сделка с автомобилем',\n",
       "       'профильное образование', 'высшее образование',\n",
       "       'покупка жилья для сдачи', 'на покупку автомобиля', 'ремонт жилью',\n",
       "       'заняться высшим образованием'], dtype=object)"
      ]
     },
     "execution_count": 19,
     "metadata": {},
     "output_type": "execute_result"
    }
   ],
   "source": [
    "data['purpose'].unique()"
   ]
  },
  {
   "cell_type": "markdown",
   "id": "85d0aef0",
   "metadata": {
    "deletable": false,
    "id": "85d0aef0"
   },
   "source": [
    "**Задание 18. Создайте функцию, которая на основании данных из столбца `purpose` сформирует новый столбец `purpose_category`, в который войдут следующие категории:**\n",
    "\n",
    "- `'операции с автомобилем'`,\n",
    "- `'операции с недвижимостью'`,\n",
    "- `'проведение свадьбы'`,\n",
    "- `'получение образования'`.\n",
    "\n",
    "**Например, если в столбце `purpose` находится подстрока `'на покупку автомобиля'`, то в столбце `purpose_category` должна появиться строка `'операции с автомобилем'`.**\n",
    "\n",
    "**Используйте собственную функцию с именем `categorize_purpose()` и метод `apply()`. Изучите данные в столбце `purpose` и определите, какие подстроки помогут вам правильно определить категорию.**"
   ]
  },
  {
   "cell_type": "code",
   "execution_count": 20,
   "id": "e149fab4",
   "metadata": {
    "deletable": false,
    "id": "e149fab4"
   },
   "outputs": [],
   "source": [
    "def categorize_purpose(row):\n",
    "    try:\n",
    "        if 'автом' in row:\n",
    "            return 'операции с автомобилем'\n",
    "        elif 'жил' in row or 'недвиж' in row:\n",
    "            return 'операции с недвижимостью'\n",
    "        elif 'свад' in row:\n",
    "            return 'проведение свадьбы'\n",
    "        elif 'образов' in row:\n",
    "            return 'получение образования'\n",
    "    except:\n",
    "        return 'нет категории'"
   ]
  },
  {
   "cell_type": "code",
   "execution_count": 21,
   "id": "bf36e69b",
   "metadata": {
    "deletable": false,
    "id": "bf36e69b"
   },
   "outputs": [],
   "source": [
    "data['purpose_category'] = data['purpose'].apply(categorize_purpose)"
   ]
  },
  {
   "cell_type": "markdown",
   "id": "09b242bf",
   "metadata": {
    "deletable": false,
    "editable": false,
    "id": "09b242bf"
   },
   "source": [
    "## Исследуйте данные и ответьте на вопросы"
   ]
  },
  {
   "cell_type": "markdown",
   "id": "4312497f",
   "metadata": {},
   "source": [
    "Для исследования используем собственную функцию `category_factor()`, возвращающую отчет с данными о влиянии категории заемщика на вероятность возврата кредита в срок."
   ]
  },
  {
   "cell_type": "markdown",
   "id": "af253a26",
   "metadata": {},
   "source": [
    "Для вывода графиков импортирум библиотеку `'seaborn'`"
   ]
  },
  {
   "cell_type": "code",
   "execution_count": 22,
   "id": "51491208",
   "metadata": {},
   "outputs": [],
   "source": [
    "import seaborn as sb\n",
    "import matplotlib.pyplot as plt"
   ]
  },
  {
   "cell_type": "code",
   "execution_count": 23,
   "id": "255e2c3f",
   "metadata": {},
   "outputs": [],
   "source": [
    "# Создание функции для формирования отчета с данными о влиянии категории заемщика на возврат кредита в срок, где\n",
    "#   'cat' - категория заемщика, определяемая соответствующим столбцом в исходном датасете,\n",
    "#   'column_sort' - номер столбца отчета, по которому сортируется отчет\n",
    "#   'direct - направление сортировки, по которому сортируется отчет (1-по возрастанию, 0- по убыванию)\n",
    "\n",
    "def category_factor(cat,column_sort,direct):\n",
    "\n",
    "     # Количество заемщиков и надежных заемщиков, процент возврата\n",
    "    loaner = len(data)\n",
    "    well_loaner =  data.loc[data['debt']==0, 'debt'].count()\n",
    "    well_loaner_ratio=  round(well_loaner/loaner*100,2)\n",
    "    \n",
    "    \n",
    "    # Определение подкатегорий    \n",
    "    subcat = data[cat].unique()\n",
    "\n",
    "    # формируем датасет \n",
    "    table = []\n",
    "\n",
    "    for s in range(len(subcat)):      # циклом проходим по каждой подкатегории и результат добавляем в общий датасет\n",
    "   \n",
    "        # кол-во людей в подкатегории\n",
    "        subcat_peoples= data[cat].loc[data[cat]==subcat[s]].count() \n",
    "    \n",
    "        #  % людей в подкатегории от всех заемщиков\n",
    "        subcat_peoples_ratio= round(subcat_peoples/loaner*100,2)        \n",
    "    \n",
    "        # кол-во людей в подкатегории, выплачивающих в срок\n",
    "        subcat_well_loaner=  data[cat].loc[(data[cat]==subcat[s]) & (data['debt']==0)].count()         \n",
    "    \n",
    "        # % людейв в подкатегории, выплачивающих в срок (в подкатегории)\n",
    "        subcat_well_loaner_ratio_sc=  round(subcat_well_loaner/subcat_peoples*100,2)    \n",
    "    \n",
    "        # % людей в подкатегории, выплачивающих в срок (от всех заемщиков)\n",
    "        subcat_well_loaner_ratio_all=  round(subcat_well_loaner/loaner*100,2)    \n",
    "    \n",
    "        #добавление данных в датасет\n",
    "        table.append([cat, subcat[s], subcat_peoples, subcat_peoples_ratio, subcat_well_loaner, subcat_well_loaner_ratio_sc,subcat_well_loaner_ratio_all])\n",
    "    \n",
    "\n",
    "    # заголовки столбцов отчета   \n",
    "    heading=['категория  ','подкатегория  ','кол-во в подкатегории  ','% от всех   ','выплата в срок, чел   ','выплата в срок,  % в подкатегории   ','выплата в срок,  % от всех  ']\n",
    "\n",
    "    #формирование  отчета\n",
    "    rep = pd.DataFrame(data=table, columns=heading)\n",
    "\n",
    "    #сортировка отчета по подкатегориям и направлению\n",
    "    rep = rep.sort_values(by=heading[column_sort],ascending=direct).reset_index(drop=True)\n",
    "    \n",
    "    #предотчетная информация\n",
    "    print (f'Количество всех заемщиков {loaner},    количество надежных заемщиков  {well_loaner}, процент возврата в целом  {well_loaner_ratio} %')\n",
    "    \n",
    "    if  direct == 0 :\n",
    "        print(f'Столбец сортировки отчета:    {heading[column_sort]},   направление сортировки- по убыванию')\n",
    "    elif  direct == 1 :\n",
    "        print(f'Столбец сортировки отчета:   {heading[column_sort]},   направление сортировки- по возрастанию')\n",
    "                       \n",
    "    #выводим график\n",
    "    \n",
    "    axis_x = list(rep[heading[column_sort]])\n",
    "    axis_y = list(rep[heading[1]])\n",
    "\n",
    "    sb.barplot(x=axis_x, y=axis_y)\n",
    "            \n",
    "            \n",
    "    return rep\n"
   ]
  },
  {
   "cell_type": "markdown",
   "id": "13e0a4f7",
   "metadata": {},
   "source": [
    "  "
   ]
  },
  {
   "cell_type": "markdown",
   "id": "c5d66278",
   "metadata": {
    "deletable": false,
    "editable": false,
    "id": "c5d66278"
   },
   "source": [
    "**Задание 19. Есть ли зависимость между количеством детей и возвратом кредита в срок?**"
   ]
  },
  {
   "cell_type": "markdown",
   "id": "85e21672",
   "metadata": {},
   "source": [
    "Для корректного отображения зависимостей на графиках меняем тип данных в столбце `'children'` с целочисленного на вещественный"
   ]
  },
  {
   "cell_type": "code",
   "execution_count": 24,
   "id": "62751a7a",
   "metadata": {},
   "outputs": [],
   "source": [
    "data['children'] =  data['children'].astype(str)\n",
    "\n",
    "#print(type(data.loc[1,'children']))  # проверка корректности  замены типа данных"
   ]
  },
  {
   "cell_type": "markdown",
   "id": "cbf00944",
   "metadata": {},
   "source": [
    "  "
   ]
  },
  {
   "cell_type": "markdown",
   "id": "d84294bc",
   "metadata": {},
   "source": [
    "\n",
    "1. Общий обзор влияния количества детей на возврат кредита в срок"
   ]
  },
  {
   "cell_type": "code",
   "execution_count": 25,
   "id": "998db59c",
   "metadata": {
    "id": "2cacfc4a"
   },
   "outputs": [
    {
     "name": "stdout",
     "output_type": "stream",
     "text": [
      "Количество всех заемщиков 21348,    количество надежных заемщиков  19616, процент возврата в целом  91.89 %\n",
      "Столбец сортировки отчета:    % от всех   ,   направление сортировки- по убыванию\n"
     ]
    },
    {
     "data": {
      "text/html": [
       "<div>\n",
       "<style scoped>\n",
       "    .dataframe tbody tr th:only-of-type {\n",
       "        vertical-align: middle;\n",
       "    }\n",
       "\n",
       "    .dataframe tbody tr th {\n",
       "        vertical-align: top;\n",
       "    }\n",
       "\n",
       "    .dataframe thead th {\n",
       "        text-align: right;\n",
       "    }\n",
       "</style>\n",
       "<table border=\"1\" class=\"dataframe\">\n",
       "  <thead>\n",
       "    <tr style=\"text-align: right;\">\n",
       "      <th></th>\n",
       "      <th>категория</th>\n",
       "      <th>подкатегория</th>\n",
       "      <th>кол-во в подкатегории</th>\n",
       "      <th>% от всех</th>\n",
       "      <th>выплата в срок, чел</th>\n",
       "      <th>выплата в срок,  % в подкатегории</th>\n",
       "      <th>выплата в срок,  % от всех</th>\n",
       "    </tr>\n",
       "  </thead>\n",
       "  <tbody>\n",
       "    <tr>\n",
       "      <th>0</th>\n",
       "      <td>children</td>\n",
       "      <td>0</td>\n",
       "      <td>14107</td>\n",
       "      <td>66.08</td>\n",
       "      <td>13044</td>\n",
       "      <td>92.46</td>\n",
       "      <td>61.10</td>\n",
       "    </tr>\n",
       "    <tr>\n",
       "      <th>1</th>\n",
       "      <td>children</td>\n",
       "      <td>1</td>\n",
       "      <td>4809</td>\n",
       "      <td>22.53</td>\n",
       "      <td>4365</td>\n",
       "      <td>90.77</td>\n",
       "      <td>20.45</td>\n",
       "    </tr>\n",
       "    <tr>\n",
       "      <th>2</th>\n",
       "      <td>children</td>\n",
       "      <td>2</td>\n",
       "      <td>2052</td>\n",
       "      <td>9.61</td>\n",
       "      <td>1858</td>\n",
       "      <td>90.55</td>\n",
       "      <td>8.70</td>\n",
       "    </tr>\n",
       "    <tr>\n",
       "      <th>3</th>\n",
       "      <td>children</td>\n",
       "      <td>3</td>\n",
       "      <td>330</td>\n",
       "      <td>1.55</td>\n",
       "      <td>303</td>\n",
       "      <td>91.82</td>\n",
       "      <td>1.42</td>\n",
       "    </tr>\n",
       "    <tr>\n",
       "      <th>4</th>\n",
       "      <td>children</td>\n",
       "      <td>4</td>\n",
       "      <td>41</td>\n",
       "      <td>0.19</td>\n",
       "      <td>37</td>\n",
       "      <td>90.24</td>\n",
       "      <td>0.17</td>\n",
       "    </tr>\n",
       "    <tr>\n",
       "      <th>5</th>\n",
       "      <td>children</td>\n",
       "      <td>5</td>\n",
       "      <td>9</td>\n",
       "      <td>0.04</td>\n",
       "      <td>9</td>\n",
       "      <td>100.00</td>\n",
       "      <td>0.04</td>\n",
       "    </tr>\n",
       "  </tbody>\n",
       "</table>\n",
       "</div>"
      ],
      "text/plain": [
       "  категория   подкатегория    кол-во в подкатегории    % от всех     \\\n",
       "0    children              0                    14107         66.08   \n",
       "1    children              1                     4809         22.53   \n",
       "2    children              2                     2052          9.61   \n",
       "3    children              3                      330          1.55   \n",
       "4    children              4                       41          0.19   \n",
       "5    children              5                        9          0.04   \n",
       "\n",
       "   выплата в срок, чел     выплата в срок,  % в подкатегории     \\\n",
       "0                   13044                                 92.46   \n",
       "1                    4365                                 90.77   \n",
       "2                    1858                                 90.55   \n",
       "3                     303                                 91.82   \n",
       "4                      37                                 90.24   \n",
       "5                       9                                100.00   \n",
       "\n",
       "   выплата в срок,  % от всех    \n",
       "0                         61.10  \n",
       "1                         20.45  \n",
       "2                          8.70  \n",
       "3                          1.42  \n",
       "4                          0.17  \n",
       "5                          0.04  "
      ]
     },
     "execution_count": 25,
     "metadata": {},
     "output_type": "execute_result"
    },
    {
     "data": {
      "image/png": "[encoded data removed]",
      "text/plain": [
       "<Figure size 432x288 with 1 Axes>"
      ]
     },
     "metadata": {
      "needs_background": "light"
     },
     "output_type": "display_data"
    }
   ],
   "source": [
    "# вызов функции  'category_factor' с параметрами:\n",
    "# столбец - \n",
    "# сортировка по столбцу отчета (1..6)\n",
    "# направление сортировки (1-по возрастанию, 0- по убыванию)\n",
    "report=category_factor('children',3,0)\n",
    "report"
   ]
  },
  {
   "cell_type": "markdown",
   "id": "bb3bc21e",
   "metadata": {},
   "source": [
    "Предварительный вывод 1 : количество заемщиков обратно пропорционально количеству детей  и для 4-5 детей составляет менее 1% от всех заемщиков.  Охотнее всего берут кредиты заемщики без детей или с 1-2 детьми, в сумме их количество составляет  98,22 % от всех взявших кредит."
   ]
  },
  {
   "cell_type": "markdown",
   "id": "5f84b294",
   "metadata": {},
   "source": [
    "  \n",
    "  "
   ]
  },
  {
   "cell_type": "markdown",
   "id": "8e73b6bb",
   "metadata": {},
   "source": [
    "2. Сравнение по категории."
   ]
  },
  {
   "cell_type": "code",
   "execution_count": 26,
   "id": "d8969f54",
   "metadata": {},
   "outputs": [
    {
     "name": "stdout",
     "output_type": "stream",
     "text": [
      "Количество всех заемщиков 21348,    количество надежных заемщиков  19616, процент возврата в целом  91.89 %\n",
      "Столбец сортировки отчета:    выплата в срок,  % в подкатегории   ,   направление сортировки- по убыванию\n"
     ]
    },
    {
     "data": {
      "text/html": [
       "<div>\n",
       "<style scoped>\n",
       "    .dataframe tbody tr th:only-of-type {\n",
       "        vertical-align: middle;\n",
       "    }\n",
       "\n",
       "    .dataframe tbody tr th {\n",
       "        vertical-align: top;\n",
       "    }\n",
       "\n",
       "    .dataframe thead th {\n",
       "        text-align: right;\n",
       "    }\n",
       "</style>\n",
       "<table border=\"1\" class=\"dataframe\">\n",
       "  <thead>\n",
       "    <tr style=\"text-align: right;\">\n",
       "      <th></th>\n",
       "      <th>категория</th>\n",
       "      <th>подкатегория</th>\n",
       "      <th>кол-во в подкатегории</th>\n",
       "      <th>% от всех</th>\n",
       "      <th>выплата в срок, чел</th>\n",
       "      <th>выплата в срок,  % в подкатегории</th>\n",
       "      <th>выплата в срок,  % от всех</th>\n",
       "    </tr>\n",
       "  </thead>\n",
       "  <tbody>\n",
       "    <tr>\n",
       "      <th>0</th>\n",
       "      <td>children</td>\n",
       "      <td>5</td>\n",
       "      <td>9</td>\n",
       "      <td>0.04</td>\n",
       "      <td>9</td>\n",
       "      <td>100.00</td>\n",
       "      <td>0.04</td>\n",
       "    </tr>\n",
       "    <tr>\n",
       "      <th>1</th>\n",
       "      <td>children</td>\n",
       "      <td>0</td>\n",
       "      <td>14107</td>\n",
       "      <td>66.08</td>\n",
       "      <td>13044</td>\n",
       "      <td>92.46</td>\n",
       "      <td>61.10</td>\n",
       "    </tr>\n",
       "    <tr>\n",
       "      <th>2</th>\n",
       "      <td>children</td>\n",
       "      <td>3</td>\n",
       "      <td>330</td>\n",
       "      <td>1.55</td>\n",
       "      <td>303</td>\n",
       "      <td>91.82</td>\n",
       "      <td>1.42</td>\n",
       "    </tr>\n",
       "    <tr>\n",
       "      <th>3</th>\n",
       "      <td>children</td>\n",
       "      <td>1</td>\n",
       "      <td>4809</td>\n",
       "      <td>22.53</td>\n",
       "      <td>4365</td>\n",
       "      <td>90.77</td>\n",
       "      <td>20.45</td>\n",
       "    </tr>\n",
       "    <tr>\n",
       "      <th>4</th>\n",
       "      <td>children</td>\n",
       "      <td>2</td>\n",
       "      <td>2052</td>\n",
       "      <td>9.61</td>\n",
       "      <td>1858</td>\n",
       "      <td>90.55</td>\n",
       "      <td>8.70</td>\n",
       "    </tr>\n",
       "    <tr>\n",
       "      <th>5</th>\n",
       "      <td>children</td>\n",
       "      <td>4</td>\n",
       "      <td>41</td>\n",
       "      <td>0.19</td>\n",
       "      <td>37</td>\n",
       "      <td>90.24</td>\n",
       "      <td>0.17</td>\n",
       "    </tr>\n",
       "  </tbody>\n",
       "</table>\n",
       "</div>"
      ],
      "text/plain": [
       "  категория   подкатегория    кол-во в подкатегории    % от всех     \\\n",
       "0    children              5                        9          0.04   \n",
       "1    children              0                    14107         66.08   \n",
       "2    children              3                      330          1.55   \n",
       "3    children              1                     4809         22.53   \n",
       "4    children              2                     2052          9.61   \n",
       "5    children              4                       41          0.19   \n",
       "\n",
       "   выплата в срок, чел     выплата в срок,  % в подкатегории     \\\n",
       "0                       9                                100.00   \n",
       "1                   13044                                 92.46   \n",
       "2                     303                                 91.82   \n",
       "3                    4365                                 90.77   \n",
       "4                    1858                                 90.55   \n",
       "5                      37                                 90.24   \n",
       "\n",
       "   выплата в срок,  % от всех    \n",
       "0                          0.04  \n",
       "1                         61.10  \n",
       "2                          1.42  \n",
       "3                         20.45  \n",
       "4                          8.70  \n",
       "5                          0.17  "
      ]
     },
     "execution_count": 26,
     "metadata": {},
     "output_type": "execute_result"
    },
    {
     "data": {
      "image/png": "[encoded data removed]",
      "text/plain": [
       "<Figure size 432x288 with 1 Axes>"
      ]
     },
     "metadata": {
      "needs_background": "light"
     },
     "output_type": "display_data"
    }
   ],
   "source": [
    "# вызов функции  'category_factor' с параметрами:\n",
    "# столбец - \n",
    "# сортировка по столбцу отчета (1..6)\n",
    "# направление сортировки (1-по возрастанию, 0- по убыванию)\n",
    "\n",
    "report=category_factor('children',5,0)\n",
    "report"
   ]
  },
  {
   "cell_type": "markdown",
   "id": "02e1c1e3",
   "metadata": {},
   "source": [
    "Предварительный вывод 2. \n",
    "Идеальные заемщики- имеющие 5 детей, они все до единого выполняют оплаты во время.\n",
    " В остальных подгруппах процент возврата больше 90%, с небольшим отрывом  вперед выходят заемщики без детей и  с 3 детьми."
   ]
  },
  {
   "cell_type": "markdown",
   "id": "214436a3",
   "metadata": {},
   "source": [
    "   \n",
    "      "
   ]
  },
  {
   "cell_type": "markdown",
   "id": "5869de5e",
   "metadata": {},
   "source": [
    "3. Сравнение с учетом количества."
   ]
  },
  {
   "cell_type": "code",
   "execution_count": 27,
   "id": "6bbea9ab",
   "metadata": {},
   "outputs": [
    {
     "name": "stdout",
     "output_type": "stream",
     "text": [
      "Количество всех заемщиков 21348,    количество надежных заемщиков  19616, процент возврата в целом  91.89 %\n",
      "Столбец сортировки отчета:    выплата в срок,  % от всех  ,   направление сортировки- по убыванию\n"
     ]
    },
    {
     "data": {
      "text/html": [
       "<div>\n",
       "<style scoped>\n",
       "    .dataframe tbody tr th:only-of-type {\n",
       "        vertical-align: middle;\n",
       "    }\n",
       "\n",
       "    .dataframe tbody tr th {\n",
       "        vertical-align: top;\n",
       "    }\n",
       "\n",
       "    .dataframe thead th {\n",
       "        text-align: right;\n",
       "    }\n",
       "</style>\n",
       "<table border=\"1\" class=\"dataframe\">\n",
       "  <thead>\n",
       "    <tr style=\"text-align: right;\">\n",
       "      <th></th>\n",
       "      <th>категория</th>\n",
       "      <th>подкатегория</th>\n",
       "      <th>кол-во в подкатегории</th>\n",
       "      <th>% от всех</th>\n",
       "      <th>выплата в срок, чел</th>\n",
       "      <th>выплата в срок,  % в подкатегории</th>\n",
       "      <th>выплата в срок,  % от всех</th>\n",
       "    </tr>\n",
       "  </thead>\n",
       "  <tbody>\n",
       "    <tr>\n",
       "      <th>0</th>\n",
       "      <td>children</td>\n",
       "      <td>0</td>\n",
       "      <td>14107</td>\n",
       "      <td>66.08</td>\n",
       "      <td>13044</td>\n",
       "      <td>92.46</td>\n",
       "      <td>61.10</td>\n",
       "    </tr>\n",
       "    <tr>\n",
       "      <th>1</th>\n",
       "      <td>children</td>\n",
       "      <td>1</td>\n",
       "      <td>4809</td>\n",
       "      <td>22.53</td>\n",
       "      <td>4365</td>\n",
       "      <td>90.77</td>\n",
       "      <td>20.45</td>\n",
       "    </tr>\n",
       "    <tr>\n",
       "      <th>2</th>\n",
       "      <td>children</td>\n",
       "      <td>2</td>\n",
       "      <td>2052</td>\n",
       "      <td>9.61</td>\n",
       "      <td>1858</td>\n",
       "      <td>90.55</td>\n",
       "      <td>8.70</td>\n",
       "    </tr>\n",
       "    <tr>\n",
       "      <th>3</th>\n",
       "      <td>children</td>\n",
       "      <td>3</td>\n",
       "      <td>330</td>\n",
       "      <td>1.55</td>\n",
       "      <td>303</td>\n",
       "      <td>91.82</td>\n",
       "      <td>1.42</td>\n",
       "    </tr>\n",
       "    <tr>\n",
       "      <th>4</th>\n",
       "      <td>children</td>\n",
       "      <td>4</td>\n",
       "      <td>41</td>\n",
       "      <td>0.19</td>\n",
       "      <td>37</td>\n",
       "      <td>90.24</td>\n",
       "      <td>0.17</td>\n",
       "    </tr>\n",
       "    <tr>\n",
       "      <th>5</th>\n",
       "      <td>children</td>\n",
       "      <td>5</td>\n",
       "      <td>9</td>\n",
       "      <td>0.04</td>\n",
       "      <td>9</td>\n",
       "      <td>100.00</td>\n",
       "      <td>0.04</td>\n",
       "    </tr>\n",
       "  </tbody>\n",
       "</table>\n",
       "</div>"
      ],
      "text/plain": [
       "  категория   подкатегория    кол-во в подкатегории    % от всех     \\\n",
       "0    children              0                    14107         66.08   \n",
       "1    children              1                     4809         22.53   \n",
       "2    children              2                     2052          9.61   \n",
       "3    children              3                      330          1.55   \n",
       "4    children              4                       41          0.19   \n",
       "5    children              5                        9          0.04   \n",
       "\n",
       "   выплата в срок, чел     выплата в срок,  % в подкатегории     \\\n",
       "0                   13044                                 92.46   \n",
       "1                    4365                                 90.77   \n",
       "2                    1858                                 90.55   \n",
       "3                     303                                 91.82   \n",
       "4                      37                                 90.24   \n",
       "5                       9                                100.00   \n",
       "\n",
       "   выплата в срок,  % от всех    \n",
       "0                         61.10  \n",
       "1                         20.45  \n",
       "2                          8.70  \n",
       "3                          1.42  \n",
       "4                          0.17  \n",
       "5                          0.04  "
      ]
     },
     "execution_count": 27,
     "metadata": {},
     "output_type": "execute_result"
    },
    {
     "data": {
      "image/png": "[encoded data removed]",
      "text/plain": [
       "<Figure size 432x288 with 1 Axes>"
      ]
     },
     "metadata": {
      "needs_background": "light"
     },
     "output_type": "display_data"
    }
   ],
   "source": [
    "# вызов функции  'category_factor' с параметрами:\n",
    "# столбец - \n",
    "# сортировка по столбцу отчета (1..6)\n",
    "# направление сортировки (1-по возрастанию, 0- по убыванию)\n",
    "\n",
    "report=category_factor('children',6,0)\n",
    "report"
   ]
  },
  {
   "cell_type": "markdown",
   "id": "13e2d80b",
   "metadata": {},
   "source": [
    "Предварительный вывод 3. Сказывается обратная зависимость количества детей и заемщиков. Заемщики с 5 детьми хотя и самые аккуратные, но в общей массе они почти ни на что не влияют. Также и худшие по категории заемщики с 4 детьми не оказывают существенного влияния  на общие показатели по возвратам из-за небольшого количества таких заемщиков.\n",
    "\n",
    "Добросовестные заемщики без детей или с 1-2 детьми составляют 90,25 % (из 91,89%) выполняющих оплаты вовремя от всех клиентов кредитной организации. "
   ]
  },
  {
   "cell_type": "markdown",
   "id": "3a6b99ec",
   "metadata": {
    "deletable": false,
    "id": "3a6b99ec"
   },
   "source": [
    "**Вывод:**\n",
    "\n",
    "Среди 5-детных заемщиков наблюдается 100% возврат кредита вовремя. Среди остальных заемщиков с количеством детей от 0 до 4 возвращают кредит больше 90%, несколько лучше это делают заемщики без детей и с 3 детьми. \n",
    "\n",
    "Учитывая  количество заемщиков  в общем количестве заемщиков, наибольшее влияние на % возвратов оказывают заемщики с 0-2 детьми. При этом 5-детные заемщики хотя и в 100% случаев выполняют оплаты вовремя, но не оказывают существенного влияния на процент выплат среди всех заемщиков."
   ]
  },
  {
   "cell_type": "markdown",
   "id": "2dc5d3a4",
   "metadata": {},
   "source": [
    "  "
   ]
  },
  {
   "cell_type": "markdown",
   "id": "97be82ca",
   "metadata": {
    "deletable": false,
    "editable": false,
    "id": "97be82ca"
   },
   "source": [
    "**Задание 20. Есть ли зависимость между семейным положением и возвратом кредита в срок?**"
   ]
  },
  {
   "cell_type": "markdown",
   "id": "dd05fc27",
   "metadata": {},
   "source": [
    "Сравнение по категории."
   ]
  },
  {
   "cell_type": "code",
   "execution_count": 28,
   "id": "dc3f7ee8",
   "metadata": {
    "id": "dc3f7ee8"
   },
   "outputs": [
    {
     "name": "stdout",
     "output_type": "stream",
     "text": [
      "Количество всех заемщиков 21348,    количество надежных заемщиков  19616, процент возврата в целом  91.89 %\n",
      "Столбец сортировки отчета:    выплата в срок,  % в подкатегории   ,   направление сортировки- по убыванию\n"
     ]
    },
    {
     "data": {
      "text/html": [
       "<div>\n",
       "<style scoped>\n",
       "    .dataframe tbody tr th:only-of-type {\n",
       "        vertical-align: middle;\n",
       "    }\n",
       "\n",
       "    .dataframe tbody tr th {\n",
       "        vertical-align: top;\n",
       "    }\n",
       "\n",
       "    .dataframe thead th {\n",
       "        text-align: right;\n",
       "    }\n",
       "</style>\n",
       "<table border=\"1\" class=\"dataframe\">\n",
       "  <thead>\n",
       "    <tr style=\"text-align: right;\">\n",
       "      <th></th>\n",
       "      <th>категория</th>\n",
       "      <th>подкатегория</th>\n",
       "      <th>кол-во в подкатегории</th>\n",
       "      <th>% от всех</th>\n",
       "      <th>выплата в срок, чел</th>\n",
       "      <th>выплата в срок,  % в подкатегории</th>\n",
       "      <th>выплата в срок,  % от всех</th>\n",
       "    </tr>\n",
       "  </thead>\n",
       "  <tbody>\n",
       "    <tr>\n",
       "      <th>0</th>\n",
       "      <td>family_status</td>\n",
       "      <td>вдовец / вдова</td>\n",
       "      <td>951</td>\n",
       "      <td>4.45</td>\n",
       "      <td>888</td>\n",
       "      <td>93.38</td>\n",
       "      <td>4.16</td>\n",
       "    </tr>\n",
       "    <tr>\n",
       "      <th>1</th>\n",
       "      <td>family_status</td>\n",
       "      <td>в разводе</td>\n",
       "      <td>1189</td>\n",
       "      <td>5.57</td>\n",
       "      <td>1105</td>\n",
       "      <td>92.94</td>\n",
       "      <td>5.18</td>\n",
       "    </tr>\n",
       "    <tr>\n",
       "      <th>2</th>\n",
       "      <td>family_status</td>\n",
       "      <td>женат / замужем</td>\n",
       "      <td>12266</td>\n",
       "      <td>57.46</td>\n",
       "      <td>11339</td>\n",
       "      <td>92.44</td>\n",
       "      <td>53.12</td>\n",
       "    </tr>\n",
       "    <tr>\n",
       "      <th>3</th>\n",
       "      <td>family_status</td>\n",
       "      <td>гражданский брак</td>\n",
       "      <td>4146</td>\n",
       "      <td>19.42</td>\n",
       "      <td>3761</td>\n",
       "      <td>90.71</td>\n",
       "      <td>17.62</td>\n",
       "    </tr>\n",
       "    <tr>\n",
       "      <th>4</th>\n",
       "      <td>family_status</td>\n",
       "      <td>Не женат / не замужем</td>\n",
       "      <td>2796</td>\n",
       "      <td>13.10</td>\n",
       "      <td>2523</td>\n",
       "      <td>90.24</td>\n",
       "      <td>11.82</td>\n",
       "    </tr>\n",
       "  </tbody>\n",
       "</table>\n",
       "</div>"
      ],
      "text/plain": [
       "     категория           подкатегория    кол-во в подкатегории    \\\n",
       "0  family_status         вдовец / вдова                      951   \n",
       "1  family_status              в разводе                     1189   \n",
       "2  family_status        женат / замужем                    12266   \n",
       "3  family_status       гражданский брак                     4146   \n",
       "4  family_status  Не женат / не замужем                     2796   \n",
       "\n",
       "   % от всех     выплата в срок, чел     выплата в срок,  % в подкатегории     \\\n",
       "0          4.45                     888                                 93.38   \n",
       "1          5.57                    1105                                 92.94   \n",
       "2         57.46                   11339                                 92.44   \n",
       "3         19.42                    3761                                 90.71   \n",
       "4         13.10                    2523                                 90.24   \n",
       "\n",
       "   выплата в срок,  % от всех    \n",
       "0                          4.16  \n",
       "1                          5.18  \n",
       "2                         53.12  \n",
       "3                         17.62  \n",
       "4                         11.82  "
      ]
     },
     "execution_count": 28,
     "metadata": {},
     "output_type": "execute_result"
    },
    {
     "data": {
      "image/png": "[encoded data removed]",
      "text/plain": [
       "<Figure size 432x288 with 1 Axes>"
      ]
     },
     "metadata": {
      "needs_background": "light"
     },
     "output_type": "display_data"
    }
   ],
   "source": [
    "# вызов функции  'category_factor' с параметрами:\n",
    "# столбец - \n",
    "# сортировка по столбцу отчета (1..6)\n",
    "# направление сортировки (1-по возрастанию, 0- по убыванию)\n",
    "\n",
    "report=category_factor('family_status',5,0)\n",
    "report"
   ]
  },
  {
   "cell_type": "code",
   "execution_count": 29,
   "id": "b0580200",
   "metadata": {},
   "outputs": [],
   "source": [
    "# все тоже самое, только через pivot_table\n",
    "# Создание функции для формирования отчета с данными о влиянии категории заемщика на возврат кредита в срок, где\n",
    "#   'cat' - категория заемщика, определяемая соответствующим столбцом в исходном датасете,\n",
    "#   'column_sort' - номер столбца отчета, по которому сортируется отчет\n",
    "#   'direct - направление сортировки, по которому сортируется отчет (1-по возрастанию, 0- по убыванию)\n",
    "\n",
    "def pivot_category_factor(cat,column_sort,direct):\n",
    "\n",
    "    \n",
    "\n",
    "     # Количество заемщиков и надежных заемщиков, процент возврата кредитов\n",
    "    loaner = len(data)\n",
    "    well_loaner =  data.loc[data['debt']==0, 'debt'].count()\n",
    "    well_loaner_ratio=  round(well_loaner/loaner*100,2)\n",
    "    \n",
    "    # заголовки столбцов отчета   \n",
    "    heading=['кол-во в подкатегории  ','неплательщики  ', 'надежные заемщики, чел', '% от всех   ','выплата в срок,  % в подкатегории   ','выплата в срок,  % от всех  ','qwerty']\n",
    "\n",
    "      \n",
    "    \n",
    "    # сводная таблица (pivot_table) по выбранной категории в cat  (число всех в подкатегории и ненадежные заемщики)\n",
    "    piv_table = data.pivot_table(index=[cat], values='debt', aggfunc= ['count','sum'])\n",
    "    \n",
    " \n",
    "    \n",
    "     # переименование столбцов отчета\n",
    "    piv_table.columns=['кол-во в подкатегории  ','неплательщики  ']\n",
    "    \n",
    "    # надежные заемщики   в подкатегории  \n",
    "    piv_table['subcat_well_loaner']= piv_table ['кол-во в подкатегории  '] - piv_table ['неплательщики  ']\n",
    "    \n",
    "    #  % людей в подкатегории от всех заемщиков\n",
    "    piv_table['subcat_peoples_ratio']=round(piv_table['кол-во в подкатегории  ']/loaner*100,2)\n",
    "    \n",
    "    # % людейв в подкатегории, выплачивающих в срок (в подкатегории)\n",
    "    piv_table['subcat_well_loaner_ratio_sc']=round(piv_table['subcat_well_loaner']/piv_table['кол-во в подкатегории  ']*100,2)\n",
    "    \n",
    "    # % людей в подкатегории, выплачивающих в срок (от всех заемщиков)\n",
    "    piv_table['']=round(piv_table['subcat_well_loaner']/loaner*100,2) \n",
    "    \n",
    "    piv_table['qwerty']=piv_table ['кол-во в подкатегории  ']\n",
    "    \n",
    "    \n",
    "\n",
    "    # переименование столбцов отчета\n",
    "    piv_table.columns=heading\n",
    "    \n",
    "    #сортировка отчета по подкатегориям и направлению\n",
    "    piv_table =piv_table.sort_values(by=heading[column_sort],ascending=direct)\n",
    "  \n",
    "    #предотчетная информация\n",
    "    print (f'Количество всех заемщиков {loaner},    количество надежных заемщиков  {well_loaner}, процент возврата в целом  {well_loaner_ratio} %')\n",
    "    \n",
    "    if  direct == 0 :\n",
    "        print(f'Столбец сортировки отчета:    {heading[column_sort]},   направление сортировки- по убыванию')\n",
    "    elif  direct == 1 :\n",
    "        print(f'Столбец сортировки отчета:   {heading[column_sort]},   направление сортировки- по возрастанию')\n",
    "                      \n",
    "    #выводим график\n",
    "    \n",
    "    axis_x = list(piv_table[heading[column_sort]])\n",
    "    axis_y = piv_table.index\n",
    "\n",
    "    sb.barplot(x=axis_x, y=axis_y)\n",
    "            \n",
    "            \n",
    "    return piv_table\n"
   ]
  },
  {
   "cell_type": "code",
   "execution_count": 30,
   "id": "a5b07bc8",
   "metadata": {},
   "outputs": [
    {
     "name": "stdout",
     "output_type": "stream",
     "text": [
      "Количество всех заемщиков 21348,    количество надежных заемщиков  19616, процент возврата в целом  91.89 %\n",
      "Столбец сортировки отчета:    выплата в срок,  % от всех  ,   направление сортировки- по убыванию\n"
     ]
    },
    {
     "data": {
      "text/html": [
       "<div>\n",
       "<style scoped>\n",
       "    .dataframe tbody tr th:only-of-type {\n",
       "        vertical-align: middle;\n",
       "    }\n",
       "\n",
       "    .dataframe tbody tr th {\n",
       "        vertical-align: top;\n",
       "    }\n",
       "\n",
       "    .dataframe thead th {\n",
       "        text-align: right;\n",
       "    }\n",
       "</style>\n",
       "<table border=\"1\" class=\"dataframe\">\n",
       "  <thead>\n",
       "    <tr style=\"text-align: right;\">\n",
       "      <th></th>\n",
       "      <th>кол-во в подкатегории</th>\n",
       "      <th>неплательщики</th>\n",
       "      <th>надежные заемщики, чел</th>\n",
       "      <th>% от всех</th>\n",
       "      <th>выплата в срок,  % в подкатегории</th>\n",
       "      <th>выплата в срок,  % от всех</th>\n",
       "      <th>qwerty</th>\n",
       "    </tr>\n",
       "    <tr>\n",
       "      <th>family_status</th>\n",
       "      <th></th>\n",
       "      <th></th>\n",
       "      <th></th>\n",
       "      <th></th>\n",
       "      <th></th>\n",
       "      <th></th>\n",
       "      <th></th>\n",
       "    </tr>\n",
       "  </thead>\n",
       "  <tbody>\n",
       "    <tr>\n",
       "      <th>женат / замужем</th>\n",
       "      <td>12266</td>\n",
       "      <td>927</td>\n",
       "      <td>11339</td>\n",
       "      <td>57.46</td>\n",
       "      <td>92.44</td>\n",
       "      <td>53.12</td>\n",
       "      <td>12266</td>\n",
       "    </tr>\n",
       "    <tr>\n",
       "      <th>гражданский брак</th>\n",
       "      <td>4146</td>\n",
       "      <td>385</td>\n",
       "      <td>3761</td>\n",
       "      <td>19.42</td>\n",
       "      <td>90.71</td>\n",
       "      <td>17.62</td>\n",
       "      <td>4146</td>\n",
       "    </tr>\n",
       "    <tr>\n",
       "      <th>Не женат / не замужем</th>\n",
       "      <td>2796</td>\n",
       "      <td>273</td>\n",
       "      <td>2523</td>\n",
       "      <td>13.10</td>\n",
       "      <td>90.24</td>\n",
       "      <td>11.82</td>\n",
       "      <td>2796</td>\n",
       "    </tr>\n",
       "    <tr>\n",
       "      <th>в разводе</th>\n",
       "      <td>1189</td>\n",
       "      <td>84</td>\n",
       "      <td>1105</td>\n",
       "      <td>5.57</td>\n",
       "      <td>92.94</td>\n",
       "      <td>5.18</td>\n",
       "      <td>1189</td>\n",
       "    </tr>\n",
       "    <tr>\n",
       "      <th>вдовец / вдова</th>\n",
       "      <td>951</td>\n",
       "      <td>63</td>\n",
       "      <td>888</td>\n",
       "      <td>4.45</td>\n",
       "      <td>93.38</td>\n",
       "      <td>4.16</td>\n",
       "      <td>951</td>\n",
       "    </tr>\n",
       "  </tbody>\n",
       "</table>\n",
       "</div>"
      ],
      "text/plain": [
       "                       кол-во в подкатегории    неплательщики    \\\n",
       "family_status                                                     \n",
       "женат / замужем                          12266              927   \n",
       "гражданский брак                          4146              385   \n",
       "Не женат / не замужем                     2796              273   \n",
       "в разводе                                 1189               84   \n",
       "вдовец / вдова                             951               63   \n",
       "\n",
       "                       надежные заемщики, чел  % от всех     \\\n",
       "family_status                                                 \n",
       "женат / замужем                         11339         57.46   \n",
       "гражданский брак                         3761         19.42   \n",
       "Не женат / не замужем                    2523         13.10   \n",
       "в разводе                                1105          5.57   \n",
       "вдовец / вдова                            888          4.45   \n",
       "\n",
       "                       выплата в срок,  % в подкатегории     \\\n",
       "family_status                                                 \n",
       "женат / замужем                                       92.44   \n",
       "гражданский брак                                      90.71   \n",
       "Не женат / не замужем                                 90.24   \n",
       "в разводе                                             92.94   \n",
       "вдовец / вдова                                        93.38   \n",
       "\n",
       "                       выплата в срок,  % от всех    qwerty  \n",
       "family_status                                                \n",
       "женат / замужем                               53.12   12266  \n",
       "гражданский брак                              17.62    4146  \n",
       "Не женат / не замужем                         11.82    2796  \n",
       "в разводе                                      5.18    1189  \n",
       "вдовец / вдова                                 4.16     951  "
      ]
     },
     "execution_count": 30,
     "metadata": {},
     "output_type": "execute_result"
    },
    {
     "data": {
      "image/png": "[encoded data removed]",
      "text/plain": [
       "<Figure size 432x288 with 1 Axes>"
      ]
     },
     "metadata": {
      "needs_background": "light"
     },
     "output_type": "display_data"
    }
   ],
   "source": [
    "report_pv=pivot_category_factor('family_status',5,0)\n",
    "report_pv\n"
   ]
  },
  {
   "cell_type": "markdown",
   "id": "d56765d5",
   "metadata": {},
   "source": [
    "Сравнение с учетом количества."
   ]
  },
  {
   "cell_type": "code",
   "execution_count": 31,
   "id": "6f05f635",
   "metadata": {
    "scrolled": false
   },
   "outputs": [
    {
     "name": "stdout",
     "output_type": "stream",
     "text": [
      "Количество всех заемщиков 21348,    количество надежных заемщиков  19616, процент возврата в целом  91.89 %\n",
      "Столбец сортировки отчета:    выплата в срок,  % от всех  ,   направление сортировки- по убыванию\n"
     ]
    },
    {
     "data": {
      "text/html": [
       "<div>\n",
       "<style scoped>\n",
       "    .dataframe tbody tr th:only-of-type {\n",
       "        vertical-align: middle;\n",
       "    }\n",
       "\n",
       "    .dataframe tbody tr th {\n",
       "        vertical-align: top;\n",
       "    }\n",
       "\n",
       "    .dataframe thead th {\n",
       "        text-align: right;\n",
       "    }\n",
       "</style>\n",
       "<table border=\"1\" class=\"dataframe\">\n",
       "  <thead>\n",
       "    <tr style=\"text-align: right;\">\n",
       "      <th></th>\n",
       "      <th>категория</th>\n",
       "      <th>подкатегория</th>\n",
       "      <th>кол-во в подкатегории</th>\n",
       "      <th>% от всех</th>\n",
       "      <th>выплата в срок, чел</th>\n",
       "      <th>выплата в срок,  % в подкатегории</th>\n",
       "      <th>выплата в срок,  % от всех</th>\n",
       "    </tr>\n",
       "  </thead>\n",
       "  <tbody>\n",
       "    <tr>\n",
       "      <th>0</th>\n",
       "      <td>family_status</td>\n",
       "      <td>женат / замужем</td>\n",
       "      <td>12266</td>\n",
       "      <td>57.46</td>\n",
       "      <td>11339</td>\n",
       "      <td>92.44</td>\n",
       "      <td>53.12</td>\n",
       "    </tr>\n",
       "    <tr>\n",
       "      <th>1</th>\n",
       "      <td>family_status</td>\n",
       "      <td>гражданский брак</td>\n",
       "      <td>4146</td>\n",
       "      <td>19.42</td>\n",
       "      <td>3761</td>\n",
       "      <td>90.71</td>\n",
       "      <td>17.62</td>\n",
       "    </tr>\n",
       "    <tr>\n",
       "      <th>2</th>\n",
       "      <td>family_status</td>\n",
       "      <td>Не женат / не замужем</td>\n",
       "      <td>2796</td>\n",
       "      <td>13.10</td>\n",
       "      <td>2523</td>\n",
       "      <td>90.24</td>\n",
       "      <td>11.82</td>\n",
       "    </tr>\n",
       "    <tr>\n",
       "      <th>3</th>\n",
       "      <td>family_status</td>\n",
       "      <td>в разводе</td>\n",
       "      <td>1189</td>\n",
       "      <td>5.57</td>\n",
       "      <td>1105</td>\n",
       "      <td>92.94</td>\n",
       "      <td>5.18</td>\n",
       "    </tr>\n",
       "    <tr>\n",
       "      <th>4</th>\n",
       "      <td>family_status</td>\n",
       "      <td>вдовец / вдова</td>\n",
       "      <td>951</td>\n",
       "      <td>4.45</td>\n",
       "      <td>888</td>\n",
       "      <td>93.38</td>\n",
       "      <td>4.16</td>\n",
       "    </tr>\n",
       "  </tbody>\n",
       "</table>\n",
       "</div>"
      ],
      "text/plain": [
       "     категория           подкатегория    кол-во в подкатегории    \\\n",
       "0  family_status        женат / замужем                    12266   \n",
       "1  family_status       гражданский брак                     4146   \n",
       "2  family_status  Не женат / не замужем                     2796   \n",
       "3  family_status              в разводе                     1189   \n",
       "4  family_status         вдовец / вдова                      951   \n",
       "\n",
       "   % от всех     выплата в срок, чел     выплата в срок,  % в подкатегории     \\\n",
       "0         57.46                   11339                                 92.44   \n",
       "1         19.42                    3761                                 90.71   \n",
       "2         13.10                    2523                                 90.24   \n",
       "3          5.57                    1105                                 92.94   \n",
       "4          4.45                     888                                 93.38   \n",
       "\n",
       "   выплата в срок,  % от всех    \n",
       "0                         53.12  \n",
       "1                         17.62  \n",
       "2                         11.82  \n",
       "3                          5.18  \n",
       "4                          4.16  "
      ]
     },
     "execution_count": 31,
     "metadata": {},
     "output_type": "execute_result"
    },
    {
     "data": {
      "image/png": "[encoded data removed]",
      "text/plain": [
       "<Figure size 432x288 with 1 Axes>"
      ]
     },
     "metadata": {
      "needs_background": "light"
     },
     "output_type": "display_data"
    }
   ],
   "source": [
    "# вызов функции  'category_factor' с параметрами:\n",
    "# столбец - \n",
    "# сортировка по столбцу отчета (1..6)\n",
    "# направление сортировки (1-по возрастанию, 0- по убыванию)\n",
    "\n",
    "report=category_factor('family_status',6,0)\n",
    "report"
   ]
  },
  {
   "cell_type": "markdown",
   "id": "1cef7837",
   "metadata": {
    "deletable": false,
    "id": "1cef7837"
   },
   "source": [
    "**Вывод:** \n",
    "\n",
    "Разброс по категории небольшой. Сравнение  показало, что самые аккуратные - вдовцы, потом те, кто в разводе и  женатые/замужние.  Живущие в гражданском браке или не женатые/незамужние почти не отличаются и показывают наименьший процент надежности по категории.   \n",
    "\n",
    "Если смотреть на  рейтинг надежности заемщиков с учетом их  количества, то наиболее ответственными будут женатые/замужние заемщики - они составляют 53,12 % от всех заемщиков в целом. \n",
    " "
   ]
  },
  {
   "cell_type": "markdown",
   "id": "653bf269",
   "metadata": {},
   "source": [
    "  "
   ]
  },
  {
   "cell_type": "markdown",
   "id": "1e8b2fca",
   "metadata": {
    "deletable": false,
    "editable": false,
    "id": "1e8b2fca"
   },
   "source": [
    "**Задание 21. Есть ли зависимость между уровнем дохода и возвратом кредита в срок?**"
   ]
  },
  {
   "cell_type": "markdown",
   "id": "b2fa22d2",
   "metadata": {},
   "source": [
    "Категории клиентов по доходу\n",
    "- 0–30000 — `'E'`;\n",
    "- 30001–50000 — `'D'`;\n",
    "- 50001–200000 — `'C'`;\n",
    "- 200001–1000000 — `'B'`;\n",
    "- 1000001 и выше — `'A'`."
   ]
  },
  {
   "cell_type": "markdown",
   "id": "dae13bee",
   "metadata": {},
   "source": [
    "Сравнение по категории."
   ]
  },
  {
   "cell_type": "code",
   "execution_count": 32,
   "id": "cd7e3720",
   "metadata": {
    "id": "cd7e3720"
   },
   "outputs": [
    {
     "name": "stdout",
     "output_type": "stream",
     "text": [
      "Количество всех заемщиков 21348,    количество надежных заемщиков  19616, процент возврата в целом  91.89 %\n",
      "Столбец сортировки отчета:    выплата в срок,  % в подкатегории   ,   направление сортировки- по убыванию\n"
     ]
    },
    {
     "data": {
      "text/html": [
       "<div>\n",
       "<style scoped>\n",
       "    .dataframe tbody tr th:only-of-type {\n",
       "        vertical-align: middle;\n",
       "    }\n",
       "\n",
       "    .dataframe tbody tr th {\n",
       "        vertical-align: top;\n",
       "    }\n",
       "\n",
       "    .dataframe thead th {\n",
       "        text-align: right;\n",
       "    }\n",
       "</style>\n",
       "<table border=\"1\" class=\"dataframe\">\n",
       "  <thead>\n",
       "    <tr style=\"text-align: right;\">\n",
       "      <th></th>\n",
       "      <th>категория</th>\n",
       "      <th>подкатегория</th>\n",
       "      <th>кол-во в подкатегории</th>\n",
       "      <th>% от всех</th>\n",
       "      <th>выплата в срок, чел</th>\n",
       "      <th>выплата в срок,  % в подкатегории</th>\n",
       "      <th>выплата в срок,  % от всех</th>\n",
       "    </tr>\n",
       "  </thead>\n",
       "  <tbody>\n",
       "    <tr>\n",
       "      <th>0</th>\n",
       "      <td>total_income_category</td>\n",
       "      <td>D</td>\n",
       "      <td>349</td>\n",
       "      <td>1.63</td>\n",
       "      <td>328</td>\n",
       "      <td>93.98</td>\n",
       "      <td>1.54</td>\n",
       "    </tr>\n",
       "    <tr>\n",
       "      <th>1</th>\n",
       "      <td>total_income_category</td>\n",
       "      <td>B</td>\n",
       "      <td>5014</td>\n",
       "      <td>23.49</td>\n",
       "      <td>4660</td>\n",
       "      <td>92.94</td>\n",
       "      <td>21.83</td>\n",
       "    </tr>\n",
       "    <tr>\n",
       "      <th>2</th>\n",
       "      <td>total_income_category</td>\n",
       "      <td>A</td>\n",
       "      <td>25</td>\n",
       "      <td>0.12</td>\n",
       "      <td>23</td>\n",
       "      <td>92.00</td>\n",
       "      <td>0.11</td>\n",
       "    </tr>\n",
       "    <tr>\n",
       "      <th>3</th>\n",
       "      <td>total_income_category</td>\n",
       "      <td>C</td>\n",
       "      <td>15938</td>\n",
       "      <td>74.66</td>\n",
       "      <td>14585</td>\n",
       "      <td>91.51</td>\n",
       "      <td>68.32</td>\n",
       "    </tr>\n",
       "    <tr>\n",
       "      <th>4</th>\n",
       "      <td>total_income_category</td>\n",
       "      <td>E</td>\n",
       "      <td>22</td>\n",
       "      <td>0.10</td>\n",
       "      <td>20</td>\n",
       "      <td>90.91</td>\n",
       "      <td>0.09</td>\n",
       "    </tr>\n",
       "  </tbody>\n",
       "</table>\n",
       "</div>"
      ],
      "text/plain": [
       "             категория   подкатегория    кол-во в подкатегории    \\\n",
       "0  total_income_category              D                      349   \n",
       "1  total_income_category              B                     5014   \n",
       "2  total_income_category              A                       25   \n",
       "3  total_income_category              C                    15938   \n",
       "4  total_income_category              E                       22   \n",
       "\n",
       "   % от всех     выплата в срок, чел     выплата в срок,  % в подкатегории     \\\n",
       "0          1.63                     328                                 93.98   \n",
       "1         23.49                    4660                                 92.94   \n",
       "2          0.12                      23                                 92.00   \n",
       "3         74.66                   14585                                 91.51   \n",
       "4          0.10                      20                                 90.91   \n",
       "\n",
       "   выплата в срок,  % от всех    \n",
       "0                          1.54  \n",
       "1                         21.83  \n",
       "2                          0.11  \n",
       "3                         68.32  \n",
       "4                          0.09  "
      ]
     },
     "execution_count": 32,
     "metadata": {},
     "output_type": "execute_result"
    },
    {
     "data": {
      "image/png": "[encoded data removed]",
      "text/plain": [
       "<Figure size 432x288 with 1 Axes>"
      ]
     },
     "metadata": {
      "needs_background": "light"
     },
     "output_type": "display_data"
    }
   ],
   "source": [
    "# вызов функции  'category_factor' с параметрами:\n",
    "# столбец - \n",
    "# сортировка по столбцу отчета (1..6)\n",
    "# направление сортировки (1-по возрастанию, 0- по убыванию)\n",
    "\n",
    "report=category_factor('total_income_category',5,0)\n",
    "report"
   ]
  },
  {
   "cell_type": "markdown",
   "id": "087da713",
   "metadata": {},
   "source": [
    "Сравнение с учетом количества."
   ]
  },
  {
   "cell_type": "code",
   "execution_count": 33,
   "id": "a009ee27",
   "metadata": {},
   "outputs": [
    {
     "name": "stdout",
     "output_type": "stream",
     "text": [
      "Количество всех заемщиков 21348,    количество надежных заемщиков  19616, процент возврата в целом  91.89 %\n",
      "Столбец сортировки отчета:    выплата в срок,  % от всех  ,   направление сортировки- по убыванию\n"
     ]
    },
    {
     "data": {
      "text/html": [
       "<div>\n",
       "<style scoped>\n",
       "    .dataframe tbody tr th:only-of-type {\n",
       "        vertical-align: middle;\n",
       "    }\n",
       "\n",
       "    .dataframe tbody tr th {\n",
       "        vertical-align: top;\n",
       "    }\n",
       "\n",
       "    .dataframe thead th {\n",
       "        text-align: right;\n",
       "    }\n",
       "</style>\n",
       "<table border=\"1\" class=\"dataframe\">\n",
       "  <thead>\n",
       "    <tr style=\"text-align: right;\">\n",
       "      <th></th>\n",
       "      <th>категория</th>\n",
       "      <th>подкатегория</th>\n",
       "      <th>кол-во в подкатегории</th>\n",
       "      <th>% от всех</th>\n",
       "      <th>выплата в срок, чел</th>\n",
       "      <th>выплата в срок,  % в подкатегории</th>\n",
       "      <th>выплата в срок,  % от всех</th>\n",
       "    </tr>\n",
       "  </thead>\n",
       "  <tbody>\n",
       "    <tr>\n",
       "      <th>0</th>\n",
       "      <td>total_income_category</td>\n",
       "      <td>C</td>\n",
       "      <td>15938</td>\n",
       "      <td>74.66</td>\n",
       "      <td>14585</td>\n",
       "      <td>91.51</td>\n",
       "      <td>68.32</td>\n",
       "    </tr>\n",
       "    <tr>\n",
       "      <th>1</th>\n",
       "      <td>total_income_category</td>\n",
       "      <td>B</td>\n",
       "      <td>5014</td>\n",
       "      <td>23.49</td>\n",
       "      <td>4660</td>\n",
       "      <td>92.94</td>\n",
       "      <td>21.83</td>\n",
       "    </tr>\n",
       "    <tr>\n",
       "      <th>2</th>\n",
       "      <td>total_income_category</td>\n",
       "      <td>D</td>\n",
       "      <td>349</td>\n",
       "      <td>1.63</td>\n",
       "      <td>328</td>\n",
       "      <td>93.98</td>\n",
       "      <td>1.54</td>\n",
       "    </tr>\n",
       "    <tr>\n",
       "      <th>3</th>\n",
       "      <td>total_income_category</td>\n",
       "      <td>A</td>\n",
       "      <td>25</td>\n",
       "      <td>0.12</td>\n",
       "      <td>23</td>\n",
       "      <td>92.00</td>\n",
       "      <td>0.11</td>\n",
       "    </tr>\n",
       "    <tr>\n",
       "      <th>4</th>\n",
       "      <td>total_income_category</td>\n",
       "      <td>E</td>\n",
       "      <td>22</td>\n",
       "      <td>0.10</td>\n",
       "      <td>20</td>\n",
       "      <td>90.91</td>\n",
       "      <td>0.09</td>\n",
       "    </tr>\n",
       "  </tbody>\n",
       "</table>\n",
       "</div>"
      ],
      "text/plain": [
       "             категория   подкатегория    кол-во в подкатегории    \\\n",
       "0  total_income_category              C                    15938   \n",
       "1  total_income_category              B                     5014   \n",
       "2  total_income_category              D                      349   \n",
       "3  total_income_category              A                       25   \n",
       "4  total_income_category              E                       22   \n",
       "\n",
       "   % от всех     выплата в срок, чел     выплата в срок,  % в подкатегории     \\\n",
       "0         74.66                   14585                                 91.51   \n",
       "1         23.49                    4660                                 92.94   \n",
       "2          1.63                     328                                 93.98   \n",
       "3          0.12                      23                                 92.00   \n",
       "4          0.10                      20                                 90.91   \n",
       "\n",
       "   выплата в срок,  % от всех    \n",
       "0                         68.32  \n",
       "1                         21.83  \n",
       "2                          1.54  \n",
       "3                          0.11  \n",
       "4                          0.09  "
      ]
     },
     "execution_count": 33,
     "metadata": {},
     "output_type": "execute_result"
    },
    {
     "data": {
      "image/png": "[encoded data removed]",
      "text/plain": [
       "<Figure size 432x288 with 1 Axes>"
      ]
     },
     "metadata": {
      "needs_background": "light"
     },
     "output_type": "display_data"
    }
   ],
   "source": [
    "# вызов функции  'category_factor' с параметрами:\n",
    "# столбец - \n",
    "# сортировка по столбцу отчета (1..6)\n",
    "# направление сортировки (1-по возрастанию, 0- по убыванию)\n",
    "\n",
    "report=category_factor('total_income_category',6,0)\n",
    "report"
   ]
  },
  {
   "cell_type": "code",
   "execution_count": null,
   "id": "cf571737",
   "metadata": {},
   "outputs": [],
   "source": []
  },
  {
   "cell_type": "markdown",
   "id": "e8593def",
   "metadata": {
    "deletable": false,
    "id": "e8593def"
   },
   "source": [
    "**Вывод:**\n",
    "\n",
    "Разброс по категории небольшой, наиболее ответственные - заемщики категории D с доходом 30 001- 50 000.\n",
    "\n",
    "С учетом количества заемщиков, лидируют  подгруппы  С (50 001-200 000) и В (200 001-1 000 000), в сумме у них 90,15% вовзращающих кредиты от общего числа заемщиков** "
   ]
  },
  {
   "cell_type": "markdown",
   "id": "f2a55732",
   "metadata": {},
   "source": [
    "  "
   ]
  },
  {
   "cell_type": "markdown",
   "id": "99ecbd1f",
   "metadata": {
    "deletable": false,
    "editable": false,
    "id": "99ecbd1f"
   },
   "source": [
    "**Задание 22. Как разные цели кредита влияют на его возврат в срок?**"
   ]
  },
  {
   "cell_type": "markdown",
   "id": "0791f111",
   "metadata": {},
   "source": [
    "Сравнение по категории."
   ]
  },
  {
   "cell_type": "code",
   "execution_count": 34,
   "id": "2b687290",
   "metadata": {
    "id": "2b687290"
   },
   "outputs": [
    {
     "name": "stdout",
     "output_type": "stream",
     "text": [
      "Количество всех заемщиков 21348,    количество надежных заемщиков  19616, процент возврата в целом  91.89 %\n",
      "Столбец сортировки отчета:    выплата в срок,  % в подкатегории   ,   направление сортировки- по убыванию\n"
     ]
    },
    {
     "data": {
      "text/html": [
       "<div>\n",
       "<style scoped>\n",
       "    .dataframe tbody tr th:only-of-type {\n",
       "        vertical-align: middle;\n",
       "    }\n",
       "\n",
       "    .dataframe tbody tr th {\n",
       "        vertical-align: top;\n",
       "    }\n",
       "\n",
       "    .dataframe thead th {\n",
       "        text-align: right;\n",
       "    }\n",
       "</style>\n",
       "<table border=\"1\" class=\"dataframe\">\n",
       "  <thead>\n",
       "    <tr style=\"text-align: right;\">\n",
       "      <th></th>\n",
       "      <th>категория</th>\n",
       "      <th>подкатегория</th>\n",
       "      <th>кол-во в подкатегории</th>\n",
       "      <th>% от всех</th>\n",
       "      <th>выплата в срок, чел</th>\n",
       "      <th>выплата в срок,  % в подкатегории</th>\n",
       "      <th>выплата в срок,  % от всех</th>\n",
       "    </tr>\n",
       "  </thead>\n",
       "  <tbody>\n",
       "    <tr>\n",
       "      <th>0</th>\n",
       "      <td>purpose_category</td>\n",
       "      <td>операции с недвижимостью</td>\n",
       "      <td>10754</td>\n",
       "      <td>50.37</td>\n",
       "      <td>9974</td>\n",
       "      <td>92.75</td>\n",
       "      <td>46.72</td>\n",
       "    </tr>\n",
       "    <tr>\n",
       "      <th>1</th>\n",
       "      <td>purpose_category</td>\n",
       "      <td>проведение свадьбы</td>\n",
       "      <td>2324</td>\n",
       "      <td>10.89</td>\n",
       "      <td>2141</td>\n",
       "      <td>92.13</td>\n",
       "      <td>10.03</td>\n",
       "    </tr>\n",
       "    <tr>\n",
       "      <th>2</th>\n",
       "      <td>purpose_category</td>\n",
       "      <td>получение образования</td>\n",
       "      <td>3989</td>\n",
       "      <td>18.69</td>\n",
       "      <td>3620</td>\n",
       "      <td>90.75</td>\n",
       "      <td>16.96</td>\n",
       "    </tr>\n",
       "    <tr>\n",
       "      <th>3</th>\n",
       "      <td>purpose_category</td>\n",
       "      <td>операции с автомобилем</td>\n",
       "      <td>4281</td>\n",
       "      <td>20.05</td>\n",
       "      <td>3881</td>\n",
       "      <td>90.66</td>\n",
       "      <td>18.18</td>\n",
       "    </tr>\n",
       "  </tbody>\n",
       "</table>\n",
       "</div>"
      ],
      "text/plain": [
       "        категория              подкатегория    кол-во в подкатегории    \\\n",
       "0  purpose_category  операции с недвижимостью                    10754   \n",
       "1  purpose_category        проведение свадьбы                     2324   \n",
       "2  purpose_category     получение образования                     3989   \n",
       "3  purpose_category    операции с автомобилем                     4281   \n",
       "\n",
       "   % от всех     выплата в срок, чел     выплата в срок,  % в подкатегории     \\\n",
       "0         50.37                    9974                                 92.75   \n",
       "1         10.89                    2141                                 92.13   \n",
       "2         18.69                    3620                                 90.75   \n",
       "3         20.05                    3881                                 90.66   \n",
       "\n",
       "   выплата в срок,  % от всех    \n",
       "0                         46.72  \n",
       "1                         10.03  \n",
       "2                         16.96  \n",
       "3                         18.18  "
      ]
     },
     "execution_count": 34,
     "metadata": {},
     "output_type": "execute_result"
    },
    {
     "data": {
      "image/png": "[encoded data removed]",
      "text/plain": [
       "<Figure size 432x288 with 1 Axes>"
      ]
     },
     "metadata": {
      "needs_background": "light"
     },
     "output_type": "display_data"
    }
   ],
   "source": [
    "# вызов функции  'category_factor' с параметрами:\n",
    "# столбец - \n",
    "# сортировка по столбцу отчета (1..6)\n",
    "# направление сортировки (1-по возрастанию, 0- по убыванию)\n",
    "\n",
    "report=category_factor('purpose_category',5,0)\n",
    "report"
   ]
  },
  {
   "cell_type": "code",
   "execution_count": null,
   "id": "0ae48aa2",
   "metadata": {},
   "outputs": [],
   "source": []
  },
  {
   "cell_type": "markdown",
   "id": "9a4eaa68",
   "metadata": {},
   "source": [
    "Сравнение с учетом количества."
   ]
  },
  {
   "cell_type": "code",
   "execution_count": 35,
   "id": "e55e1c5e",
   "metadata": {},
   "outputs": [
    {
     "name": "stdout",
     "output_type": "stream",
     "text": [
      "Количество всех заемщиков 21348,    количество надежных заемщиков  19616, процент возврата в целом  91.89 %\n",
      "Столбец сортировки отчета:    выплата в срок,  % от всех  ,   направление сортировки- по убыванию\n"
     ]
    },
    {
     "data": {
      "text/html": [
       "<div>\n",
       "<style scoped>\n",
       "    .dataframe tbody tr th:only-of-type {\n",
       "        vertical-align: middle;\n",
       "    }\n",
       "\n",
       "    .dataframe tbody tr th {\n",
       "        vertical-align: top;\n",
       "    }\n",
       "\n",
       "    .dataframe thead th {\n",
       "        text-align: right;\n",
       "    }\n",
       "</style>\n",
       "<table border=\"1\" class=\"dataframe\">\n",
       "  <thead>\n",
       "    <tr style=\"text-align: right;\">\n",
       "      <th></th>\n",
       "      <th>категория</th>\n",
       "      <th>подкатегория</th>\n",
       "      <th>кол-во в подкатегории</th>\n",
       "      <th>% от всех</th>\n",
       "      <th>выплата в срок, чел</th>\n",
       "      <th>выплата в срок,  % в подкатегории</th>\n",
       "      <th>выплата в срок,  % от всех</th>\n",
       "    </tr>\n",
       "  </thead>\n",
       "  <tbody>\n",
       "    <tr>\n",
       "      <th>0</th>\n",
       "      <td>purpose_category</td>\n",
       "      <td>операции с недвижимостью</td>\n",
       "      <td>10754</td>\n",
       "      <td>50.37</td>\n",
       "      <td>9974</td>\n",
       "      <td>92.75</td>\n",
       "      <td>46.72</td>\n",
       "    </tr>\n",
       "    <tr>\n",
       "      <th>1</th>\n",
       "      <td>purpose_category</td>\n",
       "      <td>операции с автомобилем</td>\n",
       "      <td>4281</td>\n",
       "      <td>20.05</td>\n",
       "      <td>3881</td>\n",
       "      <td>90.66</td>\n",
       "      <td>18.18</td>\n",
       "    </tr>\n",
       "    <tr>\n",
       "      <th>2</th>\n",
       "      <td>purpose_category</td>\n",
       "      <td>получение образования</td>\n",
       "      <td>3989</td>\n",
       "      <td>18.69</td>\n",
       "      <td>3620</td>\n",
       "      <td>90.75</td>\n",
       "      <td>16.96</td>\n",
       "    </tr>\n",
       "    <tr>\n",
       "      <th>3</th>\n",
       "      <td>purpose_category</td>\n",
       "      <td>проведение свадьбы</td>\n",
       "      <td>2324</td>\n",
       "      <td>10.89</td>\n",
       "      <td>2141</td>\n",
       "      <td>92.13</td>\n",
       "      <td>10.03</td>\n",
       "    </tr>\n",
       "  </tbody>\n",
       "</table>\n",
       "</div>"
      ],
      "text/plain": [
       "        категория              подкатегория    кол-во в подкатегории    \\\n",
       "0  purpose_category  операции с недвижимостью                    10754   \n",
       "1  purpose_category    операции с автомобилем                     4281   \n",
       "2  purpose_category     получение образования                     3989   \n",
       "3  purpose_category        проведение свадьбы                     2324   \n",
       "\n",
       "   % от всех     выплата в срок, чел     выплата в срок,  % в подкатегории     \\\n",
       "0         50.37                    9974                                 92.75   \n",
       "1         20.05                    3881                                 90.66   \n",
       "2         18.69                    3620                                 90.75   \n",
       "3         10.89                    2141                                 92.13   \n",
       "\n",
       "   выплата в срок,  % от всех    \n",
       "0                         46.72  \n",
       "1                         18.18  \n",
       "2                         16.96  \n",
       "3                         10.03  "
      ]
     },
     "execution_count": 35,
     "metadata": {},
     "output_type": "execute_result"
    },
    {
     "data": {
      "image/png": "[encoded data removed]",
      "text/plain": [
       "<Figure size 432x288 with 1 Axes>"
      ]
     },
     "metadata": {
      "needs_background": "light"
     },
     "output_type": "display_data"
    }
   ],
   "source": [
    "# вызов функции  'category_factor' с параметрами:\n",
    "# столбец - \n",
    "# сортировка по столбцу отчета (1..6)\n",
    "# направление сортировки (1-по возрастанию, 0- по убыванию)\n",
    "\n",
    "report=category_factor('purpose_category',6,0)\n",
    "report"
   ]
  },
  {
   "cell_type": "code",
   "execution_count": null,
   "id": "8e7e5072",
   "metadata": {},
   "outputs": [],
   "source": []
  },
  {
   "cell_type": "markdown",
   "id": "b4bb2ce6",
   "metadata": {
    "deletable": false,
    "id": "b4bb2ce6"
   },
   "source": [
    "**Вывод:**\n",
    "\n",
    "Разброс по категории в % незначителен,  самые ответственные- заемщики с кредитами на недвижимость. Близко к ним находится кредитование на свадьбу.  Заемщики с кредитами на получение образования и покупку автомобиля показывают близкий процент возврата кредита.\n",
    "\n",
    "Если учитывать общее количество заемщиков, то наибольший процент возвращаемых среди кредитов на недвижимость- 46,72% от всех выданных кредитов. Покупка автомобиля и кредит на образование  дают сопоставимый процент возврата и вместе показывают 35,14 % возвращаемых кредитов. "
   ]
  },
  {
   "cell_type": "markdown",
   "id": "37b7344f",
   "metadata": {},
   "source": [
    "  "
   ]
  },
  {
   "cell_type": "markdown",
   "id": "5ec7ed0d",
   "metadata": {},
   "source": [
    "**Задание 23. Как пол заемщика влияет на  возврат кредита в срок?**"
   ]
  },
  {
   "cell_type": "markdown",
   "id": "d630de58",
   "metadata": {},
   "source": [
    "Сравнение по категории."
   ]
  },
  {
   "cell_type": "code",
   "execution_count": 36,
   "id": "399303e5",
   "metadata": {},
   "outputs": [
    {
     "name": "stdout",
     "output_type": "stream",
     "text": [
      "Количество всех заемщиков 21348,    количество надежных заемщиков  19616, процент возврата в целом  91.89 %\n",
      "Столбец сортировки отчета:    выплата в срок,  % в подкатегории   ,   направление сортировки- по убыванию\n"
     ]
    },
    {
     "data": {
      "text/html": [
       "<div>\n",
       "<style scoped>\n",
       "    .dataframe tbody tr th:only-of-type {\n",
       "        vertical-align: middle;\n",
       "    }\n",
       "\n",
       "    .dataframe tbody tr th {\n",
       "        vertical-align: top;\n",
       "    }\n",
       "\n",
       "    .dataframe thead th {\n",
       "        text-align: right;\n",
       "    }\n",
       "</style>\n",
       "<table border=\"1\" class=\"dataframe\">\n",
       "  <thead>\n",
       "    <tr style=\"text-align: right;\">\n",
       "      <th></th>\n",
       "      <th>категория</th>\n",
       "      <th>подкатегория</th>\n",
       "      <th>кол-во в подкатегории</th>\n",
       "      <th>% от всех</th>\n",
       "      <th>выплата в срок, чел</th>\n",
       "      <th>выплата в срок,  % в подкатегории</th>\n",
       "      <th>выплата в срок,  % от всех</th>\n",
       "    </tr>\n",
       "  </thead>\n",
       "  <tbody>\n",
       "    <tr>\n",
       "      <th>0</th>\n",
       "      <td>gender</td>\n",
       "      <td>XNA</td>\n",
       "      <td>1</td>\n",
       "      <td>0.00</td>\n",
       "      <td>1</td>\n",
       "      <td>100.00</td>\n",
       "      <td>0.00</td>\n",
       "    </tr>\n",
       "    <tr>\n",
       "      <th>1</th>\n",
       "      <td>gender</td>\n",
       "      <td>F</td>\n",
       "      <td>14107</td>\n",
       "      <td>66.08</td>\n",
       "      <td>13118</td>\n",
       "      <td>92.99</td>\n",
       "      <td>61.45</td>\n",
       "    </tr>\n",
       "    <tr>\n",
       "      <th>2</th>\n",
       "      <td>gender</td>\n",
       "      <td>M</td>\n",
       "      <td>7240</td>\n",
       "      <td>33.91</td>\n",
       "      <td>6497</td>\n",
       "      <td>89.74</td>\n",
       "      <td>30.43</td>\n",
       "    </tr>\n",
       "  </tbody>\n",
       "</table>\n",
       "</div>"
      ],
      "text/plain": [
       "  категория   подкатегория    кол-во в подкатегории    % от всех     \\\n",
       "0      gender            XNA                        1          0.00   \n",
       "1      gender              F                    14107         66.08   \n",
       "2      gender              M                     7240         33.91   \n",
       "\n",
       "   выплата в срок, чел     выплата в срок,  % в подкатегории     \\\n",
       "0                       1                                100.00   \n",
       "1                   13118                                 92.99   \n",
       "2                    6497                                 89.74   \n",
       "\n",
       "   выплата в срок,  % от всех    \n",
       "0                          0.00  \n",
       "1                         61.45  \n",
       "2                         30.43  "
      ]
     },
     "execution_count": 36,
     "metadata": {},
     "output_type": "execute_result"
    },
    {
     "data": {
      "image/png": "[encoded data removed]",
      "text/plain": [
       "<Figure size 432x288 with 1 Axes>"
      ]
     },
     "metadata": {
      "needs_background": "light"
     },
     "output_type": "display_data"
    }
   ],
   "source": [
    "# вызов функции  'category_factor' с параметрами:\n",
    "# столбец - \n",
    "# сортировка по столбцу отчета (1..6)\n",
    "# направление сортировки (1-по возрастанию, 0- по убыванию)\n",
    "\n",
    "report=category_factor('gender',5,0)\n",
    "report"
   ]
  },
  {
   "cell_type": "markdown",
   "id": "d4ae0305",
   "metadata": {},
   "source": [
    "  "
   ]
  },
  {
   "cell_type": "markdown",
   "id": "8951e3e7",
   "metadata": {},
   "source": [
    "Сравнение с учетом количества."
   ]
  },
  {
   "cell_type": "code",
   "execution_count": 37,
   "id": "a5a784c1",
   "metadata": {},
   "outputs": [
    {
     "name": "stdout",
     "output_type": "stream",
     "text": [
      "Количество всех заемщиков 21348,    количество надежных заемщиков  19616, процент возврата в целом  91.89 %\n",
      "Столбец сортировки отчета:    выплата в срок,  % от всех  ,   направление сортировки- по убыванию\n"
     ]
    },
    {
     "data": {
      "text/html": [
       "<div>\n",
       "<style scoped>\n",
       "    .dataframe tbody tr th:only-of-type {\n",
       "        vertical-align: middle;\n",
       "    }\n",
       "\n",
       "    .dataframe tbody tr th {\n",
       "        vertical-align: top;\n",
       "    }\n",
       "\n",
       "    .dataframe thead th {\n",
       "        text-align: right;\n",
       "    }\n",
       "</style>\n",
       "<table border=\"1\" class=\"dataframe\">\n",
       "  <thead>\n",
       "    <tr style=\"text-align: right;\">\n",
       "      <th></th>\n",
       "      <th>категория</th>\n",
       "      <th>подкатегория</th>\n",
       "      <th>кол-во в подкатегории</th>\n",
       "      <th>% от всех</th>\n",
       "      <th>выплата в срок, чел</th>\n",
       "      <th>выплата в срок,  % в подкатегории</th>\n",
       "      <th>выплата в срок,  % от всех</th>\n",
       "    </tr>\n",
       "  </thead>\n",
       "  <tbody>\n",
       "    <tr>\n",
       "      <th>0</th>\n",
       "      <td>gender</td>\n",
       "      <td>F</td>\n",
       "      <td>14107</td>\n",
       "      <td>66.08</td>\n",
       "      <td>13118</td>\n",
       "      <td>92.99</td>\n",
       "      <td>61.45</td>\n",
       "    </tr>\n",
       "    <tr>\n",
       "      <th>1</th>\n",
       "      <td>gender</td>\n",
       "      <td>M</td>\n",
       "      <td>7240</td>\n",
       "      <td>33.91</td>\n",
       "      <td>6497</td>\n",
       "      <td>89.74</td>\n",
       "      <td>30.43</td>\n",
       "    </tr>\n",
       "    <tr>\n",
       "      <th>2</th>\n",
       "      <td>gender</td>\n",
       "      <td>XNA</td>\n",
       "      <td>1</td>\n",
       "      <td>0.00</td>\n",
       "      <td>1</td>\n",
       "      <td>100.00</td>\n",
       "      <td>0.00</td>\n",
       "    </tr>\n",
       "  </tbody>\n",
       "</table>\n",
       "</div>"
      ],
      "text/plain": [
       "  категория   подкатегория    кол-во в подкатегории    % от всех     \\\n",
       "0      gender              F                    14107         66.08   \n",
       "1      gender              M                     7240         33.91   \n",
       "2      gender            XNA                        1          0.00   \n",
       "\n",
       "   выплата в срок, чел     выплата в срок,  % в подкатегории     \\\n",
       "0                   13118                                 92.99   \n",
       "1                    6497                                 89.74   \n",
       "2                       1                                100.00   \n",
       "\n",
       "   выплата в срок,  % от всех    \n",
       "0                         61.45  \n",
       "1                         30.43  \n",
       "2                          0.00  "
      ]
     },
     "execution_count": 37,
     "metadata": {},
     "output_type": "execute_result"
    },
    {
     "data": {
      "image/png": "[encoded data removed]",
      "text/plain": [
       "<Figure size 432x288 with 1 Axes>"
      ]
     },
     "metadata": {
      "needs_background": "light"
     },
     "output_type": "display_data"
    }
   ],
   "source": [
    "# вызов функции  'category_factor' с параметрами:\n",
    "# столбец - \n",
    "# сортировка по столбцу отчета (1..6)\n",
    "# направление сортировки (1-по возрастанию, 0- по убыванию)\n",
    "\n",
    "report=category_factor('gender',6,0)\n",
    "report"
   ]
  },
  {
   "cell_type": "markdown",
   "id": "14a6fb2e",
   "metadata": {},
   "source": [
    "  "
   ]
  },
  {
   "cell_type": "markdown",
   "id": "74602671",
   "metadata": {},
   "source": [
    "**Вывод:**\n",
    "\n",
    "Однозначные лидеры в надежности заемщиков- мужчины. Они лидируют как в сравнении по категории, так и в общем количественном сравнении.\n",
    "\n",
    "Отдельной категорией является неопределившийся с полом заемщик. Он, хотя и 100% надежный, но в количестве 1 человека является исключением для данной категории  и на общие  результаты не влияет."
   ]
  },
  {
   "cell_type": "markdown",
   "id": "ccd75307",
   "metadata": {},
   "source": [
    "  "
   ]
  },
  {
   "cell_type": "markdown",
   "id": "9d375c52",
   "metadata": {},
   "source": [
    "**Задание 24. Как образование заемщика влияет на  возврат кредита в срок?**"
   ]
  },
  {
   "cell_type": "markdown",
   "id": "6a04b74c",
   "metadata": {},
   "source": [
    "Сравнение по категории."
   ]
  },
  {
   "cell_type": "code",
   "execution_count": 38,
   "id": "d15abb74",
   "metadata": {},
   "outputs": [
    {
     "name": "stdout",
     "output_type": "stream",
     "text": [
      "Количество всех заемщиков 21348,    количество надежных заемщиков  19616, процент возврата в целом  91.89 %\n",
      "Столбец сортировки отчета:    выплата в срок,  % в подкатегории   ,   направление сортировки- по убыванию\n"
     ]
    },
    {
     "data": {
      "text/html": [
       "<div>\n",
       "<style scoped>\n",
       "    .dataframe tbody tr th:only-of-type {\n",
       "        vertical-align: middle;\n",
       "    }\n",
       "\n",
       "    .dataframe tbody tr th {\n",
       "        vertical-align: top;\n",
       "    }\n",
       "\n",
       "    .dataframe thead th {\n",
       "        text-align: right;\n",
       "    }\n",
       "</style>\n",
       "<table border=\"1\" class=\"dataframe\">\n",
       "  <thead>\n",
       "    <tr style=\"text-align: right;\">\n",
       "      <th></th>\n",
       "      <th>категория</th>\n",
       "      <th>подкатегория</th>\n",
       "      <th>кол-во в подкатегории</th>\n",
       "      <th>% от всех</th>\n",
       "      <th>выплата в срок, чел</th>\n",
       "      <th>выплата в срок,  % в подкатегории</th>\n",
       "      <th>выплата в срок,  % от всех</th>\n",
       "    </tr>\n",
       "  </thead>\n",
       "  <tbody>\n",
       "    <tr>\n",
       "      <th>0</th>\n",
       "      <td>education</td>\n",
       "      <td>ученая степень</td>\n",
       "      <td>6</td>\n",
       "      <td>0.03</td>\n",
       "      <td>6</td>\n",
       "      <td>100.00</td>\n",
       "      <td>0.03</td>\n",
       "    </tr>\n",
       "    <tr>\n",
       "      <th>1</th>\n",
       "      <td>education</td>\n",
       "      <td>высшее</td>\n",
       "      <td>5228</td>\n",
       "      <td>24.49</td>\n",
       "      <td>4950</td>\n",
       "      <td>94.68</td>\n",
       "      <td>23.19</td>\n",
       "    </tr>\n",
       "    <tr>\n",
       "      <th>2</th>\n",
       "      <td>education</td>\n",
       "      <td>среднее</td>\n",
       "      <td>15091</td>\n",
       "      <td>70.69</td>\n",
       "      <td>13736</td>\n",
       "      <td>91.02</td>\n",
       "      <td>64.34</td>\n",
       "    </tr>\n",
       "    <tr>\n",
       "      <th>3</th>\n",
       "      <td>education</td>\n",
       "      <td>неоконченное высшее</td>\n",
       "      <td>741</td>\n",
       "      <td>3.47</td>\n",
       "      <td>673</td>\n",
       "      <td>90.82</td>\n",
       "      <td>3.15</td>\n",
       "    </tr>\n",
       "    <tr>\n",
       "      <th>4</th>\n",
       "      <td>education</td>\n",
       "      <td>начальное</td>\n",
       "      <td>282</td>\n",
       "      <td>1.32</td>\n",
       "      <td>251</td>\n",
       "      <td>89.01</td>\n",
       "      <td>1.18</td>\n",
       "    </tr>\n",
       "  </tbody>\n",
       "</table>\n",
       "</div>"
      ],
      "text/plain": [
       "  категория         подкатегория    кол-во в подкатегории    % от всех     \\\n",
       "0   education       ученая степень                        6          0.03   \n",
       "1   education               высшее                     5228         24.49   \n",
       "2   education              среднее                    15091         70.69   \n",
       "3   education  неоконченное высшее                      741          3.47   \n",
       "4   education            начальное                      282          1.32   \n",
       "\n",
       "   выплата в срок, чел     выплата в срок,  % в подкатегории     \\\n",
       "0                       6                                100.00   \n",
       "1                    4950                                 94.68   \n",
       "2                   13736                                 91.02   \n",
       "3                     673                                 90.82   \n",
       "4                     251                                 89.01   \n",
       "\n",
       "   выплата в срок,  % от всех    \n",
       "0                          0.03  \n",
       "1                         23.19  \n",
       "2                         64.34  \n",
       "3                          3.15  \n",
       "4                          1.18  "
      ]
     },
     "execution_count": 38,
     "metadata": {},
     "output_type": "execute_result"
    },
    {
     "data": {
      "image/png": "[encoded data removed]",
      "text/plain": [
       "<Figure size 432x288 with 1 Axes>"
      ]
     },
     "metadata": {
      "needs_background": "light"
     },
     "output_type": "display_data"
    }
   ],
   "source": [
    "# вызов функции  'category_factor' с параметрами:\n",
    "# столбец - \n",
    "# сортировка по столбцу отчета (1..6)\n",
    "# направление сортировки (1-по возрастанию, 0- по убыванию)\n",
    "\n",
    "report=category_factor('education',5,0)\n",
    "report"
   ]
  },
  {
   "cell_type": "code",
   "execution_count": null,
   "id": "79626d93",
   "metadata": {},
   "outputs": [],
   "source": []
  },
  {
   "cell_type": "markdown",
   "id": "645e6e28",
   "metadata": {},
   "source": [
    "Сравнение с учетом количества."
   ]
  },
  {
   "cell_type": "code",
   "execution_count": 39,
   "id": "7aa02696",
   "metadata": {},
   "outputs": [
    {
     "name": "stdout",
     "output_type": "stream",
     "text": [
      "Количество всех заемщиков 21348,    количество надежных заемщиков  19616, процент возврата в целом  91.89 %\n",
      "Столбец сортировки отчета:    выплата в срок,  % от всех  ,   направление сортировки- по убыванию\n"
     ]
    },
    {
     "data": {
      "text/html": [
       "<div>\n",
       "<style scoped>\n",
       "    .dataframe tbody tr th:only-of-type {\n",
       "        vertical-align: middle;\n",
       "    }\n",
       "\n",
       "    .dataframe tbody tr th {\n",
       "        vertical-align: top;\n",
       "    }\n",
       "\n",
       "    .dataframe thead th {\n",
       "        text-align: right;\n",
       "    }\n",
       "</style>\n",
       "<table border=\"1\" class=\"dataframe\">\n",
       "  <thead>\n",
       "    <tr style=\"text-align: right;\">\n",
       "      <th></th>\n",
       "      <th>категория</th>\n",
       "      <th>подкатегория</th>\n",
       "      <th>кол-во в подкатегории</th>\n",
       "      <th>% от всех</th>\n",
       "      <th>выплата в срок, чел</th>\n",
       "      <th>выплата в срок,  % в подкатегории</th>\n",
       "      <th>выплата в срок,  % от всех</th>\n",
       "    </tr>\n",
       "  </thead>\n",
       "  <tbody>\n",
       "    <tr>\n",
       "      <th>0</th>\n",
       "      <td>education</td>\n",
       "      <td>среднее</td>\n",
       "      <td>15091</td>\n",
       "      <td>70.69</td>\n",
       "      <td>13736</td>\n",
       "      <td>91.02</td>\n",
       "      <td>64.34</td>\n",
       "    </tr>\n",
       "    <tr>\n",
       "      <th>1</th>\n",
       "      <td>education</td>\n",
       "      <td>высшее</td>\n",
       "      <td>5228</td>\n",
       "      <td>24.49</td>\n",
       "      <td>4950</td>\n",
       "      <td>94.68</td>\n",
       "      <td>23.19</td>\n",
       "    </tr>\n",
       "    <tr>\n",
       "      <th>2</th>\n",
       "      <td>education</td>\n",
       "      <td>неоконченное высшее</td>\n",
       "      <td>741</td>\n",
       "      <td>3.47</td>\n",
       "      <td>673</td>\n",
       "      <td>90.82</td>\n",
       "      <td>3.15</td>\n",
       "    </tr>\n",
       "    <tr>\n",
       "      <th>3</th>\n",
       "      <td>education</td>\n",
       "      <td>начальное</td>\n",
       "      <td>282</td>\n",
       "      <td>1.32</td>\n",
       "      <td>251</td>\n",
       "      <td>89.01</td>\n",
       "      <td>1.18</td>\n",
       "    </tr>\n",
       "    <tr>\n",
       "      <th>4</th>\n",
       "      <td>education</td>\n",
       "      <td>ученая степень</td>\n",
       "      <td>6</td>\n",
       "      <td>0.03</td>\n",
       "      <td>6</td>\n",
       "      <td>100.00</td>\n",
       "      <td>0.03</td>\n",
       "    </tr>\n",
       "  </tbody>\n",
       "</table>\n",
       "</div>"
      ],
      "text/plain": [
       "  категория         подкатегория    кол-во в подкатегории    % от всех     \\\n",
       "0   education              среднее                    15091         70.69   \n",
       "1   education               высшее                     5228         24.49   \n",
       "2   education  неоконченное высшее                      741          3.47   \n",
       "3   education            начальное                      282          1.32   \n",
       "4   education       ученая степень                        6          0.03   \n",
       "\n",
       "   выплата в срок, чел     выплата в срок,  % в подкатегории     \\\n",
       "0                   13736                                 91.02   \n",
       "1                    4950                                 94.68   \n",
       "2                     673                                 90.82   \n",
       "3                     251                                 89.01   \n",
       "4                       6                                100.00   \n",
       "\n",
       "   выплата в срок,  % от всех    \n",
       "0                         64.34  \n",
       "1                         23.19  \n",
       "2                          3.15  \n",
       "3                          1.18  \n",
       "4                          0.03  "
      ]
     },
     "execution_count": 39,
     "metadata": {},
     "output_type": "execute_result"
    },
    {
     "data": {
      "image/png": "[encoded data removed]",
      "text/plain": [
       "<Figure size 432x288 with 1 Axes>"
      ]
     },
     "metadata": {
      "needs_background": "light"
     },
     "output_type": "display_data"
    }
   ],
   "source": [
    "# вызов функции  'category_factor' с параметрами:\n",
    "# столбец - \n",
    "# сортировка по столбцу отчета (1..6)\n",
    "# направление сортировки (1-по возрастанию, 0- по убыванию)\n",
    "\n",
    "report=category_factor('education',6,0)\n",
    "report"
   ]
  },
  {
   "cell_type": "markdown",
   "id": "50f4b46b",
   "metadata": {},
   "source": [
    "**Вывод:**\n",
    "\n",
    "Лучшим в сравнении по категории будет заемщик с ученой степенью.  Но количественный учет показывает, что надежные заемщики с ученой степенью практически не влияют на общие результаты (0,03% от всех заемщиков).\n",
    "\n",
    "Если не учитывать заемщика с ученой степенью в сравнении по категории и в количествено сравнении, то картина меняется:\n",
    "лучшим/ худшим в категори будут заемщики с высшим и начальным образованием соответственно.\n",
    "При количественном сравнении лучшим/худшим становятся  заемщики со средним и начальным образованием соответственно.\n",
    "\n",
    "Отдельно стоит отметить количественный состав заемщиков: среднее образование у 70,69 %, высшее- у 24,49 % , остальные составляют менее 5%."
   ]
  },
  {
   "cell_type": "markdown",
   "id": "beb138ba",
   "metadata": {},
   "source": [
    "  "
   ]
  },
  {
   "cell_type": "markdown",
   "id": "1fc283dc",
   "metadata": {},
   "source": [
    "**Задание 25. Как возраст заемщика влияет на  возврат кредита в срок?**"
   ]
  },
  {
   "cell_type": "markdown",
   "id": "ecdc8dec",
   "metadata": {},
   "source": [
    "Сперва необходимо категоризировать возраст заемщика по следующим диапазонам:\n",
    "1. `'children-18 '`    - дети до 18 лет \n",
    "2. `'adults-18-29'`   - взрослые от 18  до 29 лет включительно\n",
    "3. `'adults-30-49'`   - взрослые от 30 до 49 лет включительно\n",
    "4. `'adults-50-64'`   - взрослые от 50 до 64 лет включительно\n",
    "5. `'retires_65  '`     - взрослые пенсионеры от 65 лет включительно"
   ]
  },
  {
   "cell_type": "code",
   "execution_count": 40,
   "id": "8322cf61",
   "metadata": {},
   "outputs": [],
   "source": [
    "def categorize_age(income):\n",
    "    try:\n",
    "        if 0 <= income < 18:\n",
    "            return 'children-18'\n",
    "        elif 18 <= income <30:\n",
    "            return 'adults-18-29'\n",
    "        elif 30 <= income < 50:\n",
    "            return 'adults-30-49'\n",
    "        elif 50 <= income < 65:\n",
    "            return 'adults-50-64'\n",
    "        elif income >= 65:\n",
    "            return 'retires_65'\n",
    "    except:\n",
    "        pass\n",
    "    "
   ]
  },
  {
   "cell_type": "code",
   "execution_count": 41,
   "id": "ade60e9e",
   "metadata": {},
   "outputs": [],
   "source": [
    "data['age_category'] = data['dob_years'].apply(categorize_age)"
   ]
  },
  {
   "cell_type": "markdown",
   "id": "e6a2281d",
   "metadata": {},
   "source": [
    " "
   ]
  },
  {
   "cell_type": "markdown",
   "id": "662f915a",
   "metadata": {},
   "source": [
    "Количественный обзор."
   ]
  },
  {
   "cell_type": "code",
   "execution_count": 42,
   "id": "2c3198c3",
   "metadata": {},
   "outputs": [
    {
     "name": "stdout",
     "output_type": "stream",
     "text": [
      "Количество всех заемщиков 21348,    количество надежных заемщиков  19616, процент возврата в целом  91.89 %\n",
      "Столбец сортировки отчета:    % от всех   ,   направление сортировки- по убыванию\n"
     ]
    },
    {
     "data": {
      "text/html": [
       "<div>\n",
       "<style scoped>\n",
       "    .dataframe tbody tr th:only-of-type {\n",
       "        vertical-align: middle;\n",
       "    }\n",
       "\n",
       "    .dataframe tbody tr th {\n",
       "        vertical-align: top;\n",
       "    }\n",
       "\n",
       "    .dataframe thead th {\n",
       "        text-align: right;\n",
       "    }\n",
       "</style>\n",
       "<table border=\"1\" class=\"dataframe\">\n",
       "  <thead>\n",
       "    <tr style=\"text-align: right;\">\n",
       "      <th></th>\n",
       "      <th>категория</th>\n",
       "      <th>подкатегория</th>\n",
       "      <th>кол-во в подкатегории</th>\n",
       "      <th>% от всех</th>\n",
       "      <th>выплата в срок, чел</th>\n",
       "      <th>выплата в срок,  % в подкатегории</th>\n",
       "      <th>выплата в срок,  % от всех</th>\n",
       "    </tr>\n",
       "  </thead>\n",
       "  <tbody>\n",
       "    <tr>\n",
       "      <th>0</th>\n",
       "      <td>age_category</td>\n",
       "      <td>adults-30-49</td>\n",
       "      <td>10948</td>\n",
       "      <td>51.28</td>\n",
       "      <td>9999</td>\n",
       "      <td>91.33</td>\n",
       "      <td>46.84</td>\n",
       "    </tr>\n",
       "    <tr>\n",
       "      <th>1</th>\n",
       "      <td>age_category</td>\n",
       "      <td>adults-50-64</td>\n",
       "      <td>6237</td>\n",
       "      <td>29.22</td>\n",
       "      <td>5860</td>\n",
       "      <td>93.96</td>\n",
       "      <td>27.45</td>\n",
       "    </tr>\n",
       "    <tr>\n",
       "      <th>2</th>\n",
       "      <td>age_category</td>\n",
       "      <td>adults-18-29</td>\n",
       "      <td>3167</td>\n",
       "      <td>14.84</td>\n",
       "      <td>2818</td>\n",
       "      <td>88.98</td>\n",
       "      <td>13.20</td>\n",
       "    </tr>\n",
       "    <tr>\n",
       "      <th>3</th>\n",
       "      <td>age_category</td>\n",
       "      <td>retires_65</td>\n",
       "      <td>896</td>\n",
       "      <td>4.20</td>\n",
       "      <td>847</td>\n",
       "      <td>94.53</td>\n",
       "      <td>3.97</td>\n",
       "    </tr>\n",
       "    <tr>\n",
       "      <th>4</th>\n",
       "      <td>age_category</td>\n",
       "      <td>children-18</td>\n",
       "      <td>100</td>\n",
       "      <td>0.47</td>\n",
       "      <td>92</td>\n",
       "      <td>92.00</td>\n",
       "      <td>0.43</td>\n",
       "    </tr>\n",
       "  </tbody>\n",
       "</table>\n",
       "</div>"
      ],
      "text/plain": [
       "    категория   подкатегория    кол-во в подкатегории    % от всех     \\\n",
       "0  age_category   adults-30-49                    10948         51.28   \n",
       "1  age_category   adults-50-64                     6237         29.22   \n",
       "2  age_category   adults-18-29                     3167         14.84   \n",
       "3  age_category     retires_65                      896          4.20   \n",
       "4  age_category    children-18                      100          0.47   \n",
       "\n",
       "   выплата в срок, чел     выплата в срок,  % в подкатегории     \\\n",
       "0                    9999                                 91.33   \n",
       "1                    5860                                 93.96   \n",
       "2                    2818                                 88.98   \n",
       "3                     847                                 94.53   \n",
       "4                      92                                 92.00   \n",
       "\n",
       "   выплата в срок,  % от всех    \n",
       "0                         46.84  \n",
       "1                         27.45  \n",
       "2                         13.20  \n",
       "3                          3.97  \n",
       "4                          0.43  "
      ]
     },
     "execution_count": 42,
     "metadata": {},
     "output_type": "execute_result"
    },
    {
     "data": {
      "image/png": "[encoded data removed]",
      "text/plain": [
       "<Figure size 432x288 with 1 Axes>"
      ]
     },
     "metadata": {
      "needs_background": "light"
     },
     "output_type": "display_data"
    }
   ],
   "source": [
    "# вызов функции  'category_factor' с параметрами:\n",
    "# столбец - \n",
    "# сортировка по столбцу отчета (1..6)\n",
    "# направление сортировки (1-по возрастанию, 0- по убыванию)\n",
    "\n",
    "report=category_factor('age_category',3,0)\n",
    "report"
   ]
  },
  {
   "cell_type": "markdown",
   "id": "68bf73c8",
   "metadata": {},
   "source": [
    "Сравнение по категории."
   ]
  },
  {
   "cell_type": "code",
   "execution_count": 43,
   "id": "e39d7335",
   "metadata": {},
   "outputs": [
    {
     "name": "stdout",
     "output_type": "stream",
     "text": [
      "Количество всех заемщиков 21348,    количество надежных заемщиков  19616, процент возврата в целом  91.89 %\n",
      "Столбец сортировки отчета:    выплата в срок,  % в подкатегории   ,   направление сортировки- по убыванию\n"
     ]
    },
    {
     "data": {
      "text/html": [
       "<div>\n",
       "<style scoped>\n",
       "    .dataframe tbody tr th:only-of-type {\n",
       "        vertical-align: middle;\n",
       "    }\n",
       "\n",
       "    .dataframe tbody tr th {\n",
       "        vertical-align: top;\n",
       "    }\n",
       "\n",
       "    .dataframe thead th {\n",
       "        text-align: right;\n",
       "    }\n",
       "</style>\n",
       "<table border=\"1\" class=\"dataframe\">\n",
       "  <thead>\n",
       "    <tr style=\"text-align: right;\">\n",
       "      <th></th>\n",
       "      <th>категория</th>\n",
       "      <th>подкатегория</th>\n",
       "      <th>кол-во в подкатегории</th>\n",
       "      <th>% от всех</th>\n",
       "      <th>выплата в срок, чел</th>\n",
       "      <th>выплата в срок,  % в подкатегории</th>\n",
       "      <th>выплата в срок,  % от всех</th>\n",
       "    </tr>\n",
       "  </thead>\n",
       "  <tbody>\n",
       "    <tr>\n",
       "      <th>0</th>\n",
       "      <td>age_category</td>\n",
       "      <td>retires_65</td>\n",
       "      <td>896</td>\n",
       "      <td>4.20</td>\n",
       "      <td>847</td>\n",
       "      <td>94.53</td>\n",
       "      <td>3.97</td>\n",
       "    </tr>\n",
       "    <tr>\n",
       "      <th>1</th>\n",
       "      <td>age_category</td>\n",
       "      <td>adults-50-64</td>\n",
       "      <td>6237</td>\n",
       "      <td>29.22</td>\n",
       "      <td>5860</td>\n",
       "      <td>93.96</td>\n",
       "      <td>27.45</td>\n",
       "    </tr>\n",
       "    <tr>\n",
       "      <th>2</th>\n",
       "      <td>age_category</td>\n",
       "      <td>children-18</td>\n",
       "      <td>100</td>\n",
       "      <td>0.47</td>\n",
       "      <td>92</td>\n",
       "      <td>92.00</td>\n",
       "      <td>0.43</td>\n",
       "    </tr>\n",
       "    <tr>\n",
       "      <th>3</th>\n",
       "      <td>age_category</td>\n",
       "      <td>adults-30-49</td>\n",
       "      <td>10948</td>\n",
       "      <td>51.28</td>\n",
       "      <td>9999</td>\n",
       "      <td>91.33</td>\n",
       "      <td>46.84</td>\n",
       "    </tr>\n",
       "    <tr>\n",
       "      <th>4</th>\n",
       "      <td>age_category</td>\n",
       "      <td>adults-18-29</td>\n",
       "      <td>3167</td>\n",
       "      <td>14.84</td>\n",
       "      <td>2818</td>\n",
       "      <td>88.98</td>\n",
       "      <td>13.20</td>\n",
       "    </tr>\n",
       "  </tbody>\n",
       "</table>\n",
       "</div>"
      ],
      "text/plain": [
       "    категория   подкатегория    кол-во в подкатегории    % от всех     \\\n",
       "0  age_category     retires_65                      896          4.20   \n",
       "1  age_category   adults-50-64                     6237         29.22   \n",
       "2  age_category    children-18                      100          0.47   \n",
       "3  age_category   adults-30-49                    10948         51.28   \n",
       "4  age_category   adults-18-29                     3167         14.84   \n",
       "\n",
       "   выплата в срок, чел     выплата в срок,  % в подкатегории     \\\n",
       "0                     847                                 94.53   \n",
       "1                    5860                                 93.96   \n",
       "2                      92                                 92.00   \n",
       "3                    9999                                 91.33   \n",
       "4                    2818                                 88.98   \n",
       "\n",
       "   выплата в срок,  % от всех    \n",
       "0                          3.97  \n",
       "1                         27.45  \n",
       "2                          0.43  \n",
       "3                         46.84  \n",
       "4                         13.20  "
      ]
     },
     "execution_count": 43,
     "metadata": {},
     "output_type": "execute_result"
    },
    {
     "data": {
      "image/png": "[encoded data removed]",
      "text/plain": [
       "<Figure size 432x288 with 1 Axes>"
      ]
     },
     "metadata": {
      "needs_background": "light"
     },
     "output_type": "display_data"
    }
   ],
   "source": [
    "# вызов функции  'category_factor' с параметрами:\n",
    "# столбец - \n",
    "# сортировка по столбцу отчета (1..6)\n",
    "# направление сортировки (1-по возрастанию, 0- по убыванию)\n",
    "\n",
    "report=category_factor('age_category',5,0)\n",
    "report"
   ]
  },
  {
   "cell_type": "markdown",
   "id": "b10e766e",
   "metadata": {},
   "source": [
    "Сравнение с учетом количества."
   ]
  },
  {
   "cell_type": "code",
   "execution_count": 44,
   "id": "8b836e7c",
   "metadata": {},
   "outputs": [
    {
     "name": "stdout",
     "output_type": "stream",
     "text": [
      "Количество всех заемщиков 21348,    количество надежных заемщиков  19616, процент возврата в целом  91.89 %\n",
      "Столбец сортировки отчета:    выплата в срок,  % от всех  ,   направление сортировки- по убыванию\n"
     ]
    },
    {
     "data": {
      "text/html": [
       "<div>\n",
       "<style scoped>\n",
       "    .dataframe tbody tr th:only-of-type {\n",
       "        vertical-align: middle;\n",
       "    }\n",
       "\n",
       "    .dataframe tbody tr th {\n",
       "        vertical-align: top;\n",
       "    }\n",
       "\n",
       "    .dataframe thead th {\n",
       "        text-align: right;\n",
       "    }\n",
       "</style>\n",
       "<table border=\"1\" class=\"dataframe\">\n",
       "  <thead>\n",
       "    <tr style=\"text-align: right;\">\n",
       "      <th></th>\n",
       "      <th>категория</th>\n",
       "      <th>подкатегория</th>\n",
       "      <th>кол-во в подкатегории</th>\n",
       "      <th>% от всех</th>\n",
       "      <th>выплата в срок, чел</th>\n",
       "      <th>выплата в срок,  % в подкатегории</th>\n",
       "      <th>выплата в срок,  % от всех</th>\n",
       "    </tr>\n",
       "  </thead>\n",
       "  <tbody>\n",
       "    <tr>\n",
       "      <th>0</th>\n",
       "      <td>age_category</td>\n",
       "      <td>adults-30-49</td>\n",
       "      <td>10948</td>\n",
       "      <td>51.28</td>\n",
       "      <td>9999</td>\n",
       "      <td>91.33</td>\n",
       "      <td>46.84</td>\n",
       "    </tr>\n",
       "    <tr>\n",
       "      <th>1</th>\n",
       "      <td>age_category</td>\n",
       "      <td>adults-50-64</td>\n",
       "      <td>6237</td>\n",
       "      <td>29.22</td>\n",
       "      <td>5860</td>\n",
       "      <td>93.96</td>\n",
       "      <td>27.45</td>\n",
       "    </tr>\n",
       "    <tr>\n",
       "      <th>2</th>\n",
       "      <td>age_category</td>\n",
       "      <td>adults-18-29</td>\n",
       "      <td>3167</td>\n",
       "      <td>14.84</td>\n",
       "      <td>2818</td>\n",
       "      <td>88.98</td>\n",
       "      <td>13.20</td>\n",
       "    </tr>\n",
       "    <tr>\n",
       "      <th>3</th>\n",
       "      <td>age_category</td>\n",
       "      <td>retires_65</td>\n",
       "      <td>896</td>\n",
       "      <td>4.20</td>\n",
       "      <td>847</td>\n",
       "      <td>94.53</td>\n",
       "      <td>3.97</td>\n",
       "    </tr>\n",
       "    <tr>\n",
       "      <th>4</th>\n",
       "      <td>age_category</td>\n",
       "      <td>children-18</td>\n",
       "      <td>100</td>\n",
       "      <td>0.47</td>\n",
       "      <td>92</td>\n",
       "      <td>92.00</td>\n",
       "      <td>0.43</td>\n",
       "    </tr>\n",
       "  </tbody>\n",
       "</table>\n",
       "</div>"
      ],
      "text/plain": [
       "    категория   подкатегория    кол-во в подкатегории    % от всех     \\\n",
       "0  age_category   adults-30-49                    10948         51.28   \n",
       "1  age_category   adults-50-64                     6237         29.22   \n",
       "2  age_category   adults-18-29                     3167         14.84   \n",
       "3  age_category     retires_65                      896          4.20   \n",
       "4  age_category    children-18                      100          0.47   \n",
       "\n",
       "   выплата в срок, чел     выплата в срок,  % в подкатегории     \\\n",
       "0                    9999                                 91.33   \n",
       "1                    5860                                 93.96   \n",
       "2                    2818                                 88.98   \n",
       "3                     847                                 94.53   \n",
       "4                      92                                 92.00   \n",
       "\n",
       "   выплата в срок,  % от всех    \n",
       "0                         46.84  \n",
       "1                         27.45  \n",
       "2                         13.20  \n",
       "3                          3.97  \n",
       "4                          0.43  "
      ]
     },
     "execution_count": 44,
     "metadata": {},
     "output_type": "execute_result"
    },
    {
     "data": {
      "image/png": "[encoded data removed]",
      "text/plain": [
       "<Figure size 432x288 with 1 Axes>"
      ]
     },
     "metadata": {
      "needs_background": "light"
     },
     "output_type": "display_data"
    }
   ],
   "source": [
    "# вызов функции  'category_factor' с параметрами:\n",
    "# столбец - \n",
    "# сортировка по столбцу отчета (1..6)\n",
    "# направление сортировки (1-по возрастанию, 0- по убыванию)\n",
    "\n",
    "report=category_factor('age_category',6,0)\n",
    "report"
   ]
  },
  {
   "cell_type": "markdown",
   "id": "65b277dd",
   "metadata": {},
   "source": [
    "**Вывод:**\n",
    "\n",
    "В сравнении по категории лучшими/худшими являются пенсионеры (от 65) и  молодежь (до 30 лет). Дети занимают середину рейтинга.\n",
    "\n",
    "Но учет количества меняет картину. Дети и пенсионеры составляют вместе меньше 5% от всех заемщиков. Среди остальных лидируют взрослые в возрасте 30-49 лет. На  них  приходится 46,84% выплат всех кредитов вовремя. Менее ответственная молодежь показывает 13,2 %  возвратов от всех кредитов."
   ]
  },
  {
   "cell_type": "markdown",
   "id": "93c8f005",
   "metadata": {},
   "source": [
    "  "
   ]
  },
  {
   "cell_type": "markdown",
   "id": "f09084f2",
   "metadata": {},
   "source": [
    "**Задание 26. Как тип занятости заемщика влияет на  возврат кредита в срок?**"
   ]
  },
  {
   "cell_type": "markdown",
   "id": "6f591c56",
   "metadata": {},
   "source": [
    "Сравнение по категории."
   ]
  },
  {
   "cell_type": "code",
   "execution_count": 45,
   "id": "c7f6be2a",
   "metadata": {},
   "outputs": [
    {
     "name": "stdout",
     "output_type": "stream",
     "text": [
      "Количество всех заемщиков 21348,    количество надежных заемщиков  19616, процент возврата в целом  91.89 %\n",
      "Столбец сортировки отчета:    выплата в срок,  % в подкатегории   ,   направление сортировки- по убыванию\n"
     ]
    },
    {
     "data": {
      "text/html": [
       "<div>\n",
       "<style scoped>\n",
       "    .dataframe tbody tr th:only-of-type {\n",
       "        vertical-align: middle;\n",
       "    }\n",
       "\n",
       "    .dataframe tbody tr th {\n",
       "        vertical-align: top;\n",
       "    }\n",
       "\n",
       "    .dataframe thead th {\n",
       "        text-align: right;\n",
       "    }\n",
       "</style>\n",
       "<table border=\"1\" class=\"dataframe\">\n",
       "  <thead>\n",
       "    <tr style=\"text-align: right;\">\n",
       "      <th></th>\n",
       "      <th>категория</th>\n",
       "      <th>подкатегория</th>\n",
       "      <th>кол-во в подкатегории</th>\n",
       "      <th>% от всех</th>\n",
       "      <th>выплата в срок, чел</th>\n",
       "      <th>выплата в срок,  % в подкатегории</th>\n",
       "      <th>выплата в срок,  % от всех</th>\n",
       "    </tr>\n",
       "  </thead>\n",
       "  <tbody>\n",
       "    <tr>\n",
       "      <th>0</th>\n",
       "      <td>income_type</td>\n",
       "      <td>предприниматель</td>\n",
       "      <td>2</td>\n",
       "      <td>0.01</td>\n",
       "      <td>2</td>\n",
       "      <td>100.00</td>\n",
       "      <td>0.01</td>\n",
       "    </tr>\n",
       "    <tr>\n",
       "      <th>1</th>\n",
       "      <td>income_type</td>\n",
       "      <td>студент</td>\n",
       "      <td>1</td>\n",
       "      <td>0.00</td>\n",
       "      <td>1</td>\n",
       "      <td>100.00</td>\n",
       "      <td>0.00</td>\n",
       "    </tr>\n",
       "    <tr>\n",
       "      <th>2</th>\n",
       "      <td>income_type</td>\n",
       "      <td>пенсионер</td>\n",
       "      <td>3820</td>\n",
       "      <td>17.89</td>\n",
       "      <td>3604</td>\n",
       "      <td>94.35</td>\n",
       "      <td>16.88</td>\n",
       "    </tr>\n",
       "    <tr>\n",
       "      <th>3</th>\n",
       "      <td>income_type</td>\n",
       "      <td>госслужащий</td>\n",
       "      <td>1451</td>\n",
       "      <td>6.80</td>\n",
       "      <td>1365</td>\n",
       "      <td>94.07</td>\n",
       "      <td>6.39</td>\n",
       "    </tr>\n",
       "    <tr>\n",
       "      <th>4</th>\n",
       "      <td>income_type</td>\n",
       "      <td>компаньон</td>\n",
       "      <td>5049</td>\n",
       "      <td>23.65</td>\n",
       "      <td>4675</td>\n",
       "      <td>92.59</td>\n",
       "      <td>21.90</td>\n",
       "    </tr>\n",
       "    <tr>\n",
       "      <th>5</th>\n",
       "      <td>income_type</td>\n",
       "      <td>сотрудник</td>\n",
       "      <td>11022</td>\n",
       "      <td>51.63</td>\n",
       "      <td>9968</td>\n",
       "      <td>90.44</td>\n",
       "      <td>46.69</td>\n",
       "    </tr>\n",
       "    <tr>\n",
       "      <th>6</th>\n",
       "      <td>income_type</td>\n",
       "      <td>безработный</td>\n",
       "      <td>2</td>\n",
       "      <td>0.01</td>\n",
       "      <td>1</td>\n",
       "      <td>50.00</td>\n",
       "      <td>0.00</td>\n",
       "    </tr>\n",
       "    <tr>\n",
       "      <th>7</th>\n",
       "      <td>income_type</td>\n",
       "      <td>в декрете</td>\n",
       "      <td>1</td>\n",
       "      <td>0.00</td>\n",
       "      <td>0</td>\n",
       "      <td>0.00</td>\n",
       "      <td>0.00</td>\n",
       "    </tr>\n",
       "  </tbody>\n",
       "</table>\n",
       "</div>"
      ],
      "text/plain": [
       "   категория     подкатегория    кол-во в подкатегории    % от всех     \\\n",
       "0  income_type  предприниматель                        2          0.01   \n",
       "1  income_type          студент                        1          0.00   \n",
       "2  income_type        пенсионер                     3820         17.89   \n",
       "3  income_type      госслужащий                     1451          6.80   \n",
       "4  income_type        компаньон                     5049         23.65   \n",
       "5  income_type        сотрудник                    11022         51.63   \n",
       "6  income_type      безработный                        2          0.01   \n",
       "7  income_type        в декрете                        1          0.00   \n",
       "\n",
       "   выплата в срок, чел     выплата в срок,  % в подкатегории     \\\n",
       "0                       2                                100.00   \n",
       "1                       1                                100.00   \n",
       "2                    3604                                 94.35   \n",
       "3                    1365                                 94.07   \n",
       "4                    4675                                 92.59   \n",
       "5                    9968                                 90.44   \n",
       "6                       1                                 50.00   \n",
       "7                       0                                  0.00   \n",
       "\n",
       "   выплата в срок,  % от всех    \n",
       "0                          0.01  \n",
       "1                          0.00  \n",
       "2                         16.88  \n",
       "3                          6.39  \n",
       "4                         21.90  \n",
       "5                         46.69  \n",
       "6                          0.00  \n",
       "7                          0.00  "
      ]
     },
     "execution_count": 45,
     "metadata": {},
     "output_type": "execute_result"
    },
    {
     "data": {
      "image/png": "[encoded data removed]",
      "text/plain": [
       "<Figure size 432x288 with 1 Axes>"
      ]
     },
     "metadata": {
      "needs_background": "light"
     },
     "output_type": "display_data"
    }
   ],
   "source": [
    "# вызов функции  'category_factor' с параметрами:\n",
    "# столбец - \n",
    "# сортировка по столбцу отчета (1..6)\n",
    "# направление сортировки (1-по возрастанию, 0- по убыванию)\n",
    "\n",
    "report=category_factor('income_type',5,0)\n",
    "report"
   ]
  },
  {
   "cell_type": "markdown",
   "id": "b6d840a1",
   "metadata": {},
   "source": [
    "Сравнение с учетом количества."
   ]
  },
  {
   "cell_type": "code",
   "execution_count": 46,
   "id": "29694063",
   "metadata": {},
   "outputs": [
    {
     "name": "stdout",
     "output_type": "stream",
     "text": [
      "Количество всех заемщиков 21348,    количество надежных заемщиков  19616, процент возврата в целом  91.89 %\n",
      "Столбец сортировки отчета:    выплата в срок,  % от всех  ,   направление сортировки- по убыванию\n"
     ]
    },
    {
     "data": {
      "text/html": [
       "<div>\n",
       "<style scoped>\n",
       "    .dataframe tbody tr th:only-of-type {\n",
       "        vertical-align: middle;\n",
       "    }\n",
       "\n",
       "    .dataframe tbody tr th {\n",
       "        vertical-align: top;\n",
       "    }\n",
       "\n",
       "    .dataframe thead th {\n",
       "        text-align: right;\n",
       "    }\n",
       "</style>\n",
       "<table border=\"1\" class=\"dataframe\">\n",
       "  <thead>\n",
       "    <tr style=\"text-align: right;\">\n",
       "      <th></th>\n",
       "      <th>категория</th>\n",
       "      <th>подкатегория</th>\n",
       "      <th>кол-во в подкатегории</th>\n",
       "      <th>% от всех</th>\n",
       "      <th>выплата в срок, чел</th>\n",
       "      <th>выплата в срок,  % в подкатегории</th>\n",
       "      <th>выплата в срок,  % от всех</th>\n",
       "    </tr>\n",
       "  </thead>\n",
       "  <tbody>\n",
       "    <tr>\n",
       "      <th>0</th>\n",
       "      <td>income_type</td>\n",
       "      <td>сотрудник</td>\n",
       "      <td>11022</td>\n",
       "      <td>51.63</td>\n",
       "      <td>9968</td>\n",
       "      <td>90.44</td>\n",
       "      <td>46.69</td>\n",
       "    </tr>\n",
       "    <tr>\n",
       "      <th>1</th>\n",
       "      <td>income_type</td>\n",
       "      <td>компаньон</td>\n",
       "      <td>5049</td>\n",
       "      <td>23.65</td>\n",
       "      <td>4675</td>\n",
       "      <td>92.59</td>\n",
       "      <td>21.90</td>\n",
       "    </tr>\n",
       "    <tr>\n",
       "      <th>2</th>\n",
       "      <td>income_type</td>\n",
       "      <td>пенсионер</td>\n",
       "      <td>3820</td>\n",
       "      <td>17.89</td>\n",
       "      <td>3604</td>\n",
       "      <td>94.35</td>\n",
       "      <td>16.88</td>\n",
       "    </tr>\n",
       "    <tr>\n",
       "      <th>3</th>\n",
       "      <td>income_type</td>\n",
       "      <td>госслужащий</td>\n",
       "      <td>1451</td>\n",
       "      <td>6.80</td>\n",
       "      <td>1365</td>\n",
       "      <td>94.07</td>\n",
       "      <td>6.39</td>\n",
       "    </tr>\n",
       "    <tr>\n",
       "      <th>4</th>\n",
       "      <td>income_type</td>\n",
       "      <td>предприниматель</td>\n",
       "      <td>2</td>\n",
       "      <td>0.01</td>\n",
       "      <td>2</td>\n",
       "      <td>100.00</td>\n",
       "      <td>0.01</td>\n",
       "    </tr>\n",
       "    <tr>\n",
       "      <th>5</th>\n",
       "      <td>income_type</td>\n",
       "      <td>безработный</td>\n",
       "      <td>2</td>\n",
       "      <td>0.01</td>\n",
       "      <td>1</td>\n",
       "      <td>50.00</td>\n",
       "      <td>0.00</td>\n",
       "    </tr>\n",
       "    <tr>\n",
       "      <th>6</th>\n",
       "      <td>income_type</td>\n",
       "      <td>студент</td>\n",
       "      <td>1</td>\n",
       "      <td>0.00</td>\n",
       "      <td>1</td>\n",
       "      <td>100.00</td>\n",
       "      <td>0.00</td>\n",
       "    </tr>\n",
       "    <tr>\n",
       "      <th>7</th>\n",
       "      <td>income_type</td>\n",
       "      <td>в декрете</td>\n",
       "      <td>1</td>\n",
       "      <td>0.00</td>\n",
       "      <td>0</td>\n",
       "      <td>0.00</td>\n",
       "      <td>0.00</td>\n",
       "    </tr>\n",
       "  </tbody>\n",
       "</table>\n",
       "</div>"
      ],
      "text/plain": [
       "   категория     подкатегория    кол-во в подкатегории    % от всех     \\\n",
       "0  income_type        сотрудник                    11022         51.63   \n",
       "1  income_type        компаньон                     5049         23.65   \n",
       "2  income_type        пенсионер                     3820         17.89   \n",
       "3  income_type      госслужащий                     1451          6.80   \n",
       "4  income_type  предприниматель                        2          0.01   \n",
       "5  income_type      безработный                        2          0.01   \n",
       "6  income_type          студент                        1          0.00   \n",
       "7  income_type        в декрете                        1          0.00   \n",
       "\n",
       "   выплата в срок, чел     выплата в срок,  % в подкатегории     \\\n",
       "0                    9968                                 90.44   \n",
       "1                    4675                                 92.59   \n",
       "2                    3604                                 94.35   \n",
       "3                    1365                                 94.07   \n",
       "4                       2                                100.00   \n",
       "5                       1                                 50.00   \n",
       "6                       1                                100.00   \n",
       "7                       0                                  0.00   \n",
       "\n",
       "   выплата в срок,  % от всех    \n",
       "0                         46.69  \n",
       "1                         21.90  \n",
       "2                         16.88  \n",
       "3                          6.39  \n",
       "4                          0.01  \n",
       "5                          0.00  \n",
       "6                          0.00  \n",
       "7                          0.00  "
      ]
     },
     "execution_count": 46,
     "metadata": {},
     "output_type": "execute_result"
    },
    {
     "data": {
      "image/png": "[encoded data removed]",
      "text/plain": [
       "<Figure size 432x288 with 1 Axes>"
      ]
     },
     "metadata": {
      "needs_background": "light"
     },
     "output_type": "display_data"
    }
   ],
   "source": [
    "# вызов функции  'category_factor' с параметрами:\n",
    "# столбец - \n",
    "# сортировка по столбцу отчета (1..6)\n",
    "# направление сортировки (1-по возрастанию, 0- по убыванию)\n",
    "\n",
    "report=category_factor('income_type',6,0)\n",
    "report"
   ]
  },
  {
   "cell_type": "markdown",
   "id": "41dd5b08",
   "metadata": {},
   "source": [
    "**Вывод:**\n",
    "в сравнении по категориям  лучшими являются предпринимтаели и студенты, худшими - безработные и в декрете.  Но тех и других пренебрежимо мало по сравнению с остальными.  Если их исключить из выборки, то  лучшим/худшим заемщиком будут пенсионер и сотрудник соответственно.\n",
    "\n",
    "Если смотреть влияние на общую массу выплат, то сотрудники создают 46,69% выплат кредитов от общего их количества. "
   ]
  },
  {
   "cell_type": "markdown",
   "id": "d45e4ae1",
   "metadata": {},
   "source": [
    "  "
   ]
  },
  {
   "cell_type": "markdown",
   "id": "09c3ac4c",
   "metadata": {
    "deletable": false,
    "editable": false,
    "id": "09c3ac4c"
   },
   "source": [
    "**Задание 23. Приведите возможные причины появления пропусков в исходных данных.**"
   ]
  },
  {
   "cell_type": "markdown",
   "id": "9da2ceda",
   "metadata": {
    "deletable": false,
    "id": "9da2ceda"
   },
   "source": [
    "Применительно к  датасету настоящего исследования можно выделить следующие причины пропусков данных.\n",
    "1. Неверно указанные данные при анкетировании заемщика.\n",
    "2. Заведомо пропущенные данные при анкетировании заемщика.\n",
    "3. Ошибки загрузки данных анкетирования в базу данных.\n",
    "4. Ошибки выгрузки данных из БД.\n"
   ]
  },
  {
   "cell_type": "markdown",
   "id": "7b0487d6",
   "metadata": {
    "deletable": false,
    "editable": false,
    "id": "7b0487d6"
   },
   "source": [
    "**Задание 24. Объясните, почему заполнить пропуски медианным значением — лучшее решение для количественных переменных.**"
   ]
  },
  {
   "cell_type": "markdown",
   "id": "7ecf2b8e",
   "metadata": {
    "deletable": false,
    "id": "7ecf2b8e"
   },
   "source": [
    "Не вполне согласен, что заполнение пропусков медианным значением- лучшее решение. Необходимо анализировать характер пропусков и причину их появления. \n",
    "Возможно, что пропущенные значения в действительности были нулевыми, минимальными или максимальными, а не медианными. Пропущенные данные в величине дохода заемщика могут говорить как об отсутствии дохода (для безработных), так и об уровне дохода, величину которого заемщик предпочитает не афишировать.\n",
    "В целом заполнение пропуска данных медианным значением для группы  позволит сохранить данные группы от выбросов значений, перекоса в значениях и,в целом, относительно корректно обработать данные всей группы не теряя отдельные строки из-за пропусков.  "
   ]
  },
  {
   "cell_type": "markdown",
   "id": "6db5255a",
   "metadata": {
    "deletable": false,
    "editable": false,
    "id": "6db5255a"
   },
   "source": [
    "## Общий вывод."
   ]
  },
  {
   "cell_type": "markdown",
   "id": "bad65432",
   "metadata": {
    "id": "bad65432"
   },
   "source": [
    "**Анализ по категориям выявляет *лучшего* заемщика со следующими признаками:**\n",
    " Вдовец с 5 детьми (или без детей), мужчина 65+, предпринимтель/пенсионер, с доходом 30 001-50 000, с ученой степенью или высшим образованием и кредитом на приобретение недвижимости.\n",
    "\n",
    "\n",
    "**Анализ по категориям выявляет *худшего*  заемщика со следующими признаками:**\n",
    "Незамужня женщина с 4 детьми, 18-29 лет, сотрудница с доходом 0-30 000, с начальным образованием и кредитом на автомобиль.\n",
    "\n",
    "\n",
    "\n",
    "\n",
    "**С точки зрения общего количества, наиболее влияющим на выплату кредитов вовремя будет заемщик:**\n",
    "Мужчина в браке, без детей, 30-49 дет, сотрудник с доходом 50 000- 200 000, со средним или высшим образованием и кредитом на приобретение недвижимости.\n",
    "\n",
    "\n",
    "\n",
    "Для более полной картины следует проверить величину кредита на вероятность его выплаты, а также влияение заемщиков с разными суммами кредитов на общую картину выплат.  Например, один безответственный заемщик с кредитом в 10 000 000 принесет больше убытков, чем доход от 100 добросовестных заемщиков по 10 000. \n",
    "Но этих данных в датасете нет  и такое исследование выходит за рамки настоящего проекта.\n",
    "\n"
   ]
  }
 ],
 "metadata": {
  "ExecuteTimeLog": [
   {
    "duration": 803,
    "start_time": "2022-07-14T09:00:11.217Z"
   },
   {
    "duration": 30,
    "start_time": "2022-07-14T09:00:12.022Z"
   },
   {
    "duration": 17,
    "start_time": "2022-07-14T09:00:12.055Z"
   },
   {
    "duration": 10,
    "start_time": "2022-07-14T09:00:12.075Z"
   },
   {
    "duration": 55,
    "start_time": "2022-07-14T09:00:12.089Z"
   },
   {
    "duration": 4,
    "start_time": "2022-07-14T09:00:12.146Z"
   },
   {
    "duration": 15,
    "start_time": "2022-07-14T09:00:12.153Z"
   },
   {
    "duration": 5,
    "start_time": "2022-07-14T09:00:12.170Z"
   },
   {
    "duration": 31,
    "start_time": "2022-07-14T09:00:12.177Z"
   },
   {
    "duration": 5,
    "start_time": "2022-07-14T09:00:12.210Z"
   },
   {
    "duration": 36,
    "start_time": "2022-07-14T09:00:12.217Z"
   },
   {
    "duration": 10,
    "start_time": "2022-07-14T09:00:12.255Z"
   },
   {
    "duration": 4,
    "start_time": "2022-07-14T09:00:12.267Z"
   },
   {
    "duration": 47,
    "start_time": "2022-07-14T09:00:12.273Z"
   },
   {
    "duration": 17,
    "start_time": "2022-07-14T09:00:12.321Z"
   },
   {
    "duration": 12,
    "start_time": "2022-07-14T09:00:12.339Z"
   },
   {
    "duration": 6,
    "start_time": "2022-07-14T09:00:12.352Z"
   },
   {
    "duration": 14,
    "start_time": "2022-07-14T09:00:12.359Z"
   },
   {
    "duration": 34,
    "start_time": "2022-07-14T09:00:12.375Z"
   },
   {
    "duration": 4,
    "start_time": "2022-07-14T09:00:12.411Z"
   },
   {
    "duration": 15,
    "start_time": "2022-07-14T09:00:12.417Z"
   },
   {
    "duration": 8,
    "start_time": "2022-07-14T09:00:14.952Z"
   },
   {
    "duration": 5,
    "start_time": "2022-07-14T09:02:11.555Z"
   },
   {
    "duration": 6,
    "start_time": "2022-07-14T09:05:00.415Z"
   },
   {
    "duration": 21,
    "start_time": "2022-07-14T09:06:44.125Z"
   },
   {
    "duration": 77,
    "start_time": "2022-07-14T09:10:44.613Z"
   },
   {
    "duration": 7,
    "start_time": "2022-07-14T09:11:02.254Z"
   },
   {
    "duration": 5,
    "start_time": "2022-07-14T09:14:58.867Z"
   },
   {
    "duration": 6,
    "start_time": "2022-07-14T09:15:25.885Z"
   },
   {
    "duration": 73,
    "start_time": "2022-07-14T09:49:06.288Z"
   },
   {
    "duration": 14,
    "start_time": "2022-07-14T09:51:06.105Z"
   },
   {
    "duration": 12,
    "start_time": "2022-07-14T09:54:39.869Z"
   },
   {
    "duration": 13,
    "start_time": "2022-07-14T09:56:32.143Z"
   },
   {
    "duration": 12,
    "start_time": "2022-07-14T09:57:42.219Z"
   },
   {
    "duration": 14,
    "start_time": "2022-07-14T09:58:54.373Z"
   },
   {
    "duration": 87,
    "start_time": "2022-07-14T10:07:21.387Z"
   },
   {
    "duration": 17,
    "start_time": "2022-07-14T10:07:27.950Z"
   },
   {
    "duration": 14,
    "start_time": "2022-07-14T10:07:58.853Z"
   },
   {
    "duration": 10,
    "start_time": "2022-07-14T10:08:38.664Z"
   },
   {
    "duration": 14,
    "start_time": "2022-07-14T10:08:56.916Z"
   },
   {
    "duration": 14,
    "start_time": "2022-07-14T10:09:14.851Z"
   },
   {
    "duration": 14,
    "start_time": "2022-07-14T10:09:20.316Z"
   },
   {
    "duration": 20,
    "start_time": "2022-07-14T10:09:27.150Z"
   },
   {
    "duration": 18,
    "start_time": "2022-07-14T10:10:04.397Z"
   },
   {
    "duration": 16,
    "start_time": "2022-07-14T10:12:29.278Z"
   },
   {
    "duration": 16,
    "start_time": "2022-07-14T10:15:11.255Z"
   },
   {
    "duration": 15,
    "start_time": "2022-07-14T10:19:49.285Z"
   },
   {
    "duration": 173,
    "start_time": "2022-07-14T10:25:38.318Z"
   },
   {
    "duration": 15,
    "start_time": "2022-07-14T10:25:55.579Z"
   },
   {
    "duration": 21,
    "start_time": "2022-07-14T10:45:03.664Z"
   },
   {
    "duration": 19,
    "start_time": "2022-07-14T10:45:28.247Z"
   },
   {
    "duration": 18,
    "start_time": "2022-07-14T10:45:48.879Z"
   },
   {
    "duration": 18,
    "start_time": "2022-07-14T10:46:09.389Z"
   },
   {
    "duration": 16,
    "start_time": "2022-07-14T11:11:53.686Z"
   },
   {
    "duration": 18,
    "start_time": "2022-07-14T11:12:24.073Z"
   },
   {
    "duration": 18,
    "start_time": "2022-07-14T11:13:51.546Z"
   },
   {
    "duration": 17,
    "start_time": "2022-07-14T11:14:40.676Z"
   },
   {
    "duration": 70,
    "start_time": "2022-07-14T11:19:26.866Z"
   },
   {
    "duration": 22,
    "start_time": "2022-07-14T11:19:48.425Z"
   },
   {
    "duration": 28,
    "start_time": "2022-07-14T11:22:19.086Z"
   },
   {
    "duration": 37,
    "start_time": "2022-07-14T11:22:55.310Z"
   },
   {
    "duration": 28,
    "start_time": "2022-07-14T11:23:09.157Z"
   },
   {
    "duration": 24,
    "start_time": "2022-07-14T11:23:39.067Z"
   },
   {
    "duration": 37,
    "start_time": "2022-07-14T11:24:39.899Z"
   },
   {
    "duration": 25,
    "start_time": "2022-07-14T11:28:39.136Z"
   },
   {
    "duration": 27,
    "start_time": "2022-07-14T11:29:33.977Z"
   },
   {
    "duration": 24,
    "start_time": "2022-07-14T11:33:40.986Z"
   },
   {
    "duration": 24,
    "start_time": "2022-07-14T11:34:36.288Z"
   },
   {
    "duration": 81,
    "start_time": "2022-07-14T11:55:11.108Z"
   },
   {
    "duration": 6,
    "start_time": "2022-07-14T11:55:22.978Z"
   },
   {
    "duration": 19,
    "start_time": "2022-07-14T11:58:51.877Z"
   },
   {
    "duration": 19,
    "start_time": "2022-07-14T11:59:38.638Z"
   },
   {
    "duration": 19,
    "start_time": "2022-07-14T12:00:10.534Z"
   },
   {
    "duration": 8,
    "start_time": "2022-07-14T12:02:14.886Z"
   },
   {
    "duration": 20,
    "start_time": "2022-07-14T12:02:17.444Z"
   },
   {
    "duration": 19,
    "start_time": "2022-07-14T12:02:45.875Z"
   },
   {
    "duration": 7,
    "start_time": "2022-07-14T12:05:17.938Z"
   },
   {
    "duration": 19,
    "start_time": "2022-07-14T12:05:32.258Z"
   },
   {
    "duration": 19,
    "start_time": "2022-07-14T12:05:42.498Z"
   },
   {
    "duration": 21,
    "start_time": "2022-07-14T12:07:13.465Z"
   },
   {
    "duration": 7,
    "start_time": "2022-07-14T12:08:02.656Z"
   },
   {
    "duration": 21,
    "start_time": "2022-07-14T12:08:05.958Z"
   },
   {
    "duration": 162,
    "start_time": "2022-07-14T12:16:19.869Z"
   },
   {
    "duration": 140,
    "start_time": "2022-07-14T12:16:32.113Z"
   },
   {
    "duration": 168,
    "start_time": "2022-07-14T12:16:37.870Z"
   },
   {
    "duration": 19,
    "start_time": "2022-07-14T12:19:21.518Z"
   },
   {
    "duration": 20,
    "start_time": "2022-07-14T12:19:44.981Z"
   },
   {
    "duration": 729,
    "start_time": "2022-07-14T12:20:06.951Z"
   },
   {
    "duration": 7,
    "start_time": "2022-07-14T12:22:31.870Z"
   },
   {
    "duration": 20,
    "start_time": "2022-07-14T12:22:35.040Z"
   },
   {
    "duration": 6,
    "start_time": "2022-07-14T12:23:59.470Z"
   },
   {
    "duration": 20,
    "start_time": "2022-07-14T12:24:01.684Z"
   },
   {
    "duration": 125,
    "start_time": "2022-07-14T12:27:36.496Z"
   },
   {
    "duration": 25,
    "start_time": "2022-07-14T12:29:34.165Z"
   },
   {
    "duration": 19,
    "start_time": "2022-07-14T12:29:41.896Z"
   },
   {
    "duration": 20,
    "start_time": "2022-07-14T12:30:42.575Z"
   },
   {
    "duration": 20,
    "start_time": "2022-07-14T12:30:51.786Z"
   },
   {
    "duration": 20,
    "start_time": "2022-07-14T12:31:05.046Z"
   },
   {
    "duration": 21,
    "start_time": "2022-07-14T12:31:20.736Z"
   },
   {
    "duration": 19,
    "start_time": "2022-07-14T12:31:26.045Z"
   },
   {
    "duration": 18,
    "start_time": "2022-07-14T12:31:42.256Z"
   },
   {
    "duration": 6,
    "start_time": "2022-07-14T12:32:06.365Z"
   },
   {
    "duration": 21,
    "start_time": "2022-07-14T12:32:10.026Z"
   },
   {
    "duration": 29,
    "start_time": "2022-07-14T12:32:12.687Z"
   },
   {
    "duration": 30,
    "start_time": "2022-07-14T12:32:19.877Z"
   },
   {
    "duration": 30,
    "start_time": "2022-07-14T12:32:39.235Z"
   },
   {
    "duration": 6,
    "start_time": "2022-07-14T12:33:25.176Z"
   },
   {
    "duration": 20,
    "start_time": "2022-07-14T12:33:26.766Z"
   },
   {
    "duration": 20,
    "start_time": "2022-07-14T12:33:53.306Z"
   },
   {
    "duration": 20,
    "start_time": "2022-07-14T12:34:01.724Z"
   },
   {
    "duration": 76,
    "start_time": "2022-07-14T12:39:03.125Z"
   },
   {
    "duration": 4,
    "start_time": "2022-07-14T12:50:38.353Z"
   },
   {
    "duration": 19,
    "start_time": "2022-07-14T12:55:00.966Z"
   },
   {
    "duration": 7,
    "start_time": "2022-07-14T12:57:49.329Z"
   },
   {
    "duration": 20,
    "start_time": "2022-07-14T12:57:51.868Z"
   },
   {
    "duration": 21,
    "start_time": "2022-07-14T12:58:04.759Z"
   },
   {
    "duration": 20,
    "start_time": "2022-07-14T12:58:31.992Z"
   },
   {
    "duration": 87,
    "start_time": "2022-07-14T13:02:13.039Z"
   },
   {
    "duration": 1369,
    "start_time": "2022-07-14T13:15:43.642Z"
   },
   {
    "duration": 177,
    "start_time": "2022-07-14T13:16:04.142Z"
   },
   {
    "duration": 7,
    "start_time": "2022-07-14T13:17:15.010Z"
   },
   {
    "duration": 20,
    "start_time": "2022-07-14T13:17:17.662Z"
   },
   {
    "duration": 22,
    "start_time": "2022-07-14T13:17:22.722Z"
   },
   {
    "duration": 22,
    "start_time": "2022-07-14T13:17:27.653Z"
   },
   {
    "duration": 329,
    "start_time": "2022-07-14T13:17:45.332Z"
   },
   {
    "duration": 10,
    "start_time": "2022-07-14T13:18:30.911Z"
   },
   {
    "duration": 79,
    "start_time": "2022-07-14T13:18:37.512Z"
   },
   {
    "duration": 17,
    "start_time": "2022-07-14T13:18:37.594Z"
   },
   {
    "duration": 16,
    "start_time": "2022-07-14T13:18:37.612Z"
   },
   {
    "duration": 9,
    "start_time": "2022-07-14T13:18:37.629Z"
   },
   {
    "duration": 33,
    "start_time": "2022-07-14T13:18:37.641Z"
   },
   {
    "duration": 28,
    "start_time": "2022-07-14T13:18:37.676Z"
   },
   {
    "duration": 11,
    "start_time": "2022-07-14T13:18:37.706Z"
   },
   {
    "duration": 4,
    "start_time": "2022-07-14T13:18:37.718Z"
   },
   {
    "duration": 8,
    "start_time": "2022-07-14T13:18:37.724Z"
   },
   {
    "duration": 7,
    "start_time": "2022-07-14T13:18:37.733Z"
   },
   {
    "duration": 98,
    "start_time": "2022-07-14T13:18:37.742Z"
   },
   {
    "duration": 10,
    "start_time": "2022-07-14T13:18:37.842Z"
   },
   {
    "duration": 4,
    "start_time": "2022-07-14T13:18:37.854Z"
   },
   {
    "duration": 19,
    "start_time": "2022-07-14T13:18:37.861Z"
   },
   {
    "duration": 38,
    "start_time": "2022-07-14T13:18:37.882Z"
   },
   {
    "duration": 14,
    "start_time": "2022-07-14T13:18:37.922Z"
   },
   {
    "duration": 8,
    "start_time": "2022-07-14T13:18:37.938Z"
   },
   {
    "duration": 16,
    "start_time": "2022-07-14T13:18:37.947Z"
   },
   {
    "duration": 6,
    "start_time": "2022-07-14T13:18:37.965Z"
   },
   {
    "duration": 5,
    "start_time": "2022-07-14T13:18:37.973Z"
   },
   {
    "duration": 34,
    "start_time": "2022-07-14T13:18:37.979Z"
   },
   {
    "duration": 8,
    "start_time": "2022-07-14T13:18:38.015Z"
   },
   {
    "duration": 26,
    "start_time": "2022-07-14T13:18:38.025Z"
   },
   {
    "duration": 20,
    "start_time": "2022-07-14T13:18:38.054Z"
   },
   {
    "duration": 46,
    "start_time": "2022-07-14T13:18:38.076Z"
   },
   {
    "duration": 34,
    "start_time": "2022-07-14T13:18:39.282Z"
   },
   {
    "duration": 36,
    "start_time": "2022-07-14T13:22:04.038Z"
   },
   {
    "duration": 34,
    "start_time": "2022-07-14T13:22:12.008Z"
   },
   {
    "duration": 31,
    "start_time": "2022-07-14T13:22:17.580Z"
   },
   {
    "duration": 36,
    "start_time": "2022-07-14T13:22:56.671Z"
   },
   {
    "duration": 30,
    "start_time": "2022-07-14T13:56:56.952Z"
   },
   {
    "duration": 34,
    "start_time": "2022-07-14T13:57:10.011Z"
   },
   {
    "duration": 37,
    "start_time": "2022-07-14T13:57:16.602Z"
   },
   {
    "duration": 83,
    "start_time": "2022-07-14T13:58:46.712Z"
   },
   {
    "duration": 32,
    "start_time": "2022-07-14T14:00:33.160Z"
   },
   {
    "duration": 733,
    "start_time": "2022-07-14T19:23:25.692Z"
   },
   {
    "duration": 37,
    "start_time": "2022-07-14T19:23:26.427Z"
   },
   {
    "duration": 34,
    "start_time": "2022-07-14T19:23:26.467Z"
   },
   {
    "duration": 32,
    "start_time": "2022-07-14T19:23:26.504Z"
   },
   {
    "duration": 89,
    "start_time": "2022-07-14T19:23:26.540Z"
   },
   {
    "duration": 5,
    "start_time": "2022-07-14T19:23:26.632Z"
   },
   {
    "duration": 44,
    "start_time": "2022-07-14T19:23:26.639Z"
   },
   {
    "duration": 17,
    "start_time": "2022-07-14T19:23:26.685Z"
   },
   {
    "duration": 19,
    "start_time": "2022-07-14T19:23:26.704Z"
   },
   {
    "duration": 8,
    "start_time": "2022-07-14T19:23:26.725Z"
   },
   {
    "duration": 58,
    "start_time": "2022-07-14T19:23:26.735Z"
   },
   {
    "duration": 10,
    "start_time": "2022-07-14T19:23:26.795Z"
   },
   {
    "duration": 12,
    "start_time": "2022-07-14T19:23:26.807Z"
   },
   {
    "duration": 43,
    "start_time": "2022-07-14T19:23:26.822Z"
   },
   {
    "duration": 25,
    "start_time": "2022-07-14T19:23:26.866Z"
   },
   {
    "duration": 12,
    "start_time": "2022-07-14T19:23:26.893Z"
   },
   {
    "duration": 19,
    "start_time": "2022-07-14T19:23:26.908Z"
   },
   {
    "duration": 55,
    "start_time": "2022-07-14T19:23:26.928Z"
   },
   {
    "duration": 7,
    "start_time": "2022-07-14T19:23:26.984Z"
   },
   {
    "duration": 8,
    "start_time": "2022-07-14T19:23:26.992Z"
   },
   {
    "duration": 36,
    "start_time": "2022-07-14T19:23:27.001Z"
   },
   {
    "duration": 75,
    "start_time": "2022-07-14T19:23:37.081Z"
   },
   {
    "duration": 92,
    "start_time": "2022-07-14T19:24:30.944Z"
   },
   {
    "duration": 29,
    "start_time": "2022-07-14T19:24:31.038Z"
   },
   {
    "duration": 34,
    "start_time": "2022-07-14T19:24:31.068Z"
   },
   {
    "duration": 15,
    "start_time": "2022-07-14T19:24:31.104Z"
   },
   {
    "duration": 53,
    "start_time": "2022-07-14T19:24:31.122Z"
   },
   {
    "duration": 4,
    "start_time": "2022-07-14T19:24:31.177Z"
   },
   {
    "duration": 73,
    "start_time": "2022-07-14T19:24:31.183Z"
   },
   {
    "duration": 43,
    "start_time": "2022-07-14T19:24:31.260Z"
   },
   {
    "duration": 27,
    "start_time": "2022-07-14T19:24:31.304Z"
   },
   {
    "duration": 8,
    "start_time": "2022-07-14T19:24:31.333Z"
   },
   {
    "duration": 68,
    "start_time": "2022-07-14T19:24:31.343Z"
   },
   {
    "duration": 11,
    "start_time": "2022-07-14T19:24:31.413Z"
   },
   {
    "duration": 21,
    "start_time": "2022-07-14T19:24:31.426Z"
   },
   {
    "duration": 46,
    "start_time": "2022-07-14T19:24:31.450Z"
   },
   {
    "duration": 30,
    "start_time": "2022-07-14T19:24:31.499Z"
   },
   {
    "duration": 32,
    "start_time": "2022-07-14T19:24:31.531Z"
   },
   {
    "duration": 50,
    "start_time": "2022-07-14T19:24:31.566Z"
   },
   {
    "duration": 45,
    "start_time": "2022-07-14T19:24:31.618Z"
   },
   {
    "duration": 26,
    "start_time": "2022-07-14T19:24:31.664Z"
   },
   {
    "duration": 11,
    "start_time": "2022-07-14T19:24:31.692Z"
   },
   {
    "duration": 15,
    "start_time": "2022-07-14T19:24:31.705Z"
   },
   {
    "duration": 6,
    "start_time": "2022-07-14T19:24:33.903Z"
   },
   {
    "duration": 19,
    "start_time": "2022-07-14T19:24:37.303Z"
   },
   {
    "duration": 80,
    "start_time": "2022-07-14T19:33:24.182Z"
   },
   {
    "duration": 21,
    "start_time": "2022-07-14T19:33:24.264Z"
   },
   {
    "duration": 20,
    "start_time": "2022-07-14T19:33:24.288Z"
   },
   {
    "duration": 21,
    "start_time": "2022-07-14T19:33:24.311Z"
   },
   {
    "duration": 70,
    "start_time": "2022-07-14T19:33:24.335Z"
   },
   {
    "duration": 5,
    "start_time": "2022-07-14T19:33:24.407Z"
   },
   {
    "duration": 43,
    "start_time": "2022-07-14T19:33:24.414Z"
   },
   {
    "duration": 27,
    "start_time": "2022-07-14T19:33:24.459Z"
   },
   {
    "duration": 19,
    "start_time": "2022-07-14T19:33:24.488Z"
   },
   {
    "duration": 25,
    "start_time": "2022-07-14T19:33:24.509Z"
   },
   {
    "duration": 86,
    "start_time": "2022-07-14T19:33:24.535Z"
   },
   {
    "duration": 11,
    "start_time": "2022-07-14T19:33:24.623Z"
   },
   {
    "duration": 37,
    "start_time": "2022-07-14T19:33:24.637Z"
   },
   {
    "duration": 42,
    "start_time": "2022-07-14T19:33:24.682Z"
   },
   {
    "duration": 35,
    "start_time": "2022-07-14T19:33:24.726Z"
   },
   {
    "duration": 32,
    "start_time": "2022-07-14T19:33:24.771Z"
   },
   {
    "duration": 23,
    "start_time": "2022-07-14T19:33:24.805Z"
   },
   {
    "duration": 34,
    "start_time": "2022-07-14T19:33:24.831Z"
   },
   {
    "duration": 35,
    "start_time": "2022-07-14T19:33:24.867Z"
   },
   {
    "duration": 15,
    "start_time": "2022-07-14T19:33:24.904Z"
   },
   {
    "duration": 28,
    "start_time": "2022-07-14T19:33:24.921Z"
   },
   {
    "duration": 11,
    "start_time": "2022-07-14T19:33:26.576Z"
   },
   {
    "duration": 41,
    "start_time": "2022-07-14T19:33:29.241Z"
   },
   {
    "duration": 7,
    "start_time": "2022-07-14T19:34:07.198Z"
   },
   {
    "duration": 31,
    "start_time": "2022-07-14T19:34:09.944Z"
   },
   {
    "duration": 21,
    "start_time": "2022-07-14T19:34:47.018Z"
   },
   {
    "duration": 21,
    "start_time": "2022-07-14T19:35:26.493Z"
   },
   {
    "duration": 36,
    "start_time": "2022-07-14T19:35:59.168Z"
   },
   {
    "duration": 12,
    "start_time": "2022-07-14T19:49:26.340Z"
   },
   {
    "duration": 30,
    "start_time": "2022-07-14T19:49:28.330Z"
   },
   {
    "duration": 9,
    "start_time": "2022-07-14T19:50:16.709Z"
   },
   {
    "duration": 33,
    "start_time": "2022-07-14T19:50:19.728Z"
   },
   {
    "duration": 80,
    "start_time": "2022-07-14T19:50:41.437Z"
   },
   {
    "duration": 53,
    "start_time": "2022-07-14T19:50:53.865Z"
   },
   {
    "duration": 11,
    "start_time": "2022-07-14T19:51:58.590Z"
   },
   {
    "duration": 12,
    "start_time": "2022-07-14T19:52:13.603Z"
   },
   {
    "duration": 43,
    "start_time": "2022-07-14T19:52:15.416Z"
   },
   {
    "duration": 12,
    "start_time": "2022-07-14T19:52:53.810Z"
   },
   {
    "duration": 25,
    "start_time": "2022-07-14T19:52:55.816Z"
   },
   {
    "duration": 49,
    "start_time": "2022-07-14T19:53:12.037Z"
   },
   {
    "duration": 43,
    "start_time": "2022-07-14T19:53:21.244Z"
   },
   {
    "duration": 32,
    "start_time": "2022-07-14T19:53:35.190Z"
   },
   {
    "duration": 35,
    "start_time": "2022-07-14T19:55:07.692Z"
   },
   {
    "duration": 12,
    "start_time": "2022-07-14T20:01:07.366Z"
   },
   {
    "duration": 33,
    "start_time": "2022-07-14T20:01:13.610Z"
   },
   {
    "duration": 43,
    "start_time": "2022-07-14T20:04:12.100Z"
   },
   {
    "duration": 62,
    "start_time": "2022-07-14T20:04:38.264Z"
   },
   {
    "duration": 42,
    "start_time": "2022-07-14T20:05:25.719Z"
   },
   {
    "duration": 52,
    "start_time": "2022-07-14T20:09:31.838Z"
   },
   {
    "duration": 38,
    "start_time": "2022-07-14T20:14:55.169Z"
   },
   {
    "duration": 54,
    "start_time": "2022-07-14T20:20:28.668Z"
   },
   {
    "duration": 37,
    "start_time": "2022-07-14T20:20:52.669Z"
   },
   {
    "duration": 46,
    "start_time": "2022-07-14T20:21:06.932Z"
   },
   {
    "duration": 33,
    "start_time": "2022-07-14T20:21:24.292Z"
   },
   {
    "duration": 35,
    "start_time": "2022-07-14T20:21:34.201Z"
   },
   {
    "duration": 52,
    "start_time": "2022-07-14T20:24:07.130Z"
   },
   {
    "duration": 36,
    "start_time": "2022-07-14T20:29:33.500Z"
   },
   {
    "duration": 33,
    "start_time": "2022-07-14T20:32:33.996Z"
   },
   {
    "duration": 71,
    "start_time": "2022-07-14T20:38:54.383Z"
   },
   {
    "duration": 66,
    "start_time": "2022-07-14T20:39:12.224Z"
   },
   {
    "duration": 10,
    "start_time": "2022-07-14T20:44:20.335Z"
   },
   {
    "duration": 63,
    "start_time": "2022-07-14T20:44:23.330Z"
   },
   {
    "duration": 12,
    "start_time": "2022-07-14T20:45:54.502Z"
   },
   {
    "duration": 38,
    "start_time": "2022-07-14T20:45:57.424Z"
   },
   {
    "duration": 12,
    "start_time": "2022-07-14T20:46:28.401Z"
   },
   {
    "duration": 45,
    "start_time": "2022-07-14T20:46:30.271Z"
   },
   {
    "duration": 102,
    "start_time": "2022-07-14T20:46:58.631Z"
   },
   {
    "duration": 21,
    "start_time": "2022-07-14T20:46:58.736Z"
   },
   {
    "duration": 56,
    "start_time": "2022-07-14T20:46:58.758Z"
   },
   {
    "duration": 18,
    "start_time": "2022-07-14T20:46:58.816Z"
   },
   {
    "duration": 81,
    "start_time": "2022-07-14T20:46:58.838Z"
   },
   {
    "duration": 22,
    "start_time": "2022-07-14T20:46:58.922Z"
   },
   {
    "duration": 64,
    "start_time": "2022-07-14T20:46:58.952Z"
   },
   {
    "duration": 17,
    "start_time": "2022-07-14T20:46:59.020Z"
   },
   {
    "duration": 65,
    "start_time": "2022-07-14T20:46:59.039Z"
   },
   {
    "duration": 68,
    "start_time": "2022-07-14T20:46:59.107Z"
   },
   {
    "duration": 110,
    "start_time": "2022-07-14T20:46:59.179Z"
   },
   {
    "duration": 29,
    "start_time": "2022-07-14T20:46:59.295Z"
   },
   {
    "duration": 12,
    "start_time": "2022-07-14T20:46:59.327Z"
   },
   {
    "duration": 82,
    "start_time": "2022-07-14T20:46:59.342Z"
   },
   {
    "duration": 42,
    "start_time": "2022-07-14T20:46:59.426Z"
   },
   {
    "duration": 73,
    "start_time": "2022-07-14T20:46:59.471Z"
   },
   {
    "duration": 68,
    "start_time": "2022-07-14T20:46:59.555Z"
   },
   {
    "duration": 32,
    "start_time": "2022-07-14T20:46:59.626Z"
   },
   {
    "duration": 43,
    "start_time": "2022-07-14T20:46:59.661Z"
   },
   {
    "duration": 5,
    "start_time": "2022-07-14T20:46:59.707Z"
   },
   {
    "duration": 21,
    "start_time": "2022-07-14T20:46:59.715Z"
   },
   {
    "duration": 19,
    "start_time": "2022-07-14T20:46:59.739Z"
   },
   {
    "duration": 68,
    "start_time": "2022-07-14T20:46:59.760Z"
   },
   {
    "duration": 29,
    "start_time": "2022-07-14T20:46:59.830Z"
   },
   {
    "duration": 27,
    "start_time": "2022-07-14T20:46:59.860Z"
   },
   {
    "duration": 48,
    "start_time": "2022-07-14T20:46:59.888Z"
   },
   {
    "duration": 72,
    "start_time": "2022-07-14T20:46:59.938Z"
   },
   {
    "duration": 40,
    "start_time": "2022-07-14T20:47:00.012Z"
   },
   {
    "duration": 58,
    "start_time": "2022-07-14T20:47:01.463Z"
   },
   {
    "duration": 3,
    "start_time": "2022-07-14T21:02:05.027Z"
   },
   {
    "duration": 115,
    "start_time": "2022-07-14T21:07:33.393Z"
   },
   {
    "duration": 31,
    "start_time": "2022-07-14T21:07:33.510Z"
   },
   {
    "duration": 69,
    "start_time": "2022-07-14T21:07:33.544Z"
   },
   {
    "duration": 17,
    "start_time": "2022-07-14T21:07:33.616Z"
   },
   {
    "duration": 77,
    "start_time": "2022-07-14T21:07:33.640Z"
   },
   {
    "duration": 5,
    "start_time": "2022-07-14T21:07:33.719Z"
   },
   {
    "duration": 17,
    "start_time": "2022-07-14T21:07:33.726Z"
   },
   {
    "duration": 15,
    "start_time": "2022-07-14T21:07:33.745Z"
   },
   {
    "duration": 32,
    "start_time": "2022-07-14T21:07:33.765Z"
   },
   {
    "duration": 13,
    "start_time": "2022-07-14T21:07:33.800Z"
   },
   {
    "duration": 53,
    "start_time": "2022-07-14T21:07:33.816Z"
   },
   {
    "duration": 20,
    "start_time": "2022-07-14T21:07:33.872Z"
   },
   {
    "duration": 17,
    "start_time": "2022-07-14T21:07:33.894Z"
   },
   {
    "duration": 36,
    "start_time": "2022-07-14T21:07:33.914Z"
   },
   {
    "duration": 57,
    "start_time": "2022-07-14T21:07:33.954Z"
   },
   {
    "duration": 21,
    "start_time": "2022-07-14T21:07:34.013Z"
   },
   {
    "duration": 33,
    "start_time": "2022-07-14T21:07:34.037Z"
   },
   {
    "duration": 23,
    "start_time": "2022-07-14T21:07:34.072Z"
   },
   {
    "duration": 24,
    "start_time": "2022-07-14T21:07:34.098Z"
   },
   {
    "duration": 5,
    "start_time": "2022-07-14T21:07:34.125Z"
   },
   {
    "duration": 21,
    "start_time": "2022-07-14T21:07:34.132Z"
   },
   {
    "duration": 41,
    "start_time": "2022-07-14T21:07:34.157Z"
   },
   {
    "duration": 30,
    "start_time": "2022-07-14T21:07:34.201Z"
   },
   {
    "duration": 37,
    "start_time": "2022-07-14T21:07:34.233Z"
   },
   {
    "duration": 35,
    "start_time": "2022-07-14T21:07:34.272Z"
   },
   {
    "duration": 63,
    "start_time": "2022-07-14T21:07:34.310Z"
   },
   {
    "duration": 54,
    "start_time": "2022-07-14T21:07:34.378Z"
   },
   {
    "duration": 59,
    "start_time": "2022-07-14T21:07:34.446Z"
   },
   {
    "duration": 41,
    "start_time": "2022-07-14T21:07:47.769Z"
   },
   {
    "duration": 86,
    "start_time": "2022-07-14T21:08:56.542Z"
   },
   {
    "duration": 17,
    "start_time": "2022-07-14T21:08:56.631Z"
   },
   {
    "duration": 74,
    "start_time": "2022-07-14T21:08:56.650Z"
   },
   {
    "duration": 15,
    "start_time": "2022-07-14T21:08:56.725Z"
   },
   {
    "duration": 80,
    "start_time": "2022-07-14T21:08:56.742Z"
   },
   {
    "duration": 4,
    "start_time": "2022-07-14T21:08:56.824Z"
   },
   {
    "duration": 15,
    "start_time": "2022-07-14T21:08:56.831Z"
   },
   {
    "duration": 13,
    "start_time": "2022-07-14T21:08:56.858Z"
   },
   {
    "duration": 32,
    "start_time": "2022-07-14T21:08:56.876Z"
   },
   {
    "duration": 7,
    "start_time": "2022-07-14T21:08:56.911Z"
   },
   {
    "duration": 57,
    "start_time": "2022-07-14T21:08:56.920Z"
   },
   {
    "duration": 19,
    "start_time": "2022-07-14T21:08:56.979Z"
   },
   {
    "duration": 5,
    "start_time": "2022-07-14T21:08:57.001Z"
   },
   {
    "duration": 20,
    "start_time": "2022-07-14T21:08:57.009Z"
   },
   {
    "duration": 36,
    "start_time": "2022-07-14T21:08:57.049Z"
   },
   {
    "duration": 27,
    "start_time": "2022-07-14T21:08:57.091Z"
   },
   {
    "duration": 11,
    "start_time": "2022-07-14T21:08:57.120Z"
   },
   {
    "duration": 24,
    "start_time": "2022-07-14T21:08:57.134Z"
   },
   {
    "duration": 29,
    "start_time": "2022-07-14T21:08:57.168Z"
   },
   {
    "duration": 5,
    "start_time": "2022-07-14T21:08:57.200Z"
   },
   {
    "duration": 15,
    "start_time": "2022-07-14T21:08:57.208Z"
   },
   {
    "duration": 41,
    "start_time": "2022-07-14T21:08:57.310Z"
   },
   {
    "duration": 59,
    "start_time": "2022-07-14T21:08:57.403Z"
   },
   {
    "duration": 4,
    "start_time": "2022-07-14T21:09:17.599Z"
   },
   {
    "duration": 20739,
    "start_time": "2022-07-14T21:09:37.328Z"
   },
   {
    "duration": 41,
    "start_time": "2022-07-14T21:09:58.069Z"
   },
   {
    "duration": 32,
    "start_time": "2022-07-14T21:09:58.196Z"
   },
   {
    "duration": 47,
    "start_time": "2022-07-14T21:09:58.230Z"
   },
   {
    "duration": 26,
    "start_time": "2022-07-14T21:09:58.279Z"
   },
   {
    "duration": 56,
    "start_time": "2022-07-14T21:09:58.310Z"
   },
   {
    "duration": 38,
    "start_time": "2022-07-14T21:19:04.832Z"
   },
   {
    "duration": 69,
    "start_time": "2022-07-14T21:19:46.875Z"
   },
   {
    "duration": 21,
    "start_time": "2022-07-14T21:19:46.950Z"
   },
   {
    "duration": 19,
    "start_time": "2022-07-14T21:19:46.973Z"
   },
   {
    "duration": 10,
    "start_time": "2022-07-14T21:19:46.994Z"
   },
   {
    "duration": 45,
    "start_time": "2022-07-14T21:19:47.005Z"
   },
   {
    "duration": 16,
    "start_time": "2022-07-14T21:19:47.051Z"
   },
   {
    "duration": 16,
    "start_time": "2022-07-14T21:19:47.070Z"
   },
   {
    "duration": 9,
    "start_time": "2022-07-14T21:19:47.089Z"
   },
   {
    "duration": 7,
    "start_time": "2022-07-14T21:19:47.099Z"
   },
   {
    "duration": 6,
    "start_time": "2022-07-14T21:19:47.107Z"
   },
   {
    "duration": 44,
    "start_time": "2022-07-14T21:19:47.115Z"
   },
   {
    "duration": 18,
    "start_time": "2022-07-14T21:19:47.160Z"
   },
   {
    "duration": 4,
    "start_time": "2022-07-14T21:19:47.180Z"
   },
   {
    "duration": 24,
    "start_time": "2022-07-14T21:19:47.185Z"
   },
   {
    "duration": 18,
    "start_time": "2022-07-14T21:19:47.211Z"
   },
   {
    "duration": 22,
    "start_time": "2022-07-14T21:19:47.231Z"
   },
   {
    "duration": 20,
    "start_time": "2022-07-14T21:19:47.254Z"
   },
   {
    "duration": 13,
    "start_time": "2022-07-14T21:19:47.276Z"
   },
   {
    "duration": 8,
    "start_time": "2022-07-14T21:19:47.290Z"
   },
   {
    "duration": 5,
    "start_time": "2022-07-14T21:19:47.300Z"
   },
   {
    "duration": 11,
    "start_time": "2022-07-14T21:19:47.306Z"
   },
   {
    "duration": 7,
    "start_time": "2022-07-14T21:19:47.318Z"
   },
   {
    "duration": 25,
    "start_time": "2022-07-14T21:19:47.327Z"
   },
   {
    "duration": 26,
    "start_time": "2022-07-14T21:19:47.354Z"
   },
   {
    "duration": 18,
    "start_time": "2022-07-14T21:19:47.382Z"
   },
   {
    "duration": 59,
    "start_time": "2022-07-14T21:19:47.403Z"
   },
   {
    "duration": 40,
    "start_time": "2022-07-14T21:19:47.464Z"
   },
   {
    "duration": 65,
    "start_time": "2022-07-14T21:19:47.506Z"
   },
   {
    "duration": 6,
    "start_time": "2022-07-14T21:20:05.677Z"
   },
   {
    "duration": 18571,
    "start_time": "2022-07-14T21:20:05.686Z"
   },
   {
    "duration": 18640,
    "start_time": "2022-07-14T21:26:16.323Z"
   },
   {
    "duration": 8,
    "start_time": "2022-07-14T21:30:09.779Z"
   },
   {
    "duration": 18857,
    "start_time": "2022-07-14T21:30:18.169Z"
   },
   {
    "duration": 87,
    "start_time": "2022-07-14T21:32:04.298Z"
   },
   {
    "duration": 15,
    "start_time": "2022-07-14T21:32:04.387Z"
   },
   {
    "duration": 18,
    "start_time": "2022-07-14T21:32:04.403Z"
   },
   {
    "duration": 36,
    "start_time": "2022-07-14T21:32:04.422Z"
   },
   {
    "duration": 48,
    "start_time": "2022-07-14T21:32:04.467Z"
   },
   {
    "duration": 4,
    "start_time": "2022-07-14T21:32:04.517Z"
   },
   {
    "duration": 11,
    "start_time": "2022-07-14T21:32:04.522Z"
   },
   {
    "duration": 4,
    "start_time": "2022-07-14T21:32:04.535Z"
   },
   {
    "duration": 24,
    "start_time": "2022-07-14T21:32:04.555Z"
   },
   {
    "duration": 7,
    "start_time": "2022-07-14T21:32:04.583Z"
   },
   {
    "duration": 40,
    "start_time": "2022-07-14T21:32:04.592Z"
   },
   {
    "duration": 10,
    "start_time": "2022-07-14T21:32:04.633Z"
   },
   {
    "duration": 40,
    "start_time": "2022-07-14T21:32:04.645Z"
   },
   {
    "duration": 22,
    "start_time": "2022-07-14T21:32:04.689Z"
   },
   {
    "duration": 19,
    "start_time": "2022-07-14T21:32:04.713Z"
   },
   {
    "duration": 17,
    "start_time": "2022-07-14T21:32:04.734Z"
   },
   {
    "duration": 24,
    "start_time": "2022-07-14T21:32:04.755Z"
   },
   {
    "duration": 15,
    "start_time": "2022-07-14T21:32:04.781Z"
   },
   {
    "duration": 12,
    "start_time": "2022-07-14T21:32:04.798Z"
   },
   {
    "duration": 5,
    "start_time": "2022-07-14T21:32:04.812Z"
   },
   {
    "duration": 16,
    "start_time": "2022-07-14T21:32:04.818Z"
   },
   {
    "duration": 39,
    "start_time": "2022-07-14T21:32:04.836Z"
   },
   {
    "duration": 27,
    "start_time": "2022-07-14T21:32:04.877Z"
   },
   {
    "duration": 19,
    "start_time": "2022-07-14T21:32:04.905Z"
   },
   {
    "duration": 22,
    "start_time": "2022-07-14T21:32:04.925Z"
   },
   {
    "duration": 48,
    "start_time": "2022-07-14T21:32:04.954Z"
   },
   {
    "duration": 33,
    "start_time": "2022-07-14T21:32:05.003Z"
   },
   {
    "duration": 42,
    "start_time": "2022-07-14T21:32:05.049Z"
   },
   {
    "duration": 18195,
    "start_time": "2022-07-14T21:32:05.093Z"
   },
   {
    "duration": 505,
    "start_time": "2022-07-14T21:38:45.189Z"
   },
   {
    "duration": 24,
    "start_time": "2022-07-14T21:38:45.696Z"
   },
   {
    "duration": 33,
    "start_time": "2022-07-14T21:38:45.722Z"
   },
   {
    "duration": 15,
    "start_time": "2022-07-14T21:38:45.757Z"
   },
   {
    "duration": 56,
    "start_time": "2022-07-14T21:38:45.775Z"
   },
   {
    "duration": 13,
    "start_time": "2022-07-14T21:38:45.849Z"
   },
   {
    "duration": 12,
    "start_time": "2022-07-14T21:38:45.865Z"
   },
   {
    "duration": 7,
    "start_time": "2022-07-14T21:38:45.879Z"
   },
   {
    "duration": 8,
    "start_time": "2022-07-14T21:38:45.888Z"
   },
   {
    "duration": 6,
    "start_time": "2022-07-14T21:38:45.898Z"
   },
   {
    "duration": 85,
    "start_time": "2022-07-14T21:38:45.905Z"
   },
   {
    "duration": 11,
    "start_time": "2022-07-14T21:38:45.992Z"
   },
   {
    "duration": 5,
    "start_time": "2022-07-14T21:38:46.005Z"
   },
   {
    "duration": 38,
    "start_time": "2022-07-14T21:38:46.012Z"
   },
   {
    "duration": 22,
    "start_time": "2022-07-14T21:38:46.052Z"
   },
   {
    "duration": 13,
    "start_time": "2022-07-14T21:38:46.076Z"
   },
   {
    "duration": 6,
    "start_time": "2022-07-14T21:38:46.091Z"
   },
   {
    "duration": 12,
    "start_time": "2022-07-14T21:38:46.099Z"
   },
   {
    "duration": 6,
    "start_time": "2022-07-14T21:38:46.113Z"
   },
   {
    "duration": 7,
    "start_time": "2022-07-14T21:38:46.146Z"
   },
   {
    "duration": 26,
    "start_time": "2022-07-14T21:38:46.154Z"
   },
   {
    "duration": 7,
    "start_time": "2022-07-14T21:38:46.182Z"
   },
   {
    "duration": 29,
    "start_time": "2022-07-14T21:38:46.191Z"
   },
   {
    "duration": 36,
    "start_time": "2022-07-14T21:38:46.222Z"
   },
   {
    "duration": 25,
    "start_time": "2022-07-14T21:38:46.262Z"
   },
   {
    "duration": 33,
    "start_time": "2022-07-14T21:38:46.290Z"
   },
   {
    "duration": 58,
    "start_time": "2022-07-14T21:38:46.325Z"
   },
   {
    "duration": 31,
    "start_time": "2022-07-14T21:38:46.385Z"
   },
   {
    "duration": 54,
    "start_time": "2022-07-14T21:39:04.509Z"
   },
   {
    "duration": 39,
    "start_time": "2022-07-14T21:39:13.338Z"
   },
   {
    "duration": 34,
    "start_time": "2022-07-14T21:43:25.476Z"
   },
   {
    "duration": 42,
    "start_time": "2022-07-15T08:08:41.596Z"
   },
   {
    "duration": 463,
    "start_time": "2022-07-15T08:08:48.655Z"
   },
   {
    "duration": 23,
    "start_time": "2022-07-15T08:08:49.120Z"
   },
   {
    "duration": 60,
    "start_time": "2022-07-15T08:08:49.144Z"
   },
   {
    "duration": 26,
    "start_time": "2022-07-15T08:08:49.206Z"
   },
   {
    "duration": 42,
    "start_time": "2022-07-15T08:08:49.234Z"
   },
   {
    "duration": 4,
    "start_time": "2022-07-15T08:08:49.277Z"
   },
   {
    "duration": 17,
    "start_time": "2022-07-15T08:08:49.283Z"
   },
   {
    "duration": 12,
    "start_time": "2022-07-15T08:08:49.302Z"
   },
   {
    "duration": 11,
    "start_time": "2022-07-15T08:08:49.316Z"
   },
   {
    "duration": 5,
    "start_time": "2022-07-15T08:08:49.329Z"
   },
   {
    "duration": 36,
    "start_time": "2022-07-15T08:08:49.336Z"
   },
   {
    "duration": 8,
    "start_time": "2022-07-15T08:08:49.374Z"
   },
   {
    "duration": 10,
    "start_time": "2022-07-15T08:08:49.384Z"
   },
   {
    "duration": 17,
    "start_time": "2022-07-15T08:08:49.401Z"
   },
   {
    "duration": 21,
    "start_time": "2022-07-15T08:08:49.420Z"
   },
   {
    "duration": 10,
    "start_time": "2022-07-15T08:08:49.443Z"
   },
   {
    "duration": 8,
    "start_time": "2022-07-15T08:08:49.455Z"
   },
   {
    "duration": 10,
    "start_time": "2022-07-15T08:08:49.465Z"
   },
   {
    "duration": 26,
    "start_time": "2022-07-15T08:08:49.477Z"
   },
   {
    "duration": 6,
    "start_time": "2022-07-15T08:08:49.504Z"
   },
   {
    "duration": 14,
    "start_time": "2022-07-15T08:08:49.511Z"
   },
   {
    "duration": 7,
    "start_time": "2022-07-15T08:08:49.526Z"
   },
   {
    "duration": 27,
    "start_time": "2022-07-15T08:08:49.534Z"
   },
   {
    "duration": 16,
    "start_time": "2022-07-15T08:08:49.562Z"
   },
   {
    "duration": 33,
    "start_time": "2022-07-15T08:08:49.580Z"
   },
   {
    "duration": 35,
    "start_time": "2022-07-15T08:08:49.615Z"
   },
   {
    "duration": 51,
    "start_time": "2022-07-15T08:08:49.652Z"
   },
   {
    "duration": 26,
    "start_time": "2022-07-15T08:08:49.705Z"
   },
   {
    "duration": 76,
    "start_time": "2022-07-15T08:08:49.733Z"
   },
   {
    "duration": 23,
    "start_time": "2022-07-15T08:08:51.586Z"
   },
   {
    "duration": 74,
    "start_time": "2022-07-15T08:09:11.576Z"
   },
   {
    "duration": 23,
    "start_time": "2022-07-15T08:09:41.491Z"
   },
   {
    "duration": 29,
    "start_time": "2022-07-15T08:12:59.014Z"
   },
   {
    "duration": 76,
    "start_time": "2022-07-15T08:13:10.922Z"
   },
   {
    "duration": 44,
    "start_time": "2022-07-15T08:21:32.807Z"
   },
   {
    "duration": 107,
    "start_time": "2022-07-15T08:22:44.071Z"
   },
   {
    "duration": 30,
    "start_time": "2022-07-15T08:24:40.180Z"
   },
   {
    "duration": 28,
    "start_time": "2022-07-15T08:27:41.610Z"
   },
   {
    "duration": 30,
    "start_time": "2022-07-15T08:30:38.336Z"
   },
   {
    "duration": 32,
    "start_time": "2022-07-15T08:53:13.789Z"
   },
   {
    "duration": 32,
    "start_time": "2022-07-15T08:54:26.798Z"
   },
   {
    "duration": 32,
    "start_time": "2022-07-15T08:54:30.681Z"
   },
   {
    "duration": 25,
    "start_time": "2022-07-15T08:55:44.269Z"
   },
   {
    "duration": 27,
    "start_time": "2022-07-15T08:55:47.148Z"
   },
   {
    "duration": 21,
    "start_time": "2022-07-15T08:57:07.828Z"
   },
   {
    "duration": 21,
    "start_time": "2022-07-15T08:57:14.120Z"
   },
   {
    "duration": 66,
    "start_time": "2022-07-15T08:58:24.249Z"
   },
   {
    "duration": 13,
    "start_time": "2022-07-15T08:58:24.317Z"
   },
   {
    "duration": 13,
    "start_time": "2022-07-15T08:58:24.332Z"
   },
   {
    "duration": 8,
    "start_time": "2022-07-15T08:58:24.346Z"
   },
   {
    "duration": 46,
    "start_time": "2022-07-15T08:58:24.356Z"
   },
   {
    "duration": 4,
    "start_time": "2022-07-15T08:58:24.404Z"
   },
   {
    "duration": 16,
    "start_time": "2022-07-15T08:58:24.409Z"
   },
   {
    "duration": 4,
    "start_time": "2022-07-15T08:58:24.426Z"
   },
   {
    "duration": 7,
    "start_time": "2022-07-15T08:58:24.431Z"
   },
   {
    "duration": 4,
    "start_time": "2022-07-15T08:58:24.439Z"
   },
   {
    "duration": 31,
    "start_time": "2022-07-15T08:58:24.444Z"
   },
   {
    "duration": 27,
    "start_time": "2022-07-15T08:58:24.476Z"
   },
   {
    "duration": 3,
    "start_time": "2022-07-15T08:58:24.505Z"
   },
   {
    "duration": 34,
    "start_time": "2022-07-15T08:58:24.512Z"
   },
   {
    "duration": 14,
    "start_time": "2022-07-15T08:58:24.548Z"
   },
   {
    "duration": 9,
    "start_time": "2022-07-15T08:58:24.563Z"
   },
   {
    "duration": 8,
    "start_time": "2022-07-15T08:58:24.573Z"
   },
   {
    "duration": 24,
    "start_time": "2022-07-15T08:58:24.582Z"
   },
   {
    "duration": 20,
    "start_time": "2022-07-15T08:58:24.608Z"
   },
   {
    "duration": 7,
    "start_time": "2022-07-15T08:58:24.629Z"
   },
   {
    "duration": 9,
    "start_time": "2022-07-15T08:58:24.637Z"
   },
   {
    "duration": 6,
    "start_time": "2022-07-15T08:58:24.647Z"
   },
   {
    "duration": 27,
    "start_time": "2022-07-15T08:58:24.655Z"
   },
   {
    "duration": 24,
    "start_time": "2022-07-15T08:58:24.683Z"
   },
   {
    "duration": 18,
    "start_time": "2022-07-15T08:58:24.708Z"
   },
   {
    "duration": 27,
    "start_time": "2022-07-15T08:58:24.727Z"
   },
   {
    "duration": 49,
    "start_time": "2022-07-15T08:58:24.755Z"
   },
   {
    "duration": 38,
    "start_time": "2022-07-15T08:58:24.808Z"
   },
   {
    "duration": 26,
    "start_time": "2022-07-15T08:58:24.847Z"
   },
   {
    "duration": 76,
    "start_time": "2022-07-15T08:58:24.874Z"
   },
   {
    "duration": 0,
    "start_time": "2022-07-15T08:58:24.951Z"
   },
   {
    "duration": 0,
    "start_time": "2022-07-15T08:58:24.952Z"
   },
   {
    "duration": 0,
    "start_time": "2022-07-15T08:58:24.953Z"
   },
   {
    "duration": 0,
    "start_time": "2022-07-15T08:58:24.954Z"
   },
   {
    "duration": 0,
    "start_time": "2022-07-15T08:58:24.955Z"
   },
   {
    "duration": 27,
    "start_time": "2022-07-15T09:00:25.490Z"
   },
   {
    "duration": 26,
    "start_time": "2022-07-15T09:00:28.397Z"
   },
   {
    "duration": 30,
    "start_time": "2022-07-15T09:06:48.409Z"
   },
   {
    "duration": 29,
    "start_time": "2022-07-15T09:06:51.149Z"
   },
   {
    "duration": 3,
    "start_time": "2022-07-15T09:15:12.555Z"
   },
   {
    "duration": 9,
    "start_time": "2022-07-15T09:15:19.193Z"
   },
   {
    "duration": 31,
    "start_time": "2022-07-15T09:16:38.712Z"
   },
   {
    "duration": 27,
    "start_time": "2022-07-15T09:16:42.770Z"
   },
   {
    "duration": 27,
    "start_time": "2022-07-15T09:19:01.472Z"
   },
   {
    "duration": 7,
    "start_time": "2022-07-15T09:19:20.041Z"
   },
   {
    "duration": 38,
    "start_time": "2022-07-15T09:20:21.062Z"
   },
   {
    "duration": 31,
    "start_time": "2022-07-15T09:20:27.539Z"
   },
   {
    "duration": 41,
    "start_time": "2022-07-15T09:20:31.800Z"
   },
   {
    "duration": 25,
    "start_time": "2022-07-15T09:37:20.868Z"
   },
   {
    "duration": 28,
    "start_time": "2022-07-15T09:37:23.648Z"
   },
   {
    "duration": 36,
    "start_time": "2022-07-15T09:37:59.197Z"
   },
   {
    "duration": 44,
    "start_time": "2022-07-15T09:44:08.706Z"
   },
   {
    "duration": 38,
    "start_time": "2022-07-15T09:44:21.476Z"
   },
   {
    "duration": 72,
    "start_time": "2022-07-15T09:58:11.246Z"
   },
   {
    "duration": 98,
    "start_time": "2022-07-15T10:56:41.556Z"
   },
   {
    "duration": 3,
    "start_time": "2022-07-15T11:01:26.408Z"
   },
   {
    "duration": 20,
    "start_time": "2022-07-15T11:04:50.065Z"
   },
   {
    "duration": 28,
    "start_time": "2022-07-15T11:04:57.632Z"
   },
   {
    "duration": 7,
    "start_time": "2022-07-15T11:08:14.584Z"
   },
   {
    "duration": 8,
    "start_time": "2022-07-15T11:09:48.304Z"
   },
   {
    "duration": 264,
    "start_time": "2022-07-15T11:10:51.721Z"
   },
   {
    "duration": 1323,
    "start_time": "2022-07-15T11:10:56.133Z"
   },
   {
    "duration": 2,
    "start_time": "2022-07-15T11:11:14.224Z"
   },
   {
    "duration": 7,
    "start_time": "2022-07-15T11:11:24.723Z"
   },
   {
    "duration": 2,
    "start_time": "2022-07-15T11:13:59.761Z"
   },
   {
    "duration": 79,
    "start_time": "2022-07-15T11:14:03.202Z"
   },
   {
    "duration": 14,
    "start_time": "2022-07-15T11:14:03.282Z"
   },
   {
    "duration": 30,
    "start_time": "2022-07-15T11:14:03.298Z"
   },
   {
    "duration": 7,
    "start_time": "2022-07-15T11:14:03.330Z"
   },
   {
    "duration": 31,
    "start_time": "2022-07-15T11:14:03.339Z"
   },
   {
    "duration": 3,
    "start_time": "2022-07-15T11:14:03.371Z"
   },
   {
    "duration": 12,
    "start_time": "2022-07-15T11:14:03.376Z"
   },
   {
    "duration": 13,
    "start_time": "2022-07-15T11:14:03.390Z"
   },
   {
    "duration": 6,
    "start_time": "2022-07-15T11:14:03.405Z"
   },
   {
    "duration": 21,
    "start_time": "2022-07-15T11:14:03.414Z"
   },
   {
    "duration": 33,
    "start_time": "2022-07-15T11:14:03.437Z"
   },
   {
    "duration": 11,
    "start_time": "2022-07-15T11:14:03.472Z"
   },
   {
    "duration": 15,
    "start_time": "2022-07-15T11:14:03.484Z"
   },
   {
    "duration": 34,
    "start_time": "2022-07-15T11:14:03.502Z"
   },
   {
    "duration": 16,
    "start_time": "2022-07-15T11:14:03.538Z"
   },
   {
    "duration": 9,
    "start_time": "2022-07-15T11:14:03.555Z"
   },
   {
    "duration": 7,
    "start_time": "2022-07-15T11:14:03.566Z"
   },
   {
    "duration": 18,
    "start_time": "2022-07-15T11:14:03.574Z"
   },
   {
    "duration": 12,
    "start_time": "2022-07-15T11:14:03.594Z"
   },
   {
    "duration": 29,
    "start_time": "2022-07-15T11:14:03.607Z"
   },
   {
    "duration": 10,
    "start_time": "2022-07-15T11:14:03.638Z"
   },
   {
    "duration": 11,
    "start_time": "2022-07-15T11:14:03.650Z"
   },
   {
    "duration": 8,
    "start_time": "2022-07-15T11:14:03.662Z"
   },
   {
    "duration": 24,
    "start_time": "2022-07-15T11:14:03.672Z"
   },
   {
    "duration": 8,
    "start_time": "2022-07-15T11:14:03.697Z"
   },
   {
    "duration": 0,
    "start_time": "2022-07-15T11:14:03.706Z"
   },
   {
    "duration": 0,
    "start_time": "2022-07-15T11:14:03.709Z"
   },
   {
    "duration": 0,
    "start_time": "2022-07-15T11:14:03.710Z"
   },
   {
    "duration": 0,
    "start_time": "2022-07-15T11:14:03.712Z"
   },
   {
    "duration": 0,
    "start_time": "2022-07-15T11:14:03.713Z"
   },
   {
    "duration": 0,
    "start_time": "2022-07-15T11:14:03.714Z"
   },
   {
    "duration": 0,
    "start_time": "2022-07-15T11:14:03.716Z"
   },
   {
    "duration": 0,
    "start_time": "2022-07-15T11:14:03.717Z"
   },
   {
    "duration": 0,
    "start_time": "2022-07-15T11:14:03.719Z"
   },
   {
    "duration": 0,
    "start_time": "2022-07-15T11:14:03.720Z"
   },
   {
    "duration": 0,
    "start_time": "2022-07-15T11:14:03.722Z"
   },
   {
    "duration": 0,
    "start_time": "2022-07-15T11:14:03.723Z"
   },
   {
    "duration": 0,
    "start_time": "2022-07-15T11:14:03.724Z"
   },
   {
    "duration": 0,
    "start_time": "2022-07-15T11:14:03.726Z"
   },
   {
    "duration": 0,
    "start_time": "2022-07-15T11:14:03.727Z"
   },
   {
    "duration": 0,
    "start_time": "2022-07-15T11:14:03.729Z"
   },
   {
    "duration": 0,
    "start_time": "2022-07-15T11:14:03.731Z"
   },
   {
    "duration": 0,
    "start_time": "2022-07-15T11:14:03.733Z"
   },
   {
    "duration": 0,
    "start_time": "2022-07-15T11:14:03.734Z"
   },
   {
    "duration": 472,
    "start_time": "2022-07-15T11:16:25.312Z"
   },
   {
    "duration": 1509,
    "start_time": "2022-07-15T11:16:29.240Z"
   },
   {
    "duration": 1388,
    "start_time": "2022-07-15T11:17:04.851Z"
   },
   {
    "duration": 1382,
    "start_time": "2022-07-15T11:18:01.804Z"
   },
   {
    "duration": 8,
    "start_time": "2022-07-15T11:19:17.372Z"
   },
   {
    "duration": 100,
    "start_time": "2022-07-15T11:22:20.030Z"
   },
   {
    "duration": 1586,
    "start_time": "2022-07-15T11:22:37.632Z"
   },
   {
    "duration": 9,
    "start_time": "2022-07-15T11:24:56.766Z"
   },
   {
    "duration": 3,
    "start_time": "2022-07-15T11:25:07.734Z"
   },
   {
    "duration": 20,
    "start_time": "2022-07-15T11:25:10.229Z"
   },
   {
    "duration": 9,
    "start_time": "2022-07-15T11:25:12.687Z"
   },
   {
    "duration": 3,
    "start_time": "2022-07-15T11:28:16.136Z"
   },
   {
    "duration": 11,
    "start_time": "2022-07-15T11:28:34.518Z"
   },
   {
    "duration": 169,
    "start_time": "2022-07-15T11:28:37.466Z"
   },
   {
    "duration": 7,
    "start_time": "2022-07-15T11:29:01.542Z"
   },
   {
    "duration": 126,
    "start_time": "2022-07-15T11:29:05.626Z"
   },
   {
    "duration": 122,
    "start_time": "2022-07-15T11:29:19.135Z"
   },
   {
    "duration": 7,
    "start_time": "2022-07-15T11:29:53.247Z"
   },
   {
    "duration": 145,
    "start_time": "2022-07-15T11:29:56.222Z"
   },
   {
    "duration": 118,
    "start_time": "2022-07-15T11:29:59.457Z"
   },
   {
    "duration": 131,
    "start_time": "2022-07-15T11:30:11.996Z"
   },
   {
    "duration": 84,
    "start_time": "2022-07-15T11:31:09.674Z"
   },
   {
    "duration": 13,
    "start_time": "2022-07-15T11:31:09.760Z"
   },
   {
    "duration": 19,
    "start_time": "2022-07-15T11:31:09.775Z"
   },
   {
    "duration": 16,
    "start_time": "2022-07-15T11:31:09.795Z"
   },
   {
    "duration": 50,
    "start_time": "2022-07-15T11:31:09.813Z"
   },
   {
    "duration": 3,
    "start_time": "2022-07-15T11:31:09.865Z"
   },
   {
    "duration": 10,
    "start_time": "2022-07-15T11:31:09.870Z"
   },
   {
    "duration": 4,
    "start_time": "2022-07-15T11:31:09.882Z"
   },
   {
    "duration": 18,
    "start_time": "2022-07-15T11:31:09.888Z"
   },
   {
    "duration": 5,
    "start_time": "2022-07-15T11:31:09.908Z"
   },
   {
    "duration": 47,
    "start_time": "2022-07-15T11:31:09.914Z"
   },
   {
    "duration": 9,
    "start_time": "2022-07-15T11:31:09.962Z"
   },
   {
    "duration": 3,
    "start_time": "2022-07-15T11:31:09.974Z"
   },
   {
    "duration": 25,
    "start_time": "2022-07-15T11:31:09.981Z"
   },
   {
    "duration": 19,
    "start_time": "2022-07-15T11:31:10.007Z"
   },
   {
    "duration": 23,
    "start_time": "2022-07-15T11:31:10.028Z"
   },
   {
    "duration": 6,
    "start_time": "2022-07-15T11:31:10.052Z"
   },
   {
    "duration": 15,
    "start_time": "2022-07-15T11:31:10.059Z"
   },
   {
    "duration": 6,
    "start_time": "2022-07-15T11:31:10.075Z"
   },
   {
    "duration": 5,
    "start_time": "2022-07-15T11:31:10.082Z"
   },
   {
    "duration": 17,
    "start_time": "2022-07-15T11:31:10.088Z"
   },
   {
    "duration": 2,
    "start_time": "2022-07-15T11:31:10.106Z"
   },
   {
    "duration": 28,
    "start_time": "2022-07-15T11:31:10.109Z"
   },
   {
    "duration": 126,
    "start_time": "2022-07-15T11:31:10.139Z"
   },
   {
    "duration": 203,
    "start_time": "2022-07-15T11:31:10.266Z"
   },
   {
    "duration": 122,
    "start_time": "2022-07-15T11:31:10.470Z"
   },
   {
    "duration": 147,
    "start_time": "2022-07-15T11:31:10.594Z"
   },
   {
    "duration": 136,
    "start_time": "2022-07-15T11:31:10.743Z"
   },
   {
    "duration": 160,
    "start_time": "2022-07-15T11:31:10.881Z"
   },
   {
    "duration": 131,
    "start_time": "2022-07-15T11:31:11.043Z"
   },
   {
    "duration": 133,
    "start_time": "2022-07-15T11:31:11.176Z"
   },
   {
    "duration": 139,
    "start_time": "2022-07-15T11:31:11.310Z"
   },
   {
    "duration": 141,
    "start_time": "2022-07-15T11:31:11.451Z"
   },
   {
    "duration": 135,
    "start_time": "2022-07-15T11:31:11.593Z"
   },
   {
    "duration": 122,
    "start_time": "2022-07-15T11:31:11.730Z"
   },
   {
    "duration": 241,
    "start_time": "2022-07-15T11:31:11.853Z"
   },
   {
    "duration": 7,
    "start_time": "2022-07-15T11:31:12.104Z"
   },
   {
    "duration": 44,
    "start_time": "2022-07-15T11:31:12.112Z"
   },
   {
    "duration": 174,
    "start_time": "2022-07-15T11:31:12.158Z"
   },
   {
    "duration": 138,
    "start_time": "2022-07-15T11:31:12.334Z"
   },
   {
    "duration": 155,
    "start_time": "2022-07-15T11:31:12.475Z"
   },
   {
    "duration": 140,
    "start_time": "2022-07-15T11:31:12.632Z"
   },
   {
    "duration": 163,
    "start_time": "2022-07-15T11:31:12.774Z"
   },
   {
    "duration": 11,
    "start_time": "2022-07-15T11:32:28.745Z"
   },
   {
    "duration": 70,
    "start_time": "2022-07-15T11:32:34.255Z"
   },
   {
    "duration": 15,
    "start_time": "2022-07-15T11:32:34.327Z"
   },
   {
    "duration": 14,
    "start_time": "2022-07-15T11:32:34.343Z"
   },
   {
    "duration": 8,
    "start_time": "2022-07-15T11:32:34.358Z"
   },
   {
    "duration": 65,
    "start_time": "2022-07-15T11:32:34.368Z"
   },
   {
    "duration": 3,
    "start_time": "2022-07-15T11:32:34.436Z"
   },
   {
    "duration": 12,
    "start_time": "2022-07-15T11:32:34.441Z"
   },
   {
    "duration": 5,
    "start_time": "2022-07-15T11:32:34.455Z"
   },
   {
    "duration": 8,
    "start_time": "2022-07-15T11:32:34.461Z"
   },
   {
    "duration": 8,
    "start_time": "2022-07-15T11:32:34.470Z"
   },
   {
    "duration": 67,
    "start_time": "2022-07-15T11:32:34.479Z"
   },
   {
    "duration": 12,
    "start_time": "2022-07-15T11:32:34.547Z"
   },
   {
    "duration": 4,
    "start_time": "2022-07-15T11:32:34.560Z"
   },
   {
    "duration": 51,
    "start_time": "2022-07-15T11:32:34.567Z"
   },
   {
    "duration": 16,
    "start_time": "2022-07-15T11:32:34.619Z"
   },
   {
    "duration": 9,
    "start_time": "2022-07-15T11:32:34.637Z"
   },
   {
    "duration": 4,
    "start_time": "2022-07-15T11:32:34.648Z"
   },
   {
    "duration": 10,
    "start_time": "2022-07-15T11:32:34.654Z"
   },
   {
    "duration": 6,
    "start_time": "2022-07-15T11:32:34.665Z"
   },
   {
    "duration": 5,
    "start_time": "2022-07-15T11:32:34.672Z"
   },
   {
    "duration": 25,
    "start_time": "2022-07-15T11:32:34.702Z"
   },
   {
    "duration": 5,
    "start_time": "2022-07-15T11:32:34.728Z"
   },
   {
    "duration": 8,
    "start_time": "2022-07-15T11:32:34.734Z"
   },
   {
    "duration": 122,
    "start_time": "2022-07-15T11:32:34.744Z"
   },
   {
    "duration": 160,
    "start_time": "2022-07-15T11:32:34.868Z"
   },
   {
    "duration": 146,
    "start_time": "2022-07-15T11:32:35.030Z"
   },
   {
    "duration": 170,
    "start_time": "2022-07-15T11:32:35.179Z"
   },
   {
    "duration": 173,
    "start_time": "2022-07-15T11:32:35.350Z"
   },
   {
    "duration": 215,
    "start_time": "2022-07-15T11:32:35.525Z"
   },
   {
    "duration": 147,
    "start_time": "2022-07-15T11:32:35.742Z"
   },
   {
    "duration": 145,
    "start_time": "2022-07-15T11:32:35.891Z"
   },
   {
    "duration": 137,
    "start_time": "2022-07-15T11:32:36.038Z"
   },
   {
    "duration": 128,
    "start_time": "2022-07-15T11:32:36.177Z"
   },
   {
    "duration": 119,
    "start_time": "2022-07-15T11:32:36.306Z"
   },
   {
    "duration": 147,
    "start_time": "2022-07-15T11:32:36.427Z"
   },
   {
    "duration": 185,
    "start_time": "2022-07-15T11:32:36.576Z"
   },
   {
    "duration": 4,
    "start_time": "2022-07-15T11:32:36.762Z"
   },
   {
    "duration": 16,
    "start_time": "2022-07-15T11:32:36.768Z"
   },
   {
    "duration": 161,
    "start_time": "2022-07-15T11:32:36.785Z"
   },
   {
    "duration": 136,
    "start_time": "2022-07-15T11:32:36.947Z"
   },
   {
    "duration": 140,
    "start_time": "2022-07-15T11:32:37.086Z"
   },
   {
    "duration": 303,
    "start_time": "2022-07-15T11:32:37.228Z"
   },
   {
    "duration": 226,
    "start_time": "2022-07-15T11:32:37.535Z"
   },
   {
    "duration": 135,
    "start_time": "2022-07-15T11:36:16.122Z"
   },
   {
    "duration": 71,
    "start_time": "2022-07-15T11:44:42.242Z"
   },
   {
    "duration": 17,
    "start_time": "2022-07-15T11:44:42.317Z"
   },
   {
    "duration": 18,
    "start_time": "2022-07-15T11:44:42.335Z"
   },
   {
    "duration": 10,
    "start_time": "2022-07-15T11:44:42.355Z"
   },
   {
    "duration": 60,
    "start_time": "2022-07-15T11:44:42.368Z"
   },
   {
    "duration": 4,
    "start_time": "2022-07-15T11:44:42.430Z"
   },
   {
    "duration": 14,
    "start_time": "2022-07-15T11:44:42.436Z"
   },
   {
    "duration": 8,
    "start_time": "2022-07-15T11:44:42.452Z"
   },
   {
    "duration": 10,
    "start_time": "2022-07-15T11:44:42.461Z"
   },
   {
    "duration": 13,
    "start_time": "2022-07-15T11:44:42.473Z"
   },
   {
    "duration": 44,
    "start_time": "2022-07-15T11:44:42.488Z"
   },
   {
    "duration": 8,
    "start_time": "2022-07-15T11:44:42.534Z"
   },
   {
    "duration": 8,
    "start_time": "2022-07-15T11:44:42.543Z"
   },
   {
    "duration": 19,
    "start_time": "2022-07-15T11:44:42.554Z"
   },
   {
    "duration": 40,
    "start_time": "2022-07-15T11:44:42.575Z"
   },
   {
    "duration": 10,
    "start_time": "2022-07-15T11:44:42.616Z"
   },
   {
    "duration": 7,
    "start_time": "2022-07-15T11:44:42.627Z"
   },
   {
    "duration": 23,
    "start_time": "2022-07-15T11:44:42.635Z"
   },
   {
    "duration": 14,
    "start_time": "2022-07-15T11:44:42.659Z"
   },
   {
    "duration": 3,
    "start_time": "2022-07-15T11:44:42.675Z"
   },
   {
    "duration": 11,
    "start_time": "2022-07-15T11:44:42.679Z"
   },
   {
    "duration": 3,
    "start_time": "2022-07-15T11:44:42.692Z"
   },
   {
    "duration": 24,
    "start_time": "2022-07-15T11:44:42.697Z"
   },
   {
    "duration": 136,
    "start_time": "2022-07-15T11:44:42.722Z"
   },
   {
    "duration": 121,
    "start_time": "2022-07-15T11:44:42.859Z"
   },
   {
    "duration": 140,
    "start_time": "2022-07-15T11:44:42.981Z"
   },
   {
    "duration": 141,
    "start_time": "2022-07-15T11:44:43.123Z"
   },
   {
    "duration": 155,
    "start_time": "2022-07-15T11:44:43.265Z"
   },
   {
    "duration": 128,
    "start_time": "2022-07-15T11:44:43.422Z"
   },
   {
    "duration": 137,
    "start_time": "2022-07-15T11:44:43.552Z"
   },
   {
    "duration": 144,
    "start_time": "2022-07-15T11:44:43.691Z"
   },
   {
    "duration": 226,
    "start_time": "2022-07-15T11:44:43.836Z"
   },
   {
    "duration": 130,
    "start_time": "2022-07-15T11:44:44.064Z"
   },
   {
    "duration": 133,
    "start_time": "2022-07-15T11:44:44.202Z"
   },
   {
    "duration": 138,
    "start_time": "2022-07-15T11:44:44.337Z"
   },
   {
    "duration": 160,
    "start_time": "2022-07-15T11:44:44.476Z"
   },
   {
    "duration": 3,
    "start_time": "2022-07-15T11:44:44.638Z"
   },
   {
    "duration": 18,
    "start_time": "2022-07-15T11:44:44.643Z"
   },
   {
    "duration": 147,
    "start_time": "2022-07-15T11:44:44.663Z"
   },
   {
    "duration": 153,
    "start_time": "2022-07-15T11:44:44.811Z"
   },
   {
    "duration": 141,
    "start_time": "2022-07-15T11:44:44.966Z"
   },
   {
    "duration": 203,
    "start_time": "2022-07-15T11:44:45.114Z"
   },
   {
    "duration": 161,
    "start_time": "2022-07-15T11:44:45.319Z"
   },
   {
    "duration": 10,
    "start_time": "2022-07-15T11:46:44.296Z"
   },
   {
    "duration": 131,
    "start_time": "2022-07-15T11:46:47.160Z"
   },
   {
    "duration": 74,
    "start_time": "2022-07-15T11:47:05.451Z"
   },
   {
    "duration": 14,
    "start_time": "2022-07-15T11:47:05.527Z"
   },
   {
    "duration": 16,
    "start_time": "2022-07-15T11:47:05.543Z"
   },
   {
    "duration": 16,
    "start_time": "2022-07-15T11:47:05.560Z"
   },
   {
    "duration": 60,
    "start_time": "2022-07-15T11:47:05.578Z"
   },
   {
    "duration": 3,
    "start_time": "2022-07-15T11:47:05.640Z"
   },
   {
    "duration": 13,
    "start_time": "2022-07-15T11:47:05.644Z"
   },
   {
    "duration": 15,
    "start_time": "2022-07-15T11:47:05.658Z"
   },
   {
    "duration": 12,
    "start_time": "2022-07-15T11:47:05.674Z"
   },
   {
    "duration": 10,
    "start_time": "2022-07-15T11:47:05.687Z"
   },
   {
    "duration": 51,
    "start_time": "2022-07-15T11:47:05.698Z"
   },
   {
    "duration": 8,
    "start_time": "2022-07-15T11:47:05.751Z"
   },
   {
    "duration": 17,
    "start_time": "2022-07-15T11:47:05.761Z"
   },
   {
    "duration": 16,
    "start_time": "2022-07-15T11:47:05.870Z"
   },
   {
    "duration": 30,
    "start_time": "2022-07-15T11:47:05.887Z"
   },
   {
    "duration": 11,
    "start_time": "2022-07-15T11:47:05.919Z"
   },
   {
    "duration": 17,
    "start_time": "2022-07-15T11:47:05.932Z"
   },
   {
    "duration": 17,
    "start_time": "2022-07-15T11:47:05.951Z"
   },
   {
    "duration": 23,
    "start_time": "2022-07-15T11:47:05.969Z"
   },
   {
    "duration": 7,
    "start_time": "2022-07-15T11:47:05.993Z"
   },
   {
    "duration": 32,
    "start_time": "2022-07-15T11:47:06.002Z"
   },
   {
    "duration": 17,
    "start_time": "2022-07-15T11:47:06.035Z"
   },
   {
    "duration": 11,
    "start_time": "2022-07-15T11:47:06.053Z"
   },
   {
    "duration": 153,
    "start_time": "2022-07-15T11:47:06.066Z"
   },
   {
    "duration": 132,
    "start_time": "2022-07-15T11:47:06.221Z"
   },
   {
    "duration": 124,
    "start_time": "2022-07-15T11:47:06.355Z"
   },
   {
    "duration": 143,
    "start_time": "2022-07-15T11:47:06.480Z"
   },
   {
    "duration": 134,
    "start_time": "2022-07-15T11:47:06.625Z"
   },
   {
    "duration": 126,
    "start_time": "2022-07-15T11:47:06.761Z"
   },
   {
    "duration": 159,
    "start_time": "2022-07-15T11:47:06.889Z"
   },
   {
    "duration": 138,
    "start_time": "2022-07-15T11:47:07.050Z"
   },
   {
    "duration": 141,
    "start_time": "2022-07-15T11:47:07.190Z"
   },
   {
    "duration": 138,
    "start_time": "2022-07-15T11:47:07.333Z"
   },
   {
    "duration": 163,
    "start_time": "2022-07-15T11:47:07.473Z"
   },
   {
    "duration": 242,
    "start_time": "2022-07-15T11:47:07.638Z"
   },
   {
    "duration": 152,
    "start_time": "2022-07-15T11:47:07.882Z"
   },
   {
    "duration": 3,
    "start_time": "2022-07-15T11:47:08.036Z"
   },
   {
    "duration": 13,
    "start_time": "2022-07-15T11:47:08.041Z"
   },
   {
    "duration": 163,
    "start_time": "2022-07-15T11:47:08.055Z"
   },
   {
    "duration": 129,
    "start_time": "2022-07-15T11:47:08.219Z"
   },
   {
    "duration": 133,
    "start_time": "2022-07-15T11:47:08.351Z"
   },
   {
    "duration": 168,
    "start_time": "2022-07-15T11:47:08.486Z"
   },
   {
    "duration": 201,
    "start_time": "2022-07-15T11:47:08.655Z"
   },
   {
    "duration": 8,
    "start_time": "2022-07-15T11:47:36.320Z"
   },
   {
    "duration": 7,
    "start_time": "2022-07-15T11:49:14.351Z"
   },
   {
    "duration": 151,
    "start_time": "2022-07-15T11:49:18.334Z"
   },
   {
    "duration": 8,
    "start_time": "2022-07-15T11:49:26.730Z"
   },
   {
    "duration": 148,
    "start_time": "2022-07-15T11:49:29.773Z"
   },
   {
    "duration": 119,
    "start_time": "2022-07-15T11:54:44.631Z"
   },
   {
    "duration": 7,
    "start_time": "2022-07-15T11:54:52.064Z"
   },
   {
    "duration": 136,
    "start_time": "2022-07-15T11:54:55.286Z"
   },
   {
    "duration": 106,
    "start_time": "2022-07-15T11:56:06.422Z"
   },
   {
    "duration": 85,
    "start_time": "2022-07-15T11:56:10.001Z"
   },
   {
    "duration": 23,
    "start_time": "2022-07-15T11:56:10.088Z"
   },
   {
    "duration": 30,
    "start_time": "2022-07-15T11:56:10.112Z"
   },
   {
    "duration": 14,
    "start_time": "2022-07-15T11:56:10.143Z"
   },
   {
    "duration": 36,
    "start_time": "2022-07-15T11:56:10.164Z"
   },
   {
    "duration": 12,
    "start_time": "2022-07-15T11:56:10.201Z"
   },
   {
    "duration": 23,
    "start_time": "2022-07-15T11:56:10.217Z"
   },
   {
    "duration": 9,
    "start_time": "2022-07-15T11:56:10.242Z"
   },
   {
    "duration": 12,
    "start_time": "2022-07-15T11:56:10.253Z"
   },
   {
    "duration": 11,
    "start_time": "2022-07-15T11:56:10.266Z"
   },
   {
    "duration": 47,
    "start_time": "2022-07-15T11:56:10.279Z"
   },
   {
    "duration": 10,
    "start_time": "2022-07-15T11:56:10.328Z"
   },
   {
    "duration": 12,
    "start_time": "2022-07-15T11:56:10.340Z"
   },
   {
    "duration": 30,
    "start_time": "2022-07-15T11:56:10.356Z"
   },
   {
    "duration": 26,
    "start_time": "2022-07-15T11:56:10.388Z"
   },
   {
    "duration": 15,
    "start_time": "2022-07-15T11:56:10.415Z"
   },
   {
    "duration": 8,
    "start_time": "2022-07-15T11:56:10.432Z"
   },
   {
    "duration": 17,
    "start_time": "2022-07-15T11:56:10.442Z"
   },
   {
    "duration": 23,
    "start_time": "2022-07-15T11:56:10.461Z"
   },
   {
    "duration": 15,
    "start_time": "2022-07-15T11:56:10.485Z"
   },
   {
    "duration": 50,
    "start_time": "2022-07-15T11:56:10.502Z"
   },
   {
    "duration": 16,
    "start_time": "2022-07-15T11:56:10.554Z"
   },
   {
    "duration": 19,
    "start_time": "2022-07-15T11:56:10.572Z"
   },
   {
    "duration": 157,
    "start_time": "2022-07-15T11:56:10.593Z"
   },
   {
    "duration": 130,
    "start_time": "2022-07-15T11:56:10.751Z"
   },
   {
    "duration": 148,
    "start_time": "2022-07-15T11:56:10.883Z"
   },
   {
    "duration": 134,
    "start_time": "2022-07-15T11:56:11.032Z"
   },
   {
    "duration": 156,
    "start_time": "2022-07-15T11:56:11.168Z"
   },
   {
    "duration": 133,
    "start_time": "2022-07-15T11:56:11.325Z"
   },
   {
    "duration": 155,
    "start_time": "2022-07-15T11:56:11.460Z"
   },
   {
    "duration": 141,
    "start_time": "2022-07-15T11:56:11.617Z"
   },
   {
    "duration": 126,
    "start_time": "2022-07-15T11:56:11.760Z"
   },
   {
    "duration": 131,
    "start_time": "2022-07-15T11:56:11.888Z"
   },
   {
    "duration": 120,
    "start_time": "2022-07-15T11:56:12.021Z"
   },
   {
    "duration": 227,
    "start_time": "2022-07-15T11:56:12.143Z"
   },
   {
    "duration": 157,
    "start_time": "2022-07-15T11:56:12.371Z"
   },
   {
    "duration": 8,
    "start_time": "2022-07-15T11:56:12.530Z"
   },
   {
    "duration": 12,
    "start_time": "2022-07-15T11:56:12.539Z"
   },
   {
    "duration": 140,
    "start_time": "2022-07-15T11:56:12.552Z"
   },
   {
    "duration": 151,
    "start_time": "2022-07-15T11:56:12.694Z"
   },
   {
    "duration": 134,
    "start_time": "2022-07-15T11:56:12.849Z"
   },
   {
    "duration": 177,
    "start_time": "2022-07-15T11:56:12.985Z"
   },
   {
    "duration": 173,
    "start_time": "2022-07-15T11:56:13.163Z"
   },
   {
    "duration": 77,
    "start_time": "2022-07-15T11:56:38.184Z"
   },
   {
    "duration": 15,
    "start_time": "2022-07-15T11:56:38.263Z"
   },
   {
    "duration": 17,
    "start_time": "2022-07-15T11:56:38.279Z"
   },
   {
    "duration": 16,
    "start_time": "2022-07-15T11:56:38.298Z"
   },
   {
    "duration": 42,
    "start_time": "2022-07-15T11:56:38.316Z"
   },
   {
    "duration": 3,
    "start_time": "2022-07-15T11:56:38.360Z"
   },
   {
    "duration": 11,
    "start_time": "2022-07-15T11:56:38.365Z"
   },
   {
    "duration": 4,
    "start_time": "2022-07-15T11:56:38.378Z"
   },
   {
    "duration": 7,
    "start_time": "2022-07-15T11:56:38.401Z"
   },
   {
    "duration": 13,
    "start_time": "2022-07-15T11:56:38.415Z"
   },
   {
    "duration": 40,
    "start_time": "2022-07-15T11:56:38.430Z"
   },
   {
    "duration": 9,
    "start_time": "2022-07-15T11:56:38.472Z"
   },
   {
    "duration": 4,
    "start_time": "2022-07-15T11:56:38.483Z"
   },
   {
    "duration": 23,
    "start_time": "2022-07-15T11:56:38.505Z"
   },
   {
    "duration": 21,
    "start_time": "2022-07-15T11:56:38.530Z"
   },
   {
    "duration": 11,
    "start_time": "2022-07-15T11:56:38.553Z"
   },
   {
    "duration": 5,
    "start_time": "2022-07-15T11:56:38.566Z"
   },
   {
    "duration": 43,
    "start_time": "2022-07-15T11:56:38.573Z"
   },
   {
    "duration": 14,
    "start_time": "2022-07-15T11:56:38.618Z"
   },
   {
    "duration": 3,
    "start_time": "2022-07-15T11:56:38.634Z"
   },
   {
    "duration": 10,
    "start_time": "2022-07-15T11:56:38.638Z"
   },
   {
    "duration": 5,
    "start_time": "2022-07-15T11:56:38.650Z"
   },
   {
    "duration": 9,
    "start_time": "2022-07-15T11:56:41.788Z"
   },
   {
    "duration": 144,
    "start_time": "2022-07-15T11:56:41.798Z"
   },
   {
    "duration": 120,
    "start_time": "2022-07-15T11:56:41.944Z"
   },
   {
    "duration": 154,
    "start_time": "2022-07-15T11:56:42.066Z"
   },
   {
    "duration": 131,
    "start_time": "2022-07-15T11:56:42.222Z"
   },
   {
    "duration": 232,
    "start_time": "2022-07-15T11:56:42.355Z"
   },
   {
    "duration": 145,
    "start_time": "2022-07-15T11:56:42.589Z"
   },
   {
    "duration": 143,
    "start_time": "2022-07-15T11:56:42.736Z"
   },
   {
    "duration": 168,
    "start_time": "2022-07-15T11:56:42.881Z"
   },
   {
    "duration": 160,
    "start_time": "2022-07-15T11:56:43.052Z"
   },
   {
    "duration": 118,
    "start_time": "2022-07-15T11:56:43.213Z"
   },
   {
    "duration": 151,
    "start_time": "2022-07-15T11:56:43.333Z"
   },
   {
    "duration": 175,
    "start_time": "2022-07-15T11:56:43.486Z"
   },
   {
    "duration": 162,
    "start_time": "2022-07-15T11:56:43.662Z"
   },
   {
    "duration": 4,
    "start_time": "2022-07-15T11:56:43.826Z"
   },
   {
    "duration": 9,
    "start_time": "2022-07-15T11:56:43.832Z"
   },
   {
    "duration": 173,
    "start_time": "2022-07-15T11:56:43.843Z"
   },
   {
    "duration": 156,
    "start_time": "2022-07-15T11:56:44.017Z"
   },
   {
    "duration": 168,
    "start_time": "2022-07-15T11:56:44.175Z"
   },
   {
    "duration": 279,
    "start_time": "2022-07-15T11:56:44.345Z"
   },
   {
    "duration": 172,
    "start_time": "2022-07-15T11:56:44.626Z"
   },
   {
    "duration": 4,
    "start_time": "2022-07-15T12:02:32.527Z"
   },
   {
    "duration": 128,
    "start_time": "2022-07-15T12:02:35.614Z"
   },
   {
    "duration": 6,
    "start_time": "2022-07-15T12:02:52.597Z"
   },
   {
    "duration": 138,
    "start_time": "2022-07-15T12:02:54.708Z"
   },
   {
    "duration": 4,
    "start_time": "2022-07-15T12:04:19.766Z"
   },
   {
    "duration": 175,
    "start_time": "2022-07-15T12:04:22.346Z"
   },
   {
    "duration": 65,
    "start_time": "2022-07-15T12:06:02.913Z"
   },
   {
    "duration": 14,
    "start_time": "2022-07-15T12:06:02.980Z"
   },
   {
    "duration": 30,
    "start_time": "2022-07-15T12:06:02.996Z"
   },
   {
    "duration": 9,
    "start_time": "2022-07-15T12:06:03.028Z"
   },
   {
    "duration": 35,
    "start_time": "2022-07-15T12:06:03.038Z"
   },
   {
    "duration": 4,
    "start_time": "2022-07-15T12:06:03.075Z"
   },
   {
    "duration": 30,
    "start_time": "2022-07-15T12:06:03.080Z"
   },
   {
    "duration": 16,
    "start_time": "2022-07-15T12:06:03.111Z"
   },
   {
    "duration": 10,
    "start_time": "2022-07-15T12:06:03.129Z"
   },
   {
    "duration": 14,
    "start_time": "2022-07-15T12:06:03.142Z"
   },
   {
    "duration": 33,
    "start_time": "2022-07-15T12:06:03.157Z"
   },
   {
    "duration": 7,
    "start_time": "2022-07-15T12:06:03.191Z"
   },
   {
    "duration": 17,
    "start_time": "2022-07-15T12:06:03.200Z"
   },
   {
    "duration": 20,
    "start_time": "2022-07-15T12:06:03.218Z"
   },
   {
    "duration": 16,
    "start_time": "2022-07-15T12:06:03.239Z"
   },
   {
    "duration": 10,
    "start_time": "2022-07-15T12:06:03.257Z"
   },
   {
    "duration": 7,
    "start_time": "2022-07-15T12:06:03.268Z"
   },
   {
    "duration": 16,
    "start_time": "2022-07-15T12:06:03.277Z"
   },
   {
    "duration": 11,
    "start_time": "2022-07-15T12:06:03.295Z"
   },
   {
    "duration": 14,
    "start_time": "2022-07-15T12:06:03.308Z"
   },
   {
    "duration": 15,
    "start_time": "2022-07-15T12:06:03.323Z"
   },
   {
    "duration": 2,
    "start_time": "2022-07-15T12:06:03.340Z"
   },
   {
    "duration": 10,
    "start_time": "2022-07-15T12:06:03.344Z"
   },
   {
    "duration": 21,
    "start_time": "2022-07-15T12:06:03.356Z"
   },
   {
    "duration": 152,
    "start_time": "2022-07-15T12:06:03.379Z"
   },
   {
    "duration": 144,
    "start_time": "2022-07-15T12:06:03.533Z"
   },
   {
    "duration": 145,
    "start_time": "2022-07-15T12:06:03.678Z"
   },
   {
    "duration": 142,
    "start_time": "2022-07-15T12:06:03.826Z"
   },
   {
    "duration": 151,
    "start_time": "2022-07-15T12:06:03.970Z"
   },
   {
    "duration": 120,
    "start_time": "2022-07-15T12:06:04.123Z"
   },
   {
    "duration": 214,
    "start_time": "2022-07-15T12:06:04.244Z"
   },
   {
    "duration": 134,
    "start_time": "2022-07-15T12:06:04.460Z"
   },
   {
    "duration": 157,
    "start_time": "2022-07-15T12:06:04.596Z"
   },
   {
    "duration": 122,
    "start_time": "2022-07-15T12:06:04.756Z"
   },
   {
    "duration": 114,
    "start_time": "2022-07-15T12:06:04.879Z"
   },
   {
    "duration": 172,
    "start_time": "2022-07-15T12:06:04.994Z"
   },
   {
    "duration": 175,
    "start_time": "2022-07-15T12:06:05.168Z"
   },
   {
    "duration": 3,
    "start_time": "2022-07-15T12:06:05.344Z"
   },
   {
    "duration": 31,
    "start_time": "2022-07-15T12:06:05.349Z"
   },
   {
    "duration": 159,
    "start_time": "2022-07-15T12:06:05.381Z"
   },
   {
    "duration": 132,
    "start_time": "2022-07-15T12:06:05.542Z"
   },
   {
    "duration": 146,
    "start_time": "2022-07-15T12:06:05.675Z"
   },
   {
    "duration": 194,
    "start_time": "2022-07-15T12:06:05.822Z"
   },
   {
    "duration": 165,
    "start_time": "2022-07-15T12:06:06.018Z"
   },
   {
    "duration": 79,
    "start_time": "2022-07-15T12:08:04.992Z"
   },
   {
    "duration": 14,
    "start_time": "2022-07-15T12:08:05.073Z"
   },
   {
    "duration": 20,
    "start_time": "2022-07-15T12:08:05.089Z"
   },
   {
    "duration": 27,
    "start_time": "2022-07-15T12:08:05.111Z"
   },
   {
    "duration": 35,
    "start_time": "2022-07-15T12:08:05.140Z"
   },
   {
    "duration": 4,
    "start_time": "2022-07-15T12:08:05.176Z"
   },
   {
    "duration": 27,
    "start_time": "2022-07-15T12:08:05.182Z"
   },
   {
    "duration": 6,
    "start_time": "2022-07-15T12:08:05.211Z"
   },
   {
    "duration": 23,
    "start_time": "2022-07-15T12:08:05.219Z"
   },
   {
    "duration": 6,
    "start_time": "2022-07-15T12:08:05.246Z"
   },
   {
    "duration": 122,
    "start_time": "2022-07-15T12:08:05.254Z"
   },
   {
    "duration": 8,
    "start_time": "2022-07-15T12:08:05.378Z"
   },
   {
    "duration": 16,
    "start_time": "2022-07-15T12:08:05.388Z"
   },
   {
    "duration": 18,
    "start_time": "2022-07-15T12:08:05.414Z"
   },
   {
    "duration": 19,
    "start_time": "2022-07-15T12:08:05.434Z"
   },
   {
    "duration": 11,
    "start_time": "2022-07-15T12:08:05.455Z"
   },
   {
    "duration": 8,
    "start_time": "2022-07-15T12:08:05.468Z"
   },
   {
    "duration": 28,
    "start_time": "2022-07-15T12:08:05.479Z"
   },
   {
    "duration": 5,
    "start_time": "2022-07-15T12:08:05.517Z"
   },
   {
    "duration": 4,
    "start_time": "2022-07-15T12:08:05.524Z"
   },
   {
    "duration": 14,
    "start_time": "2022-07-15T12:08:05.530Z"
   },
   {
    "duration": 2,
    "start_time": "2022-07-15T12:08:05.546Z"
   },
   {
    "duration": 9,
    "start_time": "2022-07-15T12:08:05.550Z"
   },
   {
    "duration": 8,
    "start_time": "2022-07-15T12:08:05.561Z"
   },
   {
    "duration": 167,
    "start_time": "2022-07-15T12:08:05.570Z"
   },
   {
    "duration": 135,
    "start_time": "2022-07-15T12:08:05.739Z"
   },
   {
    "duration": 150,
    "start_time": "2022-07-15T12:08:05.876Z"
   },
   {
    "duration": 136,
    "start_time": "2022-07-15T12:08:06.029Z"
   },
   {
    "duration": 154,
    "start_time": "2022-07-15T12:08:06.167Z"
   },
   {
    "duration": 124,
    "start_time": "2022-07-15T12:08:06.323Z"
   },
   {
    "duration": 130,
    "start_time": "2022-07-15T12:08:06.448Z"
   },
   {
    "duration": 148,
    "start_time": "2022-07-15T12:08:06.580Z"
   },
   {
    "duration": 132,
    "start_time": "2022-07-15T12:08:06.729Z"
   },
   {
    "duration": 121,
    "start_time": "2022-07-15T12:08:06.863Z"
   },
   {
    "duration": 133,
    "start_time": "2022-07-15T12:08:06.986Z"
   },
   {
    "duration": 228,
    "start_time": "2022-07-15T12:08:07.120Z"
   },
   {
    "duration": 189,
    "start_time": "2022-07-15T12:08:07.350Z"
   },
   {
    "duration": 4,
    "start_time": "2022-07-15T12:08:07.541Z"
   },
   {
    "duration": 34,
    "start_time": "2022-07-15T12:08:07.547Z"
   },
   {
    "duration": 170,
    "start_time": "2022-07-15T12:08:07.583Z"
   },
   {
    "duration": 135,
    "start_time": "2022-07-15T12:08:07.754Z"
   },
   {
    "duration": 149,
    "start_time": "2022-07-15T12:08:07.891Z"
   },
   {
    "duration": 176,
    "start_time": "2022-07-15T12:08:08.042Z"
   },
   {
    "duration": 162,
    "start_time": "2022-07-15T12:08:08.219Z"
   },
   {
    "duration": 13,
    "start_time": "2022-07-15T12:13:59.627Z"
   },
   {
    "duration": 107,
    "start_time": "2022-07-15T12:14:32.821Z"
   },
   {
    "duration": 6,
    "start_time": "2022-07-15T12:14:38.826Z"
   },
   {
    "duration": 1504,
    "start_time": "2022-07-15T12:14:50.385Z"
   },
   {
    "duration": 5,
    "start_time": "2022-07-15T12:15:25.054Z"
   },
   {
    "duration": 4,
    "start_time": "2022-07-15T12:15:34.025Z"
   },
   {
    "duration": 71,
    "start_time": "2022-07-15T12:16:02.461Z"
   },
   {
    "duration": 14,
    "start_time": "2022-07-15T12:16:02.534Z"
   },
   {
    "duration": 25,
    "start_time": "2022-07-15T12:16:02.549Z"
   },
   {
    "duration": 9,
    "start_time": "2022-07-15T12:16:02.576Z"
   },
   {
    "duration": 54,
    "start_time": "2022-07-15T12:16:02.586Z"
   },
   {
    "duration": 3,
    "start_time": "2022-07-15T12:16:02.642Z"
   },
   {
    "duration": 11,
    "start_time": "2022-07-15T12:16:02.646Z"
   },
   {
    "duration": 10,
    "start_time": "2022-07-15T12:16:02.658Z"
   },
   {
    "duration": 7,
    "start_time": "2022-07-15T12:16:02.669Z"
   },
   {
    "duration": 3,
    "start_time": "2022-07-15T12:16:02.679Z"
   },
   {
    "duration": 56,
    "start_time": "2022-07-15T12:16:02.683Z"
   },
   {
    "duration": 8,
    "start_time": "2022-07-15T12:16:02.740Z"
   },
   {
    "duration": 4,
    "start_time": "2022-07-15T12:16:02.750Z"
   },
   {
    "duration": 19,
    "start_time": "2022-07-15T12:16:02.755Z"
   },
   {
    "duration": 43,
    "start_time": "2022-07-15T12:16:02.775Z"
   },
   {
    "duration": 11,
    "start_time": "2022-07-15T12:16:02.823Z"
   },
   {
    "duration": 3,
    "start_time": "2022-07-15T12:16:02.836Z"
   },
   {
    "duration": 11,
    "start_time": "2022-07-15T12:16:02.840Z"
   },
   {
    "duration": 8,
    "start_time": "2022-07-15T12:16:02.852Z"
   },
   {
    "duration": 3,
    "start_time": "2022-07-15T12:16:02.861Z"
   },
   {
    "duration": 8,
    "start_time": "2022-07-15T12:16:02.866Z"
   },
   {
    "duration": 2,
    "start_time": "2022-07-15T12:16:02.875Z"
   },
   {
    "duration": 23,
    "start_time": "2022-07-15T12:16:02.879Z"
   },
   {
    "duration": 5,
    "start_time": "2022-07-15T12:16:02.905Z"
   },
   {
    "duration": 162,
    "start_time": "2022-07-15T12:16:02.912Z"
   },
   {
    "duration": 159,
    "start_time": "2022-07-15T12:16:03.075Z"
   },
   {
    "duration": 142,
    "start_time": "2022-07-15T12:16:03.236Z"
   },
   {
    "duration": 168,
    "start_time": "2022-07-15T12:16:03.382Z"
   },
   {
    "duration": 225,
    "start_time": "2022-07-15T12:16:03.552Z"
   },
   {
    "duration": 140,
    "start_time": "2022-07-15T12:16:03.778Z"
   },
   {
    "duration": 135,
    "start_time": "2022-07-15T12:16:03.920Z"
   },
   {
    "duration": 128,
    "start_time": "2022-07-15T12:16:04.057Z"
   },
   {
    "duration": 146,
    "start_time": "2022-07-15T12:16:04.187Z"
   },
   {
    "duration": 117,
    "start_time": "2022-07-15T12:16:04.334Z"
   },
   {
    "duration": 118,
    "start_time": "2022-07-15T12:16:04.453Z"
   },
   {
    "duration": 145,
    "start_time": "2022-07-15T12:16:04.573Z"
   },
   {
    "duration": 150,
    "start_time": "2022-07-15T12:16:04.723Z"
   },
   {
    "duration": 3,
    "start_time": "2022-07-15T12:16:04.874Z"
   },
   {
    "duration": 11,
    "start_time": "2022-07-15T12:16:04.879Z"
   },
   {
    "duration": 155,
    "start_time": "2022-07-15T12:16:04.891Z"
   },
   {
    "duration": 143,
    "start_time": "2022-07-15T12:16:05.048Z"
   },
   {
    "duration": 170,
    "start_time": "2022-07-15T12:16:05.193Z"
   },
   {
    "duration": 264,
    "start_time": "2022-07-15T12:16:05.365Z"
   },
   {
    "duration": 159,
    "start_time": "2022-07-15T12:16:05.630Z"
   },
   {
    "duration": 10,
    "start_time": "2022-07-15T12:16:41.470Z"
   },
   {
    "duration": 166,
    "start_time": "2022-07-15T12:16:45.094Z"
   },
   {
    "duration": 74,
    "start_time": "2022-07-15T12:17:08.151Z"
   },
   {
    "duration": 16,
    "start_time": "2022-07-15T12:17:08.228Z"
   },
   {
    "duration": 15,
    "start_time": "2022-07-15T12:17:08.245Z"
   },
   {
    "duration": 8,
    "start_time": "2022-07-15T12:17:08.262Z"
   },
   {
    "duration": 61,
    "start_time": "2022-07-15T12:17:08.272Z"
   },
   {
    "duration": 3,
    "start_time": "2022-07-15T12:17:08.334Z"
   },
   {
    "duration": 9,
    "start_time": "2022-07-15T12:17:08.339Z"
   },
   {
    "duration": 4,
    "start_time": "2022-07-15T12:17:08.350Z"
   },
   {
    "duration": 6,
    "start_time": "2022-07-15T12:17:08.355Z"
   },
   {
    "duration": 5,
    "start_time": "2022-07-15T12:17:08.363Z"
   },
   {
    "duration": 61,
    "start_time": "2022-07-15T12:17:08.370Z"
   },
   {
    "duration": 9,
    "start_time": "2022-07-15T12:17:08.433Z"
   },
   {
    "duration": 7,
    "start_time": "2022-07-15T12:17:08.443Z"
   },
   {
    "duration": 16,
    "start_time": "2022-07-15T12:17:08.451Z"
   },
   {
    "duration": 16,
    "start_time": "2022-07-15T12:17:08.468Z"
   },
   {
    "duration": 29,
    "start_time": "2022-07-15T12:17:08.486Z"
   },
   {
    "duration": 20,
    "start_time": "2022-07-15T12:17:08.519Z"
   },
   {
    "duration": 10,
    "start_time": "2022-07-15T12:17:08.541Z"
   },
   {
    "duration": 5,
    "start_time": "2022-07-15T12:17:08.553Z"
   },
   {
    "duration": 4,
    "start_time": "2022-07-15T12:17:08.560Z"
   },
   {
    "duration": 9,
    "start_time": "2022-07-15T12:17:08.565Z"
   },
   {
    "duration": 2,
    "start_time": "2022-07-15T12:17:08.575Z"
   },
   {
    "duration": 7,
    "start_time": "2022-07-15T12:17:08.579Z"
   },
   {
    "duration": 25,
    "start_time": "2022-07-15T12:17:08.587Z"
   },
   {
    "duration": 160,
    "start_time": "2022-07-15T12:17:08.613Z"
   },
   {
    "duration": 184,
    "start_time": "2022-07-15T12:17:08.775Z"
   },
   {
    "duration": 170,
    "start_time": "2022-07-15T12:17:08.961Z"
   },
   {
    "duration": 161,
    "start_time": "2022-07-15T12:17:09.134Z"
   },
   {
    "duration": 144,
    "start_time": "2022-07-15T12:17:09.297Z"
   },
   {
    "duration": 132,
    "start_time": "2022-07-15T12:17:09.443Z"
   },
   {
    "duration": 143,
    "start_time": "2022-07-15T12:17:09.576Z"
   },
   {
    "duration": 152,
    "start_time": "2022-07-15T12:17:09.720Z"
   },
   {
    "duration": 225,
    "start_time": "2022-07-15T12:17:09.874Z"
   },
   {
    "duration": 122,
    "start_time": "2022-07-15T12:17:10.102Z"
   },
   {
    "duration": 129,
    "start_time": "2022-07-15T12:17:10.225Z"
   },
   {
    "duration": 165,
    "start_time": "2022-07-15T12:17:10.355Z"
   },
   {
    "duration": 153,
    "start_time": "2022-07-15T12:17:10.526Z"
   },
   {
    "duration": 3,
    "start_time": "2022-07-15T12:17:10.682Z"
   },
   {
    "duration": 38,
    "start_time": "2022-07-15T12:17:10.687Z"
   },
   {
    "duration": 165,
    "start_time": "2022-07-15T12:17:10.727Z"
   },
   {
    "duration": 153,
    "start_time": "2022-07-15T12:17:10.894Z"
   },
   {
    "duration": 144,
    "start_time": "2022-07-15T12:17:11.049Z"
   },
   {
    "duration": 209,
    "start_time": "2022-07-15T12:17:11.196Z"
   },
   {
    "duration": 177,
    "start_time": "2022-07-15T12:17:11.407Z"
   },
   {
    "duration": 4,
    "start_time": "2022-07-15T12:20:51.061Z"
   },
   {
    "duration": 110,
    "start_time": "2022-07-15T12:21:52.072Z"
   },
   {
    "duration": 15,
    "start_time": "2022-07-15T12:21:52.184Z"
   },
   {
    "duration": 58,
    "start_time": "2022-07-15T12:21:52.200Z"
   },
   {
    "duration": 14,
    "start_time": "2022-07-15T12:21:52.261Z"
   },
   {
    "duration": 53,
    "start_time": "2022-07-15T12:21:52.277Z"
   },
   {
    "duration": 7,
    "start_time": "2022-07-15T12:21:52.332Z"
   },
   {
    "duration": 25,
    "start_time": "2022-07-15T12:21:52.341Z"
   },
   {
    "duration": 5,
    "start_time": "2022-07-15T12:21:52.368Z"
   },
   {
    "duration": 8,
    "start_time": "2022-07-15T12:21:52.374Z"
   },
   {
    "duration": 9,
    "start_time": "2022-07-15T12:21:52.385Z"
   },
   {
    "duration": 65,
    "start_time": "2022-07-15T12:21:52.396Z"
   },
   {
    "duration": 13,
    "start_time": "2022-07-15T12:21:52.463Z"
   },
   {
    "duration": 6,
    "start_time": "2022-07-15T12:21:52.478Z"
   },
   {
    "duration": 25,
    "start_time": "2022-07-15T12:21:52.485Z"
   },
   {
    "duration": 24,
    "start_time": "2022-07-15T12:21:52.512Z"
   },
   {
    "duration": 29,
    "start_time": "2022-07-15T12:21:52.540Z"
   },
   {
    "duration": 5,
    "start_time": "2022-07-15T12:21:52.571Z"
   },
   {
    "duration": 13,
    "start_time": "2022-07-15T12:21:52.577Z"
   },
   {
    "duration": 16,
    "start_time": "2022-07-15T12:21:52.591Z"
   },
   {
    "duration": 47,
    "start_time": "2022-07-15T12:21:52.609Z"
   },
   {
    "duration": 10,
    "start_time": "2022-07-15T12:21:52.658Z"
   },
   {
    "duration": 23,
    "start_time": "2022-07-15T12:21:52.670Z"
   },
   {
    "duration": 13,
    "start_time": "2022-07-15T12:21:52.695Z"
   },
   {
    "duration": 61,
    "start_time": "2022-07-15T12:21:52.710Z"
   },
   {
    "duration": 178,
    "start_time": "2022-07-15T12:21:52.773Z"
   },
   {
    "duration": 263,
    "start_time": "2022-07-15T12:21:52.958Z"
   },
   {
    "duration": 171,
    "start_time": "2022-07-15T12:21:53.226Z"
   },
   {
    "duration": 172,
    "start_time": "2022-07-15T12:21:53.400Z"
   },
   {
    "duration": 155,
    "start_time": "2022-07-15T12:21:53.574Z"
   },
   {
    "duration": 142,
    "start_time": "2022-07-15T12:21:53.731Z"
   },
   {
    "duration": 170,
    "start_time": "2022-07-15T12:21:53.875Z"
   },
   {
    "duration": 140,
    "start_time": "2022-07-15T12:21:54.047Z"
   },
   {
    "duration": 155,
    "start_time": "2022-07-15T12:21:54.188Z"
   },
   {
    "duration": 145,
    "start_time": "2022-07-15T12:21:54.345Z"
   },
   {
    "duration": 170,
    "start_time": "2022-07-15T12:21:54.492Z"
   },
   {
    "duration": 168,
    "start_time": "2022-07-15T12:21:54.668Z"
   },
   {
    "duration": 158,
    "start_time": "2022-07-15T12:21:54.837Z"
   },
   {
    "duration": 3,
    "start_time": "2022-07-15T12:21:54.997Z"
   },
   {
    "duration": 74,
    "start_time": "2022-07-15T12:21:55.001Z"
   },
   {
    "duration": 285,
    "start_time": "2022-07-15T12:21:55.077Z"
   },
   {
    "duration": 169,
    "start_time": "2022-07-15T12:21:55.365Z"
   },
   {
    "duration": 145,
    "start_time": "2022-07-15T12:21:55.538Z"
   },
   {
    "duration": 210,
    "start_time": "2022-07-15T12:21:55.684Z"
   },
   {
    "duration": 182,
    "start_time": "2022-07-15T12:21:55.896Z"
   }
  ],
  "colab": {
   "name": "dpp_template_part2.ipynb",
   "provenance": []
  },
  "kernelspec": {
   "display_name": "Python 3 (ipykernel)",
   "language": "python",
   "name": "python3"
  },
  "language_info": {
   "codemirror_mode": {
    "name": "ipython",
    "version": 3
   },
   "file_extension": ".py",
   "mimetype": "text/x-python",
   "name": "python",
   "nbconvert_exporter": "python",
   "pygments_lexer": "ipython3",
   "version": "3.9.12"
  },
  "toc": {
   "base_numbering": "4",
   "nav_menu": {
    "height": "198.99px",
    "width": "455.01px"
   },
   "number_sections": true,
   "sideBar": true,
   "skip_h1_title": true,
   "title_cell": "Оглавление",
   "title_sidebar": "Contents",
   "toc_cell": true,
   "toc_position": {
    "height": "calc(100% - 180px)",
    "left": "10px",
    "top": "150px",
    "width": "165px"
   },
   "toc_section_display": true,
   "toc_window_display": true
  }
 },
 "nbformat": 4,
 "nbformat_minor": 5
}
