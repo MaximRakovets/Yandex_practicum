{
 "cells": [
  {
   "cell_type": "markdown",
   "metadata": {
    "toc": true
   },
   "source": [
    "<h1>Table of Contents<span class=\"tocSkip\"></span></h1>\n",
    "<div class=\"toc\"><ul class=\"toc-item\"><li><span><a href=\"#Загрузка-данных-и-подготовка-их-к-анализу\" data-toc-modified-id=\"Загрузка-данных-и-подготовка-их-к-анализу-1\"><span class=\"toc-item-num\">1&nbsp;&nbsp;</span>Загрузка данных и подготовка их к анализу</a></span><ul class=\"toc-item\"><li><span><a href=\"#Импорт-библиотек.--Считывание-данных-из-исходных-файлов\" data-toc-modified-id=\"Импорт-библиотек.--Считывание-данных-из-исходных-файлов-1.1\"><span class=\"toc-item-num\">1.1&nbsp;&nbsp;</span>Импорт библиотек.  Считывание данных из исходных файлов</a></span></li><li><span><a href=\"#Первичный-обзор-данных\" data-toc-modified-id=\"Первичный-обзор-данных-1.2\"><span class=\"toc-item-num\">1.2&nbsp;&nbsp;</span>Первичный обзор данных</a></span></li><li><span><a href=\"#Описание-данных-из-задания\" data-toc-modified-id=\"Описание-данных-из-задания-1.3\"><span class=\"toc-item-num\">1.3&nbsp;&nbsp;</span>Описание данных из задания</a></span></li><li><span><a href=\"#Комментарии-к-данным-и-предобработка\" data-toc-modified-id=\"Комментарии-к-данным-и-предобработка-1.4\"><span class=\"toc-item-num\">1.4&nbsp;&nbsp;</span>Комментарии к данным и предобработка</a></span></li></ul></li><li><span><a href=\"#Приоритизация-гипотез\" data-toc-modified-id=\"Приоритизация-гипотез-2\"><span class=\"toc-item-num\">2&nbsp;&nbsp;</span>Приоритизация гипотез</a></span><ul class=\"toc-item\"><li><span><a href=\"#Фреймворк-ICE-для-приоритизации-гипотез\" data-toc-modified-id=\"Фреймворк-ICE-для-приоритизации-гипотез-2.1\"><span class=\"toc-item-num\">2.1&nbsp;&nbsp;</span>Фреймворк ICE для приоритизации гипотез</a></span></li><li><span><a href=\"#Фреймворк-RICE-для-приоритизации-гипотез\" data-toc-modified-id=\"Фреймворк-RICE-для-приоритизации-гипотез-2.2\"><span class=\"toc-item-num\">2.2&nbsp;&nbsp;</span>Фреймворк RICE для приоритизации гипотез</a></span></li><li><span><a href=\"#Выводы\" data-toc-modified-id=\"Выводы-2.3\"><span class=\"toc-item-num\">2.3&nbsp;&nbsp;</span>Выводы</a></span></li></ul></li><li><span><a href=\"#Анализ-А/В-теста\" data-toc-modified-id=\"Анализ-А/В-теста-3\"><span class=\"toc-item-num\">3&nbsp;&nbsp;</span>Анализ А/В теста</a></span><ul class=\"toc-item\"><li><span><a href=\"#График-кумулятивной-выручки-по-группам.\" data-toc-modified-id=\"График-кумулятивной-выручки-по-группам.-3.1\"><span class=\"toc-item-num\">3.1&nbsp;&nbsp;</span>График кумулятивной выручки по группам.</a></span></li><li><span><a href=\"#График-кумулятивного-среднего-чека-по-группам\" data-toc-modified-id=\"График-кумулятивного-среднего-чека-по-группам-3.2\"><span class=\"toc-item-num\">3.2&nbsp;&nbsp;</span>График кумулятивного среднего чека по группам</a></span></li><li><span><a href=\"#График-относительного-изменения-кумулятивного-среднего-чека-группы-B-к-группе-A\" data-toc-modified-id=\"График-относительного-изменения-кумулятивного-среднего-чека-группы-B-к-группе-A-3.3\"><span class=\"toc-item-num\">3.3&nbsp;&nbsp;</span>График относительного изменения кумулятивного среднего чека группы B к группе A</a></span></li><li><span><a href=\"#График-кумулятивного-среднего-количества-заказов-по-группам\" data-toc-modified-id=\"График-кумулятивного-среднего-количества-заказов-по-группам-3.4\"><span class=\"toc-item-num\">3.4&nbsp;&nbsp;</span>График кумулятивного среднего количества заказов по группам</a></span></li><li><span><a href=\"#График-относительного-изменения-кумулятивного-среднего-количества-заказов-группы-B-к-группе-A\" data-toc-modified-id=\"График-относительного-изменения-кумулятивного-среднего-количества-заказов-группы-B-к-группе-A-3.5\"><span class=\"toc-item-num\">3.5&nbsp;&nbsp;</span>График относительного изменения кумулятивного среднего количества заказов группы B к группе A</a></span></li><li><span><a href=\"#Точечный-график-количества-заказов-по-пользователям\" data-toc-modified-id=\"Точечный-график-количества-заказов-по-пользователям-3.6\"><span class=\"toc-item-num\">3.6&nbsp;&nbsp;</span>Точечный график количества заказов по пользователям</a></span></li><li><span><a href=\"#Расчет-95-го-и-99-го-перцентиля-количества-заказов-на-пользователя.-Выбор-границы-для-определения-аномальных-пользователей.\" data-toc-modified-id=\"Расчет-95-го-и-99-го-перцентиля-количества-заказов-на-пользователя.-Выбор-границы-для-определения-аномальных-пользователей.-3.7\"><span class=\"toc-item-num\">3.7&nbsp;&nbsp;</span>Расчет 95-го и 99-го перцентиля количества заказов на пользователя. Выбор границы для определения аномальных пользователей.</a></span></li><li><span><a href=\"#Точечный-график-стоимости-заказов-по-пользователям\" data-toc-modified-id=\"Точечный-график-стоимости-заказов-по-пользователям-3.8\"><span class=\"toc-item-num\">3.8&nbsp;&nbsp;</span>Точечный график стоимости заказов по пользователям</a></span></li><li><span><a href=\"#Расчет-95-го-и-99-го-перцентиля-стоимости-заказов-на-пользователя.-Выбор-границы-для-определения-аномальных-пользователей.\" data-toc-modified-id=\"Расчет-95-го-и-99-го-перцентиля-стоимости-заказов-на-пользователя.-Выбор-границы-для-определения-аномальных-пользователей.-3.9\"><span class=\"toc-item-num\">3.9&nbsp;&nbsp;</span>Расчет 95-го и 99-го перцентиля стоимости заказов на пользователя. Выбор границы для определения аномальных пользователей.</a></span></li><li><span><a href=\"#Расчет-статистической-значимости-различий-в-среднем-количестве-заказов-между-группами-по-«сырым»-данным.\" data-toc-modified-id=\"Расчет-статистической-значимости-различий-в-среднем-количестве-заказов-между-группами-по-«сырым»-данным.-3.10\"><span class=\"toc-item-num\">3.10&nbsp;&nbsp;</span>Расчет статистической значимости различий в среднем количестве заказов между группами по «сырым» данным.</a></span></li><li><span><a href=\"#Расчет-статистической-значимости-различий-в-среднем-чеке-заказа-между-группами-по-«сырым»-данным.\" data-toc-modified-id=\"Расчет-статистической-значимости-различий-в-среднем-чеке-заказа-между-группами-по-«сырым»-данным.-3.11\"><span class=\"toc-item-num\">3.11&nbsp;&nbsp;</span>Расчет статистической значимости различий в среднем чеке заказа между группами по «сырым» данным.</a></span></li><li><span><a href=\"#Расчет-статистической-значимости-различий-в-среднем-количестве-заказов-между-группами-по-«очищенным»-данным.\" data-toc-modified-id=\"Расчет-статистической-значимости-различий-в-среднем-количестве-заказов-между-группами-по-«очищенным»-данным.-3.12\"><span class=\"toc-item-num\">3.12&nbsp;&nbsp;</span>Расчет статистической значимости различий в среднем количестве заказов между группами по «очищенным» данным.</a></span></li><li><span><a href=\"#Расчет-статистической-значимости-различий-в-среднем-чеке-заказа-между-группами-по-«очищенным»-данным.\" data-toc-modified-id=\"Расчет-статистической-значимости-различий-в-среднем-чеке-заказа-между-группами-по-«очищенным»-данным.-3.13\"><span class=\"toc-item-num\">3.13&nbsp;&nbsp;</span>Расчет статистической значимости различий в среднем чеке заказа между группами по «очищенным» данным.</a></span></li><li><span><a href=\"#Решение-по-результатам-теста\" data-toc-modified-id=\"Решение-по-результатам-теста-3.14\"><span class=\"toc-item-num\">3.14&nbsp;&nbsp;</span>Решение по результатам теста</a></span></li></ul></li></ul></div>"
   ]
  },
  {
   "cell_type": "markdown",
   "metadata": {},
   "source": [
    "# Принятие решений в бизнесе"
   ]
  },
  {
   "cell_type": "markdown",
   "metadata": {},
   "source": [
    "Вместе с отделом маркетинга  подготовлен список гипотез для увеличения выручки. \n",
    "\n",
    "Необходимо:\n",
    "- приоритизировать гипотезы, \n",
    "- запустить A/B-тест\n",
    "- проанализировать результаты."
   ]
  },
  {
   "cell_type": "markdown",
   "metadata": {},
   "source": [
    "## Загрузка данных и подготовка их к анализу"
   ]
  },
  {
   "cell_type": "markdown",
   "metadata": {},
   "source": [
    "### Импорт библиотек.  Считывание данных из исходных файлов"
   ]
  },
  {
   "cell_type": "code",
   "execution_count": 1,
   "metadata": {},
   "outputs": [],
   "source": [
    "# импортируем библиотеки\n",
    "import pandas as pd\n",
    "import matplotlib.pyplot as plt\n",
    "import scipy.stats as stats\n",
    "import datetime as dt\n",
    "import numpy as np\n",
    "import seaborn as sns"
   ]
  },
  {
   "cell_type": "code",
   "execution_count": 2,
   "metadata": {},
   "outputs": [],
   "source": [
    "# считываем  данные и сохраняем в переменные\n",
    "\n",
    "hypothesis = pd.read_csv('hypothesis.csv')  # гипотезы\n",
    "orders = pd.read_csv('orders.csv')  # заказы\n",
    "visitors = pd.read_csv('visitors.csv')  # пользователи по датам и группам"
   ]
  },
  {
   "cell_type": "markdown",
   "metadata": {},
   "source": [
    "### Первичный обзор данных"
   ]
  },
  {
   "cell_type": "code",
   "execution_count": 3,
   "metadata": {},
   "outputs": [],
   "source": [
    "# Функция первичного обзора данных.\n",
    "\n",
    "def meet_dataset (dataset):\n",
    "    #print('Первые 5 строк датасета')\n",
    "    #print(dataset.head())\n",
    "    #print('\\n','\\n')\n",
    "    \n",
    "    print('Общая информация о датасете')\n",
    "    print(dataset.info(),'\\n','\\n')\n",
    "    \n",
    "    print('Общие статистические данные')\n",
    "    print(dataset.describe(),'\\n','\\n')\n",
    "          \n",
    "    print('Общие гистограммы для всех столбцов датасета')\n",
    "    dataset.hist (figsize=(15,5))\n",
    "    plt.show()  \n",
    "    print('\\n')\n",
    "    \n",
    "    print ('Количество дубликатов -', dataset.duplicated().sum(),'\\n')  \n",
    "    print ('Количество пропусков -', dataset.isna().sum(),'\\n','\\n') \n",
    "    print ('Датасет:','\\n') \n",
    "   \n",
    "    #Приведение названий столбцов к нижнему регистру\n",
    "    dataset.columns = [x.lower().replace(' ', '_') for x in dataset.columns.values]\n",
    "    \n",
    "    \n",
    "    return dataset"
   ]
  },
  {
   "cell_type": "markdown",
   "metadata": {},
   "source": [
    " "
   ]
  },
  {
   "cell_type": "markdown",
   "metadata": {},
   "source": [
    "**Обзор датасета с гипотезами**"
   ]
  },
  {
   "cell_type": "code",
   "execution_count": 4,
   "metadata": {},
   "outputs": [
    {
     "name": "stdout",
     "output_type": "stream",
     "text": [
      "Общая информация о датасете\n",
      "<class 'pandas.core.frame.DataFrame'>\n",
      "RangeIndex: 9 entries, 0 to 8\n",
      "Data columns (total 5 columns):\n",
      " #   Column      Non-Null Count  Dtype \n",
      "---  ------      --------------  ----- \n",
      " 0   Hypothesis  9 non-null      object\n",
      " 1   Reach       9 non-null      int64 \n",
      " 2   Impact      9 non-null      int64 \n",
      " 3   Confidence  9 non-null      int64 \n",
      " 4   Efforts     9 non-null      int64 \n",
      "dtypes: int64(4), object(1)\n",
      "memory usage: 488.0+ bytes\n",
      "None \n",
      " \n",
      "\n",
      "Общие статистические данные\n",
      "           Reach     Impact  Confidence    Efforts\n",
      "count   9.000000   9.000000    9.000000   9.000000\n",
      "mean    4.777778   4.777778    5.555556   4.888889\n",
      "std     3.153481   3.192874    3.045944   2.803767\n",
      "min     1.000000   1.000000    1.000000   1.000000\n",
      "25%     3.000000   3.000000    3.000000   3.000000\n",
      "50%     3.000000   3.000000    7.000000   5.000000\n",
      "75%     8.000000   7.000000    8.000000   6.000000\n",
      "max    10.000000  10.000000    9.000000  10.000000 \n",
      " \n",
      "\n",
      "Общие гистограммы для всех столбцов датасета\n"
     ]
    },
    {
     "data": {
      "image/png": "[encoded data removed]",
      "text/plain": [
       "<Figure size 1080x360 with 4 Axes>"
      ]
     },
     "metadata": {
      "needs_background": "light"
     },
     "output_type": "display_data"
    },
    {
     "name": "stdout",
     "output_type": "stream",
     "text": [
      "\n",
      "\n",
      "Количество дубликатов - 0 \n",
      "\n",
      "Количество пропусков - Hypothesis    0\n",
      "Reach         0\n",
      "Impact        0\n",
      "Confidence    0\n",
      "Efforts       0\n",
      "dtype: int64 \n",
      " \n",
      "\n",
      "Датасет: \n",
      "\n"
     ]
    },
    {
     "data": {
      "text/html": [
       "<div>\n",
       "<style scoped>\n",
       "    .dataframe tbody tr th:only-of-type {\n",
       "        vertical-align: middle;\n",
       "    }\n",
       "\n",
       "    .dataframe tbody tr th {\n",
       "        vertical-align: top;\n",
       "    }\n",
       "\n",
       "    .dataframe thead th {\n",
       "        text-align: right;\n",
       "    }\n",
       "</style>\n",
       "<table border=\"1\" class=\"dataframe\">\n",
       "  <thead>\n",
       "    <tr style=\"text-align: right;\">\n",
       "      <th></th>\n",
       "      <th>hypothesis</th>\n",
       "      <th>reach</th>\n",
       "      <th>impact</th>\n",
       "      <th>confidence</th>\n",
       "      <th>efforts</th>\n",
       "    </tr>\n",
       "  </thead>\n",
       "  <tbody>\n",
       "    <tr>\n",
       "      <th>0</th>\n",
       "      <td>Добавить два новых канала привлечения трафика,...</td>\n",
       "      <td>3</td>\n",
       "      <td>10</td>\n",
       "      <td>8</td>\n",
       "      <td>6</td>\n",
       "    </tr>\n",
       "    <tr>\n",
       "      <th>1</th>\n",
       "      <td>Запустить собственную службу доставки, что сок...</td>\n",
       "      <td>2</td>\n",
       "      <td>5</td>\n",
       "      <td>4</td>\n",
       "      <td>10</td>\n",
       "    </tr>\n",
       "    <tr>\n",
       "      <th>2</th>\n",
       "      <td>Добавить блоки рекомендаций товаров на сайт ин...</td>\n",
       "      <td>8</td>\n",
       "      <td>3</td>\n",
       "      <td>7</td>\n",
       "      <td>3</td>\n",
       "    </tr>\n",
       "    <tr>\n",
       "      <th>3</th>\n",
       "      <td>Изменить структура категорий, что увеличит кон...</td>\n",
       "      <td>8</td>\n",
       "      <td>3</td>\n",
       "      <td>3</td>\n",
       "      <td>8</td>\n",
       "    </tr>\n",
       "    <tr>\n",
       "      <th>4</th>\n",
       "      <td>Изменить цвет фона главной страницы, чтобы уве...</td>\n",
       "      <td>3</td>\n",
       "      <td>1</td>\n",
       "      <td>1</td>\n",
       "      <td>1</td>\n",
       "    </tr>\n",
       "    <tr>\n",
       "      <th>5</th>\n",
       "      <td>Добавить страницу отзывов клиентов о магазине,...</td>\n",
       "      <td>3</td>\n",
       "      <td>2</td>\n",
       "      <td>2</td>\n",
       "      <td>3</td>\n",
       "    </tr>\n",
       "    <tr>\n",
       "      <th>6</th>\n",
       "      <td>Показать на главной странице баннеры с актуаль...</td>\n",
       "      <td>5</td>\n",
       "      <td>3</td>\n",
       "      <td>8</td>\n",
       "      <td>3</td>\n",
       "    </tr>\n",
       "    <tr>\n",
       "      <th>7</th>\n",
       "      <td>Добавить форму подписки на все основные страни...</td>\n",
       "      <td>10</td>\n",
       "      <td>7</td>\n",
       "      <td>8</td>\n",
       "      <td>5</td>\n",
       "    </tr>\n",
       "    <tr>\n",
       "      <th>8</th>\n",
       "      <td>Запустить акцию, дающую скидку на товар в день...</td>\n",
       "      <td>1</td>\n",
       "      <td>9</td>\n",
       "      <td>9</td>\n",
       "      <td>5</td>\n",
       "    </tr>\n",
       "  </tbody>\n",
       "</table>\n",
       "</div>"
      ],
      "text/plain": [
       "                                          hypothesis  reach  impact  \\\n",
       "0  Добавить два новых канала привлечения трафика,...      3      10   \n",
       "1  Запустить собственную службу доставки, что сок...      2       5   \n",
       "2  Добавить блоки рекомендаций товаров на сайт ин...      8       3   \n",
       "3  Изменить структура категорий, что увеличит кон...      8       3   \n",
       "4  Изменить цвет фона главной страницы, чтобы уве...      3       1   \n",
       "5  Добавить страницу отзывов клиентов о магазине,...      3       2   \n",
       "6  Показать на главной странице баннеры с актуаль...      5       3   \n",
       "7  Добавить форму подписки на все основные страни...     10       7   \n",
       "8  Запустить акцию, дающую скидку на товар в день...      1       9   \n",
       "\n",
       "   confidence  efforts  \n",
       "0           8        6  \n",
       "1           4       10  \n",
       "2           7        3  \n",
       "3           3        8  \n",
       "4           1        1  \n",
       "5           2        3  \n",
       "6           8        3  \n",
       "7           8        5  \n",
       "8           9        5  "
      ]
     },
     "execution_count": 4,
     "metadata": {},
     "output_type": "execute_result"
    }
   ],
   "source": [
    "meet_dataset(hypothesis)"
   ]
  },
  {
   "cell_type": "markdown",
   "metadata": {},
   "source": [
    " "
   ]
  },
  {
   "cell_type": "markdown",
   "metadata": {},
   "source": [
    " "
   ]
  },
  {
   "cell_type": "markdown",
   "metadata": {},
   "source": [
    "**Обзор датасета с заказами**"
   ]
  },
  {
   "cell_type": "code",
   "execution_count": 5,
   "metadata": {},
   "outputs": [
    {
     "name": "stdout",
     "output_type": "stream",
     "text": [
      "Общая информация о датасете\n",
      "<class 'pandas.core.frame.DataFrame'>\n",
      "RangeIndex: 1197 entries, 0 to 1196\n",
      "Data columns (total 5 columns):\n",
      " #   Column         Non-Null Count  Dtype \n",
      "---  ------         --------------  ----- \n",
      " 0   transactionId  1197 non-null   int64 \n",
      " 1   visitorId      1197 non-null   int64 \n",
      " 2   date           1197 non-null   object\n",
      " 3   revenue        1197 non-null   int64 \n",
      " 4   group          1197 non-null   object\n",
      "dtypes: int64(3), object(2)\n",
      "memory usage: 46.9+ KB\n",
      "None \n",
      " \n",
      "\n",
      "Общие статистические данные\n",
      "       transactionId     visitorId       revenue\n",
      "count   1.197000e+03  1.197000e+03  1.197000e+03\n",
      "mean    2.155621e+09  2.165960e+09  8.348006e+03\n",
      "std     1.229085e+09  1.236014e+09  3.919113e+04\n",
      "min     1.062393e+06  5.114589e+06  5.000000e+01\n",
      "25%     1.166776e+09  1.111826e+09  1.220000e+03\n",
      "50%     2.145194e+09  2.217985e+09  2.978000e+03\n",
      "75%     3.237740e+09  3.177606e+09  8.290000e+03\n",
      "max     4.293856e+09  4.283872e+09  1.294500e+06 \n",
      " \n",
      "\n",
      "Общие гистограммы для всех столбцов датасета\n"
     ]
    },
    {
     "data": {
      "image/png": "[encoded data removed]",
      "text/plain": [
       "<Figure size 1080x360 with 4 Axes>"
      ]
     },
     "metadata": {
      "needs_background": "light"
     },
     "output_type": "display_data"
    },
    {
     "name": "stdout",
     "output_type": "stream",
     "text": [
      "\n",
      "\n",
      "Количество дубликатов - 0 \n",
      "\n",
      "Количество пропусков - transactionId    0\n",
      "visitorId        0\n",
      "date             0\n",
      "revenue          0\n",
      "group            0\n",
      "dtype: int64 \n",
      " \n",
      "\n",
      "Датасет: \n",
      "\n"
     ]
    },
    {
     "data": {
      "text/html": [
       "<div>\n",
       "<style scoped>\n",
       "    .dataframe tbody tr th:only-of-type {\n",
       "        vertical-align: middle;\n",
       "    }\n",
       "\n",
       "    .dataframe tbody tr th {\n",
       "        vertical-align: top;\n",
       "    }\n",
       "\n",
       "    .dataframe thead th {\n",
       "        text-align: right;\n",
       "    }\n",
       "</style>\n",
       "<table border=\"1\" class=\"dataframe\">\n",
       "  <thead>\n",
       "    <tr style=\"text-align: right;\">\n",
       "      <th></th>\n",
       "      <th>transactionid</th>\n",
       "      <th>visitorid</th>\n",
       "      <th>date</th>\n",
       "      <th>revenue</th>\n",
       "      <th>group</th>\n",
       "    </tr>\n",
       "  </thead>\n",
       "  <tbody>\n",
       "    <tr>\n",
       "      <th>0</th>\n",
       "      <td>3667963787</td>\n",
       "      <td>3312258926</td>\n",
       "      <td>2019-08-15</td>\n",
       "      <td>1650</td>\n",
       "      <td>B</td>\n",
       "    </tr>\n",
       "    <tr>\n",
       "      <th>1</th>\n",
       "      <td>2804400009</td>\n",
       "      <td>3642806036</td>\n",
       "      <td>2019-08-15</td>\n",
       "      <td>730</td>\n",
       "      <td>B</td>\n",
       "    </tr>\n",
       "    <tr>\n",
       "      <th>2</th>\n",
       "      <td>2961555356</td>\n",
       "      <td>4069496402</td>\n",
       "      <td>2019-08-15</td>\n",
       "      <td>400</td>\n",
       "      <td>A</td>\n",
       "    </tr>\n",
       "    <tr>\n",
       "      <th>3</th>\n",
       "      <td>3797467345</td>\n",
       "      <td>1196621759</td>\n",
       "      <td>2019-08-15</td>\n",
       "      <td>9759</td>\n",
       "      <td>B</td>\n",
       "    </tr>\n",
       "    <tr>\n",
       "      <th>4</th>\n",
       "      <td>2282983706</td>\n",
       "      <td>2322279887</td>\n",
       "      <td>2019-08-15</td>\n",
       "      <td>2308</td>\n",
       "      <td>B</td>\n",
       "    </tr>\n",
       "    <tr>\n",
       "      <th>...</th>\n",
       "      <td>...</td>\n",
       "      <td>...</td>\n",
       "      <td>...</td>\n",
       "      <td>...</td>\n",
       "      <td>...</td>\n",
       "    </tr>\n",
       "    <tr>\n",
       "      <th>1192</th>\n",
       "      <td>2662137336</td>\n",
       "      <td>3733762160</td>\n",
       "      <td>2019-08-14</td>\n",
       "      <td>6490</td>\n",
       "      <td>B</td>\n",
       "    </tr>\n",
       "    <tr>\n",
       "      <th>1193</th>\n",
       "      <td>2203539145</td>\n",
       "      <td>370388673</td>\n",
       "      <td>2019-08-14</td>\n",
       "      <td>3190</td>\n",
       "      <td>A</td>\n",
       "    </tr>\n",
       "    <tr>\n",
       "      <th>1194</th>\n",
       "      <td>1807773912</td>\n",
       "      <td>573423106</td>\n",
       "      <td>2019-08-14</td>\n",
       "      <td>10550</td>\n",
       "      <td>A</td>\n",
       "    </tr>\n",
       "    <tr>\n",
       "      <th>1195</th>\n",
       "      <td>1947021204</td>\n",
       "      <td>1614305549</td>\n",
       "      <td>2019-08-14</td>\n",
       "      <td>100</td>\n",
       "      <td>A</td>\n",
       "    </tr>\n",
       "    <tr>\n",
       "      <th>1196</th>\n",
       "      <td>3936777065</td>\n",
       "      <td>2108080724</td>\n",
       "      <td>2019-08-15</td>\n",
       "      <td>202740</td>\n",
       "      <td>B</td>\n",
       "    </tr>\n",
       "  </tbody>\n",
       "</table>\n",
       "<p>1197 rows × 5 columns</p>\n",
       "</div>"
      ],
      "text/plain": [
       "      transactionid   visitorid        date  revenue group\n",
       "0        3667963787  3312258926  2019-08-15     1650     B\n",
       "1        2804400009  3642806036  2019-08-15      730     B\n",
       "2        2961555356  4069496402  2019-08-15      400     A\n",
       "3        3797467345  1196621759  2019-08-15     9759     B\n",
       "4        2282983706  2322279887  2019-08-15     2308     B\n",
       "...             ...         ...         ...      ...   ...\n",
       "1192     2662137336  3733762160  2019-08-14     6490     B\n",
       "1193     2203539145   370388673  2019-08-14     3190     A\n",
       "1194     1807773912   573423106  2019-08-14    10550     A\n",
       "1195     1947021204  1614305549  2019-08-14      100     A\n",
       "1196     3936777065  2108080724  2019-08-15   202740     B\n",
       "\n",
       "[1197 rows x 5 columns]"
      ]
     },
     "execution_count": 5,
     "metadata": {},
     "output_type": "execute_result"
    }
   ],
   "source": [
    "meet_dataset(orders)"
   ]
  },
  {
   "cell_type": "markdown",
   "metadata": {},
   "source": [
    " "
   ]
  },
  {
   "cell_type": "markdown",
   "metadata": {},
   "source": [
    " "
   ]
  },
  {
   "cell_type": "markdown",
   "metadata": {},
   "source": [
    "**Обзор датасета с пользователями**"
   ]
  },
  {
   "cell_type": "code",
   "execution_count": 6,
   "metadata": {},
   "outputs": [
    {
     "name": "stdout",
     "output_type": "stream",
     "text": [
      "Общая информация о датасете\n",
      "<class 'pandas.core.frame.DataFrame'>\n",
      "RangeIndex: 62 entries, 0 to 61\n",
      "Data columns (total 3 columns):\n",
      " #   Column    Non-Null Count  Dtype \n",
      "---  ------    --------------  ----- \n",
      " 0   date      62 non-null     object\n",
      " 1   group     62 non-null     object\n",
      " 2   visitors  62 non-null     int64 \n",
      "dtypes: int64(1), object(2)\n",
      "memory usage: 1.6+ KB\n",
      "None \n",
      " \n",
      "\n",
      "Общие статистические данные\n",
      "         visitors\n",
      "count   62.000000\n",
      "mean   607.290323\n",
      "std    114.400560\n",
      "min    361.000000\n",
      "25%    534.000000\n",
      "50%    624.500000\n",
      "75%    710.500000\n",
      "max    770.000000 \n",
      " \n",
      "\n",
      "Общие гистограммы для всех столбцов датасета\n"
     ]
    },
    {
     "data": {
      "image/png": "[encoded data removed]",
      "text/plain": [
       "<Figure size 1080x360 with 1 Axes>"
      ]
     },
     "metadata": {
      "needs_background": "light"
     },
     "output_type": "display_data"
    },
    {
     "name": "stdout",
     "output_type": "stream",
     "text": [
      "\n",
      "\n",
      "Количество дубликатов - 0 \n",
      "\n",
      "Количество пропусков - date        0\n",
      "group       0\n",
      "visitors    0\n",
      "dtype: int64 \n",
      " \n",
      "\n",
      "Датасет: \n",
      "\n"
     ]
    },
    {
     "data": {
      "text/html": [
       "<div>\n",
       "<style scoped>\n",
       "    .dataframe tbody tr th:only-of-type {\n",
       "        vertical-align: middle;\n",
       "    }\n",
       "\n",
       "    .dataframe tbody tr th {\n",
       "        vertical-align: top;\n",
       "    }\n",
       "\n",
       "    .dataframe thead th {\n",
       "        text-align: right;\n",
       "    }\n",
       "</style>\n",
       "<table border=\"1\" class=\"dataframe\">\n",
       "  <thead>\n",
       "    <tr style=\"text-align: right;\">\n",
       "      <th></th>\n",
       "      <th>date</th>\n",
       "      <th>group</th>\n",
       "      <th>visitors</th>\n",
       "    </tr>\n",
       "  </thead>\n",
       "  <tbody>\n",
       "    <tr>\n",
       "      <th>0</th>\n",
       "      <td>2019-08-01</td>\n",
       "      <td>A</td>\n",
       "      <td>719</td>\n",
       "    </tr>\n",
       "    <tr>\n",
       "      <th>1</th>\n",
       "      <td>2019-08-02</td>\n",
       "      <td>A</td>\n",
       "      <td>619</td>\n",
       "    </tr>\n",
       "    <tr>\n",
       "      <th>2</th>\n",
       "      <td>2019-08-03</td>\n",
       "      <td>A</td>\n",
       "      <td>507</td>\n",
       "    </tr>\n",
       "    <tr>\n",
       "      <th>3</th>\n",
       "      <td>2019-08-04</td>\n",
       "      <td>A</td>\n",
       "      <td>717</td>\n",
       "    </tr>\n",
       "    <tr>\n",
       "      <th>4</th>\n",
       "      <td>2019-08-05</td>\n",
       "      <td>A</td>\n",
       "      <td>756</td>\n",
       "    </tr>\n",
       "    <tr>\n",
       "      <th>...</th>\n",
       "      <td>...</td>\n",
       "      <td>...</td>\n",
       "      <td>...</td>\n",
       "    </tr>\n",
       "    <tr>\n",
       "      <th>57</th>\n",
       "      <td>2019-08-27</td>\n",
       "      <td>B</td>\n",
       "      <td>720</td>\n",
       "    </tr>\n",
       "    <tr>\n",
       "      <th>58</th>\n",
       "      <td>2019-08-28</td>\n",
       "      <td>B</td>\n",
       "      <td>654</td>\n",
       "    </tr>\n",
       "    <tr>\n",
       "      <th>59</th>\n",
       "      <td>2019-08-29</td>\n",
       "      <td>B</td>\n",
       "      <td>531</td>\n",
       "    </tr>\n",
       "    <tr>\n",
       "      <th>60</th>\n",
       "      <td>2019-08-30</td>\n",
       "      <td>B</td>\n",
       "      <td>490</td>\n",
       "    </tr>\n",
       "    <tr>\n",
       "      <th>61</th>\n",
       "      <td>2019-08-31</td>\n",
       "      <td>B</td>\n",
       "      <td>718</td>\n",
       "    </tr>\n",
       "  </tbody>\n",
       "</table>\n",
       "<p>62 rows × 3 columns</p>\n",
       "</div>"
      ],
      "text/plain": [
       "          date group  visitors\n",
       "0   2019-08-01     A       719\n",
       "1   2019-08-02     A       619\n",
       "2   2019-08-03     A       507\n",
       "3   2019-08-04     A       717\n",
       "4   2019-08-05     A       756\n",
       "..         ...   ...       ...\n",
       "57  2019-08-27     B       720\n",
       "58  2019-08-28     B       654\n",
       "59  2019-08-29     B       531\n",
       "60  2019-08-30     B       490\n",
       "61  2019-08-31     B       718\n",
       "\n",
       "[62 rows x 3 columns]"
      ]
     },
     "execution_count": 6,
     "metadata": {},
     "output_type": "execute_result"
    }
   ],
   "source": [
    "meet_dataset(visitors)"
   ]
  },
  {
   "cell_type": "markdown",
   "metadata": {},
   "source": [
    "### Описание данных из задания"
   ]
  },
  {
   "cell_type": "markdown",
   "metadata": {},
   "source": [
    "**Гипотезы**"
   ]
  },
  {
   "cell_type": "markdown",
   "metadata": {},
   "source": [
    "Наименования столбцов:\n",
    "- Hypothesis — краткое описание гипотезы;\n",
    "- Reach — охват пользователей по 10-балльной шкале;\n",
    "- Impact — влияние на пользователей по 10-балльной шкале;\n",
    "- Confidence — уверенность в гипотезе по 10-балльной шкале;\n",
    "- Efforts — затраты ресурсов на проверку гипотезы по 10-балльной шкале. Чем больше значение Efforts, тем дороже проверка гипотезы."
   ]
  },
  {
   "cell_type": "markdown",
   "metadata": {},
   "source": [
    "**Заказы**"
   ]
  },
  {
   "cell_type": "markdown",
   "metadata": {},
   "source": [
    "Наименования столбцов:\n",
    "- transactionId — идентификатор заказа;\n",
    "- visitorId — идентификатор пользователя, совершившего заказ;\n",
    "- date — дата, когда был совершён заказ;\n",
    "- revenue — выручка заказа;\n",
    "- group — группа A/B-теста, в которую попал заказ."
   ]
  },
  {
   "cell_type": "markdown",
   "metadata": {},
   "source": [
    "**Пользователи**"
   ]
  },
  {
   "cell_type": "markdown",
   "metadata": {},
   "source": [
    "Наименования столбцов:\n",
    "\n",
    "- date — дата;\n",
    "- group — группа A/B-теста;\n",
    "- visitors — количество пользователей в указанную дату в указанной группе A/B-теста"
   ]
  },
  {
   "cell_type": "markdown",
   "metadata": {},
   "source": [
    " "
   ]
  },
  {
   "cell_type": "markdown",
   "metadata": {},
   "source": [
    "### Комментарии к данным и предобработка"
   ]
  },
  {
   "cell_type": "markdown",
   "metadata": {},
   "source": [
    "1. В датасетах нет пропусков и дубликатов.\n",
    "2. В датасетах, в основном, типы данных корректны. Исключение- столбцы с датой в датасетах с гипотезами и заказами. Коррекция формата выполняется ниже.\n",
    "3. В датасетах гипотез и заказов выполнено приведение наменований столбцов к нижнему регистру.\n"
   ]
  },
  {
   "cell_type": "markdown",
   "metadata": {},
   "source": [
    "Приведение данных в столбцах 'date' к формату даты."
   ]
  },
  {
   "cell_type": "code",
   "execution_count": 7,
   "metadata": {},
   "outputs": [],
   "source": [
    "#orders['date'] = pd.to_datetime(orders['date'], format='%Y-%m-%d')\n",
    "#visitors['date'] = pd.to_datetime(visitors['date'], format='%Y-%m-%d')\n",
    "\n",
    "orders['date'] = orders['date'].map(lambda x: dt.datetime.strptime(x, '%Y-%m-%d'))\n",
    "visitors['date'] = visitors['date'].map(lambda x: dt.datetime.strptime(x, '%Y-%m-%d'))"
   ]
  },
  {
   "cell_type": "markdown",
   "metadata": {},
   "source": [
    "Минимальная и максимальная даты в датасете **заказов**:"
   ]
  },
  {
   "cell_type": "code",
   "execution_count": 8,
   "metadata": {},
   "outputs": [
    {
     "name": "stdout",
     "output_type": "stream",
     "text": [
      "Минимальная дата: 2019-08-01 00:00:00\n",
      "Максимальная дата: 2019-08-31 00:00:00 \n",
      "\n"
     ]
    }
   ],
   "source": [
    "print('Минимальная дата:', orders['date'].min())\n",
    "print('Максимальная дата:', orders['date'].max(),'\\n')\n"
   ]
  },
  {
   "cell_type": "markdown",
   "metadata": {},
   "source": [
    "Минимальная и максимальная даты в датасете **пользователей**:"
   ]
  },
  {
   "cell_type": "code",
   "execution_count": 9,
   "metadata": {},
   "outputs": [
    {
     "name": "stdout",
     "output_type": "stream",
     "text": [
      "Минимальная дата: 2019-08-01 00:00:00\n",
      "Максимальная дата: 2019-08-31 00:00:00 \n",
      "\n"
     ]
    }
   ],
   "source": [
    "print('Минимальная дата:', visitors['date'].min())\n",
    "print('Максимальная дата:', visitors['date'].max(),'\\n')\n"
   ]
  },
  {
   "cell_type": "markdown",
   "metadata": {},
   "source": [
    "Распределение записей по группам и датам в датасете \"Пользователи\""
   ]
  },
  {
   "cell_type": "code",
   "execution_count": 10,
   "metadata": {},
   "outputs": [
    {
     "name": "stdout",
     "output_type": "stream",
     "text": [
      "Количество  записей дат для группы \"А\":  31\n",
      "Количество уникальных записей дат для группы \"А\":  31\n",
      "\n",
      "Количество  записей дат для группы \"B\":  31\n",
      "Количество уникальных записей дат для группы \"B\":  31\n"
     ]
    }
   ],
   "source": [
    "print('Количество  записей дат для группы \"А\": ', visitors[visitors['group']=='A']['date'].count())\n",
    "print('Количество уникальных записей дат для группы \"А\": ', visitors[visitors['group']=='A']['date'].nunique())\n",
    "print()\n",
    "print('Количество  записей дат для группы \"B\": ', visitors[visitors['group']=='B']['date'].count())\n",
    "print('Количество уникальных записей дат для группы \"B\": ', visitors[visitors['group']=='B']['date'].nunique())\n"
   ]
  },
  {
   "cell_type": "markdown",
   "metadata": {},
   "source": [
    " "
   ]
  },
  {
   "cell_type": "markdown",
   "metadata": {},
   "source": [
    "**Количество групп в А/В тесте**"
   ]
  },
  {
   "cell_type": "code",
   "execution_count": 11,
   "metadata": {},
   "outputs": [
    {
     "name": "stdout",
     "output_type": "stream",
     "text": [
      "Перечень групп в А/В тесте (датасет orders):\n",
      "['B' 'A']\n",
      "\n",
      "Перечень групп в А/В тесте (датасет visitors):\n",
      "['A' 'B']\n"
     ]
    }
   ],
   "source": [
    "print('Перечень групп в А/В тесте (датасет orders):')\n",
    "print(orders['group'].unique())\n",
    "print()\n",
    "print('Перечень групп в А/В тесте (датасет visitors):')\n",
    "print(visitors['group'].unique())\n"
   ]
  },
  {
   "cell_type": "markdown",
   "metadata": {},
   "source": [
    "Как имеем возможность наблюдать, в датасетах А/В-теста имеются группы только А и В.   Все корректно."
   ]
  },
  {
   "cell_type": "markdown",
   "metadata": {},
   "source": [
    " "
   ]
  },
  {
   "cell_type": "markdown",
   "metadata": {},
   "source": [
    "**Количество пользователей в каждой группе**"
   ]
  },
  {
   "cell_type": "code",
   "execution_count": 12,
   "metadata": {},
   "outputs": [
    {
     "name": "stdout",
     "output_type": "stream",
     "text": [
      "Количество  заказов пользователей группы \"А\":  557\n",
      "Количество уникальных пользователей  группы \"А\":  503\n",
      "Среднее количество заказов на пользователя для группы \"А\":  1.107\n",
      "\n",
      "Количество  заказов пользователей группы \"B\":  640\n",
      "Количество уникальных пользователей  группы \"B\":  586\n",
      "Среднее количество заказов на пользователя для группы \"B\":  1.092\n",
      "\n",
      "Относительное увеличение количества заказов  группы \"B\" к \"А\" в процентах:  114.901\n",
      "Относительное увеличение количества пользователей  группы \"B\" к \"А\" в процентах:  116.501\n",
      "Относительное увеличение среднего количества пользователей  группы \"B\" к \"А\" в процентах:  98.627\n"
     ]
    }
   ],
   "source": [
    "# расчетный блок\n",
    "visitorId_A =orders[orders['group']=='A']['visitorid'].count()\n",
    "unique_visitorId_A = orders[orders['group']=='A']['visitorid'].nunique()\n",
    "\n",
    "visitorId_B =orders[orders['group']=='B']['visitorid'].count()\n",
    "unique_visitorId_B = orders[orders['group']=='B']['visitorid'].nunique()\n",
    "\n",
    "\n",
    "\n",
    "print('Количество  заказов пользователей группы \"А\": ',visitorId_A )\n",
    "print('Количество уникальных пользователей  группы \"А\": ', unique_visitorId_A)\n",
    "print('Среднее количество заказов на пользователя для группы \"А\": ', round( visitorId_A/unique_visitorId_A ,3) )\n",
    "\n",
    "print()\n",
    "print('Количество  заказов пользователей группы \"B\": ', visitorId_B)\n",
    "print('Количество уникальных пользователей  группы \"B\": ', unique_visitorId_B)\n",
    "print('Среднее количество заказов на пользователя для группы \"B\": ', round( visitorId_B/unique_visitorId_B ,3) )\n",
    "\n",
    "print()\n",
    "print('Относительное увеличение количества заказов  группы \"B\" к \"А\" в процентах: ', round(100* visitorId_B/visitorId_A ,3))\n",
    "print('Относительное увеличение количества пользователей  группы \"B\" к \"А\" в процентах: ', round(100*  unique_visitorId_B/unique_visitorId_A ,3))\n",
    "print('Относительное увеличение среднего количества пользователей  группы \"B\" к \"А\" в процентах: ', round(100* (visitorId_B/unique_visitorId_B)/(visitorId_A/unique_visitorId_A) ,3))\n"
   ]
  },
  {
   "cell_type": "markdown",
   "metadata": {},
   "source": [
    "1. В группе В стало больше пользователей (+ 14,9%) и заказов (+16,5%).\n",
    "2. В группе В уменьшилось среднее количество заказов на одного пользователя."
   ]
  },
  {
   "cell_type": "markdown",
   "metadata": {},
   "source": [
    " "
   ]
  },
  {
   "cell_type": "markdown",
   "metadata": {},
   "source": [
    "**Поверка групп на изолированность**"
   ]
  },
  {
   "cell_type": "code",
   "execution_count": 13,
   "metadata": {},
   "outputs": [
    {
     "name": "stdout",
     "output_type": "stream",
     "text": [
      "Количество пересекающихся пользователей в обеих группах:\n"
     ]
    },
    {
     "data": {
      "text/plain": [
       "0"
      ]
     },
     "execution_count": 13,
     "metadata": {},
     "output_type": "execute_result"
    }
   ],
   "source": [
    "print('Количество пересекающихся пользователей в обеих группах:')\n",
    "orders[(orders['group']=='A') & (orders['group']=='B') ]['visitorid'].nunique()"
   ]
  },
  {
   "cell_type": "markdown",
   "metadata": {},
   "source": [
    " "
   ]
  },
  {
   "cell_type": "markdown",
   "metadata": {},
   "source": [
    "**Динамика посетителей по дням по группам**"
   ]
  },
  {
   "cell_type": "code",
   "execution_count": 14,
   "metadata": {},
   "outputs": [
    {
     "data": {
      "image/png": "[encoded data removed]",
      "text/plain": [
       "<Figure size 1152x576 with 2 Axes>"
      ]
     },
     "metadata": {
      "needs_background": "light"
     },
     "output_type": "display_data"
    }
   ],
   "source": [
    "#размер графика\n",
    "plt.figure(figsize=(16,8))\n",
    "\n",
    "dinamic = orders.groupby(by=['group','date']) ['visitorid'].count().reset_index()\n",
    "\n",
    "\n",
    "# Строим график динамики посетителей по дням для группы A\n",
    "ax1 = plt.subplot(2, 1, 1)\n",
    "plt.bar( dinamic[dinamic['group']=='A']['date'], dinamic[dinamic['group']=='A']['visitorid'],  label='A')\n",
    "plt.xlabel('Дата')\n",
    "plt.ylabel('Количество заказов')\n",
    "plt.title('Динамика  посетителей по дням, группа А') \n",
    "plt.grid()\n",
    "plt.legend()\n",
    "\n",
    "\n",
    "# Строим график динамики посетителей по дням для группы B\n",
    "ax2 = plt.subplot(2, 1, 2, sharey=ax1)\n",
    "plt.bar(dinamic[dinamic['group']=='B']['date'], dinamic[dinamic['group']=='B']['visitorid'],  label='B')\n",
    "plt.xlabel('Дата')\n",
    "plt.ylabel('Количество заказов')\n",
    "plt.title('Динамика  посетителей по дням, группа В') \n",
    "plt.grid()\n",
    "plt.legend()\n",
    "\n",
    "plt.tight_layout()\n",
    "plt.show()"
   ]
  },
  {
   "cell_type": "markdown",
   "metadata": {},
   "source": [
    "1. Характер взаимосвязи даты (числа месяца) и количества заказов для групп отличается.\n",
    "2. Заметно в целом более высокое количество заказов для группы В.\n",
    "3. В группе В есть дни с бОльшими просадками по количеству заказов."
   ]
  },
  {
   "cell_type": "markdown",
   "metadata": {},
   "source": [
    "**Предварительные данные по датасетам:**"
   ]
  },
  {
   "cell_type": "markdown",
   "metadata": {},
   "source": [
    "1. Датасет с гипотезами:  9 гипотез, 4 критерия с оценками от 1 до 10.\n",
    "2. Датасет с заказами: 1197 записей. Данные представлены за период с 1 по 31 августа 2019 года.\n",
    "3. Датасет с пользователями: 62 записи. Записи распределены  равномерно по датам и группам. Нет пересекающихся пользователей, одновременно представленных в обеих группах. \n",
    "4. Данные представлены за период с 1 по 31 августа 2019 года."
   ]
  },
  {
   "cell_type": "markdown",
   "metadata": {},
   "source": [
    "  "
   ]
  },
  {
   "cell_type": "markdown",
   "metadata": {},
   "source": [
    "##  Приоритизация гипотез"
   ]
  },
  {
   "cell_type": "markdown",
   "metadata": {},
   "source": [
    "В датасете представлены 9 гипотез с уже выполненной оценкой по критериям\n",
    "- Reach — охват пользователей по 10-балльной шкале;\n",
    "- Impact — влияние на пользователей по 10-балльной шкале;\n",
    "- Confidence — уверенность в гипотезе по 10-балльной шкале;\n",
    "- Efforts — затраты ресурсов на проверку гипотезы по 10-балльной шкале. Чем больше значение Efforts, тем дороже проверка гипотезы. "
   ]
  },
  {
   "cell_type": "markdown",
   "metadata": {},
   "source": [
    "Для корректной приоритизации применим фреймворки ICE и RICE, сравним результаты и сформулируем выводы."
   ]
  },
  {
   "cell_type": "markdown",
   "metadata": {},
   "source": [
    "### Фреймворк ICE для приоритизации гипотез"
   ]
  },
  {
   "cell_type": "markdown",
   "metadata": {},
   "source": [
    "В общем случае оценка по ICE = Impact x Confidence / Efforts, она учитывает влияние на пользователей, уверенность в гипотезе и затратность по ресурсам на реализацию идеи, отображенной в гипотезе.\n",
    "\n",
    "Для оценки каждой гипотезы добавим столбец 'ice' в датасет 'hypothesis'. \n",
    "Для удобного чтения данных округлим результат до 3 знаков после запятой и отсортируем по оценке 'ice'"
   ]
  },
  {
   "cell_type": "code",
   "execution_count": 15,
   "metadata": {},
   "outputs": [
    {
     "data": {
      "text/html": [
       "<div>\n",
       "<style scoped>\n",
       "    .dataframe tbody tr th:only-of-type {\n",
       "        vertical-align: middle;\n",
       "    }\n",
       "\n",
       "    .dataframe tbody tr th {\n",
       "        vertical-align: top;\n",
       "    }\n",
       "\n",
       "    .dataframe thead th {\n",
       "        text-align: right;\n",
       "    }\n",
       "</style>\n",
       "<table border=\"1\" class=\"dataframe\">\n",
       "  <thead>\n",
       "    <tr style=\"text-align: right;\">\n",
       "      <th></th>\n",
       "      <th>hypothesis</th>\n",
       "      <th>reach</th>\n",
       "      <th>impact</th>\n",
       "      <th>confidence</th>\n",
       "      <th>efforts</th>\n",
       "      <th>ice</th>\n",
       "    </tr>\n",
       "  </thead>\n",
       "  <tbody>\n",
       "    <tr>\n",
       "      <th>8</th>\n",
       "      <td>Запустить акцию, дающую скидку на товар в день рождения</td>\n",
       "      <td>1</td>\n",
       "      <td>9</td>\n",
       "      <td>9</td>\n",
       "      <td>5</td>\n",
       "      <td>16.200</td>\n",
       "    </tr>\n",
       "    <tr>\n",
       "      <th>0</th>\n",
       "      <td>Добавить два новых канала привлечения трафика, что позволит привлекать на 30% больше пользователей</td>\n",
       "      <td>3</td>\n",
       "      <td>10</td>\n",
       "      <td>8</td>\n",
       "      <td>6</td>\n",
       "      <td>13.333</td>\n",
       "    </tr>\n",
       "    <tr>\n",
       "      <th>7</th>\n",
       "      <td>Добавить форму подписки на все основные страницы, чтобы собрать базу клиентов для email-рассылок</td>\n",
       "      <td>10</td>\n",
       "      <td>7</td>\n",
       "      <td>8</td>\n",
       "      <td>5</td>\n",
       "      <td>11.200</td>\n",
       "    </tr>\n",
       "    <tr>\n",
       "      <th>6</th>\n",
       "      <td>Показать на главной странице баннеры с актуальными акциями и распродажами, чтобы увеличить конверсию</td>\n",
       "      <td>5</td>\n",
       "      <td>3</td>\n",
       "      <td>8</td>\n",
       "      <td>3</td>\n",
       "      <td>8.000</td>\n",
       "    </tr>\n",
       "    <tr>\n",
       "      <th>2</th>\n",
       "      <td>Добавить блоки рекомендаций товаров на сайт интернет магазина, чтобы повысить конверсию и средний чек заказа</td>\n",
       "      <td>8</td>\n",
       "      <td>3</td>\n",
       "      <td>7</td>\n",
       "      <td>3</td>\n",
       "      <td>7.000</td>\n",
       "    </tr>\n",
       "    <tr>\n",
       "      <th>1</th>\n",
       "      <td>Запустить собственную службу доставки, что сократит срок доставки заказов</td>\n",
       "      <td>2</td>\n",
       "      <td>5</td>\n",
       "      <td>4</td>\n",
       "      <td>10</td>\n",
       "      <td>2.000</td>\n",
       "    </tr>\n",
       "    <tr>\n",
       "      <th>5</th>\n",
       "      <td>Добавить страницу отзывов клиентов о магазине, что позволит увеличить количество заказов</td>\n",
       "      <td>3</td>\n",
       "      <td>2</td>\n",
       "      <td>2</td>\n",
       "      <td>3</td>\n",
       "      <td>1.333</td>\n",
       "    </tr>\n",
       "    <tr>\n",
       "      <th>3</th>\n",
       "      <td>Изменить структура категорий, что увеличит конверсию, т.к. пользователи быстрее найдут нужный товар</td>\n",
       "      <td>8</td>\n",
       "      <td>3</td>\n",
       "      <td>3</td>\n",
       "      <td>8</td>\n",
       "      <td>1.125</td>\n",
       "    </tr>\n",
       "    <tr>\n",
       "      <th>4</th>\n",
       "      <td>Изменить цвет фона главной страницы, чтобы увеличить вовлеченность пользователей</td>\n",
       "      <td>3</td>\n",
       "      <td>1</td>\n",
       "      <td>1</td>\n",
       "      <td>1</td>\n",
       "      <td>1.000</td>\n",
       "    </tr>\n",
       "  </tbody>\n",
       "</table>\n",
       "</div>"
      ],
      "text/plain": [
       "                                                                                                     hypothesis  \\\n",
       "8                                                       Запустить акцию, дающую скидку на товар в день рождения   \n",
       "0            Добавить два новых канала привлечения трафика, что позволит привлекать на 30% больше пользователей   \n",
       "7              Добавить форму подписки на все основные страницы, чтобы собрать базу клиентов для email-рассылок   \n",
       "6          Показать на главной странице баннеры с актуальными акциями и распродажами, чтобы увеличить конверсию   \n",
       "2  Добавить блоки рекомендаций товаров на сайт интернет магазина, чтобы повысить конверсию и средний чек заказа   \n",
       "1                                     Запустить собственную службу доставки, что сократит срок доставки заказов   \n",
       "5                      Добавить страницу отзывов клиентов о магазине, что позволит увеличить количество заказов   \n",
       "3           Изменить структура категорий, что увеличит конверсию, т.к. пользователи быстрее найдут нужный товар   \n",
       "4                              Изменить цвет фона главной страницы, чтобы увеличить вовлеченность пользователей   \n",
       "\n",
       "   reach  impact  confidence  efforts     ice  \n",
       "8      1       9           9        5  16.200  \n",
       "0      3      10           8        6  13.333  \n",
       "7     10       7           8        5  11.200  \n",
       "6      5       3           8        3   8.000  \n",
       "2      8       3           7        3   7.000  \n",
       "1      2       5           4       10   2.000  \n",
       "5      3       2           2        3   1.333  \n",
       "3      8       3           3        8   1.125  \n",
       "4      3       1           1        1   1.000  "
      ]
     },
     "execution_count": 15,
     "metadata": {},
     "output_type": "execute_result"
    }
   ],
   "source": [
    "hypothesis['ice'] = round((hypothesis['impact'] * hypothesis['confidence'])/hypothesis['efforts'],3)\n",
    "pd.options.display.max_colwidth = 130\n",
    "hypothesis.sort_values(by='ice', ascending = False)"
   ]
  },
  {
   "cell_type": "markdown",
   "metadata": {},
   "source": [
    "Расчет комплексной оценки ICE выявил три наиболее  интересные гипотезы с номерами  8,0,7: "
   ]
  },
  {
   "cell_type": "markdown",
   "metadata": {},
   "source": [
    " "
   ]
  },
  {
   "cell_type": "markdown",
   "metadata": {},
   "source": [
    "### Фреймворк RICE для приоритизации гипотез"
   ]
  },
  {
   "cell_type": "markdown",
   "metadata": {},
   "source": [
    "В общем случае оценка по RICE = Reach x Impact x Confidence / Efforts.\n",
    "Как и ICE, она учитывает влияние на пользователей, уверенность в гипотезе и затратность по ресурсам на реализацию идеи, отображенной в гипотезе. Дополнительно к ICE, оценка RICE учитывает охват пользователей.\n",
    "\n",
    "Для оценки каждой гипотезы добавим столбец 'rice' в датасет 'hypothesis'. \n",
    "Для удобного чтения данных округлим результат до 3 знаков после запятой и отсортируем по оценке 'rice'"
   ]
  },
  {
   "cell_type": "code",
   "execution_count": 16,
   "metadata": {},
   "outputs": [
    {
     "data": {
      "text/html": [
       "<div>\n",
       "<style scoped>\n",
       "    .dataframe tbody tr th:only-of-type {\n",
       "        vertical-align: middle;\n",
       "    }\n",
       "\n",
       "    .dataframe tbody tr th {\n",
       "        vertical-align: top;\n",
       "    }\n",
       "\n",
       "    .dataframe thead th {\n",
       "        text-align: right;\n",
       "    }\n",
       "</style>\n",
       "<table border=\"1\" class=\"dataframe\">\n",
       "  <thead>\n",
       "    <tr style=\"text-align: right;\">\n",
       "      <th></th>\n",
       "      <th>hypothesis</th>\n",
       "      <th>reach</th>\n",
       "      <th>impact</th>\n",
       "      <th>confidence</th>\n",
       "      <th>efforts</th>\n",
       "      <th>ice</th>\n",
       "      <th>rice</th>\n",
       "    </tr>\n",
       "  </thead>\n",
       "  <tbody>\n",
       "    <tr>\n",
       "      <th>7</th>\n",
       "      <td>Добавить форму подписки на все основные страницы, чтобы собрать базу клиентов для email-рассылок</td>\n",
       "      <td>10</td>\n",
       "      <td>7</td>\n",
       "      <td>8</td>\n",
       "      <td>5</td>\n",
       "      <td>11.200</td>\n",
       "      <td>112.0</td>\n",
       "    </tr>\n",
       "    <tr>\n",
       "      <th>2</th>\n",
       "      <td>Добавить блоки рекомендаций товаров на сайт интернет магазина, чтобы повысить конверсию и средний чек заказа</td>\n",
       "      <td>8</td>\n",
       "      <td>3</td>\n",
       "      <td>7</td>\n",
       "      <td>3</td>\n",
       "      <td>7.000</td>\n",
       "      <td>56.0</td>\n",
       "    </tr>\n",
       "    <tr>\n",
       "      <th>0</th>\n",
       "      <td>Добавить два новых канала привлечения трафика, что позволит привлекать на 30% больше пользователей</td>\n",
       "      <td>3</td>\n",
       "      <td>10</td>\n",
       "      <td>8</td>\n",
       "      <td>6</td>\n",
       "      <td>13.333</td>\n",
       "      <td>40.0</td>\n",
       "    </tr>\n",
       "    <tr>\n",
       "      <th>6</th>\n",
       "      <td>Показать на главной странице баннеры с актуальными акциями и распродажами, чтобы увеличить конверсию</td>\n",
       "      <td>5</td>\n",
       "      <td>3</td>\n",
       "      <td>8</td>\n",
       "      <td>3</td>\n",
       "      <td>8.000</td>\n",
       "      <td>40.0</td>\n",
       "    </tr>\n",
       "    <tr>\n",
       "      <th>8</th>\n",
       "      <td>Запустить акцию, дающую скидку на товар в день рождения</td>\n",
       "      <td>1</td>\n",
       "      <td>9</td>\n",
       "      <td>9</td>\n",
       "      <td>5</td>\n",
       "      <td>16.200</td>\n",
       "      <td>16.2</td>\n",
       "    </tr>\n",
       "    <tr>\n",
       "      <th>3</th>\n",
       "      <td>Изменить структура категорий, что увеличит конверсию, т.к. пользователи быстрее найдут нужный товар</td>\n",
       "      <td>8</td>\n",
       "      <td>3</td>\n",
       "      <td>3</td>\n",
       "      <td>8</td>\n",
       "      <td>1.125</td>\n",
       "      <td>9.0</td>\n",
       "    </tr>\n",
       "    <tr>\n",
       "      <th>1</th>\n",
       "      <td>Запустить собственную службу доставки, что сократит срок доставки заказов</td>\n",
       "      <td>2</td>\n",
       "      <td>5</td>\n",
       "      <td>4</td>\n",
       "      <td>10</td>\n",
       "      <td>2.000</td>\n",
       "      <td>4.0</td>\n",
       "    </tr>\n",
       "    <tr>\n",
       "      <th>5</th>\n",
       "      <td>Добавить страницу отзывов клиентов о магазине, что позволит увеличить количество заказов</td>\n",
       "      <td>3</td>\n",
       "      <td>2</td>\n",
       "      <td>2</td>\n",
       "      <td>3</td>\n",
       "      <td>1.333</td>\n",
       "      <td>4.0</td>\n",
       "    </tr>\n",
       "    <tr>\n",
       "      <th>4</th>\n",
       "      <td>Изменить цвет фона главной страницы, чтобы увеличить вовлеченность пользователей</td>\n",
       "      <td>3</td>\n",
       "      <td>1</td>\n",
       "      <td>1</td>\n",
       "      <td>1</td>\n",
       "      <td>1.000</td>\n",
       "      <td>3.0</td>\n",
       "    </tr>\n",
       "  </tbody>\n",
       "</table>\n",
       "</div>"
      ],
      "text/plain": [
       "                                                                                                     hypothesis  \\\n",
       "7              Добавить форму подписки на все основные страницы, чтобы собрать базу клиентов для email-рассылок   \n",
       "2  Добавить блоки рекомендаций товаров на сайт интернет магазина, чтобы повысить конверсию и средний чек заказа   \n",
       "0            Добавить два новых канала привлечения трафика, что позволит привлекать на 30% больше пользователей   \n",
       "6          Показать на главной странице баннеры с актуальными акциями и распродажами, чтобы увеличить конверсию   \n",
       "8                                                       Запустить акцию, дающую скидку на товар в день рождения   \n",
       "3           Изменить структура категорий, что увеличит конверсию, т.к. пользователи быстрее найдут нужный товар   \n",
       "1                                     Запустить собственную службу доставки, что сократит срок доставки заказов   \n",
       "5                      Добавить страницу отзывов клиентов о магазине, что позволит увеличить количество заказов   \n",
       "4                              Изменить цвет фона главной страницы, чтобы увеличить вовлеченность пользователей   \n",
       "\n",
       "   reach  impact  confidence  efforts     ice   rice  \n",
       "7     10       7           8        5  11.200  112.0  \n",
       "2      8       3           7        3   7.000   56.0  \n",
       "0      3      10           8        6  13.333   40.0  \n",
       "6      5       3           8        3   8.000   40.0  \n",
       "8      1       9           9        5  16.200   16.2  \n",
       "3      8       3           3        8   1.125    9.0  \n",
       "1      2       5           4       10   2.000    4.0  \n",
       "5      3       2           2        3   1.333    4.0  \n",
       "4      3       1           1        1   1.000    3.0  "
      ]
     },
     "execution_count": 16,
     "metadata": {},
     "output_type": "execute_result"
    }
   ],
   "source": [
    "hypothesis['rice'] = round((hypothesis['reach'] * hypothesis['impact'] * hypothesis['confidence'])/hypothesis['efforts'],3)\n",
    "pd.options.display.max_colwidth = 130\n",
    "hypothesis.sort_values(by='rice', ascending = False)"
   ]
  },
  {
   "cell_type": "markdown",
   "metadata": {},
   "source": [
    "Расчет комплексной оценки RICE выявил три наиболее  интересные гипотезы с номерами  7,2,0:"
   ]
  },
  {
   "cell_type": "markdown",
   "metadata": {},
   "source": [
    " "
   ]
  },
  {
   "cell_type": "markdown",
   "metadata": {},
   "source": [
    "### Выводы"
   ]
  },
  {
   "cell_type": "markdown",
   "metadata": {},
   "source": [
    "1. По обоим методикам перечень топ-3 гипотез оказался отличным. 8-я гипотеза не прошла проверку охватом, а 7-я с третьего места по ICE вышла на 1-е место с учетом охвата пользователей. \n",
    "2. Гипотеза номер 0 осталась в топ-3 и имеет шансы к реализаци, стоит проработать вопрос новых каналов привлечения пользователей\n",
    "3. Гипотеза номер 2 с точки зрения RICE тоже имеет высокие шансы к реализации и, как следствие- к увеличению конверсии и среднего чека. \n",
    "4.  Первое место по RICE заняла гипотеза №7  \"Добавить форму подписки на все основные страницы, чтобы собрать базу клиентов для email-рассылок\". Реализация этой гипотезы затронет большинство пользователей и, возможно, принесет максимум пользы.  По остальным критериям она занимает третье место с небольшим отрывом от первого."
   ]
  },
  {
   "cell_type": "markdown",
   "metadata": {},
   "source": [
    " "
   ]
  },
  {
   "cell_type": "markdown",
   "metadata": {},
   "source": [
    " "
   ]
  },
  {
   "cell_type": "markdown",
   "metadata": {},
   "source": [
    "## Анализ А/В теста"
   ]
  },
  {
   "cell_type": "markdown",
   "metadata": {},
   "source": [
    "По проектному заданию  A/B-тест уже проведен и получены результаты, которые описаны в файлах 'orders.csv' и 'visitors.csv.   \n",
    "\n",
    "Проанализируем А/В - тест."
   ]
  },
  {
   "cell_type": "markdown",
   "metadata": {},
   "source": [
    " "
   ]
  },
  {
   "cell_type": "markdown",
   "metadata": {},
   "source": [
    "**Предварительная обработка данных**"
   ]
  },
  {
   "cell_type": "code",
   "execution_count": 17,
   "metadata": {
    "scrolled": true
   },
   "outputs": [
    {
     "data": {
      "text/html": [
       "<div>\n",
       "<style scoped>\n",
       "    .dataframe tbody tr th:only-of-type {\n",
       "        vertical-align: middle;\n",
       "    }\n",
       "\n",
       "    .dataframe tbody tr th {\n",
       "        vertical-align: top;\n",
       "    }\n",
       "\n",
       "    .dataframe thead th {\n",
       "        text-align: right;\n",
       "    }\n",
       "</style>\n",
       "<table border=\"1\" class=\"dataframe\">\n",
       "  <thead>\n",
       "    <tr style=\"text-align: right;\">\n",
       "      <th></th>\n",
       "      <th>date</th>\n",
       "      <th>ordersPerDateA</th>\n",
       "      <th>revenuePerDateA</th>\n",
       "      <th>ordersPerDateB</th>\n",
       "      <th>revenuePerDateB</th>\n",
       "      <th>ordersCummulativeA</th>\n",
       "      <th>revenueCummulativeA</th>\n",
       "      <th>ordersCummulativeB</th>\n",
       "      <th>revenueCummulativeB</th>\n",
       "      <th>visitorsPerDateA</th>\n",
       "      <th>visitorsPerDateB</th>\n",
       "      <th>visitorsCummulativeA</th>\n",
       "      <th>visitorsCummulativeB</th>\n",
       "    </tr>\n",
       "  </thead>\n",
       "  <tbody>\n",
       "    <tr>\n",
       "      <th>0</th>\n",
       "      <td>2019-08-01</td>\n",
       "      <td>24</td>\n",
       "      <td>148579</td>\n",
       "      <td>21</td>\n",
       "      <td>101217</td>\n",
       "      <td>24</td>\n",
       "      <td>148579</td>\n",
       "      <td>21</td>\n",
       "      <td>101217</td>\n",
       "      <td>719</td>\n",
       "      <td>713</td>\n",
       "      <td>719</td>\n",
       "      <td>713</td>\n",
       "    </tr>\n",
       "    <tr>\n",
       "      <th>1</th>\n",
       "      <td>2019-08-02</td>\n",
       "      <td>20</td>\n",
       "      <td>93822</td>\n",
       "      <td>24</td>\n",
       "      <td>165531</td>\n",
       "      <td>44</td>\n",
       "      <td>242401</td>\n",
       "      <td>45</td>\n",
       "      <td>266748</td>\n",
       "      <td>619</td>\n",
       "      <td>581</td>\n",
       "      <td>1338</td>\n",
       "      <td>1294</td>\n",
       "    </tr>\n",
       "    <tr>\n",
       "      <th>2</th>\n",
       "      <td>2019-08-03</td>\n",
       "      <td>24</td>\n",
       "      <td>112473</td>\n",
       "      <td>16</td>\n",
       "      <td>114248</td>\n",
       "      <td>68</td>\n",
       "      <td>354874</td>\n",
       "      <td>61</td>\n",
       "      <td>380996</td>\n",
       "      <td>507</td>\n",
       "      <td>509</td>\n",
       "      <td>1845</td>\n",
       "      <td>1803</td>\n",
       "    </tr>\n",
       "    <tr>\n",
       "      <th>3</th>\n",
       "      <td>2019-08-04</td>\n",
       "      <td>16</td>\n",
       "      <td>70825</td>\n",
       "      <td>17</td>\n",
       "      <td>108571</td>\n",
       "      <td>84</td>\n",
       "      <td>425699</td>\n",
       "      <td>78</td>\n",
       "      <td>489567</td>\n",
       "      <td>717</td>\n",
       "      <td>770</td>\n",
       "      <td>2562</td>\n",
       "      <td>2573</td>\n",
       "    </tr>\n",
       "    <tr>\n",
       "      <th>4</th>\n",
       "      <td>2019-08-05</td>\n",
       "      <td>25</td>\n",
       "      <td>124218</td>\n",
       "      <td>23</td>\n",
       "      <td>92428</td>\n",
       "      <td>109</td>\n",
       "      <td>549917</td>\n",
       "      <td>101</td>\n",
       "      <td>581995</td>\n",
       "      <td>756</td>\n",
       "      <td>707</td>\n",
       "      <td>3318</td>\n",
       "      <td>3280</td>\n",
       "    </tr>\n",
       "  </tbody>\n",
       "</table>\n",
       "</div>"
      ],
      "text/plain": [
       "        date  ordersPerDateA  revenuePerDateA  ordersPerDateB  \\\n",
       "0 2019-08-01              24           148579              21   \n",
       "1 2019-08-02              20            93822              24   \n",
       "2 2019-08-03              24           112473              16   \n",
       "3 2019-08-04              16            70825              17   \n",
       "4 2019-08-05              25           124218              23   \n",
       "\n",
       "   revenuePerDateB  ordersCummulativeA  revenueCummulativeA  \\\n",
       "0           101217                  24               148579   \n",
       "1           165531                  44               242401   \n",
       "2           114248                  68               354874   \n",
       "3           108571                  84               425699   \n",
       "4            92428                 109               549917   \n",
       "\n",
       "   ordersCummulativeB  revenueCummulativeB  visitorsPerDateA  \\\n",
       "0                  21               101217               719   \n",
       "1                  45               266748               619   \n",
       "2                  61               380996               507   \n",
       "3                  78               489567               717   \n",
       "4                 101               581995               756   \n",
       "\n",
       "   visitorsPerDateB  visitorsCummulativeA  visitorsCummulativeB  \n",
       "0               713                   719                   713  \n",
       "1               581                  1338                  1294  \n",
       "2               509                  1845                  1803  \n",
       "3               770                  2562                  2573  \n",
       "4               707                  3318                  3280  "
      ]
     },
     "execution_count": 17,
     "metadata": {},
     "output_type": "execute_result"
    }
   ],
   "source": [
    "# количество пользователей по датам для группы А\n",
    "visitorsADaily = visitors[visitors['group'] == 'A'][['date', 'visitors']]\n",
    "visitorsADaily.columns = ['date', 'visitorsPerDateA']\n",
    "\n",
    "# кумулятивное количесто пользователей на  дату для группы А\n",
    "visitorsACummulative = visitorsADaily.apply(\n",
    "    lambda x: visitorsADaily[visitorsADaily['date'] <= x['date']].agg(\n",
    "        {'date': 'max', 'visitorsPerDateA': 'sum'}),     axis=1, )\n",
    "visitorsACummulative.columns = ['date', 'visitorsCummulativeA']\n",
    "\n",
    "\n",
    "# количесто пользователей по датам для группы В\n",
    "visitorsBDaily = visitors[visitors['group'] == 'B'][['date', 'visitors']]\n",
    "visitorsBDaily.columns = ['date', 'visitorsPerDateB']\n",
    "\n",
    "# кумулятивное количество пользователей на  дату для группы И\n",
    "visitorsBCummulative = visitorsBDaily.apply(\n",
    "    lambda x: visitorsBDaily[visitorsBDaily['date'] <= x['date']].agg(\n",
    "        {'date': 'max', 'visitorsPerDateB': 'sum'} ),  axis=1, )\n",
    "\n",
    "visitorsBCummulative.columns = ['date', 'visitorsCummulativeB']\n",
    "\n",
    "\n",
    "# заказы группы А на дату\n",
    "ordersADaily = (\n",
    "    orders[orders['group'] == 'A'][['date', 'transactionid', 'visitorid', 'revenue']]\n",
    "    .groupby('date', as_index=False)\n",
    "    .agg({'transactionid': pd.Series.nunique, 'revenue': 'sum'})\n",
    ")\n",
    "ordersADaily.columns = ['date', 'ordersPerDateA', 'revenuePerDateA']\n",
    "\n",
    "\n",
    "# заказы группы А кумулятивно на дату\n",
    "ordersACummulative = ordersADaily.apply(\n",
    "    lambda x: ordersADaily[ordersADaily['date'] <= x['date']].agg(\n",
    "        {'date': 'max', 'ordersPerDateA': 'sum', 'revenuePerDateA': 'sum'}\n",
    "    ),\n",
    "    axis=1,\n",
    ").sort_values(by=['date'])\n",
    "ordersACummulative.columns = [\n",
    "    'date',\n",
    "    'ordersCummulativeA',\n",
    "    'revenueCummulativeA',\n",
    "]\n",
    "\n",
    "\n",
    "# заказы группы В на дату\n",
    "ordersBDaily = (\n",
    "    orders[orders['group'] == 'B'][['date', 'transactionid', 'visitorid', 'revenue']]\n",
    "    .groupby('date', as_index=False)\n",
    "    .agg({'transactionid': pd.Series.nunique, 'revenue': 'sum'})\n",
    ")\n",
    "ordersBDaily.columns = ['date', 'ordersPerDateB', 'revenuePerDateB']\n",
    "\n",
    "\n",
    "# заказы группы В кумулятивно на дату\n",
    "ordersBCummulative = ordersBDaily.apply(\n",
    "    lambda x: ordersBDaily[ordersBDaily['date'] <= x['date']].agg(\n",
    "        {'date': 'max', 'ordersPerDateB': 'sum', 'revenuePerDateB': 'sum'}\n",
    "    ),\n",
    "    axis=1,\n",
    ").sort_values(by=['date'])\n",
    "ordersBCummulative.columns = [\n",
    "    'date',\n",
    "    'ordersCummulativeB',\n",
    "    'revenueCummulativeB',\n",
    "]\n",
    "\n",
    "\n",
    "# собираем расчетные данные в одну таблицу.\n",
    "data = (\n",
    "    ordersADaily.merge(\n",
    "        ordersBDaily, left_on='date', right_on='date', how='left'\n",
    "    )\n",
    "    .merge(ordersACummulative, left_on='date', right_on='date', how='left')\n",
    "    .merge(ordersBCummulative, left_on='date', right_on='date', how='left')\n",
    "    .merge(visitorsADaily, left_on='date', right_on='date', how='left')\n",
    "    .merge(visitorsBDaily, left_on='date', right_on='date', how='left')\n",
    "    .merge(visitorsACummulative, left_on='date', right_on='date', how='left')\n",
    "    .merge(visitorsBCummulative, left_on='date', right_on='date', how='left')\n",
    ")\n",
    "\n",
    "data.sort_values(by='date', ascending=True).head()"
   ]
  },
  {
   "cell_type": "markdown",
   "metadata": {},
   "source": [
    "Названия столбцов данных сводной таблицы:\n",
    "- date — дата;\n",
    "- ordersPerDateA — количество заказов в выбранную дату в группе A;\n",
    "- revenuePerDateA — суммарная выручка в выбранную дату в группе A;\n",
    "- ordersPerDateB — количество заказов в выбранную дату в группе B;\n",
    "- revenuePerDateB — суммарная выручка в выбранную дату в группе B;\n",
    "- ordersCummulativeA — суммарное число заказов до выбранной даты включительно в группе A;\n",
    "- revenueCummulativeA — суммарная выручка до выбранной даты включительно в группе A;\n",
    "- ordersCummulativeB — суммарное количество заказов до выбранной даты включительно в группе B;\n",
    "- revenueCummulativeB — суммарная выручка до выбранной даты включительно в группе B;\n",
    "- visitorsPerDateA — количество пользователей в выбранную дату в группе A;\n",
    "- visitorsPerDateB — количество пользователей в выбранную дату в группе B;\n",
    "- visitorsCummulativeA — количество пользователей до выбранной даты включительно в группе A;\n",
    "- visitorsCummulativeB — количество пользователей до выбранной даты включительно в группе B."
   ]
  },
  {
   "cell_type": "markdown",
   "metadata": {},
   "source": [
    " "
   ]
  },
  {
   "cell_type": "markdown",
   "metadata": {},
   "source": [
    "###  График кумулятивной выручки по группам. "
   ]
  },
  {
   "cell_type": "code",
   "execution_count": 18,
   "metadata": {},
   "outputs": [
    {
     "data": {
      "image/png": "[encoded data removed]",
      "text/plain": [
       "<Figure size 1152x576 with 1 Axes>"
      ]
     },
     "metadata": {
      "needs_background": "light"
     },
     "output_type": "display_data"
    }
   ],
   "source": [
    "#размер графика\n",
    "plt.figure(figsize=(16, 8))\n",
    "\n",
    "# Строим график кумулятивной выручки группы А\n",
    "plt.plot(data['date'], data['revenueCummulativeA'], label='A')\n",
    "\n",
    "# Строим график кумулятивной выручки группы B\n",
    "plt.plot(data['date'], data['revenueCummulativeB'], label='B')\n",
    "\n",
    "plt.xlabel('Дата')\n",
    "plt.ylabel('Выручка, у.е.')\n",
    "plt.title('График кумулятивной выручки по группам') \n",
    "plt.grid()\n",
    "plt.legend() \n",
    "plt.show()"
   ]
  },
  {
   "cell_type": "markdown",
   "metadata": {},
   "source": [
    "1. Группа А относительно стабильно растет со временем.\n",
    "2. Группа В имеет резкий скачок вверх кумулятивной выручки во второй половине месяца. Но даже без него график идет выше контрольной группы (хотя и примерно с тем же наклоном)- показатели группы В лучше.\n",
    "3. Выручка зависит от количества заказов и среднего чека. Увеличение выручки группы В относительно контрольной группы А может свидетельствовать об увеличении количества заказов, увеличении среднего чека или о том и другом вместе.\n",
    "4. Скорее всего резкий рост выручки по группе В обусловлен аномально дорогим единичным заказом- это более вероятно, чем резкое единократное увеличение колизества заказов (пользователей), так как в противном случае добавившиеся в таком количестве пользователи скорее всего разогнали бы поступление выручки  и это было б не единократное событие, а тренд. Дальнейший анализ покажет картину изменений яснее."
   ]
  },
  {
   "cell_type": "markdown",
   "metadata": {},
   "source": [
    " "
   ]
  },
  {
   "cell_type": "markdown",
   "metadata": {},
   "source": [
    "### График кумулятивного среднего чека по группам"
   ]
  },
  {
   "cell_type": "code",
   "execution_count": 19,
   "metadata": {},
   "outputs": [
    {
     "data": {
      "image/png": "[encoded data removed]",
      "text/plain": [
       "<Figure size 1152x576 with 1 Axes>"
      ]
     },
     "metadata": {
      "needs_background": "light"
     },
     "output_type": "display_data"
    }
   ],
   "source": [
    "#размер графика\n",
    "plt.figure(figsize=(16, 8))\n",
    "\n",
    "# Строим график кумулятивного среднего чека группы А\n",
    "plt.plot(data['date'], data['revenueCummulativeA']/data['ordersCummulativeA'], label='A')\n",
    "\n",
    "# Строим график кумулятивного среднего чека группы B\n",
    "plt.plot(data['date'], data['revenueCummulativeB']/data['ordersCummulativeB'], label='B')\n",
    "\n",
    "plt.xlabel('Дата')\n",
    "plt.ylabel('Сумма среднего чека, у.е.')\n",
    "plt.title('График кумулятивного среднего чека по группам') \n",
    "plt.grid()\n",
    "plt.legend() \n",
    "plt.show()"
   ]
  },
  {
   "cell_type": "markdown",
   "metadata": {},
   "source": [
    "1. Очень непостоянные кривые в первой половине месяца для обеих групп. Во второй половине месяца группа А показывает относительно стабильные результаты.\n",
    "2. Для группы В во второй половине месяца, как и на графике с выручкой,  ориентировочно 18 августа наблюдается аномальная покупка, которая сдвигает показатели группы  радикально вверх с последующим снижением к концу месяца."
   ]
  },
  {
   "cell_type": "markdown",
   "metadata": {},
   "source": [
    " "
   ]
  },
  {
   "cell_type": "markdown",
   "metadata": {},
   "source": [
    "### График относительного изменения кумулятивного среднего чека группы B к группе A"
   ]
  },
  {
   "cell_type": "code",
   "execution_count": 20,
   "metadata": {},
   "outputs": [
    {
     "data": {
      "image/png": "[encoded data removed]",
      "text/plain": [
       "<Figure size 1152x576 with 1 Axes>"
      ]
     },
     "metadata": {
      "needs_background": "light"
     },
     "output_type": "display_data"
    }
   ],
   "source": [
    "#размер графика\n",
    "plt.figure(figsize=(16, 8))\n",
    "\n",
    "# Строим график относительного изменения кумулятивного среднего чека группы B к группе A\n",
    "\n",
    "plt.plot(data['date'], (data['revenueCummulativeB']/data['ordersCummulativeB'])/(data['revenueCummulativeA']/data['ordersCummulativeA'])- 1  )\n",
    "\n",
    "\n",
    "# добавляем ось X\n",
    "plt.xlabel('Дата')\n",
    "plt.ylabel('Относительное изменение')\n",
    "plt.axhline(y=0, color='black', linestyle='-') \n",
    "plt.axhline(y=0.1, color='black', linestyle='--') \n",
    "plt.axhline(y=-0.1, color='black', linestyle='--') \n",
    "plt.title('График относительного изменения кумулятивного среднего чека группы B к группе A') \n",
    "plt.grid()\n",
    "\n",
    "plt.show()"
   ]
  },
  {
   "cell_type": "markdown",
   "metadata": {},
   "source": [
    "1. Неоднозначные показатели. Первую неделю   вторая группа В показывает результаты лучше контрольной группы А.\n",
    "2. Вторая неделя характеризуется сильным падением группы В вплоть до отрицательных значений. Это связано, в том числе, с хорошими показателями группы А  и трендом на снижение среднего чека для группы В, что приводит к просадке относительного показателя группы В.\n",
    "3. Третья неделя для группы В положительна- намечается восходящий тренд, который резко усиливается единичной аномальной покупкой\n",
    "4. Четвертая неделя  показывает плавное снижение относительного показателя по средему чеку группы В. Если б не  скачок, вызванный аномальной покупкой, то график ушел бы сильно в отрицательную зону."
   ]
  },
  {
   "cell_type": "markdown",
   "metadata": {},
   "source": [
    "### График кумулятивного среднего количества заказов по группам"
   ]
  },
  {
   "cell_type": "code",
   "execution_count": 21,
   "metadata": {},
   "outputs": [
    {
     "data": {
      "image/png": "[encoded data removed]",
      "text/plain": [
       "<Figure size 1152x576 with 1 Axes>"
      ]
     },
     "metadata": {
      "needs_background": "light"
     },
     "output_type": "display_data"
    }
   ],
   "source": [
    "#размер графика\n",
    "plt.figure(figsize=(16, 8))\n",
    "\n",
    "# Строим график кумулятивного среднего чека группы А\n",
    "plt.plot(data['date'], data['ordersCummulativeA']/data['visitorsCummulativeA'], label='A')\n",
    "\n",
    "# Строим график кумулятивного среднего чека группы B\n",
    "plt.plot(data['date'], data['ordersCummulativeB']/data['visitorsCummulativeB'], label='B')\n",
    "\n",
    "plt.xlabel('Дата')\n",
    "plt.ylabel('Среднее количество заказов, ед.')\n",
    "plt.title('График кумулятивного среднего количества заказов  по группам') \n",
    "plt.grid()\n",
    "plt.legend() \n",
    "plt.show()"
   ]
  },
  {
   "cell_type": "markdown",
   "metadata": {},
   "source": [
    "1. Среднее количество заказов  на первой неделе нестабильно для обеих групп.\n",
    "2. К концу первой недели наблюдается два контртренда: среднее количество заказов для группы А падает, а для группы В- растет.\n",
    "3. Во второй половине месяца наблюдает стабилизировавшиеся показатели для группы А и некоторый тренд на снижение для группы В. Причем аномальная покупка в группе В дает локальный прирост характеристики, но, в целом, не меняет характер зависимости.\n",
    "4. Предположение, отмеченное выше в п.3.1, подтверждается: в группе В наблюдаем стабильно более высокий уровень количества заказов."
   ]
  },
  {
   "cell_type": "markdown",
   "metadata": {},
   "source": [
    " "
   ]
  },
  {
   "cell_type": "markdown",
   "metadata": {},
   "source": [
    "### График относительного изменения кумулятивного среднего количества заказов группы B к группе A"
   ]
  },
  {
   "cell_type": "code",
   "execution_count": 22,
   "metadata": {},
   "outputs": [
    {
     "data": {
      "image/png": "[encoded data removed]",
      "text/plain": [
       "<Figure size 1152x576 with 1 Axes>"
      ]
     },
     "metadata": {
      "needs_background": "light"
     },
     "output_type": "display_data"
    }
   ],
   "source": [
    "#размер графика\n",
    "plt.figure(figsize=(16, 8))\n",
    "\n",
    "# Строим график относительного изменения кумулятивного среднего чека группы B к группе A\n",
    "\n",
    "plt.plot(data['date'], (data['ordersCummulativeB']/data['visitorsCummulativeB'])/ (data['ordersCummulativeA']/data['visitorsCummulativeA'])- 1  )\n",
    "\n",
    "plt.xlabel('Дата')\n",
    "plt.ylabel('Относительное изменение.')\n",
    "# добавляем ось X\n",
    "plt.axhline(y=0, color='black', linestyle='-') \n",
    "plt.axhline(y=0.1, color='black', linestyle='--') \n",
    "plt.title('График относительного изменения кумулятивного среднего количества заказов группы B к группе A') \n",
    "plt.grid()\n",
    "\n",
    "plt.show()"
   ]
  },
  {
   "cell_type": "markdown",
   "metadata": {},
   "source": [
    "1. В первую неделю, скорее всего, изменения для группы В еще не начали действовать в полную силу. Поэтому в среднем количество заказов в контрольной группе А преобладает.\n",
    "2. Начиная с 5 числа баланс сместился к группе В, а после 8 числа заказов у группы В минимум на 10% больше,чем у группы А (c одним микроисключением 27 августа).\n",
    "3. Группа В со второй недели показывает стабильно лучшие результаты, чем контрольная А."
   ]
  },
  {
   "cell_type": "markdown",
   "metadata": {},
   "source": [
    " "
   ]
  },
  {
   "cell_type": "markdown",
   "metadata": {},
   "source": [
    "### Точечный график количества заказов по пользователям"
   ]
  },
  {
   "cell_type": "markdown",
   "metadata": {},
   "source": [
    "Формируем сводную таблицу по заказам для каждого пользователя в разбивке"
   ]
  },
  {
   "cell_type": "code",
   "execution_count": 23,
   "metadata": {},
   "outputs": [],
   "source": [
    "# пользователи группы А\n",
    "ordersByUsersA = ( orders[orders['group'] == 'A'].groupby('visitorid', as_index=False).agg({'transactionid': 'nunique'}))\n",
    "ordersByUsersA.columns = ['userId', 'orders']\n",
    "\n",
    "# пользователи группы В\n",
    "ordersByUsersB = ( orders[orders['group'] == 'B'].groupby('visitorid', as_index=False).agg({'transactionid': 'nunique'}))\n",
    "ordersByUsersB.columns = ['userId', 'orders']"
   ]
  },
  {
   "cell_type": "code",
   "execution_count": 24,
   "metadata": {},
   "outputs": [
    {
     "data": {
      "image/png": "[encoded data removed]",
      "text/plain": [
       "<Figure size 1152x360 with 2 Axes>"
      ]
     },
     "metadata": {
      "needs_background": "light"
     },
     "output_type": "display_data"
    }
   ],
   "source": [
    "#размер графика\n",
    "plt.figure(figsize=(16, 5))\n",
    "\n",
    "\n",
    "# Строим точечный график количества заказов по пользователям группы А\n",
    "# так как UserId- обычное число ( внашем случае- уникальное),а интересует нас графическое распределение точек по ординате,  то примем этот параметр за абсциссу точечного графика\n",
    "ax1 = plt.subplot(1, 2, 1)\n",
    "plt.xlabel('UserID')\n",
    "plt.ylabel('Количество заказов, ед.')\n",
    "plt.scatter(ordersByUsersA['userId'], ordersByUsersA['orders']) \n",
    "plt.title('Точечный график количества заказов по пользователям группы А') \n",
    "plt.grid()\n",
    "\n",
    "\n",
    "# Строим точечный график количества заказов по пользователям группы B\n",
    "# так как UserId- обычное число ( внашем случае- уникальное),а интересует нас графическое распределение точек по ординате,  то примем этот параметр за абсциссу точечного графика\n",
    "ax2 = plt.subplot(1, 2, 2, sharey=ax1)\n",
    "plt.xlabel('UserID')\n",
    "plt.ylabel('Количество заказов, ед.')\n",
    "plt.scatter(ordersByUsersB['userId'], ordersByUsersB['orders']) \n",
    "plt.title('Точечный график количества заказов по пользователям группы B') \n",
    "plt.grid()\n",
    "\n",
    "plt.tight_layout()\n",
    "plt.show()\n",
    "\n"
   ]
  },
  {
   "cell_type": "markdown",
   "metadata": {},
   "source": [
    "1. Основная масса пользователей делает по одному заказу.\n",
    "2. Также есть некоторая часть пользователей с 2-3 заказами. Большее количество заказов уже не характерно для пользователей."
   ]
  },
  {
   "cell_type": "markdown",
   "metadata": {},
   "source": [
    " "
   ]
  },
  {
   "cell_type": "markdown",
   "metadata": {},
   "source": [
    "### Расчет 95-го и 99-го перцентиля количества заказов на пользователя. Выбор границы для определения аномальных пользователей."
   ]
  },
  {
   "cell_type": "code",
   "execution_count": 25,
   "metadata": {},
   "outputs": [
    {
     "name": "stdout",
     "output_type": "stream",
     "text": [
      "Расчет 95-го и 99-го перцентиля количества заказов на пользователя для группы А\n",
      "[2.   3.98]\n",
      "\n",
      "Расчет 95-го и 99-го перцентиля количества заказов на пользователя для группы B\n",
      "[2.   3.15]\n"
     ]
    }
   ],
   "source": [
    "print('Расчет 95-го и 99-го перцентиля количества заказов на пользователя для группы А')\n",
    "print(np.percentile(ordersByUsersA['orders'], [95, 99])) \n",
    "print()\n",
    "print('Расчет 95-го и 99-го перцентиля количества заказов на пользователя для группы B')\n",
    "print(np.percentile(ordersByUsersB['orders'], [95, 99])) \n"
   ]
  },
  {
   "cell_type": "markdown",
   "metadata": {},
   "source": [
    "1. 95% пользователей делают не более 2 заказов.  \n",
    "2. Менее 1% пользователей размещают более 3 заказов.   \n",
    "3. Учитывая расчет перцентилей и графическое распределение данных, определим границу аномального пользователя - 3 заказа в одни руки."
   ]
  },
  {
   "cell_type": "markdown",
   "metadata": {},
   "source": [
    " "
   ]
  },
  {
   "cell_type": "markdown",
   "metadata": {},
   "source": [
    "### Точечный график стоимости заказов по пользователям"
   ]
  },
  {
   "cell_type": "markdown",
   "metadata": {},
   "source": [
    "Формируем сводную таблицу по заказам для каждого пользователя"
   ]
  },
  {
   "cell_type": "code",
   "execution_count": 26,
   "metadata": {},
   "outputs": [],
   "source": [
    "# пользователи группы А\n",
    "revenueByUsersA = ( orders[orders['group'] == 'A'].groupby('visitorid', as_index=False).agg({'revenue': 'sum'}))\n",
    "revenueByUsersA.columns = ['userId', 'revenue']\n",
    "\n",
    "# пользователи группы В\n",
    "revenueByUsersB = ( orders[orders['group'] == 'B'].groupby('visitorid', as_index=False).agg({'revenue': 'sum'}))\n",
    "revenueByUsersB.columns = ['userId', 'revenue']"
   ]
  },
  {
   "cell_type": "code",
   "execution_count": 27,
   "metadata": {},
   "outputs": [
    {
     "data": {
      "image/png": "[encoded data removed]",
      "text/plain": [
       "<Figure size 1152x360 with 2 Axes>"
      ]
     },
     "metadata": {
      "needs_background": "light"
     },
     "output_type": "display_data"
    }
   ],
   "source": [
    "#размер графика\n",
    "plt.figure(figsize=(16, 5))\n",
    "\n",
    "\n",
    "# Строим точечный график количества заказов по пользователям группы А\n",
    "# так как UserId- обычное число ( внашем случае- уникальное),а интересует нас графическое распределение точек по ординате,  то примем этот параметр за абсциссу точечного графика\n",
    "ax1 = plt.subplot(1, 2, 1)\n",
    "plt.xlabel('UserID')\n",
    "plt.ylabel('Стоимость заказов, у.е.')\n",
    "plt.scatter(revenueByUsersA['userId'], revenueByUsersA['revenue']) \n",
    "plt.title('Точечный график стоимости заказов по пользователям группы А') \n",
    "plt.grid()\n",
    "\n",
    "\n",
    "# Строим точечный график количества заказов по пользователям группы B\n",
    "# так как UserId- обычное число ( внашем случае- уникальное),а интересует нас графическое распределение точек по ординате,  то примем этот параметр за абсциссу точечного графика\n",
    "ax2 = plt.subplot(1, 2, 2, sharey=ax1)\n",
    "plt.xlabel('UserID')\n",
    "plt.ylabel('Стоимость заказов, у.е.')\n",
    "\n",
    "plt.scatter(revenueByUsersB['userId'], revenueByUsersB['revenue']) \n",
    "plt.title('Точечный график стоимости заказов по пользователям группы B') \n",
    "plt.grid()\n",
    "\n",
    "plt.tight_layout()\n",
    "plt.show()\n"
   ]
  },
  {
   "cell_type": "markdown",
   "metadata": {},
   "source": [
    "1. Уникальный пользователь с заказом в 1.3 млн у.е. для группы В.\n",
    "2. Основная масса пользователей размещает заказы суммарно до 100 000 у.е."
   ]
  },
  {
   "cell_type": "markdown",
   "metadata": {},
   "source": [
    "Введем ограничение в 100 000 у.е. по верхнему значению стоимости заказов для обеих групп для более детального рассмотрения характера распределения заказов."
   ]
  },
  {
   "cell_type": "code",
   "execution_count": 28,
   "metadata": {},
   "outputs": [
    {
     "data": {
      "image/png": "[encoded data removed]",
      "text/plain": [
       "<Figure size 1152x576 with 2 Axes>"
      ]
     },
     "metadata": {
      "needs_background": "light"
     },
     "output_type": "display_data"
    }
   ],
   "source": [
    "#размер графика\n",
    "plt.figure(figsize=(16, 8))\n",
    "\n",
    "\n",
    "# Строим точечный график количества заказов по пользователям группы А\n",
    "# так как UserId- обычное число ( внашем случае- уникальное),а интересует нас графическое распределение точек по ординате,  то примем этот параметр за абсциссу точечного графика\n",
    "ax1 = plt.subplot(1, 2, 1)\n",
    "plt.xlabel('UserID')\n",
    "plt.ylabel('Стоимость заказов, у.е.')\n",
    "plt.scatter(revenueByUsersA['userId'], revenueByUsersA['revenue']) \n",
    "plt.title('Точечный график стоимости заказов по пользователям группы А (с ограничением)') \n",
    "plt.grid()\n",
    "plt.ylim((None,100000))\n",
    "\n",
    "\n",
    "# Строим точечный график количества заказов по пользователям группы B\n",
    "# так как UserId- обычное число ( внашем случае- уникальное),а интересует нас графическое распределение точек по ординате,  то примем этот параметр за абсциссу точечного графика\n",
    "ax2 = plt.subplot(1, 2, 2, sharey=ax1)\n",
    "plt.xlabel('UserID')\n",
    "plt.ylabel('Стоимость заказов, у.е.')\n",
    "\n",
    "plt.scatter(revenueByUsersB['userId'], revenueByUsersB['revenue']) \n",
    "plt.title('Точечный график стоимости заказов по пользователям группы B (с ограничением)') \n",
    "plt.grid()\n",
    "plt.ylim((None,100000))\n",
    "\n",
    "plt.tight_layout()\n",
    "plt.show()\n"
   ]
  },
  {
   "cell_type": "markdown",
   "metadata": {},
   "source": [
    "Наблюдаем примерно одинаковое распределение заказов по частоте и стоимости заказа как в группе А, так и в В."
   ]
  },
  {
   "cell_type": "markdown",
   "metadata": {},
   "source": [
    " "
   ]
  },
  {
   "cell_type": "markdown",
   "metadata": {},
   "source": [
    "### Расчет 95-го и 99-го перцентиля стоимости заказов на пользователя. Выбор границы для определения аномальных пользователей."
   ]
  },
  {
   "cell_type": "code",
   "execution_count": 29,
   "metadata": {},
   "outputs": [
    {
     "name": "stdout",
     "output_type": "stream",
     "text": [
      "Расчет 95-го и 99-го перцентиля стоимости заказов на пользователя для группы А\n",
      "[32763.1 67173.2]\n",
      "\n",
      "Расчет 95-го и 99-го перцентиля стоимости заказов на пользователя для группы B\n",
      "[30904.75 61616.  ]\n"
     ]
    }
   ],
   "source": [
    "print('Расчет 95-го и 99-го перцентиля стоимости заказов на пользователя для группы А')\n",
    "print(np.percentile(revenueByUsersA['revenue'], [95, 99])) \n",
    "print()\n",
    "print('Расчет 95-го и 99-го перцентиля стоимости заказов на пользователя для группы B')\n",
    "print(np.percentile(revenueByUsersB['revenue'], [95, 99])) "
   ]
  },
  {
   "cell_type": "markdown",
   "metadata": {},
   "source": [
    "1. 95% пользователей размещают заказы на сумму не более 32 763 (A)  и 30904 (B)  у.е.  \n",
    "2. 99% пользователей размещают заказы на сумму не более 67 173 (А) и 61616(В) у.е.\n",
    "3. Учитывая расчет перцентилей и графическое распределение данных, определим границу аномального пользователя - 50 000 у.е."
   ]
  },
  {
   "cell_type": "markdown",
   "metadata": {},
   "source": [
    " "
   ]
  },
  {
   "cell_type": "markdown",
   "metadata": {},
   "source": [
    "### Расчет статистической значимости различий в среднем количестве заказов между группами по «сырым» данным."
   ]
  },
  {
   "cell_type": "markdown",
   "metadata": {},
   "source": [
    "Объявим переменные sampleA и sampleB, в которых пользователям из разных групп будет соответствовать количество заказов. Тем, кто ничего не заказал, будут соответствовать нули. "
   ]
  },
  {
   "cell_type": "markdown",
   "metadata": {},
   "source": [
    " Для проведения теста Уилкоксона-Манна-Уитни сформулируем гипотезы:\n",
    "- Нулевая: различий в среднем количестве заказов между группами нет. \n",
    "- Альтернативная: различия в среднем между группами есть.  \n",
    "\n",
    "Определим уровень значимости в 5%, расчетное p-value округлим до 3 знака после запятой."
   ]
  },
  {
   "cell_type": "code",
   "execution_count": 30,
   "metadata": {},
   "outputs": [
    {
     "name": "stdout",
     "output_type": "stream",
     "text": [
      "Расчет статистической значимости различий в среднем количестве заказов между группами\n",
      "alpha =  0.05\n",
      "Критерий Манна-Уитни:\n",
      "0.017\n",
      "Статистически значимые различия между группами есть\n",
      "\n",
      "Относительное различие между группами В и А:\n",
      "0.138\n"
     ]
    }
   ],
   "source": [
    "\n",
    "sampleA = pd.concat([ordersByUsersA['orders'],pd.Series(0, index=np.arange(data['visitorsPerDateA'].sum() - len(ordersByUsersA['orders'])), name='orders')],axis=0)\n",
    "\n",
    "sampleB = pd.concat([ordersByUsersB['orders'],pd.Series(0, index=np.arange(data['visitorsPerDateB'].sum() - len(ordersByUsersB['orders'])), name='orders')],axis=0)\n",
    "\n",
    "\n",
    "alpha = 0.05\n",
    "pvalue = stats.mannwhitneyu(sampleA, sampleB)[1]\n",
    "\n",
    "print('Расчет статистической значимости различий в среднем количестве заказов между группами')\n",
    "\n",
    "print('alpha = ', alpha)\n",
    "print('Критерий Манна-Уитни:')\n",
    "print(\"{0:.3f}\".format(pvalue))\n",
    "\n",
    "if pvalue < alpha:\n",
    "    print(\"Статистически значимые различия между группами есть\")\n",
    "else:\n",
    "    print(\"Статистически значимых различий между группами нет\")\n",
    "\n",
    "print()\n",
    "print('Относительное различие между группами В и А:')\n",
    "print(\"{0:.3f}\".format(sampleB.mean() / sampleA.mean() - 1))\n"
   ]
  },
  {
   "cell_type": "markdown",
   "metadata": {},
   "source": [
    "1. Статистически значимая разница в среднем количестве заказов между группами с \"сырыми\" данными составляет 13.8%.\n",
    "2. \"Сырые\" данные показывают преимущество группы В по количеству заказов."
   ]
  },
  {
   "cell_type": "markdown",
   "metadata": {},
   "source": [
    " "
   ]
  },
  {
   "cell_type": "markdown",
   "metadata": {},
   "source": [
    "### Расчет статистической значимости различий в среднем чеке заказа между группами по «сырым» данным."
   ]
  },
  {
   "cell_type": "markdown",
   "metadata": {},
   "source": [
    " Для проведения теста Уилкоксона-Манна-Уитни сформулируем гипотезы:\n",
    "- Нулевая: различий в среднем количестве заказов между группами нет. \n",
    "- Альтернативная: различия в среднем между группами есть.  \n",
    "\n",
    "Определим уровень значимости в 5%, расчетное p-value округлим до 3 знака после запятой."
   ]
  },
  {
   "cell_type": "code",
   "execution_count": 31,
   "metadata": {},
   "outputs": [
    {
     "name": "stdout",
     "output_type": "stream",
     "text": [
      "Расчет статистической значимости различий в среднем чеке заказа между группами\n",
      "alpha =  0.05\n",
      "Критерий Манна-Уитни:\n",
      "0.729\n",
      "Статистически значимых различий между группами нет\n",
      "\n",
      "Относительное различие между группами В и А:\n",
      "0.259\n"
     ]
    }
   ],
   "source": [
    "alpha = 0.05\n",
    "pvalue = stats.mannwhitneyu(orders[orders['group']=='A']['revenue'], orders[orders['group']=='B']['revenue'])[1]\n",
    "\n",
    "print('Расчет статистической значимости различий в среднем чеке заказа между группами')\n",
    "\n",
    "print('alpha = ', alpha)\n",
    "print('Критерий Манна-Уитни:')\n",
    "print(\"{0:.3f}\".format(pvalue))\n",
    "\n",
    "if pvalue < alpha:\n",
    "    print(\"Статистически значимые различия между группами есть\")\n",
    "else:\n",
    "    print(\"Статистически значимых различий между группами нет\")\n",
    "\n",
    "print()\n",
    "print('Относительное различие между группами В и А:')\n",
    "print(\"{0:.3f}\".format(orders[orders['group']=='B']['revenue'].mean()/orders[orders['group']=='A']['revenue'].mean()-1))\n"
   ]
  },
  {
   "cell_type": "markdown",
   "metadata": {},
   "source": [
    "1. Не смотря на существенное относительное различие почти в 26%, статистически значимых различий между группами нет. \n",
    "2. Такая значительная разница, учитывая расчет статзначимости, могла оказаться случайностью. \n",
    "3. Но это для \"сырых\" данных с аномалими. "
   ]
  },
  {
   "cell_type": "markdown",
   "metadata": {},
   "source": [
    " "
   ]
  },
  {
   "cell_type": "markdown",
   "metadata": {},
   "source": [
    " "
   ]
  },
  {
   "cell_type": "markdown",
   "metadata": {},
   "source": [
    "### Расчет статистической значимости различий в среднем количестве заказов между группами по «очищенным» данным."
   ]
  },
  {
   "cell_type": "markdown",
   "metadata": {},
   "source": [
    "**Определение аномальных пользователей**"
   ]
  },
  {
   "cell_type": "markdown",
   "metadata": {},
   "source": [
    "Примем за аномальных пользователей тех, кто совершил  более 3 заказов, или разместил заказы на сумму свыше 50 000 у.е.. "
   ]
  },
  {
   "cell_type": "code",
   "execution_count": 32,
   "metadata": {
    "scrolled": true
   },
   "outputs": [
    {
     "name": "stdout",
     "output_type": "stream",
     "text": [
      "Аномальные пользователи\n",
      "1099    148427295\n",
      "18      199603092\n",
      "23      237748145\n",
      "1137    759473111\n",
      "949     887908475\n",
      "dtype: int64\n"
     ]
    }
   ],
   "source": [
    "# введем лимитирующие переменные по аномальным пользователям\n",
    "orders_limit_A = 3\n",
    "orders_limit_B = 3\n",
    "revenue_limit = 50000\n",
    "\n",
    "\n",
    "\n",
    "# определим пользователей, которые размещают много заказов\n",
    "usersWithManyOrders = pd.concat(\n",
    "    [   ordersByUsersA[ordersByUsersA['orders'] > orders_limit_A]['userId'],\n",
    "        ordersByUsersB[ordersByUsersB['orders'] > orders_limit_B]['userId'] ], axis=0, )\n",
    "\n",
    "# определим пользователей, которые размещают дорогие заказы\n",
    "usersWithExpensiveOrders = orders[orders['revenue'] > revenue_limit]['visitorid']\n",
    "\n",
    "# объединим базы аномальных пользователей\n",
    "abnormalUsers = (\n",
    "    pd.concat([usersWithManyOrders, usersWithExpensiveOrders], axis=0)\n",
    "    .drop_duplicates()\n",
    "    .sort_values() )\n",
    "\n",
    "print('Аномальные пользователи')\n",
    "print(abnormalUsers.head())"
   ]
  },
  {
   "cell_type": "markdown",
   "metadata": {},
   "source": [
    "Объявим переменные sampleAFiltered и sampleBFiltered, в которых сохраним очищенные данные о заказах — не включая аномальных пользователей."
   ]
  },
  {
   "cell_type": "code",
   "execution_count": 33,
   "metadata": {},
   "outputs": [],
   "source": [
    "sampleAFiltered = pd.concat([ordersByUsersA[np.logical_not(ordersByUsersA['userId'].isin(abnormalUsers))]['orders'],\n",
    "        pd.Series(0, index=np.arange(data['visitorsPerDateA'].sum() - len(ordersByUsersA['orders'])),name='orders',),],axis=0,)\n",
    "\n",
    "sampleBFiltered = pd.concat([ordersByUsersB[np.logical_not(ordersByUsersB['userId'].isin(abnormalUsers))]['orders'],\n",
    "        pd.Series(0, index=np.arange(data['visitorsPerDateB'].sum() - len(ordersByUsersB['orders'])), name='orders',),],axis=0,)"
   ]
  },
  {
   "cell_type": "markdown",
   "metadata": {},
   "source": [
    " Для проведения теста Уилкоксона-Манна-Уитни сформулируем гипотезы:\n",
    "- Нулевая: различий в среднем количестве заказов между группами нет. \n",
    "- Альтернативная: различия в среднем между группами есть.  \n",
    "\n",
    "Определим уровень значимости в 5%, расчетное p-value округлим до 3 знака после запятой."
   ]
  },
  {
   "cell_type": "code",
   "execution_count": 34,
   "metadata": {},
   "outputs": [
    {
     "name": "stdout",
     "output_type": "stream",
     "text": [
      "Расчет статистической значимости различий в среднем количестве заказов между группами\n",
      "alpha =  0.05\n",
      "Критерий Манна-Уитни:\n",
      "0.011\n",
      "Статистически значимые различия между группами есть\n",
      "\n",
      "Относительное различие между группами В и А:\n",
      "0.158\n"
     ]
    }
   ],
   "source": [
    "alpha = 0.05\n",
    "pvalue = stats.mannwhitneyu(sampleAFiltered, sampleBFiltered)[1]\n",
    "\n",
    "print('Расчет статистической значимости различий в среднем количестве заказов между группами')\n",
    "\n",
    "print('alpha = ', alpha)\n",
    "print('Критерий Манна-Уитни:')\n",
    "print(\"{0:.3f}\".format(pvalue))\n",
    "\n",
    "if pvalue < alpha:\n",
    "    print(\"Статистически значимые различия между группами есть\")\n",
    "else:\n",
    "    print(\"Статистически значимых различий между группами нет\")\n",
    "\n",
    "print()\n",
    "print('Относительное различие между группами В и А:')\n",
    "print(\"{0:.3f}\".format(sampleBFiltered.mean() / sampleAFiltered.mean() - 1))"
   ]
  },
  {
   "cell_type": "markdown",
   "metadata": {},
   "source": [
    "1. Статистически значимое различие между группами по \"очищенным\" данным увеличилось до 15.8 %. \n",
    "2. Пользователи группы В действительно размещают больше заказов, чем контрольная группа."
   ]
  },
  {
   "cell_type": "markdown",
   "metadata": {},
   "source": [
    " "
   ]
  },
  {
   "cell_type": "markdown",
   "metadata": {},
   "source": [
    "### Расчет статистической значимости различий в среднем чеке заказа между группами по «очищенным» данным."
   ]
  },
  {
   "cell_type": "markdown",
   "metadata": {},
   "source": [
    " Для проведения теста Уилкоксона-Манна-Уитни сформулируем гипотезы:\n",
    "- Нулевая: различий в среднем количестве заказов между группами нет. \n",
    "- Альтернативная: различия в среднем между группами есть.  \n",
    "\n",
    "Определим уровень значимости в 5%, расчетное p-value округлим до 3 знака после запятой."
   ]
  },
  {
   "cell_type": "code",
   "execution_count": 35,
   "metadata": {},
   "outputs": [
    {
     "name": "stdout",
     "output_type": "stream",
     "text": [
      "Расчет статистической значимости различий в среднем чеке заказа между группами (очищенные данные)\n",
      "alpha =  0.05\n",
      "Критерий Манна-Уитни:\n",
      "0.819\n",
      "Статистически значимых различий между группами нет\n",
      "\n",
      "Относительное различие между группами В и А:\n",
      "0.024\n"
     ]
    }
   ],
   "source": [
    "alpha = 0.05\n",
    "pvalue = stats.mannwhitneyu(\n",
    "                orders[np.logical_and(orders['group'] == 'A',np.logical_not(orders['visitorid'].isin(abnormalUsers)),)]['revenue'], \n",
    "                orders[np.logical_and(orders['group'] == 'B',np.logical_not(orders['visitorid'].isin(abnormalUsers)),)]['revenue'])[1]\n",
    "\n",
    "print('Расчет статистической значимости различий в среднем чеке заказа между группами (очищенные данные)')\n",
    "\n",
    "print('alpha = ', alpha)\n",
    "print('Критерий Манна-Уитни:')\n",
    "print(\"{0:.3f}\".format(pvalue))\n",
    "\n",
    "if pvalue < alpha:\n",
    "    print(\"Статистически значимые различия между группами есть\")\n",
    "else:\n",
    "    print(\"Статистически значимых различий между группами нет\")\n",
    "\n",
    "print()\n",
    "print('Относительное различие между группами В и А:')\n",
    "print(\"{0:.3f}\".format(orders[np.logical_and(orders['group'] == 'B',np.logical_not(orders['visitorid'].isin(abnormalUsers)),)]['revenue'].mean()/orders[np.logical_and(orders['group'] == 'A',np.logical_not(orders['visitorid'].isin(abnormalUsers)),)]['revenue'].mean()-1))\n"
   ]
  },
  {
   "cell_type": "markdown",
   "metadata": {},
   "source": [
    "1. Для очищенных данных относительное различие уменьшилось до  2,4%, статистически значимых различий между группами нет.  \n",
    "2. Группа В генерирует средние чеки такие же, как группа А. "
   ]
  },
  {
   "cell_type": "markdown",
   "metadata": {},
   "source": [
    " "
   ]
  },
  {
   "cell_type": "markdown",
   "metadata": {},
   "source": [
    "###  Решение по результатам теста"
   ]
  },
  {
   "cell_type": "markdown",
   "metadata": {},
   "source": [
    "**\"Сырые\" данные**\n",
    "\n",
    "**Графичесий анализ**\n",
    "\n",
    "1. Кумулятивная средняя выручка группы В выше А.\n",
    "2. Кумулятивный средний чек группы В выше А, но не стабильно и, если отбросить аномальный заказ, то период превышения группы В относительно А уменьшится.\n",
    "3. Относительное изменение кумулятивного среднего чека для группы В выше А тоже не стабильно высокое. Есть периоды доминиирования группы А. А также картину превосходства гр. В  изменит учет аномально дорогого заказа.\n",
    "4. Кумулятивное среднее количество заказов по группе В выше, чем А.\n",
    "5. Относительное изменение среднего количества заказов  группы В выше А.\n",
    "\n",
    "\n",
    "**Статистический анализ**\n",
    "\n",
    "1. Количество заказов. Наблюдается статистически значимая разница  13,8 %. В группе В заказов больше, чем в А.\n",
    "2. Средний чек. Расчетное превышение группы В в 25,9% не является статистически значимым, такое превышение могло оказаться случайно (что подтверждается очищением данных от аномальных записей)\n",
    "\n",
    "\n",
    "**\"Очищенные\" данные.  Статистический анализ**\n",
    "\n",
    "1. Количество заказов. Наблюдается статистически значимая разница в  15,8 %.  В группе В заказов больше, чем в А даже с учетом отсеивания аномальных заказов.\n",
    "2. Средний чек. Расчетное превышение группы В в 2.4 % не является статистически значимым. Удаление аномальных пользователей вернуло проецент превышения в адекватный диапазон (при отсутстствии стат.значимости различий).\n",
    "\n",
    "\n",
    "\n",
    "**Вывод по результатам теста**\n",
    "\n",
    "1. Графический и статистический анализ сырых и очищенных данных показывает положительное отличие группы В от контрольной А.  \n",
    "2. Группа В генерирует больше заказов при примерно одинаковом среднем чеке.\n",
    "3. Как следствие- выручка группы В выше, чем у контрольной А.\n",
    "4. Учитывая данные, имеет смысл остановить тест. \n",
    "5. Признать эксперимент по группе В успешным или нет- зависит от изначальной поставновки гипотезы: если гипотеза предполагала увеличение выручки или количества заказов, то эксперимент успешен. Если гипотеза предполагала увеличение среднего чека, то по результатам эксперимента статистически значимых изменений не зафиксировано.\n",
    "6. Так как в целом группа В приносит больше выручки и заказов, то наблюдается положительный эффект при проведении А/В теста, поэтому его можно остановить и зафиксировать победу группы В.\n"
   ]
  }
 ],
 "metadata": {
  "ExecuteTimeLog": [
   {
    "duration": 913,
    "start_time": "2022-10-20T05:40:14.822Z"
   },
   {
    "duration": 3,
    "start_time": "2022-10-20T05:42:22.639Z"
   },
   {
    "duration": 3,
    "start_time": "2022-10-20T05:42:29.193Z"
   },
   {
    "duration": 2,
    "start_time": "2022-10-20T05:49:37.181Z"
   },
   {
    "duration": 6,
    "start_time": "2022-10-20T06:07:30.462Z"
   },
   {
    "duration": 927,
    "start_time": "2022-10-20T06:08:28.621Z"
   },
   {
    "duration": 256,
    "start_time": "2022-10-20T06:08:31.476Z"
   },
   {
    "duration": 4,
    "start_time": "2022-10-20T06:08:34.117Z"
   },
   {
    "duration": 1129,
    "start_time": "2022-10-20T06:08:37.134Z"
   },
   {
    "duration": 5,
    "start_time": "2022-10-20T06:09:17.445Z"
   },
   {
    "duration": 1028,
    "start_time": "2022-10-20T06:09:19.704Z"
   },
   {
    "duration": 7,
    "start_time": "2022-10-20T06:10:00.084Z"
   },
   {
    "duration": 4,
    "start_time": "2022-10-20T06:10:40.246Z"
   },
   {
    "duration": 1086,
    "start_time": "2022-10-20T06:10:42.367Z"
   },
   {
    "duration": 5,
    "start_time": "2022-10-20T06:11:22.561Z"
   },
   {
    "duration": 949,
    "start_time": "2022-10-20T06:11:25.864Z"
   },
   {
    "duration": 4,
    "start_time": "2022-10-20T06:12:43.845Z"
   },
   {
    "duration": 989,
    "start_time": "2022-10-20T06:12:46.317Z"
   },
   {
    "duration": 6,
    "start_time": "2022-10-20T06:14:15.170Z"
   },
   {
    "duration": 954,
    "start_time": "2022-10-20T06:14:19.876Z"
   },
   {
    "duration": 886,
    "start_time": "2022-10-20T06:15:49.414Z"
   },
   {
    "duration": 354,
    "start_time": "2022-10-20T06:17:37.339Z"
   },
   {
    "duration": 74,
    "start_time": "2022-10-20T06:22:35.057Z"
   },
   {
    "duration": 5,
    "start_time": "2022-10-20T06:32:51.229Z"
   },
   {
    "duration": 865,
    "start_time": "2022-10-20T06:32:53.712Z"
   },
   {
    "duration": 8,
    "start_time": "2022-10-20T06:33:19.386Z"
   },
   {
    "duration": 977,
    "start_time": "2022-10-20T06:33:21.892Z"
   },
   {
    "duration": 865,
    "start_time": "2022-10-20T06:33:28.641Z"
   },
   {
    "duration": 307,
    "start_time": "2022-10-20T06:33:34.711Z"
   },
   {
    "duration": 467,
    "start_time": "2022-10-20T06:41:45.044Z"
   },
   {
    "duration": 6,
    "start_time": "2022-10-20T06:45:05.714Z"
   },
   {
    "duration": 522,
    "start_time": "2022-10-20T06:45:08.530Z"
   },
   {
    "duration": 182,
    "start_time": "2022-10-20T06:45:19.055Z"
   },
   {
    "duration": 1299,
    "start_time": "2022-10-20T06:49:00.676Z"
   },
   {
    "duration": 574,
    "start_time": "2022-10-20T06:49:40.006Z"
   },
   {
    "duration": 1055,
    "start_time": "2022-10-20T06:50:37.531Z"
   },
   {
    "duration": 9,
    "start_time": "2022-10-20T06:51:12.805Z"
   },
   {
    "duration": 10,
    "start_time": "2022-10-20T06:51:41.267Z"
   },
   {
    "duration": 5,
    "start_time": "2022-10-20T06:53:05.031Z"
   },
   {
    "duration": 6,
    "start_time": "2022-10-20T06:54:32.678Z"
   },
   {
    "duration": 6,
    "start_time": "2022-10-20T06:54:37.416Z"
   },
   {
    "duration": 6,
    "start_time": "2022-10-20T06:55:25.077Z"
   },
   {
    "duration": 78,
    "start_time": "2022-10-20T06:56:42.864Z"
   },
   {
    "duration": 6,
    "start_time": "2022-10-20T07:01:03.347Z"
   },
   {
    "duration": 7,
    "start_time": "2022-10-20T07:01:21.206Z"
   },
   {
    "duration": 8,
    "start_time": "2022-10-20T07:03:13.406Z"
   },
   {
    "duration": 9,
    "start_time": "2022-10-20T07:03:24.822Z"
   },
   {
    "duration": 9,
    "start_time": "2022-10-20T07:03:56.314Z"
   },
   {
    "duration": 14,
    "start_time": "2022-10-20T07:04:19.945Z"
   },
   {
    "duration": 97,
    "start_time": "2022-10-20T07:07:12.061Z"
   },
   {
    "duration": 3,
    "start_time": "2022-10-20T07:08:03.210Z"
   },
   {
    "duration": 99,
    "start_time": "2022-10-20T07:08:10.147Z"
   },
   {
    "duration": 88,
    "start_time": "2022-10-20T07:08:26.632Z"
   },
   {
    "duration": 294,
    "start_time": "2022-10-20T07:08:36.102Z"
   },
   {
    "duration": 76,
    "start_time": "2022-10-20T07:09:14.417Z"
   },
   {
    "duration": 6,
    "start_time": "2022-10-20T07:09:16.137Z"
   },
   {
    "duration": 482,
    "start_time": "2022-10-20T07:09:17.683Z"
   },
   {
    "duration": 364,
    "start_time": "2022-10-20T07:09:22.107Z"
   },
   {
    "duration": 185,
    "start_time": "2022-10-20T07:09:25.956Z"
   },
   {
    "duration": 15,
    "start_time": "2022-10-20T07:09:30.273Z"
   },
   {
    "duration": 5,
    "start_time": "2022-10-20T07:09:31.965Z"
   },
   {
    "duration": 4,
    "start_time": "2022-10-20T07:09:49.210Z"
   },
   {
    "duration": 4,
    "start_time": "2022-10-20T07:09:50.622Z"
   },
   {
    "duration": 11,
    "start_time": "2022-10-20T07:10:00.007Z"
   },
   {
    "duration": 14,
    "start_time": "2022-10-20T07:25:44.839Z"
   },
   {
    "duration": 11,
    "start_time": "2022-10-20T07:26:09.849Z"
   },
   {
    "duration": 10,
    "start_time": "2022-10-20T07:26:49.091Z"
   },
   {
    "duration": 13,
    "start_time": "2022-10-20T07:27:48.837Z"
   },
   {
    "duration": 69,
    "start_time": "2022-10-20T07:30:21.044Z"
   },
   {
    "duration": 6,
    "start_time": "2022-10-20T07:40:21.388Z"
   },
   {
    "duration": 6,
    "start_time": "2022-10-20T07:42:20.033Z"
   },
   {
    "duration": 4,
    "start_time": "2022-10-20T07:42:39.632Z"
   },
   {
    "duration": 5,
    "start_time": "2022-10-20T07:42:55.275Z"
   },
   {
    "duration": 6,
    "start_time": "2022-10-20T07:43:22.764Z"
   },
   {
    "duration": 5,
    "start_time": "2022-10-20T07:43:53.756Z"
   },
   {
    "duration": 4,
    "start_time": "2022-10-20T07:44:28.886Z"
   },
   {
    "duration": 15,
    "start_time": "2022-10-20T07:47:24.408Z"
   },
   {
    "duration": 5,
    "start_time": "2022-10-20T07:48:59.140Z"
   },
   {
    "duration": 5,
    "start_time": "2022-10-20T07:51:24.867Z"
   },
   {
    "duration": 5,
    "start_time": "2022-10-20T07:52:11.358Z"
   },
   {
    "duration": 4,
    "start_time": "2022-10-20T08:06:52.276Z"
   },
   {
    "duration": 5,
    "start_time": "2022-10-20T08:07:05.439Z"
   },
   {
    "duration": 173,
    "start_time": "2022-10-20T09:08:01.931Z"
   },
   {
    "duration": 108,
    "start_time": "2022-10-20T09:10:04.446Z"
   },
   {
    "duration": 224,
    "start_time": "2022-10-20T09:10:45.229Z"
   },
   {
    "duration": 241,
    "start_time": "2022-10-20T09:11:05.632Z"
   },
   {
    "duration": 79,
    "start_time": "2022-10-20T09:16:08.875Z"
   },
   {
    "duration": 284,
    "start_time": "2022-10-20T09:22:59.119Z"
   },
   {
    "duration": 357,
    "start_time": "2022-10-20T09:23:46.000Z"
   },
   {
    "duration": 230,
    "start_time": "2022-10-20T09:25:23.409Z"
   },
   {
    "duration": 206,
    "start_time": "2022-10-20T09:25:49.355Z"
   },
   {
    "duration": 209,
    "start_time": "2022-10-20T09:26:12.389Z"
   },
   {
    "duration": 234,
    "start_time": "2022-10-20T09:26:30.913Z"
   },
   {
    "duration": 13,
    "start_time": "2022-10-20T09:29:24.460Z"
   },
   {
    "duration": 272,
    "start_time": "2022-10-20T09:29:35.079Z"
   },
   {
    "duration": 246,
    "start_time": "2022-10-20T09:29:44.214Z"
   },
   {
    "duration": 332,
    "start_time": "2022-10-20T09:29:51.854Z"
   },
   {
    "duration": 247,
    "start_time": "2022-10-20T09:29:59.241Z"
   },
   {
    "duration": 233,
    "start_time": "2022-10-20T09:30:05.867Z"
   },
   {
    "duration": 185,
    "start_time": "2022-10-20T09:31:06.550Z"
   },
   {
    "duration": 324,
    "start_time": "2022-10-20T09:31:10.335Z"
   },
   {
    "duration": 247,
    "start_time": "2022-10-20T09:33:44.267Z"
   },
   {
    "duration": 282,
    "start_time": "2022-10-20T09:41:17.504Z"
   },
   {
    "duration": 54,
    "start_time": "2022-10-20T11:35:02.465Z"
   },
   {
    "duration": 1148,
    "start_time": "2022-10-20T11:35:13.584Z"
   },
   {
    "duration": 236,
    "start_time": "2022-10-20T11:35:14.734Z"
   },
   {
    "duration": 4,
    "start_time": "2022-10-20T11:35:14.972Z"
   },
   {
    "duration": 379,
    "start_time": "2022-10-20T11:35:14.978Z"
   },
   {
    "duration": 331,
    "start_time": "2022-10-20T11:35:15.359Z"
   },
   {
    "duration": 173,
    "start_time": "2022-10-20T11:35:15.692Z"
   },
   {
    "duration": 15,
    "start_time": "2022-10-20T11:35:15.867Z"
   },
   {
    "duration": 15,
    "start_time": "2022-10-20T11:35:15.884Z"
   },
   {
    "duration": 12,
    "start_time": "2022-10-20T11:35:15.901Z"
   },
   {
    "duration": 9,
    "start_time": "2022-10-20T11:35:15.922Z"
   },
   {
    "duration": 17,
    "start_time": "2022-10-20T11:35:15.933Z"
   },
   {
    "duration": 4,
    "start_time": "2022-10-20T11:35:15.952Z"
   },
   {
    "duration": 13,
    "start_time": "2022-10-20T11:35:15.958Z"
   },
   {
    "duration": 11,
    "start_time": "2022-10-20T11:35:15.973Z"
   },
   {
    "duration": 218,
    "start_time": "2022-10-20T11:35:17.652Z"
   },
   {
    "duration": 232,
    "start_time": "2022-10-20T11:35:32.692Z"
   },
   {
    "duration": 251,
    "start_time": "2022-10-20T11:41:44.776Z"
   },
   {
    "duration": 414,
    "start_time": "2022-10-20T11:49:41.819Z"
   },
   {
    "duration": 263,
    "start_time": "2022-10-20T11:49:49.385Z"
   },
   {
    "duration": 300,
    "start_time": "2022-10-20T11:50:14.213Z"
   },
   {
    "duration": 3,
    "start_time": "2022-10-20T11:54:09.239Z"
   },
   {
    "duration": 3,
    "start_time": "2022-10-20T11:54:38.633Z"
   },
   {
    "duration": 300,
    "start_time": "2022-10-20T12:04:09.707Z"
   },
   {
    "duration": 305,
    "start_time": "2022-10-20T12:05:13.366Z"
   },
   {
    "duration": 294,
    "start_time": "2022-10-20T12:05:18.501Z"
   },
   {
    "duration": 270,
    "start_time": "2022-10-20T12:05:26.691Z"
   },
   {
    "duration": 270,
    "start_time": "2022-10-20T12:05:51.854Z"
   },
   {
    "duration": 284,
    "start_time": "2022-10-20T12:05:54.553Z"
   },
   {
    "duration": 188,
    "start_time": "2022-10-20T12:11:08.190Z"
   },
   {
    "duration": 186,
    "start_time": "2022-10-20T12:11:18.195Z"
   },
   {
    "duration": 284,
    "start_time": "2022-10-20T12:12:58.257Z"
   },
   {
    "duration": 13,
    "start_time": "2022-10-20T12:13:41.916Z"
   },
   {
    "duration": 195,
    "start_time": "2022-10-20T12:14:18.115Z"
   },
   {
    "duration": 199,
    "start_time": "2022-10-20T12:14:25.372Z"
   },
   {
    "duration": 303,
    "start_time": "2022-10-20T12:14:43.706Z"
   },
   {
    "duration": 181,
    "start_time": "2022-10-20T12:15:02.637Z"
   },
   {
    "duration": 196,
    "start_time": "2022-10-20T12:15:07.166Z"
   },
   {
    "duration": 320,
    "start_time": "2022-10-20T12:18:41.621Z"
   },
   {
    "duration": 3,
    "start_time": "2022-10-20T12:36:31.838Z"
   },
   {
    "duration": 5,
    "start_time": "2022-10-20T13:12:49.007Z"
   },
   {
    "duration": 134,
    "start_time": "2022-10-20T13:13:42.750Z"
   },
   {
    "duration": 155,
    "start_time": "2022-10-20T13:16:13.292Z"
   },
   {
    "duration": 103,
    "start_time": "2022-10-20T13:19:44.994Z"
   },
   {
    "duration": 3,
    "start_time": "2022-10-20T13:20:14.910Z"
   },
   {
    "duration": 4,
    "start_time": "2022-10-20T13:21:33.960Z"
   },
   {
    "duration": 70,
    "start_time": "2022-10-20T13:23:57.911Z"
   },
   {
    "duration": 7,
    "start_time": "2022-10-20T13:28:08.992Z"
   },
   {
    "duration": 164,
    "start_time": "2022-10-20T13:28:31.633Z"
   },
   {
    "duration": 4,
    "start_time": "2022-10-20T13:30:45.191Z"
   },
   {
    "duration": 128,
    "start_time": "2022-10-20T13:32:06.589Z"
   },
   {
    "duration": 194,
    "start_time": "2022-10-20T13:32:15.758Z"
   },
   {
    "duration": 5,
    "start_time": "2022-10-20T13:44:21.191Z"
   },
   {
    "duration": 5,
    "start_time": "2022-10-20T13:44:26.025Z"
   },
   {
    "duration": 4,
    "start_time": "2022-10-20T13:44:29.964Z"
   },
   {
    "duration": 11,
    "start_time": "2022-10-20T14:09:05.008Z"
   },
   {
    "duration": 125,
    "start_time": "2022-10-20T14:11:01.567Z"
   },
   {
    "duration": 125,
    "start_time": "2022-10-20T14:11:27.143Z"
   },
   {
    "duration": 138,
    "start_time": "2022-10-20T14:11:45.484Z"
   },
   {
    "duration": 141,
    "start_time": "2022-10-20T14:11:55.864Z"
   },
   {
    "duration": 10,
    "start_time": "2022-10-20T14:12:12.185Z"
   },
   {
    "duration": 141,
    "start_time": "2022-10-20T14:12:20.476Z"
   },
   {
    "duration": 123,
    "start_time": "2022-10-20T14:12:28.866Z"
   },
   {
    "duration": 145,
    "start_time": "2022-10-20T14:12:56.839Z"
   },
   {
    "duration": 380,
    "start_time": "2022-10-20T14:16:37.459Z"
   },
   {
    "duration": 355,
    "start_time": "2022-10-20T14:17:02.642Z"
   },
   {
    "duration": 374,
    "start_time": "2022-10-20T14:17:11.075Z"
   },
   {
    "duration": 435,
    "start_time": "2022-10-20T14:19:03.171Z"
   },
   {
    "duration": 400,
    "start_time": "2022-10-20T14:19:18.856Z"
   },
   {
    "duration": 12,
    "start_time": "2022-10-20T14:25:23.575Z"
   },
   {
    "duration": 381,
    "start_time": "2022-10-20T14:25:25.677Z"
   },
   {
    "duration": 5,
    "start_time": "2022-10-20T14:26:25.365Z"
   },
   {
    "duration": 5,
    "start_time": "2022-10-20T14:27:24.944Z"
   },
   {
    "duration": 6,
    "start_time": "2022-10-20T14:27:35.020Z"
   },
   {
    "duration": 5,
    "start_time": "2022-10-20T14:30:35.496Z"
   },
   {
    "duration": 5,
    "start_time": "2022-10-20T14:33:33.801Z"
   },
   {
    "duration": 24,
    "start_time": "2022-10-20T14:39:22.373Z"
   },
   {
    "duration": 138,
    "start_time": "2022-10-20T14:46:02.224Z"
   },
   {
    "duration": 24,
    "start_time": "2022-10-20T14:46:11.080Z"
   },
   {
    "duration": 26,
    "start_time": "2022-10-20T14:47:57.823Z"
   },
   {
    "duration": 27,
    "start_time": "2022-10-20T14:48:24.548Z"
   },
   {
    "duration": 31,
    "start_time": "2022-10-20T14:48:36.236Z"
   },
   {
    "duration": 15,
    "start_time": "2022-10-20T14:58:46.522Z"
   },
   {
    "duration": 10,
    "start_time": "2022-10-20T14:58:54.948Z"
   },
   {
    "duration": 1392,
    "start_time": "2022-10-20T15:10:11.723Z"
   },
   {
    "duration": 1365,
    "start_time": "2022-10-20T15:10:33.365Z"
   },
   {
    "duration": 1205,
    "start_time": "2022-10-20T15:11:07.464Z"
   },
   {
    "duration": 1863,
    "start_time": "2022-10-20T15:11:58.679Z"
   },
   {
    "duration": 7,
    "start_time": "2022-10-20T15:12:10.203Z"
   },
   {
    "duration": 9,
    "start_time": "2022-10-20T15:12:24.221Z"
   },
   {
    "duration": 7,
    "start_time": "2022-10-20T15:15:04.753Z"
   },
   {
    "duration": 76,
    "start_time": "2022-10-20T15:16:14.346Z"
   },
   {
    "duration": 9,
    "start_time": "2022-10-20T15:17:41.073Z"
   },
   {
    "duration": 25,
    "start_time": "2022-10-20T15:18:19.108Z"
   },
   {
    "duration": 9,
    "start_time": "2022-10-20T15:21:41.678Z"
   },
   {
    "duration": 8,
    "start_time": "2022-10-20T15:22:43.555Z"
   },
   {
    "duration": 8,
    "start_time": "2022-10-20T15:22:49.709Z"
   },
   {
    "duration": 29,
    "start_time": "2022-10-20T15:22:52.063Z"
   },
   {
    "duration": 1088,
    "start_time": "2022-10-20T15:30:26.189Z"
   },
   {
    "duration": 15,
    "start_time": "2022-10-20T15:31:27.305Z"
   },
   {
    "duration": 14,
    "start_time": "2022-10-20T15:31:44.091Z"
   },
   {
    "duration": 132,
    "start_time": "2022-10-20T15:36:10.742Z"
   },
   {
    "duration": 58,
    "start_time": "2022-10-21T06:05:26.452Z"
   },
   {
    "duration": 1234,
    "start_time": "2022-10-21T06:05:40.124Z"
   },
   {
    "duration": 232,
    "start_time": "2022-10-21T06:05:41.360Z"
   },
   {
    "duration": 5,
    "start_time": "2022-10-21T06:05:41.593Z"
   },
   {
    "duration": 459,
    "start_time": "2022-10-21T06:05:41.600Z"
   },
   {
    "duration": 377,
    "start_time": "2022-10-21T06:05:42.061Z"
   },
   {
    "duration": 204,
    "start_time": "2022-10-21T06:05:42.440Z"
   },
   {
    "duration": 14,
    "start_time": "2022-10-21T06:05:42.647Z"
   },
   {
    "duration": 11,
    "start_time": "2022-10-21T06:05:42.663Z"
   },
   {
    "duration": 5,
    "start_time": "2022-10-21T06:05:42.697Z"
   },
   {
    "duration": 10,
    "start_time": "2022-10-21T06:05:42.703Z"
   },
   {
    "duration": 16,
    "start_time": "2022-10-21T06:05:42.715Z"
   },
   {
    "duration": 4,
    "start_time": "2022-10-21T06:05:42.733Z"
   },
   {
    "duration": 18,
    "start_time": "2022-10-21T06:05:42.738Z"
   },
   {
    "duration": 4,
    "start_time": "2022-10-21T06:05:42.759Z"
   },
   {
    "duration": 274,
    "start_time": "2022-10-21T06:05:42.765Z"
   },
   {
    "duration": 306,
    "start_time": "2022-10-21T06:05:43.041Z"
   },
   {
    "duration": 228,
    "start_time": "2022-10-21T06:05:43.349Z"
   },
   {
    "duration": 373,
    "start_time": "2022-10-21T06:05:43.579Z"
   },
   {
    "duration": 318,
    "start_time": "2022-10-21T06:05:43.954Z"
   },
   {
    "duration": 357,
    "start_time": "2022-10-21T06:05:44.274Z"
   },
   {
    "duration": 13,
    "start_time": "2022-10-21T06:05:44.633Z"
   },
   {
    "duration": 424,
    "start_time": "2022-10-21T06:05:44.647Z"
   },
   {
    "duration": 5,
    "start_time": "2022-10-21T06:05:45.073Z"
   },
   {
    "duration": 26,
    "start_time": "2022-10-21T06:05:45.080Z"
   },
   {
    "duration": 397,
    "start_time": "2022-10-21T06:05:45.107Z"
   },
   {
    "duration": 7,
    "start_time": "2022-10-21T06:05:45.506Z"
   },
   {
    "duration": 32,
    "start_time": "2022-10-21T06:05:45.515Z"
   },
   {
    "duration": 15,
    "start_time": "2022-10-21T06:05:45.549Z"
   },
   {
    "duration": 38,
    "start_time": "2022-10-21T06:05:45.567Z"
   },
   {
    "duration": 11,
    "start_time": "2022-10-21T06:05:45.607Z"
   },
   {
    "duration": 32,
    "start_time": "2022-10-21T06:05:45.620Z"
   },
   {
    "duration": 15,
    "start_time": "2022-10-21T06:05:45.654Z"
   },
   {
    "duration": 12,
    "start_time": "2022-10-21T06:09:46.765Z"
   },
   {
    "duration": 1170,
    "start_time": "2022-10-21T14:52:17.925Z"
   },
   {
    "duration": 110,
    "start_time": "2022-10-21T14:52:19.097Z"
   },
   {
    "duration": 5,
    "start_time": "2022-10-21T14:52:19.209Z"
   },
   {
    "duration": 453,
    "start_time": "2022-10-21T14:52:19.216Z"
   },
   {
    "duration": 411,
    "start_time": "2022-10-21T14:52:19.671Z"
   },
   {
    "duration": 211,
    "start_time": "2022-10-21T14:52:20.084Z"
   },
   {
    "duration": 15,
    "start_time": "2022-10-21T14:52:20.297Z"
   },
   {
    "duration": 12,
    "start_time": "2022-10-21T14:52:20.314Z"
   },
   {
    "duration": 31,
    "start_time": "2022-10-21T14:52:20.328Z"
   },
   {
    "duration": 16,
    "start_time": "2022-10-21T14:52:20.363Z"
   },
   {
    "duration": 22,
    "start_time": "2022-10-21T14:52:20.381Z"
   },
   {
    "duration": 4,
    "start_time": "2022-10-21T14:52:20.405Z"
   },
   {
    "duration": 20,
    "start_time": "2022-10-21T14:52:20.411Z"
   },
   {
    "duration": 15,
    "start_time": "2022-10-21T14:52:20.432Z"
   },
   {
    "duration": 285,
    "start_time": "2022-10-21T14:52:20.455Z"
   },
   {
    "duration": 330,
    "start_time": "2022-10-21T14:52:20.743Z"
   },
   {
    "duration": 246,
    "start_time": "2022-10-21T14:52:21.075Z"
   },
   {
    "duration": 503,
    "start_time": "2022-10-21T14:52:21.323Z"
   },
   {
    "duration": 245,
    "start_time": "2022-10-21T14:52:21.828Z"
   },
   {
    "duration": 346,
    "start_time": "2022-10-21T14:52:22.075Z"
   },
   {
    "duration": 31,
    "start_time": "2022-10-21T14:52:22.423Z"
   },
   {
    "duration": 408,
    "start_time": "2022-10-21T14:52:22.457Z"
   },
   {
    "duration": 6,
    "start_time": "2022-10-21T14:52:22.867Z"
   },
   {
    "duration": 20,
    "start_time": "2022-10-21T14:52:22.875Z"
   },
   {
    "duration": 457,
    "start_time": "2022-10-21T14:52:22.897Z"
   },
   {
    "duration": 6,
    "start_time": "2022-10-21T14:52:23.356Z"
   },
   {
    "duration": 33,
    "start_time": "2022-10-21T14:52:23.364Z"
   },
   {
    "duration": 13,
    "start_time": "2022-10-21T14:52:23.400Z"
   },
   {
    "duration": 45,
    "start_time": "2022-10-21T14:52:23.416Z"
   },
   {
    "duration": 14,
    "start_time": "2022-10-21T14:52:23.463Z"
   },
   {
    "duration": 34,
    "start_time": "2022-10-21T14:52:23.479Z"
   },
   {
    "duration": 22,
    "start_time": "2022-10-21T14:52:23.516Z"
   },
   {
    "duration": 236,
    "start_time": "2022-10-21T15:22:28.096Z"
   },
   {
    "duration": 84,
    "start_time": "2022-10-22T12:24:59.621Z"
   },
   {
    "duration": 45,
    "start_time": "2022-10-22T12:26:03.757Z"
   },
   {
    "duration": 6,
    "start_time": "2022-10-22T12:26:07.462Z"
   },
   {
    "duration": 1243,
    "start_time": "2022-10-22T12:26:16.206Z"
   },
   {
    "duration": 131,
    "start_time": "2022-10-22T12:26:17.451Z"
   },
   {
    "duration": 5,
    "start_time": "2022-10-22T12:26:17.583Z"
   },
   {
    "duration": 446,
    "start_time": "2022-10-22T12:26:17.590Z"
   },
   {
    "duration": 351,
    "start_time": "2022-10-22T12:26:18.038Z"
   },
   {
    "duration": 195,
    "start_time": "2022-10-22T12:26:18.391Z"
   },
   {
    "duration": 13,
    "start_time": "2022-10-22T12:26:18.588Z"
   },
   {
    "duration": 12,
    "start_time": "2022-10-22T12:26:18.611Z"
   },
   {
    "duration": 5,
    "start_time": "2022-10-22T12:26:18.625Z"
   },
   {
    "duration": 10,
    "start_time": "2022-10-22T12:26:18.632Z"
   },
   {
    "duration": 7,
    "start_time": "2022-10-22T12:26:22.898Z"
   },
   {
    "duration": 6,
    "start_time": "2022-10-22T12:26:32.875Z"
   },
   {
    "duration": 11,
    "start_time": "2022-10-22T12:26:38.922Z"
   },
   {
    "duration": 21,
    "start_time": "2022-10-22T12:26:48.287Z"
   },
   {
    "duration": 12,
    "start_time": "2022-10-22T12:27:59.181Z"
   },
   {
    "duration": 66,
    "start_time": "2022-10-22T12:42:26.974Z"
   },
   {
    "duration": 3,
    "start_time": "2022-10-22T12:42:35.454Z"
   },
   {
    "duration": 42,
    "start_time": "2022-10-22T12:42:35.459Z"
   },
   {
    "duration": 4,
    "start_time": "2022-10-22T12:42:35.503Z"
   },
   {
    "duration": 383,
    "start_time": "2022-10-22T12:42:35.509Z"
   },
   {
    "duration": 398,
    "start_time": "2022-10-22T12:42:35.894Z"
   },
   {
    "duration": 174,
    "start_time": "2022-10-22T12:42:36.294Z"
   },
   {
    "duration": 13,
    "start_time": "2022-10-22T12:42:36.470Z"
   },
   {
    "duration": 24,
    "start_time": "2022-10-22T12:42:36.485Z"
   },
   {
    "duration": 8,
    "start_time": "2022-10-22T12:42:36.510Z"
   },
   {
    "duration": 14,
    "start_time": "2022-10-22T12:42:36.520Z"
   },
   {
    "duration": 31,
    "start_time": "2022-10-22T12:42:36.536Z"
   },
   {
    "duration": 6,
    "start_time": "2022-10-22T12:42:36.568Z"
   },
   {
    "duration": 16,
    "start_time": "2022-10-22T12:42:36.575Z"
   },
   {
    "duration": 7,
    "start_time": "2022-10-22T12:42:36.592Z"
   },
   {
    "duration": 224,
    "start_time": "2022-10-22T12:42:36.609Z"
   },
   {
    "duration": 254,
    "start_time": "2022-10-22T12:42:38.533Z"
   },
   {
    "duration": 180,
    "start_time": "2022-10-22T12:42:52.766Z"
   },
   {
    "duration": 212,
    "start_time": "2022-10-22T12:45:28.856Z"
   },
   {
    "duration": 217,
    "start_time": "2022-10-22T12:45:57.880Z"
   },
   {
    "duration": 238,
    "start_time": "2022-10-22T12:46:08.706Z"
   },
   {
    "duration": 218,
    "start_time": "2022-10-22T12:47:01.246Z"
   },
   {
    "duration": 386,
    "start_time": "2022-10-22T12:47:41.672Z"
   },
   {
    "duration": 289,
    "start_time": "2022-10-22T12:48:13.251Z"
   },
   {
    "duration": 324,
    "start_time": "2022-10-22T12:48:46.613Z"
   },
   {
    "duration": 111,
    "start_time": "2022-10-22T12:49:50.852Z"
   },
   {
    "duration": 3,
    "start_time": "2022-10-22T12:49:59.544Z"
   },
   {
    "duration": 44,
    "start_time": "2022-10-22T12:49:59.549Z"
   },
   {
    "duration": 5,
    "start_time": "2022-10-22T12:49:59.595Z"
   },
   {
    "duration": 386,
    "start_time": "2022-10-22T12:49:59.601Z"
   },
   {
    "duration": 332,
    "start_time": "2022-10-22T12:49:59.989Z"
   },
   {
    "duration": 184,
    "start_time": "2022-10-22T12:50:00.324Z"
   },
   {
    "duration": 12,
    "start_time": "2022-10-22T12:50:00.510Z"
   },
   {
    "duration": 26,
    "start_time": "2022-10-22T12:50:00.524Z"
   },
   {
    "duration": 24,
    "start_time": "2022-10-22T12:50:00.552Z"
   },
   {
    "duration": 20,
    "start_time": "2022-10-22T12:50:00.577Z"
   },
   {
    "duration": 27,
    "start_time": "2022-10-22T12:50:00.600Z"
   },
   {
    "duration": 24,
    "start_time": "2022-10-22T12:50:00.628Z"
   },
   {
    "duration": 31,
    "start_time": "2022-10-22T12:50:00.653Z"
   },
   {
    "duration": 20,
    "start_time": "2022-10-22T12:50:00.686Z"
   },
   {
    "duration": 232,
    "start_time": "2022-10-22T12:50:00.708Z"
   },
   {
    "duration": 227,
    "start_time": "2022-10-22T12:50:00.942Z"
   },
   {
    "duration": 228,
    "start_time": "2022-10-22T12:50:01.170Z"
   },
   {
    "duration": 428,
    "start_time": "2022-10-22T12:50:01.399Z"
   },
   {
    "duration": 286,
    "start_time": "2022-10-22T12:50:01.829Z"
   },
   {
    "duration": 326,
    "start_time": "2022-10-22T12:50:02.117Z"
   },
   {
    "duration": 16,
    "start_time": "2022-10-22T12:50:02.444Z"
   },
   {
    "duration": 363,
    "start_time": "2022-10-22T12:50:04.708Z"
   },
   {
    "duration": 401,
    "start_time": "2022-10-22T12:50:27.556Z"
   },
   {
    "duration": 106,
    "start_time": "2022-10-22T12:51:17.528Z"
   },
   {
    "duration": 6,
    "start_time": "2022-10-22T12:51:25.271Z"
   },
   {
    "duration": 13,
    "start_time": "2022-10-22T12:51:26.253Z"
   },
   {
    "duration": 381,
    "start_time": "2022-10-22T12:51:28.534Z"
   },
   {
    "duration": 5,
    "start_time": "2022-10-22T12:51:40.314Z"
   },
   {
    "duration": 27,
    "start_time": "2022-10-22T12:51:42.499Z"
   },
   {
    "duration": 73,
    "start_time": "2022-10-22T12:52:30.601Z"
   },
   {
    "duration": 50,
    "start_time": "2022-10-22T12:56:10.306Z"
   },
   {
    "duration": 226,
    "start_time": "2022-10-22T13:01:34.137Z"
   },
   {
    "duration": 297,
    "start_time": "2022-10-22T13:04:48.575Z"
   },
   {
    "duration": 271,
    "start_time": "2022-10-22T13:12:00.821Z"
   },
   {
    "duration": 364,
    "start_time": "2022-10-22T13:24:12.893Z"
   },
   {
    "duration": 397,
    "start_time": "2022-10-22T13:36:12.181Z"
   },
   {
    "duration": 411,
    "start_time": "2022-10-22T13:36:28.981Z"
   },
   {
    "duration": 96,
    "start_time": "2022-10-22T15:06:48.870Z"
   },
   {
    "duration": 10,
    "start_time": "2022-10-22T15:20:53.512Z"
   },
   {
    "duration": 3,
    "start_time": "2022-10-22T15:33:06.129Z"
   },
   {
    "duration": 44,
    "start_time": "2022-10-22T15:33:06.134Z"
   },
   {
    "duration": 6,
    "start_time": "2022-10-22T15:33:06.180Z"
   },
   {
    "duration": 400,
    "start_time": "2022-10-22T15:33:06.188Z"
   },
   {
    "duration": 337,
    "start_time": "2022-10-22T15:33:06.590Z"
   },
   {
    "duration": 168,
    "start_time": "2022-10-22T15:33:06.929Z"
   },
   {
    "duration": 23,
    "start_time": "2022-10-22T15:33:07.098Z"
   },
   {
    "duration": 9,
    "start_time": "2022-10-22T15:33:07.122Z"
   },
   {
    "duration": 6,
    "start_time": "2022-10-22T15:33:07.133Z"
   },
   {
    "duration": 10,
    "start_time": "2022-10-22T15:33:07.141Z"
   },
   {
    "duration": 12,
    "start_time": "2022-10-22T15:33:07.154Z"
   },
   {
    "duration": 8,
    "start_time": "2022-10-22T15:33:07.167Z"
   },
   {
    "duration": 13,
    "start_time": "2022-10-22T15:33:07.176Z"
   },
   {
    "duration": 4,
    "start_time": "2022-10-22T15:33:07.209Z"
   },
   {
    "duration": 240,
    "start_time": "2022-10-22T15:33:07.215Z"
   },
   {
    "duration": 230,
    "start_time": "2022-10-22T15:33:07.456Z"
   },
   {
    "duration": 229,
    "start_time": "2022-10-22T15:33:07.688Z"
   },
   {
    "duration": 454,
    "start_time": "2022-10-22T15:33:07.919Z"
   },
   {
    "duration": 257,
    "start_time": "2022-10-22T15:33:08.375Z"
   },
   {
    "duration": 317,
    "start_time": "2022-10-22T15:33:08.634Z"
   },
   {
    "duration": 11,
    "start_time": "2022-10-22T15:33:08.952Z"
   },
   {
    "duration": 416,
    "start_time": "2022-10-22T15:33:08.965Z"
   },
   {
    "duration": 5,
    "start_time": "2022-10-22T15:33:09.383Z"
   },
   {
    "duration": 22,
    "start_time": "2022-10-22T15:33:09.390Z"
   },
   {
    "duration": 386,
    "start_time": "2022-10-22T15:33:09.414Z"
   },
   {
    "duration": 402,
    "start_time": "2022-10-22T15:33:09.802Z"
   },
   {
    "duration": 10,
    "start_time": "2022-10-22T15:33:10.208Z"
   },
   {
    "duration": 31,
    "start_time": "2022-10-22T15:33:10.220Z"
   },
   {
    "duration": 11,
    "start_time": "2022-10-22T15:33:10.254Z"
   },
   {
    "duration": 13,
    "start_time": "2022-10-22T15:33:10.267Z"
   },
   {
    "duration": 0,
    "start_time": "2022-10-22T15:33:10.282Z"
   },
   {
    "duration": 0,
    "start_time": "2022-10-22T15:33:10.284Z"
   },
   {
    "duration": 11,
    "start_time": "2022-10-22T15:33:13.498Z"
   },
   {
    "duration": 11,
    "start_time": "2022-10-22T15:33:21.335Z"
   },
   {
    "duration": 1025,
    "start_time": "2022-10-22T15:33:45.825Z"
   },
   {
    "duration": 3,
    "start_time": "2022-10-22T15:33:52.138Z"
   },
   {
    "duration": 42,
    "start_time": "2022-10-22T15:33:52.145Z"
   },
   {
    "duration": 7,
    "start_time": "2022-10-22T15:33:52.189Z"
   },
   {
    "duration": 398,
    "start_time": "2022-10-22T15:33:52.198Z"
   },
   {
    "duration": 357,
    "start_time": "2022-10-22T15:33:52.597Z"
   },
   {
    "duration": 181,
    "start_time": "2022-10-22T15:33:52.955Z"
   },
   {
    "duration": 13,
    "start_time": "2022-10-22T15:33:53.138Z"
   },
   {
    "duration": 6,
    "start_time": "2022-10-22T15:33:53.152Z"
   },
   {
    "duration": 4,
    "start_time": "2022-10-22T15:33:53.160Z"
   },
   {
    "duration": 8,
    "start_time": "2022-10-22T15:33:53.166Z"
   },
   {
    "duration": 41,
    "start_time": "2022-10-22T15:33:53.177Z"
   },
   {
    "duration": 4,
    "start_time": "2022-10-22T15:33:53.219Z"
   },
   {
    "duration": 14,
    "start_time": "2022-10-22T15:33:53.225Z"
   },
   {
    "duration": 6,
    "start_time": "2022-10-22T15:33:53.240Z"
   },
   {
    "duration": 259,
    "start_time": "2022-10-22T15:33:53.247Z"
   },
   {
    "duration": 300,
    "start_time": "2022-10-22T15:33:53.509Z"
   },
   {
    "duration": 234,
    "start_time": "2022-10-22T15:33:53.811Z"
   },
   {
    "duration": 401,
    "start_time": "2022-10-22T15:33:54.047Z"
   },
   {
    "duration": 310,
    "start_time": "2022-10-22T15:33:54.450Z"
   },
   {
    "duration": 313,
    "start_time": "2022-10-22T15:33:54.761Z"
   },
   {
    "duration": 11,
    "start_time": "2022-10-22T15:33:55.075Z"
   },
   {
    "duration": 411,
    "start_time": "2022-10-22T15:33:55.087Z"
   },
   {
    "duration": 11,
    "start_time": "2022-10-22T15:33:55.499Z"
   },
   {
    "duration": 19,
    "start_time": "2022-10-22T15:33:55.517Z"
   },
   {
    "duration": 407,
    "start_time": "2022-10-22T15:33:55.537Z"
   },
   {
    "duration": 435,
    "start_time": "2022-10-22T15:33:55.945Z"
   },
   {
    "duration": 5,
    "start_time": "2022-10-22T15:33:56.381Z"
   },
   {
    "duration": 43,
    "start_time": "2022-10-22T15:33:56.387Z"
   },
   {
    "duration": 10,
    "start_time": "2022-10-22T15:33:56.433Z"
   },
   {
    "duration": 128,
    "start_time": "2022-10-22T15:33:56.444Z"
   },
   {
    "duration": 0,
    "start_time": "2022-10-22T15:33:56.574Z"
   },
   {
    "duration": 0,
    "start_time": "2022-10-22T15:33:56.576Z"
   },
   {
    "duration": 0,
    "start_time": "2022-10-22T15:33:56.577Z"
   },
   {
    "duration": 9,
    "start_time": "2022-10-22T15:35:07.843Z"
   },
   {
    "duration": 9,
    "start_time": "2022-10-22T15:35:20.547Z"
   },
   {
    "duration": 7,
    "start_time": "2022-10-22T15:35:20.558Z"
   },
   {
    "duration": 23,
    "start_time": "2022-10-22T15:35:20.566Z"
   },
   {
    "duration": 14,
    "start_time": "2022-10-22T15:35:20.590Z"
   },
   {
    "duration": 44,
    "start_time": "2022-10-23T09:12:37.094Z"
   },
   {
    "duration": 1128,
    "start_time": "2022-10-23T09:12:41.329Z"
   },
   {
    "duration": 224,
    "start_time": "2022-10-23T09:12:42.459Z"
   },
   {
    "duration": 4,
    "start_time": "2022-10-23T09:12:42.685Z"
   },
   {
    "duration": 394,
    "start_time": "2022-10-23T09:12:42.691Z"
   },
   {
    "duration": 326,
    "start_time": "2022-10-23T09:12:43.087Z"
   },
   {
    "duration": 177,
    "start_time": "2022-10-23T09:12:43.415Z"
   },
   {
    "duration": 12,
    "start_time": "2022-10-23T09:12:43.594Z"
   },
   {
    "duration": 7,
    "start_time": "2022-10-23T09:12:43.607Z"
   },
   {
    "duration": 8,
    "start_time": "2022-10-23T09:12:43.616Z"
   },
   {
    "duration": 12,
    "start_time": "2022-10-23T09:12:43.626Z"
   },
   {
    "duration": 47,
    "start_time": "2022-10-23T09:12:43.640Z"
   },
   {
    "duration": 26,
    "start_time": "2022-10-23T09:12:43.689Z"
   },
   {
    "duration": 15,
    "start_time": "2022-10-23T09:12:43.716Z"
   },
   {
    "duration": 5,
    "start_time": "2022-10-23T09:12:43.734Z"
   },
   {
    "duration": 215,
    "start_time": "2022-10-23T09:12:43.741Z"
   },
   {
    "duration": 272,
    "start_time": "2022-10-23T09:12:43.958Z"
   },
   {
    "duration": 223,
    "start_time": "2022-10-23T09:12:44.232Z"
   },
   {
    "duration": 405,
    "start_time": "2022-10-23T09:12:47.454Z"
   },
   {
    "duration": 384,
    "start_time": "2022-10-23T09:12:50.531Z"
   },
   {
    "duration": 247,
    "start_time": "2022-10-23T09:12:50.916Z"
   },
   {
    "duration": 331,
    "start_time": "2022-10-23T09:12:51.164Z"
   },
   {
    "duration": 11,
    "start_time": "2022-10-23T09:12:51.497Z"
   },
   {
    "duration": 439,
    "start_time": "2022-10-23T09:12:51.509Z"
   },
   {
    "duration": 7,
    "start_time": "2022-10-23T09:12:51.950Z"
   },
   {
    "duration": 27,
    "start_time": "2022-10-23T09:12:51.958Z"
   },
   {
    "duration": 383,
    "start_time": "2022-10-23T09:12:51.987Z"
   },
   {
    "duration": 403,
    "start_time": "2022-10-23T09:12:52.371Z"
   },
   {
    "duration": 10,
    "start_time": "2022-10-23T09:12:52.776Z"
   },
   {
    "duration": 27,
    "start_time": "2022-10-23T09:12:52.788Z"
   },
   {
    "duration": 11,
    "start_time": "2022-10-23T09:12:52.816Z"
   },
   {
    "duration": 8,
    "start_time": "2022-10-23T09:12:52.828Z"
   },
   {
    "duration": 13,
    "start_time": "2022-10-23T09:12:52.838Z"
   },
   {
    "duration": 42,
    "start_time": "2022-10-23T09:12:52.852Z"
   },
   {
    "duration": 15,
    "start_time": "2022-10-23T09:12:52.895Z"
   },
   {
    "duration": 0,
    "start_time": "2022-10-23T09:15:49.157Z"
   },
   {
    "duration": 1285,
    "start_time": "2022-10-23T09:15:59.657Z"
   },
   {
    "duration": 337,
    "start_time": "2022-10-23T09:17:08.273Z"
   },
   {
    "duration": 3,
    "start_time": "2022-10-23T09:35:18.228Z"
   },
   {
    "duration": 6,
    "start_time": "2022-10-23T09:37:00.471Z"
   },
   {
    "duration": 6,
    "start_time": "2022-10-23T09:37:17.042Z"
   },
   {
    "duration": 12,
    "start_time": "2022-10-23T09:37:37.144Z"
   },
   {
    "duration": 5,
    "start_time": "2022-10-23T09:37:53.841Z"
   },
   {
    "duration": 1093,
    "start_time": "2022-10-23T09:46:24.800Z"
   },
   {
    "duration": 11,
    "start_time": "2022-10-23T09:47:00.594Z"
   },
   {
    "duration": 12,
    "start_time": "2022-10-23T10:00:00.732Z"
   },
   {
    "duration": 11,
    "start_time": "2022-10-23T10:01:20.666Z"
   },
   {
    "duration": 8,
    "start_time": "2022-10-23T10:22:03.930Z"
   },
   {
    "duration": 11,
    "start_time": "2022-10-23T10:22:44.360Z"
   },
   {
    "duration": 7,
    "start_time": "2022-10-23T10:22:58.864Z"
   },
   {
    "duration": 9,
    "start_time": "2022-10-23T10:35:42.210Z"
   },
   {
    "duration": 8,
    "start_time": "2022-10-23T10:35:52.183Z"
   },
   {
    "duration": 8,
    "start_time": "2022-10-23T10:36:12.553Z"
   },
   {
    "duration": 8,
    "start_time": "2022-10-23T10:36:45.762Z"
   },
   {
    "duration": 14,
    "start_time": "2022-10-23T10:38:06.579Z"
   },
   {
    "duration": 7,
    "start_time": "2022-10-23T10:38:12.565Z"
   },
   {
    "duration": 6,
    "start_time": "2022-10-23T10:38:21.455Z"
   },
   {
    "duration": 13,
    "start_time": "2022-10-23T10:39:26.162Z"
   },
   {
    "duration": 10,
    "start_time": "2022-10-23T10:39:54.338Z"
   },
   {
    "duration": 7,
    "start_time": "2022-10-23T10:41:12.461Z"
   },
   {
    "duration": 7,
    "start_time": "2022-10-23T10:41:29.561Z"
   },
   {
    "duration": 7,
    "start_time": "2022-10-23T10:41:35.387Z"
   },
   {
    "duration": 8,
    "start_time": "2022-10-23T10:41:45.278Z"
   },
   {
    "duration": 9,
    "start_time": "2022-10-23T10:42:02.105Z"
   },
   {
    "duration": 8,
    "start_time": "2022-10-23T10:42:09.135Z"
   },
   {
    "duration": 8,
    "start_time": "2022-10-23T10:42:14.147Z"
   },
   {
    "duration": 16,
    "start_time": "2022-10-23T10:43:22.476Z"
   },
   {
    "duration": 13,
    "start_time": "2022-10-23T10:43:49.110Z"
   },
   {
    "duration": 10,
    "start_time": "2022-10-23T10:43:53.859Z"
   },
   {
    "duration": 76,
    "start_time": "2022-10-23T10:44:51.166Z"
   },
   {
    "duration": 9,
    "start_time": "2022-10-23T11:37:14.061Z"
   },
   {
    "duration": 54,
    "start_time": "2022-10-23T11:37:20.403Z"
   },
   {
    "duration": 12,
    "start_time": "2022-10-23T11:37:27.479Z"
   },
   {
    "duration": 273,
    "start_time": "2022-10-23T11:37:44.368Z"
   },
   {
    "duration": 69,
    "start_time": "2022-10-23T11:42:18.506Z"
   },
   {
    "duration": 9,
    "start_time": "2022-10-23T11:42:30.281Z"
   },
   {
    "duration": 14,
    "start_time": "2022-10-23T11:43:03.139Z"
   },
   {
    "duration": 68,
    "start_time": "2022-10-23T11:45:23.458Z"
   },
   {
    "duration": 1806,
    "start_time": "2022-10-23T11:45:40.268Z"
   },
   {
    "duration": 169,
    "start_time": "2022-10-23T11:46:00.838Z"
   },
   {
    "duration": 215,
    "start_time": "2022-10-23T11:46:47.728Z"
   },
   {
    "duration": 236,
    "start_time": "2022-10-23T11:47:11.935Z"
   },
   {
    "duration": 305,
    "start_time": "2022-10-23T11:47:30.527Z"
   },
   {
    "duration": 266,
    "start_time": "2022-10-23T11:52:18.457Z"
   },
   {
    "duration": 360,
    "start_time": "2022-10-23T11:52:34.963Z"
   },
   {
    "duration": 391,
    "start_time": "2022-10-23T11:53:26.394Z"
   },
   {
    "duration": 74,
    "start_time": "2022-10-23T11:55:00.081Z"
   },
   {
    "duration": 288,
    "start_time": "2022-10-23T11:55:05.493Z"
   },
   {
    "duration": 313,
    "start_time": "2022-10-23T11:58:02.836Z"
   },
   {
    "duration": 19,
    "start_time": "2022-10-23T11:59:49.128Z"
   },
   {
    "duration": 22,
    "start_time": "2022-10-23T12:00:09.203Z"
   },
   {
    "duration": 25,
    "start_time": "2022-10-23T12:01:30.978Z"
   },
   {
    "duration": 21,
    "start_time": "2022-10-23T12:02:21.297Z"
   },
   {
    "duration": 20,
    "start_time": "2022-10-23T12:02:38.544Z"
   },
   {
    "duration": 509,
    "start_time": "2022-10-23T12:06:42.852Z"
   },
   {
    "duration": 633,
    "start_time": "2022-10-23T12:07:28.339Z"
   },
   {
    "duration": 522,
    "start_time": "2022-10-23T12:08:01.128Z"
   },
   {
    "duration": 601,
    "start_time": "2022-10-23T12:08:12.580Z"
   },
   {
    "duration": 596,
    "start_time": "2022-10-23T12:08:19.489Z"
   }
  ],
  "kernelspec": {
   "display_name": "Python 3 (ipykernel)",
   "language": "python",
   "name": "python3"
  },
  "language_info": {
   "codemirror_mode": {
    "name": "ipython",
    "version": 3
   },
   "file_extension": ".py",
   "mimetype": "text/x-python",
   "name": "python",
   "nbconvert_exporter": "python",
   "pygments_lexer": "ipython3",
   "version": "3.9.12"
  },
  "toc": {
   "base_numbering": 1,
   "nav_menu": {},
   "number_sections": true,
   "sideBar": true,
   "skip_h1_title": true,
   "title_cell": "Table of Contents",
   "title_sidebar": "Contents",
   "toc_cell": true,
   "toc_position": {
    "height": "585.947px",
    "left": "30px",
    "top": "111.12px",
    "width": "342px"
   },
   "toc_section_display": true,
   "toc_window_display": true
  }
 },
 "nbformat": 4,
 "nbformat_minor": 2
}
